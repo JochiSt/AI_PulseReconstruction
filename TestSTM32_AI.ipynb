{
  "nbformat": 4,
  "nbformat_minor": 0,
  "metadata": {
    "colab": {
      "name": "TestSTM32_AI.ipynb",
      "provenance": [],
      "collapsed_sections": [],
      "authorship_tag": "ABX9TyPq2g1oNRcpoQhu0d/RLGdj",
      "include_colab_link": true
    },
    "kernelspec": {
      "name": "python3",
      "display_name": "Python 3"
    },
    "language_info": {
      "name": "python"
    }
  },
  "cells": [
    {
      "cell_type": "markdown",
      "metadata": {
        "id": "view-in-github",
        "colab_type": "text"
      },
      "source": [
        "<a href=\"https://colab.research.google.com/github/JochiSt/AI_PulseReconstruction/blob/main/TestSTM32_AI.ipynb\" target=\"_parent\"><img src=\"https://colab.research.google.com/assets/colab-badge.svg\" alt=\"Open In Colab\"/></a>"
      ]
    },
    {
      "cell_type": "markdown",
      "source": [
        "# Pulse recognition AI\n",
        "\n",
        "first all the imports"
      ],
      "metadata": {
        "id": "brM0YAG3Vcen"
      }
    },
    {
      "cell_type": "code",
      "execution_count": 294,
      "metadata": {
        "id": "dW80rxgzVZ8z"
      },
      "outputs": [],
      "source": [
        "import numpy as np\n",
        "import matplotlib.pyplot as plt\n",
        "from matplotlib.colors import LogNorm"
      ]
    },
    {
      "cell_type": "markdown",
      "source": [
        "## Generate template"
      ],
      "metadata": {
        "id": "XUxegHb0V0qN"
      }
    },
    {
      "cell_type": "code",
      "source": [
        "TOTAL_SAMPLES = 128\n",
        "RISING_POINTS = 4\n",
        "\n",
        "def generateTemplate(position = 0, pulse_length = 32, height=1, noise=0):\n",
        "\n",
        "  assert TOTAL_SAMPLES - pulse_length - position - RISING_POINTS * 2 > 0\n",
        "\n",
        "  # zeroes at front of the pulse\n",
        "  template = np.zeros(position)\n",
        "\n",
        "  # create rising edge\n",
        "  template = np.append(template, np.linspace(0,1,RISING_POINTS, endpoint=False))\n",
        "\n",
        "  # high part of the pulse\n",
        "  template = np.append(template, np.ones(pulse_length))\n",
        "\n",
        "  # create falling edge\n",
        "  template = np.append(template, np.linspace(1,0,RISING_POINTS, endpoint=False))\n",
        "\n",
        "  # zeroes after the pulse\n",
        "  template = np.append(template, np.zeros( TOTAL_SAMPLES - pulse_length - position - 2*RISING_POINTS))\n",
        "\n",
        "  # multiply by the height to get the right amplitude\n",
        "  template *= height\n",
        "\n",
        "  # add some noise\n",
        "  template  += noise * np.random.randn(*template.shape)\n",
        "\n",
        "  # convert to integer\n",
        "  template = template.astype(int)\n",
        "\n",
        "  return template\n",
        "\n",
        "print(\"template length: \", len(generateTemplate()))"
      ],
      "metadata": {
        "colab": {
          "base_uri": "https://localhost:8080/"
        },
        "id": "RPOJ8P9jWBRa",
        "outputId": "97814167-ea72-47f8-e4e6-ec56e5a366ad"
      },
      "execution_count": 295,
      "outputs": [
        {
          "output_type": "stream",
          "name": "stdout",
          "text": [
            "template length:  128\n"
          ]
        }
      ]
    },
    {
      "cell_type": "markdown",
      "source": [
        "Have a look at the template visually"
      ],
      "metadata": {
        "id": "I1PFw1tzV8kx"
      }
    },
    {
      "cell_type": "code",
      "source": [
        "plt.plot(generateTemplate(position = 32, pulse_length=32, height=128), 'b.')\n",
        "plt.plot(generateTemplate(position = 16, pulse_length=64, height=128), 'r.')\n",
        "plt.show()"
      ],
      "metadata": {
        "colab": {
          "base_uri": "https://localhost:8080/",
          "height": 265
        },
        "id": "L1VUYDhUWw9t",
        "outputId": "74e245c2-b093-4546-8302-9beff7ce81f0"
      },
      "execution_count": 296,
      "outputs": [
        {
          "output_type": "display_data",
          "data": {
            "image/png": "[encoded data removed]",
            "text/plain": [
              "<Figure size 432x288 with 1 Axes>"
            ]
          },
          "metadata": {
            "needs_background": "light"
          }
        }
      ]
    },
    {
      "cell_type": "markdown",
      "source": [
        "add some noise, and maybe shift the position\n",
        "\n",
        "\n",
        "\n"
      ],
      "metadata": {
        "id": "kYBulwl2XGvg"
      }
    },
    {
      "cell_type": "code",
      "source": [
        "# Plot our data\n",
        "plt.plot(generateTemplate(height=128, noise=1), 'b.')\n",
        "plt.show()"
      ],
      "metadata": {
        "id": "ouyegrmBXGJg",
        "colab": {
          "base_uri": "https://localhost:8080/",
          "height": 265
        },
        "outputId": "22a8f691-8af6-42c5-f689-ac30c7275f4a"
      },
      "execution_count": 297,
      "outputs": [
        {
          "output_type": "display_data",
          "data": {
            "image/png": "[encoded data removed]",
            "text/plain": [
              "<Figure size 432x288 with 1 Axes>"
            ]
          },
          "metadata": {
            "needs_background": "light"
          }
        }
      ]
    },
    {
      "cell_type": "markdown",
      "source": [
        "## Create Templates for recognision\n",
        "\n",
        "Generate a couple of templates, which have a pulse in them, and some without any data"
      ],
      "metadata": {
        "id": "u1emwvE7ogUq"
      }
    },
    {
      "cell_type": "code",
      "source": [
        "for i in range(10):\n",
        "  width = np.random.randint(16, 64)               # width of 16 to 64\n",
        "  position = np.random.randint(0, high=96-width) # arbitrary position\n",
        "  noise = np.random.randint(1,30)/10.             # 0.1 to 3 LSB noise\n",
        "  height = np.random.randint(32,128)              # pulse height of 32 to 128\n",
        "\n",
        "  print(position, width, noise, height)\n",
        "  plt.plot(generateTemplate(position = position, pulse_length = width, height=height, noise=noise))\n",
        "\n",
        "plt.show()"
      ],
      "metadata": {
        "colab": {
          "base_uri": "https://localhost:8080/",
          "height": 449
        },
        "id": "1bzxxYb7odBS",
        "outputId": "31c5fb01-f5ae-443f-f851-9f1ebc413ab7"
      },
      "execution_count": 298,
      "outputs": [
        {
          "output_type": "stream",
          "name": "stdout",
          "text": [
            "29 59 2.9 39\n",
            "33 17 0.2 118\n",
            "59 33 0.9 57\n",
            "17 43 0.2 36\n",
            "58 24 0.5 57\n",
            "40 43 2.0 116\n",
            "39 23 2.9 39\n",
            "43 19 2.4 111\n",
            "26 42 1.5 113\n",
            "4 58 2.9 59\n"
          ]
        },
        {
          "output_type": "display_data",
          "data": {
            "image/png": "[encoded data removed]",
            "text/plain": [
              "<Figure size 432x288 with 1 Axes>"
            ]
          },
          "metadata": {
            "needs_background": "light"
          }
        }
      ]
    },
    {
      "cell_type": "markdown",
      "source": [
        "# Building the ANN\n"
      ],
      "metadata": {
        "id": "gEwEaXGCzATx"
      }
    },
    {
      "cell_type": "markdown",
      "source": [
        "### Purpose of the ANN\n",
        "We want to do Pattern Recognition, based on the waveforms shown above.\n",
        "\n",
        "The output parameters, which we want to reconstruct are:\n",
        "*   Width\n",
        "*   Position\n",
        "*   height\n"
      ],
      "metadata": {
        "id": "xAJs9gcpMi9V"
      }
    },
    {
      "cell_type": "markdown",
      "source": [
        "Starting with importing all things, which we need for creating a model"
      ],
      "metadata": {
        "id": "ffHEzdBezI__"
      }
    },
    {
      "cell_type": "code",
      "source": [
        "# TensorFlow is an open source machine learning library\n",
        "import tensorflow as tf\n",
        "# Keras is TensorFlow's high-level API for deep learning\n",
        "from tensorflow import keras"
      ],
      "metadata": {
        "id": "AVbyQZoBzNxw"
      },
      "execution_count": 299,
      "outputs": []
    },
    {
      "cell_type": "code",
      "source": [
        "# number of samples for training, testing etc.\n",
        "SAMPLES = 10000"
      ],
      "metadata": {
        "id": "_2mfaOUkzo12"
      },
      "execution_count": 300,
      "outputs": []
    },
    {
      "cell_type": "markdown",
      "source": [
        "## Generate the samples\n",
        "We want to do Pattern recognition, so we have to link the waveforms to the input parameters."
      ],
      "metadata": {
        "id": "UCMepv3tzyM9"
      }
    },
    {
      "cell_type": "code",
      "source": [
        "# parameters for template generation\n",
        "P_width = (16,32)\n",
        "P_position = (16,24)\n",
        "P_height = (32, 128)"
      ],
      "metadata": {
        "id": "-g8CSmkVHUvM"
      },
      "execution_count": 301,
      "outputs": []
    },
    {
      "cell_type": "code",
      "source": [
        "# use fixed value for noise (1st try)\n",
        "noise = 1 \n",
        "\n",
        "y_values = []\n",
        "x_values = []\n",
        "\n",
        "# generate the waveforms\n",
        "for i in range(SAMPLES):\n",
        "  # use random settings\n",
        "  width = np.random.randint( *P_width )       # width\n",
        "  position = np.random.randint( *P_position ) # limit position into a certain window\n",
        "  height = np.random.randint( *P_height )     # pulse height\n",
        "\n",
        "  x_values.append( (width, position, height) )\n",
        "  y_values.append( generateTemplate(position = position, pulse_length = width, height=height, noise=noise) )\n",
        "\n",
        "# debug printouts\n",
        "#print(x_values[:2])\n",
        "#print(y_values[:2])"
      ],
      "metadata": {
        "id": "6uUa9b2pzviJ"
      },
      "execution_count": 302,
      "outputs": []
    },
    {
      "cell_type": "markdown",
      "source": [
        "### Look at the training data\n",
        "Just make a 2D histogram of all templates."
      ],
      "metadata": {
        "id": "M54DYG8PLBYg"
      }
    },
    {
      "cell_type": "code",
      "source": [
        "if True:\n",
        "  plot_x = [ np.arange(128) for i in range(len(y_values)) ]\n",
        "  plot_x = np.array(plot_x)\n",
        "  plot_x = plot_x.flatten()\n",
        "  plot_y = np.array(y_values)\n",
        "  plot_y = plot_y.flatten()\n",
        "  plt.hist2d(plot_x, plot_y, bins=128, norm=LogNorm())\n",
        "  plt.show()"
      ],
      "metadata": {
        "colab": {
          "base_uri": "https://localhost:8080/",
          "height": 265
        },
        "id": "oc_SbOCaLKKe",
        "outputId": "bfb7e9e0-4c25-4e90-cba1-490063f40327"
      },
      "execution_count": 303,
      "outputs": [
        {
          "output_type": "display_data",
          "data": {
            "image/png": "[encoded data removed]",
            "text/plain": [
              "<Figure size 432x288 with 1 Axes>"
            ]
          },
          "metadata": {
            "needs_background": "light"
          }
        }
      ]
    },
    {
      "cell_type": "markdown",
      "source": [
        "## Split the waveforms into Training, Testing and Validation"
      ],
      "metadata": {
        "id": "uxBiOKO90JG_"
      }
    },
    {
      "cell_type": "code",
      "source": [
        "# We'll use 60% of our data for training and 20% for testing. The remaining 20%\n",
        "# will be used for validation. Calculate the indices of each section.\n",
        "TRAIN_SPLIT =  int(0.6 * SAMPLES)\n",
        "TEST_SPLIT = int(0.2 * SAMPLES + TRAIN_SPLIT)\n",
        "print(\"using %d points for training and %d points for testing\"%(TRAIN_SPLIT, TEST_SPLIT))\n",
        "\n",
        "# convert data into numpy arrays\n",
        "y_values = np.array(y_values) # parameters\n",
        "x_values = np.array(x_values) # waveforms\n",
        "\n",
        "# Use np.split to chop our data into three parts.\n",
        "# The second argument to np.split is an array of indices where the data will be\n",
        "# split. We provide two indices, so the data will be divided into three chunks.\n",
        "x_train, x_test, x_validate = np.split(x_values, [TRAIN_SPLIT, TEST_SPLIT])\n",
        "y_train, y_test, y_validate = np.split(y_values, [TRAIN_SPLIT, TEST_SPLIT])\n",
        "\n",
        "# Double check that our splits add up correctly\n",
        "assert (len(x_train) + len(x_validate) + len(x_test) ) ==  SAMPLES"
      ],
      "metadata": {
        "id": "_gxWfkRezVf3",
        "colab": {
          "base_uri": "https://localhost:8080/"
        },
        "outputId": "adaa1c8f-b90e-40c6-dc71-706f4e8cda25"
      },
      "execution_count": 304,
      "outputs": [
        {
          "output_type": "stream",
          "name": "stdout",
          "text": [
            "using 6000 points for training and 8000 points for testing\n"
          ]
        }
      ]
    },
    {
      "cell_type": "markdown",
      "source": [
        "## Create the ANN"
      ],
      "metadata": {
        "id": "tfIC4_-l0Cc4"
      }
    },
    {
      "cell_type": "code",
      "source": [
        "inputs = keras.Input(shape=(128,), name=\"waveform_input\")\n",
        "\n",
        "layer_cnt=0\n",
        "x = keras.layers.Dense(128, name=\"layer_%d\"%(layer_cnt))(inputs)\n",
        "layer_cnt+=1\n",
        "\n",
        "x = keras.layers.Dense(128, name=\"layer_%d\"%(layer_cnt))(x)\n",
        "layer_cnt+=1\n",
        "\n",
        "x = keras.layers.Dense(128, name=\"layer_%d\"%(layer_cnt))(x)\n",
        "layer_cnt+=1\n",
        "\n",
        "x = keras.layers.Dense(128,  name=\"layer_%d\"%(layer_cnt))(x)\n",
        "layer_cnt+=1\n",
        "\n",
        "# final layer for classification\n",
        "outputs = keras.layers.Dense(3, name=\"classification\")(x)\n",
        "\n",
        "model_1 = keras.Model(inputs=inputs, outputs=outputs)\n",
        "model_1.summary()\n",
        "\n",
        "# Compile the model using the standard 'adam' optimizer and the mean squared error or 'mse' loss function for regression.\n",
        "model_1.compile(optimizer='adam', loss='mse', metrics=['mae'])"
      ],
      "metadata": {
        "id": "FbTg1F3s0BTe",
        "colab": {
          "base_uri": "https://localhost:8080/"
        },
        "outputId": "273d7df3-0372-4626-b502-44e7873e2697"
      },
      "execution_count": 305,
      "outputs": [
        {
          "output_type": "stream",
          "name": "stdout",
          "text": [
            "Model: \"model_24\"\n",
            "_________________________________________________________________\n",
            " Layer (type)                Output Shape              Param #   \n",
            "=================================================================\n",
            " waveform_input (InputLayer)  [(None, 128)]            0         \n",
            "                                                                 \n",
            " layer_0 (Dense)             (None, 128)               16512     \n",
            "                                                                 \n",
            " layer_1 (Dense)             (None, 128)               16512     \n",
            "                                                                 \n",
            " layer_2 (Dense)             (None, 128)               16512     \n",
            "                                                                 \n",
            " layer_3 (Dense)             (None, 128)               16512     \n",
            "                                                                 \n",
            " classification (Dense)      (None, 3)                 387       \n",
            "                                                                 \n",
            "=================================================================\n",
            "Total params: 66,435\n",
            "Trainable params: 66,435\n",
            "Non-trainable params: 0\n",
            "_________________________________________________________________\n"
          ]
        }
      ]
    },
    {
      "cell_type": "markdown",
      "source": [
        "## Train the model"
      ],
      "metadata": {
        "id": "hjz2ghXbL9Ok"
      }
    },
    {
      "cell_type": "code",
      "source": [
        "# Train the model on our training data while validating on our validation set\n",
        "# remember:\n",
        "#     y = waveforms\n",
        "#     x = truth parameters\n",
        "# just do some trainings to see, whether this structure works or not\n",
        "\n",
        "history_1 = model_1.fit(y_train, x_train, epochs=4, batch_size=25, validation_data=(y_validate, x_validate))"
      ],
      "metadata": {
        "colab": {
          "base_uri": "https://localhost:8080/"
        },
        "id": "Zsx72tmvxNnj",
        "outputId": "6e9d7c32-7153-4da0-fa3c-54a0518f68a5"
      },
      "execution_count": 306,
      "outputs": [
        {
          "output_type": "stream",
          "name": "stdout",
          "text": [
            "Epoch 1/4\n",
            "240/240 [==============================] - 1s 4ms/step - loss: 127.6884 - mae: 6.6649 - val_loss: 36.5148 - val_mae: 4.4767\n",
            "Epoch 2/4\n",
            "240/240 [==============================] - 1s 4ms/step - loss: 33.6286 - mae: 4.4102 - val_loss: 36.7405 - val_mae: 4.5231\n",
            "Epoch 3/4\n",
            "240/240 [==============================] - 1s 3ms/step - loss: 27.0458 - mae: 3.9636 - val_loss: 23.0131 - val_mae: 3.5205\n",
            "Epoch 4/4\n",
            "240/240 [==============================] - 1s 3ms/step - loss: 21.0259 - mae: 3.4262 - val_loss: 16.7256 - val_mae: 3.0787\n"
          ]
        }
      ]
    },
    {
      "cell_type": "code",
      "source": [
        "# fully train the network\n",
        "history_1 = model_1.fit(y_train, x_train, epochs=500, batch_size=50, validation_data=(y_validate, x_validate))\n",
        "\n",
        "# Save the model to disk\n",
        "!mkdir -p saved_model\n",
        "model_1.save('saved_model/STM32_AI_Test')"
      ],
      "metadata": {
        "colab": {
          "base_uri": "https://localhost:8080/"
        },
        "id": "xMQfeuZ_L7QU",
        "outputId": "03e065f4-a368-4366-ea1f-c7ed6dab967c"
      },
      "execution_count": 307,
      "outputs": [
        {
          "output_type": "stream",
          "name": "stdout",
          "text": [
            "Epoch 1/500\n",
            "120/120 [==============================] - 1s 6ms/step - loss: 15.5406 - mae: 2.8560 - val_loss: 10.8407 - val_mae: 2.3436\n",
            "Epoch 2/500\n",
            "120/120 [==============================] - 1s 5ms/step - loss: 9.8008 - mae: 2.2448 - val_loss: 6.4676 - val_mae: 1.8592\n",
            "Epoch 3/500\n",
            "120/120 [==============================] - 1s 6ms/step - loss: 6.2547 - mae: 1.8034 - val_loss: 3.5730 - val_mae: 1.3520\n",
            "Epoch 4/500\n",
            "120/120 [==============================] - 1s 6ms/step - loss: 7.1411 - mae: 1.8965 - val_loss: 5.0845 - val_mae: 1.7068\n",
            "Epoch 5/500\n",
            "120/120 [==============================] - 1s 5ms/step - loss: 5.9205 - mae: 1.7136 - val_loss: 6.2913 - val_mae: 1.7426\n",
            "Epoch 6/500\n",
            "120/120 [==============================] - 1s 5ms/step - loss: 3.9034 - mae: 1.3739 - val_loss: 1.9430 - val_mae: 1.0257\n",
            "Epoch 7/500\n",
            "120/120 [==============================] - 1s 5ms/step - loss: 2.7512 - mae: 1.1865 - val_loss: 2.9382 - val_mae: 1.3147\n",
            "Epoch 8/500\n",
            "120/120 [==============================] - 1s 5ms/step - loss: 2.2909 - mae: 1.0985 - val_loss: 3.1293 - val_mae: 1.3491\n",
            "Epoch 9/500\n",
            "120/120 [==============================] - 1s 5ms/step - loss: 3.4273 - mae: 1.3301 - val_loss: 5.4875 - val_mae: 1.7715\n",
            "Epoch 10/500\n",
            "120/120 [==============================] - 1s 4ms/step - loss: 2.2107 - mae: 1.0638 - val_loss: 1.4345 - val_mae: 0.8186\n",
            "Epoch 11/500\n",
            "120/120 [==============================] - 1s 5ms/step - loss: 2.0475 - mae: 1.0310 - val_loss: 1.5990 - val_mae: 0.9254\n",
            "Epoch 12/500\n",
            "120/120 [==============================] - 1s 5ms/step - loss: 2.8470 - mae: 1.2034 - val_loss: 1.8097 - val_mae: 0.9703\n",
            "Epoch 13/500\n",
            "120/120 [==============================] - 1s 5ms/step - loss: 2.6329 - mae: 1.1628 - val_loss: 2.6884 - val_mae: 1.1647\n",
            "Epoch 14/500\n",
            "120/120 [==============================] - 1s 5ms/step - loss: 1.9176 - mae: 0.9838 - val_loss: 1.3316 - val_mae: 0.8244\n",
            "Epoch 15/500\n",
            "120/120 [==============================] - 1s 5ms/step - loss: 1.7044 - mae: 0.9361 - val_loss: 2.0369 - val_mae: 1.0654\n",
            "Epoch 16/500\n",
            "120/120 [==============================] - 1s 4ms/step - loss: 1.4372 - mae: 0.8540 - val_loss: 1.6570 - val_mae: 0.9040\n",
            "Epoch 17/500\n",
            "120/120 [==============================] - 1s 5ms/step - loss: 3.5234 - mae: 1.4065 - val_loss: 2.5948 - val_mae: 1.2834\n",
            "Epoch 18/500\n",
            "120/120 [==============================] - 1s 5ms/step - loss: 1.7742 - mae: 0.9681 - val_loss: 1.5003 - val_mae: 0.8771\n",
            "Epoch 19/500\n",
            "120/120 [==============================] - 1s 5ms/step - loss: 1.5892 - mae: 0.9050 - val_loss: 1.8408 - val_mae: 1.0841\n",
            "Epoch 20/500\n",
            "120/120 [==============================] - 1s 5ms/step - loss: 1.6511 - mae: 0.9392 - val_loss: 1.2129 - val_mae: 0.7499\n",
            "Epoch 21/500\n",
            "120/120 [==============================] - 1s 4ms/step - loss: 1.7246 - mae: 0.9543 - val_loss: 1.2534 - val_mae: 0.7659\n",
            "Epoch 22/500\n",
            "120/120 [==============================] - 1s 5ms/step - loss: 1.7532 - mae: 0.9568 - val_loss: 1.2536 - val_mae: 0.7728\n",
            "Epoch 23/500\n",
            "120/120 [==============================] - 1s 5ms/step - loss: 1.6507 - mae: 0.9447 - val_loss: 1.2459 - val_mae: 0.7542\n",
            "Epoch 24/500\n",
            "120/120 [==============================] - 1s 5ms/step - loss: 1.6574 - mae: 0.9532 - val_loss: 1.3131 - val_mae: 0.8258\n",
            "Epoch 25/500\n",
            "120/120 [==============================] - 1s 5ms/step - loss: 1.6035 - mae: 0.9141 - val_loss: 1.4575 - val_mae: 0.8432\n",
            "Epoch 26/500\n",
            "120/120 [==============================] - 1s 5ms/step - loss: 1.9314 - mae: 1.0266 - val_loss: 1.6415 - val_mae: 0.9550\n",
            "Epoch 27/500\n",
            "120/120 [==============================] - 1s 5ms/step - loss: 2.4818 - mae: 1.1801 - val_loss: 3.0332 - val_mae: 1.3452\n",
            "Epoch 28/500\n",
            "120/120 [==============================] - 1s 5ms/step - loss: 2.2553 - mae: 1.1422 - val_loss: 1.5917 - val_mae: 0.9057\n",
            "Epoch 29/500\n",
            "120/120 [==============================] - 1s 5ms/step - loss: 1.5247 - mae: 0.8930 - val_loss: 1.4285 - val_mae: 0.8741\n",
            "Epoch 30/500\n",
            "120/120 [==============================] - 1s 5ms/step - loss: 1.8598 - mae: 0.9943 - val_loss: 1.4879 - val_mae: 0.8458\n",
            "Epoch 31/500\n",
            "120/120 [==============================] - 1s 5ms/step - loss: 1.7231 - mae: 0.9637 - val_loss: 1.5135 - val_mae: 0.8390\n",
            "Epoch 32/500\n",
            "120/120 [==============================] - 1s 5ms/step - loss: 1.5738 - mae: 0.9093 - val_loss: 1.5857 - val_mae: 0.9343\n",
            "Epoch 33/500\n",
            "120/120 [==============================] - 1s 5ms/step - loss: 1.7461 - mae: 0.9612 - val_loss: 1.2017 - val_mae: 0.7372\n",
            "Epoch 34/500\n",
            "120/120 [==============================] - 1s 5ms/step - loss: 1.7012 - mae: 0.9512 - val_loss: 1.9600 - val_mae: 1.0602\n",
            "Epoch 35/500\n",
            "120/120 [==============================] - 1s 5ms/step - loss: 1.5054 - mae: 0.8985 - val_loss: 1.8156 - val_mae: 1.0675\n",
            "Epoch 36/500\n",
            "120/120 [==============================] - 1s 5ms/step - loss: 1.7504 - mae: 0.9955 - val_loss: 2.4892 - val_mae: 1.2234\n",
            "Epoch 37/500\n",
            "120/120 [==============================] - 1s 5ms/step - loss: 1.8120 - mae: 0.9954 - val_loss: 1.3712 - val_mae: 0.8714\n",
            "Epoch 38/500\n",
            "120/120 [==============================] - 1s 5ms/step - loss: 1.7204 - mae: 0.9803 - val_loss: 2.0428 - val_mae: 1.1312\n",
            "Epoch 39/500\n",
            "120/120 [==============================] - 1s 5ms/step - loss: 2.2746 - mae: 1.1146 - val_loss: 9.0715 - val_mae: 2.0602\n",
            "Epoch 40/500\n",
            "120/120 [==============================] - 1s 5ms/step - loss: 2.9508 - mae: 1.2840 - val_loss: 1.5300 - val_mae: 0.8905\n",
            "Epoch 41/500\n",
            "120/120 [==============================] - 1s 5ms/step - loss: 1.4495 - mae: 0.8600 - val_loss: 1.2510 - val_mae: 0.8005\n",
            "Epoch 42/500\n",
            "120/120 [==============================] - 1s 6ms/step - loss: 1.3784 - mae: 0.8428 - val_loss: 1.3163 - val_mae: 0.8057\n",
            "Epoch 43/500\n",
            "120/120 [==============================] - 1s 5ms/step - loss: 1.4386 - mae: 0.8688 - val_loss: 1.2898 - val_mae: 0.7839\n",
            "Epoch 44/500\n",
            "120/120 [==============================] - 1s 5ms/step - loss: 1.4681 - mae: 0.8808 - val_loss: 1.3821 - val_mae: 0.8332\n",
            "Epoch 45/500\n",
            "120/120 [==============================] - 1s 5ms/step - loss: 1.3820 - mae: 0.8547 - val_loss: 1.3939 - val_mae: 0.8521\n",
            "Epoch 46/500\n",
            "120/120 [==============================] - 1s 5ms/step - loss: 1.3162 - mae: 0.8259 - val_loss: 1.2556 - val_mae: 0.8066\n",
            "Epoch 47/500\n",
            "120/120 [==============================] - 1s 6ms/step - loss: 1.6594 - mae: 0.9603 - val_loss: 1.2675 - val_mae: 0.8108\n",
            "Epoch 48/500\n",
            "120/120 [==============================] - 1s 5ms/step - loss: 1.6404 - mae: 0.9527 - val_loss: 1.9765 - val_mae: 1.0885\n",
            "Epoch 49/500\n",
            "120/120 [==============================] - 1s 5ms/step - loss: 1.4933 - mae: 0.8947 - val_loss: 1.2537 - val_mae: 0.7642\n",
            "Epoch 50/500\n",
            "120/120 [==============================] - 1s 5ms/step - loss: 1.5543 - mae: 0.9208 - val_loss: 1.3159 - val_mae: 0.8076\n",
            "Epoch 51/500\n",
            "120/120 [==============================] - 1s 5ms/step - loss: 1.3993 - mae: 0.8559 - val_loss: 2.1933 - val_mae: 1.1151\n",
            "Epoch 52/500\n",
            "120/120 [==============================] - 1s 5ms/step - loss: 1.4833 - mae: 0.8888 - val_loss: 1.6991 - val_mae: 0.9948\n",
            "Epoch 53/500\n",
            "120/120 [==============================] - 1s 5ms/step - loss: 2.8934 - mae: 1.2290 - val_loss: 1.6162 - val_mae: 0.9390\n",
            "Epoch 54/500\n",
            "120/120 [==============================] - 1s 5ms/step - loss: 1.5172 - mae: 0.9039 - val_loss: 1.4196 - val_mae: 0.8468\n",
            "Epoch 55/500\n",
            "120/120 [==============================] - 1s 5ms/step - loss: 1.4334 - mae: 0.8683 - val_loss: 1.2331 - val_mae: 0.7588\n",
            "Epoch 56/500\n",
            "120/120 [==============================] - 1s 5ms/step - loss: 1.4694 - mae: 0.8822 - val_loss: 1.2120 - val_mae: 0.7575\n",
            "Epoch 57/500\n",
            "120/120 [==============================] - 1s 5ms/step - loss: 1.3354 - mae: 0.8404 - val_loss: 1.1668 - val_mae: 0.7368\n",
            "Epoch 58/500\n",
            "120/120 [==============================] - 1s 5ms/step - loss: 1.3277 - mae: 0.8308 - val_loss: 1.9412 - val_mae: 1.0542\n",
            "Epoch 59/500\n",
            "120/120 [==============================] - 1s 6ms/step - loss: 1.4292 - mae: 0.8849 - val_loss: 1.6116 - val_mae: 0.9456\n",
            "Epoch 60/500\n",
            "120/120 [==============================] - 1s 6ms/step - loss: 1.4008 - mae: 0.8733 - val_loss: 1.3693 - val_mae: 0.8664\n",
            "Epoch 61/500\n",
            "120/120 [==============================] - 1s 5ms/step - loss: 1.3761 - mae: 0.8553 - val_loss: 1.4633 - val_mae: 0.8779\n",
            "Epoch 62/500\n",
            "120/120 [==============================] - 1s 5ms/step - loss: 2.6098 - mae: 1.2165 - val_loss: 4.8303 - val_mae: 1.6562\n",
            "Epoch 63/500\n",
            "120/120 [==============================] - 1s 5ms/step - loss: 1.8889 - mae: 0.9960 - val_loss: 1.4710 - val_mae: 0.8570\n",
            "Epoch 64/500\n",
            "120/120 [==============================] - 1s 6ms/step - loss: 1.3306 - mae: 0.8279 - val_loss: 1.3179 - val_mae: 0.8021\n",
            "Epoch 65/500\n",
            "120/120 [==============================] - 1s 5ms/step - loss: 1.2658 - mae: 0.8035 - val_loss: 1.2113 - val_mae: 0.7422\n",
            "Epoch 66/500\n",
            "120/120 [==============================] - 1s 6ms/step - loss: 1.4296 - mae: 0.8755 - val_loss: 1.7129 - val_mae: 0.9971\n",
            "Epoch 67/500\n",
            "120/120 [==============================] - 1s 5ms/step - loss: 1.3535 - mae: 0.8341 - val_loss: 1.6990 - val_mae: 0.9474\n",
            "Epoch 68/500\n",
            "120/120 [==============================] - 1s 5ms/step - loss: 1.5605 - mae: 0.9211 - val_loss: 1.1946 - val_mae: 0.7596\n",
            "Epoch 69/500\n",
            "120/120 [==============================] - 1s 5ms/step - loss: 1.4035 - mae: 0.8660 - val_loss: 1.5378 - val_mae: 0.9264\n",
            "Epoch 70/500\n",
            "120/120 [==============================] - 1s 5ms/step - loss: 1.4183 - mae: 0.8760 - val_loss: 1.4346 - val_mae: 0.8570\n",
            "Epoch 71/500\n",
            "120/120 [==============================] - 1s 5ms/step - loss: 1.4748 - mae: 0.8991 - val_loss: 1.3412 - val_mae: 0.8510\n",
            "Epoch 72/500\n",
            "120/120 [==============================] - 1s 5ms/step - loss: 1.5614 - mae: 0.9315 - val_loss: 1.8063 - val_mae: 0.9918\n",
            "Epoch 73/500\n",
            "120/120 [==============================] - 1s 5ms/step - loss: 1.5043 - mae: 0.9137 - val_loss: 1.4176 - val_mae: 0.8665\n",
            "Epoch 74/500\n",
            "120/120 [==============================] - 1s 5ms/step - loss: 1.5437 - mae: 0.9284 - val_loss: 1.4568 - val_mae: 0.8806\n",
            "Epoch 75/500\n",
            "120/120 [==============================] - 1s 5ms/step - loss: 1.4472 - mae: 0.8804 - val_loss: 1.4538 - val_mae: 0.9126\n",
            "Epoch 76/500\n",
            "120/120 [==============================] - 1s 5ms/step - loss: 1.5797 - mae: 0.9403 - val_loss: 1.9100 - val_mae: 1.0618\n",
            "Epoch 77/500\n",
            "120/120 [==============================] - 1s 5ms/step - loss: 1.4473 - mae: 0.8899 - val_loss: 1.4120 - val_mae: 0.8652\n",
            "Epoch 78/500\n",
            "120/120 [==============================] - 1s 5ms/step - loss: 1.4142 - mae: 0.8608 - val_loss: 1.4608 - val_mae: 0.9215\n",
            "Epoch 79/500\n",
            "120/120 [==============================] - 1s 5ms/step - loss: 1.3349 - mae: 0.8241 - val_loss: 2.0713 - val_mae: 1.1038\n",
            "Epoch 80/500\n",
            "120/120 [==============================] - 1s 6ms/step - loss: 1.6651 - mae: 0.9670 - val_loss: 1.3286 - val_mae: 0.7937\n",
            "Epoch 81/500\n",
            "120/120 [==============================] - 1s 6ms/step - loss: 1.3401 - mae: 0.8368 - val_loss: 1.2100 - val_mae: 0.7600\n",
            "Epoch 82/500\n",
            "120/120 [==============================] - 1s 5ms/step - loss: 1.4232 - mae: 0.8747 - val_loss: 1.4503 - val_mae: 0.8761\n",
            "Epoch 83/500\n",
            "120/120 [==============================] - 1s 5ms/step - loss: 1.2717 - mae: 0.8075 - val_loss: 1.2363 - val_mae: 0.7951\n",
            "Epoch 84/500\n",
            "120/120 [==============================] - 1s 5ms/step - loss: 1.4620 - mae: 0.8977 - val_loss: 1.2423 - val_mae: 0.7801\n",
            "Epoch 85/500\n",
            "120/120 [==============================] - 1s 5ms/step - loss: 1.3989 - mae: 0.8657 - val_loss: 1.6448 - val_mae: 0.9589\n",
            "Epoch 86/500\n",
            "120/120 [==============================] - 1s 5ms/step - loss: 1.3299 - mae: 0.8419 - val_loss: 1.1943 - val_mae: 0.7337\n",
            "Epoch 87/500\n",
            "120/120 [==============================] - 1s 6ms/step - loss: 1.4020 - mae: 0.8628 - val_loss: 1.5856 - val_mae: 0.9777\n",
            "Epoch 88/500\n",
            "120/120 [==============================] - 1s 5ms/step - loss: 1.6076 - mae: 0.9443 - val_loss: 1.3302 - val_mae: 0.8218\n",
            "Epoch 89/500\n",
            "120/120 [==============================] - 1s 5ms/step - loss: 1.2892 - mae: 0.8216 - val_loss: 1.5277 - val_mae: 0.9480\n",
            "Epoch 90/500\n",
            "120/120 [==============================] - 1s 6ms/step - loss: 1.2991 - mae: 0.8268 - val_loss: 1.2275 - val_mae: 0.7709\n",
            "Epoch 91/500\n",
            "120/120 [==============================] - 1s 5ms/step - loss: 1.2712 - mae: 0.8055 - val_loss: 1.2646 - val_mae: 0.8084\n",
            "Epoch 92/500\n",
            "120/120 [==============================] - 1s 5ms/step - loss: 1.3136 - mae: 0.8304 - val_loss: 2.3121 - val_mae: 1.1850\n",
            "Epoch 93/500\n",
            "120/120 [==============================] - 1s 5ms/step - loss: 91.6150 - mae: 4.4699 - val_loss: 6.1357 - val_mae: 1.9707\n",
            "Epoch 94/500\n",
            "120/120 [==============================] - 1s 6ms/step - loss: 3.5503 - mae: 1.4507 - val_loss: 2.1083 - val_mae: 1.0968\n",
            "Epoch 95/500\n",
            "120/120 [==============================] - 1s 5ms/step - loss: 1.4799 - mae: 0.9070 - val_loss: 1.2055 - val_mae: 0.7686\n",
            "Epoch 96/500\n",
            "120/120 [==============================] - 1s 6ms/step - loss: 1.1838 - mae: 0.7705 - val_loss: 1.1373 - val_mae: 0.7288\n",
            "Epoch 97/500\n",
            "120/120 [==============================] - 1s 5ms/step - loss: 1.1726 - mae: 0.7569 - val_loss: 1.2361 - val_mae: 0.7650\n",
            "Epoch 98/500\n",
            "120/120 [==============================] - 1s 5ms/step - loss: 1.1473 - mae: 0.7436 - val_loss: 1.1214 - val_mae: 0.7155\n",
            "Epoch 99/500\n",
            "120/120 [==============================] - 1s 6ms/step - loss: 1.1724 - mae: 0.7632 - val_loss: 1.1703 - val_mae: 0.7193\n",
            "Epoch 100/500\n",
            "120/120 [==============================] - 1s 5ms/step - loss: 1.1711 - mae: 0.7600 - val_loss: 1.2345 - val_mae: 0.7765\n",
            "Epoch 101/500\n",
            "120/120 [==============================] - 1s 5ms/step - loss: 1.1524 - mae: 0.7460 - val_loss: 1.1111 - val_mae: 0.7056\n",
            "Epoch 102/500\n",
            "120/120 [==============================] - 1s 5ms/step - loss: 1.2065 - mae: 0.7716 - val_loss: 1.1908 - val_mae: 0.7760\n",
            "Epoch 103/500\n",
            "120/120 [==============================] - 1s 6ms/step - loss: 1.1490 - mae: 0.7520 - val_loss: 1.1721 - val_mae: 0.7436\n",
            "Epoch 104/500\n",
            "120/120 [==============================] - 1s 5ms/step - loss: 1.1379 - mae: 0.7394 - val_loss: 1.0822 - val_mae: 0.6860\n",
            "Epoch 105/500\n",
            "120/120 [==============================] - 1s 5ms/step - loss: 1.1141 - mae: 0.7268 - val_loss: 1.1816 - val_mae: 0.7433\n",
            "Epoch 106/500\n",
            "120/120 [==============================] - 1s 6ms/step - loss: 1.2357 - mae: 0.7879 - val_loss: 1.2273 - val_mae: 0.7585\n",
            "Epoch 107/500\n",
            "120/120 [==============================] - 1s 5ms/step - loss: 1.1725 - mae: 0.7616 - val_loss: 1.2476 - val_mae: 0.7803\n",
            "Epoch 108/500\n",
            "120/120 [==============================] - 1s 6ms/step - loss: 1.1773 - mae: 0.7572 - val_loss: 1.2287 - val_mae: 0.7538\n",
            "Epoch 109/500\n",
            "120/120 [==============================] - 1s 5ms/step - loss: 1.1554 - mae: 0.7498 - val_loss: 1.3793 - val_mae: 0.8549\n",
            "Epoch 110/500\n",
            "120/120 [==============================] - 1s 8ms/step - loss: 1.1279 - mae: 0.7368 - val_loss: 1.1060 - val_mae: 0.6988\n",
            "Epoch 111/500\n",
            "120/120 [==============================] - 1s 7ms/step - loss: 1.1454 - mae: 0.7420 - val_loss: 1.1206 - val_mae: 0.7128\n",
            "Epoch 112/500\n",
            "120/120 [==============================] - 1s 6ms/step - loss: 1.1005 - mae: 0.7208 - val_loss: 1.2221 - val_mae: 0.7443\n",
            "Epoch 113/500\n",
            "120/120 [==============================] - 1s 5ms/step - loss: 1.1401 - mae: 0.7459 - val_loss: 1.4448 - val_mae: 0.9285\n",
            "Epoch 114/500\n",
            "120/120 [==============================] - 1s 5ms/step - loss: 1.1434 - mae: 0.7414 - val_loss: 1.1754 - val_mae: 0.7616\n",
            "Epoch 115/500\n",
            "120/120 [==============================] - 1s 6ms/step - loss: 1.2940 - mae: 0.8045 - val_loss: 1.3482 - val_mae: 0.8710\n",
            "Epoch 116/500\n",
            "120/120 [==============================] - 1s 6ms/step - loss: 1.3112 - mae: 0.8216 - val_loss: 1.1963 - val_mae: 0.7363\n",
            "Epoch 117/500\n",
            "120/120 [==============================] - 1s 5ms/step - loss: 1.2220 - mae: 0.7880 - val_loss: 1.2190 - val_mae: 0.7728\n",
            "Epoch 118/500\n",
            "120/120 [==============================] - 1s 5ms/step - loss: 1.2548 - mae: 0.8051 - val_loss: 1.2503 - val_mae: 0.7938\n",
            "Epoch 119/500\n",
            "120/120 [==============================] - 1s 5ms/step - loss: 1.2396 - mae: 0.7976 - val_loss: 1.1425 - val_mae: 0.7298\n",
            "Epoch 120/500\n",
            "120/120 [==============================] - 1s 5ms/step - loss: 1.2167 - mae: 0.7752 - val_loss: 1.1603 - val_mae: 0.7266\n",
            "Epoch 121/500\n",
            "120/120 [==============================] - 1s 6ms/step - loss: 1.1615 - mae: 0.7486 - val_loss: 1.2681 - val_mae: 0.7771\n",
            "Epoch 122/500\n",
            "120/120 [==============================] - 1s 6ms/step - loss: 1.2108 - mae: 0.7780 - val_loss: 1.5500 - val_mae: 0.9184\n",
            "Epoch 123/500\n",
            "120/120 [==============================] - 1s 5ms/step - loss: 1.1786 - mae: 0.7622 - val_loss: 1.1673 - val_mae: 0.7487\n",
            "Epoch 124/500\n",
            "120/120 [==============================] - 1s 5ms/step - loss: 1.1688 - mae: 0.7613 - val_loss: 1.1015 - val_mae: 0.6978\n",
            "Epoch 125/500\n",
            "120/120 [==============================] - 1s 6ms/step - loss: 1.3553 - mae: 0.8475 - val_loss: 1.1295 - val_mae: 0.7144\n",
            "Epoch 126/500\n",
            "120/120 [==============================] - 1s 6ms/step - loss: 1.1869 - mae: 0.7739 - val_loss: 1.3291 - val_mae: 0.8133\n",
            "Epoch 127/500\n",
            "120/120 [==============================] - 1s 6ms/step - loss: 1.1665 - mae: 0.7609 - val_loss: 1.3973 - val_mae: 0.8664\n",
            "Epoch 128/500\n",
            "120/120 [==============================] - 1s 6ms/step - loss: 1.4287 - mae: 0.8721 - val_loss: 1.9407 - val_mae: 1.0276\n",
            "Epoch 129/500\n",
            "120/120 [==============================] - 1s 6ms/step - loss: 1.2610 - mae: 0.8061 - val_loss: 1.5730 - val_mae: 0.8827\n",
            "Epoch 130/500\n",
            "120/120 [==============================] - 1s 5ms/step - loss: 1.2759 - mae: 0.8126 - val_loss: 1.3146 - val_mae: 0.8145\n",
            "Epoch 131/500\n",
            "120/120 [==============================] - 1s 5ms/step - loss: 1.2467 - mae: 0.7945 - val_loss: 1.2742 - val_mae: 0.8046\n",
            "Epoch 132/500\n",
            "120/120 [==============================] - 1s 5ms/step - loss: 1.1721 - mae: 0.7593 - val_loss: 1.2288 - val_mae: 0.7725\n",
            "Epoch 133/500\n",
            "120/120 [==============================] - 1s 6ms/step - loss: 1.2368 - mae: 0.7963 - val_loss: 1.2194 - val_mae: 0.7842\n",
            "Epoch 134/500\n",
            "120/120 [==============================] - 1s 5ms/step - loss: 1.1845 - mae: 0.7693 - val_loss: 1.1092 - val_mae: 0.7076\n",
            "Epoch 135/500\n",
            "120/120 [==============================] - 1s 6ms/step - loss: 1.2035 - mae: 0.7776 - val_loss: 1.4451 - val_mae: 0.8377\n",
            "Epoch 136/500\n",
            "120/120 [==============================] - 1s 5ms/step - loss: 1.3781 - mae: 0.8621 - val_loss: 1.5257 - val_mae: 0.8750\n",
            "Epoch 137/500\n",
            "120/120 [==============================] - 1s 5ms/step - loss: 1.3075 - mae: 0.8275 - val_loss: 1.4699 - val_mae: 0.9204\n",
            "Epoch 138/500\n",
            "120/120 [==============================] - 1s 6ms/step - loss: 1.1853 - mae: 0.7667 - val_loss: 1.4005 - val_mae: 0.7918\n",
            "Epoch 139/500\n",
            "120/120 [==============================] - 1s 6ms/step - loss: 1.3272 - mae: 0.8168 - val_loss: 1.2835 - val_mae: 0.8059\n",
            "Epoch 140/500\n",
            "120/120 [==============================] - 1s 5ms/step - loss: 1.3466 - mae: 0.8427 - val_loss: 1.2317 - val_mae: 0.7700\n",
            "Epoch 141/500\n",
            "120/120 [==============================] - 1s 6ms/step - loss: 1.2016 - mae: 0.7706 - val_loss: 1.2604 - val_mae: 0.7915\n",
            "Epoch 142/500\n",
            "120/120 [==============================] - 1s 5ms/step - loss: 1.3994 - mae: 0.8575 - val_loss: 1.2085 - val_mae: 0.7578\n",
            "Epoch 143/500\n",
            "120/120 [==============================] - 1s 5ms/step - loss: 1.2221 - mae: 0.7851 - val_loss: 1.2493 - val_mae: 0.7848\n",
            "Epoch 144/500\n",
            "120/120 [==============================] - 1s 5ms/step - loss: 1.2231 - mae: 0.7878 - val_loss: 1.2365 - val_mae: 0.7760\n",
            "Epoch 145/500\n",
            "120/120 [==============================] - 1s 5ms/step - loss: 1.3053 - mae: 0.8276 - val_loss: 1.1149 - val_mae: 0.7034\n",
            "Epoch 146/500\n",
            "120/120 [==============================] - 1s 5ms/step - loss: 1.3557 - mae: 0.8581 - val_loss: 1.1845 - val_mae: 0.7507\n",
            "Epoch 147/500\n",
            "120/120 [==============================] - 1s 5ms/step - loss: 1.3702 - mae: 0.8599 - val_loss: 1.4548 - val_mae: 0.8676\n",
            "Epoch 148/500\n",
            "120/120 [==============================] - 1s 5ms/step - loss: 1.2757 - mae: 0.8080 - val_loss: 1.1508 - val_mae: 0.7381\n",
            "Epoch 149/500\n",
            "120/120 [==============================] - 1s 5ms/step - loss: 1.2590 - mae: 0.8018 - val_loss: 1.2119 - val_mae: 0.7440\n",
            "Epoch 150/500\n",
            "120/120 [==============================] - 1s 5ms/step - loss: 1.2388 - mae: 0.7930 - val_loss: 1.2250 - val_mae: 0.7473\n",
            "Epoch 151/500\n",
            "120/120 [==============================] - 1s 6ms/step - loss: 1.3429 - mae: 0.8341 - val_loss: 1.3642 - val_mae: 0.8498\n",
            "Epoch 152/500\n",
            "120/120 [==============================] - 1s 5ms/step - loss: 1.2967 - mae: 0.8259 - val_loss: 1.5916 - val_mae: 0.9368\n",
            "Epoch 153/500\n",
            "120/120 [==============================] - 1s 6ms/step - loss: 1.2451 - mae: 0.7840 - val_loss: 1.1623 - val_mae: 0.7379\n",
            "Epoch 154/500\n",
            "120/120 [==============================] - 1s 6ms/step - loss: 1.2452 - mae: 0.7967 - val_loss: 1.3352 - val_mae: 0.8388\n",
            "Epoch 155/500\n",
            "120/120 [==============================] - 1s 5ms/step - loss: 1.3098 - mae: 0.8354 - val_loss: 1.1465 - val_mae: 0.7168\n",
            "Epoch 156/500\n",
            "120/120 [==============================] - 1s 5ms/step - loss: 1.3418 - mae: 0.8367 - val_loss: 1.2669 - val_mae: 0.7822\n",
            "Epoch 157/500\n",
            "120/120 [==============================] - 1s 6ms/step - loss: 1.4897 - mae: 0.9149 - val_loss: 1.3471 - val_mae: 0.8225\n",
            "Epoch 158/500\n",
            "120/120 [==============================] - 1s 6ms/step - loss: 1.2953 - mae: 0.8270 - val_loss: 1.3425 - val_mae: 0.8205\n",
            "Epoch 159/500\n",
            "120/120 [==============================] - 1s 6ms/step - loss: 1.2341 - mae: 0.7917 - val_loss: 1.1781 - val_mae: 0.7586\n",
            "Epoch 160/500\n",
            "120/120 [==============================] - 1s 5ms/step - loss: 1.2350 - mae: 0.7928 - val_loss: 1.2510 - val_mae: 0.7744\n",
            "Epoch 161/500\n",
            "120/120 [==============================] - 1s 5ms/step - loss: 1.2825 - mae: 0.8128 - val_loss: 1.3244 - val_mae: 0.8348\n",
            "Epoch 162/500\n",
            "120/120 [==============================] - 1s 5ms/step - loss: 1.2803 - mae: 0.8116 - val_loss: 1.3874 - val_mae: 0.8444\n",
            "Epoch 163/500\n",
            "120/120 [==============================] - 1s 6ms/step - loss: 1.5042 - mae: 0.9026 - val_loss: 1.4399 - val_mae: 0.8817\n",
            "Epoch 164/500\n",
            "120/120 [==============================] - 1s 6ms/step - loss: 1.4014 - mae: 0.8648 - val_loss: 1.1532 - val_mae: 0.7197\n",
            "Epoch 165/500\n",
            "120/120 [==============================] - 1s 5ms/step - loss: 1.1872 - mae: 0.7663 - val_loss: 1.2022 - val_mae: 0.7760\n",
            "Epoch 166/500\n",
            "120/120 [==============================] - 1s 5ms/step - loss: 1.3999 - mae: 0.8682 - val_loss: 1.2927 - val_mae: 0.8162\n",
            "Epoch 167/500\n",
            "120/120 [==============================] - 1s 5ms/step - loss: 1.2260 - mae: 0.7859 - val_loss: 1.2924 - val_mae: 0.7870\n",
            "Epoch 168/500\n",
            "120/120 [==============================] - 1s 5ms/step - loss: 1.1791 - mae: 0.7523 - val_loss: 1.1962 - val_mae: 0.7692\n",
            "Epoch 169/500\n",
            "120/120 [==============================] - 1s 5ms/step - loss: 1.2057 - mae: 0.7742 - val_loss: 1.2551 - val_mae: 0.7741\n",
            "Epoch 170/500\n",
            "120/120 [==============================] - 1s 6ms/step - loss: 1.2714 - mae: 0.8072 - val_loss: 1.4199 - val_mae: 0.8595\n",
            "Epoch 171/500\n",
            "120/120 [==============================] - 1s 5ms/step - loss: 1.2187 - mae: 0.7825 - val_loss: 1.1574 - val_mae: 0.7476\n",
            "Epoch 172/500\n",
            "120/120 [==============================] - 1s 5ms/step - loss: 1.4324 - mae: 0.8779 - val_loss: 1.4324 - val_mae: 0.8429\n",
            "Epoch 173/500\n",
            "120/120 [==============================] - 1s 6ms/step - loss: 1.2990 - mae: 0.8270 - val_loss: 1.1625 - val_mae: 0.7302\n",
            "Epoch 174/500\n",
            "120/120 [==============================] - 1s 5ms/step - loss: 1.2308 - mae: 0.7971 - val_loss: 1.1763 - val_mae: 0.7474\n",
            "Epoch 175/500\n",
            "120/120 [==============================] - 1s 5ms/step - loss: 1.2033 - mae: 0.7770 - val_loss: 1.1723 - val_mae: 0.7317\n",
            "Epoch 176/500\n",
            "120/120 [==============================] - 1s 5ms/step - loss: 1.3839 - mae: 0.8647 - val_loss: 1.5497 - val_mae: 0.9432\n",
            "Epoch 177/500\n",
            "120/120 [==============================] - 1s 5ms/step - loss: 1.4501 - mae: 0.8887 - val_loss: 1.3883 - val_mae: 0.8467\n",
            "Epoch 178/500\n",
            "120/120 [==============================] - 1s 5ms/step - loss: 1.2355 - mae: 0.7877 - val_loss: 1.3201 - val_mae: 0.8054\n",
            "Epoch 179/500\n",
            "120/120 [==============================] - 1s 5ms/step - loss: 1.2692 - mae: 0.8068 - val_loss: 1.1666 - val_mae: 0.7393\n",
            "Epoch 180/500\n",
            "120/120 [==============================] - 1s 5ms/step - loss: 1.1733 - mae: 0.7629 - val_loss: 1.1317 - val_mae: 0.7141\n",
            "Epoch 181/500\n",
            "120/120 [==============================] - 1s 5ms/step - loss: 1.2153 - mae: 0.7801 - val_loss: 1.2547 - val_mae: 0.7676\n",
            "Epoch 182/500\n",
            "120/120 [==============================] - 1s 5ms/step - loss: 1.1855 - mae: 0.7694 - val_loss: 1.1584 - val_mae: 0.7304\n",
            "Epoch 183/500\n",
            "120/120 [==============================] - 1s 5ms/step - loss: 1.3004 - mae: 0.8315 - val_loss: 1.5506 - val_mae: 0.9522\n",
            "Epoch 184/500\n",
            "120/120 [==============================] - 1s 5ms/step - loss: 58.9559 - mae: 3.1604 - val_loss: 3.1425 - val_mae: 1.3744\n",
            "Epoch 185/500\n",
            "120/120 [==============================] - 1s 6ms/step - loss: 1.6017 - mae: 0.9266 - val_loss: 1.2330 - val_mae: 0.7833\n",
            "Epoch 186/500\n",
            "120/120 [==============================] - 1s 5ms/step - loss: 1.2567 - mae: 0.7993 - val_loss: 1.1649 - val_mae: 0.7577\n",
            "Epoch 187/500\n",
            "120/120 [==============================] - 1s 5ms/step - loss: 1.1305 - mae: 0.7370 - val_loss: 1.2361 - val_mae: 0.7452\n",
            "Epoch 188/500\n",
            "120/120 [==============================] - 1s 5ms/step - loss: 1.1692 - mae: 0.7490 - val_loss: 1.2158 - val_mae: 0.7747\n",
            "Epoch 189/500\n",
            "120/120 [==============================] - 1s 5ms/step - loss: 1.0957 - mae: 0.7152 - val_loss: 1.1678 - val_mae: 0.7139\n",
            "Epoch 190/500\n",
            "120/120 [==============================] - 1s 5ms/step - loss: 1.1327 - mae: 0.7302 - val_loss: 1.1217 - val_mae: 0.7182\n",
            "Epoch 191/500\n",
            "120/120 [==============================] - 1s 5ms/step - loss: 1.1157 - mae: 0.7231 - val_loss: 1.2246 - val_mae: 0.7491\n",
            "Epoch 192/500\n",
            "120/120 [==============================] - 1s 5ms/step - loss: 1.1379 - mae: 0.7380 - val_loss: 1.0989 - val_mae: 0.6903\n",
            "Epoch 193/500\n",
            "120/120 [==============================] - 1s 5ms/step - loss: 1.1287 - mae: 0.7313 - val_loss: 1.3110 - val_mae: 0.8156\n",
            "Epoch 194/500\n",
            "120/120 [==============================] - 1s 5ms/step - loss: 1.1373 - mae: 0.7335 - val_loss: 1.2194 - val_mae: 0.7520\n",
            "Epoch 195/500\n",
            "120/120 [==============================] - 1s 5ms/step - loss: 1.1430 - mae: 0.7347 - val_loss: 1.0635 - val_mae: 0.6770\n",
            "Epoch 196/500\n",
            "120/120 [==============================] - 1s 6ms/step - loss: 1.1054 - mae: 0.7247 - val_loss: 1.4156 - val_mae: 0.8430\n",
            "Epoch 197/500\n",
            "120/120 [==============================] - 1s 5ms/step - loss: 1.1825 - mae: 0.7661 - val_loss: 1.0803 - val_mae: 0.6919\n",
            "Epoch 198/500\n",
            "120/120 [==============================] - 1s 5ms/step - loss: 1.2756 - mae: 0.7985 - val_loss: 1.1704 - val_mae: 0.7458\n",
            "Epoch 199/500\n",
            "120/120 [==============================] - 1s 5ms/step - loss: 1.2270 - mae: 0.7846 - val_loss: 1.3174 - val_mae: 0.8336\n",
            "Epoch 200/500\n",
            "120/120 [==============================] - 1s 5ms/step - loss: 1.1590 - mae: 0.7545 - val_loss: 1.1449 - val_mae: 0.7108\n",
            "Epoch 201/500\n",
            "120/120 [==============================] - 1s 5ms/step - loss: 1.1277 - mae: 0.7420 - val_loss: 1.2695 - val_mae: 0.7865\n",
            "Epoch 202/500\n",
            "120/120 [==============================] - 1s 5ms/step - loss: 1.3060 - mae: 0.8166 - val_loss: 1.1870 - val_mae: 0.7492\n",
            "Epoch 203/500\n",
            "120/120 [==============================] - 1s 5ms/step - loss: 1.2051 - mae: 0.7763 - val_loss: 1.0944 - val_mae: 0.6956\n",
            "Epoch 204/500\n",
            "120/120 [==============================] - 1s 5ms/step - loss: 1.1617 - mae: 0.7544 - val_loss: 1.1282 - val_mae: 0.7066\n",
            "Epoch 205/500\n",
            "120/120 [==============================] - 1s 5ms/step - loss: 1.1840 - mae: 0.7706 - val_loss: 1.1990 - val_mae: 0.7477\n",
            "Epoch 206/500\n",
            "120/120 [==============================] - 1s 5ms/step - loss: 1.2408 - mae: 0.7929 - val_loss: 1.1210 - val_mae: 0.6976\n",
            "Epoch 207/500\n",
            "120/120 [==============================] - 1s 5ms/step - loss: 1.1672 - mae: 0.7601 - val_loss: 1.3861 - val_mae: 0.8914\n",
            "Epoch 208/500\n",
            "120/120 [==============================] - 1s 5ms/step - loss: 1.1846 - mae: 0.7672 - val_loss: 1.0960 - val_mae: 0.6950\n",
            "Epoch 209/500\n",
            "120/120 [==============================] - 1s 5ms/step - loss: 1.3152 - mae: 0.8294 - val_loss: 1.0990 - val_mae: 0.6874\n",
            "Epoch 210/500\n",
            "120/120 [==============================] - 1s 6ms/step - loss: 1.3504 - mae: 0.8471 - val_loss: 1.2611 - val_mae: 0.8222\n",
            "Epoch 211/500\n",
            "120/120 [==============================] - 1s 5ms/step - loss: 1.1493 - mae: 0.7475 - val_loss: 1.2881 - val_mae: 0.8461\n",
            "Epoch 212/500\n",
            "120/120 [==============================] - 1s 5ms/step - loss: 1.1912 - mae: 0.7711 - val_loss: 2.1842 - val_mae: 1.1287\n",
            "Epoch 213/500\n",
            "120/120 [==============================] - 1s 5ms/step - loss: 1.2187 - mae: 0.7882 - val_loss: 1.0949 - val_mae: 0.7029\n",
            "Epoch 214/500\n",
            "120/120 [==============================] - 1s 5ms/step - loss: 1.2001 - mae: 0.7725 - val_loss: 1.1455 - val_mae: 0.7401\n",
            "Epoch 215/500\n",
            "120/120 [==============================] - 1s 5ms/step - loss: 1.2001 - mae: 0.7783 - val_loss: 1.6604 - val_mae: 0.9476\n",
            "Epoch 216/500\n",
            "120/120 [==============================] - 1s 5ms/step - loss: 1.2172 - mae: 0.7852 - val_loss: 1.5170 - val_mae: 0.9561\n",
            "Epoch 217/500\n",
            "120/120 [==============================] - 1s 6ms/step - loss: 1.2598 - mae: 0.8065 - val_loss: 1.1031 - val_mae: 0.7109\n",
            "Epoch 218/500\n",
            "120/120 [==============================] - 1s 5ms/step - loss: 1.2336 - mae: 0.7995 - val_loss: 1.2496 - val_mae: 0.7934\n",
            "Epoch 219/500\n",
            "120/120 [==============================] - 1s 6ms/step - loss: 1.1594 - mae: 0.7655 - val_loss: 1.1354 - val_mae: 0.7238\n",
            "Epoch 220/500\n",
            "120/120 [==============================] - 1s 5ms/step - loss: 1.3181 - mae: 0.8298 - val_loss: 1.0851 - val_mae: 0.6777\n",
            "Epoch 221/500\n",
            "120/120 [==============================] - 1s 5ms/step - loss: 1.2875 - mae: 0.8212 - val_loss: 1.2169 - val_mae: 0.7723\n",
            "Epoch 222/500\n",
            "120/120 [==============================] - 1s 5ms/step - loss: 1.2548 - mae: 0.8138 - val_loss: 1.1033 - val_mae: 0.6923\n",
            "Epoch 223/500\n",
            "120/120 [==============================] - 1s 5ms/step - loss: 1.2157 - mae: 0.7899 - val_loss: 1.3305 - val_mae: 0.8404\n",
            "Epoch 224/500\n",
            "120/120 [==============================] - 1s 6ms/step - loss: 1.2337 - mae: 0.7950 - val_loss: 1.1593 - val_mae: 0.7524\n",
            "Epoch 225/500\n",
            "120/120 [==============================] - 1s 5ms/step - loss: 1.4156 - mae: 0.8759 - val_loss: 1.2505 - val_mae: 0.8015\n",
            "Epoch 226/500\n",
            "120/120 [==============================] - 1s 5ms/step - loss: 1.3083 - mae: 0.8329 - val_loss: 1.1467 - val_mae: 0.7130\n",
            "Epoch 227/500\n",
            "120/120 [==============================] - 1s 6ms/step - loss: 1.3155 - mae: 0.8390 - val_loss: 1.7952 - val_mae: 1.0375\n",
            "Epoch 228/500\n",
            "120/120 [==============================] - 1s 6ms/step - loss: 1.2607 - mae: 0.8096 - val_loss: 1.2287 - val_mae: 0.7955\n",
            "Epoch 229/500\n",
            "120/120 [==============================] - 1s 6ms/step - loss: 1.2907 - mae: 0.8140 - val_loss: 1.2207 - val_mae: 0.7692\n",
            "Epoch 230/500\n",
            "120/120 [==============================] - 1s 5ms/step - loss: 1.2467 - mae: 0.8047 - val_loss: 1.1479 - val_mae: 0.7281\n",
            "Epoch 231/500\n",
            "120/120 [==============================] - 1s 5ms/step - loss: 1.1412 - mae: 0.7477 - val_loss: 1.0916 - val_mae: 0.6950\n",
            "Epoch 232/500\n",
            "120/120 [==============================] - 1s 5ms/step - loss: 1.2158 - mae: 0.7856 - val_loss: 1.3408 - val_mae: 0.8302\n",
            "Epoch 233/500\n",
            "120/120 [==============================] - 1s 6ms/step - loss: 1.2297 - mae: 0.7917 - val_loss: 1.7009 - val_mae: 1.0031\n",
            "Epoch 234/500\n",
            "120/120 [==============================] - 1s 6ms/step - loss: 1.2439 - mae: 0.7981 - val_loss: 1.4588 - val_mae: 0.9055\n",
            "Epoch 235/500\n",
            "120/120 [==============================] - 1s 6ms/step - loss: 1.3818 - mae: 0.8562 - val_loss: 1.2572 - val_mae: 0.7972\n",
            "Epoch 236/500\n",
            "120/120 [==============================] - 1s 6ms/step - loss: 1.2115 - mae: 0.7885 - val_loss: 1.2507 - val_mae: 0.8058\n",
            "Epoch 237/500\n",
            "120/120 [==============================] - 1s 5ms/step - loss: 1.3387 - mae: 0.8323 - val_loss: 1.2949 - val_mae: 0.8203\n",
            "Epoch 238/500\n",
            "120/120 [==============================] - 1s 5ms/step - loss: 1.2049 - mae: 0.7845 - val_loss: 1.4445 - val_mae: 0.9020\n",
            "Epoch 239/500\n",
            "120/120 [==============================] - 1s 5ms/step - loss: 1.2275 - mae: 0.7897 - val_loss: 1.1774 - val_mae: 0.7409\n",
            "Epoch 240/500\n",
            "120/120 [==============================] - 1s 5ms/step - loss: 1.2392 - mae: 0.7915 - val_loss: 1.2690 - val_mae: 0.7894\n",
            "Epoch 241/500\n",
            "120/120 [==============================] - 1s 5ms/step - loss: 1.3648 - mae: 0.8499 - val_loss: 1.2602 - val_mae: 0.7686\n",
            "Epoch 242/500\n",
            "120/120 [==============================] - 1s 5ms/step - loss: 1.4980 - mae: 0.8984 - val_loss: 1.2853 - val_mae: 0.7995\n",
            "Epoch 243/500\n",
            "120/120 [==============================] - 1s 5ms/step - loss: 1.5726 - mae: 0.9304 - val_loss: 1.7302 - val_mae: 0.9482\n",
            "Epoch 244/500\n",
            "120/120 [==============================] - 1s 5ms/step - loss: 1.2902 - mae: 0.8172 - val_loss: 1.1205 - val_mae: 0.6994\n",
            "Epoch 245/500\n",
            "120/120 [==============================] - 1s 6ms/step - loss: 1.1474 - mae: 0.7519 - val_loss: 1.2364 - val_mae: 0.7895\n",
            "Epoch 246/500\n",
            "120/120 [==============================] - 1s 5ms/step - loss: 1.1396 - mae: 0.7438 - val_loss: 1.3720 - val_mae: 0.8734\n",
            "Epoch 247/500\n",
            "120/120 [==============================] - 1s 6ms/step - loss: 1.1917 - mae: 0.7709 - val_loss: 1.2694 - val_mae: 0.8269\n",
            "Epoch 248/500\n",
            "120/120 [==============================] - 1s 5ms/step - loss: 1.2985 - mae: 0.8243 - val_loss: 1.1472 - val_mae: 0.7318\n",
            "Epoch 249/500\n",
            "120/120 [==============================] - 1s 5ms/step - loss: 1.2123 - mae: 0.7828 - val_loss: 1.1367 - val_mae: 0.7155\n",
            "Epoch 250/500\n",
            "120/120 [==============================] - 1s 5ms/step - loss: 1.1631 - mae: 0.7573 - val_loss: 1.3030 - val_mae: 0.8085\n",
            "Epoch 251/500\n",
            "120/120 [==============================] - 1s 5ms/step - loss: 1.2576 - mae: 0.7987 - val_loss: 1.1044 - val_mae: 0.6918\n",
            "Epoch 252/500\n",
            "120/120 [==============================] - 1s 5ms/step - loss: 1.4621 - mae: 0.8879 - val_loss: 2.0346 - val_mae: 1.1044\n",
            "Epoch 253/500\n",
            "120/120 [==============================] - 1s 5ms/step - loss: 1.2462 - mae: 0.7995 - val_loss: 1.8602 - val_mae: 1.0284\n",
            "Epoch 254/500\n",
            "120/120 [==============================] - 1s 5ms/step - loss: 1.2561 - mae: 0.7955 - val_loss: 1.3331 - val_mae: 0.8535\n",
            "Epoch 255/500\n",
            "120/120 [==============================] - 1s 5ms/step - loss: 1.2373 - mae: 0.8005 - val_loss: 1.1331 - val_mae: 0.7230\n",
            "Epoch 256/500\n",
            "120/120 [==============================] - 1s 6ms/step - loss: 1.1677 - mae: 0.7595 - val_loss: 1.1247 - val_mae: 0.7101\n",
            "Epoch 257/500\n",
            "120/120 [==============================] - 1s 6ms/step - loss: 1.1949 - mae: 0.7729 - val_loss: 1.1021 - val_mae: 0.6954\n",
            "Epoch 258/500\n",
            "120/120 [==============================] - 1s 6ms/step - loss: 1.1677 - mae: 0.7528 - val_loss: 1.3242 - val_mae: 0.8389\n",
            "Epoch 259/500\n",
            "120/120 [==============================] - 1s 5ms/step - loss: 1.2197 - mae: 0.7883 - val_loss: 1.3237 - val_mae: 0.8248\n",
            "Epoch 260/500\n",
            "120/120 [==============================] - 1s 5ms/step - loss: 1.1915 - mae: 0.7770 - val_loss: 1.8684 - val_mae: 1.0660\n",
            "Epoch 261/500\n",
            "120/120 [==============================] - 1s 6ms/step - loss: 1.2617 - mae: 0.8109 - val_loss: 1.1642 - val_mae: 0.7414\n",
            "Epoch 262/500\n",
            "120/120 [==============================] - 1s 5ms/step - loss: 1.2347 - mae: 0.7999 - val_loss: 1.3828 - val_mae: 0.8782\n",
            "Epoch 263/500\n",
            "120/120 [==============================] - 1s 6ms/step - loss: 1.3541 - mae: 0.8492 - val_loss: 1.2068 - val_mae: 0.7301\n",
            "Epoch 264/500\n",
            "120/120 [==============================] - 1s 6ms/step - loss: 1.1766 - mae: 0.7628 - val_loss: 1.2523 - val_mae: 0.7898\n",
            "Epoch 265/500\n",
            "120/120 [==============================] - 1s 5ms/step - loss: 1.2083 - mae: 0.7839 - val_loss: 1.3749 - val_mae: 0.8447\n",
            "Epoch 266/500\n",
            "120/120 [==============================] - 1s 5ms/step - loss: 1.4295 - mae: 0.8869 - val_loss: 2.1872 - val_mae: 1.1227\n",
            "Epoch 267/500\n",
            "120/120 [==============================] - 1s 5ms/step - loss: 1.3660 - mae: 0.8478 - val_loss: 1.1143 - val_mae: 0.7120\n",
            "Epoch 268/500\n",
            "120/120 [==============================] - 1s 5ms/step - loss: 1.1590 - mae: 0.7517 - val_loss: 1.2046 - val_mae: 0.7472\n",
            "Epoch 269/500\n",
            "120/120 [==============================] - 1s 5ms/step - loss: 1.1604 - mae: 0.7458 - val_loss: 1.0968 - val_mae: 0.7066\n",
            "Epoch 270/500\n",
            "120/120 [==============================] - 1s 5ms/step - loss: 1.2263 - mae: 0.7845 - val_loss: 1.1163 - val_mae: 0.7008\n",
            "Epoch 271/500\n",
            "120/120 [==============================] - 1s 6ms/step - loss: 1.2749 - mae: 0.8163 - val_loss: 1.2166 - val_mae: 0.7555\n",
            "Epoch 272/500\n",
            "120/120 [==============================] - 1s 6ms/step - loss: 1.1867 - mae: 0.7749 - val_loss: 1.1741 - val_mae: 0.7204\n",
            "Epoch 273/500\n",
            "120/120 [==============================] - 1s 5ms/step - loss: 1.1482 - mae: 0.7423 - val_loss: 1.3970 - val_mae: 0.8661\n",
            "Epoch 274/500\n",
            "120/120 [==============================] - 1s 6ms/step - loss: 1.1889 - mae: 0.7730 - val_loss: 1.1977 - val_mae: 0.7635\n",
            "Epoch 275/500\n",
            "120/120 [==============================] - 1s 6ms/step - loss: 1.1894 - mae: 0.7674 - val_loss: 1.1098 - val_mae: 0.7008\n",
            "Epoch 276/500\n",
            "120/120 [==============================] - 1s 5ms/step - loss: 1.1831 - mae: 0.7660 - val_loss: 1.3122 - val_mae: 0.8560\n",
            "Epoch 277/500\n",
            "120/120 [==============================] - 1s 6ms/step - loss: 1.2566 - mae: 0.8081 - val_loss: 1.2142 - val_mae: 0.7811\n",
            "Epoch 278/500\n",
            "120/120 [==============================] - 1s 6ms/step - loss: 1.2917 - mae: 0.8267 - val_loss: 1.3396 - val_mae: 0.7984\n",
            "Epoch 279/500\n",
            "120/120 [==============================] - 1s 6ms/step - loss: 1.3739 - mae: 0.8576 - val_loss: 1.1525 - val_mae: 0.7337\n",
            "Epoch 280/500\n",
            "120/120 [==============================] - 1s 6ms/step - loss: 1.1990 - mae: 0.7697 - val_loss: 1.2902 - val_mae: 0.7916\n",
            "Epoch 281/500\n",
            "120/120 [==============================] - 1s 6ms/step - loss: 1.2204 - mae: 0.7895 - val_loss: 1.3141 - val_mae: 0.8065\n",
            "Epoch 282/500\n",
            "120/120 [==============================] - 1s 5ms/step - loss: 1.1361 - mae: 0.7418 - val_loss: 1.3094 - val_mae: 0.8106\n",
            "Epoch 283/500\n",
            "120/120 [==============================] - 1s 6ms/step - loss: 1.2779 - mae: 0.8150 - val_loss: 1.2166 - val_mae: 0.7709\n",
            "Epoch 284/500\n",
            "120/120 [==============================] - 1s 5ms/step - loss: 1.1884 - mae: 0.7653 - val_loss: 1.2414 - val_mae: 0.7761\n",
            "Epoch 285/500\n",
            "120/120 [==============================] - 1s 6ms/step - loss: 1.2700 - mae: 0.8133 - val_loss: 1.2065 - val_mae: 0.7709\n",
            "Epoch 286/500\n",
            "120/120 [==============================] - 1s 5ms/step - loss: 1.1428 - mae: 0.7463 - val_loss: 1.1943 - val_mae: 0.7436\n",
            "Epoch 287/500\n",
            "120/120 [==============================] - 1s 6ms/step - loss: 1.2149 - mae: 0.7891 - val_loss: 1.2742 - val_mae: 0.8015\n",
            "Epoch 288/500\n",
            "120/120 [==============================] - 1s 5ms/step - loss: 1.1423 - mae: 0.7481 - val_loss: 1.1077 - val_mae: 0.6986\n",
            "Epoch 289/500\n",
            "120/120 [==============================] - 1s 5ms/step - loss: 1.1809 - mae: 0.7665 - val_loss: 1.1824 - val_mae: 0.7228\n",
            "Epoch 290/500\n",
            "120/120 [==============================] - 1s 6ms/step - loss: 1.1885 - mae: 0.7692 - val_loss: 1.3339 - val_mae: 0.8095\n",
            "Epoch 291/500\n",
            "120/120 [==============================] - 1s 5ms/step - loss: 1.2281 - mae: 0.7969 - val_loss: 1.3024 - val_mae: 0.7908\n",
            "Epoch 292/500\n",
            "120/120 [==============================] - 1s 5ms/step - loss: 1.2418 - mae: 0.8006 - val_loss: 1.1915 - val_mae: 0.7755\n",
            "Epoch 293/500\n",
            "120/120 [==============================] - 1s 6ms/step - loss: 1.1329 - mae: 0.7418 - val_loss: 1.2237 - val_mae: 0.7902\n",
            "Epoch 294/500\n",
            "120/120 [==============================] - 1s 6ms/step - loss: 1.2360 - mae: 0.7942 - val_loss: 1.2191 - val_mae: 0.7944\n",
            "Epoch 295/500\n",
            "120/120 [==============================] - 1s 5ms/step - loss: 1.3400 - mae: 0.8425 - val_loss: 1.1568 - val_mae: 0.7425\n",
            "Epoch 296/500\n",
            "120/120 [==============================] - 1s 5ms/step - loss: 1.1519 - mae: 0.7487 - val_loss: 1.1958 - val_mae: 0.7604\n",
            "Epoch 297/500\n",
            "120/120 [==============================] - 1s 6ms/step - loss: 1.1498 - mae: 0.7459 - val_loss: 1.2165 - val_mae: 0.7801\n",
            "Epoch 298/500\n",
            "120/120 [==============================] - 1s 6ms/step - loss: 1.1557 - mae: 0.7516 - val_loss: 1.7530 - val_mae: 1.0212\n",
            "Epoch 299/500\n",
            "120/120 [==============================] - 1s 6ms/step - loss: 1.1904 - mae: 0.7731 - val_loss: 1.1044 - val_mae: 0.7015\n",
            "Epoch 300/500\n",
            "120/120 [==============================] - 1s 6ms/step - loss: 1.2472 - mae: 0.8085 - val_loss: 1.2707 - val_mae: 0.8099\n",
            "Epoch 301/500\n",
            "120/120 [==============================] - 1s 5ms/step - loss: 1.1462 - mae: 0.7504 - val_loss: 1.2718 - val_mae: 0.7805\n",
            "Epoch 302/500\n",
            "120/120 [==============================] - 1s 5ms/step - loss: 1.1847 - mae: 0.7727 - val_loss: 1.4131 - val_mae: 0.8845\n",
            "Epoch 303/500\n",
            "120/120 [==============================] - 1s 6ms/step - loss: 1.2247 - mae: 0.7878 - val_loss: 1.3972 - val_mae: 0.8468\n",
            "Epoch 304/500\n",
            "120/120 [==============================] - 1s 5ms/step - loss: 1.1413 - mae: 0.7444 - val_loss: 1.2550 - val_mae: 0.8054\n",
            "Epoch 305/500\n",
            "120/120 [==============================] - 1s 6ms/step - loss: 1.1590 - mae: 0.7537 - val_loss: 1.3433 - val_mae: 0.8526\n",
            "Epoch 306/500\n",
            "120/120 [==============================] - 1s 6ms/step - loss: 1.1871 - mae: 0.7629 - val_loss: 1.0782 - val_mae: 0.6778\n",
            "Epoch 307/500\n",
            "120/120 [==============================] - 1s 6ms/step - loss: 1.1751 - mae: 0.7621 - val_loss: 1.2572 - val_mae: 0.7880\n",
            "Epoch 308/500\n",
            "120/120 [==============================] - 1s 6ms/step - loss: 1.1381 - mae: 0.7447 - val_loss: 1.2145 - val_mae: 0.7612\n",
            "Epoch 309/500\n",
            "120/120 [==============================] - 1s 5ms/step - loss: 1.1534 - mae: 0.7520 - val_loss: 1.2765 - val_mae: 0.7819\n",
            "Epoch 310/500\n",
            "120/120 [==============================] - 1s 6ms/step - loss: 1.1847 - mae: 0.7699 - val_loss: 1.3449 - val_mae: 0.8705\n",
            "Epoch 311/500\n",
            "120/120 [==============================] - 1s 6ms/step - loss: 1.1925 - mae: 0.7773 - val_loss: 1.1454 - val_mae: 0.6997\n",
            "Epoch 312/500\n",
            "120/120 [==============================] - 1s 6ms/step - loss: 1.1839 - mae: 0.7770 - val_loss: 1.0941 - val_mae: 0.6966\n",
            "Epoch 313/500\n",
            "120/120 [==============================] - 1s 6ms/step - loss: 1.1786 - mae: 0.7649 - val_loss: 1.1539 - val_mae: 0.7237\n",
            "Epoch 314/500\n",
            "120/120 [==============================] - 1s 6ms/step - loss: 1.2044 - mae: 0.7850 - val_loss: 1.2134 - val_mae: 0.7710\n",
            "Epoch 315/500\n",
            "120/120 [==============================] - 1s 6ms/step - loss: 1.1981 - mae: 0.7720 - val_loss: 1.4142 - val_mae: 0.8333\n",
            "Epoch 316/500\n",
            "120/120 [==============================] - 1s 6ms/step - loss: 1.2160 - mae: 0.7865 - val_loss: 1.2082 - val_mae: 0.7643\n",
            "Epoch 317/500\n",
            "120/120 [==============================] - 1s 6ms/step - loss: 1.1885 - mae: 0.7753 - val_loss: 1.7409 - val_mae: 1.0188\n",
            "Epoch 318/500\n",
            "120/120 [==============================] - 1s 6ms/step - loss: 1.2349 - mae: 0.7918 - val_loss: 1.1392 - val_mae: 0.7180\n",
            "Epoch 319/500\n",
            "120/120 [==============================] - 1s 6ms/step - loss: 1.1313 - mae: 0.7395 - val_loss: 1.1891 - val_mae: 0.7356\n",
            "Epoch 320/500\n",
            "120/120 [==============================] - 1s 6ms/step - loss: 1.1258 - mae: 0.7352 - val_loss: 1.1786 - val_mae: 0.7324\n",
            "Epoch 321/500\n",
            "120/120 [==============================] - 1s 6ms/step - loss: 1.1550 - mae: 0.7549 - val_loss: 1.2195 - val_mae: 0.7723\n",
            "Epoch 322/500\n",
            "120/120 [==============================] - 1s 6ms/step - loss: 1.1621 - mae: 0.7549 - val_loss: 1.1846 - val_mae: 0.7446\n",
            "Epoch 323/500\n",
            "120/120 [==============================] - 1s 6ms/step - loss: 1.1408 - mae: 0.7488 - val_loss: 1.1857 - val_mae: 0.7582\n",
            "Epoch 324/500\n",
            "120/120 [==============================] - 1s 7ms/step - loss: 1.1405 - mae: 0.7479 - val_loss: 1.3048 - val_mae: 0.8397\n",
            "Epoch 325/500\n",
            "120/120 [==============================] - 1s 6ms/step - loss: 1.1630 - mae: 0.7537 - val_loss: 1.1136 - val_mae: 0.6788\n",
            "Epoch 326/500\n",
            "120/120 [==============================] - 1s 6ms/step - loss: 1.1168 - mae: 0.7263 - val_loss: 1.1362 - val_mae: 0.7216\n",
            "Epoch 327/500\n",
            "120/120 [==============================] - 1s 6ms/step - loss: 1.1506 - mae: 0.7503 - val_loss: 1.1350 - val_mae: 0.7181\n",
            "Epoch 328/500\n",
            "120/120 [==============================] - 1s 6ms/step - loss: 1.1814 - mae: 0.7636 - val_loss: 1.2167 - val_mae: 0.7525\n",
            "Epoch 329/500\n",
            "120/120 [==============================] - 1s 6ms/step - loss: 1.1575 - mae: 0.7540 - val_loss: 1.2313 - val_mae: 0.7750\n",
            "Epoch 330/500\n",
            "120/120 [==============================] - 1s 6ms/step - loss: 1.1713 - mae: 0.7633 - val_loss: 1.1765 - val_mae: 0.7138\n",
            "Epoch 331/500\n",
            "120/120 [==============================] - 1s 6ms/step - loss: 1.2156 - mae: 0.7868 - val_loss: 1.1599 - val_mae: 0.7405\n",
            "Epoch 332/500\n",
            "120/120 [==============================] - 1s 7ms/step - loss: 1.1519 - mae: 0.7550 - val_loss: 1.1087 - val_mae: 0.7014\n",
            "Epoch 333/500\n",
            "120/120 [==============================] - 1s 6ms/step - loss: 1.1425 - mae: 0.7469 - val_loss: 1.2609 - val_mae: 0.7775\n",
            "Epoch 334/500\n",
            "120/120 [==============================] - 1s 6ms/step - loss: 1.1166 - mae: 0.7296 - val_loss: 1.2640 - val_mae: 0.7526\n",
            "Epoch 335/500\n",
            "120/120 [==============================] - 1s 6ms/step - loss: 1.1722 - mae: 0.7653 - val_loss: 1.1407 - val_mae: 0.7186\n",
            "Epoch 336/500\n",
            "120/120 [==============================] - 1s 6ms/step - loss: 1.1776 - mae: 0.7581 - val_loss: 1.1507 - val_mae: 0.7253\n",
            "Epoch 337/500\n",
            "120/120 [==============================] - 1s 6ms/step - loss: 1.1424 - mae: 0.7517 - val_loss: 1.3292 - val_mae: 0.8428\n",
            "Epoch 338/500\n",
            "120/120 [==============================] - 1s 6ms/step - loss: 1.1370 - mae: 0.7380 - val_loss: 1.1333 - val_mae: 0.7067\n",
            "Epoch 339/500\n",
            "120/120 [==============================] - 1s 6ms/step - loss: 1.1437 - mae: 0.7466 - val_loss: 1.1614 - val_mae: 0.7299\n",
            "Epoch 340/500\n",
            "120/120 [==============================] - 1s 6ms/step - loss: 1.1694 - mae: 0.7519 - val_loss: 1.0846 - val_mae: 0.6868\n",
            "Epoch 341/500\n",
            "120/120 [==============================] - 1s 6ms/step - loss: 1.1293 - mae: 0.7411 - val_loss: 1.2749 - val_mae: 0.8183\n",
            "Epoch 342/500\n",
            "120/120 [==============================] - 1s 7ms/step - loss: 1.1300 - mae: 0.7410 - val_loss: 1.1664 - val_mae: 0.7581\n",
            "Epoch 343/500\n",
            "120/120 [==============================] - 1s 6ms/step - loss: 1.1859 - mae: 0.7661 - val_loss: 1.1470 - val_mae: 0.7360\n",
            "Epoch 344/500\n",
            "120/120 [==============================] - 1s 6ms/step - loss: 1.1485 - mae: 0.7527 - val_loss: 1.0940 - val_mae: 0.6939\n",
            "Epoch 345/500\n",
            "120/120 [==============================] - 1s 6ms/step - loss: 1.1436 - mae: 0.7506 - val_loss: 1.1463 - val_mae: 0.7243\n",
            "Epoch 346/500\n",
            "120/120 [==============================] - 1s 5ms/step - loss: 77.2165 - mae: 3.6472 - val_loss: 13.2934 - val_mae: 2.8344\n",
            "Epoch 347/500\n",
            "120/120 [==============================] - 1s 6ms/step - loss: 4.9762 - mae: 1.6083 - val_loss: 2.3421 - val_mae: 1.0491\n",
            "Epoch 348/500\n",
            "120/120 [==============================] - 1s 5ms/step - loss: 1.6825 - mae: 0.9028 - val_loss: 1.2505 - val_mae: 0.7565\n",
            "Epoch 349/500\n",
            "120/120 [==============================] - 1s 6ms/step - loss: 1.1065 - mae: 0.7188 - val_loss: 1.1031 - val_mae: 0.6989\n",
            "Epoch 350/500\n",
            "120/120 [==============================] - 1s 6ms/step - loss: 1.0538 - mae: 0.6914 - val_loss: 1.0814 - val_mae: 0.6857\n",
            "Epoch 351/500\n",
            "120/120 [==============================] - 1s 6ms/step - loss: 1.0314 - mae: 0.6776 - val_loss: 1.0668 - val_mae: 0.6721\n",
            "Epoch 352/500\n",
            "120/120 [==============================] - 1s 6ms/step - loss: 1.0275 - mae: 0.6734 - val_loss: 1.0602 - val_mae: 0.6669\n",
            "Epoch 353/500\n",
            "120/120 [==============================] - 1s 6ms/step - loss: 1.0595 - mae: 0.6917 - val_loss: 1.0803 - val_mae: 0.6751\n",
            "Epoch 354/500\n",
            "120/120 [==============================] - 1s 6ms/step - loss: 1.0229 - mae: 0.6716 - val_loss: 1.0491 - val_mae: 0.6626\n",
            "Epoch 355/500\n",
            "120/120 [==============================] - 1s 6ms/step - loss: 1.0267 - mae: 0.6752 - val_loss: 1.1460 - val_mae: 0.7195\n",
            "Epoch 356/500\n",
            "120/120 [==============================] - 1s 6ms/step - loss: 1.0340 - mae: 0.6786 - val_loss: 1.1025 - val_mae: 0.6807\n",
            "Epoch 357/500\n",
            "120/120 [==============================] - 1s 6ms/step - loss: 1.0477 - mae: 0.6850 - val_loss: 1.0605 - val_mae: 0.6685\n",
            "Epoch 358/500\n",
            "120/120 [==============================] - 1s 6ms/step - loss: 1.0175 - mae: 0.6682 - val_loss: 1.0677 - val_mae: 0.6726\n",
            "Epoch 359/500\n",
            "120/120 [==============================] - 1s 6ms/step - loss: 1.0315 - mae: 0.6759 - val_loss: 1.0955 - val_mae: 0.6844\n",
            "Epoch 360/500\n",
            "120/120 [==============================] - 1s 6ms/step - loss: 1.0392 - mae: 0.6812 - val_loss: 1.2412 - val_mae: 0.7483\n",
            "Epoch 361/500\n",
            "120/120 [==============================] - 1s 6ms/step - loss: 1.0433 - mae: 0.6804 - val_loss: 1.1109 - val_mae: 0.6957\n",
            "Epoch 362/500\n",
            "120/120 [==============================] - 1s 7ms/step - loss: 1.0481 - mae: 0.6866 - val_loss: 1.1037 - val_mae: 0.6992\n",
            "Epoch 363/500\n",
            "120/120 [==============================] - 1s 6ms/step - loss: 1.0650 - mae: 0.6936 - val_loss: 1.2122 - val_mae: 0.7689\n",
            "Epoch 364/500\n",
            "120/120 [==============================] - 1s 6ms/step - loss: 1.0642 - mae: 0.6971 - val_loss: 1.0754 - val_mae: 0.6776\n",
            "Epoch 365/500\n",
            "120/120 [==============================] - 1s 6ms/step - loss: 1.0543 - mae: 0.6902 - val_loss: 1.1478 - val_mae: 0.7026\n",
            "Epoch 366/500\n",
            "120/120 [==============================] - 1s 6ms/step - loss: 1.0378 - mae: 0.6819 - val_loss: 1.0793 - val_mae: 0.6860\n",
            "Epoch 367/500\n",
            "120/120 [==============================] - 1s 6ms/step - loss: 1.0559 - mae: 0.6878 - val_loss: 1.1166 - val_mae: 0.7094\n",
            "Epoch 368/500\n",
            "120/120 [==============================] - 1s 6ms/step - loss: 1.0594 - mae: 0.6923 - val_loss: 1.1222 - val_mae: 0.6917\n",
            "Epoch 369/500\n",
            "120/120 [==============================] - 1s 6ms/step - loss: 1.0568 - mae: 0.6939 - val_loss: 1.1898 - val_mae: 0.7435\n",
            "Epoch 370/500\n",
            "120/120 [==============================] - 1s 6ms/step - loss: 1.0450 - mae: 0.6868 - val_loss: 1.0861 - val_mae: 0.6818\n",
            "Epoch 371/500\n",
            "120/120 [==============================] - 1s 6ms/step - loss: 1.0803 - mae: 0.6998 - val_loss: 1.1374 - val_mae: 0.7058\n",
            "Epoch 372/500\n",
            "120/120 [==============================] - 1s 7ms/step - loss: 1.0676 - mae: 0.6978 - val_loss: 1.1018 - val_mae: 0.7098\n",
            "Epoch 373/500\n",
            "120/120 [==============================] - 1s 7ms/step - loss: 1.0677 - mae: 0.7050 - val_loss: 1.0704 - val_mae: 0.6804\n",
            "Epoch 374/500\n",
            "120/120 [==============================] - 1s 6ms/step - loss: 1.0521 - mae: 0.6912 - val_loss: 1.0934 - val_mae: 0.6879\n",
            "Epoch 375/500\n",
            "120/120 [==============================] - 1s 7ms/step - loss: 1.0746 - mae: 0.6990 - val_loss: 1.1231 - val_mae: 0.6968\n",
            "Epoch 376/500\n",
            "120/120 [==============================] - 1s 6ms/step - loss: 1.0665 - mae: 0.6960 - val_loss: 1.0503 - val_mae: 0.6580\n",
            "Epoch 377/500\n",
            "120/120 [==============================] - 1s 6ms/step - loss: 1.0701 - mae: 0.7021 - val_loss: 1.2592 - val_mae: 0.7683\n",
            "Epoch 378/500\n",
            "120/120 [==============================] - 1s 6ms/step - loss: 1.0797 - mae: 0.7049 - val_loss: 1.1769 - val_mae: 0.7439\n",
            "Epoch 379/500\n",
            "120/120 [==============================] - 1s 6ms/step - loss: 1.0740 - mae: 0.7069 - val_loss: 1.0687 - val_mae: 0.6742\n",
            "Epoch 380/500\n",
            "120/120 [==============================] - 1s 7ms/step - loss: 1.0892 - mae: 0.7188 - val_loss: 1.1627 - val_mae: 0.7214\n",
            "Epoch 381/500\n",
            "120/120 [==============================] - 1s 6ms/step - loss: 1.0674 - mae: 0.7070 - val_loss: 1.1049 - val_mae: 0.6882\n",
            "Epoch 382/500\n",
            "120/120 [==============================] - 1s 7ms/step - loss: 1.1156 - mae: 0.7343 - val_loss: 1.6229 - val_mae: 0.9791\n",
            "Epoch 383/500\n",
            "120/120 [==============================] - 1s 6ms/step - loss: 1.1549 - mae: 0.7590 - val_loss: 1.0782 - val_mae: 0.6759\n",
            "Epoch 384/500\n",
            "120/120 [==============================] - 1s 6ms/step - loss: 1.0908 - mae: 0.7165 - val_loss: 1.2096 - val_mae: 0.7592\n",
            "Epoch 385/500\n",
            "120/120 [==============================] - 1s 6ms/step - loss: 1.0756 - mae: 0.7086 - val_loss: 1.0939 - val_mae: 0.6882\n",
            "Epoch 386/500\n",
            "120/120 [==============================] - 1s 6ms/step - loss: 1.0876 - mae: 0.7161 - val_loss: 1.0806 - val_mae: 0.6826\n",
            "Epoch 387/500\n",
            "120/120 [==============================] - 1s 7ms/step - loss: 1.0791 - mae: 0.7083 - val_loss: 1.1140 - val_mae: 0.6878\n",
            "Epoch 388/500\n",
            "120/120 [==============================] - 1s 6ms/step - loss: 1.1490 - mae: 0.7544 - val_loss: 1.4835 - val_mae: 0.8386\n",
            "Epoch 389/500\n",
            "120/120 [==============================] - 1s 6ms/step - loss: 1.1033 - mae: 0.7159 - val_loss: 1.0956 - val_mae: 0.7035\n",
            "Epoch 390/500\n",
            "120/120 [==============================] - 1s 6ms/step - loss: 1.2042 - mae: 0.7782 - val_loss: 1.2855 - val_mae: 0.8105\n",
            "Epoch 391/500\n",
            "120/120 [==============================] - 1s 6ms/step - loss: 1.1452 - mae: 0.7514 - val_loss: 1.1023 - val_mae: 0.7130\n",
            "Epoch 392/500\n",
            "120/120 [==============================] - 1s 6ms/step - loss: 1.0769 - mae: 0.7126 - val_loss: 1.1093 - val_mae: 0.6842\n",
            "Epoch 393/500\n",
            "120/120 [==============================] - 1s 6ms/step - loss: 1.0978 - mae: 0.7242 - val_loss: 1.1561 - val_mae: 0.7228\n",
            "Epoch 394/500\n",
            "120/120 [==============================] - 1s 6ms/step - loss: 1.1176 - mae: 0.7421 - val_loss: 1.0740 - val_mae: 0.6774\n",
            "Epoch 395/500\n",
            "120/120 [==============================] - 1s 7ms/step - loss: 1.0855 - mae: 0.7131 - val_loss: 1.1123 - val_mae: 0.6921\n",
            "Epoch 396/500\n",
            "120/120 [==============================] - 1s 6ms/step - loss: 1.1009 - mae: 0.7254 - val_loss: 1.2572 - val_mae: 0.7890\n",
            "Epoch 397/500\n",
            "120/120 [==============================] - 1s 6ms/step - loss: 1.1076 - mae: 0.7316 - val_loss: 1.2509 - val_mae: 0.7827\n",
            "Epoch 398/500\n",
            "120/120 [==============================] - 1s 6ms/step - loss: 1.0733 - mae: 0.7100 - val_loss: 1.0538 - val_mae: 0.6608\n",
            "Epoch 399/500\n",
            "120/120 [==============================] - 1s 6ms/step - loss: 1.1020 - mae: 0.7258 - val_loss: 1.2303 - val_mae: 0.7635\n",
            "Epoch 400/500\n",
            "120/120 [==============================] - 1s 6ms/step - loss: 1.1004 - mae: 0.7239 - val_loss: 1.2295 - val_mae: 0.7789\n",
            "Epoch 401/500\n",
            "120/120 [==============================] - 1s 6ms/step - loss: 1.1901 - mae: 0.7767 - val_loss: 1.6358 - val_mae: 0.9389\n",
            "Epoch 402/500\n",
            "120/120 [==============================] - 1s 6ms/step - loss: 1.1434 - mae: 0.7383 - val_loss: 1.0700 - val_mae: 0.6673\n",
            "Epoch 403/500\n",
            "120/120 [==============================] - 1s 6ms/step - loss: 1.1348 - mae: 0.7432 - val_loss: 1.1323 - val_mae: 0.7071\n",
            "Epoch 404/500\n",
            "120/120 [==============================] - 1s 6ms/step - loss: 1.0808 - mae: 0.7074 - val_loss: 1.1258 - val_mae: 0.7171\n",
            "Epoch 405/500\n",
            "120/120 [==============================] - 1s 6ms/step - loss: 1.1485 - mae: 0.7476 - val_loss: 1.0940 - val_mae: 0.6892\n",
            "Epoch 406/500\n",
            "120/120 [==============================] - 1s 6ms/step - loss: 1.0858 - mae: 0.7135 - val_loss: 1.1619 - val_mae: 0.7438\n",
            "Epoch 407/500\n",
            "120/120 [==============================] - 1s 6ms/step - loss: 1.1061 - mae: 0.7206 - val_loss: 1.0869 - val_mae: 0.6851\n",
            "Epoch 408/500\n",
            "120/120 [==============================] - 1s 6ms/step - loss: 1.1079 - mae: 0.7303 - val_loss: 1.1654 - val_mae: 0.7499\n",
            "Epoch 409/500\n",
            "120/120 [==============================] - 1s 6ms/step - loss: 1.1063 - mae: 0.7294 - val_loss: 1.1214 - val_mae: 0.7170\n",
            "Epoch 410/500\n",
            "120/120 [==============================] - 1s 6ms/step - loss: 1.1890 - mae: 0.7750 - val_loss: 1.2088 - val_mae: 0.7371\n",
            "Epoch 411/500\n",
            "120/120 [==============================] - 1s 7ms/step - loss: 1.1379 - mae: 0.7437 - val_loss: 1.1250 - val_mae: 0.7181\n",
            "Epoch 412/500\n",
            "120/120 [==============================] - 1s 6ms/step - loss: 1.1714 - mae: 0.7699 - val_loss: 1.1209 - val_mae: 0.7015\n",
            "Epoch 413/500\n",
            "120/120 [==============================] - 1s 6ms/step - loss: 1.1582 - mae: 0.7524 - val_loss: 1.0620 - val_mae: 0.6728\n",
            "Epoch 414/500\n",
            "120/120 [==============================] - 1s 7ms/step - loss: 1.1302 - mae: 0.7389 - val_loss: 1.1417 - val_mae: 0.7252\n",
            "Epoch 415/500\n",
            "120/120 [==============================] - 1s 6ms/step - loss: 1.1215 - mae: 0.7341 - val_loss: 1.1673 - val_mae: 0.7322\n",
            "Epoch 416/500\n",
            "120/120 [==============================] - 1s 6ms/step - loss: 1.1257 - mae: 0.7382 - val_loss: 1.2399 - val_mae: 0.7630\n",
            "Epoch 417/500\n",
            "120/120 [==============================] - 1s 6ms/step - loss: 1.1456 - mae: 0.7446 - val_loss: 1.3198 - val_mae: 0.8344\n",
            "Epoch 418/500\n",
            "120/120 [==============================] - 1s 7ms/step - loss: 1.1443 - mae: 0.7480 - val_loss: 1.1801 - val_mae: 0.7220\n",
            "Epoch 419/500\n",
            "120/120 [==============================] - 1s 7ms/step - loss: 1.1193 - mae: 0.7326 - val_loss: 1.1123 - val_mae: 0.7185\n",
            "Epoch 420/500\n",
            "120/120 [==============================] - 1s 7ms/step - loss: 1.1767 - mae: 0.7747 - val_loss: 1.7455 - val_mae: 1.0447\n",
            "Epoch 421/500\n",
            "120/120 [==============================] - 1s 7ms/step - loss: 1.1561 - mae: 0.7575 - val_loss: 1.1554 - val_mae: 0.7307\n",
            "Epoch 422/500\n",
            "120/120 [==============================] - 1s 6ms/step - loss: 1.1593 - mae: 0.7515 - val_loss: 1.1671 - val_mae: 0.7407\n",
            "Epoch 423/500\n",
            "120/120 [==============================] - 1s 6ms/step - loss: 1.1259 - mae: 0.7278 - val_loss: 1.1563 - val_mae: 0.7218\n",
            "Epoch 424/500\n",
            "120/120 [==============================] - 1s 6ms/step - loss: 1.0840 - mae: 0.7047 - val_loss: 1.1849 - val_mae: 0.7459\n",
            "Epoch 425/500\n",
            "120/120 [==============================] - 1s 6ms/step - loss: 1.1437 - mae: 0.7533 - val_loss: 1.1444 - val_mae: 0.7168\n",
            "Epoch 426/500\n",
            "120/120 [==============================] - 1s 6ms/step - loss: 1.0856 - mae: 0.7143 - val_loss: 1.2077 - val_mae: 0.7353\n",
            "Epoch 427/500\n",
            "120/120 [==============================] - 1s 6ms/step - loss: 1.1040 - mae: 0.7238 - val_loss: 1.1230 - val_mae: 0.7044\n",
            "Epoch 428/500\n",
            "120/120 [==============================] - 1s 6ms/step - loss: 1.1578 - mae: 0.7492 - val_loss: 1.1163 - val_mae: 0.7090\n",
            "Epoch 429/500\n",
            "120/120 [==============================] - 1s 6ms/step - loss: 1.0886 - mae: 0.7138 - val_loss: 1.1554 - val_mae: 0.7115\n",
            "Epoch 430/500\n",
            "120/120 [==============================] - 1s 6ms/step - loss: 1.1114 - mae: 0.7264 - val_loss: 1.1226 - val_mae: 0.7176\n",
            "Epoch 431/500\n",
            "120/120 [==============================] - 1s 7ms/step - loss: 1.0976 - mae: 0.7235 - val_loss: 1.1745 - val_mae: 0.7479\n",
            "Epoch 432/500\n",
            "120/120 [==============================] - 1s 6ms/step - loss: 1.0789 - mae: 0.7106 - val_loss: 1.1444 - val_mae: 0.7424\n",
            "Epoch 433/500\n",
            "120/120 [==============================] - 1s 6ms/step - loss: 1.1087 - mae: 0.7311 - val_loss: 1.1503 - val_mae: 0.7334\n",
            "Epoch 434/500\n",
            "120/120 [==============================] - 1s 6ms/step - loss: 1.1111 - mae: 0.7300 - val_loss: 1.2443 - val_mae: 0.7915\n",
            "Epoch 435/500\n",
            "120/120 [==============================] - 1s 7ms/step - loss: 1.2399 - mae: 0.8026 - val_loss: 1.2654 - val_mae: 0.8019\n",
            "Epoch 436/500\n",
            "120/120 [==============================] - 1s 6ms/step - loss: 1.1336 - mae: 0.7397 - val_loss: 1.1516 - val_mae: 0.7155\n",
            "Epoch 437/500\n",
            "120/120 [==============================] - 1s 6ms/step - loss: 1.1446 - mae: 0.7514 - val_loss: 1.1758 - val_mae: 0.7385\n",
            "Epoch 438/500\n",
            "120/120 [==============================] - 1s 6ms/step - loss: 1.1287 - mae: 0.7393 - val_loss: 1.2803 - val_mae: 0.7881\n",
            "Epoch 439/500\n",
            "120/120 [==============================] - 1s 7ms/step - loss: 1.1056 - mae: 0.7211 - val_loss: 1.2292 - val_mae: 0.7465\n",
            "Epoch 440/500\n",
            "120/120 [==============================] - 1s 6ms/step - loss: 1.1355 - mae: 0.7437 - val_loss: 1.2420 - val_mae: 0.7920\n",
            "Epoch 441/500\n",
            "120/120 [==============================] - 1s 6ms/step - loss: 1.1093 - mae: 0.7344 - val_loss: 1.1148 - val_mae: 0.7127\n",
            "Epoch 442/500\n",
            "120/120 [==============================] - 1s 7ms/step - loss: 1.1327 - mae: 0.7359 - val_loss: 1.2911 - val_mae: 0.7990\n",
            "Epoch 443/500\n",
            "120/120 [==============================] - 1s 7ms/step - loss: 1.1361 - mae: 0.7411 - val_loss: 1.2772 - val_mae: 0.7737\n",
            "Epoch 444/500\n",
            "120/120 [==============================] - 1s 6ms/step - loss: 1.0992 - mae: 0.7180 - val_loss: 1.0775 - val_mae: 0.6744\n",
            "Epoch 445/500\n",
            "120/120 [==============================] - 1s 6ms/step - loss: 1.1278 - mae: 0.7385 - val_loss: 1.0917 - val_mae: 0.6809\n",
            "Epoch 446/500\n",
            "120/120 [==============================] - 1s 6ms/step - loss: 1.0970 - mae: 0.7234 - val_loss: 1.1025 - val_mae: 0.6934\n",
            "Epoch 447/500\n",
            "120/120 [==============================] - 1s 6ms/step - loss: 1.1224 - mae: 0.7400 - val_loss: 1.0680 - val_mae: 0.6728\n",
            "Epoch 448/500\n",
            "120/120 [==============================] - 1s 6ms/step - loss: 1.1269 - mae: 0.7318 - val_loss: 1.1476 - val_mae: 0.7398\n",
            "Epoch 449/500\n",
            "120/120 [==============================] - 1s 6ms/step - loss: 1.1179 - mae: 0.7330 - val_loss: 1.1299 - val_mae: 0.7172\n",
            "Epoch 450/500\n",
            "120/120 [==============================] - 1s 6ms/step - loss: 1.1592 - mae: 0.7542 - val_loss: 1.4371 - val_mae: 0.8875\n",
            "Epoch 451/500\n",
            "120/120 [==============================] - 1s 7ms/step - loss: 1.1375 - mae: 0.7403 - val_loss: 1.1842 - val_mae: 0.7198\n",
            "Epoch 452/500\n",
            "120/120 [==============================] - 1s 6ms/step - loss: 1.1239 - mae: 0.7328 - val_loss: 1.1395 - val_mae: 0.7207\n",
            "Epoch 453/500\n",
            "120/120 [==============================] - 1s 6ms/step - loss: 1.0918 - mae: 0.7124 - val_loss: 1.0925 - val_mae: 0.6897\n",
            "Epoch 454/500\n",
            "120/120 [==============================] - 1s 6ms/step - loss: 1.1159 - mae: 0.7313 - val_loss: 1.1143 - val_mae: 0.6940\n",
            "Epoch 455/500\n",
            "120/120 [==============================] - 1s 6ms/step - loss: 1.1267 - mae: 0.7394 - val_loss: 1.1024 - val_mae: 0.7030\n",
            "Epoch 456/500\n",
            "120/120 [==============================] - 1s 6ms/step - loss: 1.1115 - mae: 0.7272 - val_loss: 1.1395 - val_mae: 0.7337\n",
            "Epoch 457/500\n",
            "120/120 [==============================] - 1s 6ms/step - loss: 1.2380 - mae: 0.7993 - val_loss: 1.0998 - val_mae: 0.6890\n",
            "Epoch 458/500\n",
            "120/120 [==============================] - 1s 6ms/step - loss: 1.1076 - mae: 0.7225 - val_loss: 1.1277 - val_mae: 0.7225\n",
            "Epoch 459/500\n",
            "120/120 [==============================] - 1s 6ms/step - loss: 1.1482 - mae: 0.7489 - val_loss: 1.2861 - val_mae: 0.8211\n",
            "Epoch 460/500\n",
            "120/120 [==============================] - 1s 6ms/step - loss: 1.1975 - mae: 0.7741 - val_loss: 1.1277 - val_mae: 0.7088\n",
            "Epoch 461/500\n",
            "120/120 [==============================] - 1s 7ms/step - loss: 1.1335 - mae: 0.7332 - val_loss: 1.1476 - val_mae: 0.7331\n",
            "Epoch 462/500\n",
            "120/120 [==============================] - 1s 6ms/step - loss: 1.1030 - mae: 0.7217 - val_loss: 1.2401 - val_mae: 0.7816\n",
            "Epoch 463/500\n",
            "120/120 [==============================] - 1s 6ms/step - loss: 1.1112 - mae: 0.7309 - val_loss: 1.1391 - val_mae: 0.7063\n",
            "Epoch 464/500\n",
            "120/120 [==============================] - 1s 7ms/step - loss: 1.0821 - mae: 0.7077 - val_loss: 1.0680 - val_mae: 0.6760\n",
            "Epoch 465/500\n",
            "120/120 [==============================] - 1s 6ms/step - loss: 1.1074 - mae: 0.7228 - val_loss: 1.0587 - val_mae: 0.6721\n",
            "Epoch 466/500\n",
            "120/120 [==============================] - 1s 6ms/step - loss: 1.1142 - mae: 0.7270 - val_loss: 1.2816 - val_mae: 0.8020\n",
            "Epoch 467/500\n",
            "120/120 [==============================] - 1s 7ms/step - loss: 1.1354 - mae: 0.7346 - val_loss: 1.1461 - val_mae: 0.7408\n",
            "Epoch 468/500\n",
            "120/120 [==============================] - 1s 6ms/step - loss: 1.2600 - mae: 0.8068 - val_loss: 1.0870 - val_mae: 0.6938\n",
            "Epoch 469/500\n",
            "120/120 [==============================] - 1s 6ms/step - loss: 1.0678 - mae: 0.6963 - val_loss: 1.1411 - val_mae: 0.7186\n",
            "Epoch 470/500\n",
            "120/120 [==============================] - 1s 6ms/step - loss: 1.1028 - mae: 0.7246 - val_loss: 1.1538 - val_mae: 0.7278\n",
            "Epoch 471/500\n",
            "120/120 [==============================] - 1s 6ms/step - loss: 1.0887 - mae: 0.7164 - val_loss: 1.0828 - val_mae: 0.6925\n",
            "Epoch 472/500\n",
            "120/120 [==============================] - 1s 6ms/step - loss: 1.1205 - mae: 0.7296 - val_loss: 1.3618 - val_mae: 0.8574\n",
            "Epoch 473/500\n",
            "120/120 [==============================] - 1s 7ms/step - loss: 1.1706 - mae: 0.7647 - val_loss: 1.1250 - val_mae: 0.6929\n",
            "Epoch 474/500\n",
            "120/120 [==============================] - 1s 6ms/step - loss: 1.0867 - mae: 0.7100 - val_loss: 1.1211 - val_mae: 0.6907\n",
            "Epoch 475/500\n",
            "120/120 [==============================] - 1s 6ms/step - loss: 1.0948 - mae: 0.7135 - val_loss: 1.1297 - val_mae: 0.7062\n",
            "Epoch 476/500\n",
            "120/120 [==============================] - 1s 6ms/step - loss: 1.0689 - mae: 0.7009 - val_loss: 1.1648 - val_mae: 0.7368\n",
            "Epoch 477/500\n",
            "120/120 [==============================] - 1s 6ms/step - loss: 1.0778 - mae: 0.7082 - val_loss: 1.1275 - val_mae: 0.7189\n",
            "Epoch 478/500\n",
            "120/120 [==============================] - 1s 6ms/step - loss: 1.1297 - mae: 0.7413 - val_loss: 1.0953 - val_mae: 0.6910\n",
            "Epoch 479/500\n",
            "120/120 [==============================] - 1s 6ms/step - loss: 1.1664 - mae: 0.7654 - val_loss: 1.1459 - val_mae: 0.7291\n",
            "Epoch 480/500\n",
            "120/120 [==============================] - 1s 6ms/step - loss: 1.1338 - mae: 0.7469 - val_loss: 1.1568 - val_mae: 0.7395\n",
            "Epoch 481/500\n",
            "120/120 [==============================] - 1s 6ms/step - loss: 1.1466 - mae: 0.7507 - val_loss: 1.2065 - val_mae: 0.7521\n",
            "Epoch 482/500\n",
            "120/120 [==============================] - 1s 7ms/step - loss: 1.1238 - mae: 0.7291 - val_loss: 1.1412 - val_mae: 0.7348\n",
            "Epoch 483/500\n",
            "120/120 [==============================] - 1s 7ms/step - loss: 1.0940 - mae: 0.7173 - val_loss: 1.2414 - val_mae: 0.7948\n",
            "Epoch 484/500\n",
            "120/120 [==============================] - 1s 7ms/step - loss: 1.0727 - mae: 0.7091 - val_loss: 1.1715 - val_mae: 0.7324\n",
            "Epoch 485/500\n",
            "120/120 [==============================] - 1s 7ms/step - loss: 1.0811 - mae: 0.7110 - val_loss: 1.1130 - val_mae: 0.7053\n",
            "Epoch 486/500\n",
            "120/120 [==============================] - 1s 6ms/step - loss: 1.0803 - mae: 0.7092 - val_loss: 1.1728 - val_mae: 0.7443\n",
            "Epoch 487/500\n",
            "120/120 [==============================] - 1s 6ms/step - loss: 1.0891 - mae: 0.7199 - val_loss: 1.1339 - val_mae: 0.7224\n",
            "Epoch 488/500\n",
            "120/120 [==============================] - 1s 6ms/step - loss: 1.1064 - mae: 0.7236 - val_loss: 1.1209 - val_mae: 0.7155\n",
            "Epoch 489/500\n",
            "120/120 [==============================] - 1s 6ms/step - loss: 1.1239 - mae: 0.7459 - val_loss: 1.1579 - val_mae: 0.7525\n",
            "Epoch 490/500\n",
            "120/120 [==============================] - 1s 7ms/step - loss: 1.1289 - mae: 0.7451 - val_loss: 1.0978 - val_mae: 0.6942\n",
            "Epoch 491/500\n",
            "120/120 [==============================] - 1s 6ms/step - loss: 1.1080 - mae: 0.7218 - val_loss: 1.2830 - val_mae: 0.8153\n",
            "Epoch 492/500\n",
            "120/120 [==============================] - 1s 7ms/step - loss: 1.1290 - mae: 0.7345 - val_loss: 1.2821 - val_mae: 0.8089\n",
            "Epoch 493/500\n",
            "120/120 [==============================] - 1s 7ms/step - loss: 1.1023 - mae: 0.7239 - val_loss: 1.0781 - val_mae: 0.6745\n",
            "Epoch 494/500\n",
            "120/120 [==============================] - 1s 7ms/step - loss: 1.1377 - mae: 0.7478 - val_loss: 1.1084 - val_mae: 0.6963\n",
            "Epoch 495/500\n",
            "120/120 [==============================] - 1s 7ms/step - loss: 1.1071 - mae: 0.7217 - val_loss: 1.1885 - val_mae: 0.7484\n",
            "Epoch 496/500\n",
            "120/120 [==============================] - 1s 6ms/step - loss: 1.1184 - mae: 0.7344 - val_loss: 1.2442 - val_mae: 0.8009\n",
            "Epoch 497/500\n",
            "120/120 [==============================] - 1s 6ms/step - loss: 1.1328 - mae: 0.7395 - val_loss: 1.1069 - val_mae: 0.7054\n",
            "Epoch 498/500\n",
            "120/120 [==============================] - 1s 6ms/step - loss: 1.1769 - mae: 0.7647 - val_loss: 1.1481 - val_mae: 0.7352\n",
            "Epoch 499/500\n",
            "120/120 [==============================] - 1s 6ms/step - loss: 1.1279 - mae: 0.7362 - val_loss: 1.1154 - val_mae: 0.7187\n",
            "Epoch 500/500\n",
            "120/120 [==============================] - 1s 6ms/step - loss: 1.1011 - mae: 0.7258 - val_loss: 1.4522 - val_mae: 0.8529\n",
            "INFO:tensorflow:Assets written to: saved_model/STM32_AI_Test/assets\n"
          ]
        }
      ]
    },
    {
      "cell_type": "markdown",
      "source": [
        "# Evaluate the training performance"
      ],
      "metadata": {
        "id": "hm2y2S51MH4s"
      }
    },
    {
      "cell_type": "code",
      "source": [
        "### Draw a graph of the loss, which is the distance between\n",
        "# the predicted and actual values during training and validation.\n",
        "train_loss = history_1.history['loss']\n",
        "val_loss = history_1.history['val_loss']\n",
        "\n",
        "epochs = range(1, len(train_loss) + 1)\n",
        "\n",
        "plt.plot(epochs, train_loss, 'g.', label='Training loss')\n",
        "plt.plot(epochs, val_loss, 'b', label='Validation loss')\n",
        "plt.title('Training and validation loss')\n",
        "plt.xlabel('Epochs')\n",
        "plt.ylabel('Loss')\n",
        "plt.legend()\n",
        "plt.show()"
      ],
      "metadata": {
        "id": "DO5sw9BxMK5E",
        "colab": {
          "base_uri": "https://localhost:8080/",
          "height": 295
        },
        "outputId": "54e70516-8f6e-49ba-afab-0262d7fd3c56"
      },
      "execution_count": 318,
      "outputs": [
        {
          "output_type": "display_data",
          "data": {
            "image/png": "[encoded data removed]",
            "text/plain": [
              "<Figure size 432x288 with 1 Axes>"
            ]
          },
          "metadata": {
            "needs_background": "light"
          }
        }
      ]
    },
    {
      "cell_type": "code",
      "source": [
        "# evaluate the keras model\n",
        "_, accuracy = model_1.evaluate(y_validate, x_validate)\n",
        "print('Accuracy: %.2f' % (accuracy*100))"
      ],
      "metadata": {
        "colab": {
          "base_uri": "https://localhost:8080/"
        },
        "id": "kZ6rMEUZvYZ-",
        "outputId": "3482fae3-58d8-4e4a-80db-dcc65b7f9a04"
      },
      "execution_count": 317,
      "outputs": [
        {
          "output_type": "stream",
          "name": "stdout",
          "text": [
            "63/63 [==============================] - 0s 2ms/step - loss: 1.4522 - mae: 0.8529\n",
            "Accuracy: 85.29\n"
          ]
        }
      ]
    },
    {
      "cell_type": "code",
      "metadata": {
        "id": "i13eVIT3B9Mj"
      },
      "source": [
        "# Test a couple of waveforms\n",
        "# remember:\n",
        "#     y = waveforms\n",
        "#     x = truth parameters\n",
        "\n",
        "x_test = x_values[1]\n",
        "y_test = np.array(generateTemplate(position = x_test[0], pulse_length = x_test[1], height=x_test[2], noise=0))\n",
        "\n",
        "# waveform needs to be reshaped to be fed into ANN\n",
        "y_test = y_test.reshape(1,128)\n",
        "\n",
        "# try, whether we can reconstruct the parameters x_test from the waveform y_test\n",
        "model_1.make_predict_function()\n",
        "x_test_pred = np.array(model_1.predict(y_test)[0]) * 255\n",
        "\n",
        "print(\"sample pulse created: \", x_test)\n",
        "print(\"ANN reconstructed:    \", x_test_pred)"
      ],
      "execution_count": null,
      "outputs": []
    },
    {
      "cell_type": "markdown",
      "source": [
        "## Have a look at the reconstructed parameters\n",
        "\n",
        "Get some random pulses, and have a look how they are reconstructed by the network.\n"
      ],
      "metadata": {
        "id": "A0DU0ZLx59Z8"
      }
    },
    {
      "cell_type": "code",
      "source": [
        "# number of test waveforms\n",
        "TEST_SAMPLES = 1000"
      ],
      "metadata": {
        "id": "BDet8lS36gIz"
      },
      "execution_count": null,
      "outputs": []
    },
    {
      "cell_type": "code",
      "source": [
        "waveforms = []        # generated waveforms\n",
        "orig_parameters = []  # parameters, which are used for the generation\n",
        "NN_parameters = []    # parameters, reconstructed by the NN\n",
        "\n",
        "# vary the parameters to have a look a the performance outside the trained \n",
        "# parameter boundaries.\n",
        "parameter_variation = 0.\n",
        "\n",
        "# increase the range of parameters in order to see, what is happening\n",
        "T_width    = ( P_width[0]    * (1 - parameter_variation) , P_width[1]    * (1 + parameter_variation) )\n",
        "T_position = ( P_position[0] * (1 - parameter_variation) , P_position[1] * (1 + parameter_variation) )\n",
        "T_height   = ( P_height[0]   * (1 - parameter_variation) , P_height[1]   * (1 + parameter_variation) )\n",
        "\n",
        "# generate the waveforms\n",
        "for i in range(TEST_SAMPLES):\n",
        "  # use random settings\n",
        "  width = np.random.randint( *T_width )\n",
        "  position = np.random.randint( *T_position )\n",
        "  height = np.random.randint( *T_height )\n",
        "\n",
        "  orig_parameters.append( (width, position, height) )\n",
        "  waveforms.append( np.array(generateTemplate(position = position, pulse_length = width, height=height, noise=noise) ) )"
      ],
      "metadata": {
        "id": "qvu48FbE6UTm"
      },
      "execution_count": 312,
      "outputs": []
    },
    {
      "cell_type": "code",
      "source": [
        "for i in range(TEST_SAMPLES):\n",
        "  # waveform needs to be reshaped to be fed into ANN\n",
        "  waveform = waveforms[i].reshape(1,128)\n",
        "  NN_parameters.append( np.array( model_1.predict(waveform)[0]) * 255 )\n"
      ],
      "metadata": {
        "id": "IXDLAkyy6lrh"
      },
      "execution_count": 313,
      "outputs": []
    },
    {
      "cell_type": "markdown",
      "source": [
        "Plot the distributions"
      ],
      "metadata": {
        "id": "GI7iIFsN7LMw"
      }
    },
    {
      "cell_type": "code",
      "source": [
        "plot_x = [k[0] for k in orig_parameters]\n",
        "plot_y = [k[0] for k in NN_parameters]\n",
        "plt.hist2d(plot_x, plot_y, bins=32, norm=LogNorm())\n",
        "plt.vlines(np.array(P_width),ymin=0, ymax=100)\n",
        "plt.title(\"width\")\n",
        "plt.ylabel(\"NN parameter\")\n",
        "plt.xlabel(\"truth parameter\")\n",
        "plt.show()"
      ],
      "metadata": {
        "colab": {
          "base_uri": "https://localhost:8080/",
          "height": 295
        },
        "id": "4abhDols7ORo",
        "outputId": "3601f80d-8cb6-4753-da1e-7e50375de6dc"
      },
      "execution_count": 314,
      "outputs": [
        {
          "data": {
            "image/png": "[encoded data removed]",
            "text/plain": [
              "<Figure size 432x288 with 1 Axes>"
            ]
          },
          "metadata": {},
          "output_type": "display_data"
        }
      ]
    },
    {
      "cell_type": "code",
      "source": [
        "plot_x = [k[1] for k in orig_parameters]\n",
        "plot_y = [k[1] for k in NN_parameters]\n",
        "plt.hist2d(plot_x, plot_y, bins=32, norm=LogNorm())\n",
        "plt.vlines(np.array(P_position),ymin=0, ymax=100)\n",
        "plt.title(\"postition\")\n",
        "plt.ylabel(\"NN parameter\")\n",
        "plt.xlabel(\"truth parameter\")\n",
        "plt.show()"
      ],
      "metadata": {
        "colab": {
          "base_uri": "https://localhost:8080/",
          "height": 295
        },
        "id": "ql9DsEfg72Px",
        "outputId": "38755bbb-4375-463c-856e-cee9789d9ea9"
      },
      "execution_count": 315,
      "outputs": [
        {
          "data": {
            "image/png": "[encoded data removed]",
            "text/plain": [
              "<Figure size 432x288 with 1 Axes>"
            ]
          },
          "metadata": {},
          "output_type": "display_data"
        }
      ]
    },
    {
      "cell_type": "code",
      "source": [
        "plot_x = [k[2] for k in orig_parameters]\n",
        "plot_y = [k[2] for k in NN_parameters]\n",
        "plt.hist2d(plot_x, plot_y, bins=32, norm=LogNorm())\n",
        "plt.vlines(np.array(P_height),ymin=0, ymax=1000)\n",
        "plt.title(\"height\")\n",
        "plt.ylabel(\"NN parameter\")\n",
        "plt.xlabel(\"truth parameter\")\n",
        "plt.show()"
      ],
      "metadata": {
        "colab": {
          "base_uri": "https://localhost:8080/",
          "height": 295
        },
        "id": "4Co7DGIk740X",
        "outputId": "115d7638-a7d5-468e-f350-506d70246bf7"
      },
      "execution_count": 316,
      "outputs": [
        {
          "data": {
            "image/png": "[encoded data removed]",
            "text/plain": [
              "<Figure size 432x288 with 1 Axes>"
            ]
          },
          "metadata": {},
          "output_type": "display_data"
        }
      ]
    },
    {
      "cell_type": "markdown",
      "source": [
        "# Export to STM32"
      ],
      "metadata": {
        "id": "rB2GEVaYSFSn"
      }
    },
    {
      "cell_type": "markdown",
      "source": [
        "following:\n",
        "This [tutorial](https://www.digikey.de/en/maker/projects/tinyml-getting-started-with-stm32-x-cube-ai/f94e1c8bfc1e4b6291d0f672d780d2c0) from DigiKey "
      ],
      "metadata": {
        "id": "NMQ5nDGrXHo_"
      }
    },
    {
      "cell_type": "code",
      "source": [
        "# settings\n",
        "tflite_model_name = 'pulse_reco'  # Will be given .tflite suffix\n",
        "c_model_name = 'pulse_reco'       # Will be given .h suffix"
      ],
      "metadata": {
        "id": "aL0G5NQ8YULj"
      },
      "execution_count": 321,
      "outputs": []
    },
    {
      "cell_type": "code",
      "source": [
        "# Convert Keras model to a tflite model\n",
        "converter = tf.lite.TFLiteConverter.from_keras_model(model_1)\n",
        "converter.optimizations = [tf.lite.Optimize.OPTIMIZE_FOR_SIZE]\n",
        "tflite_model = converter.convert()\n",
        "\n",
        "open(tflite_model_name+'.tflite', 'wb').write(tflite_model)"
      ],
      "metadata": {
        "colab": {
          "base_uri": "https://localhost:8080/"
        },
        "id": "aRqSNF9LXy-4",
        "outputId": "3afee686-b7f6-44ee-b3a3-680afa3da328"
      },
      "execution_count": 323,
      "outputs": [
        {
          "output_type": "stream",
          "name": "stderr",
          "text": [
            "WARNING:absl:Optimization option OPTIMIZE_FOR_SIZE is deprecated, please use optimizations=[Optimize.DEFAULT] instead.\n"
          ]
        },
        {
          "output_type": "stream",
          "name": "stdout",
          "text": [
            "INFO:tensorflow:Assets written to: /tmp/tmpgg4lj7xz/assets\n"
          ]
        },
        {
          "output_type": "stream",
          "name": "stderr",
          "text": [
            "INFO:tensorflow:Assets written to: /tmp/tmpgg4lj7xz/assets\n",
            "WARNING:absl:Optimization option OPTIMIZE_FOR_SIZE is deprecated, please use optimizations=[Optimize.DEFAULT] instead.\n",
            "WARNING:absl:Optimization option OPTIMIZE_FOR_SIZE is deprecated, please use optimizations=[Optimize.DEFAULT] instead.\n",
            "WARNING:absl:Buffer deduplication procedure will be skipped when flatbuffer library is not properly loaded\n"
          ]
        },
        {
          "output_type": "execute_result",
          "data": {
            "text/plain": [
              "70576"
            ]
          },
          "metadata": {},
          "execution_count": 323
        }
      ]
    },
    {
      "cell_type": "code",
      "source": [
        "# Function: Convert some hex value into an array for C programming\n",
        "def hex_to_c_array(hex_data, var_name):\n",
        "\n",
        "  c_str = ''\n",
        "\n",
        "  # Create header guard\n",
        "  c_str += '#ifndef ' + var_name.upper() + '_H\\n'\n",
        "  c_str += '#define ' + var_name.upper() + '_H\\n\\n'\n",
        "\n",
        "  # Add array length at top of file\n",
        "  c_str += '\\nunsigned int ' + var_name + '_len = ' + str(len(hex_data)) + ';\\n'\n",
        "\n",
        "  # Declare C variable\n",
        "  c_str += 'unsigned char ' + var_name + '[] = {'\n",
        "  hex_array = []\n",
        "  for i, val in enumerate(hex_data) :\n",
        "\n",
        "    # Construct string from hex\n",
        "    hex_str = format(val, '#04x')\n",
        "\n",
        "    # Add formatting so each line stays within 80 characters\n",
        "    if (i + 1) < len(hex_data):\n",
        "      hex_str += ','\n",
        "    if (i + 1) % 12 == 0:\n",
        "      hex_str += '\\n '\n",
        "    hex_array.append(hex_str)\n",
        "\n",
        "  # Add closing brace\n",
        "  c_str += '\\n ' + format(' '.join(hex_array)) + '\\n};\\n\\n'\n",
        "\n",
        "  # Close out header guard\n",
        "  c_str += '#endif //' + var_name.upper() + '_H'\n",
        "\n",
        "  return c_str"
      ],
      "metadata": {
        "id": "G-VvztmrY2VS"
      },
      "execution_count": 326,
      "outputs": []
    },
    {
      "cell_type": "code",
      "source": [
        "# Write TFLite model to a C source (or header) file\n",
        "with open(c_model_name+'.h', 'w') as file:\n",
        "  file.write(hex_to_c_array(tflite_model, c_model_name))"
      ],
      "metadata": {
        "id": "yOD5yDG9XmFy"
      },
      "execution_count": 327,
      "outputs": []
    }
  ]
}