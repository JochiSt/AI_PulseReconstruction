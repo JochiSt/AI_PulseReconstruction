{
  "nbformat": 4,
  "nbformat_minor": 0,
  "metadata": {
    "colab": {
      "name": "TestSTM32_AI.ipynb",
      "provenance": [],
      "collapsed_sections": [],
      "authorship_tag": "ABX9TyOfh0EqGuuMNKjvIzUjjBwl",
      "include_colab_link": true
    },
    "kernelspec": {
      "name": "python3",
      "display_name": "Python 3"
    },
    "language_info": {
      "name": "python"
    }
  },
  "cells": [
    {
      "cell_type": "markdown",
      "metadata": {
        "id": "view-in-github",
        "colab_type": "text"
      },
      "source": [
        "<a href=\"https://colab.research.google.com/github/JochiSt/AI_PulseReconstruction/blob/main/TestSTM32_AI.ipynb\" target=\"_parent\"><img src=\"https://colab.research.google.com/assets/colab-badge.svg\" alt=\"Open In Colab\"/></a>"
      ]
    },
    {
      "cell_type": "markdown",
      "source": [
        "# Pulse recognition AI\n",
        "\n",
        "first all the imports"
      ],
      "metadata": {
        "id": "brM0YAG3Vcen"
      }
    },
    {
      "cell_type": "code",
      "execution_count": 50,
      "metadata": {
        "id": "dW80rxgzVZ8z"
      },
      "outputs": [],
      "source": [
        "import numpy as np\n",
        "import matplotlib.pyplot as plt\n",
        "from matplotlib.colors import LogNorm"
      ]
    },
    {
      "cell_type": "markdown",
      "source": [
        "## Generate template"
      ],
      "metadata": {
        "id": "XUxegHb0V0qN"
      }
    },
    {
      "cell_type": "code",
      "source": [
        "TOTAL_SAMPLES = 128\n",
        "RISING_POINTS = 4\n",
        "\n",
        "def generateTemplate(position = 0, pulse_length = 32, height=1, noise=0):\n",
        "\n",
        "  assert TOTAL_SAMPLES - pulse_length - position - RISING_POINTS * 2 > 0\n",
        "\n",
        "  # zeroes at front of the pulse\n",
        "  template = np.zeros(position)\n",
        "\n",
        "  # create rising edge\n",
        "  template = np.append(template, np.linspace(0,1,RISING_POINTS, endpoint=False))\n",
        "\n",
        "  # high part of the pulse\n",
        "  template = np.append(template, np.ones(pulse_length))\n",
        "\n",
        "  # create falling edge\n",
        "  template = np.append(template, np.linspace(1,0,RISING_POINTS, endpoint=False))\n",
        "\n",
        "  # zeroes after the pulse\n",
        "  template = np.append(template, np.zeros( TOTAL_SAMPLES - pulse_length - position - 2*RISING_POINTS))\n",
        "\n",
        "  # multiply by the height to get the right amplitude\n",
        "  template *= height\n",
        "\n",
        "  # add some noise\n",
        "  template  += noise * np.random.randn(*template.shape)\n",
        "\n",
        "  # convert to integer\n",
        "  template = template.astype(int)\n",
        "\n",
        "  return template\n",
        "\n",
        "print(\"template length: \", len(generateTemplate()))"
      ],
      "metadata": {
        "colab": {
          "base_uri": "https://localhost:8080/"
        },
        "id": "RPOJ8P9jWBRa",
        "outputId": "323d3c3f-a802-4173-d812-fa3f979520f1"
      },
      "execution_count": 51,
      "outputs": [
        {
          "output_type": "stream",
          "name": "stdout",
          "text": [
            "template length:  128\n"
          ]
        }
      ]
    },
    {
      "cell_type": "markdown",
      "source": [
        "Have a look at the template visually"
      ],
      "metadata": {
        "id": "I1PFw1tzV8kx"
      }
    },
    {
      "cell_type": "code",
      "source": [
        "plt.plot(generateTemplate(position = 32, pulse_length=32, height=128), 'b.')\n",
        "plt.plot(generateTemplate(position = 16, pulse_length=64, height=128), 'r.')\n",
        "plt.show()"
      ],
      "metadata": {
        "colab": {
          "base_uri": "https://localhost:8080/",
          "height": 265
        },
        "id": "L1VUYDhUWw9t",
        "outputId": "243b6e0d-fd39-413a-936a-df27dbfefda4"
      },
      "execution_count": 52,
      "outputs": [
        {
          "output_type": "display_data",
          "data": {
            "text/plain": [
              "<Figure size 432x288 with 1 Axes>"
            ],
            "image/png": "[encoded data removed]"
          },
          "metadata": {
            "needs_background": "light"
          }
        }
      ]
    },
    {
      "cell_type": "markdown",
      "source": [
        "add some noise, and maybe shift the position\n",
        "\n",
        "\n",
        "\n"
      ],
      "metadata": {
        "id": "kYBulwl2XGvg"
      }
    },
    {
      "cell_type": "code",
      "source": [
        "# Plot our data\n",
        "plt.plot(generateTemplate(height=128, noise=1), 'b.')\n",
        "plt.show()"
      ],
      "metadata": {
        "id": "ouyegrmBXGJg",
        "colab": {
          "base_uri": "https://localhost:8080/",
          "height": 265
        },
        "outputId": "e5636851-16a0-48f7-be24-324a0449a064"
      },
      "execution_count": 53,
      "outputs": [
        {
          "output_type": "display_data",
          "data": {
            "text/plain": [
              "<Figure size 432x288 with 1 Axes>"
            ],
            "image/png": "[encoded data removed]"
          },
          "metadata": {
            "needs_background": "light"
          }
        }
      ]
    },
    {
      "cell_type": "markdown",
      "source": [
        "## Create Templates for recognision\n",
        "\n",
        "Generate a couple of templates, which have a pulse in them, and some without any data"
      ],
      "metadata": {
        "id": "u1emwvE7ogUq"
      }
    },
    {
      "cell_type": "code",
      "source": [
        "for i in range(10):\n",
        "  width = np.random.randint(16, 64)               # width of 16 to 64\n",
        "  position = np.random.randint(0, high=96-width) # arbitrary position\n",
        "  noise = np.random.randint(1,30)/10.             # 0.1 to 3 LSB noise\n",
        "  height = np.random.randint(32,128)              # pulse height of 32 to 128\n",
        "\n",
        "  print(position, width, noise, height)\n",
        "  plt.plot(generateTemplate(position = position, pulse_length = width, height=height, noise=noise))\n",
        "\n",
        "plt.show()"
      ],
      "metadata": {
        "colab": {
          "base_uri": "https://localhost:8080/",
          "height": 449
        },
        "id": "1bzxxYb7odBS",
        "outputId": "a579a98c-5cea-4285-904a-0356c27db9ae"
      },
      "execution_count": 54,
      "outputs": [
        {
          "output_type": "stream",
          "name": "stdout",
          "text": [
            "35 42 2.0 115\n",
            "49 23 2.0 108\n",
            "51 17 1.5 72\n",
            "20 51 0.8 57\n",
            "19 50 2.1 46\n",
            "50 28 2.6 123\n",
            "24 34 2.0 102\n",
            "38 55 2.4 38\n",
            "3 35 2.1 66\n",
            "29 43 2.6 44\n"
          ]
        },
        {
          "output_type": "display_data",
          "data": {
            "text/plain": [
              "<Figure size 432x288 with 1 Axes>"
            ],
            "image/png": "[encoded data removed]"
          },
          "metadata": {
            "needs_background": "light"
          }
        }
      ]
    },
    {
      "cell_type": "markdown",
      "source": [
        "# Building the ANN\n"
      ],
      "metadata": {
        "id": "gEwEaXGCzATx"
      }
    },
    {
      "cell_type": "markdown",
      "source": [
        "### Purpose of the ANN\n",
        "We want to do Pattern Recognition, based on the waveforms shown above.\n",
        "\n",
        "The output parameters, which we want to reconstruct are:\n",
        "*   Width\n",
        "*   Position\n",
        "*   height\n"
      ],
      "metadata": {
        "id": "xAJs9gcpMi9V"
      }
    },
    {
      "cell_type": "markdown",
      "source": [
        "Starting with importing all things, which we need for creating a model"
      ],
      "metadata": {
        "id": "ffHEzdBezI__"
      }
    },
    {
      "cell_type": "code",
      "source": [
        "# TensorFlow is an open source machine learning library\n",
        "import tensorflow as tf\n",
        "# Keras is TensorFlow's high-level API for deep learning\n",
        "from tensorflow import keras"
      ],
      "metadata": {
        "id": "AVbyQZoBzNxw"
      },
      "execution_count": 55,
      "outputs": []
    },
    {
      "cell_type": "code",
      "source": [
        "# number of samples for training, testing etc.\n",
        "SAMPLES = 10000"
      ],
      "metadata": {
        "id": "_2mfaOUkzo12"
      },
      "execution_count": 56,
      "outputs": []
    },
    {
      "cell_type": "markdown",
      "source": [
        "## Generate the samples\n",
        "We want to do Pattern recognition, so we have to link the waveforms to the input parameters."
      ],
      "metadata": {
        "id": "UCMepv3tzyM9"
      }
    },
    {
      "cell_type": "code",
      "source": [
        "# scale parameters to get values between 0 and 1\n",
        "SCALE_WIDTH = 32\n",
        "SCALE_POS = 32\n",
        "SCALE_HEIGHT = 255"
      ],
      "metadata": {
        "id": "yxy-rub9I2-K"
      },
      "execution_count": 57,
      "outputs": []
    },
    {
      "cell_type": "code",
      "source": [
        "# parameters for template generation\n",
        "P_width = (16,32)\n",
        "P_position = (16,24)\n",
        "P_height = (32, 128)"
      ],
      "metadata": {
        "id": "-g8CSmkVHUvM"
      },
      "execution_count": 58,
      "outputs": []
    },
    {
      "cell_type": "code",
      "source": [
        "# use fixed value for noise (1st try)\n",
        "noise = 1 \n",
        "\n",
        "y_values = []\n",
        "x_values = []\n",
        "\n",
        "# generate the waveforms\n",
        "for i in range(SAMPLES):\n",
        "  # use random settings\n",
        "  width = np.random.randint( *P_width )       # width\n",
        "  position = np.random.randint( *P_position ) # limit position into a certain window\n",
        "  height = np.random.randint( *P_height )     # pulse height\n",
        "\n",
        "  x_values.append( (width/SCALE_WIDTH, position/SCALE_POS, height/SCALE_HEIGHT) )\n",
        "  y_values.append( generateTemplate(position = position, pulse_length = width, height=height, noise=noise) / SCALE_HEIGHT )\n",
        "\n",
        "# debug printouts\n",
        "#print(x_values[:2])\n",
        "#print(y_values[:2])"
      ],
      "metadata": {
        "id": "6uUa9b2pzviJ"
      },
      "execution_count": 59,
      "outputs": []
    },
    {
      "cell_type": "markdown",
      "source": [
        "### Look at the training data\n",
        "Just make a 2D histogram of all templates."
      ],
      "metadata": {
        "id": "M54DYG8PLBYg"
      }
    },
    {
      "cell_type": "code",
      "source": [
        "if True:\n",
        "  plot_x = [ np.arange(128) for i in range(len(y_values)) ]\n",
        "  plot_x = np.array(plot_x)\n",
        "  plot_x = plot_x.flatten()\n",
        "  plot_y = np.array(y_values)\n",
        "  plot_y = plot_y.flatten()\n",
        "  plt.hist2d(plot_x, plot_y, bins=128, norm=LogNorm())\n",
        "  plt.show()"
      ],
      "metadata": {
        "colab": {
          "base_uri": "https://localhost:8080/",
          "height": 265
        },
        "id": "oc_SbOCaLKKe",
        "outputId": "34022572-cecd-47f2-895d-8328ad41a0db"
      },
      "execution_count": 60,
      "outputs": [
        {
          "output_type": "display_data",
          "data": {
            "text/plain": [
              "<Figure size 432x288 with 1 Axes>"
            ],
            "image/png": "[encoded data removed]"
          },
          "metadata": {
            "needs_background": "light"
          }
        }
      ]
    },
    {
      "cell_type": "markdown",
      "source": [
        "## Split the waveforms into Training, Testing and Validation"
      ],
      "metadata": {
        "id": "uxBiOKO90JG_"
      }
    },
    {
      "cell_type": "code",
      "source": [
        "# We'll use 60% of our data for training and 20% for testing. The remaining 20%\n",
        "# will be used for validation. Calculate the indices of each section.\n",
        "TRAIN_SPLIT =  int(0.6 * SAMPLES)\n",
        "TEST_SPLIT = int(0.2 * SAMPLES + TRAIN_SPLIT)\n",
        "print(\"using %d points for training and %d points for testing\"%(TRAIN_SPLIT, TEST_SPLIT))\n",
        "\n",
        "# convert data into numpy arrays\n",
        "y_values = np.array(y_values) # parameters\n",
        "x_values = np.array(x_values) # waveforms\n",
        "\n",
        "# Use np.split to chop our data into three parts.\n",
        "# The second argument to np.split is an array of indices where the data will be\n",
        "# split. We provide two indices, so the data will be divided into three chunks.\n",
        "x_train, x_test, x_validate = np.split(x_values, [TRAIN_SPLIT, TEST_SPLIT])\n",
        "y_train, y_test, y_validate = np.split(y_values, [TRAIN_SPLIT, TEST_SPLIT])\n",
        "\n",
        "# Double check that our splits add up correctly\n",
        "assert (len(x_train) + len(x_validate) + len(x_test) ) ==  SAMPLES"
      ],
      "metadata": {
        "id": "_gxWfkRezVf3",
        "colab": {
          "base_uri": "https://localhost:8080/"
        },
        "outputId": "f9319edf-0d3d-4b8f-87a6-e9d2f837bfa4"
      },
      "execution_count": 61,
      "outputs": [
        {
          "output_type": "stream",
          "name": "stdout",
          "text": [
            "using 6000 points for training and 8000 points for testing\n"
          ]
        }
      ]
    },
    {
      "cell_type": "markdown",
      "source": [
        "## Create the ANN"
      ],
      "metadata": {
        "id": "tfIC4_-l0Cc4"
      }
    },
    {
      "cell_type": "code",
      "source": [
        "inputs = keras.Input(shape=(128,), name=\"waveform_input\")\n",
        "\n",
        "layer_cnt=0\n",
        "x = keras.layers.Dense(64, name=\"layer_%d\"%(layer_cnt))(inputs)\n",
        "layer_cnt+=1\n",
        "\n",
        "x = keras.layers.Dense(32, name=\"layer_%d\"%(layer_cnt))(x)\n",
        "layer_cnt+=1\n",
        "\n",
        "# x = keras.layers.Dense(32, name=\"layer_%d\"%(layer_cnt))(x)\n",
        "# layer_cnt+=1\n",
        "\n",
        "x = keras.layers.Dense(32,  name=\"layer_%d\"%(layer_cnt))(x)\n",
        "layer_cnt+=1\n",
        "\n",
        "# final layer for classification\n",
        "outputs = keras.layers.Dense(3, name=\"classification\")(x)\n",
        "\n",
        "model_1 = keras.Model(inputs=inputs, outputs=outputs)\n",
        "model_1.summary()\n",
        "\n",
        "# Compile the model using the standard 'adam' optimizer and the mean squared error or 'mse' loss function for regression.\n",
        "model_1.compile(optimizer='adam', loss='mse', metrics=['accuracy'])"
      ],
      "metadata": {
        "id": "FbTg1F3s0BTe",
        "colab": {
          "base_uri": "https://localhost:8080/"
        },
        "outputId": "be6e9bd7-c779-4334-9f20-bd21efb23426"
      },
      "execution_count": 64,
      "outputs": [
        {
          "output_type": "stream",
          "name": "stdout",
          "text": [
            "Model: \"model_3\"\n",
            "_________________________________________________________________\n",
            " Layer (type)                Output Shape              Param #   \n",
            "=================================================================\n",
            " waveform_input (InputLayer)  [(None, 128)]            0         \n",
            "                                                                 \n",
            " layer_0 (Dense)             (None, 64)                8256      \n",
            "                                                                 \n",
            " layer_1 (Dense)             (None, 32)                2080      \n",
            "                                                                 \n",
            " layer_2 (Dense)             (None, 32)                1056      \n",
            "                                                                 \n",
            " classification (Dense)      (None, 3)                 99        \n",
            "                                                                 \n",
            "=================================================================\n",
            "Total params: 11,491\n",
            "Trainable params: 11,491\n",
            "Non-trainable params: 0\n",
            "_________________________________________________________________\n"
          ]
        }
      ]
    },
    {
      "cell_type": "markdown",
      "source": [
        "## Train the model"
      ],
      "metadata": {
        "id": "hjz2ghXbL9Ok"
      }
    },
    {
      "cell_type": "code",
      "source": [
        "# Train the model on our training data while validating on our validation set\n",
        "# remember:\n",
        "#     y = waveforms\n",
        "#     x = truth parameters\n",
        "# just do some trainings to see, whether this structure works or not\n",
        "\n",
        "history_1 = model_1.fit(y_train, x_train, epochs=4, batch_size=25, validation_data=(y_validate, x_validate))"
      ],
      "metadata": {
        "colab": {
          "base_uri": "https://localhost:8080/"
        },
        "id": "Zsx72tmvxNnj",
        "outputId": "4260e5a9-bd64-43a8-dc60-d134a7e82cf5"
      },
      "execution_count": 65,
      "outputs": [
        {
          "output_type": "stream",
          "name": "stdout",
          "text": [
            "Epoch 1/4\n",
            "240/240 [==============================] - 1s 4ms/step - loss: 0.0109 - accuracy: 0.8868 - val_loss: 0.0014 - val_accuracy: 0.9145\n",
            "Epoch 2/4\n",
            "240/240 [==============================] - 1s 3ms/step - loss: 0.0012 - accuracy: 0.9167 - val_loss: 0.0014 - val_accuracy: 0.9140\n",
            "Epoch 3/4\n",
            "240/240 [==============================] - 1s 3ms/step - loss: 0.0011 - accuracy: 0.9163 - val_loss: 0.0011 - val_accuracy: 0.9075\n",
            "Epoch 4/4\n",
            "240/240 [==============================] - 1s 3ms/step - loss: 0.0011 - accuracy: 0.9157 - val_loss: 0.0011 - val_accuracy: 0.9125\n"
          ]
        }
      ]
    },
    {
      "cell_type": "code",
      "source": [
        "# fully train the network\n",
        "history_1 = model_1.fit(y_train, x_train, epochs=500, batch_size=50, validation_data=(y_validate, x_validate))\n",
        "\n",
        "# Save the model to disk\n",
        "!mkdir -p saved_model\n",
        "model_1.save('saved_model/STM32_AI_Test')"
      ],
      "metadata": {
        "colab": {
          "base_uri": "https://localhost:8080/"
        },
        "id": "xMQfeuZ_L7QU",
        "outputId": "fb106f4c-d67c-4019-ba1f-a2ae400ae54a"
      },
      "execution_count": 66,
      "outputs": [
        {
          "output_type": "stream",
          "name": "stdout",
          "text": [
            "Epoch 1/500\n",
            "120/120 [==============================] - 1s 5ms/step - loss: 0.0010 - accuracy: 0.9172 - val_loss: 0.0010 - val_accuracy: 0.9080\n",
            "Epoch 2/500\n",
            "120/120 [==============================] - 0s 4ms/step - loss: 0.0010 - accuracy: 0.9187 - val_loss: 0.0012 - val_accuracy: 0.9190\n",
            "Epoch 3/500\n",
            "120/120 [==============================] - 0s 4ms/step - loss: 0.0011 - accuracy: 0.9192 - val_loss: 0.0011 - val_accuracy: 0.9170\n",
            "Epoch 4/500\n",
            "120/120 [==============================] - 0s 4ms/step - loss: 0.0010 - accuracy: 0.9207 - val_loss: 0.0011 - val_accuracy: 0.9175\n",
            "Epoch 5/500\n",
            "120/120 [==============================] - 0s 4ms/step - loss: 9.9900e-04 - accuracy: 0.9202 - val_loss: 0.0011 - val_accuracy: 0.9020\n",
            "Epoch 6/500\n",
            "120/120 [==============================] - 0s 3ms/step - loss: 0.0010 - accuracy: 0.9167 - val_loss: 0.0011 - val_accuracy: 0.9130\n",
            "Epoch 7/500\n",
            "120/120 [==============================] - 0s 4ms/step - loss: 0.0011 - accuracy: 0.9195 - val_loss: 0.0012 - val_accuracy: 0.9165\n",
            "Epoch 8/500\n",
            "120/120 [==============================] - 0s 4ms/step - loss: 0.0010 - accuracy: 0.9188 - val_loss: 0.0011 - val_accuracy: 0.9145\n",
            "Epoch 9/500\n",
            "120/120 [==============================] - 0s 4ms/step - loss: 0.0010 - accuracy: 0.9180 - val_loss: 0.0011 - val_accuracy: 0.9010\n",
            "Epoch 10/500\n",
            "120/120 [==============================] - 0s 3ms/step - loss: 9.9790e-04 - accuracy: 0.9185 - val_loss: 0.0011 - val_accuracy: 0.9170\n",
            "Epoch 11/500\n",
            "120/120 [==============================] - 0s 4ms/step - loss: 0.0011 - accuracy: 0.9180 - val_loss: 0.0011 - val_accuracy: 0.9140\n",
            "Epoch 12/500\n",
            "120/120 [==============================] - 0s 4ms/step - loss: 0.0010 - accuracy: 0.9185 - val_loss: 0.0012 - val_accuracy: 0.9155\n",
            "Epoch 13/500\n",
            "120/120 [==============================] - 1s 4ms/step - loss: 0.0010 - accuracy: 0.9185 - val_loss: 0.0011 - val_accuracy: 0.9160\n",
            "Epoch 14/500\n",
            "120/120 [==============================] - 1s 5ms/step - loss: 0.0010 - accuracy: 0.9195 - val_loss: 0.0010 - val_accuracy: 0.9075\n",
            "Epoch 15/500\n",
            "120/120 [==============================] - 0s 3ms/step - loss: 0.0010 - accuracy: 0.9168 - val_loss: 0.0011 - val_accuracy: 0.9030\n",
            "Epoch 16/500\n",
            "120/120 [==============================] - 1s 4ms/step - loss: 0.0010 - accuracy: 0.9175 - val_loss: 0.0011 - val_accuracy: 0.8995\n",
            "Epoch 17/500\n",
            "120/120 [==============================] - 1s 5ms/step - loss: 9.9433e-04 - accuracy: 0.9167 - val_loss: 0.0011 - val_accuracy: 0.9045\n",
            "Epoch 18/500\n",
            "120/120 [==============================] - 0s 4ms/step - loss: 0.0010 - accuracy: 0.9187 - val_loss: 0.0012 - val_accuracy: 0.9135\n",
            "Epoch 19/500\n",
            "120/120 [==============================] - 0s 4ms/step - loss: 0.0010 - accuracy: 0.9182 - val_loss: 0.0012 - val_accuracy: 0.9040\n",
            "Epoch 20/500\n",
            "120/120 [==============================] - 1s 4ms/step - loss: 0.0010 - accuracy: 0.9195 - val_loss: 0.0011 - val_accuracy: 0.9100\n",
            "Epoch 21/500\n",
            "120/120 [==============================] - 0s 4ms/step - loss: 0.0010 - accuracy: 0.9200 - val_loss: 0.0010 - val_accuracy: 0.9150\n",
            "Epoch 22/500\n",
            "120/120 [==============================] - 1s 5ms/step - loss: 9.9504e-04 - accuracy: 0.9202 - val_loss: 0.0011 - val_accuracy: 0.9100\n",
            "Epoch 23/500\n",
            "120/120 [==============================] - 0s 3ms/step - loss: 9.9771e-04 - accuracy: 0.9180 - val_loss: 0.0011 - val_accuracy: 0.9155\n",
            "Epoch 24/500\n",
            "120/120 [==============================] - 0s 3ms/step - loss: 0.0010 - accuracy: 0.9200 - val_loss: 0.0010 - val_accuracy: 0.9135\n",
            "Epoch 25/500\n",
            "120/120 [==============================] - 0s 3ms/step - loss: 0.0010 - accuracy: 0.9173 - val_loss: 0.0011 - val_accuracy: 0.9060\n",
            "Epoch 26/500\n",
            "120/120 [==============================] - 0s 3ms/step - loss: 0.0010 - accuracy: 0.9205 - val_loss: 0.0011 - val_accuracy: 0.9120\n",
            "Epoch 27/500\n",
            "120/120 [==============================] - 1s 4ms/step - loss: 0.0010 - accuracy: 0.9205 - val_loss: 0.0011 - val_accuracy: 0.9035\n",
            "Epoch 28/500\n",
            "120/120 [==============================] - 0s 4ms/step - loss: 0.0010 - accuracy: 0.9190 - val_loss: 0.0011 - val_accuracy: 0.9125\n",
            "Epoch 29/500\n",
            "120/120 [==============================] - 0s 4ms/step - loss: 0.0010 - accuracy: 0.9148 - val_loss: 0.0012 - val_accuracy: 0.9085\n",
            "Epoch 30/500\n",
            "120/120 [==============================] - 0s 4ms/step - loss: 0.0010 - accuracy: 0.9182 - val_loss: 0.0011 - val_accuracy: 0.9055\n",
            "Epoch 31/500\n",
            "120/120 [==============================] - 0s 4ms/step - loss: 0.0010 - accuracy: 0.9183 - val_loss: 0.0011 - val_accuracy: 0.9160\n",
            "Epoch 32/500\n",
            "120/120 [==============================] - 0s 4ms/step - loss: 0.0010 - accuracy: 0.9198 - val_loss: 0.0011 - val_accuracy: 0.9165\n",
            "Epoch 33/500\n",
            "120/120 [==============================] - 0s 4ms/step - loss: 0.0010 - accuracy: 0.9197 - val_loss: 0.0012 - val_accuracy: 0.9210\n",
            "Epoch 34/500\n",
            "120/120 [==============================] - 1s 4ms/step - loss: 0.0010 - accuracy: 0.9195 - val_loss: 0.0010 - val_accuracy: 0.9165\n",
            "Epoch 35/500\n",
            "120/120 [==============================] - 1s 5ms/step - loss: 0.0010 - accuracy: 0.9195 - val_loss: 0.0011 - val_accuracy: 0.9050\n",
            "Epoch 36/500\n",
            "120/120 [==============================] - 0s 4ms/step - loss: 0.0010 - accuracy: 0.9168 - val_loss: 0.0011 - val_accuracy: 0.9005\n",
            "Epoch 37/500\n",
            "120/120 [==============================] - 0s 4ms/step - loss: 9.8621e-04 - accuracy: 0.9192 - val_loss: 0.0010 - val_accuracy: 0.9145\n",
            "Epoch 38/500\n",
            "120/120 [==============================] - 0s 3ms/step - loss: 9.7504e-04 - accuracy: 0.9202 - val_loss: 0.0011 - val_accuracy: 0.9085\n",
            "Epoch 39/500\n",
            "120/120 [==============================] - 0s 4ms/step - loss: 0.0010 - accuracy: 0.9197 - val_loss: 0.0011 - val_accuracy: 0.9150\n",
            "Epoch 40/500\n",
            "120/120 [==============================] - 0s 4ms/step - loss: 9.8460e-04 - accuracy: 0.9212 - val_loss: 0.0011 - val_accuracy: 0.9040\n",
            "Epoch 41/500\n",
            "120/120 [==============================] - 0s 4ms/step - loss: 0.0010 - accuracy: 0.9187 - val_loss: 0.0011 - val_accuracy: 0.9190\n",
            "Epoch 42/500\n",
            "120/120 [==============================] - 0s 4ms/step - loss: 9.8974e-04 - accuracy: 0.9193 - val_loss: 0.0011 - val_accuracy: 0.9050\n",
            "Epoch 43/500\n",
            "120/120 [==============================] - 0s 3ms/step - loss: 9.9907e-04 - accuracy: 0.9183 - val_loss: 0.0011 - val_accuracy: 0.9190\n",
            "Epoch 44/500\n",
            "120/120 [==============================] - 1s 4ms/step - loss: 9.9008e-04 - accuracy: 0.9178 - val_loss: 0.0010 - val_accuracy: 0.9155\n",
            "Epoch 45/500\n",
            "120/120 [==============================] - 0s 3ms/step - loss: 9.8669e-04 - accuracy: 0.9225 - val_loss: 0.0011 - val_accuracy: 0.9165\n",
            "Epoch 46/500\n",
            "120/120 [==============================] - 1s 5ms/step - loss: 9.8742e-04 - accuracy: 0.9178 - val_loss: 0.0010 - val_accuracy: 0.9210\n",
            "Epoch 47/500\n",
            "120/120 [==============================] - 0s 4ms/step - loss: 9.8833e-04 - accuracy: 0.9188 - val_loss: 0.0013 - val_accuracy: 0.9085\n",
            "Epoch 48/500\n",
            "120/120 [==============================] - 0s 4ms/step - loss: 9.8757e-04 - accuracy: 0.9175 - val_loss: 0.0011 - val_accuracy: 0.9075\n",
            "Epoch 49/500\n",
            "120/120 [==============================] - 0s 4ms/step - loss: 0.0010 - accuracy: 0.9147 - val_loss: 0.0010 - val_accuracy: 0.9175\n",
            "Epoch 50/500\n",
            "120/120 [==============================] - 0s 4ms/step - loss: 9.8461e-04 - accuracy: 0.9183 - val_loss: 0.0011 - val_accuracy: 0.9030\n",
            "Epoch 51/500\n",
            "120/120 [==============================] - 0s 4ms/step - loss: 9.9692e-04 - accuracy: 0.9173 - val_loss: 0.0012 - val_accuracy: 0.9065\n",
            "Epoch 52/500\n",
            "120/120 [==============================] - 0s 3ms/step - loss: 0.0010 - accuracy: 0.9175 - val_loss: 0.0014 - val_accuracy: 0.9055\n",
            "Epoch 53/500\n",
            "120/120 [==============================] - 0s 3ms/step - loss: 9.9426e-04 - accuracy: 0.9210 - val_loss: 0.0011 - val_accuracy: 0.9135\n",
            "Epoch 54/500\n",
            "120/120 [==============================] - 0s 4ms/step - loss: 9.7487e-04 - accuracy: 0.9193 - val_loss: 0.0011 - val_accuracy: 0.8995\n",
            "Epoch 55/500\n",
            "120/120 [==============================] - 0s 4ms/step - loss: 9.8651e-04 - accuracy: 0.9183 - val_loss: 0.0011 - val_accuracy: 0.9150\n",
            "Epoch 56/500\n",
            "120/120 [==============================] - 0s 4ms/step - loss: 9.8593e-04 - accuracy: 0.9188 - val_loss: 0.0011 - val_accuracy: 0.9100\n",
            "Epoch 57/500\n",
            "120/120 [==============================] - 0s 4ms/step - loss: 9.8686e-04 - accuracy: 0.9165 - val_loss: 0.0011 - val_accuracy: 0.9195\n",
            "Epoch 58/500\n",
            "120/120 [==============================] - 1s 4ms/step - loss: 9.8153e-04 - accuracy: 0.9190 - val_loss: 0.0011 - val_accuracy: 0.9165\n",
            "Epoch 59/500\n",
            "120/120 [==============================] - 0s 4ms/step - loss: 0.0010 - accuracy: 0.9188 - val_loss: 0.0011 - val_accuracy: 0.9210\n",
            "Epoch 60/500\n",
            "120/120 [==============================] - 1s 4ms/step - loss: 9.7899e-04 - accuracy: 0.9200 - val_loss: 0.0010 - val_accuracy: 0.9115\n",
            "Epoch 61/500\n",
            "120/120 [==============================] - 1s 4ms/step - loss: 9.9982e-04 - accuracy: 0.9182 - val_loss: 0.0011 - val_accuracy: 0.9005\n",
            "Epoch 62/500\n",
            "120/120 [==============================] - 0s 4ms/step - loss: 9.8634e-04 - accuracy: 0.9155 - val_loss: 0.0011 - val_accuracy: 0.9135\n",
            "Epoch 63/500\n",
            "120/120 [==============================] - 0s 3ms/step - loss: 9.8246e-04 - accuracy: 0.9210 - val_loss: 0.0011 - val_accuracy: 0.9190\n",
            "Epoch 64/500\n",
            "120/120 [==============================] - 0s 4ms/step - loss: 0.0010 - accuracy: 0.9187 - val_loss: 0.0011 - val_accuracy: 0.9065\n",
            "Epoch 65/500\n",
            "120/120 [==============================] - 0s 4ms/step - loss: 9.8385e-04 - accuracy: 0.9185 - val_loss: 0.0011 - val_accuracy: 0.9160\n",
            "Epoch 66/500\n",
            "120/120 [==============================] - 0s 4ms/step - loss: 9.8487e-04 - accuracy: 0.9168 - val_loss: 0.0011 - val_accuracy: 0.9140\n",
            "Epoch 67/500\n",
            "120/120 [==============================] - 0s 3ms/step - loss: 9.9220e-04 - accuracy: 0.9192 - val_loss: 0.0011 - val_accuracy: 0.9020\n",
            "Epoch 68/500\n",
            "120/120 [==============================] - 0s 4ms/step - loss: 9.7353e-04 - accuracy: 0.9190 - val_loss: 0.0011 - val_accuracy: 0.9265\n",
            "Epoch 69/500\n",
            "120/120 [==============================] - 0s 4ms/step - loss: 9.7642e-04 - accuracy: 0.9200 - val_loss: 0.0011 - val_accuracy: 0.9135\n",
            "Epoch 70/500\n",
            "120/120 [==============================] - 0s 4ms/step - loss: 9.8585e-04 - accuracy: 0.9195 - val_loss: 0.0010 - val_accuracy: 0.9140\n",
            "Epoch 71/500\n",
            "120/120 [==============================] - 1s 4ms/step - loss: 9.8267e-04 - accuracy: 0.9195 - val_loss: 0.0011 - val_accuracy: 0.9135\n",
            "Epoch 72/500\n",
            "120/120 [==============================] - 1s 5ms/step - loss: 0.0010 - accuracy: 0.9187 - val_loss: 0.0012 - val_accuracy: 0.9015\n",
            "Epoch 73/500\n",
            "120/120 [==============================] - 0s 3ms/step - loss: 0.0010 - accuracy: 0.9157 - val_loss: 0.0011 - val_accuracy: 0.9070\n",
            "Epoch 74/500\n",
            "120/120 [==============================] - 0s 4ms/step - loss: 0.0010 - accuracy: 0.9203 - val_loss: 0.0011 - val_accuracy: 0.9110\n",
            "Epoch 75/500\n",
            "120/120 [==============================] - 0s 4ms/step - loss: 9.8779e-04 - accuracy: 0.9193 - val_loss: 0.0011 - val_accuracy: 0.9205\n",
            "Epoch 76/500\n",
            "120/120 [==============================] - 0s 4ms/step - loss: 9.9654e-04 - accuracy: 0.9202 - val_loss: 0.0011 - val_accuracy: 0.9130\n",
            "Epoch 77/500\n",
            "120/120 [==============================] - 0s 4ms/step - loss: 9.7395e-04 - accuracy: 0.9193 - val_loss: 0.0011 - val_accuracy: 0.9200\n",
            "Epoch 78/500\n",
            "120/120 [==============================] - 0s 4ms/step - loss: 9.7688e-04 - accuracy: 0.9185 - val_loss: 0.0011 - val_accuracy: 0.9225\n",
            "Epoch 79/500\n",
            "120/120 [==============================] - 0s 4ms/step - loss: 9.7419e-04 - accuracy: 0.9207 - val_loss: 0.0011 - val_accuracy: 0.9185\n",
            "Epoch 80/500\n",
            "120/120 [==============================] - 1s 4ms/step - loss: 9.8359e-04 - accuracy: 0.9225 - val_loss: 0.0010 - val_accuracy: 0.9110\n",
            "Epoch 81/500\n",
            "120/120 [==============================] - 1s 4ms/step - loss: 9.8539e-04 - accuracy: 0.9190 - val_loss: 0.0011 - val_accuracy: 0.9150\n",
            "Epoch 82/500\n",
            "120/120 [==============================] - 1s 4ms/step - loss: 9.8154e-04 - accuracy: 0.9197 - val_loss: 0.0011 - val_accuracy: 0.9095\n",
            "Epoch 83/500\n",
            "120/120 [==============================] - 1s 4ms/step - loss: 9.9159e-04 - accuracy: 0.9178 - val_loss: 0.0011 - val_accuracy: 0.9115\n",
            "Epoch 84/500\n",
            "120/120 [==============================] - 1s 4ms/step - loss: 9.6570e-04 - accuracy: 0.9200 - val_loss: 0.0011 - val_accuracy: 0.9065\n",
            "Epoch 85/500\n",
            "120/120 [==============================] - 0s 4ms/step - loss: 9.9925e-04 - accuracy: 0.9170 - val_loss: 0.0011 - val_accuracy: 0.9165\n",
            "Epoch 86/500\n",
            "120/120 [==============================] - 0s 4ms/step - loss: 9.6068e-04 - accuracy: 0.9193 - val_loss: 0.0011 - val_accuracy: 0.9115\n",
            "Epoch 87/500\n",
            "120/120 [==============================] - 1s 4ms/step - loss: 9.8471e-04 - accuracy: 0.9167 - val_loss: 0.0011 - val_accuracy: 0.9200\n",
            "Epoch 88/500\n",
            "120/120 [==============================] - 0s 4ms/step - loss: 9.8797e-04 - accuracy: 0.9217 - val_loss: 0.0011 - val_accuracy: 0.9180\n",
            "Epoch 89/500\n",
            "120/120 [==============================] - 1s 5ms/step - loss: 9.6829e-04 - accuracy: 0.9178 - val_loss: 0.0011 - val_accuracy: 0.9140\n",
            "Epoch 90/500\n",
            "120/120 [==============================] - 0s 3ms/step - loss: 9.8391e-04 - accuracy: 0.9198 - val_loss: 0.0011 - val_accuracy: 0.9140\n",
            "Epoch 91/500\n",
            "120/120 [==============================] - 1s 4ms/step - loss: 9.7356e-04 - accuracy: 0.9180 - val_loss: 0.0010 - val_accuracy: 0.9155\n",
            "Epoch 92/500\n",
            "120/120 [==============================] - 0s 4ms/step - loss: 9.8274e-04 - accuracy: 0.9188 - val_loss: 0.0011 - val_accuracy: 0.9330\n",
            "Epoch 93/500\n",
            "120/120 [==============================] - 1s 5ms/step - loss: 9.6098e-04 - accuracy: 0.9192 - val_loss: 0.0011 - val_accuracy: 0.9175\n",
            "Epoch 94/500\n",
            "120/120 [==============================] - 0s 4ms/step - loss: 9.7955e-04 - accuracy: 0.9198 - val_loss: 0.0011 - val_accuracy: 0.9120\n",
            "Epoch 95/500\n",
            "120/120 [==============================] - 0s 3ms/step - loss: 9.9371e-04 - accuracy: 0.9167 - val_loss: 0.0010 - val_accuracy: 0.9110\n",
            "Epoch 96/500\n",
            "120/120 [==============================] - 0s 3ms/step - loss: 9.6951e-04 - accuracy: 0.9197 - val_loss: 0.0010 - val_accuracy: 0.9060\n",
            "Epoch 97/500\n",
            "120/120 [==============================] - 0s 4ms/step - loss: 9.6327e-04 - accuracy: 0.9198 - val_loss: 0.0010 - val_accuracy: 0.9075\n",
            "Epoch 98/500\n",
            "120/120 [==============================] - 0s 3ms/step - loss: 0.0010 - accuracy: 0.9177 - val_loss: 0.0011 - val_accuracy: 0.9135\n",
            "Epoch 99/500\n",
            "120/120 [==============================] - 0s 3ms/step - loss: 9.7966e-04 - accuracy: 0.9163 - val_loss: 0.0011 - val_accuracy: 0.9270\n",
            "Epoch 100/500\n",
            "120/120 [==============================] - 0s 3ms/step - loss: 9.6805e-04 - accuracy: 0.9227 - val_loss: 0.0010 - val_accuracy: 0.9070\n",
            "Epoch 101/500\n",
            "120/120 [==============================] - 1s 4ms/step - loss: 9.6952e-04 - accuracy: 0.9182 - val_loss: 0.0011 - val_accuracy: 0.9085\n",
            "Epoch 102/500\n",
            "120/120 [==============================] - 1s 5ms/step - loss: 9.7600e-04 - accuracy: 0.9193 - val_loss: 0.0011 - val_accuracy: 0.9090\n",
            "Epoch 103/500\n",
            "120/120 [==============================] - 1s 4ms/step - loss: 9.7487e-04 - accuracy: 0.9205 - val_loss: 0.0011 - val_accuracy: 0.9180\n",
            "Epoch 104/500\n",
            "120/120 [==============================] - 0s 3ms/step - loss: 9.7144e-04 - accuracy: 0.9205 - val_loss: 0.0011 - val_accuracy: 0.9170\n",
            "Epoch 105/500\n",
            "120/120 [==============================] - 0s 4ms/step - loss: 9.6033e-04 - accuracy: 0.9200 - val_loss: 0.0011 - val_accuracy: 0.9185\n",
            "Epoch 106/500\n",
            "120/120 [==============================] - 1s 5ms/step - loss: 9.9299e-04 - accuracy: 0.9198 - val_loss: 0.0011 - val_accuracy: 0.9125\n",
            "Epoch 107/500\n",
            "120/120 [==============================] - 0s 3ms/step - loss: 9.6197e-04 - accuracy: 0.9185 - val_loss: 0.0011 - val_accuracy: 0.9165\n",
            "Epoch 108/500\n",
            "120/120 [==============================] - 1s 4ms/step - loss: 9.7926e-04 - accuracy: 0.9170 - val_loss: 0.0013 - val_accuracy: 0.9200\n",
            "Epoch 109/500\n",
            "120/120 [==============================] - 0s 3ms/step - loss: 9.9176e-04 - accuracy: 0.9205 - val_loss: 0.0011 - val_accuracy: 0.9050\n",
            "Epoch 110/500\n",
            "120/120 [==============================] - 0s 3ms/step - loss: 9.7546e-04 - accuracy: 0.9177 - val_loss: 0.0010 - val_accuracy: 0.9095\n",
            "Epoch 111/500\n",
            "120/120 [==============================] - 0s 4ms/step - loss: 9.8107e-04 - accuracy: 0.9200 - val_loss: 0.0011 - val_accuracy: 0.9280\n",
            "Epoch 112/500\n",
            "120/120 [==============================] - 0s 4ms/step - loss: 9.7463e-04 - accuracy: 0.9185 - val_loss: 0.0010 - val_accuracy: 0.9110\n",
            "Epoch 113/500\n",
            "120/120 [==============================] - 0s 4ms/step - loss: 9.8750e-04 - accuracy: 0.9180 - val_loss: 0.0010 - val_accuracy: 0.9195\n",
            "Epoch 114/500\n",
            "120/120 [==============================] - 0s 4ms/step - loss: 9.6972e-04 - accuracy: 0.9192 - val_loss: 0.0011 - val_accuracy: 0.9195\n",
            "Epoch 115/500\n",
            "120/120 [==============================] - 1s 5ms/step - loss: 9.7234e-04 - accuracy: 0.9180 - val_loss: 0.0011 - val_accuracy: 0.9180\n",
            "Epoch 116/500\n",
            "120/120 [==============================] - 1s 4ms/step - loss: 9.7232e-04 - accuracy: 0.9207 - val_loss: 0.0011 - val_accuracy: 0.9265\n",
            "Epoch 117/500\n",
            "120/120 [==============================] - 0s 4ms/step - loss: 9.8135e-04 - accuracy: 0.9200 - val_loss: 0.0011 - val_accuracy: 0.9195\n",
            "Epoch 118/500\n",
            "120/120 [==============================] - 0s 4ms/step - loss: 9.8467e-04 - accuracy: 0.9210 - val_loss: 0.0010 - val_accuracy: 0.9075\n",
            "Epoch 119/500\n",
            "120/120 [==============================] - 0s 4ms/step - loss: 9.6727e-04 - accuracy: 0.9182 - val_loss: 0.0011 - val_accuracy: 0.9145\n",
            "Epoch 120/500\n",
            "120/120 [==============================] - 0s 4ms/step - loss: 9.7237e-04 - accuracy: 0.9193 - val_loss: 0.0011 - val_accuracy: 0.9185\n",
            "Epoch 121/500\n",
            "120/120 [==============================] - 0s 4ms/step - loss: 9.7851e-04 - accuracy: 0.9195 - val_loss: 0.0010 - val_accuracy: 0.9070\n",
            "Epoch 122/500\n",
            "120/120 [==============================] - 0s 3ms/step - loss: 9.8515e-04 - accuracy: 0.9192 - val_loss: 0.0011 - val_accuracy: 0.9175\n",
            "Epoch 123/500\n",
            "120/120 [==============================] - 1s 4ms/step - loss: 9.7235e-04 - accuracy: 0.9185 - val_loss: 0.0011 - val_accuracy: 0.9180\n",
            "Epoch 124/500\n",
            "120/120 [==============================] - 0s 4ms/step - loss: 9.7315e-04 - accuracy: 0.9170 - val_loss: 0.0011 - val_accuracy: 0.9150\n",
            "Epoch 125/500\n",
            "120/120 [==============================] - 1s 5ms/step - loss: 9.6871e-04 - accuracy: 0.9190 - val_loss: 0.0011 - val_accuracy: 0.9135\n",
            "Epoch 126/500\n",
            "120/120 [==============================] - 1s 4ms/step - loss: 9.6457e-04 - accuracy: 0.9157 - val_loss: 0.0011 - val_accuracy: 0.9110\n",
            "Epoch 127/500\n",
            "120/120 [==============================] - 0s 4ms/step - loss: 9.6421e-04 - accuracy: 0.9188 - val_loss: 0.0011 - val_accuracy: 0.9175\n",
            "Epoch 128/500\n",
            "120/120 [==============================] - 0s 3ms/step - loss: 9.7517e-04 - accuracy: 0.9198 - val_loss: 0.0011 - val_accuracy: 0.9150\n",
            "Epoch 129/500\n",
            "120/120 [==============================] - 0s 3ms/step - loss: 9.7332e-04 - accuracy: 0.9182 - val_loss: 0.0011 - val_accuracy: 0.9200\n",
            "Epoch 130/500\n",
            "120/120 [==============================] - 1s 4ms/step - loss: 9.8105e-04 - accuracy: 0.9173 - val_loss: 0.0011 - val_accuracy: 0.9160\n",
            "Epoch 131/500\n",
            "120/120 [==============================] - 0s 4ms/step - loss: 9.7630e-04 - accuracy: 0.9182 - val_loss: 0.0011 - val_accuracy: 0.9175\n",
            "Epoch 132/500\n",
            "120/120 [==============================] - 0s 3ms/step - loss: 9.7177e-04 - accuracy: 0.9198 - val_loss: 0.0011 - val_accuracy: 0.9095\n",
            "Epoch 133/500\n",
            "120/120 [==============================] - 0s 4ms/step - loss: 9.5753e-04 - accuracy: 0.9197 - val_loss: 0.0010 - val_accuracy: 0.9085\n",
            "Epoch 134/500\n",
            "120/120 [==============================] - 0s 4ms/step - loss: 9.7853e-04 - accuracy: 0.9178 - val_loss: 0.0011 - val_accuracy: 0.9245\n",
            "Epoch 135/500\n",
            "120/120 [==============================] - 1s 4ms/step - loss: 9.7649e-04 - accuracy: 0.9197 - val_loss: 0.0011 - val_accuracy: 0.9060\n",
            "Epoch 136/500\n",
            "120/120 [==============================] - 0s 4ms/step - loss: 9.7182e-04 - accuracy: 0.9173 - val_loss: 0.0011 - val_accuracy: 0.9165\n",
            "Epoch 137/500\n",
            "120/120 [==============================] - 1s 4ms/step - loss: 9.7220e-04 - accuracy: 0.9160 - val_loss: 0.0010 - val_accuracy: 0.9215\n",
            "Epoch 138/500\n",
            "120/120 [==============================] - 0s 4ms/step - loss: 9.6993e-04 - accuracy: 0.9185 - val_loss: 0.0011 - val_accuracy: 0.9250\n",
            "Epoch 139/500\n",
            "120/120 [==============================] - 0s 3ms/step - loss: 9.6803e-04 - accuracy: 0.9192 - val_loss: 0.0010 - val_accuracy: 0.9130\n",
            "Epoch 140/500\n",
            "120/120 [==============================] - 0s 4ms/step - loss: 9.6201e-04 - accuracy: 0.9193 - val_loss: 0.0011 - val_accuracy: 0.9190\n",
            "Epoch 141/500\n",
            "120/120 [==============================] - 1s 6ms/step - loss: 9.5721e-04 - accuracy: 0.9193 - val_loss: 0.0010 - val_accuracy: 0.9100\n",
            "Epoch 142/500\n",
            "120/120 [==============================] - 1s 7ms/step - loss: 9.6105e-04 - accuracy: 0.9183 - val_loss: 0.0011 - val_accuracy: 0.9170\n",
            "Epoch 143/500\n",
            "120/120 [==============================] - 1s 7ms/step - loss: 9.7021e-04 - accuracy: 0.9215 - val_loss: 0.0011 - val_accuracy: 0.9160\n",
            "Epoch 144/500\n",
            "120/120 [==============================] - 1s 7ms/step - loss: 9.7283e-04 - accuracy: 0.9157 - val_loss: 0.0011 - val_accuracy: 0.9185\n",
            "Epoch 145/500\n",
            "120/120 [==============================] - 1s 12ms/step - loss: 9.6843e-04 - accuracy: 0.9188 - val_loss: 0.0011 - val_accuracy: 0.9250\n",
            "Epoch 146/500\n",
            "120/120 [==============================] - 1s 7ms/step - loss: 9.5897e-04 - accuracy: 0.9188 - val_loss: 0.0010 - val_accuracy: 0.9085\n",
            "Epoch 147/500\n",
            "120/120 [==============================] - 1s 6ms/step - loss: 9.6325e-04 - accuracy: 0.9200 - val_loss: 0.0010 - val_accuracy: 0.9125\n",
            "Epoch 148/500\n",
            "120/120 [==============================] - 0s 4ms/step - loss: 9.6898e-04 - accuracy: 0.9183 - val_loss: 0.0011 - val_accuracy: 0.9155\n",
            "Epoch 149/500\n",
            "120/120 [==============================] - 1s 6ms/step - loss: 9.6454e-04 - accuracy: 0.9185 - val_loss: 0.0010 - val_accuracy: 0.9050\n",
            "Epoch 150/500\n",
            "120/120 [==============================] - 1s 5ms/step - loss: 9.5514e-04 - accuracy: 0.9187 - val_loss: 0.0011 - val_accuracy: 0.9195\n",
            "Epoch 151/500\n",
            "120/120 [==============================] - 1s 5ms/step - loss: 9.8412e-04 - accuracy: 0.9160 - val_loss: 0.0011 - val_accuracy: 0.9130\n",
            "Epoch 152/500\n",
            "120/120 [==============================] - 1s 5ms/step - loss: 9.6534e-04 - accuracy: 0.9168 - val_loss: 0.0010 - val_accuracy: 0.9220\n",
            "Epoch 153/500\n",
            "120/120 [==============================] - 1s 5ms/step - loss: 9.6850e-04 - accuracy: 0.9205 - val_loss: 0.0012 - val_accuracy: 0.9205\n",
            "Epoch 154/500\n",
            "120/120 [==============================] - 1s 5ms/step - loss: 9.6348e-04 - accuracy: 0.9218 - val_loss: 0.0010 - val_accuracy: 0.9115\n",
            "Epoch 155/500\n",
            "120/120 [==============================] - 1s 7ms/step - loss: 9.6995e-04 - accuracy: 0.9192 - val_loss: 0.0010 - val_accuracy: 0.9160\n",
            "Epoch 156/500\n",
            "120/120 [==============================] - 1s 6ms/step - loss: 9.6320e-04 - accuracy: 0.9188 - val_loss: 0.0010 - val_accuracy: 0.9120\n",
            "Epoch 157/500\n",
            "120/120 [==============================] - 1s 4ms/step - loss: 9.5965e-04 - accuracy: 0.9213 - val_loss: 0.0011 - val_accuracy: 0.9180\n",
            "Epoch 158/500\n",
            "120/120 [==============================] - 0s 4ms/step - loss: 9.6031e-04 - accuracy: 0.9205 - val_loss: 0.0010 - val_accuracy: 0.9060\n",
            "Epoch 159/500\n",
            "120/120 [==============================] - 1s 5ms/step - loss: 9.5983e-04 - accuracy: 0.9200 - val_loss: 0.0010 - val_accuracy: 0.9155\n",
            "Epoch 160/500\n",
            "120/120 [==============================] - 1s 4ms/step - loss: 9.7054e-04 - accuracy: 0.9178 - val_loss: 0.0010 - val_accuracy: 0.9110\n",
            "Epoch 161/500\n",
            "120/120 [==============================] - 1s 4ms/step - loss: 9.7463e-04 - accuracy: 0.9175 - val_loss: 0.0011 - val_accuracy: 0.9245\n",
            "Epoch 162/500\n",
            "120/120 [==============================] - 1s 4ms/step - loss: 9.6439e-04 - accuracy: 0.9193 - val_loss: 0.0011 - val_accuracy: 0.9110\n",
            "Epoch 163/500\n",
            "120/120 [==============================] - 1s 6ms/step - loss: 9.7421e-04 - accuracy: 0.9150 - val_loss: 0.0010 - val_accuracy: 0.9175\n",
            "Epoch 164/500\n",
            "120/120 [==============================] - 1s 6ms/step - loss: 9.6569e-04 - accuracy: 0.9200 - val_loss: 0.0011 - val_accuracy: 0.9120\n",
            "Epoch 165/500\n",
            "120/120 [==============================] - 1s 6ms/step - loss: 9.7520e-04 - accuracy: 0.9172 - val_loss: 0.0010 - val_accuracy: 0.9155\n",
            "Epoch 166/500\n",
            "120/120 [==============================] - 2s 13ms/step - loss: 9.7066e-04 - accuracy: 0.9183 - val_loss: 0.0011 - val_accuracy: 0.9160\n",
            "Epoch 167/500\n",
            "120/120 [==============================] - 1s 10ms/step - loss: 9.6166e-04 - accuracy: 0.9182 - val_loss: 0.0011 - val_accuracy: 0.9230\n",
            "Epoch 168/500\n",
            "120/120 [==============================] - 1s 8ms/step - loss: 9.6986e-04 - accuracy: 0.9192 - val_loss: 0.0011 - val_accuracy: 0.9150\n",
            "Epoch 169/500\n",
            "120/120 [==============================] - 1s 5ms/step - loss: 9.6361e-04 - accuracy: 0.9160 - val_loss: 0.0010 - val_accuracy: 0.9145\n",
            "Epoch 170/500\n",
            "120/120 [==============================] - 1s 10ms/step - loss: 9.6503e-04 - accuracy: 0.9182 - val_loss: 0.0010 - val_accuracy: 0.9140\n",
            "Epoch 171/500\n",
            "120/120 [==============================] - 1s 9ms/step - loss: 9.6203e-04 - accuracy: 0.9172 - val_loss: 0.0011 - val_accuracy: 0.9245\n",
            "Epoch 172/500\n",
            "120/120 [==============================] - 1s 6ms/step - loss: 9.6633e-04 - accuracy: 0.9208 - val_loss: 0.0011 - val_accuracy: 0.9205\n",
            "Epoch 173/500\n",
            "120/120 [==============================] - 1s 5ms/step - loss: 9.5917e-04 - accuracy: 0.9210 - val_loss: 0.0011 - val_accuracy: 0.9050\n",
            "Epoch 174/500\n",
            "120/120 [==============================] - 1s 9ms/step - loss: 9.5477e-04 - accuracy: 0.9183 - val_loss: 0.0011 - val_accuracy: 0.9070\n",
            "Epoch 175/500\n",
            "120/120 [==============================] - 1s 7ms/step - loss: 9.7210e-04 - accuracy: 0.9207 - val_loss: 0.0011 - val_accuracy: 0.9035\n",
            "Epoch 176/500\n",
            "120/120 [==============================] - 1s 7ms/step - loss: 9.6362e-04 - accuracy: 0.9172 - val_loss: 0.0010 - val_accuracy: 0.9080\n",
            "Epoch 177/500\n",
            "120/120 [==============================] - 1s 9ms/step - loss: 9.6115e-04 - accuracy: 0.9198 - val_loss: 0.0011 - val_accuracy: 0.9205\n",
            "Epoch 178/500\n",
            "120/120 [==============================] - 1s 10ms/step - loss: 9.6224e-04 - accuracy: 0.9163 - val_loss: 0.0011 - val_accuracy: 0.9305\n",
            "Epoch 179/500\n",
            "120/120 [==============================] - 1s 8ms/step - loss: 9.7230e-04 - accuracy: 0.9212 - val_loss: 0.0010 - val_accuracy: 0.9155\n",
            "Epoch 180/500\n",
            "120/120 [==============================] - 1s 6ms/step - loss: 9.7391e-04 - accuracy: 0.9202 - val_loss: 0.0011 - val_accuracy: 0.9200\n",
            "Epoch 181/500\n",
            "120/120 [==============================] - 1s 6ms/step - loss: 9.5766e-04 - accuracy: 0.9200 - val_loss: 0.0010 - val_accuracy: 0.9115\n",
            "Epoch 182/500\n",
            "120/120 [==============================] - 1s 5ms/step - loss: 9.4807e-04 - accuracy: 0.9195 - val_loss: 0.0011 - val_accuracy: 0.9100\n",
            "Epoch 183/500\n",
            "120/120 [==============================] - 1s 7ms/step - loss: 9.5743e-04 - accuracy: 0.9187 - val_loss: 0.0011 - val_accuracy: 0.9025\n",
            "Epoch 184/500\n",
            "120/120 [==============================] - 1s 6ms/step - loss: 9.6604e-04 - accuracy: 0.9190 - val_loss: 0.0010 - val_accuracy: 0.9115\n",
            "Epoch 185/500\n",
            "120/120 [==============================] - 1s 6ms/step - loss: 9.5319e-04 - accuracy: 0.9212 - val_loss: 0.0010 - val_accuracy: 0.9135\n",
            "Epoch 186/500\n",
            "120/120 [==============================] - 1s 7ms/step - loss: 9.6260e-04 - accuracy: 0.9193 - val_loss: 0.0011 - val_accuracy: 0.9030\n",
            "Epoch 187/500\n",
            "120/120 [==============================] - 1s 7ms/step - loss: 9.6004e-04 - accuracy: 0.9190 - val_loss: 0.0011 - val_accuracy: 0.9085\n",
            "Epoch 188/500\n",
            "120/120 [==============================] - 1s 6ms/step - loss: 9.7178e-04 - accuracy: 0.9170 - val_loss: 0.0010 - val_accuracy: 0.9190\n",
            "Epoch 189/500\n",
            "120/120 [==============================] - 1s 6ms/step - loss: 9.6125e-04 - accuracy: 0.9187 - val_loss: 0.0011 - val_accuracy: 0.9055\n",
            "Epoch 190/500\n",
            "120/120 [==============================] - 1s 5ms/step - loss: 9.5487e-04 - accuracy: 0.9175 - val_loss: 0.0011 - val_accuracy: 0.9135\n",
            "Epoch 191/500\n",
            "120/120 [==============================] - 1s 6ms/step - loss: 9.6784e-04 - accuracy: 0.9168 - val_loss: 0.0011 - val_accuracy: 0.9175\n",
            "Epoch 192/500\n",
            "120/120 [==============================] - 1s 6ms/step - loss: 9.7355e-04 - accuracy: 0.9187 - val_loss: 0.0010 - val_accuracy: 0.9165\n",
            "Epoch 193/500\n",
            "120/120 [==============================] - 1s 4ms/step - loss: 9.6765e-04 - accuracy: 0.9187 - val_loss: 0.0011 - val_accuracy: 0.9160\n",
            "Epoch 194/500\n",
            "120/120 [==============================] - 1s 5ms/step - loss: 9.7023e-04 - accuracy: 0.9173 - val_loss: 0.0012 - val_accuracy: 0.9180\n",
            "Epoch 195/500\n",
            "120/120 [==============================] - 0s 4ms/step - loss: 9.7893e-04 - accuracy: 0.9180 - val_loss: 0.0010 - val_accuracy: 0.9135\n",
            "Epoch 196/500\n",
            "120/120 [==============================] - 0s 4ms/step - loss: 9.7372e-04 - accuracy: 0.9178 - val_loss: 0.0011 - val_accuracy: 0.9090\n",
            "Epoch 197/500\n",
            "120/120 [==============================] - 0s 3ms/step - loss: 9.6610e-04 - accuracy: 0.9183 - val_loss: 0.0011 - val_accuracy: 0.9095\n",
            "Epoch 198/500\n",
            "120/120 [==============================] - 0s 3ms/step - loss: 9.6306e-04 - accuracy: 0.9193 - val_loss: 0.0011 - val_accuracy: 0.9215\n",
            "Epoch 199/500\n",
            "120/120 [==============================] - 0s 3ms/step - loss: 9.5980e-04 - accuracy: 0.9202 - val_loss: 0.0011 - val_accuracy: 0.9050\n",
            "Epoch 200/500\n",
            "120/120 [==============================] - 0s 4ms/step - loss: 9.5343e-04 - accuracy: 0.9188 - val_loss: 0.0010 - val_accuracy: 0.9105\n",
            "Epoch 201/500\n",
            "120/120 [==============================] - 0s 4ms/step - loss: 9.6459e-04 - accuracy: 0.9182 - val_loss: 0.0011 - val_accuracy: 0.9185\n",
            "Epoch 202/500\n",
            "120/120 [==============================] - 1s 4ms/step - loss: 9.5607e-04 - accuracy: 0.9207 - val_loss: 0.0011 - val_accuracy: 0.9085\n",
            "Epoch 203/500\n",
            "120/120 [==============================] - 1s 4ms/step - loss: 9.5675e-04 - accuracy: 0.9188 - val_loss: 0.0010 - val_accuracy: 0.9215\n",
            "Epoch 204/500\n",
            "120/120 [==============================] - 0s 4ms/step - loss: 9.5579e-04 - accuracy: 0.9188 - val_loss: 0.0011 - val_accuracy: 0.9150\n",
            "Epoch 205/500\n",
            "120/120 [==============================] - 1s 5ms/step - loss: 9.5637e-04 - accuracy: 0.9188 - val_loss: 0.0010 - val_accuracy: 0.9185\n",
            "Epoch 206/500\n",
            "120/120 [==============================] - 0s 3ms/step - loss: 9.6207e-04 - accuracy: 0.9202 - val_loss: 0.0011 - val_accuracy: 0.9160\n",
            "Epoch 207/500\n",
            "120/120 [==============================] - 1s 4ms/step - loss: 9.5996e-04 - accuracy: 0.9212 - val_loss: 0.0011 - val_accuracy: 0.9140\n",
            "Epoch 208/500\n",
            "120/120 [==============================] - 1s 4ms/step - loss: 9.6259e-04 - accuracy: 0.9188 - val_loss: 0.0010 - val_accuracy: 0.9205\n",
            "Epoch 209/500\n",
            "120/120 [==============================] - 0s 3ms/step - loss: 9.6621e-04 - accuracy: 0.9178 - val_loss: 0.0010 - val_accuracy: 0.9165\n",
            "Epoch 210/500\n",
            "120/120 [==============================] - 1s 4ms/step - loss: 9.6783e-04 - accuracy: 0.9177 - val_loss: 0.0010 - val_accuracy: 0.9140\n",
            "Epoch 211/500\n",
            "120/120 [==============================] - 0s 4ms/step - loss: 9.7172e-04 - accuracy: 0.9190 - val_loss: 0.0010 - val_accuracy: 0.9085\n",
            "Epoch 212/500\n",
            "120/120 [==============================] - 0s 4ms/step - loss: 9.6026e-04 - accuracy: 0.9178 - val_loss: 0.0011 - val_accuracy: 0.9220\n",
            "Epoch 213/500\n",
            "120/120 [==============================] - 1s 5ms/step - loss: 9.7072e-04 - accuracy: 0.9185 - val_loss: 0.0011 - val_accuracy: 0.9160\n",
            "Epoch 214/500\n",
            "120/120 [==============================] - 0s 4ms/step - loss: 9.6536e-04 - accuracy: 0.9188 - val_loss: 0.0011 - val_accuracy: 0.9170\n",
            "Epoch 215/500\n",
            "120/120 [==============================] - 0s 4ms/step - loss: 9.7589e-04 - accuracy: 0.9207 - val_loss: 0.0011 - val_accuracy: 0.9195\n",
            "Epoch 216/500\n",
            "120/120 [==============================] - 0s 4ms/step - loss: 9.5139e-04 - accuracy: 0.9195 - val_loss: 0.0010 - val_accuracy: 0.9135\n",
            "Epoch 217/500\n",
            "120/120 [==============================] - 0s 4ms/step - loss: 9.6926e-04 - accuracy: 0.9183 - val_loss: 0.0010 - val_accuracy: 0.9235\n",
            "Epoch 218/500\n",
            "120/120 [==============================] - 1s 5ms/step - loss: 9.5310e-04 - accuracy: 0.9198 - val_loss: 0.0010 - val_accuracy: 0.9035\n",
            "Epoch 219/500\n",
            "120/120 [==============================] - 1s 5ms/step - loss: 9.6541e-04 - accuracy: 0.9177 - val_loss: 0.0010 - val_accuracy: 0.9140\n",
            "Epoch 220/500\n",
            "120/120 [==============================] - 1s 5ms/step - loss: 9.6581e-04 - accuracy: 0.9197 - val_loss: 0.0010 - val_accuracy: 0.9175\n",
            "Epoch 221/500\n",
            "120/120 [==============================] - 0s 3ms/step - loss: 9.6857e-04 - accuracy: 0.9175 - val_loss: 0.0011 - val_accuracy: 0.9045\n",
            "Epoch 222/500\n",
            "120/120 [==============================] - 1s 5ms/step - loss: 9.5376e-04 - accuracy: 0.9168 - val_loss: 0.0010 - val_accuracy: 0.9090\n",
            "Epoch 223/500\n",
            "120/120 [==============================] - 0s 3ms/step - loss: 9.5024e-04 - accuracy: 0.9173 - val_loss: 0.0010 - val_accuracy: 0.9140\n",
            "Epoch 224/500\n",
            "120/120 [==============================] - 0s 4ms/step - loss: 9.7288e-04 - accuracy: 0.9215 - val_loss: 0.0011 - val_accuracy: 0.9160\n",
            "Epoch 225/500\n",
            "120/120 [==============================] - 1s 4ms/step - loss: 9.6013e-04 - accuracy: 0.9198 - val_loss: 0.0011 - val_accuracy: 0.9080\n",
            "Epoch 226/500\n",
            "120/120 [==============================] - 1s 5ms/step - loss: 9.6941e-04 - accuracy: 0.9187 - val_loss: 0.0011 - val_accuracy: 0.9095\n",
            "Epoch 227/500\n",
            "120/120 [==============================] - 0s 4ms/step - loss: 9.5440e-04 - accuracy: 0.9188 - val_loss: 0.0011 - val_accuracy: 0.9030\n",
            "Epoch 228/500\n",
            "120/120 [==============================] - 1s 4ms/step - loss: 9.6898e-04 - accuracy: 0.9197 - val_loss: 0.0011 - val_accuracy: 0.9165\n",
            "Epoch 229/500\n",
            "120/120 [==============================] - 0s 4ms/step - loss: 9.6940e-04 - accuracy: 0.9222 - val_loss: 0.0011 - val_accuracy: 0.9035\n",
            "Epoch 230/500\n",
            "120/120 [==============================] - 1s 4ms/step - loss: 9.5906e-04 - accuracy: 0.9172 - val_loss: 0.0011 - val_accuracy: 0.9130\n",
            "Epoch 231/500\n",
            "120/120 [==============================] - 0s 4ms/step - loss: 9.5371e-04 - accuracy: 0.9200 - val_loss: 0.0011 - val_accuracy: 0.9100\n",
            "Epoch 232/500\n",
            "120/120 [==============================] - 0s 4ms/step - loss: 9.6182e-04 - accuracy: 0.9163 - val_loss: 0.0010 - val_accuracy: 0.9250\n",
            "Epoch 233/500\n",
            "120/120 [==============================] - 0s 3ms/step - loss: 9.5532e-04 - accuracy: 0.9192 - val_loss: 0.0010 - val_accuracy: 0.9225\n",
            "Epoch 234/500\n",
            "120/120 [==============================] - 0s 4ms/step - loss: 9.5327e-04 - accuracy: 0.9198 - val_loss: 0.0011 - val_accuracy: 0.9155\n",
            "Epoch 235/500\n",
            "120/120 [==============================] - 0s 4ms/step - loss: 9.6215e-04 - accuracy: 0.9172 - val_loss: 0.0010 - val_accuracy: 0.9235\n",
            "Epoch 236/500\n",
            "120/120 [==============================] - 1s 5ms/step - loss: 9.5685e-04 - accuracy: 0.9190 - val_loss: 0.0010 - val_accuracy: 0.9155\n",
            "Epoch 237/500\n",
            "120/120 [==============================] - 0s 4ms/step - loss: 9.6859e-04 - accuracy: 0.9195 - val_loss: 0.0010 - val_accuracy: 0.9040\n",
            "Epoch 238/500\n",
            "120/120 [==============================] - 1s 4ms/step - loss: 9.6209e-04 - accuracy: 0.9173 - val_loss: 0.0010 - val_accuracy: 0.9110\n",
            "Epoch 239/500\n",
            "120/120 [==============================] - 1s 4ms/step - loss: 9.6587e-04 - accuracy: 0.9197 - val_loss: 0.0010 - val_accuracy: 0.9070\n",
            "Epoch 240/500\n",
            "120/120 [==============================] - 1s 4ms/step - loss: 9.5602e-04 - accuracy: 0.9205 - val_loss: 0.0010 - val_accuracy: 0.9065\n",
            "Epoch 241/500\n",
            "120/120 [==============================] - 1s 4ms/step - loss: 9.6304e-04 - accuracy: 0.9183 - val_loss: 0.0011 - val_accuracy: 0.9110\n",
            "Epoch 242/500\n",
            "120/120 [==============================] - 1s 5ms/step - loss: 9.6183e-04 - accuracy: 0.9187 - val_loss: 0.0010 - val_accuracy: 0.9115\n",
            "Epoch 243/500\n",
            "120/120 [==============================] - 0s 3ms/step - loss: 9.5233e-04 - accuracy: 0.9192 - val_loss: 0.0010 - val_accuracy: 0.9070\n",
            "Epoch 244/500\n",
            "120/120 [==============================] - 0s 4ms/step - loss: 9.6054e-04 - accuracy: 0.9187 - val_loss: 0.0010 - val_accuracy: 0.9150\n",
            "Epoch 245/500\n",
            "120/120 [==============================] - 0s 3ms/step - loss: 9.5392e-04 - accuracy: 0.9183 - val_loss: 0.0011 - val_accuracy: 0.9165\n",
            "Epoch 246/500\n",
            "120/120 [==============================] - 0s 4ms/step - loss: 9.5137e-04 - accuracy: 0.9183 - val_loss: 0.0010 - val_accuracy: 0.9120\n",
            "Epoch 247/500\n",
            "120/120 [==============================] - 0s 4ms/step - loss: 9.4952e-04 - accuracy: 0.9200 - val_loss: 0.0011 - val_accuracy: 0.9010\n",
            "Epoch 248/500\n",
            "120/120 [==============================] - 1s 5ms/step - loss: 9.5778e-04 - accuracy: 0.9207 - val_loss: 0.0011 - val_accuracy: 0.9085\n",
            "Epoch 249/500\n",
            "120/120 [==============================] - 1s 5ms/step - loss: 9.6296e-04 - accuracy: 0.9198 - val_loss: 0.0011 - val_accuracy: 0.9165\n",
            "Epoch 250/500\n",
            "120/120 [==============================] - 1s 5ms/step - loss: 9.5713e-04 - accuracy: 0.9200 - val_loss: 0.0011 - val_accuracy: 0.9170\n",
            "Epoch 251/500\n",
            "120/120 [==============================] - 0s 4ms/step - loss: 9.5969e-04 - accuracy: 0.9170 - val_loss: 0.0011 - val_accuracy: 0.9120\n",
            "Epoch 252/500\n",
            "120/120 [==============================] - 0s 4ms/step - loss: 9.6431e-04 - accuracy: 0.9202 - val_loss: 0.0010 - val_accuracy: 0.9085\n",
            "Epoch 253/500\n",
            "120/120 [==============================] - 0s 4ms/step - loss: 9.5924e-04 - accuracy: 0.9183 - val_loss: 0.0011 - val_accuracy: 0.9205\n",
            "Epoch 254/500\n",
            "120/120 [==============================] - 0s 4ms/step - loss: 9.5342e-04 - accuracy: 0.9212 - val_loss: 0.0011 - val_accuracy: 0.9095\n",
            "Epoch 255/500\n",
            "120/120 [==============================] - 0s 4ms/step - loss: 9.4909e-04 - accuracy: 0.9192 - val_loss: 0.0011 - val_accuracy: 0.9110\n",
            "Epoch 256/500\n",
            "120/120 [==============================] - 0s 4ms/step - loss: 9.5756e-04 - accuracy: 0.9197 - val_loss: 0.0011 - val_accuracy: 0.9105\n",
            "Epoch 257/500\n",
            "120/120 [==============================] - 1s 4ms/step - loss: 9.6836e-04 - accuracy: 0.9185 - val_loss: 0.0011 - val_accuracy: 0.9145\n",
            "Epoch 258/500\n",
            "120/120 [==============================] - 1s 4ms/step - loss: 9.5079e-04 - accuracy: 0.9203 - val_loss: 0.0010 - val_accuracy: 0.9110\n",
            "Epoch 259/500\n",
            "120/120 [==============================] - 0s 3ms/step - loss: 9.5839e-04 - accuracy: 0.9178 - val_loss: 0.0010 - val_accuracy: 0.9145\n",
            "Epoch 260/500\n",
            "120/120 [==============================] - 0s 4ms/step - loss: 9.6358e-04 - accuracy: 0.9188 - val_loss: 0.0011 - val_accuracy: 0.9185\n",
            "Epoch 261/500\n",
            "120/120 [==============================] - 1s 4ms/step - loss: 9.5584e-04 - accuracy: 0.9195 - val_loss: 0.0011 - val_accuracy: 0.9200\n",
            "Epoch 262/500\n",
            "120/120 [==============================] - 0s 4ms/step - loss: 9.5842e-04 - accuracy: 0.9197 - val_loss: 0.0011 - val_accuracy: 0.9095\n",
            "Epoch 263/500\n",
            "120/120 [==============================] - 0s 4ms/step - loss: 9.5146e-04 - accuracy: 0.9188 - val_loss: 0.0011 - val_accuracy: 0.9215\n",
            "Epoch 264/500\n",
            "120/120 [==============================] - 1s 4ms/step - loss: 9.5447e-04 - accuracy: 0.9197 - val_loss: 0.0011 - val_accuracy: 0.9145\n",
            "Epoch 265/500\n",
            "120/120 [==============================] - 1s 5ms/step - loss: 9.5941e-04 - accuracy: 0.9192 - val_loss: 0.0010 - val_accuracy: 0.9155\n",
            "Epoch 266/500\n",
            "120/120 [==============================] - 1s 4ms/step - loss: 9.6185e-04 - accuracy: 0.9180 - val_loss: 0.0010 - val_accuracy: 0.9070\n",
            "Epoch 267/500\n",
            "120/120 [==============================] - 0s 4ms/step - loss: 9.7478e-04 - accuracy: 0.9185 - val_loss: 0.0010 - val_accuracy: 0.9045\n",
            "Epoch 268/500\n",
            "120/120 [==============================] - 0s 4ms/step - loss: 9.6619e-04 - accuracy: 0.9195 - val_loss: 0.0011 - val_accuracy: 0.9130\n",
            "Epoch 269/500\n",
            "120/120 [==============================] - 0s 3ms/step - loss: 9.6254e-04 - accuracy: 0.9187 - val_loss: 0.0010 - val_accuracy: 0.9060\n",
            "Epoch 270/500\n",
            "120/120 [==============================] - 1s 4ms/step - loss: 9.5623e-04 - accuracy: 0.9190 - val_loss: 0.0010 - val_accuracy: 0.9100\n",
            "Epoch 271/500\n",
            "120/120 [==============================] - 0s 4ms/step - loss: 9.5643e-04 - accuracy: 0.9177 - val_loss: 0.0010 - val_accuracy: 0.9150\n",
            "Epoch 272/500\n",
            "120/120 [==============================] - 1s 5ms/step - loss: 9.5421e-04 - accuracy: 0.9198 - val_loss: 0.0010 - val_accuracy: 0.9125\n",
            "Epoch 273/500\n",
            "120/120 [==============================] - 0s 4ms/step - loss: 9.6176e-04 - accuracy: 0.9198 - val_loss: 0.0011 - val_accuracy: 0.9125\n",
            "Epoch 274/500\n",
            "120/120 [==============================] - 1s 4ms/step - loss: 9.5588e-04 - accuracy: 0.9193 - val_loss: 0.0010 - val_accuracy: 0.9120\n",
            "Epoch 275/500\n",
            "120/120 [==============================] - 1s 4ms/step - loss: 9.4788e-04 - accuracy: 0.9188 - val_loss: 0.0011 - val_accuracy: 0.9180\n",
            "Epoch 276/500\n",
            "120/120 [==============================] - 1s 5ms/step - loss: 9.5341e-04 - accuracy: 0.9190 - val_loss: 0.0011 - val_accuracy: 0.9255\n",
            "Epoch 277/500\n",
            "120/120 [==============================] - 1s 4ms/step - loss: 9.6307e-04 - accuracy: 0.9197 - val_loss: 0.0011 - val_accuracy: 0.9095\n",
            "Epoch 278/500\n",
            "120/120 [==============================] - 1s 5ms/step - loss: 9.6103e-04 - accuracy: 0.9192 - val_loss: 0.0010 - val_accuracy: 0.9205\n",
            "Epoch 279/500\n",
            "120/120 [==============================] - 1s 5ms/step - loss: 9.6740e-04 - accuracy: 0.9182 - val_loss: 0.0010 - val_accuracy: 0.9160\n",
            "Epoch 280/500\n",
            "120/120 [==============================] - 0s 4ms/step - loss: 9.5445e-04 - accuracy: 0.9195 - val_loss: 0.0010 - val_accuracy: 0.9185\n",
            "Epoch 281/500\n",
            "120/120 [==============================] - 0s 4ms/step - loss: 9.4974e-04 - accuracy: 0.9217 - val_loss: 0.0010 - val_accuracy: 0.9035\n",
            "Epoch 282/500\n",
            "120/120 [==============================] - 0s 4ms/step - loss: 9.5629e-04 - accuracy: 0.9200 - val_loss: 0.0010 - val_accuracy: 0.9175\n",
            "Epoch 283/500\n",
            "120/120 [==============================] - 1s 4ms/step - loss: 9.5830e-04 - accuracy: 0.9223 - val_loss: 0.0010 - val_accuracy: 0.9210\n",
            "Epoch 284/500\n",
            "120/120 [==============================] - 1s 4ms/step - loss: 9.5934e-04 - accuracy: 0.9180 - val_loss: 0.0010 - val_accuracy: 0.9145\n",
            "Epoch 285/500\n",
            "120/120 [==============================] - 1s 4ms/step - loss: 9.5723e-04 - accuracy: 0.9185 - val_loss: 0.0010 - val_accuracy: 0.9150\n",
            "Epoch 286/500\n",
            "120/120 [==============================] - 1s 5ms/step - loss: 9.6074e-04 - accuracy: 0.9188 - val_loss: 0.0011 - val_accuracy: 0.9185\n",
            "Epoch 287/500\n",
            "120/120 [==============================] - 1s 5ms/step - loss: 9.6706e-04 - accuracy: 0.9200 - val_loss: 0.0011 - val_accuracy: 0.9110\n",
            "Epoch 288/500\n",
            "120/120 [==============================] - 1s 4ms/step - loss: 9.5429e-04 - accuracy: 0.9192 - val_loss: 0.0011 - val_accuracy: 0.9180\n",
            "Epoch 289/500\n",
            "120/120 [==============================] - 1s 5ms/step - loss: 9.5850e-04 - accuracy: 0.9178 - val_loss: 0.0010 - val_accuracy: 0.9145\n",
            "Epoch 290/500\n",
            "120/120 [==============================] - 1s 5ms/step - loss: 9.5350e-04 - accuracy: 0.9187 - val_loss: 0.0011 - val_accuracy: 0.9075\n",
            "Epoch 291/500\n",
            "120/120 [==============================] - 1s 5ms/step - loss: 9.5687e-04 - accuracy: 0.9185 - val_loss: 0.0010 - val_accuracy: 0.9205\n",
            "Epoch 292/500\n",
            "120/120 [==============================] - 0s 4ms/step - loss: 9.5045e-04 - accuracy: 0.9192 - val_loss: 0.0010 - val_accuracy: 0.9160\n",
            "Epoch 293/500\n",
            "120/120 [==============================] - 0s 4ms/step - loss: 9.5268e-04 - accuracy: 0.9180 - val_loss: 0.0011 - val_accuracy: 0.9180\n",
            "Epoch 294/500\n",
            "120/120 [==============================] - 0s 4ms/step - loss: 9.5017e-04 - accuracy: 0.9188 - val_loss: 0.0010 - val_accuracy: 0.9140\n",
            "Epoch 295/500\n",
            "120/120 [==============================] - 0s 4ms/step - loss: 9.5832e-04 - accuracy: 0.9162 - val_loss: 0.0010 - val_accuracy: 0.9115\n",
            "Epoch 296/500\n",
            "120/120 [==============================] - 1s 5ms/step - loss: 9.5040e-04 - accuracy: 0.9187 - val_loss: 0.0010 - val_accuracy: 0.9050\n",
            "Epoch 297/500\n",
            "120/120 [==============================] - 1s 4ms/step - loss: 9.5756e-04 - accuracy: 0.9188 - val_loss: 0.0011 - val_accuracy: 0.9095\n",
            "Epoch 298/500\n",
            "120/120 [==============================] - 1s 4ms/step - loss: 9.5000e-04 - accuracy: 0.9197 - val_loss: 0.0010 - val_accuracy: 0.9075\n",
            "Epoch 299/500\n",
            "120/120 [==============================] - 1s 4ms/step - loss: 9.5250e-04 - accuracy: 0.9192 - val_loss: 0.0010 - val_accuracy: 0.9110\n",
            "Epoch 300/500\n",
            "120/120 [==============================] - 1s 5ms/step - loss: 9.6191e-04 - accuracy: 0.9190 - val_loss: 0.0010 - val_accuracy: 0.9135\n",
            "Epoch 301/500\n",
            "120/120 [==============================] - 1s 5ms/step - loss: 9.4742e-04 - accuracy: 0.9192 - val_loss: 0.0011 - val_accuracy: 0.9170\n",
            "Epoch 302/500\n",
            "120/120 [==============================] - 0s 4ms/step - loss: 9.5000e-04 - accuracy: 0.9208 - val_loss: 0.0011 - val_accuracy: 0.9140\n",
            "Epoch 303/500\n",
            "120/120 [==============================] - 0s 4ms/step - loss: 9.5658e-04 - accuracy: 0.9200 - val_loss: 0.0010 - val_accuracy: 0.9210\n",
            "Epoch 304/500\n",
            "120/120 [==============================] - 1s 5ms/step - loss: 9.6052e-04 - accuracy: 0.9188 - val_loss: 0.0011 - val_accuracy: 0.9165\n",
            "Epoch 305/500\n",
            "120/120 [==============================] - 0s 4ms/step - loss: 9.5707e-04 - accuracy: 0.9195 - val_loss: 0.0011 - val_accuracy: 0.9105\n",
            "Epoch 306/500\n",
            "120/120 [==============================] - 1s 4ms/step - loss: 9.6318e-04 - accuracy: 0.9200 - val_loss: 0.0010 - val_accuracy: 0.9190\n",
            "Epoch 307/500\n",
            "120/120 [==============================] - 1s 4ms/step - loss: 9.5742e-04 - accuracy: 0.9203 - val_loss: 0.0010 - val_accuracy: 0.9175\n",
            "Epoch 308/500\n",
            "120/120 [==============================] - 0s 4ms/step - loss: 9.5976e-04 - accuracy: 0.9187 - val_loss: 0.0011 - val_accuracy: 0.9130\n",
            "Epoch 309/500\n",
            "120/120 [==============================] - 1s 4ms/step - loss: 9.5677e-04 - accuracy: 0.9175 - val_loss: 0.0011 - val_accuracy: 0.9115\n",
            "Epoch 310/500\n",
            "120/120 [==============================] - 0s 4ms/step - loss: 9.5997e-04 - accuracy: 0.9185 - val_loss: 0.0011 - val_accuracy: 0.9120\n",
            "Epoch 311/500\n",
            "120/120 [==============================] - 1s 5ms/step - loss: 9.5298e-04 - accuracy: 0.9180 - val_loss: 0.0010 - val_accuracy: 0.9155\n",
            "Epoch 312/500\n",
            "120/120 [==============================] - 1s 5ms/step - loss: 9.4513e-04 - accuracy: 0.9175 - val_loss: 0.0011 - val_accuracy: 0.9210\n",
            "Epoch 313/500\n",
            "120/120 [==============================] - 1s 5ms/step - loss: 9.5410e-04 - accuracy: 0.9182 - val_loss: 0.0010 - val_accuracy: 0.9115\n",
            "Epoch 314/500\n",
            "120/120 [==============================] - 1s 4ms/step - loss: 9.5694e-04 - accuracy: 0.9182 - val_loss: 0.0011 - val_accuracy: 0.9095\n",
            "Epoch 315/500\n",
            "120/120 [==============================] - 0s 4ms/step - loss: 9.6508e-04 - accuracy: 0.9202 - val_loss: 0.0010 - val_accuracy: 0.9145\n",
            "Epoch 316/500\n",
            "120/120 [==============================] - 0s 4ms/step - loss: 9.5715e-04 - accuracy: 0.9192 - val_loss: 0.0011 - val_accuracy: 0.9035\n",
            "Epoch 317/500\n",
            "120/120 [==============================] - 0s 4ms/step - loss: 9.6264e-04 - accuracy: 0.9175 - val_loss: 0.0011 - val_accuracy: 0.9025\n",
            "Epoch 318/500\n",
            "120/120 [==============================] - 0s 4ms/step - loss: 9.5548e-04 - accuracy: 0.9190 - val_loss: 0.0011 - val_accuracy: 0.9180\n",
            "Epoch 319/500\n",
            "120/120 [==============================] - 0s 4ms/step - loss: 9.4775e-04 - accuracy: 0.9200 - val_loss: 0.0010 - val_accuracy: 0.9150\n",
            "Epoch 320/500\n",
            "120/120 [==============================] - 1s 5ms/step - loss: 9.5226e-04 - accuracy: 0.9193 - val_loss: 0.0010 - val_accuracy: 0.9095\n",
            "Epoch 321/500\n",
            "120/120 [==============================] - 1s 5ms/step - loss: 9.5386e-04 - accuracy: 0.9193 - val_loss: 0.0011 - val_accuracy: 0.9135\n",
            "Epoch 322/500\n",
            "120/120 [==============================] - 1s 5ms/step - loss: 9.5922e-04 - accuracy: 0.9182 - val_loss: 0.0011 - val_accuracy: 0.9160\n",
            "Epoch 323/500\n",
            "120/120 [==============================] - 0s 4ms/step - loss: 9.5603e-04 - accuracy: 0.9202 - val_loss: 0.0011 - val_accuracy: 0.9100\n",
            "Epoch 324/500\n",
            "120/120 [==============================] - 1s 9ms/step - loss: 9.4994e-04 - accuracy: 0.9188 - val_loss: 0.0010 - val_accuracy: 0.9055\n",
            "Epoch 325/500\n",
            "120/120 [==============================] - 1s 5ms/step - loss: 9.5664e-04 - accuracy: 0.9193 - val_loss: 0.0011 - val_accuracy: 0.9090\n",
            "Epoch 326/500\n",
            "120/120 [==============================] - 1s 5ms/step - loss: 9.5523e-04 - accuracy: 0.9180 - val_loss: 0.0011 - val_accuracy: 0.9130\n",
            "Epoch 327/500\n",
            "120/120 [==============================] - 0s 4ms/step - loss: 9.5408e-04 - accuracy: 0.9210 - val_loss: 0.0011 - val_accuracy: 0.9075\n",
            "Epoch 328/500\n",
            "120/120 [==============================] - 0s 4ms/step - loss: 9.5851e-04 - accuracy: 0.9188 - val_loss: 0.0010 - val_accuracy: 0.9180\n",
            "Epoch 329/500\n",
            "120/120 [==============================] - 0s 4ms/step - loss: 9.4649e-04 - accuracy: 0.9212 - val_loss: 0.0010 - val_accuracy: 0.9140\n",
            "Epoch 330/500\n",
            "120/120 [==============================] - 0s 4ms/step - loss: 9.4320e-04 - accuracy: 0.9180 - val_loss: 0.0010 - val_accuracy: 0.9135\n",
            "Epoch 331/500\n",
            "120/120 [==============================] - 0s 4ms/step - loss: 9.4955e-04 - accuracy: 0.9175 - val_loss: 0.0011 - val_accuracy: 0.9115\n",
            "Epoch 332/500\n",
            "120/120 [==============================] - 0s 4ms/step - loss: 9.5588e-04 - accuracy: 0.9187 - val_loss: 0.0010 - val_accuracy: 0.9230\n",
            "Epoch 333/500\n",
            "120/120 [==============================] - 1s 4ms/step - loss: 9.5378e-04 - accuracy: 0.9210 - val_loss: 0.0010 - val_accuracy: 0.9135\n",
            "Epoch 334/500\n",
            "120/120 [==============================] - 0s 4ms/step - loss: 9.5388e-04 - accuracy: 0.9180 - val_loss: 0.0011 - val_accuracy: 0.9110\n",
            "Epoch 335/500\n",
            "120/120 [==============================] - 0s 4ms/step - loss: 9.6206e-04 - accuracy: 0.9187 - val_loss: 0.0010 - val_accuracy: 0.9210\n",
            "Epoch 336/500\n",
            "120/120 [==============================] - 1s 5ms/step - loss: 9.5368e-04 - accuracy: 0.9197 - val_loss: 0.0010 - val_accuracy: 0.9150\n",
            "Epoch 337/500\n",
            "120/120 [==============================] - 1s 4ms/step - loss: 9.5258e-04 - accuracy: 0.9193 - val_loss: 0.0010 - val_accuracy: 0.9165\n",
            "Epoch 338/500\n",
            "120/120 [==============================] - 1s 4ms/step - loss: 9.5446e-04 - accuracy: 0.9173 - val_loss: 0.0010 - val_accuracy: 0.9155\n",
            "Epoch 339/500\n",
            "120/120 [==============================] - 0s 4ms/step - loss: 9.4897e-04 - accuracy: 0.9175 - val_loss: 0.0011 - val_accuracy: 0.9105\n",
            "Epoch 340/500\n",
            "120/120 [==============================] - 1s 5ms/step - loss: 9.5658e-04 - accuracy: 0.9180 - val_loss: 0.0011 - val_accuracy: 0.9130\n",
            "Epoch 341/500\n",
            "120/120 [==============================] - 0s 4ms/step - loss: 9.5357e-04 - accuracy: 0.9197 - val_loss: 0.0011 - val_accuracy: 0.9170\n",
            "Epoch 342/500\n",
            "120/120 [==============================] - 0s 4ms/step - loss: 9.4868e-04 - accuracy: 0.9195 - val_loss: 0.0010 - val_accuracy: 0.9080\n",
            "Epoch 343/500\n",
            "120/120 [==============================] - 1s 4ms/step - loss: 9.5216e-04 - accuracy: 0.9192 - val_loss: 0.0010 - val_accuracy: 0.9185\n",
            "Epoch 344/500\n",
            "120/120 [==============================] - 1s 4ms/step - loss: 9.5455e-04 - accuracy: 0.9198 - val_loss: 0.0011 - val_accuracy: 0.9200\n",
            "Epoch 345/500\n",
            "120/120 [==============================] - 1s 4ms/step - loss: 9.5396e-04 - accuracy: 0.9178 - val_loss: 0.0011 - val_accuracy: 0.9085\n",
            "Epoch 346/500\n",
            "120/120 [==============================] - 1s 5ms/step - loss: 9.4534e-04 - accuracy: 0.9177 - val_loss: 0.0011 - val_accuracy: 0.9215\n",
            "Epoch 347/500\n",
            "120/120 [==============================] - 1s 4ms/step - loss: 9.6157e-04 - accuracy: 0.9185 - val_loss: 0.0010 - val_accuracy: 0.9170\n",
            "Epoch 348/500\n",
            "120/120 [==============================] - 1s 4ms/step - loss: 9.5619e-04 - accuracy: 0.9188 - val_loss: 0.0010 - val_accuracy: 0.9155\n",
            "Epoch 349/500\n",
            "120/120 [==============================] - 0s 4ms/step - loss: 9.5039e-04 - accuracy: 0.9208 - val_loss: 0.0010 - val_accuracy: 0.9175\n",
            "Epoch 350/500\n",
            "120/120 [==============================] - 1s 4ms/step - loss: 9.5564e-04 - accuracy: 0.9202 - val_loss: 0.0011 - val_accuracy: 0.9185\n",
            "Epoch 351/500\n",
            "120/120 [==============================] - 0s 3ms/step - loss: 9.6041e-04 - accuracy: 0.9218 - val_loss: 0.0010 - val_accuracy: 0.9090\n",
            "Epoch 352/500\n",
            "120/120 [==============================] - 1s 4ms/step - loss: 9.5888e-04 - accuracy: 0.9205 - val_loss: 0.0011 - val_accuracy: 0.9280\n",
            "Epoch 353/500\n",
            "120/120 [==============================] - 0s 4ms/step - loss: 9.5479e-04 - accuracy: 0.9192 - val_loss: 0.0010 - val_accuracy: 0.9105\n",
            "Epoch 354/500\n",
            "120/120 [==============================] - 0s 4ms/step - loss: 9.4585e-04 - accuracy: 0.9217 - val_loss: 0.0011 - val_accuracy: 0.9120\n",
            "Epoch 355/500\n",
            "120/120 [==============================] - 0s 4ms/step - loss: 9.5121e-04 - accuracy: 0.9180 - val_loss: 0.0011 - val_accuracy: 0.9080\n",
            "Epoch 356/500\n",
            "120/120 [==============================] - 1s 4ms/step - loss: 9.6331e-04 - accuracy: 0.9187 - val_loss: 0.0011 - val_accuracy: 0.9190\n",
            "Epoch 357/500\n",
            "120/120 [==============================] - 1s 5ms/step - loss: 9.5559e-04 - accuracy: 0.9205 - val_loss: 0.0011 - val_accuracy: 0.9085\n",
            "Epoch 358/500\n",
            "120/120 [==============================] - 1s 4ms/step - loss: 9.4770e-04 - accuracy: 0.9208 - val_loss: 0.0011 - val_accuracy: 0.9115\n",
            "Epoch 359/500\n",
            "120/120 [==============================] - 0s 4ms/step - loss: 9.5474e-04 - accuracy: 0.9198 - val_loss: 0.0010 - val_accuracy: 0.9180\n",
            "Epoch 360/500\n",
            "120/120 [==============================] - 0s 4ms/step - loss: 9.5365e-04 - accuracy: 0.9197 - val_loss: 0.0010 - val_accuracy: 0.9125\n",
            "Epoch 361/500\n",
            "120/120 [==============================] - 1s 5ms/step - loss: 9.5990e-04 - accuracy: 0.9187 - val_loss: 0.0011 - val_accuracy: 0.9080\n",
            "Epoch 362/500\n",
            "120/120 [==============================] - 0s 4ms/step - loss: 9.5412e-04 - accuracy: 0.9197 - val_loss: 0.0010 - val_accuracy: 0.9095\n",
            "Epoch 363/500\n",
            "120/120 [==============================] - 1s 4ms/step - loss: 9.4664e-04 - accuracy: 0.9183 - val_loss: 0.0010 - val_accuracy: 0.9080\n",
            "Epoch 364/500\n",
            "120/120 [==============================] - 1s 4ms/step - loss: 9.5870e-04 - accuracy: 0.9195 - val_loss: 0.0011 - val_accuracy: 0.9130\n",
            "Epoch 365/500\n",
            "120/120 [==============================] - 0s 4ms/step - loss: 9.5104e-04 - accuracy: 0.9172 - val_loss: 0.0011 - val_accuracy: 0.9170\n",
            "Epoch 366/500\n",
            "120/120 [==============================] - 1s 5ms/step - loss: 9.5497e-04 - accuracy: 0.9197 - val_loss: 0.0011 - val_accuracy: 0.9080\n",
            "Epoch 367/500\n",
            "120/120 [==============================] - 0s 4ms/step - loss: 9.5142e-04 - accuracy: 0.9183 - val_loss: 0.0010 - val_accuracy: 0.9105\n",
            "Epoch 368/500\n",
            "120/120 [==============================] - 1s 4ms/step - loss: 9.4940e-04 - accuracy: 0.9182 - val_loss: 0.0010 - val_accuracy: 0.9165\n",
            "Epoch 369/500\n",
            "120/120 [==============================] - 1s 4ms/step - loss: 9.5836e-04 - accuracy: 0.9187 - val_loss: 0.0010 - val_accuracy: 0.9090\n",
            "Epoch 370/500\n",
            "120/120 [==============================] - 1s 5ms/step - loss: 9.5196e-04 - accuracy: 0.9217 - val_loss: 0.0010 - val_accuracy: 0.9055\n",
            "Epoch 371/500\n",
            "120/120 [==============================] - 0s 4ms/step - loss: 9.6097e-04 - accuracy: 0.9203 - val_loss: 0.0011 - val_accuracy: 0.9080\n",
            "Epoch 372/500\n",
            "120/120 [==============================] - 1s 5ms/step - loss: 9.5316e-04 - accuracy: 0.9180 - val_loss: 0.0010 - val_accuracy: 0.9180\n",
            "Epoch 373/500\n",
            "120/120 [==============================] - 1s 8ms/step - loss: 9.5221e-04 - accuracy: 0.9190 - val_loss: 0.0010 - val_accuracy: 0.9180\n",
            "Epoch 374/500\n",
            "120/120 [==============================] - 1s 4ms/step - loss: 9.4940e-04 - accuracy: 0.9197 - val_loss: 0.0011 - val_accuracy: 0.9065\n",
            "Epoch 375/500\n",
            "120/120 [==============================] - 0s 4ms/step - loss: 9.5599e-04 - accuracy: 0.9198 - val_loss: 0.0011 - val_accuracy: 0.9235\n",
            "Epoch 376/500\n",
            "120/120 [==============================] - 1s 4ms/step - loss: 9.5316e-04 - accuracy: 0.9197 - val_loss: 0.0011 - val_accuracy: 0.9160\n",
            "Epoch 377/500\n",
            "120/120 [==============================] - 1s 5ms/step - loss: 9.5056e-04 - accuracy: 0.9208 - val_loss: 0.0010 - val_accuracy: 0.9150\n",
            "Epoch 378/500\n",
            "120/120 [==============================] - 1s 5ms/step - loss: 9.5201e-04 - accuracy: 0.9190 - val_loss: 0.0010 - val_accuracy: 0.9090\n",
            "Epoch 379/500\n",
            "120/120 [==============================] - 0s 4ms/step - loss: 9.4944e-04 - accuracy: 0.9192 - val_loss: 0.0011 - val_accuracy: 0.9265\n",
            "Epoch 380/500\n",
            "120/120 [==============================] - 0s 4ms/step - loss: 9.5163e-04 - accuracy: 0.9223 - val_loss: 0.0011 - val_accuracy: 0.9165\n",
            "Epoch 381/500\n",
            "120/120 [==============================] - 0s 4ms/step - loss: 9.4955e-04 - accuracy: 0.9187 - val_loss: 0.0011 - val_accuracy: 0.9050\n",
            "Epoch 382/500\n",
            "120/120 [==============================] - 1s 5ms/step - loss: 9.5922e-04 - accuracy: 0.9182 - val_loss: 0.0011 - val_accuracy: 0.9140\n",
            "Epoch 383/500\n",
            "120/120 [==============================] - 1s 4ms/step - loss: 9.5287e-04 - accuracy: 0.9185 - val_loss: 0.0010 - val_accuracy: 0.9200\n",
            "Epoch 384/500\n",
            "120/120 [==============================] - 0s 4ms/step - loss: 9.5905e-04 - accuracy: 0.9192 - val_loss: 0.0011 - val_accuracy: 0.9195\n",
            "Epoch 385/500\n",
            "120/120 [==============================] - 0s 4ms/step - loss: 9.5397e-04 - accuracy: 0.9197 - val_loss: 0.0011 - val_accuracy: 0.9170\n",
            "Epoch 386/500\n",
            "120/120 [==============================] - 1s 4ms/step - loss: 9.4747e-04 - accuracy: 0.9195 - val_loss: 0.0012 - val_accuracy: 0.9200\n",
            "Epoch 387/500\n",
            "120/120 [==============================] - 1s 5ms/step - loss: 9.6294e-04 - accuracy: 0.9205 - val_loss: 0.0010 - val_accuracy: 0.9090\n",
            "Epoch 388/500\n",
            "120/120 [==============================] - 1s 4ms/step - loss: 9.5386e-04 - accuracy: 0.9207 - val_loss: 0.0011 - val_accuracy: 0.9095\n",
            "Epoch 389/500\n",
            "120/120 [==============================] - 1s 4ms/step - loss: 9.5000e-04 - accuracy: 0.9175 - val_loss: 0.0010 - val_accuracy: 0.9165\n",
            "Epoch 390/500\n",
            "120/120 [==============================] - 1s 4ms/step - loss: 9.5301e-04 - accuracy: 0.9198 - val_loss: 0.0010 - val_accuracy: 0.9155\n",
            "Epoch 391/500\n",
            "120/120 [==============================] - 1s 5ms/step - loss: 9.4984e-04 - accuracy: 0.9185 - val_loss: 0.0010 - val_accuracy: 0.9155\n",
            "Epoch 392/500\n",
            "120/120 [==============================] - 1s 4ms/step - loss: 9.6757e-04 - accuracy: 0.9205 - val_loss: 0.0010 - val_accuracy: 0.9075\n",
            "Epoch 393/500\n",
            "120/120 [==============================] - 1s 5ms/step - loss: 9.4913e-04 - accuracy: 0.9185 - val_loss: 0.0011 - val_accuracy: 0.9240\n",
            "Epoch 394/500\n",
            "120/120 [==============================] - 1s 5ms/step - loss: 9.6167e-04 - accuracy: 0.9195 - val_loss: 0.0011 - val_accuracy: 0.9170\n",
            "Epoch 395/500\n",
            "120/120 [==============================] - 0s 4ms/step - loss: 9.5073e-04 - accuracy: 0.9207 - val_loss: 0.0010 - val_accuracy: 0.9205\n",
            "Epoch 396/500\n",
            "120/120 [==============================] - 1s 5ms/step - loss: 9.5106e-04 - accuracy: 0.9207 - val_loss: 0.0010 - val_accuracy: 0.9110\n",
            "Epoch 397/500\n",
            "120/120 [==============================] - 0s 4ms/step - loss: 9.5526e-04 - accuracy: 0.9182 - val_loss: 0.0011 - val_accuracy: 0.9150\n",
            "Epoch 398/500\n",
            "120/120 [==============================] - 1s 4ms/step - loss: 9.5080e-04 - accuracy: 0.9197 - val_loss: 0.0011 - val_accuracy: 0.9150\n",
            "Epoch 399/500\n",
            "120/120 [==============================] - 1s 5ms/step - loss: 9.4708e-04 - accuracy: 0.9213 - val_loss: 0.0010 - val_accuracy: 0.9165\n",
            "Epoch 400/500\n",
            "120/120 [==============================] - 1s 4ms/step - loss: 9.5453e-04 - accuracy: 0.9188 - val_loss: 0.0011 - val_accuracy: 0.9065\n",
            "Epoch 401/500\n",
            "120/120 [==============================] - 0s 4ms/step - loss: 9.5377e-04 - accuracy: 0.9193 - val_loss: 0.0010 - val_accuracy: 0.9130\n",
            "Epoch 402/500\n",
            "120/120 [==============================] - 1s 4ms/step - loss: 9.4593e-04 - accuracy: 0.9183 - val_loss: 0.0011 - val_accuracy: 0.9140\n",
            "Epoch 403/500\n",
            "120/120 [==============================] - 1s 5ms/step - loss: 9.5223e-04 - accuracy: 0.9193 - val_loss: 0.0011 - val_accuracy: 0.9095\n",
            "Epoch 404/500\n",
            "120/120 [==============================] - 1s 5ms/step - loss: 9.5358e-04 - accuracy: 0.9193 - val_loss: 0.0011 - val_accuracy: 0.9175\n",
            "Epoch 405/500\n",
            "120/120 [==============================] - 1s 5ms/step - loss: 9.5088e-04 - accuracy: 0.9183 - val_loss: 0.0010 - val_accuracy: 0.9055\n",
            "Epoch 406/500\n",
            "120/120 [==============================] - 1s 5ms/step - loss: 9.4853e-04 - accuracy: 0.9183 - val_loss: 0.0011 - val_accuracy: 0.9120\n",
            "Epoch 407/500\n",
            "120/120 [==============================] - 1s 5ms/step - loss: 9.5637e-04 - accuracy: 0.9203 - val_loss: 0.0011 - val_accuracy: 0.9175\n",
            "Epoch 408/500\n",
            "120/120 [==============================] - 0s 4ms/step - loss: 9.5502e-04 - accuracy: 0.9183 - val_loss: 0.0010 - val_accuracy: 0.9070\n",
            "Epoch 409/500\n",
            "120/120 [==============================] - 1s 5ms/step - loss: 9.5090e-04 - accuracy: 0.9223 - val_loss: 0.0011 - val_accuracy: 0.9140\n",
            "Epoch 410/500\n",
            "120/120 [==============================] - 0s 4ms/step - loss: 9.5534e-04 - accuracy: 0.9192 - val_loss: 0.0010 - val_accuracy: 0.9120\n",
            "Epoch 411/500\n",
            "120/120 [==============================] - 0s 4ms/step - loss: 9.4822e-04 - accuracy: 0.9203 - val_loss: 0.0011 - val_accuracy: 0.9170\n",
            "Epoch 412/500\n",
            "120/120 [==============================] - 1s 5ms/step - loss: 9.4877e-04 - accuracy: 0.9178 - val_loss: 0.0010 - val_accuracy: 0.9170\n",
            "Epoch 413/500\n",
            "120/120 [==============================] - 1s 5ms/step - loss: 9.5356e-04 - accuracy: 0.9173 - val_loss: 0.0010 - val_accuracy: 0.9235\n",
            "Epoch 414/500\n",
            "120/120 [==============================] - 1s 5ms/step - loss: 9.5409e-04 - accuracy: 0.9183 - val_loss: 0.0011 - val_accuracy: 0.9095\n",
            "Epoch 415/500\n",
            "120/120 [==============================] - 1s 5ms/step - loss: 9.5269e-04 - accuracy: 0.9185 - val_loss: 0.0011 - val_accuracy: 0.9135\n",
            "Epoch 416/500\n",
            "120/120 [==============================] - 1s 4ms/step - loss: 9.4883e-04 - accuracy: 0.9217 - val_loss: 0.0011 - val_accuracy: 0.9120\n",
            "Epoch 417/500\n",
            "120/120 [==============================] - 1s 5ms/step - loss: 9.5070e-04 - accuracy: 0.9195 - val_loss: 0.0010 - val_accuracy: 0.9085\n",
            "Epoch 418/500\n",
            "120/120 [==============================] - 1s 5ms/step - loss: 9.5588e-04 - accuracy: 0.9173 - val_loss: 0.0010 - val_accuracy: 0.9170\n",
            "Epoch 419/500\n",
            "120/120 [==============================] - 1s 5ms/step - loss: 9.5141e-04 - accuracy: 0.9197 - val_loss: 0.0010 - val_accuracy: 0.9150\n",
            "Epoch 420/500\n",
            "120/120 [==============================] - 1s 5ms/step - loss: 9.4984e-04 - accuracy: 0.9190 - val_loss: 0.0010 - val_accuracy: 0.9160\n",
            "Epoch 421/500\n",
            "120/120 [==============================] - 1s 5ms/step - loss: 9.5030e-04 - accuracy: 0.9197 - val_loss: 0.0011 - val_accuracy: 0.9080\n",
            "Epoch 422/500\n",
            "120/120 [==============================] - 1s 5ms/step - loss: 9.6061e-04 - accuracy: 0.9187 - val_loss: 0.0010 - val_accuracy: 0.9160\n",
            "Epoch 423/500\n",
            "120/120 [==============================] - 1s 5ms/step - loss: 9.4901e-04 - accuracy: 0.9202 - val_loss: 0.0011 - val_accuracy: 0.9150\n",
            "Epoch 424/500\n",
            "120/120 [==============================] - 1s 4ms/step - loss: 9.5375e-04 - accuracy: 0.9210 - val_loss: 0.0010 - val_accuracy: 0.9085\n",
            "Epoch 425/500\n",
            "120/120 [==============================] - 0s 4ms/step - loss: 9.5186e-04 - accuracy: 0.9187 - val_loss: 0.0011 - val_accuracy: 0.9185\n",
            "Epoch 426/500\n",
            "120/120 [==============================] - 1s 5ms/step - loss: 9.4965e-04 - accuracy: 0.9197 - val_loss: 0.0011 - val_accuracy: 0.9155\n",
            "Epoch 427/500\n",
            "120/120 [==============================] - 1s 5ms/step - loss: 9.5309e-04 - accuracy: 0.9195 - val_loss: 0.0011 - val_accuracy: 0.9125\n",
            "Epoch 428/500\n",
            "120/120 [==============================] - 1s 5ms/step - loss: 9.5028e-04 - accuracy: 0.9200 - val_loss: 0.0010 - val_accuracy: 0.9160\n",
            "Epoch 429/500\n",
            "120/120 [==============================] - 0s 4ms/step - loss: 9.5149e-04 - accuracy: 0.9182 - val_loss: 0.0010 - val_accuracy: 0.9150\n",
            "Epoch 430/500\n",
            "120/120 [==============================] - 1s 4ms/step - loss: 9.4667e-04 - accuracy: 0.9178 - val_loss: 0.0011 - val_accuracy: 0.9170\n",
            "Epoch 431/500\n",
            "120/120 [==============================] - 1s 4ms/step - loss: 9.5397e-04 - accuracy: 0.9197 - val_loss: 0.0010 - val_accuracy: 0.9230\n",
            "Epoch 432/500\n",
            "120/120 [==============================] - 1s 5ms/step - loss: 9.5371e-04 - accuracy: 0.9192 - val_loss: 0.0011 - val_accuracy: 0.9240\n",
            "Epoch 433/500\n",
            "120/120 [==============================] - 0s 4ms/step - loss: 9.5458e-04 - accuracy: 0.9210 - val_loss: 0.0010 - val_accuracy: 0.9115\n",
            "Epoch 434/500\n",
            "120/120 [==============================] - 1s 5ms/step - loss: 9.5445e-04 - accuracy: 0.9192 - val_loss: 0.0011 - val_accuracy: 0.9050\n",
            "Epoch 435/500\n",
            "120/120 [==============================] - 1s 5ms/step - loss: 9.5892e-04 - accuracy: 0.9177 - val_loss: 0.0010 - val_accuracy: 0.9175\n",
            "Epoch 436/500\n",
            "120/120 [==============================] - 1s 5ms/step - loss: 9.4704e-04 - accuracy: 0.9215 - val_loss: 0.0010 - val_accuracy: 0.9190\n",
            "Epoch 437/500\n",
            "120/120 [==============================] - 1s 5ms/step - loss: 9.4631e-04 - accuracy: 0.9183 - val_loss: 0.0011 - val_accuracy: 0.9165\n",
            "Epoch 438/500\n",
            "120/120 [==============================] - 1s 5ms/step - loss: 9.5115e-04 - accuracy: 0.9192 - val_loss: 0.0011 - val_accuracy: 0.9195\n",
            "Epoch 439/500\n",
            "120/120 [==============================] - 1s 5ms/step - loss: 9.4864e-04 - accuracy: 0.9208 - val_loss: 0.0010 - val_accuracy: 0.9160\n",
            "Epoch 440/500\n",
            "120/120 [==============================] - 1s 5ms/step - loss: 9.5395e-04 - accuracy: 0.9198 - val_loss: 0.0011 - val_accuracy: 0.9175\n",
            "Epoch 441/500\n",
            "120/120 [==============================] - 1s 6ms/step - loss: 9.4981e-04 - accuracy: 0.9185 - val_loss: 0.0010 - val_accuracy: 0.9080\n",
            "Epoch 442/500\n",
            "120/120 [==============================] - 1s 6ms/step - loss: 9.4921e-04 - accuracy: 0.9203 - val_loss: 0.0010 - val_accuracy: 0.9175\n",
            "Epoch 443/500\n",
            "120/120 [==============================] - 1s 5ms/step - loss: 9.4592e-04 - accuracy: 0.9185 - val_loss: 0.0010 - val_accuracy: 0.9150\n",
            "Epoch 444/500\n",
            "120/120 [==============================] - 1s 5ms/step - loss: 9.5371e-04 - accuracy: 0.9205 - val_loss: 0.0011 - val_accuracy: 0.9070\n",
            "Epoch 445/500\n",
            "120/120 [==============================] - 1s 5ms/step - loss: 9.5202e-04 - accuracy: 0.9192 - val_loss: 0.0010 - val_accuracy: 0.9145\n",
            "Epoch 446/500\n",
            "120/120 [==============================] - 1s 4ms/step - loss: 9.4911e-04 - accuracy: 0.9210 - val_loss: 0.0011 - val_accuracy: 0.9210\n",
            "Epoch 447/500\n",
            "120/120 [==============================] - 1s 5ms/step - loss: 9.5290e-04 - accuracy: 0.9193 - val_loss: 0.0011 - val_accuracy: 0.9200\n",
            "Epoch 448/500\n",
            "120/120 [==============================] - 1s 4ms/step - loss: 9.5750e-04 - accuracy: 0.9195 - val_loss: 0.0010 - val_accuracy: 0.9205\n",
            "Epoch 449/500\n",
            "120/120 [==============================] - 1s 5ms/step - loss: 9.4988e-04 - accuracy: 0.9198 - val_loss: 0.0010 - val_accuracy: 0.9165\n",
            "Epoch 450/500\n",
            "120/120 [==============================] - 1s 5ms/step - loss: 9.5366e-04 - accuracy: 0.9178 - val_loss: 0.0010 - val_accuracy: 0.9090\n",
            "Epoch 451/500\n",
            "120/120 [==============================] - 1s 4ms/step - loss: 9.5384e-04 - accuracy: 0.9193 - val_loss: 0.0010 - val_accuracy: 0.9040\n",
            "Epoch 452/500\n",
            "120/120 [==============================] - 1s 5ms/step - loss: 9.4854e-04 - accuracy: 0.9185 - val_loss: 0.0011 - val_accuracy: 0.9055\n",
            "Epoch 453/500\n",
            "120/120 [==============================] - 1s 5ms/step - loss: 9.5080e-04 - accuracy: 0.9203 - val_loss: 0.0011 - val_accuracy: 0.9075\n",
            "Epoch 454/500\n",
            "120/120 [==============================] - 1s 5ms/step - loss: 9.5398e-04 - accuracy: 0.9178 - val_loss: 0.0010 - val_accuracy: 0.9140\n",
            "Epoch 455/500\n",
            "120/120 [==============================] - 1s 4ms/step - loss: 9.4686e-04 - accuracy: 0.9198 - val_loss: 0.0010 - val_accuracy: 0.9170\n",
            "Epoch 456/500\n",
            "120/120 [==============================] - 1s 5ms/step - loss: 9.4747e-04 - accuracy: 0.9187 - val_loss: 0.0011 - val_accuracy: 0.9240\n",
            "Epoch 457/500\n",
            "120/120 [==============================] - 1s 4ms/step - loss: 9.5068e-04 - accuracy: 0.9193 - val_loss: 0.0010 - val_accuracy: 0.9140\n",
            "Epoch 458/500\n",
            "120/120 [==============================] - 1s 5ms/step - loss: 9.4901e-04 - accuracy: 0.9177 - val_loss: 0.0011 - val_accuracy: 0.9100\n",
            "Epoch 459/500\n",
            "120/120 [==============================] - 1s 5ms/step - loss: 9.4635e-04 - accuracy: 0.9223 - val_loss: 0.0011 - val_accuracy: 0.9185\n",
            "Epoch 460/500\n",
            "120/120 [==============================] - 1s 5ms/step - loss: 9.6045e-04 - accuracy: 0.9182 - val_loss: 0.0011 - val_accuracy: 0.9250\n",
            "Epoch 461/500\n",
            "120/120 [==============================] - 1s 5ms/step - loss: 9.5732e-04 - accuracy: 0.9192 - val_loss: 0.0011 - val_accuracy: 0.9170\n",
            "Epoch 462/500\n",
            "120/120 [==============================] - 0s 4ms/step - loss: 9.5683e-04 - accuracy: 0.9170 - val_loss: 0.0010 - val_accuracy: 0.9100\n",
            "Epoch 463/500\n",
            "120/120 [==============================] - 1s 5ms/step - loss: 9.6435e-04 - accuracy: 0.9175 - val_loss: 0.0011 - val_accuracy: 0.9160\n",
            "Epoch 464/500\n",
            "120/120 [==============================] - 1s 5ms/step - loss: 9.4811e-04 - accuracy: 0.9203 - val_loss: 0.0011 - val_accuracy: 0.9180\n",
            "Epoch 465/500\n",
            "120/120 [==============================] - 1s 5ms/step - loss: 9.4790e-04 - accuracy: 0.9205 - val_loss: 0.0011 - val_accuracy: 0.9175\n",
            "Epoch 466/500\n",
            "120/120 [==============================] - 1s 5ms/step - loss: 9.5483e-04 - accuracy: 0.9203 - val_loss: 0.0010 - val_accuracy: 0.9135\n",
            "Epoch 467/500\n",
            "120/120 [==============================] - 1s 5ms/step - loss: 9.4753e-04 - accuracy: 0.9197 - val_loss: 0.0010 - val_accuracy: 0.9185\n",
            "Epoch 468/500\n",
            "120/120 [==============================] - 1s 4ms/step - loss: 9.4929e-04 - accuracy: 0.9192 - val_loss: 0.0010 - val_accuracy: 0.9150\n",
            "Epoch 469/500\n",
            "120/120 [==============================] - 1s 5ms/step - loss: 9.4809e-04 - accuracy: 0.9193 - val_loss: 0.0010 - val_accuracy: 0.9130\n",
            "Epoch 470/500\n",
            "120/120 [==============================] - 1s 5ms/step - loss: 9.4757e-04 - accuracy: 0.9212 - val_loss: 0.0010 - val_accuracy: 0.9180\n",
            "Epoch 471/500\n",
            "120/120 [==============================] - 1s 5ms/step - loss: 9.4875e-04 - accuracy: 0.9213 - val_loss: 0.0010 - val_accuracy: 0.9095\n",
            "Epoch 472/500\n",
            "120/120 [==============================] - 1s 4ms/step - loss: 9.4386e-04 - accuracy: 0.9173 - val_loss: 0.0011 - val_accuracy: 0.9105\n",
            "Epoch 473/500\n",
            "120/120 [==============================] - 0s 4ms/step - loss: 9.4963e-04 - accuracy: 0.9215 - val_loss: 0.0010 - val_accuracy: 0.9155\n",
            "Epoch 474/500\n",
            "120/120 [==============================] - 1s 5ms/step - loss: 9.5978e-04 - accuracy: 0.9185 - val_loss: 0.0010 - val_accuracy: 0.9120\n",
            "Epoch 475/500\n",
            "120/120 [==============================] - 1s 5ms/step - loss: 9.4726e-04 - accuracy: 0.9187 - val_loss: 0.0011 - val_accuracy: 0.9255\n",
            "Epoch 476/500\n",
            "120/120 [==============================] - 1s 4ms/step - loss: 9.4818e-04 - accuracy: 0.9223 - val_loss: 0.0011 - val_accuracy: 0.9130\n",
            "Epoch 477/500\n",
            "120/120 [==============================] - 1s 5ms/step - loss: 9.6318e-04 - accuracy: 0.9180 - val_loss: 0.0010 - val_accuracy: 0.9185\n",
            "Epoch 478/500\n",
            "120/120 [==============================] - 1s 5ms/step - loss: 9.5681e-04 - accuracy: 0.9220 - val_loss: 0.0011 - val_accuracy: 0.9150\n",
            "Epoch 479/500\n",
            "120/120 [==============================] - 1s 5ms/step - loss: 9.5276e-04 - accuracy: 0.9188 - val_loss: 0.0011 - val_accuracy: 0.9165\n",
            "Epoch 480/500\n",
            "120/120 [==============================] - 0s 4ms/step - loss: 9.6045e-04 - accuracy: 0.9178 - val_loss: 0.0011 - val_accuracy: 0.9255\n",
            "Epoch 481/500\n",
            "120/120 [==============================] - 1s 4ms/step - loss: 9.5112e-04 - accuracy: 0.9217 - val_loss: 0.0010 - val_accuracy: 0.9120\n",
            "Epoch 482/500\n",
            "120/120 [==============================] - 1s 4ms/step - loss: 9.4959e-04 - accuracy: 0.9215 - val_loss: 0.0011 - val_accuracy: 0.9200\n",
            "Epoch 483/500\n",
            "120/120 [==============================] - 1s 5ms/step - loss: 9.4634e-04 - accuracy: 0.9208 - val_loss: 0.0011 - val_accuracy: 0.9200\n",
            "Epoch 484/500\n",
            "120/120 [==============================] - 0s 4ms/step - loss: 9.5884e-04 - accuracy: 0.9170 - val_loss: 0.0010 - val_accuracy: 0.9100\n",
            "Epoch 485/500\n",
            "120/120 [==============================] - 1s 5ms/step - loss: 9.5143e-04 - accuracy: 0.9205 - val_loss: 0.0010 - val_accuracy: 0.9175\n",
            "Epoch 486/500\n",
            "120/120 [==============================] - 1s 4ms/step - loss: 9.5301e-04 - accuracy: 0.9195 - val_loss: 0.0010 - val_accuracy: 0.9105\n",
            "Epoch 487/500\n",
            "120/120 [==============================] - 1s 4ms/step - loss: 9.4943e-04 - accuracy: 0.9187 - val_loss: 0.0010 - val_accuracy: 0.9185\n",
            "Epoch 488/500\n",
            "120/120 [==============================] - 1s 10ms/step - loss: 9.4547e-04 - accuracy: 0.9185 - val_loss: 0.0011 - val_accuracy: 0.9190\n",
            "Epoch 489/500\n",
            "120/120 [==============================] - 1s 10ms/step - loss: 9.4586e-04 - accuracy: 0.9180 - val_loss: 0.0011 - val_accuracy: 0.9100\n",
            "Epoch 490/500\n",
            "120/120 [==============================] - 1s 5ms/step - loss: 9.4797e-04 - accuracy: 0.9180 - val_loss: 0.0010 - val_accuracy: 0.9195\n",
            "Epoch 491/500\n",
            "120/120 [==============================] - 1s 4ms/step - loss: 9.4645e-04 - accuracy: 0.9198 - val_loss: 0.0011 - val_accuracy: 0.9195\n",
            "Epoch 492/500\n",
            "120/120 [==============================] - 1s 4ms/step - loss: 9.5308e-04 - accuracy: 0.9177 - val_loss: 0.0010 - val_accuracy: 0.9170\n",
            "Epoch 493/500\n",
            "120/120 [==============================] - 1s 5ms/step - loss: 9.5641e-04 - accuracy: 0.9193 - val_loss: 0.0010 - val_accuracy: 0.9170\n",
            "Epoch 494/500\n",
            "120/120 [==============================] - 1s 4ms/step - loss: 9.4850e-04 - accuracy: 0.9198 - val_loss: 0.0010 - val_accuracy: 0.9085\n",
            "Epoch 495/500\n",
            "120/120 [==============================] - 1s 5ms/step - loss: 9.4571e-04 - accuracy: 0.9218 - val_loss: 0.0011 - val_accuracy: 0.9120\n",
            "Epoch 496/500\n",
            "120/120 [==============================] - 1s 5ms/step - loss: 9.5068e-04 - accuracy: 0.9183 - val_loss: 0.0011 - val_accuracy: 0.9075\n",
            "Epoch 497/500\n",
            "120/120 [==============================] - 0s 4ms/step - loss: 9.4468e-04 - accuracy: 0.9198 - val_loss: 0.0011 - val_accuracy: 0.9225\n",
            "Epoch 498/500\n",
            "120/120 [==============================] - 1s 6ms/step - loss: 9.5369e-04 - accuracy: 0.9160 - val_loss: 0.0010 - val_accuracy: 0.9105\n",
            "Epoch 499/500\n",
            "120/120 [==============================] - 1s 4ms/step - loss: 9.5283e-04 - accuracy: 0.9167 - val_loss: 0.0010 - val_accuracy: 0.9215\n",
            "Epoch 500/500\n",
            "120/120 [==============================] - 0s 4ms/step - loss: 9.5195e-04 - accuracy: 0.9188 - val_loss: 0.0011 - val_accuracy: 0.9225\n",
            "INFO:tensorflow:Assets written to: saved_model/STM32_AI_Test/assets\n"
          ]
        },
        {
          "output_type": "stream",
          "name": "stderr",
          "text": [
            "INFO:tensorflow:Assets written to: saved_model/STM32_AI_Test/assets\n"
          ]
        }
      ]
    },
    {
      "cell_type": "markdown",
      "source": [
        "# Evaluate the training performance"
      ],
      "metadata": {
        "id": "hm2y2S51MH4s"
      }
    },
    {
      "cell_type": "code",
      "source": [
        "### Draw a graph of the loss, which is the distance between\n",
        "# the predicted and actual values during training and validation.\n",
        "train_loss = history_1.history['loss']\n",
        "val_loss = history_1.history['val_loss']\n",
        "accuracy = history_1.history['accuracy']\n",
        "\n",
        "epochs = range(1, len(train_loss) + 1)\n",
        "\n",
        "plt.plot(epochs, train_loss, 'g.', label='Training loss')\n",
        "plt.plot(epochs, val_loss, 'b', label='Validation loss')\n",
        "plt.plot(epochs, accuracy, 'r', label='Accuracy')\n",
        "plt.title('Training and validation loss')\n",
        "plt.xlabel('Epochs')\n",
        "plt.ylabel('Loss')\n",
        "plt.legend()\n",
        "plt.show()"
      ],
      "metadata": {
        "id": "DO5sw9BxMK5E",
        "colab": {
          "base_uri": "https://localhost:8080/",
          "height": 295
        },
        "outputId": "f365421f-db7b-4602-a3dc-173da3b4edca"
      },
      "execution_count": 67,
      "outputs": [
        {
          "output_type": "display_data",
          "data": {
            "text/plain": [
              "<Figure size 432x288 with 1 Axes>"
            ],
            "image/png": "[encoded data removed]"
          },
          "metadata": {
            "needs_background": "light"
          }
        }
      ]
    },
    {
      "cell_type": "code",
      "source": [
        "# evaluate the keras model\n",
        "_, accuracy = model_1.evaluate(y_validate, x_validate)\n",
        "print('Accuracy: %.2f' % (accuracy*100))"
      ],
      "metadata": {
        "colab": {
          "base_uri": "https://localhost:8080/"
        },
        "id": "kZ6rMEUZvYZ-",
        "outputId": "804173c0-0c84-440c-b639-32a58036705d"
      },
      "execution_count": 68,
      "outputs": [
        {
          "output_type": "stream",
          "name": "stdout",
          "text": [
            "63/63 [==============================] - 0s 2ms/step - loss: 0.0011 - accuracy: 0.9225\n",
            "Accuracy: 92.25\n"
          ]
        }
      ]
    },
    {
      "cell_type": "code",
      "metadata": {
        "id": "i13eVIT3B9Mj",
        "outputId": "11557f86-3016-4213-f9df-78625e37ad76",
        "colab": {
          "base_uri": "https://localhost:8080/"
        }
      },
      "source": [
        "# Test a couple of waveforms\n",
        "# remember:\n",
        "#     y = waveforms\n",
        "#     x = truth parameters\n",
        "\n",
        "x_test = x_values[1]\n",
        "y_test = np.array(generateTemplate(position = int(x_test[0]*SCALE_POS), \n",
        "                                   pulse_length = int(x_test[1]*SCALE_WIDTH), \n",
        "                                   height=int(x_test[2]*SCALE_HEIGHT), \n",
        "                                   noise=0\n",
        "                                   )/SCALE_HEIGHT)\n",
        "\n",
        "# waveform needs to be reshaped to be fed into ANN\n",
        "y_test = y_test.reshape(1,128)\n",
        "\n",
        "# try, whether we can reconstruct the parameters x_test from the waveform y_test\n",
        "model_1.make_predict_function()\n",
        "x_test_pred = np.array(model_1.predict(y_test)[0])\n",
        "\n",
        "print(\"sample pulse created: \", x_test)\n",
        "print(\"ANN reconstructed:    \", x_test_pred)"
      ],
      "execution_count": 71,
      "outputs": [
        {
          "output_type": "stream",
          "name": "stdout",
          "text": [
            "sample pulse created:  [0.8125     0.6875     0.42745098]\n",
            "ANN reconstructed:     [0.85277414 0.72098994 0.35606655]\n"
          ]
        }
      ]
    },
    {
      "cell_type": "markdown",
      "source": [
        "## Have a look at the reconstructed parameters\n",
        "\n",
        "Get some random pulses, and have a look how they are reconstructed by the network.\n"
      ],
      "metadata": {
        "id": "A0DU0ZLx59Z8"
      }
    },
    {
      "cell_type": "code",
      "source": [
        "# number of test waveforms\n",
        "TEST_SAMPLES = 1000"
      ],
      "metadata": {
        "id": "BDet8lS36gIz"
      },
      "execution_count": 72,
      "outputs": []
    },
    {
      "cell_type": "code",
      "source": [
        "waveforms = []        # generated waveforms\n",
        "orig_parameters = []  # parameters, which are used for the generation\n",
        "NN_parameters = []    # parameters, reconstructed by the NN\n",
        "\n",
        "# vary the parameters to have a look a the performance outside the trained \n",
        "# parameter boundaries.\n",
        "parameter_variation = 0.1\n",
        "\n",
        "# increase the range of parameters in order to see, what is happening\n",
        "T_width    = ( P_width[0]    * (1 - parameter_variation) , P_width[1]    * (1 + parameter_variation) )\n",
        "T_position = ( P_position[0] * (1 - parameter_variation) , P_position[1] * (1 + parameter_variation) )\n",
        "T_height   = ( P_height[0]   * (1 - parameter_variation) , P_height[1]   * (1 + parameter_variation) )\n",
        "\n",
        "# generate the waveforms\n",
        "for i in range(TEST_SAMPLES):\n",
        "  # use random settings\n",
        "  width = np.random.randint( *T_width )\n",
        "  position = np.random.randint( *T_position )\n",
        "  height = np.random.randint( *T_height )\n",
        "\n",
        "  waveforms.append( np.array(generateTemplate(position = position, pulse_length = width, height=height, noise=noise) / SCALE_HEIGHT ) )\n",
        "  orig_parameters.append( (width/SCALE_WIDTH, position/SCALE_POS, height/SCALE_HEIGHT) )"
      ],
      "metadata": {
        "id": "qvu48FbE6UTm"
      },
      "execution_count": 74,
      "outputs": []
    },
    {
      "cell_type": "code",
      "source": [
        "for i in range(TEST_SAMPLES):\n",
        "  # waveform needs to be reshaped to be fed into ANN\n",
        "  waveform = waveforms[i].reshape(1,128)\n",
        "  NN_parameters.append( np.array( model_1.predict(waveform)[0]) )\n"
      ],
      "metadata": {
        "id": "IXDLAkyy6lrh"
      },
      "execution_count": 75,
      "outputs": []
    },
    {
      "cell_type": "markdown",
      "source": [
        "Plot the distributions"
      ],
      "metadata": {
        "id": "GI7iIFsN7LMw"
      }
    },
    {
      "cell_type": "code",
      "source": [
        "plot_x = [k[0] for k in orig_parameters]\n",
        "plot_y = [k[0] for k in NN_parameters]\n",
        "plt.hist2d(plot_x, plot_y, bins=32, norm=LogNorm())\n",
        "plt.vlines(np.array(P_width),ymin=0, ymax=100)\n",
        "plt.plot( [np.min(plot_x), np.max(plot_x)], [np.min(plot_x), np.max(plot_x)])\n",
        "plt.title(\"width\")\n",
        "plt.ylabel(\"NN parameter\")\n",
        "plt.xlabel(\"truth parameter\")\n",
        "plt.show()"
      ],
      "metadata": {
        "colab": {
          "base_uri": "https://localhost:8080/",
          "height": 295
        },
        "id": "4abhDols7ORo",
        "outputId": "c6c4a312-cb47-47ca-b331-a356522d2791"
      },
      "execution_count": 76,
      "outputs": [
        {
          "output_type": "display_data",
          "data": {
            "text/plain": [
              "<Figure size 432x288 with 1 Axes>"
            ],
            "image/png": "[encoded data removed]"
          },
          "metadata": {
            "needs_background": "light"
          }
        }
      ]
    },
    {
      "cell_type": "code",
      "source": [
        "plot_x = [k[1] for k in orig_parameters]\n",
        "plot_y = [k[1] for k in NN_parameters]\n",
        "plt.hist2d(plot_x, plot_y, bins=32, norm=LogNorm())\n",
        "plt.vlines(np.array(P_position),ymin=0, ymax=100)\n",
        "plt.plot( [np.min(plot_x), np.max(plot_x)], [np.min(plot_x), np.max(plot_x)])\n",
        "plt.title(\"postition\")\n",
        "plt.ylabel(\"NN parameter\")\n",
        "plt.xlabel(\"truth parameter\")\n",
        "plt.show()"
      ],
      "metadata": {
        "colab": {
          "base_uri": "https://localhost:8080/",
          "height": 295
        },
        "id": "ql9DsEfg72Px",
        "outputId": "80923d2d-69bf-4900-8214-f1a9e190bca3"
      },
      "execution_count": 77,
      "outputs": [
        {
          "output_type": "display_data",
          "data": {
            "text/plain": [
              "<Figure size 432x288 with 1 Axes>"
            ],
            "image/png": "[encoded data removed]"
          },
          "metadata": {
            "needs_background": "light"
          }
        }
      ]
    },
    {
      "cell_type": "code",
      "source": [
        "plot_x = [k[2] for k in orig_parameters]\n",
        "plot_y = [k[2] for k in NN_parameters]\n",
        "plt.hist2d(plot_x, plot_y, bins=32, norm=LogNorm())\n",
        "plt.vlines(np.array(P_height),ymin=0, ymax=1000)\n",
        "plt.plot( [np.min(plot_x), np.max(plot_x)], [np.min(plot_x), np.max(plot_x)])\n",
        "plt.title(\"height\")\n",
        "plt.ylabel(\"NN parameter\")\n",
        "plt.xlabel(\"truth parameter\")\n",
        "plt.show()"
      ],
      "metadata": {
        "colab": {
          "base_uri": "https://localhost:8080/",
          "height": 295
        },
        "id": "4Co7DGIk740X",
        "outputId": "35634fc9-6a60-4326-9e0d-0588247143ef"
      },
      "execution_count": 78,
      "outputs": [
        {
          "output_type": "display_data",
          "data": {
            "text/plain": [
              "<Figure size 432x288 with 1 Axes>"
            ],
            "image/png": "[encoded data removed]"
          },
          "metadata": {
            "needs_background": "light"
          }
        }
      ]
    },
    {
      "cell_type": "markdown",
      "source": [
        "# What happens at zero input?\n",
        "What if the input array is all zero?"
      ],
      "metadata": {
        "id": "GQCZ_TBbD2cd"
      }
    },
    {
      "cell_type": "code",
      "source": [
        "# waveform needs to be reshaped to be fed into ANN\n",
        "waveform = np.zeros(128)\n",
        "waveform = waveform.reshape(1,128)\n",
        "print( model_1.predict(waveform)[0] )"
      ],
      "metadata": {
        "id": "bFAuP2x7EAWE",
        "colab": {
          "base_uri": "https://localhost:8080/"
        },
        "outputId": "42b35940-8dc3-488c-a4ab-5d46daa7f924"
      },
      "execution_count": 79,
      "outputs": [
        {
          "output_type": "stream",
          "name": "stdout",
          "text": [
            "[0.7263223  0.60942656 0.00425582]\n"
          ]
        }
      ]
    },
    {
      "cell_type": "markdown",
      "source": [
        "# Export to STM32"
      ],
      "metadata": {
        "id": "rB2GEVaYSFSn"
      }
    },
    {
      "cell_type": "markdown",
      "source": [
        "following:\n",
        "This [tutorial](https://www.digikey.de/en/maker/projects/tinyml-getting-started-with-stm32-x-cube-ai/f94e1c8bfc1e4b6291d0f672d780d2c0) from DigiKey "
      ],
      "metadata": {
        "id": "NMQ5nDGrXHo_"
      }
    },
    {
      "cell_type": "code",
      "source": [
        "# settings\n",
        "tflite_model_name = 'pulse_reco'  # Will be given .tflite suffix\n",
        "c_model_name = 'pulse_reco'       # Will be given .h suffix"
      ],
      "metadata": {
        "id": "aL0G5NQ8YULj"
      },
      "execution_count": 80,
      "outputs": []
    },
    {
      "cell_type": "code",
      "source": [
        "# Convert Keras model to a tflite model\n",
        "converter = tf.lite.TFLiteConverter.from_keras_model(model_1)\n",
        "converter.optimizations = [tf.lite.Optimize.DEFAULT]  # option OPTIMIZE_FOR_SIZE is deprecated\n",
        "tflite_model = converter.convert()\n",
        "\n",
        "open(tflite_model_name+'.tflite', 'wb').write(tflite_model)"
      ],
      "metadata": {
        "colab": {
          "base_uri": "https://localhost:8080/"
        },
        "id": "aRqSNF9LXy-4",
        "outputId": "3e71b3d9-79a6-4c57-991e-4fc948044364"
      },
      "execution_count": 81,
      "outputs": [
        {
          "output_type": "stream",
          "name": "stdout",
          "text": [
            "INFO:tensorflow:Assets written to: /tmp/tmp38wtg8pq/assets\n"
          ]
        },
        {
          "output_type": "stream",
          "name": "stderr",
          "text": [
            "INFO:tensorflow:Assets written to: /tmp/tmp38wtg8pq/assets\n",
            "WARNING:absl:Buffer deduplication procedure will be skipped when flatbuffer library is not properly loaded\n"
          ]
        },
        {
          "output_type": "execute_result",
          "data": {
            "text/plain": [
              "13856"
            ]
          },
          "metadata": {},
          "execution_count": 81
        }
      ]
    },
    {
      "cell_type": "markdown",
      "source": [
        "For usage inside the [STM32Cube.AI](https://www.st.com/content/st_com/en/support/learning/stm32-education/stm32-moocs/Introduction_to_STM32CubeAI_MOOC.html) it is sufficient to just have the tensorflow light model. The special export seems not be needed."
      ],
      "metadata": {
        "id": "oF93jw-v-FMP"
      }
    },
    {
      "cell_type": "markdown",
      "source": [
        "We have to define a special function, which exports our data into a H-file, which can be later used and included into our microcontroller code.\n",
        "\n",
        "The function is from https://gist.github.com/ShawnHymel/79237fe6aee5a3653c497d879f746c0c"
      ],
      "metadata": {
        "id": "tQG-2XJIZkFU"
      }
    },
    {
      "cell_type": "markdown",
      "source": [
        "## Test the TFlite model"
      ],
      "metadata": {
        "id": "gt7YY5yMGLrD"
      }
    },
    {
      "cell_type": "code",
      "source": [
        "# Load the TFLite model and allocate tensors.\n",
        "interpreter = tf.lite.Interpreter(model_path=tflite_model_name+\".tflite\")\n",
        "interpreter.allocate_tensors()\n",
        "\n",
        "# Get input and output tensors.\n",
        "input_details = interpreter.get_input_details()\n",
        "output_details = interpreter.get_output_details()\n",
        "\n",
        "# Test the model on random input data.\n",
        "input_shape = input_details[0]['shape']\n",
        "\n",
        "input_data = np.array( y_test, dtype=np.float32)\n",
        "interpreter.set_tensor(input_details[0]['index'], input_data)\n",
        "\n",
        "interpreter.invoke()\n",
        "\n",
        "output_data = interpreter.get_tensor(output_details[0]['index'])[0]\n",
        "\n",
        "print(\"sample pulse created:    \", x_test)\n",
        "print(\"TFlite reconstructed:    \", output_data)"
      ],
      "metadata": {
        "colab": {
          "base_uri": "https://localhost:8080/"
        },
        "id": "a_k8NQt_GRop",
        "outputId": "224b2063-bc15-4dc7-c9f6-ecf03af197a1"
      },
      "execution_count": 82,
      "outputs": [
        {
          "output_type": "stream",
          "name": "stdout",
          "text": [
            "sample pulse created:     [0.8125     0.6875     0.42745098]\n",
            "TFlite reconstructed:     [0.85415703 0.722279   0.36138958]\n"
          ]
        }
      ]
    },
    {
      "cell_type": "markdown",
      "source": [
        "# Use quantization aware training\n",
        "Translate the model into int8 and fine tune it. Then export it again for STM32"
      ],
      "metadata": {
        "id": "tFnSEZxL3doj"
      }
    },
    {
      "cell_type": "markdown",
      "source": [
        "## Install all prerequisites"
      ],
      "metadata": {
        "id": "uwU7nN8044Ps"
      }
    },
    {
      "cell_type": "code",
      "source": [
        " !pip install -q tensorflow\n",
        " !pip install -q tensorflow-model-optimization"
      ],
      "metadata": {
        "colab": {
          "base_uri": "https://localhost:8080/"
        },
        "id": "o9HT1fOE4QhG",
        "outputId": "004998ce-01ed-4cf6-c46f-1849d26814ef"
      },
      "execution_count": null,
      "outputs": [
        {
          "output_type": "stream",
          "name": "stdout",
          "text": [
            "\u001b[K     |████████████████████████████████| 462 kB 5.5 MB/s \n",
            "\u001b[K     |████████████████████████████████| 234 kB 5.3 MB/s \n",
            "\u001b[?25h"
          ]
        }
      ]
    },
    {
      "cell_type": "markdown",
      "source": [
        "## Convert the model into a quantization aware one"
      ],
      "metadata": {
        "id": "GKux72Hn48S1"
      }
    },
    {
      "cell_type": "code",
      "source": [
        "import tensorflow_model_optimization as tfmot\n",
        "\n",
        "quantize_model = tfmot.quantization.keras.quantize_model\n",
        "\n",
        "# q_aware stands for for quantization aware.\n",
        "q_aware_model = quantize_model(model_1)\n",
        "\n",
        "# `quantize_model` requires a recompile.\n",
        "#q_aware_model.compile(optimizer='adam', loss='mse', metrics=['mae'])\n",
        "\n",
        "q_aware_model.compile(optimizer='adam',\n",
        "              loss='mse',\n",
        "              metrics=['accuracy'])\n",
        "\n",
        "q_aware_model.summary()\n"
      ],
      "metadata": {
        "colab": {
          "base_uri": "https://localhost:8080/"
        },
        "id": "hTiWONeb3dQe",
        "outputId": "72973deb-2572-4368-ae06-ac6ad73d7af8"
      },
      "execution_count": null,
      "outputs": [
        {
          "output_type": "stream",
          "name": "stdout",
          "text": [
            "Model: \"model\"\n",
            "_________________________________________________________________\n",
            " Layer (type)                Output Shape              Param #   \n",
            "=================================================================\n",
            " waveform_input (InputLayer)  [(None, 128)]            0         \n",
            "                                                                 \n",
            " quantize_layer (QuantizeLay  (None, 128)              3         \n",
            " er)                                                             \n",
            "                                                                 \n",
            " quant_layer_0 (QuantizeWrap  (None, 64)               8261      \n",
            " perV2)                                                          \n",
            "                                                                 \n",
            " quant_layer_1 (QuantizeWrap  (None, 32)               2085      \n",
            " perV2)                                                          \n",
            "                                                                 \n",
            " quant_layer_2 (QuantizeWrap  (None, 32)               1061      \n",
            " perV2)                                                          \n",
            "                                                                 \n",
            " quant_classification (Quant  (None, 3)                104       \n",
            " izeWrapperV2)                                                   \n",
            "                                                                 \n",
            "=================================================================\n",
            "Total params: 11,514\n",
            "Trainable params: 11,491\n",
            "Non-trainable params: 23\n",
            "_________________________________________________________________\n"
          ]
        }
      ]
    },
    {
      "cell_type": "markdown",
      "source": [
        "## Do a short training to finetune the model"
      ],
      "metadata": {
        "id": "LBpPcGhKHnHm"
      }
    },
    {
      "cell_type": "code",
      "source": [
        "history_q = q_aware_model.fit(y_train, x_train, batch_size=50, epochs=10, validation_split=0.1)"
      ],
      "metadata": {
        "colab": {
          "base_uri": "https://localhost:8080/"
        },
        "id": "CkLWrWNs39gD",
        "outputId": "6cbc19f8-2477-41c2-c707-c5cb0fb9557b"
      },
      "execution_count": null,
      "outputs": [
        {
          "output_type": "stream",
          "name": "stdout",
          "text": [
            "Epoch 1/10\n",
            "108/108 [==============================] - 0s 3ms/step - loss: 13.0552 - accuracy: 1.0000 - val_loss: 10.3368 - val_accuracy: 1.0000\n",
            "Epoch 2/10\n",
            "108/108 [==============================] - 0s 3ms/step - loss: 8.6237 - accuracy: 1.0000 - val_loss: 5.8032 - val_accuracy: 1.0000\n",
            "Epoch 3/10\n",
            "108/108 [==============================] - 0s 4ms/step - loss: 5.7229 - accuracy: 1.0000 - val_loss: 3.9649 - val_accuracy: 1.0000\n",
            "Epoch 4/10\n",
            "108/108 [==============================] - 0s 3ms/step - loss: 4.1082 - accuracy: 1.0000 - val_loss: 3.0680 - val_accuracy: 1.0000\n",
            "Epoch 5/10\n",
            "108/108 [==============================] - 0s 3ms/step - loss: 3.3236 - accuracy: 1.0000 - val_loss: 2.3431 - val_accuracy: 1.0000\n",
            "Epoch 6/10\n",
            "108/108 [==============================] - 0s 3ms/step - loss: 2.4614 - accuracy: 1.0000 - val_loss: 1.9965 - val_accuracy: 1.0000\n",
            "Epoch 7/10\n",
            "108/108 [==============================] - 0s 3ms/step - loss: 2.0851 - accuracy: 1.0000 - val_loss: 1.8056 - val_accuracy: 1.0000\n",
            "Epoch 8/10\n",
            "108/108 [==============================] - 0s 3ms/step - loss: 1.9539 - accuracy: 1.0000 - val_loss: 1.5017 - val_accuracy: 1.0000\n",
            "Epoch 9/10\n",
            "108/108 [==============================] - 0s 3ms/step - loss: 2.1373 - accuracy: 1.0000 - val_loss: 2.2837 - val_accuracy: 1.0000\n",
            "Epoch 10/10\n",
            "108/108 [==============================] - 0s 3ms/step - loss: 1.4953 - accuracy: 1.0000 - val_loss: 1.4384 - val_accuracy: 1.0000\n"
          ]
        }
      ]
    },
    {
      "cell_type": "code",
      "source": [
        "### Draw a graph of the loss, which is the distance between\n",
        "# the predicted and actual values during training and validation.\n",
        "q_train_loss = history_q.history['loss']\n",
        "q_val_loss = history_q.history['val_loss']\n",
        "\n",
        "epochs = range(1, len(q_train_loss) + 1)\n",
        "\n",
        "plt.plot(epochs, q_train_loss, 'g.', label='Training loss')\n",
        "plt.plot(epochs, q_val_loss, 'b', label='Validation loss')\n",
        "plt.title('Training and validation loss (quantization)')\n",
        "plt.xlabel('Epochs')\n",
        "plt.ylabel('Loss')\n",
        "plt.legend()\n",
        "plt.show()"
      ],
      "metadata": {
        "colab": {
          "base_uri": "https://localhost:8080/",
          "height": 295
        },
        "id": "IsWlym2x94gX",
        "outputId": "d300a443-72c2-460d-c2d5-2b283319d4aa"
      },
      "execution_count": null,
      "outputs": [
        {
          "output_type": "display_data",
          "data": {
            "text/plain": [
              "<Figure size 432x288 with 1 Axes>"
            ],
            "image/png": "[encoded data removed]"
          },
          "metadata": {
            "needs_background": "light"
          }
        }
      ]
    },
    {
      "cell_type": "code",
      "source": [
        "# Convert Keras model to a tflite model\n",
        "converter = tf.lite.TFLiteConverter.from_keras_model(q_aware_model)\n",
        "converter.optimizations = [tf.lite.Optimize.DEFAULT]  # option OPTIMIZE_FOR_SIZE is deprecated\n",
        "tflite_model = converter.convert()\n",
        "\n",
        "open(tflite_model_name+'_qaware'+'.tflite', 'wb').write(tflite_model)"
      ],
      "metadata": {
        "colab": {
          "base_uri": "https://localhost:8080/"
        },
        "id": "u5-3BSKo54sy",
        "outputId": "c0ff3090-2ed9-46fd-f92e-bdb3e2148854"
      },
      "execution_count": null,
      "outputs": [
        {
          "output_type": "stream",
          "name": "stderr",
          "text": [
            "WARNING:absl:Found untraced functions such as layer_0_layer_call_fn, layer_0_layer_call_and_return_conditional_losses, layer_1_layer_call_fn, layer_1_layer_call_and_return_conditional_losses, layer_2_layer_call_fn while saving (showing 5 of 8). These functions will not be directly callable after loading.\n"
          ]
        },
        {
          "output_type": "stream",
          "name": "stdout",
          "text": [
            "INFO:tensorflow:Assets written to: /tmp/tmp0ov2idoc/assets\n"
          ]
        },
        {
          "output_type": "stream",
          "name": "stderr",
          "text": [
            "INFO:tensorflow:Assets written to: /tmp/tmp0ov2idoc/assets\n",
            "/usr/local/lib/python3.7/dist-packages/tensorflow/lite/python/convert.py:746: UserWarning: Statistics for quantized inputs were expected, but not specified; continuing anyway.\n",
            "  warnings.warn(\"Statistics for quantized inputs were expected, but not \"\n",
            "WARNING:absl:Buffer deduplication procedure will be skipped when flatbuffer library is not properly loaded\n"
          ]
        },
        {
          "output_type": "execute_result",
          "data": {
            "text/plain": [
              "15008"
            ]
          },
          "metadata": {},
          "execution_count": 55
        }
      ]
    },
    {
      "cell_type": "code",
      "source": [
        "interpreter = tf.lite.Interpreter(model_content=tflite_model)\n",
        "\n",
        "input_type = interpreter.get_input_details()[0]['dtype']\n",
        "print('input dtype:  ', input_type)\n",
        "output_type = interpreter.get_output_details()[0]['dtype']\n",
        "print('output dtype: ', output_type)"
      ],
      "metadata": {
        "colab": {
          "base_uri": "https://localhost:8080/"
        },
        "id": "8hmZXlESFehe",
        "outputId": "f9f53868-b6dd-476b-9641-80924169ccbc"
      },
      "execution_count": null,
      "outputs": [
        {
          "output_type": "stream",
          "name": "stdout",
          "text": [
            "input dtype:   <class 'numpy.float32'>\n",
            "output dtype:  <class 'numpy.float32'>\n"
          ]
        }
      ]
    },
    {
      "cell_type": "markdown",
      "source": [
        "## Check quantization aware model"
      ],
      "metadata": {
        "id": "Id73GTUO6WnJ"
      }
    },
    {
      "cell_type": "code",
      "source": [
        "_, baseline_model_accuracy = model_1.evaluate(\n",
        "    y_validate, x_validate, verbose=0)\n",
        "\n",
        "_, q_aware_model_accuracy = q_aware_model.evaluate(\n",
        "   y_validate, x_validate, verbose=0)\n",
        "\n",
        "print('Baseline test accuracy:', baseline_model_accuracy)\n",
        "print('Quant test accuracy:   ', q_aware_model_accuracy)"
      ],
      "metadata": {
        "colab": {
          "base_uri": "https://localhost:8080/"
        },
        "id": "_PW-1LPY6fNK",
        "outputId": "21125ee3-d2a6-46c9-b7cb-9fe2c87fab37"
      },
      "execution_count": null,
      "outputs": [
        {
          "output_type": "stream",
          "name": "stdout",
          "text": [
            "Baseline test accuracy: 0.6972407698631287\n",
            "Quant test accuracy:    1.0\n"
          ]
        }
      ]
    },
    {
      "cell_type": "code",
      "source": [
        "qx_test_pred = np.array( q_aware_model.predict(y_test)[0])\n",
        "x_test_pred  = np.array( model_1.predict(y_test)[0])\n",
        "\n",
        "print(\"sample pulse created:    \", x_test)\n",
        "print(\"ANN reconstructed:       \", x_test_pred)\n",
        "print(\"ANN quant reconstructed: \", qx_test_pred)"
      ],
      "metadata": {
        "colab": {
          "base_uri": "https://localhost:8080/"
        },
        "id": "Gn8rG0Tb61ha",
        "outputId": "a5a60068-03f3-497f-ea73-9d57c306edcc"
      },
      "execution_count": null,
      "outputs": [
        {
          "output_type": "stream",
          "name": "stdout",
          "text": [
            "sample pulse created:     [21 18 49]\n",
            "ANN reconstructed:        [20.678125 20.212816 49.485893]\n",
            "ANN quant reconstructed:  [20.646603 21.126755 49.455814]\n"
          ]
        }
      ]
    },
    {
      "cell_type": "markdown",
      "source": [
        "## Test the qaware TFlite model\n"
      ],
      "metadata": {
        "id": "JtziZiqwGBuj"
      }
    },
    {
      "cell_type": "code",
      "source": [
        "# Load the TFLite model and allocate tensors.\n",
        "interpreter = tf.lite.Interpreter(model_path=tflite_model_name+'_qaware'+\".tflite\")\n",
        "interpreter.allocate_tensors()\n",
        "\n",
        "# Get input and output tensors.\n",
        "input_details = interpreter.get_input_details()\n",
        "output_details = interpreter.get_output_details()\n",
        "\n",
        "# Test the model on random input data.\n",
        "input_shape = input_details[0]['shape']\n",
        "\n",
        "input_type = interpreter.get_input_details()[0]['dtype']\n",
        "print('input dtype:  ', input_type)\n",
        "output_type = interpreter.get_output_details()[0]['dtype']\n",
        "print('output dtype: ', output_type)\n",
        "print()\n",
        "\n",
        "input_data = np.array( y_test, dtype=np.float32)\n",
        "interpreter.set_tensor(input_details[0]['index'], input_data)\n",
        "\n",
        "interpreter.invoke()\n",
        "\n",
        "output_data = interpreter.get_tensor(output_details[0]['index'])[0]\n",
        "print(output_data)"
      ],
      "metadata": {
        "colab": {
          "base_uri": "https://localhost:8080/"
        },
        "id": "r38C3nCuA5E_",
        "outputId": "5f9998a3-5864-46bd-ef69-9e72e05371aa"
      },
      "execution_count": 66,
      "outputs": [
        {
          "output_type": "stream",
          "name": "stdout",
          "text": [
            "input dtype:   <class 'numpy.float32'>\n",
            "output dtype:  <class 'numpy.float32'>\n",
            "\n",
            "[20.166449 20.166449 48.97566 ]\n"
          ]
        }
      ]
    }
  ]
}