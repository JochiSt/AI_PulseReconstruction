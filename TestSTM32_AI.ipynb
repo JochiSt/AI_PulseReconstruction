{
  "nbformat": 4,
  "nbformat_minor": 0,
  "metadata": {
    "colab": {
      "name": "TestSTM32_AI.ipynb",
      "provenance": [],
      "collapsed_sections": [],
      "toc_visible": true,
      "authorship_tag": "ABX9TyNCnOjUKjigVsYvz4fpuxbz",
      "include_colab_link": true
    },
    "kernelspec": {
      "name": "python3",
      "display_name": "Python 3"
    },
    "language_info": {
      "name": "python"
    }
  },
  "cells": [
    {
      "cell_type": "markdown",
      "metadata": {
        "id": "view-in-github",
        "colab_type": "text"
      },
      "source": [
        "<a href=\"https://colab.research.google.com/github/JochiSt/AI_PulseReconstruction/blob/main/TestSTM32_AI.ipynb\" target=\"_parent\"><img src=\"https://colab.research.google.com/assets/colab-badge.svg\" alt=\"Open In Colab\"/></a>"
      ]
    },
    {
      "cell_type": "markdown",
      "source": [
        "# Pulse recognition AI\n",
        "\n",
        "first all the imports"
      ],
      "metadata": {
        "id": "brM0YAG3Vcen"
      }
    },
    {
      "cell_type": "code",
      "execution_count": 67,
      "metadata": {
        "id": "dW80rxgzVZ8z"
      },
      "outputs": [],
      "source": [
        "import numpy as np\n",
        "import matplotlib.pyplot as plt"
      ]
    },
    {
      "cell_type": "markdown",
      "source": [
        "## Generate template"
      ],
      "metadata": {
        "id": "XUxegHb0V0qN"
      }
    },
    {
      "cell_type": "code",
      "source": [
        "TOTAL_SAMPLES = 128\n",
        "\n",
        "def generateTemplate(position = 0, pulse_length = 32, height=1, noise=0):\n",
        "\n",
        "  assert TOTAL_SAMPLES - pulse_length - position > 0\n",
        "\n",
        "  template = np.append(np.zeros(position), np.ones(pulse_length))\n",
        "  template = np.append(template, np.zeros( TOTAL_SAMPLES - pulse_length - position))\n",
        "\n",
        "  template *= height\n",
        "\n",
        "  # add some noise\n",
        "  template  += noise * np.random.randn(*template.shape)\n",
        "  template = template.astype(int)\n",
        "\n",
        "  return template\n",
        "\n",
        "print(\"template length: \", len(generateTemplate()))"
      ],
      "metadata": {
        "colab": {
          "base_uri": "https://localhost:8080/"
        },
        "id": "RPOJ8P9jWBRa",
        "outputId": "875ad6ee-d92a-4f99-9fb5-af4c14eddcb3"
      },
      "execution_count": 68,
      "outputs": [
        {
          "output_type": "stream",
          "name": "stdout",
          "text": [
            "template length:  128\n"
          ]
        }
      ]
    },
    {
      "cell_type": "markdown",
      "source": [
        "Have a look at the template visually"
      ],
      "metadata": {
        "id": "I1PFw1tzV8kx"
      }
    },
    {
      "cell_type": "code",
      "source": [
        "plt.plot(generateTemplate(position = 32, pulse_length=32), 'b')\n",
        "plt.plot(generateTemplate(position = 16, pulse_length=64), 'r')\n",
        "plt.show()"
      ],
      "metadata": {
        "colab": {
          "base_uri": "https://localhost:8080/",
          "height": 265
        },
        "id": "L1VUYDhUWw9t",
        "outputId": "4a6b9eb7-7f4b-4822-fdba-e5ce14512aa9"
      },
      "execution_count": 69,
      "outputs": [
        {
          "output_type": "display_data",
          "data": {
            "image/png": "[encoded data removed]",
            "text/plain": [
              "<Figure size 432x288 with 1 Axes>"
            ]
          },
          "metadata": {
            "needs_background": "light"
          }
        }
      ]
    },
    {
      "cell_type": "markdown",
      "source": [
        "add some noise, and maybe shift the position\n",
        "\n",
        "\n",
        "\n"
      ],
      "metadata": {
        "id": "kYBulwl2XGvg"
      }
    },
    {
      "cell_type": "code",
      "source": [
        "# Plot our data\n",
        "plt.plot(generateTemplate(noise=0.1), 'b.')\n",
        "plt.show()"
      ],
      "metadata": {
        "id": "ouyegrmBXGJg",
        "colab": {
          "base_uri": "https://localhost:8080/",
          "height": 265
        },
        "outputId": "a8e58a45-7293-4c16-9226-e34558d3a781"
      },
      "execution_count": 70,
      "outputs": [
        {
          "output_type": "display_data",
          "data": {
            "image/png": "[encoded data removed]",
            "text/plain": [
              "<Figure size 432x288 with 1 Axes>"
            ]
          },
          "metadata": {
            "needs_background": "light"
          }
        }
      ]
    },
    {
      "cell_type": "markdown",
      "source": [
        "## Create Templates for recognision\n",
        "\n",
        "Generate a couple of templates, which have a pulse in them, and some without any data"
      ],
      "metadata": {
        "id": "u1emwvE7ogUq"
      }
    },
    {
      "cell_type": "code",
      "source": [
        "for i in range(10):\n",
        "  width = np.random.randint(16, 64)               # width of 16 to 64\n",
        "  position = np.random.randint(0, high=128-width) # arbitrary position\n",
        "  noise = np.random.randint(1,30)/10.             # 0.1 to 3 LSB noise\n",
        "  height = np.random.randint(32,128)              # pulse height of 32 to 128\n",
        "\n",
        "  print(position, width, noise, height)\n",
        "  plt.plot(generateTemplate(position = position, pulse_length = width, height=height, noise=noise))\n",
        "\n",
        "plt.show()"
      ],
      "metadata": {
        "colab": {
          "base_uri": "https://localhost:8080/",
          "height": 449
        },
        "id": "1bzxxYb7odBS",
        "outputId": "d20dd42a-5b5b-44b1-feb8-11c871e9e81e"
      },
      "execution_count": 71,
      "outputs": [
        {
          "output_type": "stream",
          "name": "stdout",
          "text": [
            "58 19 0.1 60\n",
            "48 44 2.3 121\n",
            "63 54 2.8 45\n",
            "22 54 2.6 123\n",
            "62 38 2.6 85\n",
            "24 28 2.0 61\n",
            "27 55 0.4 41\n",
            "3 58 1.6 108\n",
            "9 57 1.6 109\n",
            "21 58 0.2 36\n"
          ]
        },
        {
          "output_type": "display_data",
          "data": {
            "image/png": "[encoded data removed]",
            "text/plain": [
              "<Figure size 432x288 with 1 Axes>"
            ]
          },
          "metadata": {
            "needs_background": "light"
          }
        }
      ]
    },
    {
      "cell_type": "markdown",
      "source": [
        "# Building the ANN\n"
      ],
      "metadata": {
        "id": "gEwEaXGCzATx"
      }
    },
    {
      "cell_type": "markdown",
      "source": [
        "### Purpose of the ANN\n",
        "We want to do Pattern Recognition, based on the waveforms shown above.\n",
        "\n",
        "The output parameters, which we want to reconstruct are:\n",
        "*   Width\n",
        "*   Position\n",
        "*   height\n"
      ],
      "metadata": {
        "id": "xAJs9gcpMi9V"
      }
    },
    {
      "cell_type": "markdown",
      "source": [
        "Starting with importing all things, which we need for creating a model"
      ],
      "metadata": {
        "id": "ffHEzdBezI__"
      }
    },
    {
      "cell_type": "code",
      "source": [
        "# TensorFlow is an open source machine learning library\n",
        "import tensorflow as tf\n",
        "# Keras is TensorFlow's high-level API for deep learning\n",
        "from tensorflow import keras"
      ],
      "metadata": {
        "id": "AVbyQZoBzNxw"
      },
      "execution_count": 72,
      "outputs": []
    },
    {
      "cell_type": "code",
      "source": [
        "# number of samples for training, testing etc.\n",
        "SAMPLES = 10000"
      ],
      "metadata": {
        "id": "_2mfaOUkzo12"
      },
      "execution_count": 73,
      "outputs": []
    },
    {
      "cell_type": "markdown",
      "source": [
        "## Generate the samples\n",
        "We want to do Pattern recognition, so we have to link the waveforms to the input parameters."
      ],
      "metadata": {
        "id": "UCMepv3tzyM9"
      }
    },
    {
      "cell_type": "code",
      "source": [
        "# use fixed value for noise (1st try)\n",
        "noise = 0.4 \n",
        "\n",
        "y_values = []\n",
        "x_values = []\n",
        "\n",
        "# generate the waveforms\n",
        "for i in range(SAMPLES):\n",
        "  # use random settings\n",
        "  width = np.random.randint(16, 18)                # width of 16 to 64\n",
        "  position = np.random.randint(16, high=18)        # arbitrary position\n",
        "  height = np.random.randint(32,34)                # pulse height of 32 to 128\n",
        "\n",
        "  x_values.append( (width, position, height) )\n",
        "  y_values.append( generateTemplate(position = position, pulse_length = width, height=height, noise=noise) )\n",
        "\n",
        "# debug printouts\n",
        "#print(x_values[:2])\n",
        "#print(y_values[:2])"
      ],
      "metadata": {
        "id": "6uUa9b2pzviJ"
      },
      "execution_count": 74,
      "outputs": []
    },
    {
      "cell_type": "markdown",
      "source": [
        "### Look at the training data\n",
        "Just make a 2D histogram of all templates."
      ],
      "metadata": {
        "id": "M54DYG8PLBYg"
      }
    },
    {
      "cell_type": "code",
      "source": [
        "if True:\n",
        "  plot_x = [ np.arange(128) for i in range(len(y_values)) ]\n",
        "  plot_x = np.array(plot_x)\n",
        "  plot_x = plot_x.flatten()\n",
        "  plot_y = np.array(y_values)\n",
        "  plot_y = plot_y.flatten()\n",
        "  plt.hist2d(plot_x, plot_y, bins=128, cmap='plasma')\n",
        "  plt.show()"
      ],
      "metadata": {
        "colab": {
          "base_uri": "https://localhost:8080/",
          "height": 265
        },
        "id": "oc_SbOCaLKKe",
        "outputId": "141ea6b0-9b0d-4f77-c0c7-3e592c9c5253"
      },
      "execution_count": 75,
      "outputs": [
        {
          "output_type": "display_data",
          "data": {
            "image/png": "[encoded data removed]",
            "text/plain": [
              "<Figure size 432x288 with 1 Axes>"
            ]
          },
          "metadata": {
            "needs_background": "light"
          }
        }
      ]
    },
    {
      "cell_type": "markdown",
      "source": [
        "## Split the waveforms into Training, Testing and Validation"
      ],
      "metadata": {
        "id": "uxBiOKO90JG_"
      }
    },
    {
      "cell_type": "code",
      "source": [
        "# We'll use 60% of our data for training and 20% for testing. The remaining 20%\n",
        "# will be used for validation. Calculate the indices of each section.\n",
        "TRAIN_SPLIT =  int(0.6 * SAMPLES)\n",
        "TEST_SPLIT = int(0.2 * SAMPLES + TRAIN_SPLIT)\n",
        "print(\"using %d points for training and %d points for testing\"%(TRAIN_SPLIT, TEST_SPLIT))\n",
        "\n",
        "# convert data into numpy arrays\n",
        "y_values = np.array(y_values) # parameters\n",
        "x_values = np.array(x_values) # waveforms\n",
        "\n",
        "# Use np.split to chop our data into three parts.\n",
        "# The second argument to np.split is an array of indices where the data will be\n",
        "# split. We provide two indices, so the data will be divided into three chunks.\n",
        "x_train, x_test, x_validate = np.split(x_values, [TRAIN_SPLIT, TEST_SPLIT])\n",
        "y_train, y_test, y_validate = np.split(y_values, [TRAIN_SPLIT, TEST_SPLIT])\n",
        "\n",
        "# Double check that our splits add up correctly\n",
        "assert (len(x_train) + len(x_validate) + len(x_test) ) ==  SAMPLES"
      ],
      "metadata": {
        "id": "_gxWfkRezVf3",
        "colab": {
          "base_uri": "https://localhost:8080/"
        },
        "outputId": "69e58500-9dba-48f9-f805-23292b525373"
      },
      "execution_count": 76,
      "outputs": [
        {
          "output_type": "stream",
          "name": "stdout",
          "text": [
            "using 6000 points for training and 8000 points for testing\n"
          ]
        }
      ]
    },
    {
      "cell_type": "markdown",
      "source": [
        "## Create the ANN"
      ],
      "metadata": {
        "id": "tfIC4_-l0Cc4"
      }
    },
    {
      "cell_type": "code",
      "source": [
        "inputs = keras.Input(shape=(128,), name=\"waveform_input\")\n",
        "\n",
        "layer_cnt=0\n",
        "x = keras.layers.Dense(128, name=\"layer_%d\"%(layer_cnt))(inputs)\n",
        "layer_cnt+=1\n",
        "\n",
        "x = keras.layers.Dense(128, name=\"layer_%d\"%(layer_cnt))(x)\n",
        "layer_cnt+=1\n",
        "\n",
        "x = keras.layers.Dense(32, name=\"layer_%d\"%(layer_cnt))(x)\n",
        "layer_cnt+=1\n",
        "\n",
        "x = keras.layers.Dense(64,  name=\"layer_%d\"%(layer_cnt))(x)\n",
        "layer_cnt+=1\n",
        "\n",
        "# final layer for classification\n",
        "outputs = keras.layers.Dense(3, name=\"classification\")(x)\n",
        "\n",
        "model_1 = keras.Model(inputs=inputs, outputs=outputs)\n",
        "model_1.summary()\n",
        "\n",
        "# Compile the model using the standard 'adam' optimizer and the mean squared error or 'mse' loss function for regression.\n",
        "model_1.compile(optimizer='adam', loss='mse', metrics=['mae'])"
      ],
      "metadata": {
        "id": "FbTg1F3s0BTe",
        "colab": {
          "base_uri": "https://localhost:8080/"
        },
        "outputId": "01069515-e471-4891-8982-3fdc822cf4a0"
      },
      "execution_count": 95,
      "outputs": [
        {
          "output_type": "stream",
          "name": "stdout",
          "text": [
            "Model: \"model_11\"\n",
            "_________________________________________________________________\n",
            " Layer (type)                Output Shape              Param #   \n",
            "=================================================================\n",
            " waveform_input (InputLayer)  [(None, 128)]            0         \n",
            "                                                                 \n",
            " layer_0 (Dense)             (None, 128)               16512     \n",
            "                                                                 \n",
            " layer_1 (Dense)             (None, 128)               16512     \n",
            "                                                                 \n",
            " layer_2 (Dense)             (None, 32)                4128      \n",
            "                                                                 \n",
            " layer_3 (Dense)             (None, 64)                2112      \n",
            "                                                                 \n",
            " classification (Dense)      (None, 3)                 195       \n",
            "                                                                 \n",
            "=================================================================\n",
            "Total params: 39,459\n",
            "Trainable params: 39,459\n",
            "Non-trainable params: 0\n",
            "_________________________________________________________________\n"
          ]
        }
      ]
    },
    {
      "cell_type": "markdown",
      "source": [
        "## Train the model"
      ],
      "metadata": {
        "id": "hjz2ghXbL9Ok"
      }
    },
    {
      "cell_type": "code",
      "source": [
        "# Train the model on our training data while validating on our validation set\n",
        "# remember:\n",
        "#     y = waveforms\n",
        "#     x = truth parameters\n",
        "# just do some trainings to see, whether this structure works or not\n",
        "\n",
        "history_1 = model_1.fit(y_train, x_train, epochs=4, batch_size=128, validation_data=(y_validate, x_validate))"
      ],
      "metadata": {
        "colab": {
          "base_uri": "https://localhost:8080/"
        },
        "id": "Zsx72tmvxNnj",
        "outputId": "d0e32e82-69cc-493b-afef-9f872904dcac"
      },
      "execution_count": 96,
      "outputs": [
        {
          "output_type": "stream",
          "name": "stdout",
          "text": [
            "Epoch 1/4\n",
            "47/47 [==============================] - 1s 8ms/step - loss: 19.5278 - mae: 2.6542 - val_loss: 0.4781 - val_mae: 0.5596\n",
            "Epoch 2/4\n",
            "47/47 [==============================] - 0s 6ms/step - loss: 0.1856 - mae: 0.3365 - val_loss: 0.0938 - val_mae: 0.2481\n",
            "Epoch 3/4\n",
            "47/47 [==============================] - 0s 5ms/step - loss: 0.0893 - mae: 0.2455 - val_loss: 0.0859 - val_mae: 0.2416\n",
            "Epoch 4/4\n",
            "47/47 [==============================] - 0s 6ms/step - loss: 0.0856 - mae: 0.2412 - val_loss: 0.0803 - val_mae: 0.2353\n"
          ]
        }
      ]
    },
    {
      "cell_type": "code",
      "source": [
        "# fully train the network\n",
        "history_1 = model_1.fit(y_train, x_train, epochs=250, batch_size=128, validation_data=(y_validate, x_validate))\n",
        "\n",
        "# Save the model to disk\n",
        "!mkdir -p saved_model\n",
        "model_1.save('saved_model/STM32_AI_Test')"
      ],
      "metadata": {
        "colab": {
          "base_uri": "https://localhost:8080/"
        },
        "id": "xMQfeuZ_L7QU",
        "outputId": "23665e11-059b-4a97-c21c-8164975f4ac5"
      },
      "execution_count": 97,
      "outputs": [
        {
          "output_type": "stream",
          "name": "stdout",
          "text": [
            "Epoch 1/250\n",
            "47/47 [==============================] - 0s 6ms/step - loss: 0.0823 - mae: 0.2369 - val_loss: 0.0831 - val_mae: 0.2378\n",
            "Epoch 2/250\n",
            "47/47 [==============================] - 0s 6ms/step - loss: 0.0784 - mae: 0.2332 - val_loss: 0.0754 - val_mae: 0.2306\n",
            "Epoch 3/250\n",
            "47/47 [==============================] - 0s 5ms/step - loss: 0.0789 - mae: 0.2336 - val_loss: 0.0835 - val_mae: 0.2376\n",
            "Epoch 4/250\n",
            "47/47 [==============================] - 0s 6ms/step - loss: 0.0754 - mae: 0.2294 - val_loss: 0.0778 - val_mae: 0.2327\n",
            "Epoch 5/250\n",
            "47/47 [==============================] - 0s 6ms/step - loss: 0.0758 - mae: 0.2295 - val_loss: 0.0720 - val_mae: 0.2270\n",
            "Epoch 6/250\n",
            "47/47 [==============================] - 0s 5ms/step - loss: 0.0749 - mae: 0.2284 - val_loss: 0.0740 - val_mae: 0.2284\n",
            "Epoch 7/250\n",
            "47/47 [==============================] - 0s 6ms/step - loss: 0.0752 - mae: 0.2286 - val_loss: 0.0762 - val_mae: 0.2317\n",
            "Epoch 8/250\n",
            "47/47 [==============================] - 0s 5ms/step - loss: 0.0789 - mae: 0.2304 - val_loss: 0.0839 - val_mae: 0.2359\n",
            "Epoch 9/250\n",
            "47/47 [==============================] - 0s 5ms/step - loss: 0.0734 - mae: 0.2265 - val_loss: 0.0703 - val_mae: 0.2239\n",
            "Epoch 10/250\n",
            "47/47 [==============================] - 0s 6ms/step - loss: 0.0679 - mae: 0.2211 - val_loss: 0.0792 - val_mae: 0.2312\n",
            "Epoch 11/250\n",
            "47/47 [==============================] - 0s 5ms/step - loss: 0.0712 - mae: 0.2241 - val_loss: 0.0868 - val_mae: 0.2334\n",
            "Epoch 12/250\n",
            "47/47 [==============================] - 0s 6ms/step - loss: 0.0709 - mae: 0.2236 - val_loss: 0.0696 - val_mae: 0.2240\n",
            "Epoch 13/250\n",
            "47/47 [==============================] - 0s 5ms/step - loss: 0.0734 - mae: 0.2244 - val_loss: 0.1117 - val_mae: 0.2707\n",
            "Epoch 14/250\n",
            "47/47 [==============================] - 0s 5ms/step - loss: 0.0898 - mae: 0.2413 - val_loss: 0.0824 - val_mae: 0.2310\n",
            "Epoch 15/250\n",
            "47/47 [==============================] - 0s 6ms/step - loss: 0.0811 - mae: 0.2308 - val_loss: 0.0692 - val_mae: 0.2225\n",
            "Epoch 16/250\n",
            "47/47 [==============================] - 0s 5ms/step - loss: 0.0737 - mae: 0.2233 - val_loss: 0.0692 - val_mae: 0.2241\n",
            "Epoch 17/250\n",
            "47/47 [==============================] - 0s 5ms/step - loss: 0.0705 - mae: 0.2202 - val_loss: 0.0628 - val_mae: 0.2165\n",
            "Epoch 18/250\n",
            "47/47 [==============================] - 0s 5ms/step - loss: 0.0882 - mae: 0.2415 - val_loss: 0.1909 - val_mae: 0.3389\n",
            "Epoch 19/250\n",
            "47/47 [==============================] - 0s 6ms/step - loss: 0.0881 - mae: 0.2378 - val_loss: 0.0766 - val_mae: 0.2325\n",
            "Epoch 20/250\n",
            "47/47 [==============================] - 0s 6ms/step - loss: 0.0867 - mae: 0.2375 - val_loss: 0.0935 - val_mae: 0.2393\n",
            "Epoch 21/250\n",
            "47/47 [==============================] - 0s 5ms/step - loss: 0.0727 - mae: 0.2228 - val_loss: 0.0606 - val_mae: 0.2143\n",
            "Epoch 22/250\n",
            "47/47 [==============================] - 0s 5ms/step - loss: 0.0735 - mae: 0.2254 - val_loss: 0.0880 - val_mae: 0.2332\n",
            "Epoch 23/250\n",
            "47/47 [==============================] - 0s 6ms/step - loss: 0.0946 - mae: 0.2482 - val_loss: 0.1091 - val_mae: 0.2695\n",
            "Epoch 24/250\n",
            "47/47 [==============================] - 0s 5ms/step - loss: 0.0725 - mae: 0.2235 - val_loss: 0.0826 - val_mae: 0.2274\n",
            "Epoch 25/250\n",
            "47/47 [==============================] - 0s 6ms/step - loss: 0.0796 - mae: 0.2301 - val_loss: 0.0654 - val_mae: 0.2168\n",
            "Epoch 26/250\n",
            "47/47 [==============================] - 0s 5ms/step - loss: 0.0760 - mae: 0.2258 - val_loss: 0.0657 - val_mae: 0.2130\n",
            "Epoch 27/250\n",
            "47/47 [==============================] - 0s 5ms/step - loss: 0.1102 - mae: 0.2619 - val_loss: 0.0726 - val_mae: 0.2271\n",
            "Epoch 28/250\n",
            "47/47 [==============================] - 0s 5ms/step - loss: 0.0770 - mae: 0.2302 - val_loss: 0.0642 - val_mae: 0.2191\n",
            "Epoch 29/250\n",
            "47/47 [==============================] - 0s 5ms/step - loss: 0.0758 - mae: 0.2276 - val_loss: 0.0977 - val_mae: 0.2506\n",
            "Epoch 30/250\n",
            "47/47 [==============================] - 0s 5ms/step - loss: 0.0890 - mae: 0.2419 - val_loss: 0.1328 - val_mae: 0.2963\n",
            "Epoch 31/250\n",
            "47/47 [==============================] - 0s 6ms/step - loss: 0.0789 - mae: 0.2320 - val_loss: 0.0705 - val_mae: 0.2149\n",
            "Epoch 32/250\n",
            "47/47 [==============================] - 0s 6ms/step - loss: 0.0760 - mae: 0.2264 - val_loss: 0.0756 - val_mae: 0.2199\n",
            "Epoch 33/250\n",
            "47/47 [==============================] - 0s 6ms/step - loss: 0.0765 - mae: 0.2260 - val_loss: 0.0699 - val_mae: 0.2176\n",
            "Epoch 34/250\n",
            "47/47 [==============================] - 0s 6ms/step - loss: 0.0715 - mae: 0.2218 - val_loss: 0.0615 - val_mae: 0.2120\n",
            "Epoch 35/250\n",
            "47/47 [==============================] - 0s 6ms/step - loss: 0.0772 - mae: 0.2299 - val_loss: 0.0706 - val_mae: 0.2256\n",
            "Epoch 36/250\n",
            "47/47 [==============================] - 0s 6ms/step - loss: 0.0679 - mae: 0.2187 - val_loss: 0.0620 - val_mae: 0.2114\n",
            "Epoch 37/250\n",
            "47/47 [==============================] - 0s 6ms/step - loss: 0.0772 - mae: 0.2317 - val_loss: 0.0577 - val_mae: 0.2112\n",
            "Epoch 38/250\n",
            "47/47 [==============================] - 0s 6ms/step - loss: 0.0846 - mae: 0.2401 - val_loss: 0.1643 - val_mae: 0.3157\n",
            "Epoch 39/250\n",
            "47/47 [==============================] - 0s 6ms/step - loss: 0.1009 - mae: 0.2543 - val_loss: 0.1012 - val_mae: 0.2495\n",
            "Epoch 40/250\n",
            "47/47 [==============================] - 0s 6ms/step - loss: 0.0714 - mae: 0.2216 - val_loss: 0.1219 - val_mae: 0.2872\n",
            "Epoch 41/250\n",
            "47/47 [==============================] - 0s 6ms/step - loss: 0.0839 - mae: 0.2383 - val_loss: 0.0748 - val_mae: 0.2323\n",
            "Epoch 42/250\n",
            "47/47 [==============================] - 0s 5ms/step - loss: 0.0831 - mae: 0.2394 - val_loss: 0.0636 - val_mae: 0.2178\n",
            "Epoch 43/250\n",
            "47/47 [==============================] - 0s 6ms/step - loss: 0.0662 - mae: 0.2162 - val_loss: 0.0827 - val_mae: 0.2364\n",
            "Epoch 44/250\n",
            "47/47 [==============================] - 0s 5ms/step - loss: 0.0747 - mae: 0.2258 - val_loss: 0.0690 - val_mae: 0.2116\n",
            "Epoch 45/250\n",
            "47/47 [==============================] - 0s 5ms/step - loss: 0.0696 - mae: 0.2213 - val_loss: 0.0683 - val_mae: 0.2121\n",
            "Epoch 46/250\n",
            "47/47 [==============================] - 0s 5ms/step - loss: 0.0761 - mae: 0.2271 - val_loss: 0.0598 - val_mae: 0.2119\n",
            "Epoch 47/250\n",
            "47/47 [==============================] - 0s 7ms/step - loss: 0.0766 - mae: 0.2301 - val_loss: 0.1192 - val_mae: 0.2693\n",
            "Epoch 48/250\n",
            "47/47 [==============================] - 0s 6ms/step - loss: 0.0798 - mae: 0.2315 - val_loss: 0.0646 - val_mae: 0.2129\n",
            "Epoch 49/250\n",
            "47/47 [==============================] - 0s 5ms/step - loss: 0.0724 - mae: 0.2251 - val_loss: 0.0639 - val_mae: 0.2097\n",
            "Epoch 50/250\n",
            "47/47 [==============================] - 0s 5ms/step - loss: 0.0796 - mae: 0.2338 - val_loss: 0.0570 - val_mae: 0.2074\n",
            "Epoch 51/250\n",
            "47/47 [==============================] - 0s 6ms/step - loss: 0.0981 - mae: 0.2540 - val_loss: 0.0868 - val_mae: 0.2505\n",
            "Epoch 52/250\n",
            "47/47 [==============================] - 0s 6ms/step - loss: 0.0742 - mae: 0.2253 - val_loss: 0.0640 - val_mae: 0.2265\n",
            "Epoch 53/250\n",
            "47/47 [==============================] - 0s 6ms/step - loss: 0.0795 - mae: 0.2317 - val_loss: 0.1023 - val_mae: 0.2562\n",
            "Epoch 54/250\n",
            "47/47 [==============================] - 0s 6ms/step - loss: 0.0686 - mae: 0.2192 - val_loss: 0.0899 - val_mae: 0.2369\n",
            "Epoch 55/250\n",
            "47/47 [==============================] - 0s 5ms/step - loss: 0.0881 - mae: 0.2407 - val_loss: 0.1418 - val_mae: 0.3040\n",
            "Epoch 56/250\n",
            "47/47 [==============================] - 0s 5ms/step - loss: 0.0807 - mae: 0.2338 - val_loss: 0.0753 - val_mae: 0.2282\n",
            "Epoch 57/250\n",
            "47/47 [==============================] - 0s 6ms/step - loss: 0.0828 - mae: 0.2349 - val_loss: 0.0653 - val_mae: 0.2169\n",
            "Epoch 58/250\n",
            "47/47 [==============================] - 0s 6ms/step - loss: 0.1038 - mae: 0.2632 - val_loss: 0.1379 - val_mae: 0.3129\n",
            "Epoch 59/250\n",
            "47/47 [==============================] - 0s 5ms/step - loss: 0.0921 - mae: 0.2477 - val_loss: 0.0576 - val_mae: 0.2131\n",
            "Epoch 60/250\n",
            "47/47 [==============================] - 0s 5ms/step - loss: 0.0884 - mae: 0.2431 - val_loss: 0.0862 - val_mae: 0.2407\n",
            "Epoch 61/250\n",
            "47/47 [==============================] - 0s 5ms/step - loss: 0.0808 - mae: 0.2353 - val_loss: 0.0760 - val_mae: 0.2178\n",
            "Epoch 62/250\n",
            "47/47 [==============================] - 0s 6ms/step - loss: 0.0926 - mae: 0.2490 - val_loss: 0.0751 - val_mae: 0.2189\n",
            "Epoch 63/250\n",
            "47/47 [==============================] - 0s 5ms/step - loss: 0.0719 - mae: 0.2213 - val_loss: 0.1000 - val_mae: 0.2787\n",
            "Epoch 64/250\n",
            "47/47 [==============================] - 0s 5ms/step - loss: 0.0833 - mae: 0.2394 - val_loss: 0.1083 - val_mae: 0.2675\n",
            "Epoch 65/250\n",
            "47/47 [==============================] - 0s 5ms/step - loss: 0.0675 - mae: 0.2219 - val_loss: 0.0732 - val_mae: 0.2221\n",
            "Epoch 66/250\n",
            "47/47 [==============================] - 0s 5ms/step - loss: 0.0865 - mae: 0.2437 - val_loss: 0.0867 - val_mae: 0.2336\n",
            "Epoch 67/250\n",
            "47/47 [==============================] - 0s 5ms/step - loss: 0.0844 - mae: 0.2358 - val_loss: 0.0611 - val_mae: 0.2218\n",
            "Epoch 68/250\n",
            "47/47 [==============================] - 0s 5ms/step - loss: 0.0663 - mae: 0.2199 - val_loss: 0.0565 - val_mae: 0.2061\n",
            "Epoch 69/250\n",
            "47/47 [==============================] - 0s 5ms/step - loss: 0.0955 - mae: 0.2554 - val_loss: 0.0804 - val_mae: 0.2498\n",
            "Epoch 70/250\n",
            "47/47 [==============================] - 0s 5ms/step - loss: 0.0749 - mae: 0.2322 - val_loss: 0.0559 - val_mae: 0.2082\n",
            "Epoch 71/250\n",
            "47/47 [==============================] - 0s 5ms/step - loss: 0.0763 - mae: 0.2312 - val_loss: 0.1258 - val_mae: 0.3138\n",
            "Epoch 72/250\n",
            "47/47 [==============================] - 0s 5ms/step - loss: 0.1002 - mae: 0.2610 - val_loss: 0.1804 - val_mae: 0.3714\n",
            "Epoch 73/250\n",
            "47/47 [==============================] - 0s 6ms/step - loss: 0.0997 - mae: 0.2629 - val_loss: 0.0962 - val_mae: 0.2835\n",
            "Epoch 74/250\n",
            "47/47 [==============================] - 0s 5ms/step - loss: 0.0839 - mae: 0.2486 - val_loss: 0.0670 - val_mae: 0.2147\n",
            "Epoch 75/250\n",
            "47/47 [==============================] - 0s 6ms/step - loss: 0.0630 - mae: 0.2146 - val_loss: 0.0621 - val_mae: 0.2150\n",
            "Epoch 76/250\n",
            "47/47 [==============================] - 0s 5ms/step - loss: 0.0714 - mae: 0.2259 - val_loss: 0.1055 - val_mae: 0.2762\n",
            "Epoch 77/250\n",
            "47/47 [==============================] - 0s 5ms/step - loss: 0.0925 - mae: 0.2540 - val_loss: 0.1156 - val_mae: 0.3067\n",
            "Epoch 78/250\n",
            "47/47 [==============================] - 0s 6ms/step - loss: 0.0962 - mae: 0.2605 - val_loss: 0.1125 - val_mae: 0.2927\n",
            "Epoch 79/250\n",
            "47/47 [==============================] - 0s 5ms/step - loss: 0.0869 - mae: 0.2477 - val_loss: 0.1627 - val_mae: 0.3405\n",
            "Epoch 80/250\n",
            "47/47 [==============================] - 0s 6ms/step - loss: 0.0864 - mae: 0.2471 - val_loss: 0.0575 - val_mae: 0.2060\n",
            "Epoch 81/250\n",
            "47/47 [==============================] - 0s 6ms/step - loss: 0.0720 - mae: 0.2297 - val_loss: 0.0650 - val_mae: 0.2231\n",
            "Epoch 82/250\n",
            "47/47 [==============================] - 0s 5ms/step - loss: 0.0687 - mae: 0.2205 - val_loss: 0.0577 - val_mae: 0.2049\n",
            "Epoch 83/250\n",
            "47/47 [==============================] - 0s 5ms/step - loss: 0.0884 - mae: 0.2499 - val_loss: 0.0597 - val_mae: 0.2172\n",
            "Epoch 84/250\n",
            "47/47 [==============================] - 0s 5ms/step - loss: 0.0852 - mae: 0.2456 - val_loss: 0.0906 - val_mae: 0.2492\n",
            "Epoch 85/250\n",
            "47/47 [==============================] - 0s 6ms/step - loss: 0.0714 - mae: 0.2263 - val_loss: 0.0633 - val_mae: 0.2230\n",
            "Epoch 86/250\n",
            "47/47 [==============================] - 0s 5ms/step - loss: 0.0680 - mae: 0.2235 - val_loss: 0.0591 - val_mae: 0.2088\n",
            "Epoch 87/250\n",
            "47/47 [==============================] - 0s 5ms/step - loss: 0.0592 - mae: 0.2101 - val_loss: 0.1240 - val_mae: 0.2877\n",
            "Epoch 88/250\n",
            "47/47 [==============================] - 0s 5ms/step - loss: 0.0839 - mae: 0.2419 - val_loss: 0.0696 - val_mae: 0.2143\n",
            "Epoch 89/250\n",
            "47/47 [==============================] - 0s 5ms/step - loss: 0.0643 - mae: 0.2139 - val_loss: 0.0575 - val_mae: 0.2127\n",
            "Epoch 90/250\n",
            "47/47 [==============================] - 0s 4ms/step - loss: 0.0655 - mae: 0.2195 - val_loss: 0.0529 - val_mae: 0.2056\n",
            "Epoch 91/250\n",
            "47/47 [==============================] - 0s 6ms/step - loss: 0.0782 - mae: 0.2373 - val_loss: 0.0934 - val_mae: 0.2726\n",
            "Epoch 92/250\n",
            "47/47 [==============================] - 0s 5ms/step - loss: 0.0755 - mae: 0.2326 - val_loss: 0.0715 - val_mae: 0.2195\n",
            "Epoch 93/250\n",
            "47/47 [==============================] - 0s 5ms/step - loss: 0.0680 - mae: 0.2226 - val_loss: 0.0598 - val_mae: 0.2066\n",
            "Epoch 94/250\n",
            "47/47 [==============================] - 0s 6ms/step - loss: 0.0644 - mae: 0.2145 - val_loss: 0.0657 - val_mae: 0.2133\n",
            "Epoch 95/250\n",
            "47/47 [==============================] - 0s 5ms/step - loss: 0.0639 - mae: 0.2134 - val_loss: 0.0637 - val_mae: 0.2058\n",
            "Epoch 96/250\n",
            "47/47 [==============================] - 0s 5ms/step - loss: 0.0833 - mae: 0.2382 - val_loss: 0.0721 - val_mae: 0.2388\n",
            "Epoch 97/250\n",
            "47/47 [==============================] - 0s 6ms/step - loss: 0.0946 - mae: 0.2533 - val_loss: 0.0704 - val_mae: 0.2406\n",
            "Epoch 98/250\n",
            "47/47 [==============================] - 0s 5ms/step - loss: 0.0841 - mae: 0.2402 - val_loss: 0.0617 - val_mae: 0.2099\n",
            "Epoch 99/250\n",
            "47/47 [==============================] - 0s 5ms/step - loss: 0.0674 - mae: 0.2191 - val_loss: 0.0578 - val_mae: 0.2143\n",
            "Epoch 100/250\n",
            "47/47 [==============================] - 0s 5ms/step - loss: 0.0781 - mae: 0.2358 - val_loss: 0.1288 - val_mae: 0.2910\n",
            "Epoch 101/250\n",
            "47/47 [==============================] - 0s 6ms/step - loss: 0.0827 - mae: 0.2425 - val_loss: 0.0650 - val_mae: 0.2331\n",
            "Epoch 102/250\n",
            "47/47 [==============================] - 0s 5ms/step - loss: 0.0730 - mae: 0.2311 - val_loss: 0.0584 - val_mae: 0.2070\n",
            "Epoch 103/250\n",
            "47/47 [==============================] - 0s 6ms/step - loss: 0.0924 - mae: 0.2525 - val_loss: 0.0544 - val_mae: 0.2035\n",
            "Epoch 104/250\n",
            "47/47 [==============================] - 0s 6ms/step - loss: 0.0791 - mae: 0.2383 - val_loss: 0.1022 - val_mae: 0.2868\n",
            "Epoch 105/250\n",
            "47/47 [==============================] - 0s 6ms/step - loss: 0.0868 - mae: 0.2451 - val_loss: 0.1051 - val_mae: 0.2774\n",
            "Epoch 106/250\n",
            "47/47 [==============================] - 0s 5ms/step - loss: 0.0849 - mae: 0.2422 - val_loss: 0.0724 - val_mae: 0.2411\n",
            "Epoch 107/250\n",
            "47/47 [==============================] - 0s 5ms/step - loss: 0.0783 - mae: 0.2367 - val_loss: 0.0690 - val_mae: 0.2345\n",
            "Epoch 108/250\n",
            "47/47 [==============================] - 0s 6ms/step - loss: 0.0683 - mae: 0.2246 - val_loss: 0.1066 - val_mae: 0.2607\n",
            "Epoch 109/250\n",
            "47/47 [==============================] - 0s 6ms/step - loss: 0.0753 - mae: 0.2302 - val_loss: 0.1064 - val_mae: 0.2771\n",
            "Epoch 110/250\n",
            "47/47 [==============================] - 0s 5ms/step - loss: 0.0649 - mae: 0.2177 - val_loss: 0.0544 - val_mae: 0.1993\n",
            "Epoch 111/250\n",
            "47/47 [==============================] - 0s 5ms/step - loss: 0.0831 - mae: 0.2426 - val_loss: 0.0534 - val_mae: 0.2053\n",
            "Epoch 112/250\n",
            "47/47 [==============================] - 0s 5ms/step - loss: 0.0585 - mae: 0.2086 - val_loss: 0.0559 - val_mae: 0.2107\n",
            "Epoch 113/250\n",
            "47/47 [==============================] - 0s 5ms/step - loss: 0.0677 - mae: 0.2184 - val_loss: 0.1384 - val_mae: 0.3071\n",
            "Epoch 114/250\n",
            "47/47 [==============================] - 0s 5ms/step - loss: 0.0749 - mae: 0.2318 - val_loss: 0.0667 - val_mae: 0.2072\n",
            "Epoch 115/250\n",
            "47/47 [==============================] - 0s 6ms/step - loss: 0.0863 - mae: 0.2466 - val_loss: 0.0681 - val_mae: 0.2151\n",
            "Epoch 116/250\n",
            "47/47 [==============================] - 0s 5ms/step - loss: 0.0751 - mae: 0.2328 - val_loss: 0.0807 - val_mae: 0.2289\n",
            "Epoch 117/250\n",
            "47/47 [==============================] - 0s 5ms/step - loss: 0.0720 - mae: 0.2288 - val_loss: 0.0560 - val_mae: 0.2051\n",
            "Epoch 118/250\n",
            "47/47 [==============================] - 0s 5ms/step - loss: 0.0602 - mae: 0.2113 - val_loss: 0.0786 - val_mae: 0.2469\n",
            "Epoch 119/250\n",
            "47/47 [==============================] - 0s 6ms/step - loss: 0.0718 - mae: 0.2273 - val_loss: 0.0580 - val_mae: 0.2100\n",
            "Epoch 120/250\n",
            "47/47 [==============================] - 0s 6ms/step - loss: 0.0598 - mae: 0.2101 - val_loss: 0.0510 - val_mae: 0.1981\n",
            "Epoch 121/250\n",
            "47/47 [==============================] - 0s 6ms/step - loss: 0.0616 - mae: 0.2106 - val_loss: 0.0551 - val_mae: 0.2052\n",
            "Epoch 122/250\n",
            "47/47 [==============================] - 0s 5ms/step - loss: 0.0649 - mae: 0.2179 - val_loss: 0.0564 - val_mae: 0.1996\n",
            "Epoch 123/250\n",
            "47/47 [==============================] - 0s 6ms/step - loss: 0.0722 - mae: 0.2271 - val_loss: 0.0526 - val_mae: 0.2027\n",
            "Epoch 124/250\n",
            "47/47 [==============================] - 0s 6ms/step - loss: 0.0653 - mae: 0.2166 - val_loss: 0.1081 - val_mae: 0.2827\n",
            "Epoch 125/250\n",
            "47/47 [==============================] - 0s 6ms/step - loss: 0.0790 - mae: 0.2368 - val_loss: 0.1914 - val_mae: 0.3771\n",
            "Epoch 126/250\n",
            "47/47 [==============================] - 0s 5ms/step - loss: 0.0955 - mae: 0.2576 - val_loss: 0.0718 - val_mae: 0.2442\n",
            "Epoch 127/250\n",
            "47/47 [==============================] - 0s 6ms/step - loss: 0.0828 - mae: 0.2429 - val_loss: 0.0545 - val_mae: 0.2054\n",
            "Epoch 128/250\n",
            "47/47 [==============================] - 0s 5ms/step - loss: 0.0562 - mae: 0.2056 - val_loss: 0.0516 - val_mae: 0.2018\n",
            "Epoch 129/250\n",
            "47/47 [==============================] - 0s 5ms/step - loss: 0.0598 - mae: 0.2109 - val_loss: 0.0735 - val_mae: 0.2240\n",
            "Epoch 130/250\n",
            "47/47 [==============================] - 0s 5ms/step - loss: 0.0882 - mae: 0.2478 - val_loss: 0.1156 - val_mae: 0.2897\n",
            "Epoch 131/250\n",
            "47/47 [==============================] - 0s 5ms/step - loss: 0.0814 - mae: 0.2376 - val_loss: 0.0577 - val_mae: 0.2136\n",
            "Epoch 132/250\n",
            "47/47 [==============================] - 0s 5ms/step - loss: 0.0854 - mae: 0.2447 - val_loss: 0.0763 - val_mae: 0.2272\n",
            "Epoch 133/250\n",
            "47/47 [==============================] - 0s 6ms/step - loss: 0.0634 - mae: 0.2167 - val_loss: 0.0663 - val_mae: 0.2218\n",
            "Epoch 134/250\n",
            "47/47 [==============================] - 0s 6ms/step - loss: 0.0794 - mae: 0.2364 - val_loss: 0.0633 - val_mae: 0.2101\n",
            "Epoch 135/250\n",
            "47/47 [==============================] - 0s 6ms/step - loss: 0.0564 - mae: 0.2043 - val_loss: 0.0515 - val_mae: 0.2019\n",
            "Epoch 136/250\n",
            "47/47 [==============================] - 0s 5ms/step - loss: 0.0750 - mae: 0.2310 - val_loss: 0.0850 - val_mae: 0.2573\n",
            "Epoch 137/250\n",
            "47/47 [==============================] - 0s 5ms/step - loss: 0.0658 - mae: 0.2166 - val_loss: 0.0568 - val_mae: 0.2018\n",
            "Epoch 138/250\n",
            "47/47 [==============================] - 0s 5ms/step - loss: 0.0579 - mae: 0.2094 - val_loss: 0.0878 - val_mae: 0.2428\n",
            "Epoch 139/250\n",
            "47/47 [==============================] - 0s 5ms/step - loss: 0.0620 - mae: 0.2134 - val_loss: 0.0552 - val_mae: 0.2085\n",
            "Epoch 140/250\n",
            "47/47 [==============================] - 0s 6ms/step - loss: 0.0635 - mae: 0.2156 - val_loss: 0.0577 - val_mae: 0.1995\n",
            "Epoch 141/250\n",
            "47/47 [==============================] - 0s 5ms/step - loss: 0.0576 - mae: 0.2051 - val_loss: 0.0535 - val_mae: 0.2018\n",
            "Epoch 142/250\n",
            "47/47 [==============================] - 0s 5ms/step - loss: 0.0608 - mae: 0.2108 - val_loss: 0.0742 - val_mae: 0.2459\n",
            "Epoch 143/250\n",
            "47/47 [==============================] - 0s 6ms/step - loss: 0.0742 - mae: 0.2305 - val_loss: 0.0758 - val_mae: 0.2351\n",
            "Epoch 144/250\n",
            "47/47 [==============================] - 0s 6ms/step - loss: 0.0763 - mae: 0.2340 - val_loss: 0.0867 - val_mae: 0.2546\n",
            "Epoch 145/250\n",
            "47/47 [==============================] - 0s 6ms/step - loss: 0.0912 - mae: 0.2523 - val_loss: 0.0623 - val_mae: 0.2075\n",
            "Epoch 146/250\n",
            "47/47 [==============================] - 0s 5ms/step - loss: 0.0692 - mae: 0.2206 - val_loss: 0.0625 - val_mae: 0.2054\n",
            "Epoch 147/250\n",
            "47/47 [==============================] - 0s 5ms/step - loss: 0.0580 - mae: 0.2035 - val_loss: 0.0684 - val_mae: 0.2380\n",
            "Epoch 148/250\n",
            "47/47 [==============================] - 0s 6ms/step - loss: 0.0666 - mae: 0.2195 - val_loss: 0.0520 - val_mae: 0.1958\n",
            "Epoch 149/250\n",
            "47/47 [==============================] - 0s 6ms/step - loss: 0.0595 - mae: 0.2102 - val_loss: 0.0853 - val_mae: 0.2455\n",
            "Epoch 150/250\n",
            "47/47 [==============================] - 0s 5ms/step - loss: 0.0743 - mae: 0.2314 - val_loss: 0.0566 - val_mae: 0.2123\n",
            "Epoch 151/250\n",
            "47/47 [==============================] - 0s 5ms/step - loss: 0.0673 - mae: 0.2197 - val_loss: 0.0521 - val_mae: 0.1966\n",
            "Epoch 152/250\n",
            "47/47 [==============================] - 0s 6ms/step - loss: 0.0571 - mae: 0.2045 - val_loss: 0.0576 - val_mae: 0.2102\n",
            "Epoch 153/250\n",
            "47/47 [==============================] - 0s 4ms/step - loss: 0.0575 - mae: 0.2049 - val_loss: 0.0550 - val_mae: 0.2025\n",
            "Epoch 154/250\n",
            "47/47 [==============================] - 0s 5ms/step - loss: 0.0551 - mae: 0.2025 - val_loss: 0.0554 - val_mae: 0.1984\n",
            "Epoch 155/250\n",
            "47/47 [==============================] - 0s 5ms/step - loss: 0.0764 - mae: 0.2317 - val_loss: 0.0708 - val_mae: 0.2343\n",
            "Epoch 156/250\n",
            "47/47 [==============================] - 0s 5ms/step - loss: 0.0590 - mae: 0.2089 - val_loss: 0.0611 - val_mae: 0.2015\n",
            "Epoch 157/250\n",
            "47/47 [==============================] - 0s 6ms/step - loss: 0.0629 - mae: 0.2135 - val_loss: 0.0595 - val_mae: 0.2083\n",
            "Epoch 158/250\n",
            "47/47 [==============================] - 0s 5ms/step - loss: 0.0589 - mae: 0.2093 - val_loss: 0.0561 - val_mae: 0.2135\n",
            "Epoch 159/250\n",
            "47/47 [==============================] - 0s 6ms/step - loss: 0.0560 - mae: 0.2033 - val_loss: 0.0584 - val_mae: 0.1991\n",
            "Epoch 160/250\n",
            "47/47 [==============================] - 0s 5ms/step - loss: 0.0797 - mae: 0.2376 - val_loss: 0.0725 - val_mae: 0.2237\n",
            "Epoch 161/250\n",
            "47/47 [==============================] - 0s 5ms/step - loss: 0.0628 - mae: 0.2147 - val_loss: 0.0763 - val_mae: 0.2432\n",
            "Epoch 162/250\n",
            "47/47 [==============================] - 0s 6ms/step - loss: 0.0624 - mae: 0.2135 - val_loss: 0.0508 - val_mae: 0.1974\n",
            "Epoch 163/250\n",
            "47/47 [==============================] - 0s 6ms/step - loss: 0.0590 - mae: 0.2087 - val_loss: 0.0533 - val_mae: 0.1966\n",
            "Epoch 164/250\n",
            "47/47 [==============================] - 0s 5ms/step - loss: 0.0578 - mae: 0.2068 - val_loss: 0.0748 - val_mae: 0.2263\n",
            "Epoch 165/250\n",
            "47/47 [==============================] - 0s 5ms/step - loss: 0.0734 - mae: 0.2278 - val_loss: 0.0752 - val_mae: 0.2497\n",
            "Epoch 166/250\n",
            "47/47 [==============================] - 0s 6ms/step - loss: 0.0807 - mae: 0.2399 - val_loss: 0.0542 - val_mae: 0.1995\n",
            "Epoch 167/250\n",
            "47/47 [==============================] - 0s 5ms/step - loss: 0.0613 - mae: 0.2121 - val_loss: 0.0607 - val_mae: 0.2037\n",
            "Epoch 168/250\n",
            "47/47 [==============================] - 0s 5ms/step - loss: 0.0648 - mae: 0.2172 - val_loss: 0.0504 - val_mae: 0.1989\n",
            "Epoch 169/250\n",
            "47/47 [==============================] - 0s 5ms/step - loss: 0.0594 - mae: 0.2093 - val_loss: 0.0553 - val_mae: 0.1956\n",
            "Epoch 170/250\n",
            "47/47 [==============================] - 0s 5ms/step - loss: 0.0678 - mae: 0.2201 - val_loss: 0.1249 - val_mae: 0.2974\n",
            "Epoch 171/250\n",
            "47/47 [==============================] - 0s 5ms/step - loss: 0.0611 - mae: 0.2121 - val_loss: 0.0493 - val_mae: 0.1916\n",
            "Epoch 172/250\n",
            "47/47 [==============================] - 0s 6ms/step - loss: 0.0590 - mae: 0.2092 - val_loss: 0.0482 - val_mae: 0.1959\n",
            "Epoch 173/250\n",
            "47/47 [==============================] - 0s 6ms/step - loss: 0.0646 - mae: 0.2181 - val_loss: 0.0589 - val_mae: 0.2143\n",
            "Epoch 174/250\n",
            "47/47 [==============================] - 0s 5ms/step - loss: 0.0652 - mae: 0.2166 - val_loss: 0.0515 - val_mae: 0.1951\n",
            "Epoch 175/250\n",
            "47/47 [==============================] - 0s 6ms/step - loss: 0.0606 - mae: 0.2094 - val_loss: 0.0590 - val_mae: 0.2046\n",
            "Epoch 176/250\n",
            "47/47 [==============================] - 0s 5ms/step - loss: 0.0568 - mae: 0.2050 - val_loss: 0.0628 - val_mae: 0.2114\n",
            "Epoch 177/250\n",
            "47/47 [==============================] - 0s 6ms/step - loss: 0.0767 - mae: 0.2314 - val_loss: 0.1702 - val_mae: 0.3467\n",
            "Epoch 178/250\n",
            "47/47 [==============================] - 0s 5ms/step - loss: 0.0782 - mae: 0.2349 - val_loss: 0.0530 - val_mae: 0.1917\n",
            "Epoch 179/250\n",
            "47/47 [==============================] - 0s 5ms/step - loss: 0.0614 - mae: 0.2119 - val_loss: 0.0602 - val_mae: 0.2186\n",
            "Epoch 180/250\n",
            "47/47 [==============================] - 0s 5ms/step - loss: 0.0698 - mae: 0.2243 - val_loss: 0.0581 - val_mae: 0.2079\n",
            "Epoch 181/250\n",
            "47/47 [==============================] - 0s 5ms/step - loss: 0.0569 - mae: 0.2038 - val_loss: 0.0622 - val_mae: 0.2182\n",
            "Epoch 182/250\n",
            "47/47 [==============================] - 0s 5ms/step - loss: 0.0524 - mae: 0.1982 - val_loss: 0.0505 - val_mae: 0.1998\n",
            "Epoch 183/250\n",
            "47/47 [==============================] - 0s 6ms/step - loss: 0.0616 - mae: 0.2123 - val_loss: 0.0808 - val_mae: 0.2412\n",
            "Epoch 184/250\n",
            "47/47 [==============================] - 0s 5ms/step - loss: 0.0640 - mae: 0.2166 - val_loss: 0.0888 - val_mae: 0.2416\n",
            "Epoch 185/250\n",
            "47/47 [==============================] - 0s 6ms/step - loss: 0.0682 - mae: 0.2217 - val_loss: 0.0469 - val_mae: 0.1907\n",
            "Epoch 186/250\n",
            "47/47 [==============================] - 0s 6ms/step - loss: 0.0559 - mae: 0.2041 - val_loss: 0.0714 - val_mae: 0.2360\n",
            "Epoch 187/250\n",
            "47/47 [==============================] - 0s 5ms/step - loss: 0.0564 - mae: 0.2055 - val_loss: 0.0790 - val_mae: 0.2252\n",
            "Epoch 188/250\n",
            "47/47 [==============================] - 0s 5ms/step - loss: 0.0605 - mae: 0.2095 - val_loss: 0.0528 - val_mae: 0.1904\n",
            "Epoch 189/250\n",
            "47/47 [==============================] - 0s 6ms/step - loss: 0.0573 - mae: 0.2050 - val_loss: 0.0664 - val_mae: 0.2059\n",
            "Epoch 190/250\n",
            "47/47 [==============================] - 0s 6ms/step - loss: 0.0698 - mae: 0.2228 - val_loss: 0.0623 - val_mae: 0.2149\n",
            "Epoch 191/250\n",
            "47/47 [==============================] - 0s 5ms/step - loss: 0.0655 - mae: 0.2188 - val_loss: 0.0771 - val_mae: 0.2412\n",
            "Epoch 192/250\n",
            "47/47 [==============================] - 0s 6ms/step - loss: 0.0590 - mae: 0.2084 - val_loss: 0.0500 - val_mae: 0.1950\n",
            "Epoch 193/250\n",
            "47/47 [==============================] - 0s 7ms/step - loss: 0.0562 - mae: 0.2031 - val_loss: 0.0472 - val_mae: 0.1900\n",
            "Epoch 194/250\n",
            "47/47 [==============================] - 0s 6ms/step - loss: 0.0671 - mae: 0.2189 - val_loss: 0.0682 - val_mae: 0.2085\n",
            "Epoch 195/250\n",
            "47/47 [==============================] - 0s 6ms/step - loss: 0.0675 - mae: 0.2203 - val_loss: 0.0457 - val_mae: 0.1917\n",
            "Epoch 196/250\n",
            "47/47 [==============================] - 0s 6ms/step - loss: 0.0547 - mae: 0.2020 - val_loss: 0.0472 - val_mae: 0.1945\n",
            "Epoch 197/250\n",
            "47/47 [==============================] - 0s 6ms/step - loss: 0.0557 - mae: 0.2010 - val_loss: 0.0477 - val_mae: 0.1929\n",
            "Epoch 198/250\n",
            "47/47 [==============================] - 0s 6ms/step - loss: 0.0576 - mae: 0.2052 - val_loss: 0.0507 - val_mae: 0.1905\n",
            "Epoch 199/250\n",
            "47/47 [==============================] - 0s 6ms/step - loss: 0.0556 - mae: 0.2030 - val_loss: 0.0472 - val_mae: 0.1954\n",
            "Epoch 200/250\n",
            "47/47 [==============================] - 0s 6ms/step - loss: 0.0621 - mae: 0.2118 - val_loss: 0.0523 - val_mae: 0.1945\n",
            "Epoch 201/250\n",
            "47/47 [==============================] - 0s 5ms/step - loss: 0.0577 - mae: 0.2051 - val_loss: 0.0859 - val_mae: 0.2583\n",
            "Epoch 202/250\n",
            "47/47 [==============================] - 0s 6ms/step - loss: 0.0610 - mae: 0.2091 - val_loss: 0.0476 - val_mae: 0.1948\n",
            "Epoch 203/250\n",
            "47/47 [==============================] - 0s 5ms/step - loss: 0.0548 - mae: 0.2015 - val_loss: 0.0564 - val_mae: 0.2102\n",
            "Epoch 204/250\n",
            "47/47 [==============================] - 0s 5ms/step - loss: 0.0488 - mae: 0.1920 - val_loss: 0.0497 - val_mae: 0.1901\n",
            "Epoch 205/250\n",
            "47/47 [==============================] - 0s 6ms/step - loss: 0.0518 - mae: 0.1972 - val_loss: 0.0523 - val_mae: 0.2014\n",
            "Epoch 206/250\n",
            "47/47 [==============================] - 0s 6ms/step - loss: 0.0509 - mae: 0.1951 - val_loss: 0.0500 - val_mae: 0.1935\n",
            "Epoch 207/250\n",
            "47/47 [==============================] - 0s 5ms/step - loss: 0.0652 - mae: 0.2157 - val_loss: 0.0524 - val_mae: 0.1958\n",
            "Epoch 208/250\n",
            "47/47 [==============================] - 0s 6ms/step - loss: 0.0598 - mae: 0.2088 - val_loss: 0.0845 - val_mae: 0.2349\n",
            "Epoch 209/250\n",
            "47/47 [==============================] - 0s 6ms/step - loss: 0.0569 - mae: 0.2036 - val_loss: 0.0464 - val_mae: 0.1889\n",
            "Epoch 210/250\n",
            "47/47 [==============================] - 0s 5ms/step - loss: 0.0489 - mae: 0.1927 - val_loss: 0.0866 - val_mae: 0.2560\n",
            "Epoch 211/250\n",
            "47/47 [==============================] - 0s 6ms/step - loss: 0.0561 - mae: 0.2026 - val_loss: 0.0469 - val_mae: 0.1920\n",
            "Epoch 212/250\n",
            "47/47 [==============================] - 0s 5ms/step - loss: 0.0735 - mae: 0.2266 - val_loss: 0.0440 - val_mae: 0.1882\n",
            "Epoch 213/250\n",
            "47/47 [==============================] - 0s 5ms/step - loss: 0.0474 - mae: 0.1906 - val_loss: 0.0510 - val_mae: 0.1864\n",
            "Epoch 214/250\n",
            "47/47 [==============================] - 0s 5ms/step - loss: 0.0571 - mae: 0.2039 - val_loss: 0.0502 - val_mae: 0.1904\n",
            "Epoch 215/250\n",
            "47/47 [==============================] - 0s 5ms/step - loss: 0.0544 - mae: 0.2003 - val_loss: 0.0532 - val_mae: 0.2061\n",
            "Epoch 216/250\n",
            "47/47 [==============================] - 0s 6ms/step - loss: 0.0482 - mae: 0.1886 - val_loss: 0.0471 - val_mae: 0.1879\n",
            "Epoch 217/250\n",
            "47/47 [==============================] - 0s 5ms/step - loss: 0.0645 - mae: 0.2126 - val_loss: 0.0721 - val_mae: 0.2218\n",
            "Epoch 218/250\n",
            "47/47 [==============================] - 0s 5ms/step - loss: 0.0769 - mae: 0.2326 - val_loss: 0.0481 - val_mae: 0.1914\n",
            "Epoch 219/250\n",
            "47/47 [==============================] - 0s 6ms/step - loss: 0.0609 - mae: 0.2089 - val_loss: 0.0454 - val_mae: 0.1916\n",
            "Epoch 220/250\n",
            "47/47 [==============================] - 0s 5ms/step - loss: 0.0495 - mae: 0.1939 - val_loss: 0.0428 - val_mae: 0.1853\n",
            "Epoch 221/250\n",
            "47/47 [==============================] - 0s 5ms/step - loss: 0.0537 - mae: 0.1999 - val_loss: 0.0491 - val_mae: 0.1945\n",
            "Epoch 222/250\n",
            "47/47 [==============================] - 0s 5ms/step - loss: 0.0491 - mae: 0.1921 - val_loss: 0.0494 - val_mae: 0.1888\n",
            "Epoch 223/250\n",
            "47/47 [==============================] - 0s 6ms/step - loss: 0.0551 - mae: 0.2019 - val_loss: 0.1742 - val_mae: 0.3583\n",
            "Epoch 224/250\n",
            "47/47 [==============================] - 0s 5ms/step - loss: 0.0622 - mae: 0.2121 - val_loss: 0.0829 - val_mae: 0.2554\n",
            "Epoch 225/250\n",
            "47/47 [==============================] - 0s 5ms/step - loss: 0.0545 - mae: 0.1988 - val_loss: 0.0509 - val_mae: 0.1997\n",
            "Epoch 226/250\n",
            "47/47 [==============================] - 0s 5ms/step - loss: 0.0546 - mae: 0.1991 - val_loss: 0.0760 - val_mae: 0.2429\n",
            "Epoch 227/250\n",
            "47/47 [==============================] - 0s 5ms/step - loss: 0.0627 - mae: 0.2119 - val_loss: 0.0789 - val_mae: 0.2389\n",
            "Epoch 228/250\n",
            "47/47 [==============================] - 0s 5ms/step - loss: 0.0509 - mae: 0.1960 - val_loss: 0.0443 - val_mae: 0.1835\n",
            "Epoch 229/250\n",
            "47/47 [==============================] - 0s 5ms/step - loss: 0.0465 - mae: 0.1874 - val_loss: 0.0443 - val_mae: 0.1903\n",
            "Epoch 230/250\n",
            "47/47 [==============================] - 0s 6ms/step - loss: 0.0548 - mae: 0.2002 - val_loss: 0.0699 - val_mae: 0.2168\n",
            "Epoch 231/250\n",
            "47/47 [==============================] - 0s 5ms/step - loss: 0.0610 - mae: 0.2109 - val_loss: 0.0544 - val_mae: 0.1869\n",
            "Epoch 232/250\n",
            "47/47 [==============================] - 0s 5ms/step - loss: 0.0495 - mae: 0.1931 - val_loss: 0.0443 - val_mae: 0.1838\n",
            "Epoch 233/250\n",
            "47/47 [==============================] - 0s 5ms/step - loss: 0.0539 - mae: 0.1980 - val_loss: 0.0599 - val_mae: 0.2142\n",
            "Epoch 234/250\n",
            "47/47 [==============================] - 0s 6ms/step - loss: 0.0639 - mae: 0.2117 - val_loss: 0.0747 - val_mae: 0.2348\n",
            "Epoch 235/250\n",
            "47/47 [==============================] - 0s 5ms/step - loss: 0.0525 - mae: 0.1982 - val_loss: 0.0568 - val_mae: 0.2053\n",
            "Epoch 236/250\n",
            "47/47 [==============================] - 0s 6ms/step - loss: 0.0461 - mae: 0.1865 - val_loss: 0.0495 - val_mae: 0.1873\n",
            "Epoch 237/250\n",
            "47/47 [==============================] - 0s 6ms/step - loss: 0.0506 - mae: 0.1940 - val_loss: 0.0433 - val_mae: 0.1857\n",
            "Epoch 238/250\n",
            "47/47 [==============================] - 0s 6ms/step - loss: 0.0545 - mae: 0.1988 - val_loss: 0.0511 - val_mae: 0.2009\n",
            "Epoch 239/250\n",
            "47/47 [==============================] - 0s 7ms/step - loss: 0.0539 - mae: 0.1995 - val_loss: 0.0610 - val_mae: 0.1952\n",
            "Epoch 240/250\n",
            "47/47 [==============================] - 0s 5ms/step - loss: 0.0489 - mae: 0.1888 - val_loss: 0.0511 - val_mae: 0.1848\n",
            "Epoch 241/250\n",
            "47/47 [==============================] - 0s 6ms/step - loss: 0.0481 - mae: 0.1905 - val_loss: 0.0542 - val_mae: 0.1949\n",
            "Epoch 242/250\n",
            "47/47 [==============================] - 0s 5ms/step - loss: 0.0548 - mae: 0.2003 - val_loss: 0.0655 - val_mae: 0.2308\n",
            "Epoch 243/250\n",
            "47/47 [==============================] - 0s 5ms/step - loss: 0.0492 - mae: 0.1913 - val_loss: 0.0599 - val_mae: 0.1953\n",
            "Epoch 244/250\n",
            "47/47 [==============================] - 0s 5ms/step - loss: 0.0490 - mae: 0.1896 - val_loss: 0.0431 - val_mae: 0.1836\n",
            "Epoch 245/250\n",
            "47/47 [==============================] - 0s 6ms/step - loss: 0.0552 - mae: 0.2012 - val_loss: 0.0553 - val_mae: 0.2079\n",
            "Epoch 246/250\n",
            "47/47 [==============================] - 0s 5ms/step - loss: 0.0631 - mae: 0.2124 - val_loss: 0.0484 - val_mae: 0.1833\n",
            "Epoch 247/250\n",
            "47/47 [==============================] - 0s 6ms/step - loss: 0.0488 - mae: 0.1921 - val_loss: 0.0904 - val_mae: 0.2394\n",
            "Epoch 248/250\n",
            "47/47 [==============================] - 0s 6ms/step - loss: 0.0673 - mae: 0.2173 - val_loss: 0.1479 - val_mae: 0.3223\n",
            "Epoch 249/250\n",
            "47/47 [==============================] - 0s 5ms/step - loss: 0.0572 - mae: 0.2023 - val_loss: 0.0462 - val_mae: 0.1896\n",
            "Epoch 250/250\n",
            "47/47 [==============================] - 0s 6ms/step - loss: 0.0536 - mae: 0.1977 - val_loss: 0.0435 - val_mae: 0.1834\n",
            "INFO:tensorflow:Assets written to: saved_model/STM32_AI_Test/assets\n"
          ]
        }
      ]
    },
    {
      "cell_type": "markdown",
      "source": [
        "### Evaluate the training performance"
      ],
      "metadata": {
        "id": "hm2y2S51MH4s"
      }
    },
    {
      "cell_type": "code",
      "source": [
        "# Draw a graph of the loss, which is the distance between\n",
        "# the predicted and actual values during training and validation.\n",
        "train_loss = history_1.history['loss']\n",
        "val_loss = history_1.history['val_loss']\n",
        "\n",
        "epochs = range(1, len(train_loss) + 1)\n",
        "\n",
        "plt.plot(epochs, train_loss, 'g.', label='Training loss')\n",
        "plt.plot(epochs, val_loss, 'b', label='Validation loss')\n",
        "plt.title('Training and validation loss')\n",
        "plt.xlabel('Epochs')\n",
        "plt.ylabel('Loss')\n",
        "plt.legend()\n",
        "plt.show()"
      ],
      "metadata": {
        "id": "DO5sw9BxMK5E",
        "colab": {
          "base_uri": "https://localhost:8080/",
          "height": 295
        },
        "outputId": "8a6c11f1-e81a-47f9-8992-5f96800e10b3"
      },
      "execution_count": 98,
      "outputs": [
        {
          "output_type": "display_data",
          "data": {
            "image/png": "[encoded data removed]",
            "text/plain": [
              "<Figure size 432x288 with 1 Axes>"
            ]
          },
          "metadata": {
            "needs_background": "light"
          }
        }
      ]
    },
    {
      "cell_type": "code",
      "source": [
        "# evaluate the keras model\n",
        "_, accuracy = model_1.evaluate(y_validate, x_validate)\n",
        "print('Accuracy: %.2f' % (accuracy*100))"
      ],
      "metadata": {
        "colab": {
          "base_uri": "https://localhost:8080/"
        },
        "id": "kZ6rMEUZvYZ-",
        "outputId": "308899eb-cf3b-49d3-bd06-739554cc453b"
      },
      "execution_count": 99,
      "outputs": [
        {
          "output_type": "stream",
          "name": "stdout",
          "text": [
            "63/63 [==============================] - 0s 1ms/step - loss: 0.0435 - mae: 0.1834\n",
            "Accuracy: 18.34\n"
          ]
        }
      ]
    },
    {
      "cell_type": "code",
      "metadata": {
        "id": "i13eVIT3B9Mj",
        "outputId": "ab89d431-8d3e-412e-a95c-17854c374690",
        "colab": {
          "base_uri": "https://localhost:8080/"
        }
      },
      "source": [
        "# Test a couple of waveforms\n",
        "# remember:\n",
        "#     y = waveforms\n",
        "#     x = truth parameters\n",
        "\n",
        "x_test = x_values[1]\n",
        "y_test = np.array(generateTemplate(position = x_test[0], pulse_length = x_test[1], height=x_test[2], noise=0))\n",
        "\n",
        "# waveform needs to be reshaped to be fed into ANN\n",
        "y_test = y_test.reshape(1,128)\n",
        "\n",
        "# try, whether we can reconstruct the parameters x_test from the waveform y_test\n",
        "model_1.make_predict_function()\n",
        "x_test_pred = model_1.predict(y_test)[0]\n",
        "\n",
        "print(\"sample pulse created: \", x_test)\n",
        "print(\"ANN reconstructed:    \", x_test_pred)"
      ],
      "execution_count": 100,
      "outputs": [
        {
          "output_type": "stream",
          "name": "stdout",
          "text": [
            "WARNING:tensorflow:5 out of the last 12 calls to <function Model.make_predict_function.<locals>.predict_function at 0x7fac57f12710> triggered tf.function retracing. Tracing is expensive and the excessive number of tracings could be due to (1) creating @tf.function repeatedly in a loop, (2) passing tensors with different shapes, (3) passing Python objects instead of tensors. For (1), please define your @tf.function outside of the loop. For (2), @tf.function has experimental_relax_shapes=True option that relaxes argument shapes that can avoid unnecessary retracing. For (3), please refer to https://www.tensorflow.org/guide/function#controlling_retracing and https://www.tensorflow.org/api_docs/python/tf/function for  more details.\n",
            "sample pulse created:  [16 16 33]\n",
            "ANN reconstructed:     [16.37648  16.443018 33.369644]\n"
          ]
        }
      ]
    }
  ]
}