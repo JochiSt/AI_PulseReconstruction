{
  "nbformat": 4,
  "nbformat_minor": 0,
  "metadata": {
    "colab": {
      "name": "TestSTM32_AI.ipynb",
      "provenance": [],
      "collapsed_sections": []
    },
    "kernelspec": {
      "name": "python3",
      "display_name": "Python 3"
    },
    "language_info": {
      "name": "python"
    }
  },
  "cells": [
    {
      "cell_type": "markdown",
      "source": [
        "# Pulse recognition AI\n",
        "\n",
        "first all the imports"
      ],
      "metadata": {
        "id": "brM0YAG3Vcen"
      }
    },
    {
      "cell_type": "code",
      "execution_count": 812,
      "metadata": {
        "id": "dW80rxgzVZ8z"
      },
      "outputs": [],
      "source": [
        "import numpy as np\n",
        "import matplotlib.pyplot as plt\n",
        "from matplotlib.colors import LogNorm"
      ]
    },
    {
      "cell_type": "markdown",
      "source": [
        "## Generate template"
      ],
      "metadata": {
        "id": "XUxegHb0V0qN"
      }
    },
    {
      "cell_type": "code",
      "source": [
        "TOTAL_SAMPLES = 128\n",
        "RISING_POINTS = 4\n",
        "\n",
        "def generateTemplate(position = 0, pulse_length = 32, height=1, noise=0, offset=0):\n",
        "\n",
        "  assert TOTAL_SAMPLES - pulse_length - position - RISING_POINTS * 2 > 0\n",
        "\n",
        "  # zeroes at front of the pulse\n",
        "  template = np.zeros(position)\n",
        "\n",
        "  # create rising edge\n",
        "  template = np.append(template, np.linspace(0,1,RISING_POINTS, endpoint=False))\n",
        "\n",
        "  # high part of the pulse\n",
        "  template = np.append(template, np.ones(pulse_length))\n",
        "\n",
        "  # create falling edge\n",
        "  template = np.append(template, np.linspace(1,0,RISING_POINTS, endpoint=False))\n",
        "\n",
        "  # zeroes after the pulse\n",
        "  template = np.append(template, np.zeros( TOTAL_SAMPLES - pulse_length - position - 2*RISING_POINTS))\n",
        "\n",
        "  # multiply by the height to get the right amplitude\n",
        "  template *= height\n",
        "\n",
        "  # add some noise\n",
        "  template  += noise * np.random.randn(*template.shape)\n",
        "\n",
        "  # add a constant offset\n",
        "  template += offset\n",
        "\n",
        "  # clip template to range [0, 255]\n",
        "  template = np.clip(template, 0, 255)\n",
        "\n",
        "  # convert to integer\n",
        "  template = template.astype(int)\n",
        "\n",
        "  return template\n",
        "\n",
        "print(\"template length: \", len(generateTemplate()))"
      ],
      "metadata": {
        "colab": {
          "base_uri": "https://localhost:8080/"
        },
        "id": "RPOJ8P9jWBRa",
        "outputId": "1f4a4278-3f6a-47f9-f6f0-b6221199f6a0"
      },
      "execution_count": 813,
      "outputs": [
        {
          "output_type": "stream",
          "name": "stdout",
          "text": [
            "template length:  128\n"
          ]
        }
      ]
    },
    {
      "cell_type": "markdown",
      "source": [
        "Have a look at the template visually"
      ],
      "metadata": {
        "id": "I1PFw1tzV8kx"
      }
    },
    {
      "cell_type": "code",
      "source": [
        "plt.plot(generateTemplate(position = 32, pulse_length=32, height=128), 'b.')\n",
        "plt.plot(generateTemplate(position = 16, pulse_length=64, height=128), 'r.')\n",
        "plt.show()"
      ],
      "metadata": {
        "colab": {
          "base_uri": "https://localhost:8080/",
          "height": 265
        },
        "id": "L1VUYDhUWw9t",
        "outputId": "62846322-d2ca-4166-c4d4-76647846a528"
      },
      "execution_count": 814,
      "outputs": [
        {
          "output_type": "display_data",
          "data": {
            "text/plain": [
              "<Figure size 432x288 with 1 Axes>"
            ],
            "image/png": "[encoded data removed]"
          },
          "metadata": {
            "needs_background": "light"
          }
        }
      ]
    },
    {
      "cell_type": "markdown",
      "source": [
        "add some noise, and maybe shift the position\n",
        "\n",
        "\n",
        "\n"
      ],
      "metadata": {
        "id": "kYBulwl2XGvg"
      }
    },
    {
      "cell_type": "code",
      "source": [
        "# Plot our data\n",
        "plt.plot(generateTemplate(height=128, noise=1), 'b.')\n",
        "plt.show()"
      ],
      "metadata": {
        "id": "ouyegrmBXGJg",
        "colab": {
          "base_uri": "https://localhost:8080/",
          "height": 265
        },
        "outputId": "0c1fdf13-e02f-4b18-945d-f6f229fbac36"
      },
      "execution_count": 815,
      "outputs": [
        {
          "output_type": "display_data",
          "data": {
            "text/plain": [
              "<Figure size 432x288 with 1 Axes>"
            ],
            "image/png": "[encoded data removed]"
          },
          "metadata": {
            "needs_background": "light"
          }
        }
      ]
    },
    {
      "cell_type": "markdown",
      "source": [
        "## Create Templates for recognision\n",
        "\n",
        "Generate a couple of templates, which have a pulse in them, and some without any data"
      ],
      "metadata": {
        "id": "u1emwvE7ogUq"
      }
    },
    {
      "cell_type": "code",
      "source": [
        "for i in range(10):\n",
        "  width = np.random.randint(16, 64)               # width of 16 to 64\n",
        "  position = np.random.randint(0, high=96-width) # arbitrary position\n",
        "  noise = np.random.randint(1,30)/10.             # 0.1 to 3 LSB noise\n",
        "  height = np.random.randint(32,250)              # pulse height of 32 to 128\n",
        "\n",
        "  print(position, width, noise, height)\n",
        "  plt.plot(generateTemplate(position = position, pulse_length = width, height=height, noise=noise))\n",
        "\n",
        "plt.show()"
      ],
      "metadata": {
        "colab": {
          "base_uri": "https://localhost:8080/",
          "height": 451
        },
        "id": "1bzxxYb7odBS",
        "outputId": "0a28d273-f5ab-49a9-d8e8-7b11b184c940"
      },
      "execution_count": 816,
      "outputs": [
        {
          "output_type": "stream",
          "name": "stdout",
          "text": [
            "37 26 1.8 36\n",
            "16 36 0.3 87\n",
            "21 53 1.4 238\n",
            "66 16 2.6 169\n",
            "44 28 1.6 133\n",
            "38 43 1.4 226\n",
            "62 32 2.3 32\n",
            "14 22 0.2 188\n",
            "17 32 1.7 92\n",
            "67 16 0.4 56\n"
          ]
        },
        {
          "output_type": "display_data",
          "data": {
            "text/plain": [
              "<Figure size 432x288 with 1 Axes>"
            ],
            "image/png": "[encoded data removed]"
          },
          "metadata": {
            "needs_background": "light"
          }
        }
      ]
    },
    {
      "cell_type": "markdown",
      "source": [
        "# Building the ANN\n"
      ],
      "metadata": {
        "id": "gEwEaXGCzATx"
      }
    },
    {
      "cell_type": "markdown",
      "source": [
        "### Purpose of the ANN\n",
        "We want to do Pattern Recognition, based on the waveforms shown above.\n",
        "\n",
        "The output parameters, which we want to reconstruct are:\n",
        "*   Width\n",
        "*   Position\n",
        "*   height\n"
      ],
      "metadata": {
        "id": "xAJs9gcpMi9V"
      }
    },
    {
      "cell_type": "markdown",
      "source": [
        "Starting with importing all things, which we need for creating a model"
      ],
      "metadata": {
        "id": "ffHEzdBezI__"
      }
    },
    {
      "cell_type": "code",
      "source": [
        "# TensorFlow is an open source machine learning library\n",
        "import tensorflow as tf\n",
        "# Keras is TensorFlow's high-level API for deep learning\n",
        "from tensorflow import keras"
      ],
      "metadata": {
        "id": "AVbyQZoBzNxw"
      },
      "execution_count": 817,
      "outputs": []
    },
    {
      "cell_type": "code",
      "source": [
        "# number of samples for training, testing etc.\n",
        "SAMPLES = 100000"
      ],
      "metadata": {
        "id": "_2mfaOUkzo12"
      },
      "execution_count": 818,
      "outputs": []
    },
    {
      "cell_type": "markdown",
      "source": [
        "## Generate the samples\n",
        "We want to do Pattern recognition, so we have to link the waveforms to the input parameters."
      ],
      "metadata": {
        "id": "UCMepv3tzyM9"
      }
    },
    {
      "cell_type": "code",
      "source": [
        "# scale parameters to get values between 0 and 1\n",
        "SCALE_WIDTH = 64\n",
        "SCALE_POS = 32\n",
        "SCALE_HEIGHT = 255"
      ],
      "metadata": {
        "id": "yxy-rub9I2-K"
      },
      "execution_count": 819,
      "outputs": []
    },
    {
      "cell_type": "code",
      "source": [
        "# parameters for template generation\n",
        "P_width = (8,64)\n",
        "P_position = (16,24)\n",
        "P_height = (32, 255)\n",
        "P_offset = (0,10)"
      ],
      "metadata": {
        "id": "-g8CSmkVHUvM"
      },
      "execution_count": 820,
      "outputs": []
    },
    {
      "cell_type": "code",
      "source": [
        "# use fixed value for noise (1st try)\n",
        "noise = 1 \n",
        "\n",
        "y_values = []\n",
        "x_values = []\n",
        "\n",
        "# generate the waveforms\n",
        "for i in range(SAMPLES):\n",
        "  # use random settings\n",
        "  width = np.random.randint( *P_width )       # width\n",
        "  position = np.random.randint( *P_position ) # limit position into a certain window\n",
        "  height = np.random.randint( *P_height )     # pulse height\n",
        "  offset = np.random.randint( *P_offset )     # constant offset\n",
        "\n",
        "  x_values.append( (width/SCALE_WIDTH, position/SCALE_POS, height/SCALE_HEIGHT) )\n",
        "  y_values.append( generateTemplate(position = position, pulse_length = width, height=height, noise=noise, offset=offset) / SCALE_HEIGHT )\n",
        "\n",
        "# debug printouts\n",
        "#print(x_values[:2])\n",
        "#print(y_values[:2])"
      ],
      "metadata": {
        "id": "6uUa9b2pzviJ"
      },
      "execution_count": 821,
      "outputs": []
    },
    {
      "cell_type": "markdown",
      "source": [
        "### Look at the training data\n",
        "Just make a 2D histogram of all templates."
      ],
      "metadata": {
        "id": "M54DYG8PLBYg"
      }
    },
    {
      "cell_type": "code",
      "source": [
        "if True:\n",
        "  plot_x = [ np.arange(128) for i in range(len(y_values)) ]\n",
        "  plot_x = np.array(plot_x)\n",
        "  plot_x = plot_x.flatten()\n",
        "  plot_y = np.array(y_values)\n",
        "  plot_y = plot_y.flatten()\n",
        "  plt.hist2d(plot_x, plot_y, bins=128, norm=LogNorm())\n",
        "  plt.show()"
      ],
      "metadata": {
        "colab": {
          "base_uri": "https://localhost:8080/",
          "height": 269
        },
        "id": "oc_SbOCaLKKe",
        "outputId": "926cd1b7-7f30-403a-820a-c603d4df052c"
      },
      "execution_count": 822,
      "outputs": [
        {
          "output_type": "display_data",
          "data": {
            "text/plain": [
              "<Figure size 432x288 with 1 Axes>"
            ],
            "image/png": "[encoded data removed]"
          },
          "metadata": {
            "needs_background": "light"
          }
        }
      ]
    },
    {
      "cell_type": "markdown",
      "source": [
        "## Split the waveforms into Training, Testing and Validation"
      ],
      "metadata": {
        "id": "uxBiOKO90JG_"
      }
    },
    {
      "cell_type": "code",
      "source": [
        "# We'll use 60% of our data for training and 20% for testing. The remaining 20%\n",
        "# will be used for validation. Calculate the indices of each section.\n",
        "TRAIN_SPLIT =  int(0.6 * SAMPLES)\n",
        "TEST_SPLIT = int(0.2 * SAMPLES + TRAIN_SPLIT)\n",
        "print(\"using %d points for training and %d points for testing\"%(TRAIN_SPLIT, TEST_SPLIT))\n",
        "\n",
        "# convert data into numpy arrays\n",
        "y_values = np.array(y_values) # parameters\n",
        "x_values = np.array(x_values) # waveforms\n",
        "\n",
        "# Use np.split to chop our data into three parts.\n",
        "# The second argument to np.split is an array of indices where the data will be\n",
        "# split. We provide two indices, so the data will be divided into three chunks.\n",
        "x_train, x_test, x_validate = np.split(x_values, [TRAIN_SPLIT, TEST_SPLIT])\n",
        "y_train, y_test, y_validate = np.split(y_values, [TRAIN_SPLIT, TEST_SPLIT])\n",
        "\n",
        "# Double check that our splits add up correctly\n",
        "assert (len(x_train) + len(x_validate) + len(x_test) ) ==  SAMPLES"
      ],
      "metadata": {
        "id": "_gxWfkRezVf3",
        "colab": {
          "base_uri": "https://localhost:8080/"
        },
        "outputId": "2d293d71-f66f-4710-f6f0-a1212c543f32"
      },
      "execution_count": 823,
      "outputs": [
        {
          "output_type": "stream",
          "name": "stdout",
          "text": [
            "using 60000 points for training and 80000 points for testing\n"
          ]
        }
      ]
    },
    {
      "cell_type": "markdown",
      "source": [
        "## Create the ANN"
      ],
      "metadata": {
        "id": "tfIC4_-l0Cc4"
      }
    },
    {
      "cell_type": "code",
      "source": [
        "inputs = keras.Input(shape=(128,), name=\"waveform_input\")\n",
        "\n",
        "layer_cnt=0\n",
        "x = keras.layers.Dense(32, \n",
        "                       kernel_regularizer=keras.regularizers.l1(0.00001),                       \n",
        "                       name=\"layer_%d\"%(layer_cnt))(inputs)\n",
        "layer_cnt+=1\n",
        "\n",
        "x = keras.layers.Dropout(0.005)(x)\n",
        "\n",
        "x = keras.layers.Dense(32, \n",
        "                       kernel_regularizer=keras.regularizers.l1(0.00001),\n",
        "                       name=\"layer_%d\"%(layer_cnt))(x)\n",
        "layer_cnt+=1\n",
        "\n",
        "x = keras.layers.Dropout(0.005)(x)\n",
        "\n",
        "x = keras.layers.Dense(32, \n",
        "                       kernel_regularizer=keras.regularizers.l1(0.00001), \n",
        "                       name=\"layer_%d\"%(layer_cnt) )(x)\n",
        "layer_cnt+=1\n",
        "\n",
        "x = keras.layers.Dense(32, \n",
        "                       kernel_regularizer=keras.regularizers.l1(0.00001), \n",
        "                       name=\"layer_%d\"%(layer_cnt) )(x)\n",
        "layer_cnt+=1\n",
        "\n",
        "x = keras.layers.Dense(32, \n",
        "                       activation=\"relu\",                       \n",
        "                       kernel_regularizer=keras.regularizers.l1(0.00001), \n",
        "                       name=\"layer_%d\"%(layer_cnt) )(x)\n",
        "layer_cnt+=1\n",
        "\n",
        "x = keras.layers.Dense(32,\n",
        "                       activation=\"relu\",                       \n",
        "                       kernel_regularizer=keras.regularizers.l1(0.00001), \n",
        "                       name=\"layer_%d\"%(layer_cnt))(x)\n",
        "layer_cnt+=1\n",
        "\n",
        "x = keras.layers.Dense(16, \n",
        "                       activation=\"relu\",                       \n",
        "                       kernel_regularizer=keras.regularizers.l1(0.00001), \n",
        "                       name=\"layer_%d\"%(layer_cnt))(x)\n",
        "layer_cnt+=1\n",
        "\n",
        "x = keras.layers.Dense(16, \n",
        "                       activation=\"relu\",\n",
        "                       kernel_regularizer=keras.regularizers.l1(0.00001), \n",
        "                       name=\"layer_%d\"%(layer_cnt))(x)\n",
        "layer_cnt+=1\n",
        "\n",
        "# final layer for classification\n",
        "outputs = keras.layers.Dense(3, \n",
        "                             name=\"classification\")(x)\n",
        "\n",
        "model_1 = keras.Model(inputs=inputs, outputs=outputs, name=\"network_v0.4\")\n",
        "model_1.summary()\n",
        "\n",
        "# Compile the model using the standard 'adam' optimizer and the mean squared error or 'mse' loss function for regression.\n",
        "model_1.compile(optimizer='adam', loss='mse', metrics=['accuracy'])"
      ],
      "metadata": {
        "id": "FbTg1F3s0BTe",
        "colab": {
          "base_uri": "https://localhost:8080/"
        },
        "outputId": "f0b94ced-c9d7-491d-d888-be48d7f1f528"
      },
      "execution_count": 842,
      "outputs": [
        {
          "output_type": "stream",
          "name": "stdout",
          "text": [
            "Model: \"network_v0.4\"\n",
            "_________________________________________________________________\n",
            " Layer (type)                Output Shape              Param #   \n",
            "=================================================================\n",
            " waveform_input (InputLayer)  [(None, 128)]            0         \n",
            "                                                                 \n",
            " layer_0 (Dense)             (None, 32)                4128      \n",
            "                                                                 \n",
            " dropout_29 (Dropout)        (None, 32)                0         \n",
            "                                                                 \n",
            " layer_1 (Dense)             (None, 32)                1056      \n",
            "                                                                 \n",
            " dropout_30 (Dropout)        (None, 32)                0         \n",
            "                                                                 \n",
            " layer_2 (Dense)             (None, 32)                1056      \n",
            "                                                                 \n",
            " layer_3 (Dense)             (None, 32)                1056      \n",
            "                                                                 \n",
            " layer_4 (Dense)             (None, 32)                1056      \n",
            "                                                                 \n",
            " layer_5 (Dense)             (None, 32)                1056      \n",
            "                                                                 \n",
            " layer_6 (Dense)             (None, 16)                528       \n",
            "                                                                 \n",
            " layer_7 (Dense)             (None, 16)                272       \n",
            "                                                                 \n",
            " classification (Dense)      (None, 3)                 51        \n",
            "                                                                 \n",
            "=================================================================\n",
            "Total params: 10,259\n",
            "Trainable params: 10,259\n",
            "Non-trainable params: 0\n",
            "_________________________________________________________________\n"
          ]
        }
      ]
    },
    {
      "cell_type": "code",
      "source": [
        "# save an image of the ANN\n",
        "tf.keras.utils.plot_model(model_1, \n",
        "                          to_file='model_1.png',        # output file name\n",
        "                          show_layer_activations=True,  # show activation functions\n",
        "                          show_layer_names=True,        # show layer names\n",
        "                          show_dtype=True,              # show datatype\n",
        "                          show_shapes=True,             # show input / output shapes\n",
        "                          rankdir='LR'                  # left to right image\n",
        "                          )"
      ],
      "metadata": {
        "colab": {
          "base_uri": "https://localhost:8080/",
          "height": 88
        },
        "id": "0Nge-zmpnbtK",
        "outputId": "7399368a-26d6-491a-965d-0a0bec9f7e14"
      },
      "execution_count": 825,
      "outputs": [
        {
          "output_type": "execute_result",
          "data": {
            "text/plain": [
              "<IPython.core.display.Image object>"
            ],
            "image/png": "[encoded data removed]"
          },
          "metadata": {},
          "execution_count": 825
        }
      ]
    },
    {
      "cell_type": "markdown",
      "source": [
        "## Train the model"
      ],
      "metadata": {
        "id": "hjz2ghXbL9Ok"
      }
    },
    {
      "cell_type": "code",
      "source": [
        "# Train the model on our training data while validating on our validation set\n",
        "# remember:\n",
        "#     y = waveforms\n",
        "#     x = truth parameters\n",
        "# just do some trainings to see, whether this structure works or not\n",
        "\n",
        "#history_1 = model_1.fit(y_train, x_train, epochs=4, batch_size=25, validation_data=(y_validate, x_validate))"
      ],
      "metadata": {
        "id": "Zsx72tmvxNnj"
      },
      "execution_count": 826,
      "outputs": []
    },
    {
      "cell_type": "code",
      "source": [
        "# fully train the network\n",
        "history_1 = model_1.fit(y_train, x_train, epochs=400, batch_size=333, validation_data=(y_validate, x_validate))\n",
        "\n",
        "# Save the model to disk\n",
        "#!mkdir -p saved_model\n",
        "#model_1.save('saved_model/STM32_AI_Test')"
      ],
      "metadata": {
        "colab": {
          "base_uri": "https://localhost:8080/"
        },
        "id": "xMQfeuZ_L7QU",
        "outputId": "58339ec3-a788-475c-fea4-6b36e2fc02b6"
      },
      "execution_count": 827,
      "outputs": [
        {
          "output_type": "stream",
          "name": "stdout",
          "text": [
            "Epoch 1/400\n",
            "181/181 [==============================] - 2s 6ms/step - loss: 0.0632 - accuracy: 0.6279 - val_loss: 0.0155 - val_accuracy: 0.8813\n",
            "Epoch 2/400\n",
            "181/181 [==============================] - 1s 5ms/step - loss: 0.0134 - accuracy: 0.9183 - val_loss: 0.0117 - val_accuracy: 0.9540\n",
            "Epoch 3/400\n",
            "181/181 [==============================] - 1s 5ms/step - loss: 0.0114 - accuracy: 0.9479 - val_loss: 0.0106 - val_accuracy: 0.9575\n",
            "Epoch 4/400\n",
            "181/181 [==============================] - 1s 5ms/step - loss: 0.0105 - accuracy: 0.9560 - val_loss: 0.0099 - val_accuracy: 0.9709\n",
            "Epoch 5/400\n",
            "181/181 [==============================] - 1s 5ms/step - loss: 0.0098 - accuracy: 0.9596 - val_loss: 0.0094 - val_accuracy: 0.9740\n",
            "Epoch 6/400\n",
            "181/181 [==============================] - 1s 5ms/step - loss: 0.0093 - accuracy: 0.9617 - val_loss: 0.0090 - val_accuracy: 0.9709\n",
            "Epoch 7/400\n",
            "181/181 [==============================] - 1s 5ms/step - loss: 0.0089 - accuracy: 0.9635 - val_loss: 0.0085 - val_accuracy: 0.9748\n",
            "Epoch 8/400\n",
            "181/181 [==============================] - 1s 5ms/step - loss: 0.0085 - accuracy: 0.9651 - val_loss: 0.0081 - val_accuracy: 0.9747\n",
            "Epoch 9/400\n",
            "181/181 [==============================] - 1s 5ms/step - loss: 0.0081 - accuracy: 0.9662 - val_loss: 0.0077 - val_accuracy: 0.9761\n",
            "Epoch 10/400\n",
            "181/181 [==============================] - 1s 4ms/step - loss: 0.0077 - accuracy: 0.9676 - val_loss: 0.0073 - val_accuracy: 0.9740\n",
            "Epoch 11/400\n",
            "181/181 [==============================] - 1s 5ms/step - loss: 0.0073 - accuracy: 0.9664 - val_loss: 0.0069 - val_accuracy: 0.9732\n",
            "Epoch 12/400\n",
            "181/181 [==============================] - 1s 7ms/step - loss: 0.0068 - accuracy: 0.9689 - val_loss: 0.0065 - val_accuracy: 0.9746\n",
            "Epoch 13/400\n",
            "181/181 [==============================] - 1s 7ms/step - loss: 0.0065 - accuracy: 0.9693 - val_loss: 0.0061 - val_accuracy: 0.9740\n",
            "Epoch 14/400\n",
            "181/181 [==============================] - 1s 6ms/step - loss: 0.0061 - accuracy: 0.9693 - val_loss: 0.0058 - val_accuracy: 0.9753\n",
            "Epoch 15/400\n",
            "181/181 [==============================] - 1s 5ms/step - loss: 0.0057 - accuracy: 0.9686 - val_loss: 0.0054 - val_accuracy: 0.9787\n",
            "Epoch 16/400\n",
            "181/181 [==============================] - 1s 5ms/step - loss: 0.0054 - accuracy: 0.9696 - val_loss: 0.0051 - val_accuracy: 0.9792\n",
            "Epoch 17/400\n",
            "181/181 [==============================] - 1s 5ms/step - loss: 0.0050 - accuracy: 0.9708 - val_loss: 0.0048 - val_accuracy: 0.9691\n",
            "Epoch 18/400\n",
            "181/181 [==============================] - 1s 4ms/step - loss: 0.0047 - accuracy: 0.9709 - val_loss: 0.0045 - val_accuracy: 0.9690\n",
            "Epoch 19/400\n",
            "181/181 [==============================] - 1s 4ms/step - loss: 0.0044 - accuracy: 0.9719 - val_loss: 0.0042 - val_accuracy: 0.9765\n",
            "Epoch 20/400\n",
            "181/181 [==============================] - 1s 4ms/step - loss: 0.0041 - accuracy: 0.9720 - val_loss: 0.0039 - val_accuracy: 0.9815\n",
            "Epoch 21/400\n",
            "181/181 [==============================] - 1s 5ms/step - loss: 0.0039 - accuracy: 0.9719 - val_loss: 0.0037 - val_accuracy: 0.9686\n",
            "Epoch 22/400\n",
            "181/181 [==============================] - 1s 5ms/step - loss: 0.0037 - accuracy: 0.9721 - val_loss: 0.0034 - val_accuracy: 0.9790\n",
            "Epoch 23/400\n",
            "181/181 [==============================] - 1s 5ms/step - loss: 0.0034 - accuracy: 0.9725 - val_loss: 0.0033 - val_accuracy: 0.9672\n",
            "Epoch 24/400\n",
            "181/181 [==============================] - 1s 5ms/step - loss: 0.0032 - accuracy: 0.9727 - val_loss: 0.0030 - val_accuracy: 0.9829\n",
            "Epoch 25/400\n",
            "181/181 [==============================] - 1s 5ms/step - loss: 0.0030 - accuracy: 0.9740 - val_loss: 0.0029 - val_accuracy: 0.9801\n",
            "Epoch 26/400\n",
            "181/181 [==============================] - 1s 5ms/step - loss: 0.0029 - accuracy: 0.9721 - val_loss: 0.0027 - val_accuracy: 0.9748\n",
            "Epoch 27/400\n",
            "181/181 [==============================] - 1s 5ms/step - loss: 0.0027 - accuracy: 0.9736 - val_loss: 0.0026 - val_accuracy: 0.9791\n",
            "Epoch 28/400\n",
            "181/181 [==============================] - 1s 5ms/step - loss: 0.0026 - accuracy: 0.9732 - val_loss: 0.0024 - val_accuracy: 0.9772\n",
            "Epoch 29/400\n",
            "181/181 [==============================] - 1s 5ms/step - loss: 0.0025 - accuracy: 0.9740 - val_loss: 0.0023 - val_accuracy: 0.9778\n",
            "Epoch 30/400\n",
            "181/181 [==============================] - 1s 5ms/step - loss: 0.0023 - accuracy: 0.9745 - val_loss: 0.0022 - val_accuracy: 0.9819\n",
            "Epoch 31/400\n",
            "181/181 [==============================] - 1s 5ms/step - loss: 0.0022 - accuracy: 0.9739 - val_loss: 0.0021 - val_accuracy: 0.9827\n",
            "Epoch 32/400\n",
            "181/181 [==============================] - 1s 5ms/step - loss: 0.0021 - accuracy: 0.9755 - val_loss: 0.0020 - val_accuracy: 0.9754\n",
            "Epoch 33/400\n",
            "181/181 [==============================] - 1s 5ms/step - loss: 0.0020 - accuracy: 0.9752 - val_loss: 0.0019 - val_accuracy: 0.9719\n",
            "Epoch 34/400\n",
            "181/181 [==============================] - 1s 5ms/step - loss: 0.0020 - accuracy: 0.9737 - val_loss: 0.0018 - val_accuracy: 0.9828\n",
            "Epoch 35/400\n",
            "181/181 [==============================] - 1s 4ms/step - loss: 0.0019 - accuracy: 0.9749 - val_loss: 0.0018 - val_accuracy: 0.9827\n",
            "Epoch 36/400\n",
            "181/181 [==============================] - 1s 5ms/step - loss: 0.0018 - accuracy: 0.9741 - val_loss: 0.0017 - val_accuracy: 0.9828\n",
            "Epoch 37/400\n",
            "181/181 [==============================] - 1s 5ms/step - loss: 0.0018 - accuracy: 0.9734 - val_loss: 0.0016 - val_accuracy: 0.9779\n",
            "Epoch 38/400\n",
            "181/181 [==============================] - 1s 5ms/step - loss: 0.0017 - accuracy: 0.9742 - val_loss: 0.0017 - val_accuracy: 0.9785\n",
            "Epoch 39/400\n",
            "181/181 [==============================] - 1s 5ms/step - loss: 0.0017 - accuracy: 0.9737 - val_loss: 0.0016 - val_accuracy: 0.9743\n",
            "Epoch 40/400\n",
            "181/181 [==============================] - 1s 5ms/step - loss: 0.0016 - accuracy: 0.9740 - val_loss: 0.0015 - val_accuracy: 0.9822\n",
            "Epoch 41/400\n",
            "181/181 [==============================] - 1s 5ms/step - loss: 0.0016 - accuracy: 0.9746 - val_loss: 0.0015 - val_accuracy: 0.9699\n",
            "Epoch 42/400\n",
            "181/181 [==============================] - 1s 5ms/step - loss: 0.0016 - accuracy: 0.9738 - val_loss: 0.0015 - val_accuracy: 0.9745\n",
            "Epoch 43/400\n",
            "181/181 [==============================] - 1s 4ms/step - loss: 0.0015 - accuracy: 0.9743 - val_loss: 0.0014 - val_accuracy: 0.9814\n",
            "Epoch 44/400\n",
            "181/181 [==============================] - 1s 4ms/step - loss: 0.0015 - accuracy: 0.9742 - val_loss: 0.0014 - val_accuracy: 0.9785\n",
            "Epoch 45/400\n",
            "181/181 [==============================] - 1s 5ms/step - loss: 0.0015 - accuracy: 0.9737 - val_loss: 0.0014 - val_accuracy: 0.9765\n",
            "Epoch 46/400\n",
            "181/181 [==============================] - 1s 5ms/step - loss: 0.0015 - accuracy: 0.9737 - val_loss: 0.0015 - val_accuracy: 0.9690\n",
            "Epoch 47/400\n",
            "181/181 [==============================] - 1s 5ms/step - loss: 0.0014 - accuracy: 0.9738 - val_loss: 0.0013 - val_accuracy: 0.9764\n",
            "Epoch 48/400\n",
            "181/181 [==============================] - 1s 4ms/step - loss: 0.0014 - accuracy: 0.9743 - val_loss: 0.0013 - val_accuracy: 0.9801\n",
            "Epoch 49/400\n",
            "181/181 [==============================] - 1s 5ms/step - loss: 0.0014 - accuracy: 0.9744 - val_loss: 0.0014 - val_accuracy: 0.9703\n",
            "Epoch 50/400\n",
            "181/181 [==============================] - 1s 5ms/step - loss: 0.0014 - accuracy: 0.9745 - val_loss: 0.0013 - val_accuracy: 0.9718\n",
            "Epoch 51/400\n",
            "181/181 [==============================] - 1s 5ms/step - loss: 0.0014 - accuracy: 0.9746 - val_loss: 0.0013 - val_accuracy: 0.9807\n",
            "Epoch 52/400\n",
            "181/181 [==============================] - 1s 5ms/step - loss: 0.0014 - accuracy: 0.9734 - val_loss: 0.0014 - val_accuracy: 0.9588\n",
            "Epoch 53/400\n",
            "181/181 [==============================] - 1s 5ms/step - loss: 0.0013 - accuracy: 0.9734 - val_loss: 0.0014 - val_accuracy: 0.9660\n",
            "Epoch 54/400\n",
            "181/181 [==============================] - 1s 5ms/step - loss: 0.0013 - accuracy: 0.9744 - val_loss: 0.0012 - val_accuracy: 0.9751\n",
            "Epoch 55/400\n",
            "181/181 [==============================] - 1s 5ms/step - loss: 0.0013 - accuracy: 0.9751 - val_loss: 0.0012 - val_accuracy: 0.9806\n",
            "Epoch 56/400\n",
            "181/181 [==============================] - 1s 5ms/step - loss: 0.0013 - accuracy: 0.9731 - val_loss: 0.0012 - val_accuracy: 0.9770\n",
            "Epoch 57/400\n",
            "181/181 [==============================] - 1s 5ms/step - loss: 0.0013 - accuracy: 0.9748 - val_loss: 0.0012 - val_accuracy: 0.9796\n",
            "Epoch 58/400\n",
            "181/181 [==============================] - 1s 5ms/step - loss: 0.0013 - accuracy: 0.9750 - val_loss: 0.0012 - val_accuracy: 0.9822\n",
            "Epoch 59/400\n",
            "181/181 [==============================] - 1s 5ms/step - loss: 0.0013 - accuracy: 0.9759 - val_loss: 0.0012 - val_accuracy: 0.9786\n",
            "Epoch 60/400\n",
            "181/181 [==============================] - 1s 5ms/step - loss: 0.0012 - accuracy: 0.9760 - val_loss: 0.0012 - val_accuracy: 0.9763\n",
            "Epoch 61/400\n",
            "181/181 [==============================] - 1s 5ms/step - loss: 0.0012 - accuracy: 0.9752 - val_loss: 0.0012 - val_accuracy: 0.9640\n",
            "Epoch 62/400\n",
            "181/181 [==============================] - 1s 5ms/step - loss: 0.0012 - accuracy: 0.9750 - val_loss: 0.0011 - val_accuracy: 0.9790\n",
            "Epoch 63/400\n",
            "181/181 [==============================] - 1s 5ms/step - loss: 0.0012 - accuracy: 0.9740 - val_loss: 0.0011 - val_accuracy: 0.9817\n",
            "Epoch 64/400\n",
            "181/181 [==============================] - 1s 5ms/step - loss: 0.0012 - accuracy: 0.9738 - val_loss: 0.0012 - val_accuracy: 0.9710\n",
            "Epoch 65/400\n",
            "181/181 [==============================] - 1s 4ms/step - loss: 0.0012 - accuracy: 0.9751 - val_loss: 0.0011 - val_accuracy: 0.9808\n",
            "Epoch 66/400\n",
            "181/181 [==============================] - 1s 5ms/step - loss: 0.0012 - accuracy: 0.9743 - val_loss: 0.0011 - val_accuracy: 0.9833\n",
            "Epoch 67/400\n",
            "181/181 [==============================] - 1s 4ms/step - loss: 0.0012 - accuracy: 0.9757 - val_loss: 0.0011 - val_accuracy: 0.9805\n",
            "Epoch 68/400\n",
            "181/181 [==============================] - 1s 5ms/step - loss: 0.0012 - accuracy: 0.9766 - val_loss: 0.0011 - val_accuracy: 0.9776\n",
            "Epoch 69/400\n",
            "181/181 [==============================] - 1s 5ms/step - loss: 0.0012 - accuracy: 0.9752 - val_loss: 0.0011 - val_accuracy: 0.9732\n",
            "Epoch 70/400\n",
            "181/181 [==============================] - 1s 5ms/step - loss: 0.0012 - accuracy: 0.9764 - val_loss: 0.0011 - val_accuracy: 0.9788\n",
            "Epoch 71/400\n",
            "181/181 [==============================] - 1s 5ms/step - loss: 0.0012 - accuracy: 0.9744 - val_loss: 0.0011 - val_accuracy: 0.9696\n",
            "Epoch 72/400\n",
            "181/181 [==============================] - 1s 5ms/step - loss: 0.0012 - accuracy: 0.9755 - val_loss: 0.0011 - val_accuracy: 0.9711\n",
            "Epoch 73/400\n",
            "181/181 [==============================] - 1s 5ms/step - loss: 0.0012 - accuracy: 0.9737 - val_loss: 0.0011 - val_accuracy: 0.9706\n",
            "Epoch 74/400\n",
            "181/181 [==============================] - 1s 4ms/step - loss: 0.0011 - accuracy: 0.9754 - val_loss: 0.0010 - val_accuracy: 0.9833\n",
            "Epoch 75/400\n",
            "181/181 [==============================] - 1s 5ms/step - loss: 0.0011 - accuracy: 0.9756 - val_loss: 0.0010 - val_accuracy: 0.9793\n",
            "Epoch 76/400\n",
            "181/181 [==============================] - 1s 5ms/step - loss: 0.0011 - accuracy: 0.9764 - val_loss: 0.0010 - val_accuracy: 0.9843\n",
            "Epoch 77/400\n",
            "181/181 [==============================] - 1s 5ms/step - loss: 0.0011 - accuracy: 0.9761 - val_loss: 0.0010 - val_accuracy: 0.9804\n",
            "Epoch 78/400\n",
            "181/181 [==============================] - 1s 5ms/step - loss: 0.0011 - accuracy: 0.9761 - val_loss: 0.0011 - val_accuracy: 0.9729\n",
            "Epoch 79/400\n",
            "181/181 [==============================] - 1s 5ms/step - loss: 0.0011 - accuracy: 0.9761 - val_loss: 0.0010 - val_accuracy: 0.9784\n",
            "Epoch 80/400\n",
            "181/181 [==============================] - 1s 5ms/step - loss: 0.0011 - accuracy: 0.9762 - val_loss: 0.0010 - val_accuracy: 0.9782\n",
            "Epoch 81/400\n",
            "181/181 [==============================] - 1s 5ms/step - loss: 0.0011 - accuracy: 0.9747 - val_loss: 0.0010 - val_accuracy: 0.9747\n",
            "Epoch 82/400\n",
            "181/181 [==============================] - 2s 9ms/step - loss: 0.0011 - accuracy: 0.9758 - val_loss: 9.7127e-04 - val_accuracy: 0.9851\n",
            "Epoch 83/400\n",
            "181/181 [==============================] - 2s 9ms/step - loss: 0.0011 - accuracy: 0.9756 - val_loss: 9.6587e-04 - val_accuracy: 0.9792\n",
            "Epoch 84/400\n",
            "181/181 [==============================] - 1s 5ms/step - loss: 0.0011 - accuracy: 0.9751 - val_loss: 9.8457e-04 - val_accuracy: 0.9773\n",
            "Epoch 85/400\n",
            "181/181 [==============================] - 1s 5ms/step - loss: 0.0011 - accuracy: 0.9752 - val_loss: 9.5133e-04 - val_accuracy: 0.9843\n",
            "Epoch 86/400\n",
            "181/181 [==============================] - 1s 5ms/step - loss: 0.0011 - accuracy: 0.9758 - val_loss: 9.5543e-04 - val_accuracy: 0.9805\n",
            "Epoch 87/400\n",
            "181/181 [==============================] - 1s 5ms/step - loss: 0.0011 - accuracy: 0.9757 - val_loss: 9.5176e-04 - val_accuracy: 0.9855\n",
            "Epoch 88/400\n",
            "181/181 [==============================] - 1s 5ms/step - loss: 0.0010 - accuracy: 0.9766 - val_loss: 9.3791e-04 - val_accuracy: 0.9858\n",
            "Epoch 89/400\n",
            "181/181 [==============================] - 1s 5ms/step - loss: 0.0010 - accuracy: 0.9763 - val_loss: 9.3753e-04 - val_accuracy: 0.9842\n",
            "Epoch 90/400\n",
            "181/181 [==============================] - 1s 5ms/step - loss: 0.0010 - accuracy: 0.9766 - val_loss: 9.3177e-04 - val_accuracy: 0.9796\n",
            "Epoch 91/400\n",
            "181/181 [==============================] - 1s 5ms/step - loss: 0.0010 - accuracy: 0.9771 - val_loss: 9.4137e-04 - val_accuracy: 0.9739\n",
            "Epoch 92/400\n",
            "181/181 [==============================] - 1s 5ms/step - loss: 0.0010 - accuracy: 0.9742 - val_loss: 9.2325e-04 - val_accuracy: 0.9858\n",
            "Epoch 93/400\n",
            "181/181 [==============================] - 1s 5ms/step - loss: 0.0010 - accuracy: 0.9776 - val_loss: 9.1790e-04 - val_accuracy: 0.9829\n",
            "Epoch 94/400\n",
            "181/181 [==============================] - 1s 5ms/step - loss: 0.0010 - accuracy: 0.9765 - val_loss: 8.9866e-04 - val_accuracy: 0.9847\n",
            "Epoch 95/400\n",
            "181/181 [==============================] - 1s 5ms/step - loss: 0.0010 - accuracy: 0.9764 - val_loss: 9.2142e-04 - val_accuracy: 0.9774\n",
            "Epoch 96/400\n",
            "181/181 [==============================] - 1s 5ms/step - loss: 0.0010 - accuracy: 0.9761 - val_loss: 9.3668e-04 - val_accuracy: 0.9822\n",
            "Epoch 97/400\n",
            "181/181 [==============================] - 1s 5ms/step - loss: 0.0010 - accuracy: 0.9764 - val_loss: 8.9342e-04 - val_accuracy: 0.9851\n",
            "Epoch 98/400\n",
            "181/181 [==============================] - 1s 5ms/step - loss: 9.8861e-04 - accuracy: 0.9773 - val_loss: 8.9422e-04 - val_accuracy: 0.9839\n",
            "Epoch 99/400\n",
            "181/181 [==============================] - 1s 5ms/step - loss: 9.9520e-04 - accuracy: 0.9759 - val_loss: 9.4493e-04 - val_accuracy: 0.9708\n",
            "Epoch 100/400\n",
            "181/181 [==============================] - 1s 5ms/step - loss: 0.0010 - accuracy: 0.9741 - val_loss: 9.0693e-04 - val_accuracy: 0.9771\n",
            "Epoch 101/400\n",
            "181/181 [==============================] - 1s 5ms/step - loss: 9.8744e-04 - accuracy: 0.9765 - val_loss: 8.7234e-04 - val_accuracy: 0.9858\n",
            "Epoch 102/400\n",
            "181/181 [==============================] - 1s 5ms/step - loss: 9.8499e-04 - accuracy: 0.9755 - val_loss: 8.9496e-04 - val_accuracy: 0.9808\n",
            "Epoch 103/400\n",
            "181/181 [==============================] - 1s 5ms/step - loss: 9.7656e-04 - accuracy: 0.9773 - val_loss: 9.0807e-04 - val_accuracy: 0.9713\n",
            "Epoch 104/400\n",
            "181/181 [==============================] - 1s 5ms/step - loss: 9.7432e-04 - accuracy: 0.9758 - val_loss: 9.2463e-04 - val_accuracy: 0.9682\n",
            "Epoch 105/400\n",
            "181/181 [==============================] - 1s 4ms/step - loss: 9.6790e-04 - accuracy: 0.9760 - val_loss: 8.7554e-04 - val_accuracy: 0.9807\n",
            "Epoch 106/400\n",
            "181/181 [==============================] - 1s 5ms/step - loss: 9.5997e-04 - accuracy: 0.9769 - val_loss: 8.8974e-04 - val_accuracy: 0.9749\n",
            "Epoch 107/400\n",
            "181/181 [==============================] - 1s 5ms/step - loss: 9.7061e-04 - accuracy: 0.9755 - val_loss: 8.8645e-04 - val_accuracy: 0.9834\n",
            "Epoch 108/400\n",
            "181/181 [==============================] - 1s 5ms/step - loss: 9.5441e-04 - accuracy: 0.9771 - val_loss: 8.7441e-04 - val_accuracy: 0.9833\n",
            "Epoch 109/400\n",
            "181/181 [==============================] - 1s 5ms/step - loss: 9.5000e-04 - accuracy: 0.9771 - val_loss: 8.7024e-04 - val_accuracy: 0.9861\n",
            "Epoch 110/400\n",
            "181/181 [==============================] - 1s 5ms/step - loss: 9.5163e-04 - accuracy: 0.9764 - val_loss: 8.4047e-04 - val_accuracy: 0.9801\n",
            "Epoch 111/400\n",
            "181/181 [==============================] - 1s 5ms/step - loss: 9.4415e-04 - accuracy: 0.9766 - val_loss: 8.5237e-04 - val_accuracy: 0.9788\n",
            "Epoch 112/400\n",
            "181/181 [==============================] - 1s 5ms/step - loss: 9.4536e-04 - accuracy: 0.9766 - val_loss: 8.5428e-04 - val_accuracy: 0.9746\n",
            "Epoch 113/400\n",
            "181/181 [==============================] - 1s 5ms/step - loss: 9.4301e-04 - accuracy: 0.9764 - val_loss: 8.2581e-04 - val_accuracy: 0.9868\n",
            "Epoch 114/400\n",
            "181/181 [==============================] - 1s 5ms/step - loss: 9.3748e-04 - accuracy: 0.9764 - val_loss: 8.3040e-04 - val_accuracy: 0.9847\n",
            "Epoch 115/400\n",
            "181/181 [==============================] - 1s 5ms/step - loss: 9.3372e-04 - accuracy: 0.9776 - val_loss: 8.5008e-04 - val_accuracy: 0.9773\n",
            "Epoch 116/400\n",
            "181/181 [==============================] - 1s 5ms/step - loss: 9.2553e-04 - accuracy: 0.9769 - val_loss: 8.5153e-04 - val_accuracy: 0.9804\n",
            "Epoch 117/400\n",
            "181/181 [==============================] - 1s 5ms/step - loss: 9.2177e-04 - accuracy: 0.9771 - val_loss: 8.1781e-04 - val_accuracy: 0.9848\n",
            "Epoch 118/400\n",
            "181/181 [==============================] - 1s 5ms/step - loss: 9.2457e-04 - accuracy: 0.9773 - val_loss: 8.1628e-04 - val_accuracy: 0.9848\n",
            "Epoch 119/400\n",
            "181/181 [==============================] - 1s 5ms/step - loss: 9.1243e-04 - accuracy: 0.9775 - val_loss: 8.1741e-04 - val_accuracy: 0.9826\n",
            "Epoch 120/400\n",
            "181/181 [==============================] - 1s 5ms/step - loss: 9.0767e-04 - accuracy: 0.9780 - val_loss: 8.2588e-04 - val_accuracy: 0.9750\n",
            "Epoch 121/400\n",
            "181/181 [==============================] - 1s 5ms/step - loss: 9.1249e-04 - accuracy: 0.9761 - val_loss: 8.4758e-04 - val_accuracy: 0.9704\n",
            "Epoch 122/400\n",
            "181/181 [==============================] - 1s 5ms/step - loss: 9.0670e-04 - accuracy: 0.9765 - val_loss: 8.7394e-04 - val_accuracy: 0.9785\n",
            "Epoch 123/400\n",
            "181/181 [==============================] - 1s 5ms/step - loss: 9.0929e-04 - accuracy: 0.9767 - val_loss: 8.5429e-04 - val_accuracy: 0.9746\n",
            "Epoch 124/400\n",
            "181/181 [==============================] - 1s 5ms/step - loss: 8.9707e-04 - accuracy: 0.9769 - val_loss: 7.9081e-04 - val_accuracy: 0.9828\n",
            "Epoch 125/400\n",
            "181/181 [==============================] - 1s 5ms/step - loss: 8.9550e-04 - accuracy: 0.9767 - val_loss: 7.9563e-04 - val_accuracy: 0.9840\n",
            "Epoch 126/400\n",
            "181/181 [==============================] - 1s 5ms/step - loss: 8.9311e-04 - accuracy: 0.9768 - val_loss: 7.8877e-04 - val_accuracy: 0.9848\n",
            "Epoch 127/400\n",
            "181/181 [==============================] - 1s 5ms/step - loss: 8.8731e-04 - accuracy: 0.9769 - val_loss: 7.8799e-04 - val_accuracy: 0.9811\n",
            "Epoch 128/400\n",
            "181/181 [==============================] - 1s 5ms/step - loss: 8.8453e-04 - accuracy: 0.9772 - val_loss: 7.9068e-04 - val_accuracy: 0.9841\n",
            "Epoch 129/400\n",
            "181/181 [==============================] - 1s 5ms/step - loss: 8.8071e-04 - accuracy: 0.9767 - val_loss: 7.7449e-04 - val_accuracy: 0.9839\n",
            "Epoch 130/400\n",
            "181/181 [==============================] - 1s 5ms/step - loss: 8.8217e-04 - accuracy: 0.9760 - val_loss: 7.9712e-04 - val_accuracy: 0.9829\n",
            "Epoch 131/400\n",
            "181/181 [==============================] - 1s 4ms/step - loss: 8.6852e-04 - accuracy: 0.9777 - val_loss: 8.9950e-04 - val_accuracy: 0.9645\n",
            "Epoch 132/400\n",
            "181/181 [==============================] - 1s 4ms/step - loss: 8.6957e-04 - accuracy: 0.9767 - val_loss: 7.8223e-04 - val_accuracy: 0.9844\n",
            "Epoch 133/400\n",
            "181/181 [==============================] - 1s 5ms/step - loss: 8.6983e-04 - accuracy: 0.9755 - val_loss: 7.7927e-04 - val_accuracy: 0.9830\n",
            "Epoch 134/400\n",
            "181/181 [==============================] - 1s 5ms/step - loss: 8.6418e-04 - accuracy: 0.9769 - val_loss: 8.0298e-04 - val_accuracy: 0.9722\n",
            "Epoch 135/400\n",
            "181/181 [==============================] - 1s 5ms/step - loss: 8.5850e-04 - accuracy: 0.9769 - val_loss: 7.8143e-04 - val_accuracy: 0.9831\n",
            "Epoch 136/400\n",
            "181/181 [==============================] - 1s 4ms/step - loss: 8.5582e-04 - accuracy: 0.9773 - val_loss: 7.4869e-04 - val_accuracy: 0.9851\n",
            "Epoch 137/400\n",
            "181/181 [==============================] - 1s 5ms/step - loss: 8.5911e-04 - accuracy: 0.9753 - val_loss: 7.5065e-04 - val_accuracy: 0.9826\n",
            "Epoch 138/400\n",
            "181/181 [==============================] - 1s 5ms/step - loss: 8.5375e-04 - accuracy: 0.9756 - val_loss: 7.9021e-04 - val_accuracy: 0.9736\n",
            "Epoch 139/400\n",
            "181/181 [==============================] - 1s 5ms/step - loss: 8.5918e-04 - accuracy: 0.9746 - val_loss: 7.4906e-04 - val_accuracy: 0.9842\n",
            "Epoch 140/400\n",
            "181/181 [==============================] - 1s 5ms/step - loss: 8.4927e-04 - accuracy: 0.9751 - val_loss: 7.5477e-04 - val_accuracy: 0.9786\n",
            "Epoch 141/400\n",
            "181/181 [==============================] - 1s 5ms/step - loss: 8.4602e-04 - accuracy: 0.9760 - val_loss: 8.6974e-04 - val_accuracy: 0.9671\n",
            "Epoch 142/400\n",
            "181/181 [==============================] - 1s 5ms/step - loss: 8.4669e-04 - accuracy: 0.9762 - val_loss: 7.5292e-04 - val_accuracy: 0.9763\n",
            "Epoch 143/400\n",
            "181/181 [==============================] - 1s 5ms/step - loss: 8.4449e-04 - accuracy: 0.9750 - val_loss: 7.7546e-04 - val_accuracy: 0.9797\n",
            "Epoch 144/400\n",
            "181/181 [==============================] - 1s 5ms/step - loss: 8.3268e-04 - accuracy: 0.9770 - val_loss: 7.3925e-04 - val_accuracy: 0.9819\n",
            "Epoch 145/400\n",
            "181/181 [==============================] - 1s 5ms/step - loss: 8.3617e-04 - accuracy: 0.9757 - val_loss: 7.3255e-04 - val_accuracy: 0.9841\n",
            "Epoch 146/400\n",
            "181/181 [==============================] - 1s 5ms/step - loss: 8.3168e-04 - accuracy: 0.9760 - val_loss: 7.7704e-04 - val_accuracy: 0.9715\n",
            "Epoch 147/400\n",
            "181/181 [==============================] - 1s 5ms/step - loss: 8.2900e-04 - accuracy: 0.9757 - val_loss: 8.2671e-04 - val_accuracy: 0.9682\n",
            "Epoch 148/400\n",
            "181/181 [==============================] - 1s 5ms/step - loss: 8.2823e-04 - accuracy: 0.9755 - val_loss: 7.3067e-04 - val_accuracy: 0.9832\n",
            "Epoch 149/400\n",
            "181/181 [==============================] - 1s 5ms/step - loss: 8.2531e-04 - accuracy: 0.9761 - val_loss: 7.2085e-04 - val_accuracy: 0.9807\n",
            "Epoch 150/400\n",
            "181/181 [==============================] - 1s 5ms/step - loss: 8.3319e-04 - accuracy: 0.9750 - val_loss: 8.8944e-04 - val_accuracy: 0.9551\n",
            "Epoch 151/400\n",
            "181/181 [==============================] - 1s 5ms/step - loss: 8.2991e-04 - accuracy: 0.9740 - val_loss: 7.2269e-04 - val_accuracy: 0.9816\n",
            "Epoch 152/400\n",
            "181/181 [==============================] - 1s 5ms/step - loss: 8.1249e-04 - accuracy: 0.9767 - val_loss: 7.1291e-04 - val_accuracy: 0.9844\n",
            "Epoch 153/400\n",
            "181/181 [==============================] - 1s 5ms/step - loss: 8.1514e-04 - accuracy: 0.9762 - val_loss: 7.8475e-04 - val_accuracy: 0.9754\n",
            "Epoch 154/400\n",
            "181/181 [==============================] - 1s 4ms/step - loss: 8.3270e-04 - accuracy: 0.9744 - val_loss: 7.2088e-04 - val_accuracy: 0.9814\n",
            "Epoch 155/400\n",
            "181/181 [==============================] - 1s 5ms/step - loss: 8.1203e-04 - accuracy: 0.9763 - val_loss: 7.2333e-04 - val_accuracy: 0.9779\n",
            "Epoch 156/400\n",
            "181/181 [==============================] - 1s 5ms/step - loss: 8.1178e-04 - accuracy: 0.9774 - val_loss: 7.1890e-04 - val_accuracy: 0.9785\n",
            "Epoch 157/400\n",
            "181/181 [==============================] - 1s 5ms/step - loss: 8.1284e-04 - accuracy: 0.9762 - val_loss: 7.2509e-04 - val_accuracy: 0.9776\n",
            "Epoch 158/400\n",
            "181/181 [==============================] - 1s 5ms/step - loss: 8.2151e-04 - accuracy: 0.9744 - val_loss: 7.3718e-04 - val_accuracy: 0.9815\n",
            "Epoch 159/400\n",
            "181/181 [==============================] - 1s 5ms/step - loss: 8.1059e-04 - accuracy: 0.9764 - val_loss: 7.0401e-04 - val_accuracy: 0.9822\n",
            "Epoch 160/400\n",
            "181/181 [==============================] - 1s 5ms/step - loss: 8.0539e-04 - accuracy: 0.9762 - val_loss: 7.0866e-04 - val_accuracy: 0.9797\n",
            "Epoch 161/400\n",
            "181/181 [==============================] - 1s 5ms/step - loss: 7.9872e-04 - accuracy: 0.9761 - val_loss: 7.8430e-04 - val_accuracy: 0.9628\n",
            "Epoch 162/400\n",
            "181/181 [==============================] - 1s 5ms/step - loss: 8.1101e-04 - accuracy: 0.9755 - val_loss: 7.2550e-04 - val_accuracy: 0.9820\n",
            "Epoch 163/400\n",
            "181/181 [==============================] - 1s 5ms/step - loss: 8.1333e-04 - accuracy: 0.9755 - val_loss: 7.2659e-04 - val_accuracy: 0.9786\n",
            "Epoch 164/400\n",
            "181/181 [==============================] - 1s 5ms/step - loss: 7.9891e-04 - accuracy: 0.9769 - val_loss: 6.9603e-04 - val_accuracy: 0.9840\n",
            "Epoch 165/400\n",
            "181/181 [==============================] - 1s 5ms/step - loss: 7.9652e-04 - accuracy: 0.9763 - val_loss: 7.0488e-04 - val_accuracy: 0.9818\n",
            "Epoch 166/400\n",
            "181/181 [==============================] - 1s 5ms/step - loss: 8.0442e-04 - accuracy: 0.9745 - val_loss: 7.1828e-04 - val_accuracy: 0.9797\n",
            "Epoch 167/400\n",
            "181/181 [==============================] - 1s 5ms/step - loss: 8.0149e-04 - accuracy: 0.9764 - val_loss: 7.0183e-04 - val_accuracy: 0.9840\n",
            "Epoch 168/400\n",
            "181/181 [==============================] - 1s 5ms/step - loss: 8.0064e-04 - accuracy: 0.9756 - val_loss: 7.3308e-04 - val_accuracy: 0.9738\n",
            "Epoch 169/400\n",
            "181/181 [==============================] - 1s 5ms/step - loss: 7.9945e-04 - accuracy: 0.9752 - val_loss: 7.2934e-04 - val_accuracy: 0.9743\n",
            "Epoch 170/400\n",
            "181/181 [==============================] - 1s 5ms/step - loss: 7.8870e-04 - accuracy: 0.9768 - val_loss: 7.5015e-04 - val_accuracy: 0.9714\n",
            "Epoch 171/400\n",
            "181/181 [==============================] - 1s 5ms/step - loss: 7.9724e-04 - accuracy: 0.9760 - val_loss: 6.9084e-04 - val_accuracy: 0.9809\n",
            "Epoch 172/400\n",
            "181/181 [==============================] - 1s 5ms/step - loss: 7.8818e-04 - accuracy: 0.9766 - val_loss: 7.0348e-04 - val_accuracy: 0.9772\n",
            "Epoch 173/400\n",
            "181/181 [==============================] - 1s 5ms/step - loss: 7.9227e-04 - accuracy: 0.9755 - val_loss: 6.8126e-04 - val_accuracy: 0.9830\n",
            "Epoch 174/400\n",
            "181/181 [==============================] - 1s 5ms/step - loss: 7.8572e-04 - accuracy: 0.9765 - val_loss: 6.8619e-04 - val_accuracy: 0.9811\n",
            "Epoch 175/400\n",
            "181/181 [==============================] - 1s 5ms/step - loss: 7.9343e-04 - accuracy: 0.9755 - val_loss: 6.8026e-04 - val_accuracy: 0.9840\n",
            "Epoch 176/400\n",
            "181/181 [==============================] - 1s 5ms/step - loss: 7.8748e-04 - accuracy: 0.9767 - val_loss: 6.8058e-04 - val_accuracy: 0.9829\n",
            "Epoch 177/400\n",
            "181/181 [==============================] - 1s 5ms/step - loss: 7.8232e-04 - accuracy: 0.9766 - val_loss: 6.8280e-04 - val_accuracy: 0.9804\n",
            "Epoch 178/400\n",
            "181/181 [==============================] - 1s 5ms/step - loss: 7.9161e-04 - accuracy: 0.9754 - val_loss: 6.8474e-04 - val_accuracy: 0.9846\n",
            "Epoch 179/400\n",
            "181/181 [==============================] - 1s 5ms/step - loss: 7.8905e-04 - accuracy: 0.9747 - val_loss: 7.1110e-04 - val_accuracy: 0.9747\n",
            "Epoch 180/400\n",
            "181/181 [==============================] - 1s 5ms/step - loss: 7.8292e-04 - accuracy: 0.9757 - val_loss: 6.7507e-04 - val_accuracy: 0.9827\n",
            "Epoch 181/400\n",
            "181/181 [==============================] - 1s 5ms/step - loss: 7.7944e-04 - accuracy: 0.9755 - val_loss: 6.8351e-04 - val_accuracy: 0.9806\n",
            "Epoch 182/400\n",
            "181/181 [==============================] - 1s 5ms/step - loss: 7.7479e-04 - accuracy: 0.9765 - val_loss: 6.7864e-04 - val_accuracy: 0.9826\n",
            "Epoch 183/400\n",
            "181/181 [==============================] - 1s 6ms/step - loss: 7.8744e-04 - accuracy: 0.9750 - val_loss: 6.8678e-04 - val_accuracy: 0.9808\n",
            "Epoch 184/400\n",
            "181/181 [==============================] - 1s 5ms/step - loss: 7.7314e-04 - accuracy: 0.9763 - val_loss: 6.7925e-04 - val_accuracy: 0.9841\n",
            "Epoch 185/400\n",
            "181/181 [==============================] - 1s 6ms/step - loss: 7.7552e-04 - accuracy: 0.9758 - val_loss: 6.8691e-04 - val_accuracy: 0.9812\n",
            "Epoch 186/400\n",
            "181/181 [==============================] - 1s 5ms/step - loss: 7.7580e-04 - accuracy: 0.9764 - val_loss: 6.9722e-04 - val_accuracy: 0.9782\n",
            "Epoch 187/400\n",
            "181/181 [==============================] - 1s 5ms/step - loss: 7.7476e-04 - accuracy: 0.9759 - val_loss: 6.7002e-04 - val_accuracy: 0.9837\n",
            "Epoch 188/400\n",
            "181/181 [==============================] - 1s 5ms/step - loss: 7.7280e-04 - accuracy: 0.9762 - val_loss: 6.8075e-04 - val_accuracy: 0.9773\n",
            "Epoch 189/400\n",
            "181/181 [==============================] - 1s 5ms/step - loss: 7.6763e-04 - accuracy: 0.9766 - val_loss: 6.7407e-04 - val_accuracy: 0.9834\n",
            "Epoch 190/400\n",
            "181/181 [==============================] - 1s 5ms/step - loss: 7.7137e-04 - accuracy: 0.9763 - val_loss: 6.7991e-04 - val_accuracy: 0.9849\n",
            "Epoch 191/400\n",
            "181/181 [==============================] - 1s 5ms/step - loss: 7.6535e-04 - accuracy: 0.9765 - val_loss: 6.7745e-04 - val_accuracy: 0.9799\n",
            "Epoch 192/400\n",
            "181/181 [==============================] - 1s 5ms/step - loss: 7.7603e-04 - accuracy: 0.9751 - val_loss: 6.7243e-04 - val_accuracy: 0.9815\n",
            "Epoch 193/400\n",
            "181/181 [==============================] - 1s 5ms/step - loss: 7.6473e-04 - accuracy: 0.9760 - val_loss: 7.0031e-04 - val_accuracy: 0.9731\n",
            "Epoch 194/400\n",
            "181/181 [==============================] - 1s 6ms/step - loss: 7.6202e-04 - accuracy: 0.9763 - val_loss: 6.7265e-04 - val_accuracy: 0.9771\n",
            "Epoch 195/400\n",
            "181/181 [==============================] - 1s 5ms/step - loss: 7.6697e-04 - accuracy: 0.9765 - val_loss: 6.8141e-04 - val_accuracy: 0.9765\n",
            "Epoch 196/400\n",
            "181/181 [==============================] - 1s 5ms/step - loss: 7.6355e-04 - accuracy: 0.9760 - val_loss: 7.0434e-04 - val_accuracy: 0.9719\n",
            "Epoch 197/400\n",
            "181/181 [==============================] - 1s 5ms/step - loss: 7.6956e-04 - accuracy: 0.9757 - val_loss: 6.6042e-04 - val_accuracy: 0.9807\n",
            "Epoch 198/400\n",
            "181/181 [==============================] - 1s 5ms/step - loss: 7.5815e-04 - accuracy: 0.9771 - val_loss: 7.6007e-04 - val_accuracy: 0.9597\n",
            "Epoch 199/400\n",
            "181/181 [==============================] - 1s 5ms/step - loss: 7.5699e-04 - accuracy: 0.9772 - val_loss: 6.7549e-04 - val_accuracy: 0.9766\n",
            "Epoch 200/400\n",
            "181/181 [==============================] - 1s 5ms/step - loss: 7.5888e-04 - accuracy: 0.9753 - val_loss: 7.0543e-04 - val_accuracy: 0.9760\n",
            "Epoch 201/400\n",
            "181/181 [==============================] - 1s 5ms/step - loss: 7.5711e-04 - accuracy: 0.9750 - val_loss: 7.1826e-04 - val_accuracy: 0.9731\n",
            "Epoch 202/400\n",
            "181/181 [==============================] - 1s 5ms/step - loss: 7.5515e-04 - accuracy: 0.9764 - val_loss: 7.4785e-04 - val_accuracy: 0.9787\n",
            "Epoch 203/400\n",
            "181/181 [==============================] - 1s 5ms/step - loss: 7.5301e-04 - accuracy: 0.9765 - val_loss: 6.7281e-04 - val_accuracy: 0.9804\n",
            "Epoch 204/400\n",
            "181/181 [==============================] - 1s 5ms/step - loss: 7.4936e-04 - accuracy: 0.9762 - val_loss: 6.6795e-04 - val_accuracy: 0.9836\n",
            "Epoch 205/400\n",
            "181/181 [==============================] - 1s 5ms/step - loss: 7.5407e-04 - accuracy: 0.9761 - val_loss: 6.4580e-04 - val_accuracy: 0.9836\n",
            "Epoch 206/400\n",
            "181/181 [==============================] - 1s 5ms/step - loss: 7.4909e-04 - accuracy: 0.9762 - val_loss: 7.1595e-04 - val_accuracy: 0.9704\n",
            "Epoch 207/400\n",
            "181/181 [==============================] - 1s 5ms/step - loss: 7.4892e-04 - accuracy: 0.9772 - val_loss: 6.4846e-04 - val_accuracy: 0.9825\n",
            "Epoch 208/400\n",
            "181/181 [==============================] - 1s 5ms/step - loss: 7.4861e-04 - accuracy: 0.9767 - val_loss: 6.8390e-04 - val_accuracy: 0.9749\n",
            "Epoch 209/400\n",
            "181/181 [==============================] - 1s 5ms/step - loss: 7.4231e-04 - accuracy: 0.9767 - val_loss: 6.5189e-04 - val_accuracy: 0.9814\n",
            "Epoch 210/400\n",
            "181/181 [==============================] - 1s 5ms/step - loss: 7.4939e-04 - accuracy: 0.9767 - val_loss: 6.4501e-04 - val_accuracy: 0.9818\n",
            "Epoch 211/400\n",
            "181/181 [==============================] - 1s 5ms/step - loss: 7.4496e-04 - accuracy: 0.9765 - val_loss: 6.5210e-04 - val_accuracy: 0.9805\n",
            "Epoch 212/400\n",
            "181/181 [==============================] - 1s 5ms/step - loss: 7.4479e-04 - accuracy: 0.9766 - val_loss: 7.5281e-04 - val_accuracy: 0.9656\n",
            "Epoch 213/400\n",
            "181/181 [==============================] - 1s 5ms/step - loss: 7.4234e-04 - accuracy: 0.9772 - val_loss: 6.5712e-04 - val_accuracy: 0.9790\n",
            "Epoch 214/400\n",
            "181/181 [==============================] - 1s 5ms/step - loss: 7.3879e-04 - accuracy: 0.9768 - val_loss: 6.3938e-04 - val_accuracy: 0.9837\n",
            "Epoch 215/400\n",
            "181/181 [==============================] - 1s 5ms/step - loss: 7.3785e-04 - accuracy: 0.9772 - val_loss: 6.5193e-04 - val_accuracy: 0.9821\n",
            "Epoch 216/400\n",
            "181/181 [==============================] - 1s 5ms/step - loss: 7.4169e-04 - accuracy: 0.9762 - val_loss: 6.8381e-04 - val_accuracy: 0.9726\n",
            "Epoch 217/400\n",
            "181/181 [==============================] - 1s 5ms/step - loss: 7.3139e-04 - accuracy: 0.9776 - val_loss: 6.7017e-04 - val_accuracy: 0.9765\n",
            "Epoch 218/400\n",
            "181/181 [==============================] - 1s 5ms/step - loss: 7.4762e-04 - accuracy: 0.9758 - val_loss: 6.7310e-04 - val_accuracy: 0.9762\n",
            "Epoch 219/400\n",
            "181/181 [==============================] - 1s 5ms/step - loss: 7.3720e-04 - accuracy: 0.9776 - val_loss: 6.2873e-04 - val_accuracy: 0.9852\n",
            "Epoch 220/400\n",
            "181/181 [==============================] - 1s 5ms/step - loss: 7.3841e-04 - accuracy: 0.9772 - val_loss: 6.2716e-04 - val_accuracy: 0.9835\n",
            "Epoch 221/400\n",
            "181/181 [==============================] - 1s 5ms/step - loss: 7.3343e-04 - accuracy: 0.9774 - val_loss: 6.3883e-04 - val_accuracy: 0.9799\n",
            "Epoch 222/400\n",
            "181/181 [==============================] - 1s 5ms/step - loss: 7.3737e-04 - accuracy: 0.9769 - val_loss: 6.3147e-04 - val_accuracy: 0.9834\n",
            "Epoch 223/400\n",
            "181/181 [==============================] - 1s 5ms/step - loss: 7.3817e-04 - accuracy: 0.9763 - val_loss: 7.5409e-04 - val_accuracy: 0.9678\n",
            "Epoch 224/400\n",
            "181/181 [==============================] - 1s 5ms/step - loss: 7.3525e-04 - accuracy: 0.9774 - val_loss: 6.2411e-04 - val_accuracy: 0.9833\n",
            "Epoch 225/400\n",
            "181/181 [==============================] - 1s 5ms/step - loss: 7.2625e-04 - accuracy: 0.9771 - val_loss: 6.3168e-04 - val_accuracy: 0.9811\n",
            "Epoch 226/400\n",
            "181/181 [==============================] - 1s 5ms/step - loss: 7.3732e-04 - accuracy: 0.9762 - val_loss: 6.2637e-04 - val_accuracy: 0.9821\n",
            "Epoch 227/400\n",
            "181/181 [==============================] - 1s 5ms/step - loss: 7.2429e-04 - accuracy: 0.9761 - val_loss: 6.2421e-04 - val_accuracy: 0.9819\n",
            "Epoch 228/400\n",
            "181/181 [==============================] - 1s 5ms/step - loss: 7.2303e-04 - accuracy: 0.9779 - val_loss: 6.6096e-04 - val_accuracy: 0.9817\n",
            "Epoch 229/400\n",
            "181/181 [==============================] - 1s 6ms/step - loss: 7.3052e-04 - accuracy: 0.9758 - val_loss: 6.9538e-04 - val_accuracy: 0.9787\n",
            "Epoch 230/400\n",
            "181/181 [==============================] - 1s 5ms/step - loss: 7.3098e-04 - accuracy: 0.9779 - val_loss: 6.6242e-04 - val_accuracy: 0.9789\n",
            "Epoch 231/400\n",
            "181/181 [==============================] - 1s 5ms/step - loss: 7.3405e-04 - accuracy: 0.9760 - val_loss: 6.4580e-04 - val_accuracy: 0.9815\n",
            "Epoch 232/400\n",
            "181/181 [==============================] - 1s 5ms/step - loss: 7.2535e-04 - accuracy: 0.9771 - val_loss: 6.1839e-04 - val_accuracy: 0.9852\n",
            "Epoch 233/400\n",
            "181/181 [==============================] - 1s 5ms/step - loss: 7.2383e-04 - accuracy: 0.9780 - val_loss: 6.3550e-04 - val_accuracy: 0.9844\n",
            "Epoch 234/400\n",
            "181/181 [==============================] - 1s 5ms/step - loss: 7.2227e-04 - accuracy: 0.9778 - val_loss: 6.1581e-04 - val_accuracy: 0.9843\n",
            "Epoch 235/400\n",
            "181/181 [==============================] - 1s 5ms/step - loss: 7.2360e-04 - accuracy: 0.9764 - val_loss: 6.3439e-04 - val_accuracy: 0.9816\n",
            "Epoch 236/400\n",
            "181/181 [==============================] - 1s 5ms/step - loss: 7.2888e-04 - accuracy: 0.9768 - val_loss: 6.1410e-04 - val_accuracy: 0.9828\n",
            "Epoch 237/400\n",
            "181/181 [==============================] - 1s 5ms/step - loss: 7.1682e-04 - accuracy: 0.9775 - val_loss: 7.3175e-04 - val_accuracy: 0.9715\n",
            "Epoch 238/400\n",
            "181/181 [==============================] - 1s 5ms/step - loss: 7.2230e-04 - accuracy: 0.9770 - val_loss: 6.3598e-04 - val_accuracy: 0.9819\n",
            "Epoch 239/400\n",
            "181/181 [==============================] - 1s 5ms/step - loss: 7.1804e-04 - accuracy: 0.9776 - val_loss: 7.5910e-04 - val_accuracy: 0.9615\n",
            "Epoch 240/400\n",
            "181/181 [==============================] - 1s 5ms/step - loss: 7.2493e-04 - accuracy: 0.9764 - val_loss: 6.3176e-04 - val_accuracy: 0.9814\n",
            "Epoch 241/400\n",
            "181/181 [==============================] - 1s 5ms/step - loss: 7.2367e-04 - accuracy: 0.9774 - val_loss: 6.5141e-04 - val_accuracy: 0.9768\n",
            "Epoch 242/400\n",
            "181/181 [==============================] - 1s 5ms/step - loss: 7.2406e-04 - accuracy: 0.9772 - val_loss: 6.1411e-04 - val_accuracy: 0.9852\n",
            "Epoch 243/400\n",
            "181/181 [==============================] - 1s 5ms/step - loss: 7.2169e-04 - accuracy: 0.9777 - val_loss: 6.1869e-04 - val_accuracy: 0.9818\n",
            "Epoch 244/400\n",
            "181/181 [==============================] - 1s 5ms/step - loss: 7.2900e-04 - accuracy: 0.9761 - val_loss: 6.1777e-04 - val_accuracy: 0.9822\n",
            "Epoch 245/400\n",
            "181/181 [==============================] - 1s 5ms/step - loss: 7.1430e-04 - accuracy: 0.9776 - val_loss: 6.1682e-04 - val_accuracy: 0.9830\n",
            "Epoch 246/400\n",
            "181/181 [==============================] - 1s 5ms/step - loss: 7.1332e-04 - accuracy: 0.9775 - val_loss: 6.3301e-04 - val_accuracy: 0.9828\n",
            "Epoch 247/400\n",
            "181/181 [==============================] - 1s 5ms/step - loss: 7.1408e-04 - accuracy: 0.9784 - val_loss: 6.0796e-04 - val_accuracy: 0.9837\n",
            "Epoch 248/400\n",
            "181/181 [==============================] - 1s 5ms/step - loss: 7.1646e-04 - accuracy: 0.9774 - val_loss: 6.8817e-04 - val_accuracy: 0.9636\n",
            "Epoch 249/400\n",
            "181/181 [==============================] - 1s 5ms/step - loss: 7.2178e-04 - accuracy: 0.9767 - val_loss: 6.2685e-04 - val_accuracy: 0.9786\n",
            "Epoch 250/400\n",
            "181/181 [==============================] - 1s 5ms/step - loss: 7.1782e-04 - accuracy: 0.9768 - val_loss: 6.0917e-04 - val_accuracy: 0.9829\n",
            "Epoch 251/400\n",
            "181/181 [==============================] - 1s 5ms/step - loss: 7.1529e-04 - accuracy: 0.9772 - val_loss: 6.5469e-04 - val_accuracy: 0.9750\n",
            "Epoch 252/400\n",
            "181/181 [==============================] - 1s 6ms/step - loss: 7.1656e-04 - accuracy: 0.9768 - val_loss: 6.2398e-04 - val_accuracy: 0.9839\n",
            "Epoch 253/400\n",
            "181/181 [==============================] - 1s 5ms/step - loss: 7.1081e-04 - accuracy: 0.9779 - val_loss: 6.4508e-04 - val_accuracy: 0.9748\n",
            "Epoch 254/400\n",
            "181/181 [==============================] - 1s 6ms/step - loss: 7.1665e-04 - accuracy: 0.9771 - val_loss: 6.0730e-04 - val_accuracy: 0.9837\n",
            "Epoch 255/400\n",
            "181/181 [==============================] - 1s 6ms/step - loss: 7.1334e-04 - accuracy: 0.9762 - val_loss: 6.0537e-04 - val_accuracy: 0.9830\n",
            "Epoch 256/400\n",
            "181/181 [==============================] - 1s 5ms/step - loss: 7.1095e-04 - accuracy: 0.9770 - val_loss: 6.2386e-04 - val_accuracy: 0.9779\n",
            "Epoch 257/400\n",
            "181/181 [==============================] - 1s 5ms/step - loss: 7.0830e-04 - accuracy: 0.9774 - val_loss: 7.3241e-04 - val_accuracy: 0.9645\n",
            "Epoch 258/400\n",
            "181/181 [==============================] - 1s 6ms/step - loss: 7.1864e-04 - accuracy: 0.9764 - val_loss: 6.0678e-04 - val_accuracy: 0.9808\n",
            "Epoch 259/400\n",
            "181/181 [==============================] - 1s 6ms/step - loss: 7.1690e-04 - accuracy: 0.9775 - val_loss: 6.2650e-04 - val_accuracy: 0.9796\n",
            "Epoch 260/400\n",
            "181/181 [==============================] - 1s 6ms/step - loss: 7.0987e-04 - accuracy: 0.9771 - val_loss: 6.1270e-04 - val_accuracy: 0.9786\n",
            "Epoch 261/400\n",
            "181/181 [==============================] - 1s 6ms/step - loss: 7.0728e-04 - accuracy: 0.9779 - val_loss: 6.0683e-04 - val_accuracy: 0.9824\n",
            "Epoch 262/400\n",
            "181/181 [==============================] - 1s 6ms/step - loss: 7.0997e-04 - accuracy: 0.9763 - val_loss: 6.2776e-04 - val_accuracy: 0.9808\n",
            "Epoch 263/400\n",
            "181/181 [==============================] - 1s 5ms/step - loss: 7.1231e-04 - accuracy: 0.9776 - val_loss: 6.1377e-04 - val_accuracy: 0.9801\n",
            "Epoch 264/400\n",
            "181/181 [==============================] - 1s 5ms/step - loss: 7.1392e-04 - accuracy: 0.9772 - val_loss: 6.0184e-04 - val_accuracy: 0.9854\n",
            "Epoch 265/400\n",
            "181/181 [==============================] - 1s 6ms/step - loss: 7.0586e-04 - accuracy: 0.9780 - val_loss: 6.6613e-04 - val_accuracy: 0.9784\n",
            "Epoch 266/400\n",
            "181/181 [==============================] - 1s 5ms/step - loss: 7.1494e-04 - accuracy: 0.9762 - val_loss: 6.4374e-04 - val_accuracy: 0.9804\n",
            "Epoch 267/400\n",
            "181/181 [==============================] - 1s 5ms/step - loss: 7.0582e-04 - accuracy: 0.9773 - val_loss: 6.6885e-04 - val_accuracy: 0.9789\n",
            "Epoch 268/400\n",
            "181/181 [==============================] - 1s 5ms/step - loss: 7.0789e-04 - accuracy: 0.9769 - val_loss: 6.2162e-04 - val_accuracy: 0.9794\n",
            "Epoch 269/400\n",
            "181/181 [==============================] - 1s 6ms/step - loss: 7.0454e-04 - accuracy: 0.9770 - val_loss: 6.2603e-04 - val_accuracy: 0.9821\n",
            "Epoch 270/400\n",
            "181/181 [==============================] - 1s 6ms/step - loss: 7.0486e-04 - accuracy: 0.9780 - val_loss: 6.4077e-04 - val_accuracy: 0.9779\n",
            "Epoch 271/400\n",
            "181/181 [==============================] - 1s 5ms/step - loss: 7.0198e-04 - accuracy: 0.9773 - val_loss: 5.9784e-04 - val_accuracy: 0.9847\n",
            "Epoch 272/400\n",
            "181/181 [==============================] - 1s 6ms/step - loss: 7.1142e-04 - accuracy: 0.9772 - val_loss: 6.2377e-04 - val_accuracy: 0.9753\n",
            "Epoch 273/400\n",
            "181/181 [==============================] - 1s 5ms/step - loss: 7.1527e-04 - accuracy: 0.9765 - val_loss: 6.0498e-04 - val_accuracy: 0.9841\n",
            "Epoch 274/400\n",
            "181/181 [==============================] - 1s 5ms/step - loss: 7.0325e-04 - accuracy: 0.9773 - val_loss: 6.2476e-04 - val_accuracy: 0.9809\n",
            "Epoch 275/400\n",
            "181/181 [==============================] - 1s 5ms/step - loss: 7.0653e-04 - accuracy: 0.9761 - val_loss: 6.0816e-04 - val_accuracy: 0.9842\n",
            "Epoch 276/400\n",
            "181/181 [==============================] - 1s 6ms/step - loss: 7.0609e-04 - accuracy: 0.9774 - val_loss: 6.3496e-04 - val_accuracy: 0.9814\n",
            "Epoch 277/400\n",
            "181/181 [==============================] - 1s 5ms/step - loss: 7.0266e-04 - accuracy: 0.9769 - val_loss: 6.1248e-04 - val_accuracy: 0.9843\n",
            "Epoch 278/400\n",
            "181/181 [==============================] - 1s 5ms/step - loss: 7.0014e-04 - accuracy: 0.9763 - val_loss: 5.9414e-04 - val_accuracy: 0.9850\n",
            "Epoch 279/400\n",
            "181/181 [==============================] - 1s 5ms/step - loss: 7.0518e-04 - accuracy: 0.9765 - val_loss: 6.2880e-04 - val_accuracy: 0.9796\n",
            "Epoch 280/400\n",
            "181/181 [==============================] - 1s 6ms/step - loss: 7.0135e-04 - accuracy: 0.9775 - val_loss: 5.9465e-04 - val_accuracy: 0.9847\n",
            "Epoch 281/400\n",
            "181/181 [==============================] - 1s 6ms/step - loss: 6.9968e-04 - accuracy: 0.9775 - val_loss: 6.4345e-04 - val_accuracy: 0.9743\n",
            "Epoch 282/400\n",
            "181/181 [==============================] - 1s 5ms/step - loss: 7.0611e-04 - accuracy: 0.9779 - val_loss: 5.9853e-04 - val_accuracy: 0.9851\n",
            "Epoch 283/400\n",
            "181/181 [==============================] - 1s 5ms/step - loss: 7.0127e-04 - accuracy: 0.9772 - val_loss: 5.9218e-04 - val_accuracy: 0.9844\n",
            "Epoch 284/400\n",
            "181/181 [==============================] - 1s 5ms/step - loss: 6.9787e-04 - accuracy: 0.9779 - val_loss: 6.0111e-04 - val_accuracy: 0.9805\n",
            "Epoch 285/400\n",
            "181/181 [==============================] - 1s 6ms/step - loss: 7.0613e-04 - accuracy: 0.9754 - val_loss: 6.2136e-04 - val_accuracy: 0.9754\n",
            "Epoch 286/400\n",
            "181/181 [==============================] - 1s 6ms/step - loss: 6.9417e-04 - accuracy: 0.9782 - val_loss: 6.0304e-04 - val_accuracy: 0.9790\n",
            "Epoch 287/400\n",
            "181/181 [==============================] - 1s 6ms/step - loss: 6.9445e-04 - accuracy: 0.9773 - val_loss: 6.0609e-04 - val_accuracy: 0.9804\n",
            "Epoch 288/400\n",
            "181/181 [==============================] - 1s 5ms/step - loss: 6.9502e-04 - accuracy: 0.9772 - val_loss: 6.5573e-04 - val_accuracy: 0.9772\n",
            "Epoch 289/400\n",
            "181/181 [==============================] - 1s 6ms/step - loss: 7.1330e-04 - accuracy: 0.9753 - val_loss: 6.1416e-04 - val_accuracy: 0.9802\n",
            "Epoch 290/400\n",
            "181/181 [==============================] - 1s 6ms/step - loss: 6.9191e-04 - accuracy: 0.9774 - val_loss: 5.9558e-04 - val_accuracy: 0.9833\n",
            "Epoch 291/400\n",
            "181/181 [==============================] - 1s 6ms/step - loss: 6.9431e-04 - accuracy: 0.9779 - val_loss: 6.3618e-04 - val_accuracy: 0.9761\n",
            "Epoch 292/400\n",
            "181/181 [==============================] - 1s 5ms/step - loss: 6.9774e-04 - accuracy: 0.9764 - val_loss: 5.9101e-04 - val_accuracy: 0.9836\n",
            "Epoch 293/400\n",
            "181/181 [==============================] - 1s 6ms/step - loss: 6.9102e-04 - accuracy: 0.9771 - val_loss: 5.9366e-04 - val_accuracy: 0.9851\n",
            "Epoch 294/400\n",
            "181/181 [==============================] - 1s 6ms/step - loss: 6.9105e-04 - accuracy: 0.9772 - val_loss: 5.9797e-04 - val_accuracy: 0.9840\n",
            "Epoch 295/400\n",
            "181/181 [==============================] - 1s 6ms/step - loss: 6.9017e-04 - accuracy: 0.9779 - val_loss: 6.7566e-04 - val_accuracy: 0.9683\n",
            "Epoch 296/400\n",
            "181/181 [==============================] - 1s 6ms/step - loss: 7.0236e-04 - accuracy: 0.9758 - val_loss: 6.4233e-04 - val_accuracy: 0.9725\n",
            "Epoch 297/400\n",
            "181/181 [==============================] - 1s 5ms/step - loss: 6.9213e-04 - accuracy: 0.9764 - val_loss: 5.9462e-04 - val_accuracy: 0.9811\n",
            "Epoch 298/400\n",
            "181/181 [==============================] - 1s 6ms/step - loss: 7.0314e-04 - accuracy: 0.9758 - val_loss: 6.0354e-04 - val_accuracy: 0.9817\n",
            "Epoch 299/400\n",
            "181/181 [==============================] - 1s 7ms/step - loss: 6.8980e-04 - accuracy: 0.9776 - val_loss: 5.9361e-04 - val_accuracy: 0.9845\n",
            "Epoch 300/400\n",
            "181/181 [==============================] - 1s 6ms/step - loss: 6.9214e-04 - accuracy: 0.9778 - val_loss: 5.9516e-04 - val_accuracy: 0.9825\n",
            "Epoch 301/400\n",
            "181/181 [==============================] - 1s 6ms/step - loss: 6.9017e-04 - accuracy: 0.9781 - val_loss: 5.8901e-04 - val_accuracy: 0.9833\n",
            "Epoch 302/400\n",
            "181/181 [==============================] - 1s 5ms/step - loss: 6.8808e-04 - accuracy: 0.9775 - val_loss: 5.8693e-04 - val_accuracy: 0.9846\n",
            "Epoch 303/400\n",
            "181/181 [==============================] - 1s 6ms/step - loss: 6.9082e-04 - accuracy: 0.9777 - val_loss: 6.0679e-04 - val_accuracy: 0.9815\n",
            "Epoch 304/400\n",
            "181/181 [==============================] - 1s 5ms/step - loss: 6.8874e-04 - accuracy: 0.9775 - val_loss: 5.9115e-04 - val_accuracy: 0.9851\n",
            "Epoch 305/400\n",
            "181/181 [==============================] - 1s 5ms/step - loss: 6.8802e-04 - accuracy: 0.9777 - val_loss: 6.0886e-04 - val_accuracy: 0.9777\n",
            "Epoch 306/400\n",
            "181/181 [==============================] - 1s 5ms/step - loss: 6.9136e-04 - accuracy: 0.9766 - val_loss: 5.8122e-04 - val_accuracy: 0.9852\n",
            "Epoch 307/400\n",
            "181/181 [==============================] - 1s 6ms/step - loss: 6.9293e-04 - accuracy: 0.9773 - val_loss: 6.3195e-04 - val_accuracy: 0.9785\n",
            "Epoch 308/400\n",
            "181/181 [==============================] - 1s 6ms/step - loss: 6.8920e-04 - accuracy: 0.9778 - val_loss: 5.7861e-04 - val_accuracy: 0.9837\n",
            "Epoch 309/400\n",
            "181/181 [==============================] - 1s 5ms/step - loss: 6.9142e-04 - accuracy: 0.9764 - val_loss: 5.9938e-04 - val_accuracy: 0.9793\n",
            "Epoch 310/400\n",
            "181/181 [==============================] - 1s 6ms/step - loss: 6.8615e-04 - accuracy: 0.9770 - val_loss: 5.8365e-04 - val_accuracy: 0.9836\n",
            "Epoch 311/400\n",
            "181/181 [==============================] - 1s 6ms/step - loss: 6.8806e-04 - accuracy: 0.9777 - val_loss: 5.8640e-04 - val_accuracy: 0.9836\n",
            "Epoch 312/400\n",
            "181/181 [==============================] - 1s 6ms/step - loss: 6.9293e-04 - accuracy: 0.9754 - val_loss: 5.8194e-04 - val_accuracy: 0.9829\n",
            "Epoch 313/400\n",
            "181/181 [==============================] - 1s 6ms/step - loss: 6.8199e-04 - accuracy: 0.9788 - val_loss: 6.0223e-04 - val_accuracy: 0.9833\n",
            "Epoch 314/400\n",
            "181/181 [==============================] - 1s 6ms/step - loss: 6.8384e-04 - accuracy: 0.9770 - val_loss: 5.9984e-04 - val_accuracy: 0.9791\n",
            "Epoch 315/400\n",
            "181/181 [==============================] - 1s 5ms/step - loss: 6.8108e-04 - accuracy: 0.9769 - val_loss: 5.9210e-04 - val_accuracy: 0.9803\n",
            "Epoch 316/400\n",
            "181/181 [==============================] - 1s 6ms/step - loss: 6.8728e-04 - accuracy: 0.9773 - val_loss: 6.0524e-04 - val_accuracy: 0.9755\n",
            "Epoch 317/400\n",
            "181/181 [==============================] - 1s 6ms/step - loss: 6.8513e-04 - accuracy: 0.9770 - val_loss: 6.3363e-04 - val_accuracy: 0.9694\n",
            "Epoch 318/400\n",
            "181/181 [==============================] - 1s 6ms/step - loss: 6.8919e-04 - accuracy: 0.9767 - val_loss: 5.7736e-04 - val_accuracy: 0.9836\n",
            "Epoch 319/400\n",
            "181/181 [==============================] - 1s 5ms/step - loss: 6.7627e-04 - accuracy: 0.9780 - val_loss: 5.7770e-04 - val_accuracy: 0.9819\n",
            "Epoch 320/400\n",
            "181/181 [==============================] - 1s 6ms/step - loss: 6.8138e-04 - accuracy: 0.9776 - val_loss: 5.8242e-04 - val_accuracy: 0.9824\n",
            "Epoch 321/400\n",
            "181/181 [==============================] - 1s 6ms/step - loss: 6.8994e-04 - accuracy: 0.9773 - val_loss: 6.3389e-04 - val_accuracy: 0.9707\n",
            "Epoch 322/400\n",
            "181/181 [==============================] - 1s 6ms/step - loss: 6.8398e-04 - accuracy: 0.9771 - val_loss: 5.8662e-04 - val_accuracy: 0.9805\n",
            "Epoch 323/400\n",
            "181/181 [==============================] - 1s 6ms/step - loss: 6.8113e-04 - accuracy: 0.9778 - val_loss: 5.8846e-04 - val_accuracy: 0.9811\n",
            "Epoch 324/400\n",
            "181/181 [==============================] - 1s 6ms/step - loss: 6.7860e-04 - accuracy: 0.9778 - val_loss: 5.7759e-04 - val_accuracy: 0.9826\n",
            "Epoch 325/400\n",
            "181/181 [==============================] - 1s 5ms/step - loss: 6.8643e-04 - accuracy: 0.9776 - val_loss: 5.9981e-04 - val_accuracy: 0.9773\n",
            "Epoch 326/400\n",
            "181/181 [==============================] - 1s 6ms/step - loss: 6.7878e-04 - accuracy: 0.9773 - val_loss: 5.7423e-04 - val_accuracy: 0.9819\n",
            "Epoch 327/400\n",
            "181/181 [==============================] - 1s 6ms/step - loss: 6.8192e-04 - accuracy: 0.9772 - val_loss: 5.7788e-04 - val_accuracy: 0.9827\n",
            "Epoch 328/400\n",
            "181/181 [==============================] - 1s 6ms/step - loss: 6.7978e-04 - accuracy: 0.9765 - val_loss: 6.0645e-04 - val_accuracy: 0.9747\n",
            "Epoch 329/400\n",
            "181/181 [==============================] - 1s 6ms/step - loss: 6.8891e-04 - accuracy: 0.9766 - val_loss: 6.0344e-04 - val_accuracy: 0.9768\n",
            "Epoch 330/400\n",
            "181/181 [==============================] - 1s 6ms/step - loss: 6.7546e-04 - accuracy: 0.9781 - val_loss: 5.7374e-04 - val_accuracy: 0.9848\n",
            "Epoch 331/400\n",
            "181/181 [==============================] - 1s 6ms/step - loss: 6.7541e-04 - accuracy: 0.9781 - val_loss: 5.8641e-04 - val_accuracy: 0.9845\n",
            "Epoch 332/400\n",
            "181/181 [==============================] - 1s 6ms/step - loss: 6.7831e-04 - accuracy: 0.9778 - val_loss: 5.7500e-04 - val_accuracy: 0.9827\n",
            "Epoch 333/400\n",
            "181/181 [==============================] - 1s 5ms/step - loss: 6.7966e-04 - accuracy: 0.9769 - val_loss: 5.8806e-04 - val_accuracy: 0.9847\n",
            "Epoch 334/400\n",
            "181/181 [==============================] - 1s 5ms/step - loss: 6.7912e-04 - accuracy: 0.9769 - val_loss: 5.9856e-04 - val_accuracy: 0.9834\n",
            "Epoch 335/400\n",
            "181/181 [==============================] - 1s 6ms/step - loss: 6.7582e-04 - accuracy: 0.9772 - val_loss: 5.7926e-04 - val_accuracy: 0.9863\n",
            "Epoch 336/400\n",
            "181/181 [==============================] - 1s 6ms/step - loss: 6.7709e-04 - accuracy: 0.9776 - val_loss: 5.7234e-04 - val_accuracy: 0.9843\n",
            "Epoch 337/400\n",
            "181/181 [==============================] - 1s 5ms/step - loss: 6.7742e-04 - accuracy: 0.9770 - val_loss: 5.9584e-04 - val_accuracy: 0.9845\n",
            "Epoch 338/400\n",
            "181/181 [==============================] - 1s 5ms/step - loss: 6.7534e-04 - accuracy: 0.9778 - val_loss: 6.6542e-04 - val_accuracy: 0.9732\n",
            "Epoch 339/400\n",
            "181/181 [==============================] - 1s 6ms/step - loss: 6.6948e-04 - accuracy: 0.9783 - val_loss: 5.7073e-04 - val_accuracy: 0.9829\n",
            "Epoch 340/400\n",
            "181/181 [==============================] - 1s 6ms/step - loss: 6.8242e-04 - accuracy: 0.9769 - val_loss: 5.7652e-04 - val_accuracy: 0.9819\n",
            "Epoch 341/400\n",
            "181/181 [==============================] - 1s 6ms/step - loss: 6.7974e-04 - accuracy: 0.9776 - val_loss: 5.7680e-04 - val_accuracy: 0.9822\n",
            "Epoch 342/400\n",
            "181/181 [==============================] - 1s 6ms/step - loss: 6.7636e-04 - accuracy: 0.9769 - val_loss: 5.7567e-04 - val_accuracy: 0.9836\n",
            "Epoch 343/400\n",
            "181/181 [==============================] - 1s 6ms/step - loss: 6.6687e-04 - accuracy: 0.9790 - val_loss: 5.9032e-04 - val_accuracy: 0.9784\n",
            "Epoch 344/400\n",
            "181/181 [==============================] - 1s 5ms/step - loss: 6.6658e-04 - accuracy: 0.9776 - val_loss: 5.7997e-04 - val_accuracy: 0.9802\n",
            "Epoch 345/400\n",
            "181/181 [==============================] - 1s 6ms/step - loss: 6.7012e-04 - accuracy: 0.9783 - val_loss: 5.8834e-04 - val_accuracy: 0.9819\n",
            "Epoch 346/400\n",
            "181/181 [==============================] - 1s 6ms/step - loss: 6.7279e-04 - accuracy: 0.9778 - val_loss: 5.8397e-04 - val_accuracy: 0.9763\n",
            "Epoch 347/400\n",
            "181/181 [==============================] - 1s 6ms/step - loss: 6.7814e-04 - accuracy: 0.9766 - val_loss: 5.6944e-04 - val_accuracy: 0.9845\n",
            "Epoch 348/400\n",
            "181/181 [==============================] - 1s 6ms/step - loss: 6.6789e-04 - accuracy: 0.9790 - val_loss: 6.1916e-04 - val_accuracy: 0.9739\n",
            "Epoch 349/400\n",
            "181/181 [==============================] - 1s 6ms/step - loss: 6.6537e-04 - accuracy: 0.9790 - val_loss: 6.1315e-04 - val_accuracy: 0.9748\n",
            "Epoch 350/400\n",
            "181/181 [==============================] - 1s 5ms/step - loss: 6.6730e-04 - accuracy: 0.9782 - val_loss: 5.6039e-04 - val_accuracy: 0.9850\n",
            "Epoch 351/400\n",
            "181/181 [==============================] - 1s 6ms/step - loss: 6.8109e-04 - accuracy: 0.9762 - val_loss: 5.7945e-04 - val_accuracy: 0.9837\n",
            "Epoch 352/400\n",
            "181/181 [==============================] - 1s 6ms/step - loss: 6.6290e-04 - accuracy: 0.9786 - val_loss: 5.7099e-04 - val_accuracy: 0.9854\n",
            "Epoch 353/400\n",
            "181/181 [==============================] - 1s 6ms/step - loss: 6.6820e-04 - accuracy: 0.9775 - val_loss: 7.1766e-04 - val_accuracy: 0.9633\n",
            "Epoch 354/400\n",
            "181/181 [==============================] - 1s 6ms/step - loss: 6.7000e-04 - accuracy: 0.9771 - val_loss: 5.8766e-04 - val_accuracy: 0.9797\n",
            "Epoch 355/400\n",
            "181/181 [==============================] - 1s 5ms/step - loss: 6.6899e-04 - accuracy: 0.9780 - val_loss: 5.8343e-04 - val_accuracy: 0.9858\n",
            "Epoch 356/400\n",
            "181/181 [==============================] - 1s 5ms/step - loss: 6.8263e-04 - accuracy: 0.9751 - val_loss: 5.9969e-04 - val_accuracy: 0.9798\n",
            "Epoch 357/400\n",
            "181/181 [==============================] - 1s 5ms/step - loss: 6.6753e-04 - accuracy: 0.9780 - val_loss: 5.8339e-04 - val_accuracy: 0.9825\n",
            "Epoch 358/400\n",
            "181/181 [==============================] - 1s 5ms/step - loss: 6.7355e-04 - accuracy: 0.9768 - val_loss: 6.3153e-04 - val_accuracy: 0.9732\n",
            "Epoch 359/400\n",
            "181/181 [==============================] - 1s 6ms/step - loss: 6.6898e-04 - accuracy: 0.9781 - val_loss: 5.6398e-04 - val_accuracy: 0.9816\n",
            "Epoch 360/400\n",
            "181/181 [==============================] - 1s 6ms/step - loss: 6.6008e-04 - accuracy: 0.9777 - val_loss: 5.6341e-04 - val_accuracy: 0.9826\n",
            "Epoch 361/400\n",
            "181/181 [==============================] - 1s 5ms/step - loss: 6.5996e-04 - accuracy: 0.9782 - val_loss: 5.5646e-04 - val_accuracy: 0.9846\n",
            "Epoch 362/400\n",
            "181/181 [==============================] - 1s 6ms/step - loss: 6.7150e-04 - accuracy: 0.9771 - val_loss: 6.1426e-04 - val_accuracy: 0.9766\n",
            "Epoch 363/400\n",
            "181/181 [==============================] - 1s 6ms/step - loss: 6.6982e-04 - accuracy: 0.9776 - val_loss: 5.5959e-04 - val_accuracy: 0.9844\n",
            "Epoch 364/400\n",
            "181/181 [==============================] - 1s 6ms/step - loss: 6.6432e-04 - accuracy: 0.9775 - val_loss: 5.6857e-04 - val_accuracy: 0.9834\n",
            "Epoch 365/400\n",
            "181/181 [==============================] - 1s 6ms/step - loss: 6.6048e-04 - accuracy: 0.9776 - val_loss: 5.7361e-04 - val_accuracy: 0.9780\n",
            "Epoch 366/400\n",
            "181/181 [==============================] - 1s 6ms/step - loss: 6.6568e-04 - accuracy: 0.9772 - val_loss: 6.0127e-04 - val_accuracy: 0.9783\n",
            "Epoch 367/400\n",
            "181/181 [==============================] - 1s 6ms/step - loss: 6.6369e-04 - accuracy: 0.9772 - val_loss: 5.8968e-04 - val_accuracy: 0.9827\n",
            "Epoch 368/400\n",
            "181/181 [==============================] - 1s 6ms/step - loss: 6.6166e-04 - accuracy: 0.9774 - val_loss: 6.2252e-04 - val_accuracy: 0.9793\n",
            "Epoch 369/400\n",
            "181/181 [==============================] - 1s 6ms/step - loss: 6.6567e-04 - accuracy: 0.9771 - val_loss: 5.7781e-04 - val_accuracy: 0.9797\n",
            "Epoch 370/400\n",
            "181/181 [==============================] - 1s 6ms/step - loss: 6.6888e-04 - accuracy: 0.9771 - val_loss: 7.2643e-04 - val_accuracy: 0.9606\n",
            "Epoch 371/400\n",
            "181/181 [==============================] - 1s 6ms/step - loss: 6.6914e-04 - accuracy: 0.9757 - val_loss: 6.1284e-04 - val_accuracy: 0.9748\n",
            "Epoch 372/400\n",
            "181/181 [==============================] - 1s 6ms/step - loss: 6.5870e-04 - accuracy: 0.9781 - val_loss: 5.7191e-04 - val_accuracy: 0.9803\n",
            "Epoch 373/400\n",
            "181/181 [==============================] - 1s 6ms/step - loss: 6.6112e-04 - accuracy: 0.9787 - val_loss: 5.5680e-04 - val_accuracy: 0.9844\n",
            "Epoch 374/400\n",
            "181/181 [==============================] - 1s 6ms/step - loss: 6.6371e-04 - accuracy: 0.9772 - val_loss: 5.8608e-04 - val_accuracy: 0.9760\n",
            "Epoch 375/400\n",
            "181/181 [==============================] - 1s 5ms/step - loss: 6.5842e-04 - accuracy: 0.9779 - val_loss: 5.5500e-04 - val_accuracy: 0.9845\n",
            "Epoch 376/400\n",
            "181/181 [==============================] - 1s 6ms/step - loss: 6.6753e-04 - accuracy: 0.9770 - val_loss: 5.5191e-04 - val_accuracy: 0.9851\n",
            "Epoch 377/400\n",
            "181/181 [==============================] - 1s 7ms/step - loss: 6.5475e-04 - accuracy: 0.9784 - val_loss: 5.9989e-04 - val_accuracy: 0.9700\n",
            "Epoch 378/400\n",
            "181/181 [==============================] - 1s 6ms/step - loss: 6.7153e-04 - accuracy: 0.9766 - val_loss: 5.6268e-04 - val_accuracy: 0.9819\n",
            "Epoch 379/400\n",
            "181/181 [==============================] - 1s 6ms/step - loss: 6.5898e-04 - accuracy: 0.9780 - val_loss: 5.8103e-04 - val_accuracy: 0.9797\n",
            "Epoch 380/400\n",
            "181/181 [==============================] - 1s 6ms/step - loss: 6.6278e-04 - accuracy: 0.9769 - val_loss: 5.6327e-04 - val_accuracy: 0.9827\n",
            "Epoch 381/400\n",
            "181/181 [==============================] - 1s 6ms/step - loss: 6.5493e-04 - accuracy: 0.9792 - val_loss: 5.7486e-04 - val_accuracy: 0.9807\n",
            "Epoch 382/400\n",
            "181/181 [==============================] - 1s 6ms/step - loss: 6.6651e-04 - accuracy: 0.9777 - val_loss: 6.0801e-04 - val_accuracy: 0.9815\n",
            "Epoch 383/400\n",
            "181/181 [==============================] - 1s 6ms/step - loss: 6.6351e-04 - accuracy: 0.9769 - val_loss: 6.0398e-04 - val_accuracy: 0.9746\n",
            "Epoch 384/400\n",
            "181/181 [==============================] - 1s 5ms/step - loss: 6.6180e-04 - accuracy: 0.9767 - val_loss: 5.9996e-04 - val_accuracy: 0.9809\n",
            "Epoch 385/400\n",
            "181/181 [==============================] - 1s 6ms/step - loss: 6.5765e-04 - accuracy: 0.9783 - val_loss: 5.8815e-04 - val_accuracy: 0.9776\n",
            "Epoch 386/400\n",
            "181/181 [==============================] - 1s 6ms/step - loss: 6.5676e-04 - accuracy: 0.9788 - val_loss: 5.4823e-04 - val_accuracy: 0.9851\n",
            "Epoch 387/400\n",
            "181/181 [==============================] - 1s 6ms/step - loss: 6.6361e-04 - accuracy: 0.9768 - val_loss: 5.4986e-04 - val_accuracy: 0.9864\n",
            "Epoch 388/400\n",
            "181/181 [==============================] - 1s 6ms/step - loss: 6.6194e-04 - accuracy: 0.9776 - val_loss: 5.9919e-04 - val_accuracy: 0.9748\n",
            "Epoch 389/400\n",
            "181/181 [==============================] - 1s 5ms/step - loss: 6.5992e-04 - accuracy: 0.9775 - val_loss: 5.6243e-04 - val_accuracy: 0.9818\n",
            "Epoch 390/400\n",
            "181/181 [==============================] - 1s 5ms/step - loss: 6.5153e-04 - accuracy: 0.9779 - val_loss: 5.6351e-04 - val_accuracy: 0.9850\n",
            "Epoch 391/400\n",
            "181/181 [==============================] - 1s 5ms/step - loss: 6.5778e-04 - accuracy: 0.9768 - val_loss: 5.7098e-04 - val_accuracy: 0.9793\n",
            "Epoch 392/400\n",
            "181/181 [==============================] - 1s 5ms/step - loss: 6.6173e-04 - accuracy: 0.9776 - val_loss: 5.5457e-04 - val_accuracy: 0.9861\n",
            "Epoch 393/400\n",
            "181/181 [==============================] - 1s 6ms/step - loss: 6.5765e-04 - accuracy: 0.9779 - val_loss: 5.6730e-04 - val_accuracy: 0.9815\n",
            "Epoch 394/400\n",
            "181/181 [==============================] - 1s 6ms/step - loss: 6.5654e-04 - accuracy: 0.9774 - val_loss: 5.6048e-04 - val_accuracy: 0.9797\n",
            "Epoch 395/400\n",
            "181/181 [==============================] - 1s 6ms/step - loss: 6.5744e-04 - accuracy: 0.9779 - val_loss: 5.6128e-04 - val_accuracy: 0.9846\n",
            "Epoch 396/400\n",
            "181/181 [==============================] - 1s 6ms/step - loss: 6.5530e-04 - accuracy: 0.9772 - val_loss: 5.5504e-04 - val_accuracy: 0.9822\n",
            "Epoch 397/400\n",
            "181/181 [==============================] - 1s 6ms/step - loss: 6.6502e-04 - accuracy: 0.9762 - val_loss: 6.1954e-04 - val_accuracy: 0.9682\n",
            "Epoch 398/400\n",
            "181/181 [==============================] - 1s 7ms/step - loss: 6.5026e-04 - accuracy: 0.9780 - val_loss: 5.7930e-04 - val_accuracy: 0.9746\n",
            "Epoch 399/400\n",
            "181/181 [==============================] - 1s 6ms/step - loss: 6.5978e-04 - accuracy: 0.9773 - val_loss: 5.7040e-04 - val_accuracy: 0.9847\n",
            "Epoch 400/400\n",
            "181/181 [==============================] - 1s 7ms/step - loss: 6.5165e-04 - accuracy: 0.9783 - val_loss: 5.4933e-04 - val_accuracy: 0.9848\n"
          ]
        }
      ]
    },
    {
      "cell_type": "markdown",
      "source": [
        "# Evaluate the training performance"
      ],
      "metadata": {
        "id": "hm2y2S51MH4s"
      }
    },
    {
      "cell_type": "code",
      "source": [
        "### Draw a graph of the loss, which is the distance between\n",
        "# the predicted and actual values during training and validation.\n",
        "train_loss = history_1.history['loss']\n",
        "val_loss = history_1.history['val_loss']\n",
        "accuracy = history_1.history['accuracy']\n",
        "val_accuracy = history_1.history['val_accuracy']\n",
        "\n",
        "epochs = range(1, len(train_loss) + 1)\n",
        "\n",
        "fig, ax1 = plt.subplots()\n",
        "\n",
        "p1 = ax1.plot(epochs, train_loss, 'b', label='Training loss')\n",
        "p2 = ax1.plot(epochs, val_loss, 'orange', label='Validation loss')\n",
        "\n",
        "ax2 = ax1.twinx()\n",
        "\n",
        "p3 = ax2.plot(epochs, accuracy, 'r', label='Accuracy')\n",
        "p4 = ax2.plot(epochs, val_accuracy, 'g', label='Validation Accuracy')\n",
        "\n",
        "ax1.set_title('Training and validation loss')\n",
        "ax1.set_xlabel('Epochs')\n",
        "ax1.set_ylabel('Loss')\n",
        "ax2.set_ylabel('accuracy')\n",
        "ax2.set_ylim([0.8,1])\n",
        "\n",
        "lns = p1+p2+p3+p4\n",
        "labs = [l.get_label() for l in lns]\n",
        "ax1.legend(lns, labs, loc='lower left')\n",
        "\n",
        "plt.show()"
      ],
      "metadata": {
        "id": "DO5sw9BxMK5E",
        "colab": {
          "base_uri": "https://localhost:8080/",
          "height": 295
        },
        "outputId": "19fdce40-02cb-4384-cc39-dc84c8020a37"
      },
      "execution_count": 828,
      "outputs": [
        {
          "output_type": "display_data",
          "data": {
            "text/plain": [
              "<Figure size 432x288 with 2 Axes>"
            ],
            "image/png": "[encoded data removed]"
          },
          "metadata": {
            "needs_background": "light"
          }
        }
      ]
    },
    {
      "cell_type": "code",
      "source": [
        "# evaluate the keras model\n",
        "_, accuracy = model_1.evaluate(y_validate, x_validate)\n",
        "print('Accuracy: %.2f' % (accuracy*100))"
      ],
      "metadata": {
        "colab": {
          "base_uri": "https://localhost:8080/"
        },
        "id": "kZ6rMEUZvYZ-",
        "outputId": "a79c8680-c57f-4c02-c96e-00b25e4afa4d"
      },
      "execution_count": 829,
      "outputs": [
        {
          "output_type": "stream",
          "name": "stdout",
          "text": [
            "625/625 [==============================] - 2s 2ms/step - loss: 5.4933e-04 - accuracy: 0.9848\n",
            "Accuracy: 98.48\n"
          ]
        }
      ]
    },
    {
      "cell_type": "code",
      "metadata": {
        "id": "i13eVIT3B9Mj",
        "outputId": "5ee4c30d-f833-45cc-bd53-3914100d9070",
        "colab": {
          "base_uri": "https://localhost:8080/"
        }
      },
      "source": [
        "# Test a couple of waveforms\n",
        "# remember:\n",
        "#     y = waveforms\n",
        "#     x = truth parameters\n",
        "\n",
        "x_test = x_values[1]\n",
        "y_test = np.array(generateTemplate(position = int(x_test[0]*SCALE_POS), \n",
        "                                   pulse_length = int(x_test[1]*SCALE_WIDTH), \n",
        "                                   height=int(x_test[2]*SCALE_HEIGHT), \n",
        "                                   noise=0\n",
        "                                   )/SCALE_HEIGHT)\n",
        "\n",
        "# waveform needs to be reshaped to be fed into ANN\n",
        "y_test = y_test.reshape(1,128)\n",
        "\n",
        "# try, whether we can reconstruct the parameters x_test from the waveform y_test\n",
        "model_1.make_predict_function()\n",
        "x_test_pred = np.array(model_1.predict(y_test)[0])\n",
        "\n",
        "print(\"sample pulse created: \", x_test)\n",
        "print(\"ANN reconstructed:    \", x_test_pred)"
      ],
      "execution_count": 830,
      "outputs": [
        {
          "output_type": "stream",
          "name": "stdout",
          "text": [
            "sample pulse created:  [0.40625   0.5       0.9254902]\n",
            "ANN reconstructed:     [0.42253935 0.50032115 0.90163016]\n"
          ]
        }
      ]
    },
    {
      "cell_type": "markdown",
      "source": [
        "## Have a look at the reconstructed parameters\n",
        "\n",
        "Get some random pulses, and have a look how they are reconstructed by the network.\n"
      ],
      "metadata": {
        "id": "A0DU0ZLx59Z8"
      }
    },
    {
      "cell_type": "code",
      "source": [
        "# number of test waveforms\n",
        "TEST_SAMPLES = 10000"
      ],
      "metadata": {
        "id": "BDet8lS36gIz"
      },
      "execution_count": 831,
      "outputs": []
    },
    {
      "cell_type": "code",
      "source": [
        "waveforms = []        # generated waveforms\n",
        "orig_parameters = []  # parameters, which are used for the generation\n",
        "NN_parameters = []    # parameters, reconstructed by the NN\n",
        "\n",
        "# vary the parameters to have a look a the performance outside the trained \n",
        "# parameter boundaries.\n",
        "parameter_variation = 0.0\n",
        "\n",
        "# increase the range of parameters in order to see, what is happening\n",
        "T_width    = ( P_width[0]    * (1 - parameter_variation) , P_width[1]    * (1 + parameter_variation) )\n",
        "T_position = ( P_position[0] * (1 - parameter_variation) , P_position[1] * (1 + parameter_variation) )\n",
        "T_height   = ( P_height[0]   * (1 - parameter_variation) , P_height[1]   * (1 + parameter_variation) )\n",
        "T_offset   = ( P_offset[0]   * (1 - parameter_variation) , P_offset[1]   * (1 + parameter_variation) )\n",
        "\n",
        "# generate the waveforms\n",
        "for i in range(TEST_SAMPLES):\n",
        "  # use random settings\n",
        "  width = np.random.randint( *T_width )\n",
        "  position = np.random.randint( *T_position )\n",
        "  height = np.random.randint( *T_height )\n",
        "  offset = np.random.randint( *T_offset )\n",
        "\n",
        "  waveforms.append( np.array(generateTemplate(position = position, pulse_length = width, height=height, noise=noise, offset=offset) / SCALE_HEIGHT ) )\n",
        "  orig_parameters.append( (width, position, height) )"
      ],
      "metadata": {
        "id": "qvu48FbE6UTm"
      },
      "execution_count": 832,
      "outputs": []
    },
    {
      "cell_type": "code",
      "source": [
        "for i in range(TEST_SAMPLES):\n",
        "  # waveform needs to be reshaped to be fed into ANN\n",
        "  waveform = waveforms[i].reshape(1,128)\n",
        "  width, position, height = model_1.predict(waveform)[0]\n",
        "  width *= SCALE_WIDTH\n",
        "  position *= SCALE_POS\n",
        "  height *= SCALE_HEIGHT\n",
        "\n",
        "  NN_parameters.append( (width, position, height))\n"
      ],
      "metadata": {
        "id": "IXDLAkyy6lrh"
      },
      "execution_count": 833,
      "outputs": []
    },
    {
      "cell_type": "code",
      "source": [
        "import time\n",
        "# save results for further plotting\n",
        "np.savez(\"colab_eval_%s_noise_%4.3f_%d.npz\"%(time.strftime(\"%Y%m%d_%H%M%S\"), noise, TEST_SAMPLES),\n",
        "             reco_params=NN_parameters,\n",
        "             gene_params=orig_parameters\n",
        "             )"
      ],
      "metadata": {
        "id": "V36brSa1Xy3N"
      },
      "execution_count": 834,
      "outputs": []
    },
    {
      "cell_type": "markdown",
      "source": [
        "Plot the distributions"
      ],
      "metadata": {
        "id": "GI7iIFsN7LMw"
      }
    },
    {
      "cell_type": "code",
      "source": [
        "plot_x = [k[0] for k in orig_parameters]\n",
        "plot_y = [k[0] for k in NN_parameters]\n",
        "plt.hist2d(plot_x, plot_y, bins=32, cmin=1, cmap='summer')\n",
        "plt.vlines(np.array(P_width),ymin=0, ymax=100)\n",
        "plt.plot( [np.min(plot_x), np.max(plot_x)], [np.min(plot_x), np.max(plot_x)])\n",
        "plt.colorbar()\n",
        "plt.title(\"Colab Width\")\n",
        "plt.ylabel(\"NN parameter\")\n",
        "plt.xlabel(\"truth parameter\")\n",
        "plt.show()"
      ],
      "metadata": {
        "id": "4abhDols7ORo",
        "colab": {
          "base_uri": "https://localhost:8080/",
          "height": 295
        },
        "outputId": "8dfc8a1e-1103-4be2-ea93-a4fa48c4b545"
      },
      "execution_count": 835,
      "outputs": [
        {
          "output_type": "display_data",
          "data": {
            "text/plain": [
              "<Figure size 432x288 with 2 Axes>"
            ],
            "image/png": "[encoded data removed]"
          },
          "metadata": {
            "needs_background": "light"
          }
        }
      ]
    },
    {
      "cell_type": "code",
      "source": [
        "plot_x = [k[1] for k in orig_parameters]\n",
        "plot_y = [k[1] for k in NN_parameters]\n",
        "plt.hist2d(plot_x, plot_y, bins=32, cmin=1, cmap='summer')\n",
        "plt.vlines(np.array(P_position),ymin=0, ymax=100)\n",
        "plt.plot( [np.min(plot_x), np.max(plot_x)], [np.min(plot_x), np.max(plot_x)])\n",
        "plt.colorbar()\n",
        "plt.title(\"Colab Postition\")\n",
        "plt.ylabel(\"NN parameter\")\n",
        "plt.xlabel(\"truth parameter\")\n",
        "plt.show()"
      ],
      "metadata": {
        "id": "ql9DsEfg72Px",
        "colab": {
          "base_uri": "https://localhost:8080/",
          "height": 295
        },
        "outputId": "d8947187-963d-4e93-e818-6961a07132c9"
      },
      "execution_count": 836,
      "outputs": [
        {
          "output_type": "display_data",
          "data": {
            "text/plain": [
              "<Figure size 432x288 with 2 Axes>"
            ],
            "image/png": "[encoded data removed]"
          },
          "metadata": {
            "needs_background": "light"
          }
        }
      ]
    },
    {
      "cell_type": "code",
      "source": [
        "plot_x = [k[2] for k in orig_parameters]\n",
        "plot_y = [k[2] for k in NN_parameters]\n",
        "plt.hist2d(plot_x, plot_y, bins=32, cmin=1, cmap='summer')\n",
        "plt.vlines(np.array(P_height),ymin=0, ymax=1000)\n",
        "plt.plot( [np.min(plot_x), np.max(plot_x)], [np.min(plot_x), np.max(plot_x)])\n",
        "plt.colorbar()\n",
        "plt.title(\"Colab Height\")\n",
        "plt.ylabel(\"NN parameter\")\n",
        "plt.xlabel(\"truth parameter\")\n",
        "plt.show()"
      ],
      "metadata": {
        "id": "4Co7DGIk740X",
        "colab": {
          "base_uri": "https://localhost:8080/",
          "height": 295
        },
        "outputId": "cb479ef9-c272-47ed-ff7f-e68f6077808d"
      },
      "execution_count": 837,
      "outputs": [
        {
          "output_type": "display_data",
          "data": {
            "text/plain": [
              "<Figure size 432x288 with 2 Axes>"
            ],
            "image/png": "[encoded data removed]"
          },
          "metadata": {
            "needs_background": "light"
          }
        }
      ]
    },
    {
      "cell_type": "markdown",
      "source": [
        "# What happens at zero input?\n",
        "What if the input array is all zero?"
      ],
      "metadata": {
        "id": "GQCZ_TBbD2cd"
      }
    },
    {
      "cell_type": "code",
      "source": [
        "# waveform needs to be reshaped to be fed into ANN\n",
        "waveform = np.zeros(128)\n",
        "waveform = waveform.reshape(1,128)\n",
        "print( model_1.predict(waveform)[0] )"
      ],
      "metadata": {
        "id": "bFAuP2x7EAWE",
        "colab": {
          "base_uri": "https://localhost:8080/"
        },
        "outputId": "3c4cfbcf-746b-4a8e-d9c6-396b07951c46"
      },
      "execution_count": 838,
      "outputs": [
        {
          "output_type": "stream",
          "name": "stdout",
          "text": [
            "[0.46407232 0.6108327  0.11496016]\n"
          ]
        }
      ]
    },
    {
      "cell_type": "markdown",
      "source": [
        "# Export to STM32"
      ],
      "metadata": {
        "id": "rB2GEVaYSFSn"
      }
    },
    {
      "cell_type": "markdown",
      "source": [
        "following:\n",
        "This [tutorial](https://www.digikey.de/en/maker/projects/tinyml-getting-started-with-stm32-x-cube-ai/f94e1c8bfc1e4b6291d0f672d780d2c0) from DigiKey "
      ],
      "metadata": {
        "id": "NMQ5nDGrXHo_"
      }
    },
    {
      "cell_type": "code",
      "source": [
        "# settings\n",
        "tflite_model_name = 'pulse_reco'  # Will be given .tflite suffix\n",
        "c_model_name = 'pulse_reco'       # Will be given .h suffix"
      ],
      "metadata": {
        "id": "aL0G5NQ8YULj"
      },
      "execution_count": 839,
      "outputs": []
    },
    {
      "cell_type": "code",
      "source": [
        "# Convert Keras model to a tflite model\n",
        "converter = tf.lite.TFLiteConverter.from_keras_model(model_1)\n",
        "converter.optimizations = [tf.lite.Optimize.DEFAULT]  # option OPTIMIZE_FOR_SIZE is deprecated\n",
        "tflite_model = converter.convert()\n",
        "\n",
        "open(tflite_model_name+'.tflite', 'wb').write(tflite_model)"
      ],
      "metadata": {
        "colab": {
          "base_uri": "https://localhost:8080/"
        },
        "id": "aRqSNF9LXy-4",
        "outputId": "e23229a8-ed48-4cf6-97c2-b952ab185100"
      },
      "execution_count": 840,
      "outputs": [
        {
          "output_type": "stream",
          "name": "stdout",
          "text": [
            "INFO:tensorflow:Assets written to: /tmp/tmpxi8is2tf/assets\n"
          ]
        },
        {
          "output_type": "stream",
          "name": "stderr",
          "text": [
            "INFO:tensorflow:Assets written to: /tmp/tmpxi8is2tf/assets\n",
            "WARNING:absl:Buffer deduplication procedure will be skipped when flatbuffer library is not properly loaded\n"
          ]
        },
        {
          "output_type": "execute_result",
          "data": {
            "text/plain": [
              "17376"
            ]
          },
          "metadata": {},
          "execution_count": 840
        }
      ]
    },
    {
      "cell_type": "markdown",
      "source": [
        "For usage inside the [STM32Cube.AI](https://www.st.com/content/st_com/en/support/learning/stm32-education/stm32-moocs/Introduction_to_STM32CubeAI_MOOC.html) it is sufficient to just have the tensorflow light model. The special export seems not be needed."
      ],
      "metadata": {
        "id": "oF93jw-v-FMP"
      }
    },
    {
      "cell_type": "markdown",
      "source": [
        "We have to define a special function, which exports our data into a H-file, which can be later used and included into our microcontroller code.\n",
        "\n",
        "The function is from https://gist.github.com/ShawnHymel/79237fe6aee5a3653c497d879f746c0c"
      ],
      "metadata": {
        "id": "tQG-2XJIZkFU"
      }
    },
    {
      "cell_type": "markdown",
      "source": [
        "## Test the TFlite model"
      ],
      "metadata": {
        "id": "gt7YY5yMGLrD"
      }
    },
    {
      "cell_type": "code",
      "source": [
        "# Load the TFLite model and allocate tensors.\n",
        "interpreter = tf.lite.Interpreter(model_path=tflite_model_name+\".tflite\")\n",
        "interpreter.allocate_tensors()\n",
        "\n",
        "# Get input and output tensors.\n",
        "input_details = interpreter.get_input_details()\n",
        "output_details = interpreter.get_output_details()\n",
        "\n",
        "# Test the model on random input data.\n",
        "input_shape = input_details[0]['shape']\n",
        "\n",
        "input_data = np.array( y_test, dtype=np.float32)\n",
        "interpreter.set_tensor(input_details[0]['index'], input_data)\n",
        "\n",
        "interpreter.invoke()\n",
        "\n",
        "output_data = interpreter.get_tensor(output_details[0]['index'])[0]\n",
        "\n",
        "print(\"sample pulse created:    \", x_test)\n",
        "print(\"TFlite reconstructed:    \", output_data)"
      ],
      "metadata": {
        "colab": {
          "base_uri": "https://localhost:8080/"
        },
        "id": "a_k8NQt_GRop",
        "outputId": "35fb8c1b-0f3d-424f-98a2-558c46676de2"
      },
      "execution_count": 841,
      "outputs": [
        {
          "output_type": "stream",
          "name": "stdout",
          "text": [
            "sample pulse created:     [0.40625   0.5       0.9254902]\n",
            "TFlite reconstructed:     [0.42610136 0.4993506  0.88939154]\n"
          ]
        }
      ]
    }
  ]
}