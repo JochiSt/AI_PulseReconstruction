{
  "nbformat": 4,
  "nbformat_minor": 0,
  "metadata": {
    "colab": {
      "name": "TestSTM32_AI.ipynb",
      "provenance": [],
      "collapsed_sections": [],
      "authorship_tag": "ABX9TyOZrqU0/+PXQKT/LscROqOq",
      "include_colab_link": true
    },
    "kernelspec": {
      "name": "python3",
      "display_name": "Python 3"
    },
    "language_info": {
      "name": "python"
    }
  },
  "cells": [
    {
      "cell_type": "markdown",
      "metadata": {
        "id": "view-in-github",
        "colab_type": "text"
      },
      "source": [
        "<a href=\"https://colab.research.google.com/github/JochiSt/AI_PulseReconstruction/blob/main/TestSTM32_AI.ipynb\" target=\"_parent\"><img src=\"https://colab.research.google.com/assets/colab-badge.svg\" alt=\"Open In Colab\"/></a>"
      ]
    },
    {
      "cell_type": "markdown",
      "source": [
        "# Pulse recognition AI\n",
        "\n",
        "first all the imports"
      ],
      "metadata": {
        "id": "brM0YAG3Vcen"
      }
    },
    {
      "cell_type": "code",
      "execution_count": 69,
      "metadata": {
        "id": "dW80rxgzVZ8z"
      },
      "outputs": [],
      "source": [
        "import numpy as np\n",
        "import matplotlib.pyplot as plt\n",
        "from matplotlib.colors import LogNorm"
      ]
    },
    {
      "cell_type": "markdown",
      "source": [
        "## Generate template"
      ],
      "metadata": {
        "id": "XUxegHb0V0qN"
      }
    },
    {
      "cell_type": "code",
      "source": [
        "TOTAL_SAMPLES = 128\n",
        "RISING_POINTS = 4\n",
        "\n",
        "def generateTemplate(position = 0, pulse_length = 32, height=1, noise=0):\n",
        "\n",
        "  assert TOTAL_SAMPLES - pulse_length - position - RISING_POINTS * 2 > 0\n",
        "\n",
        "  # zeroes at front of the pulse\n",
        "  template = np.zeros(position)\n",
        "\n",
        "  # create rising edge\n",
        "  template = np.append(template, np.linspace(0,1,RISING_POINTS, endpoint=False))\n",
        "\n",
        "  # high part of the pulse\n",
        "  template = np.append(template, np.ones(pulse_length))\n",
        "\n",
        "  # create falling edge\n",
        "  template = np.append(template, np.linspace(1,0,RISING_POINTS, endpoint=False))\n",
        "\n",
        "  # zeroes after the pulse\n",
        "  template = np.append(template, np.zeros( TOTAL_SAMPLES - pulse_length - position - 2*RISING_POINTS))\n",
        "\n",
        "  # multiply by the height to get the right amplitude\n",
        "  template *= height\n",
        "\n",
        "  # add some noise\n",
        "  template  += noise * np.random.randn(*template.shape)\n",
        "\n",
        "  # convert to integer\n",
        "  template = template.astype(int)\n",
        "\n",
        "  return template\n",
        "\n",
        "print(\"template length: \", len(generateTemplate()))"
      ],
      "metadata": {
        "colab": {
          "base_uri": "https://localhost:8080/"
        },
        "id": "RPOJ8P9jWBRa",
        "outputId": "afa49ebe-cd11-4f11-ebc9-96e58a39b0ff"
      },
      "execution_count": 70,
      "outputs": [
        {
          "output_type": "stream",
          "name": "stdout",
          "text": [
            "template length:  128\n"
          ]
        }
      ]
    },
    {
      "cell_type": "markdown",
      "source": [
        "Have a look at the template visually"
      ],
      "metadata": {
        "id": "I1PFw1tzV8kx"
      }
    },
    {
      "cell_type": "code",
      "source": [
        "plt.plot(generateTemplate(position = 32, pulse_length=32, height=128), 'b.')\n",
        "plt.plot(generateTemplate(position = 16, pulse_length=64, height=128), 'r.')\n",
        "plt.show()"
      ],
      "metadata": {
        "colab": {
          "base_uri": "https://localhost:8080/",
          "height": 265
        },
        "id": "L1VUYDhUWw9t",
        "outputId": "f7257285-8881-42e7-c143-0b9b57e714b4"
      },
      "execution_count": 71,
      "outputs": [
        {
          "output_type": "display_data",
          "data": {
            "text/plain": [
              "<Figure size 432x288 with 1 Axes>"
            ],
            "image/png": "[encoded data removed]"
          },
          "metadata": {
            "needs_background": "light"
          }
        }
      ]
    },
    {
      "cell_type": "markdown",
      "source": [
        "add some noise, and maybe shift the position\n",
        "\n",
        "\n",
        "\n"
      ],
      "metadata": {
        "id": "kYBulwl2XGvg"
      }
    },
    {
      "cell_type": "code",
      "source": [
        "# Plot our data\n",
        "plt.plot(generateTemplate(height=128, noise=1), 'b.')\n",
        "plt.show()"
      ],
      "metadata": {
        "id": "ouyegrmBXGJg",
        "colab": {
          "base_uri": "https://localhost:8080/",
          "height": 265
        },
        "outputId": "fddc86b5-821c-4a35-b729-e4136fc0f088"
      },
      "execution_count": 72,
      "outputs": [
        {
          "output_type": "display_data",
          "data": {
            "text/plain": [
              "<Figure size 432x288 with 1 Axes>"
            ],
            "image/png": "[encoded data removed]"
          },
          "metadata": {
            "needs_background": "light"
          }
        }
      ]
    },
    {
      "cell_type": "markdown",
      "source": [
        "## Create Templates for recognision\n",
        "\n",
        "Generate a couple of templates, which have a pulse in them, and some without any data"
      ],
      "metadata": {
        "id": "u1emwvE7ogUq"
      }
    },
    {
      "cell_type": "code",
      "source": [
        "for i in range(10):\n",
        "  width = np.random.randint(16, 64)               # width of 16 to 64\n",
        "  position = np.random.randint(0, high=96-width) # arbitrary position\n",
        "  noise = np.random.randint(1,30)/10.             # 0.1 to 3 LSB noise\n",
        "  height = np.random.randint(32,128)              # pulse height of 32 to 128\n",
        "\n",
        "  print(position, width, noise, height)\n",
        "  plt.plot(generateTemplate(position = position, pulse_length = width, height=height, noise=noise))\n",
        "\n",
        "plt.show()"
      ],
      "metadata": {
        "colab": {
          "base_uri": "https://localhost:8080/",
          "height": 449
        },
        "id": "1bzxxYb7odBS",
        "outputId": "2e4eaa3e-c358-4226-f427-94b4008f06be"
      },
      "execution_count": 73,
      "outputs": [
        {
          "output_type": "stream",
          "name": "stdout",
          "text": [
            "27 49 0.8 114\n",
            "70 19 2.9 115\n",
            "36 44 1.1 111\n",
            "26 24 2.6 74\n",
            "36 48 2.4 98\n",
            "43 27 1.3 106\n",
            "27 29 2.1 122\n",
            "35 45 1.6 90\n",
            "33 30 2.5 80\n",
            "53 40 0.7 82\n"
          ]
        },
        {
          "output_type": "display_data",
          "data": {
            "text/plain": [
              "<Figure size 432x288 with 1 Axes>"
            ],
            "image/png": "[encoded data removed]"
          },
          "metadata": {
            "needs_background": "light"
          }
        }
      ]
    },
    {
      "cell_type": "markdown",
      "source": [
        "# Building the ANN\n"
      ],
      "metadata": {
        "id": "gEwEaXGCzATx"
      }
    },
    {
      "cell_type": "markdown",
      "source": [
        "### Purpose of the ANN\n",
        "We want to do Pattern Recognition, based on the waveforms shown above.\n",
        "\n",
        "The output parameters, which we want to reconstruct are:\n",
        "*   Width\n",
        "*   Position\n",
        "*   height\n"
      ],
      "metadata": {
        "id": "xAJs9gcpMi9V"
      }
    },
    {
      "cell_type": "markdown",
      "source": [
        "Starting with importing all things, which we need for creating a model"
      ],
      "metadata": {
        "id": "ffHEzdBezI__"
      }
    },
    {
      "cell_type": "code",
      "source": [
        "# TensorFlow is an open source machine learning library\n",
        "import tensorflow as tf\n",
        "# Keras is TensorFlow's high-level API for deep learning\n",
        "from tensorflow import keras"
      ],
      "metadata": {
        "id": "AVbyQZoBzNxw"
      },
      "execution_count": 74,
      "outputs": []
    },
    {
      "cell_type": "code",
      "source": [
        "# number of samples for training, testing etc.\n",
        "SAMPLES = 10000"
      ],
      "metadata": {
        "id": "_2mfaOUkzo12"
      },
      "execution_count": 75,
      "outputs": []
    },
    {
      "cell_type": "markdown",
      "source": [
        "## Generate the samples\n",
        "We want to do Pattern recognition, so we have to link the waveforms to the input parameters."
      ],
      "metadata": {
        "id": "UCMepv3tzyM9"
      }
    },
    {
      "cell_type": "code",
      "source": [
        "# parameters for template generation\n",
        "P_width = (16,32)\n",
        "P_position = (16,24)\n",
        "P_height = (32, 128)"
      ],
      "metadata": {
        "id": "-g8CSmkVHUvM"
      },
      "execution_count": 76,
      "outputs": []
    },
    {
      "cell_type": "code",
      "source": [
        "# use fixed value for noise (1st try)\n",
        "noise = 1 \n",
        "\n",
        "y_values = []\n",
        "x_values = []\n",
        "\n",
        "# generate the waveforms\n",
        "for i in range(SAMPLES):\n",
        "  # use random settings\n",
        "  width = np.random.randint( *P_width )       # width\n",
        "  position = np.random.randint( *P_position ) # limit position into a certain window\n",
        "  height = np.random.randint( *P_height )     # pulse height\n",
        "\n",
        "  x_values.append( (width, position, height) )\n",
        "  y_values.append( generateTemplate(position = position, pulse_length = width, height=height, noise=noise) )\n",
        "\n",
        "# debug printouts\n",
        "#print(x_values[:2])\n",
        "#print(y_values[:2])"
      ],
      "metadata": {
        "id": "6uUa9b2pzviJ"
      },
      "execution_count": 77,
      "outputs": []
    },
    {
      "cell_type": "markdown",
      "source": [
        "### Look at the training data\n",
        "Just make a 2D histogram of all templates."
      ],
      "metadata": {
        "id": "M54DYG8PLBYg"
      }
    },
    {
      "cell_type": "code",
      "source": [
        "if True:\n",
        "  plot_x = [ np.arange(128) for i in range(len(y_values)) ]\n",
        "  plot_x = np.array(plot_x)\n",
        "  plot_x = plot_x.flatten()\n",
        "  plot_y = np.array(y_values)\n",
        "  plot_y = plot_y.flatten()\n",
        "  plt.hist2d(plot_x, plot_y, bins=128, norm=LogNorm())\n",
        "  plt.show()"
      ],
      "metadata": {
        "colab": {
          "base_uri": "https://localhost:8080/",
          "height": 265
        },
        "id": "oc_SbOCaLKKe",
        "outputId": "e02049df-7d70-45ad-9284-392479bbc750"
      },
      "execution_count": 78,
      "outputs": [
        {
          "output_type": "display_data",
          "data": {
            "text/plain": [
              "<Figure size 432x288 with 1 Axes>"
            ],
            "image/png": "[encoded data removed]"
          },
          "metadata": {
            "needs_background": "light"
          }
        }
      ]
    },
    {
      "cell_type": "markdown",
      "source": [
        "## Split the waveforms into Training, Testing and Validation"
      ],
      "metadata": {
        "id": "uxBiOKO90JG_"
      }
    },
    {
      "cell_type": "code",
      "source": [
        "# We'll use 60% of our data for training and 20% for testing. The remaining 20%\n",
        "# will be used for validation. Calculate the indices of each section.\n",
        "TRAIN_SPLIT =  int(0.6 * SAMPLES)\n",
        "TEST_SPLIT = int(0.2 * SAMPLES + TRAIN_SPLIT)\n",
        "print(\"using %d points for training and %d points for testing\"%(TRAIN_SPLIT, TEST_SPLIT))\n",
        "\n",
        "# convert data into numpy arrays\n",
        "y_values = np.array(y_values) # parameters\n",
        "x_values = np.array(x_values) # waveforms\n",
        "\n",
        "# Use np.split to chop our data into three parts.\n",
        "# The second argument to np.split is an array of indices where the data will be\n",
        "# split. We provide two indices, so the data will be divided into three chunks.\n",
        "x_train, x_test, x_validate = np.split(x_values, [TRAIN_SPLIT, TEST_SPLIT])\n",
        "y_train, y_test, y_validate = np.split(y_values, [TRAIN_SPLIT, TEST_SPLIT])\n",
        "\n",
        "# Double check that our splits add up correctly\n",
        "assert (len(x_train) + len(x_validate) + len(x_test) ) ==  SAMPLES"
      ],
      "metadata": {
        "id": "_gxWfkRezVf3",
        "colab": {
          "base_uri": "https://localhost:8080/"
        },
        "outputId": "3f5f22a9-166a-4e4a-d125-16530029153f"
      },
      "execution_count": 79,
      "outputs": [
        {
          "output_type": "stream",
          "name": "stdout",
          "text": [
            "using 6000 points for training and 8000 points for testing\n"
          ]
        }
      ]
    },
    {
      "cell_type": "markdown",
      "source": [
        "## Create the ANN"
      ],
      "metadata": {
        "id": "tfIC4_-l0Cc4"
      }
    },
    {
      "cell_type": "code",
      "source": [
        "inputs = keras.Input(shape=(128,), name=\"waveform_input\")\n",
        "\n",
        "layer_cnt=0\n",
        "x = keras.layers.Dense(64, name=\"layer_%d\"%(layer_cnt))(inputs)\n",
        "layer_cnt+=1\n",
        "\n",
        "x = keras.layers.Dense(32, name=\"layer_%d\"%(layer_cnt))(x)\n",
        "layer_cnt+=1\n",
        "\n",
        "# x = keras.layers.Dense(32, name=\"layer_%d\"%(layer_cnt))(x)\n",
        "# layer_cnt+=1\n",
        "\n",
        "x = keras.layers.Dense(32,  name=\"layer_%d\"%(layer_cnt))(x)\n",
        "layer_cnt+=1\n",
        "\n",
        "# final layer for classification\n",
        "outputs = keras.layers.Dense(3, name=\"classification\")(x)\n",
        "\n",
        "model_1 = keras.Model(inputs=inputs, outputs=outputs)\n",
        "model_1.summary()\n",
        "\n",
        "# Compile the model using the standard 'adam' optimizer and the mean squared error or 'mse' loss function for regression.\n",
        "model_1.compile(optimizer='adam', loss='mse', metrics=['mae'])"
      ],
      "metadata": {
        "id": "FbTg1F3s0BTe",
        "colab": {
          "base_uri": "https://localhost:8080/"
        },
        "outputId": "d63f9263-45f1-4c69-c724-afc7c916b3a3"
      },
      "execution_count": 80,
      "outputs": [
        {
          "output_type": "stream",
          "name": "stdout",
          "text": [
            "Model: \"model_1\"\n",
            "_________________________________________________________________\n",
            " Layer (type)                Output Shape              Param #   \n",
            "=================================================================\n",
            " waveform_input (InputLayer)  [(None, 128)]            0         \n",
            "                                                                 \n",
            " layer_0 (Dense)             (None, 64)                8256      \n",
            "                                                                 \n",
            " layer_1 (Dense)             (None, 32)                2080      \n",
            "                                                                 \n",
            " layer_2 (Dense)             (None, 32)                1056      \n",
            "                                                                 \n",
            " classification (Dense)      (None, 3)                 99        \n",
            "                                                                 \n",
            "=================================================================\n",
            "Total params: 11,491\n",
            "Trainable params: 11,491\n",
            "Non-trainable params: 0\n",
            "_________________________________________________________________\n"
          ]
        }
      ]
    },
    {
      "cell_type": "markdown",
      "source": [
        "## Train the model"
      ],
      "metadata": {
        "id": "hjz2ghXbL9Ok"
      }
    },
    {
      "cell_type": "code",
      "source": [
        "# Train the model on our training data while validating on our validation set\n",
        "# remember:\n",
        "#     y = waveforms\n",
        "#     x = truth parameters\n",
        "# just do some trainings to see, whether this structure works or not\n",
        "\n",
        "history_1 = model_1.fit(y_train, x_train, epochs=4, batch_size=25, validation_data=(y_validate, x_validate))"
      ],
      "metadata": {
        "colab": {
          "base_uri": "https://localhost:8080/"
        },
        "id": "Zsx72tmvxNnj",
        "outputId": "6ee6b14a-b9c1-4964-dbad-01ae7982519a"
      },
      "execution_count": 81,
      "outputs": [
        {
          "output_type": "stream",
          "name": "stdout",
          "text": [
            "Epoch 1/4\n",
            "240/240 [==============================] - 1s 3ms/step - loss: 113.1218 - mae: 6.8601 - val_loss: 38.8760 - val_mae: 4.7301\n",
            "Epoch 2/4\n",
            "240/240 [==============================] - 1s 3ms/step - loss: 36.7755 - mae: 4.6151 - val_loss: 37.6021 - val_mae: 4.4740\n",
            "Epoch 3/4\n",
            "240/240 [==============================] - 1s 3ms/step - loss: 33.3378 - mae: 4.4203 - val_loss: 28.4726 - val_mae: 4.1148\n",
            "Epoch 4/4\n",
            "240/240 [==============================] - 1s 3ms/step - loss: 29.2457 - mae: 4.1898 - val_loss: 23.9939 - val_mae: 3.7102\n"
          ]
        }
      ]
    },
    {
      "cell_type": "code",
      "source": [
        "# fully train the network\n",
        "history_1 = model_1.fit(y_train, x_train, epochs=500, batch_size=50, validation_data=(y_validate, x_validate))\n",
        "\n",
        "# Save the model to disk\n",
        "!mkdir -p saved_model\n",
        "model_1.save('saved_model/STM32_AI_Test')"
      ],
      "metadata": {
        "colab": {
          "base_uri": "https://localhost:8080/"
        },
        "id": "xMQfeuZ_L7QU",
        "outputId": "ca888490-c757-4978-dba2-991ba6cb40cc"
      },
      "execution_count": 82,
      "outputs": [
        {
          "output_type": "stream",
          "name": "stdout",
          "text": [
            "Epoch 1/500\n",
            "120/120 [==============================] - 1s 5ms/step - loss: 24.1898 - mae: 3.8072 - val_loss: 22.3235 - val_mae: 3.6305\n",
            "Epoch 2/500\n",
            "120/120 [==============================] - 0s 4ms/step - loss: 21.2560 - mae: 3.5732 - val_loss: 18.0665 - val_mae: 3.2961\n",
            "Epoch 3/500\n",
            "120/120 [==============================] - 1s 4ms/step - loss: 18.0694 - mae: 3.2815 - val_loss: 14.9399 - val_mae: 2.9793\n",
            "Epoch 4/500\n",
            "120/120 [==============================] - 0s 4ms/step - loss: 15.8984 - mae: 3.0850 - val_loss: 13.4507 - val_mae: 2.8152\n",
            "Epoch 5/500\n",
            "120/120 [==============================] - 0s 4ms/step - loss: 12.3881 - mae: 2.6892 - val_loss: 14.0727 - val_mae: 2.8014\n",
            "Epoch 6/500\n",
            "120/120 [==============================] - 0s 4ms/step - loss: 10.4887 - mae: 2.4564 - val_loss: 7.4638 - val_mae: 2.0670\n",
            "Epoch 7/500\n",
            "120/120 [==============================] - 1s 4ms/step - loss: 7.1174 - mae: 2.0158 - val_loss: 4.6275 - val_mae: 1.5814\n",
            "Epoch 8/500\n",
            "120/120 [==============================] - 0s 4ms/step - loss: 5.7132 - mae: 1.7781 - val_loss: 7.1184 - val_mae: 2.1336\n",
            "Epoch 9/500\n",
            "120/120 [==============================] - 0s 4ms/step - loss: 5.5959 - mae: 1.6634 - val_loss: 7.7946 - val_mae: 2.2321\n",
            "Epoch 10/500\n",
            "120/120 [==============================] - 0s 3ms/step - loss: 7.9922 - mae: 1.9953 - val_loss: 4.1583 - val_mae: 1.3886\n",
            "Epoch 11/500\n",
            "120/120 [==============================] - 1s 4ms/step - loss: 3.9360 - mae: 1.4119 - val_loss: 3.3340 - val_mae: 1.3332\n",
            "Epoch 12/500\n",
            "120/120 [==============================] - 0s 4ms/step - loss: 2.4978 - mae: 1.1448 - val_loss: 2.1818 - val_mae: 1.0778\n",
            "Epoch 13/500\n",
            "120/120 [==============================] - 1s 4ms/step - loss: 2.6727 - mae: 1.1941 - val_loss: 9.2199 - val_mae: 2.1904\n",
            "Epoch 14/500\n",
            "120/120 [==============================] - 1s 5ms/step - loss: 3.4738 - mae: 1.3093 - val_loss: 2.6489 - val_mae: 1.2456\n",
            "Epoch 15/500\n",
            "120/120 [==============================] - 1s 5ms/step - loss: 2.5540 - mae: 1.1584 - val_loss: 3.1650 - val_mae: 1.2418\n",
            "Epoch 16/500\n",
            "120/120 [==============================] - 1s 4ms/step - loss: 3.6500 - mae: 1.3587 - val_loss: 2.1983 - val_mae: 1.0762\n",
            "Epoch 17/500\n",
            "120/120 [==============================] - 1s 5ms/step - loss: 2.4852 - mae: 1.1326 - val_loss: 2.0771 - val_mae: 1.0836\n",
            "Epoch 18/500\n",
            "120/120 [==============================] - 1s 5ms/step - loss: 2.2762 - mae: 1.0929 - val_loss: 2.5623 - val_mae: 1.2042\n",
            "Epoch 19/500\n",
            "120/120 [==============================] - 1s 4ms/step - loss: 2.7032 - mae: 1.1886 - val_loss: 2.7275 - val_mae: 1.1615\n",
            "Epoch 20/500\n",
            "120/120 [==============================] - 1s 4ms/step - loss: 3.2983 - mae: 1.3045 - val_loss: 1.7718 - val_mae: 0.9609\n",
            "Epoch 21/500\n",
            "120/120 [==============================] - 1s 4ms/step - loss: 2.6218 - mae: 1.1525 - val_loss: 2.1733 - val_mae: 1.1290\n",
            "Epoch 22/500\n",
            "120/120 [==============================] - 1s 4ms/step - loss: 2.4137 - mae: 1.1486 - val_loss: 3.0102 - val_mae: 1.3370\n",
            "Epoch 23/500\n",
            "120/120 [==============================] - 1s 4ms/step - loss: 2.3707 - mae: 1.1078 - val_loss: 1.4307 - val_mae: 0.8621\n",
            "Epoch 24/500\n",
            "120/120 [==============================] - 0s 4ms/step - loss: 3.3012 - mae: 1.2620 - val_loss: 2.0653 - val_mae: 1.0719\n",
            "Epoch 25/500\n",
            "120/120 [==============================] - 0s 3ms/step - loss: 3.7979 - mae: 1.3103 - val_loss: 2.1465 - val_mae: 1.0904\n",
            "Epoch 26/500\n",
            "120/120 [==============================] - 1s 4ms/step - loss: 1.9960 - mae: 1.0149 - val_loss: 4.8107 - val_mae: 1.6583\n",
            "Epoch 27/500\n",
            "120/120 [==============================] - 1s 4ms/step - loss: 4.1298 - mae: 1.4273 - val_loss: 3.3697 - val_mae: 1.3412\n",
            "Epoch 28/500\n",
            "120/120 [==============================] - 0s 4ms/step - loss: 2.4914 - mae: 1.1245 - val_loss: 2.0786 - val_mae: 0.9839\n",
            "Epoch 29/500\n",
            "120/120 [==============================] - 0s 4ms/step - loss: 1.7079 - mae: 0.9430 - val_loss: 1.3678 - val_mae: 0.8225\n",
            "Epoch 30/500\n",
            "120/120 [==============================] - 0s 3ms/step - loss: 1.9929 - mae: 1.0215 - val_loss: 1.4695 - val_mae: 0.8908\n",
            "Epoch 31/500\n",
            "120/120 [==============================] - 0s 4ms/step - loss: 1.9404 - mae: 1.0164 - val_loss: 2.5378 - val_mae: 1.2215\n",
            "Epoch 32/500\n",
            "120/120 [==============================] - 0s 3ms/step - loss: 2.3470 - mae: 1.1056 - val_loss: 2.0651 - val_mae: 1.0406\n",
            "Epoch 33/500\n",
            "120/120 [==============================] - 0s 3ms/step - loss: 2.2844 - mae: 1.0784 - val_loss: 2.1470 - val_mae: 1.0631\n",
            "Epoch 34/500\n",
            "120/120 [==============================] - 0s 3ms/step - loss: 2.3102 - mae: 1.0903 - val_loss: 1.7940 - val_mae: 1.0011\n",
            "Epoch 35/500\n",
            "120/120 [==============================] - 0s 4ms/step - loss: 2.4444 - mae: 1.1271 - val_loss: 1.7038 - val_mae: 0.9718\n",
            "Epoch 36/500\n",
            "120/120 [==============================] - 0s 3ms/step - loss: 2.1730 - mae: 1.0700 - val_loss: 1.3836 - val_mae: 0.8626\n",
            "Epoch 37/500\n",
            "120/120 [==============================] - 0s 4ms/step - loss: 3.2970 - mae: 1.2953 - val_loss: 3.1581 - val_mae: 1.3914\n",
            "Epoch 38/500\n",
            "120/120 [==============================] - 1s 4ms/step - loss: 1.8377 - mae: 0.9687 - val_loss: 1.4877 - val_mae: 0.8840\n",
            "Epoch 39/500\n",
            "120/120 [==============================] - 0s 4ms/step - loss: 1.7162 - mae: 0.9362 - val_loss: 2.4503 - val_mae: 1.1548\n",
            "Epoch 40/500\n",
            "120/120 [==============================] - 1s 4ms/step - loss: 1.6052 - mae: 0.9246 - val_loss: 1.7951 - val_mae: 1.0041\n",
            "Epoch 41/500\n",
            "120/120 [==============================] - 1s 4ms/step - loss: 2.4875 - mae: 1.1047 - val_loss: 1.4109 - val_mae: 0.8394\n",
            "Epoch 42/500\n",
            "120/120 [==============================] - 0s 3ms/step - loss: 3.3995 - mae: 1.3011 - val_loss: 2.4456 - val_mae: 1.1385\n",
            "Epoch 43/500\n",
            "120/120 [==============================] - 0s 4ms/step - loss: 1.5506 - mae: 0.8858 - val_loss: 1.7221 - val_mae: 0.9241\n",
            "Epoch 44/500\n",
            "120/120 [==============================] - 1s 4ms/step - loss: 2.6541 - mae: 1.1527 - val_loss: 4.1118 - val_mae: 1.5669\n",
            "Epoch 45/500\n",
            "120/120 [==============================] - 1s 5ms/step - loss: 2.3778 - mae: 1.1108 - val_loss: 1.4635 - val_mae: 0.8989\n",
            "Epoch 46/500\n",
            "120/120 [==============================] - 1s 5ms/step - loss: 1.9609 - mae: 1.0148 - val_loss: 1.9499 - val_mae: 0.9584\n",
            "Epoch 47/500\n",
            "120/120 [==============================] - 0s 3ms/step - loss: 2.2540 - mae: 1.0692 - val_loss: 1.2735 - val_mae: 0.8237\n",
            "Epoch 48/500\n",
            "120/120 [==============================] - 0s 4ms/step - loss: 1.6184 - mae: 0.9082 - val_loss: 1.4228 - val_mae: 0.8939\n",
            "Epoch 49/500\n",
            "120/120 [==============================] - 0s 3ms/step - loss: 4.2374 - mae: 1.4360 - val_loss: 1.9348 - val_mae: 0.9486\n",
            "Epoch 50/500\n",
            "120/120 [==============================] - 0s 3ms/step - loss: 1.6123 - mae: 0.8968 - val_loss: 1.1550 - val_mae: 0.7461\n",
            "Epoch 51/500\n",
            "120/120 [==============================] - 0s 4ms/step - loss: 1.4495 - mae: 0.8609 - val_loss: 2.0258 - val_mae: 0.9899\n",
            "Epoch 52/500\n",
            "120/120 [==============================] - 0s 3ms/step - loss: 1.7759 - mae: 0.9557 - val_loss: 1.5284 - val_mae: 0.9118\n",
            "Epoch 53/500\n",
            "120/120 [==============================] - 0s 4ms/step - loss: 1.9895 - mae: 1.0156 - val_loss: 4.5136 - val_mae: 1.5050\n",
            "Epoch 54/500\n",
            "120/120 [==============================] - 0s 4ms/step - loss: 1.8069 - mae: 0.9597 - val_loss: 2.3246 - val_mae: 1.1685\n",
            "Epoch 55/500\n",
            "120/120 [==============================] - 0s 4ms/step - loss: 1.6177 - mae: 0.9192 - val_loss: 1.1609 - val_mae: 0.7433\n",
            "Epoch 56/500\n",
            "120/120 [==============================] - 0s 4ms/step - loss: 1.7353 - mae: 0.9397 - val_loss: 1.7584 - val_mae: 0.9910\n",
            "Epoch 57/500\n",
            "120/120 [==============================] - 0s 4ms/step - loss: 1.5362 - mae: 0.8815 - val_loss: 1.5097 - val_mae: 0.8938\n",
            "Epoch 58/500\n",
            "120/120 [==============================] - 1s 4ms/step - loss: 1.9615 - mae: 1.0104 - val_loss: 1.4472 - val_mae: 0.8543\n",
            "Epoch 59/500\n",
            "120/120 [==============================] - 0s 3ms/step - loss: 1.8174 - mae: 0.9595 - val_loss: 3.0657 - val_mae: 1.3387\n",
            "Epoch 60/500\n",
            "120/120 [==============================] - 0s 4ms/step - loss: 1.8846 - mae: 0.9895 - val_loss: 1.5754 - val_mae: 0.9044\n",
            "Epoch 61/500\n",
            "120/120 [==============================] - 0s 4ms/step - loss: 1.6630 - mae: 0.9272 - val_loss: 1.3455 - val_mae: 0.8452\n",
            "Epoch 62/500\n",
            "120/120 [==============================] - 0s 4ms/step - loss: 1.7547 - mae: 0.9752 - val_loss: 1.4178 - val_mae: 0.7998\n",
            "Epoch 63/500\n",
            "120/120 [==============================] - 1s 4ms/step - loss: 1.7634 - mae: 0.9463 - val_loss: 1.6200 - val_mae: 0.8972\n",
            "Epoch 64/500\n",
            "120/120 [==============================] - 1s 5ms/step - loss: 2.0357 - mae: 1.0371 - val_loss: 1.6809 - val_mae: 0.8748\n",
            "Epoch 65/500\n",
            "120/120 [==============================] - 0s 4ms/step - loss: 1.6981 - mae: 0.9313 - val_loss: 2.1301 - val_mae: 1.0946\n",
            "Epoch 66/500\n",
            "120/120 [==============================] - 0s 3ms/step - loss: 2.5404 - mae: 1.1253 - val_loss: 1.9491 - val_mae: 1.0222\n",
            "Epoch 67/500\n",
            "120/120 [==============================] - 0s 4ms/step - loss: 1.5417 - mae: 0.8887 - val_loss: 1.7075 - val_mae: 0.9194\n",
            "Epoch 68/500\n",
            "120/120 [==============================] - 1s 5ms/step - loss: 1.7712 - mae: 0.9441 - val_loss: 2.6821 - val_mae: 1.1779\n",
            "Epoch 69/500\n",
            "120/120 [==============================] - 1s 5ms/step - loss: 1.5570 - mae: 0.8844 - val_loss: 1.2459 - val_mae: 0.7876\n",
            "Epoch 70/500\n",
            "120/120 [==============================] - 1s 5ms/step - loss: 1.9118 - mae: 0.9917 - val_loss: 2.6020 - val_mae: 1.2508\n",
            "Epoch 71/500\n",
            "120/120 [==============================] - 0s 4ms/step - loss: 1.5071 - mae: 0.8731 - val_loss: 1.1879 - val_mae: 0.7544\n",
            "Epoch 72/500\n",
            "120/120 [==============================] - 1s 4ms/step - loss: 1.6504 - mae: 0.9056 - val_loss: 1.6081 - val_mae: 0.8799\n",
            "Epoch 73/500\n",
            "120/120 [==============================] - 0s 3ms/step - loss: 2.0299 - mae: 1.0401 - val_loss: 1.3558 - val_mae: 0.8475\n",
            "Epoch 74/500\n",
            "120/120 [==============================] - 0s 4ms/step - loss: 1.4587 - mae: 0.8636 - val_loss: 1.9041 - val_mae: 0.9869\n",
            "Epoch 75/500\n",
            "120/120 [==============================] - 0s 4ms/step - loss: 1.7076 - mae: 0.9445 - val_loss: 1.7062 - val_mae: 0.9290\n",
            "Epoch 76/500\n",
            "120/120 [==============================] - 0s 4ms/step - loss: 1.5939 - mae: 0.8824 - val_loss: 2.2840 - val_mae: 1.0494\n",
            "Epoch 77/500\n",
            "120/120 [==============================] - 0s 4ms/step - loss: 2.0987 - mae: 1.0343 - val_loss: 1.5478 - val_mae: 0.8933\n",
            "Epoch 78/500\n",
            "120/120 [==============================] - 0s 4ms/step - loss: 1.8741 - mae: 0.9698 - val_loss: 1.4103 - val_mae: 0.8685\n",
            "Epoch 79/500\n",
            "120/120 [==============================] - 0s 4ms/step - loss: 1.3501 - mae: 0.8218 - val_loss: 1.2049 - val_mae: 0.7542\n",
            "Epoch 80/500\n",
            "120/120 [==============================] - 0s 4ms/step - loss: 1.3941 - mae: 0.8347 - val_loss: 1.2698 - val_mae: 0.8058\n",
            "Epoch 81/500\n",
            "120/120 [==============================] - 0s 4ms/step - loss: 1.6373 - mae: 0.9124 - val_loss: 1.9344 - val_mae: 1.1271\n",
            "Epoch 82/500\n",
            "120/120 [==============================] - 1s 4ms/step - loss: 1.8955 - mae: 1.0432 - val_loss: 1.8876 - val_mae: 1.0554\n",
            "Epoch 83/500\n",
            "120/120 [==============================] - 0s 4ms/step - loss: 1.4457 - mae: 0.8662 - val_loss: 2.2433 - val_mae: 1.0963\n",
            "Epoch 84/500\n",
            "120/120 [==============================] - 0s 3ms/step - loss: 1.8083 - mae: 0.9714 - val_loss: 1.2431 - val_mae: 0.7997\n",
            "Epoch 85/500\n",
            "120/120 [==============================] - 0s 3ms/step - loss: 1.5585 - mae: 0.8805 - val_loss: 2.0696 - val_mae: 1.0573\n",
            "Epoch 86/500\n",
            "120/120 [==============================] - 0s 4ms/step - loss: 1.8119 - mae: 0.9721 - val_loss: 1.6983 - val_mae: 0.9321\n",
            "Epoch 87/500\n",
            "120/120 [==============================] - 1s 5ms/step - loss: 1.4684 - mae: 0.8575 - val_loss: 1.5308 - val_mae: 0.9059\n",
            "Epoch 88/500\n",
            "120/120 [==============================] - 1s 5ms/step - loss: 1.7548 - mae: 0.9428 - val_loss: 1.3235 - val_mae: 0.8341\n",
            "Epoch 89/500\n",
            "120/120 [==============================] - 1s 4ms/step - loss: 1.4779 - mae: 0.8658 - val_loss: 3.2885 - val_mae: 1.4357\n",
            "Epoch 90/500\n",
            "120/120 [==============================] - 0s 3ms/step - loss: 1.6604 - mae: 0.9298 - val_loss: 2.0356 - val_mae: 1.0476\n",
            "Epoch 91/500\n",
            "120/120 [==============================] - 1s 4ms/step - loss: 1.6300 - mae: 0.9376 - val_loss: 1.4154 - val_mae: 0.8241\n",
            "Epoch 92/500\n",
            "120/120 [==============================] - 0s 3ms/step - loss: 1.8260 - mae: 0.9946 - val_loss: 1.2521 - val_mae: 0.7912\n",
            "Epoch 93/500\n",
            "120/120 [==============================] - 0s 4ms/step - loss: 1.4192 - mae: 0.8502 - val_loss: 1.4566 - val_mae: 0.8930\n",
            "Epoch 94/500\n",
            "120/120 [==============================] - 0s 4ms/step - loss: 1.4145 - mae: 0.8502 - val_loss: 1.3003 - val_mae: 0.8105\n",
            "Epoch 95/500\n",
            "120/120 [==============================] - 0s 3ms/step - loss: 1.5552 - mae: 0.8870 - val_loss: 1.1964 - val_mae: 0.7749\n",
            "Epoch 96/500\n",
            "120/120 [==============================] - 0s 4ms/step - loss: 1.3796 - mae: 0.8290 - val_loss: 1.1597 - val_mae: 0.7443\n",
            "Epoch 97/500\n",
            "120/120 [==============================] - 0s 4ms/step - loss: 1.5507 - mae: 0.8803 - val_loss: 1.2401 - val_mae: 0.7756\n",
            "Epoch 98/500\n",
            "120/120 [==============================] - 1s 4ms/step - loss: 1.5519 - mae: 0.8896 - val_loss: 1.2032 - val_mae: 0.7481\n",
            "Epoch 99/500\n",
            "120/120 [==============================] - 1s 4ms/step - loss: 1.3535 - mae: 0.8285 - val_loss: 1.6989 - val_mae: 0.9100\n",
            "Epoch 100/500\n",
            "120/120 [==============================] - 0s 4ms/step - loss: 1.7795 - mae: 0.9516 - val_loss: 1.4055 - val_mae: 0.8941\n",
            "Epoch 101/500\n",
            "120/120 [==============================] - 1s 4ms/step - loss: 1.5602 - mae: 0.9056 - val_loss: 1.2228 - val_mae: 0.7908\n",
            "Epoch 102/500\n",
            "120/120 [==============================] - 0s 4ms/step - loss: 1.4574 - mae: 0.8565 - val_loss: 1.8667 - val_mae: 0.9874\n",
            "Epoch 103/500\n",
            "120/120 [==============================] - 0s 4ms/step - loss: 1.8210 - mae: 0.9573 - val_loss: 1.0946 - val_mae: 0.7086\n",
            "Epoch 104/500\n",
            "120/120 [==============================] - 1s 4ms/step - loss: 1.3605 - mae: 0.8307 - val_loss: 1.1442 - val_mae: 0.7308\n",
            "Epoch 105/500\n",
            "120/120 [==============================] - 1s 4ms/step - loss: 1.5386 - mae: 0.8994 - val_loss: 2.1513 - val_mae: 1.1636\n",
            "Epoch 106/500\n",
            "120/120 [==============================] - 0s 4ms/step - loss: 1.8274 - mae: 0.9868 - val_loss: 1.5148 - val_mae: 0.8684\n",
            "Epoch 107/500\n",
            "120/120 [==============================] - 0s 4ms/step - loss: 1.3806 - mae: 0.8510 - val_loss: 1.6207 - val_mae: 1.0119\n",
            "Epoch 108/500\n",
            "120/120 [==============================] - 0s 3ms/step - loss: 1.3535 - mae: 0.8394 - val_loss: 1.1776 - val_mae: 0.7669\n",
            "Epoch 109/500\n",
            "120/120 [==============================] - 0s 3ms/step - loss: 1.3714 - mae: 0.8468 - val_loss: 1.2808 - val_mae: 0.8161\n",
            "Epoch 110/500\n",
            "120/120 [==============================] - 0s 4ms/step - loss: 1.4515 - mae: 0.8806 - val_loss: 1.4160 - val_mae: 0.8405\n",
            "Epoch 111/500\n",
            "120/120 [==============================] - 1s 4ms/step - loss: 1.4411 - mae: 0.8658 - val_loss: 1.3268 - val_mae: 0.8006\n",
            "Epoch 112/500\n",
            "120/120 [==============================] - 1s 4ms/step - loss: 1.5652 - mae: 0.9038 - val_loss: 1.6367 - val_mae: 0.9156\n",
            "Epoch 113/500\n",
            "120/120 [==============================] - 0s 4ms/step - loss: 1.5199 - mae: 0.9118 - val_loss: 1.2575 - val_mae: 0.7936\n",
            "Epoch 114/500\n",
            "120/120 [==============================] - 1s 4ms/step - loss: 1.3760 - mae: 0.8255 - val_loss: 1.3524 - val_mae: 0.8339\n",
            "Epoch 115/500\n",
            "120/120 [==============================] - 1s 4ms/step - loss: 1.7946 - mae: 0.9682 - val_loss: 1.1317 - val_mae: 0.7206\n",
            "Epoch 116/500\n",
            "120/120 [==============================] - 0s 4ms/step - loss: 1.3339 - mae: 0.8110 - val_loss: 1.2180 - val_mae: 0.7905\n",
            "Epoch 117/500\n",
            "120/120 [==============================] - 0s 4ms/step - loss: 1.3849 - mae: 0.8298 - val_loss: 1.3933 - val_mae: 0.8695\n",
            "Epoch 118/500\n",
            "120/120 [==============================] - 0s 4ms/step - loss: 1.2435 - mae: 0.7822 - val_loss: 1.1014 - val_mae: 0.7159\n",
            "Epoch 119/500\n",
            "120/120 [==============================] - 0s 4ms/step - loss: 1.5365 - mae: 0.8990 - val_loss: 1.6460 - val_mae: 0.9501\n",
            "Epoch 120/500\n",
            "120/120 [==============================] - 0s 3ms/step - loss: 1.3523 - mae: 0.8360 - val_loss: 1.6629 - val_mae: 0.9391\n",
            "Epoch 121/500\n",
            "120/120 [==============================] - 0s 4ms/step - loss: 1.3488 - mae: 0.8318 - val_loss: 1.1743 - val_mae: 0.7399\n",
            "Epoch 122/500\n",
            "120/120 [==============================] - 0s 3ms/step - loss: 1.3869 - mae: 0.8622 - val_loss: 1.5647 - val_mae: 0.9339\n",
            "Epoch 123/500\n",
            "120/120 [==============================] - 1s 4ms/step - loss: 1.3976 - mae: 0.8646 - val_loss: 1.2900 - val_mae: 0.8329\n",
            "Epoch 124/500\n",
            "120/120 [==============================] - 1s 4ms/step - loss: 1.7022 - mae: 0.9746 - val_loss: 1.7978 - val_mae: 0.9829\n",
            "Epoch 125/500\n",
            "120/120 [==============================] - 0s 4ms/step - loss: 1.4653 - mae: 0.8728 - val_loss: 1.1884 - val_mae: 0.7909\n",
            "Epoch 126/500\n",
            "120/120 [==============================] - 1s 4ms/step - loss: 1.3494 - mae: 0.8294 - val_loss: 1.5333 - val_mae: 0.9865\n",
            "Epoch 127/500\n",
            "120/120 [==============================] - 0s 4ms/step - loss: 1.3311 - mae: 0.8331 - val_loss: 1.4302 - val_mae: 0.8970\n",
            "Epoch 128/500\n",
            "120/120 [==============================] - 0s 4ms/step - loss: 1.3334 - mae: 0.8263 - val_loss: 1.1106 - val_mae: 0.7221\n",
            "Epoch 129/500\n",
            "120/120 [==============================] - 0s 4ms/step - loss: 1.2685 - mae: 0.8004 - val_loss: 1.1052 - val_mae: 0.7135\n",
            "Epoch 130/500\n",
            "120/120 [==============================] - 0s 4ms/step - loss: 1.3733 - mae: 0.8532 - val_loss: 1.2389 - val_mae: 0.8170\n",
            "Epoch 131/500\n",
            "120/120 [==============================] - 1s 4ms/step - loss: 1.3127 - mae: 0.8222 - val_loss: 1.2898 - val_mae: 0.8187\n",
            "Epoch 132/500\n",
            "120/120 [==============================] - 1s 5ms/step - loss: 1.3803 - mae: 0.8533 - val_loss: 2.1506 - val_mae: 1.0872\n",
            "Epoch 133/500\n",
            "120/120 [==============================] - 0s 4ms/step - loss: 1.2894 - mae: 0.8007 - val_loss: 1.1437 - val_mae: 0.7452\n",
            "Epoch 134/500\n",
            "120/120 [==============================] - 0s 4ms/step - loss: 1.2960 - mae: 0.8103 - val_loss: 1.5474 - val_mae: 0.9627\n",
            "Epoch 135/500\n",
            "120/120 [==============================] - 0s 4ms/step - loss: 1.2272 - mae: 0.7758 - val_loss: 1.2497 - val_mae: 0.7901\n",
            "Epoch 136/500\n",
            "120/120 [==============================] - 1s 5ms/step - loss: 1.2664 - mae: 0.7880 - val_loss: 1.2383 - val_mae: 0.7751\n",
            "Epoch 137/500\n",
            "120/120 [==============================] - 1s 5ms/step - loss: 1.4011 - mae: 0.8569 - val_loss: 1.1596 - val_mae: 0.7591\n",
            "Epoch 138/500\n",
            "120/120 [==============================] - 0s 4ms/step - loss: 1.2394 - mae: 0.7771 - val_loss: 1.2368 - val_mae: 0.7750\n",
            "Epoch 139/500\n",
            "120/120 [==============================] - 1s 4ms/step - loss: 1.3192 - mae: 0.8111 - val_loss: 1.6639 - val_mae: 0.9300\n",
            "Epoch 140/500\n",
            "120/120 [==============================] - 0s 4ms/step - loss: 1.2822 - mae: 0.8033 - val_loss: 1.4918 - val_mae: 0.8805\n",
            "Epoch 141/500\n",
            "120/120 [==============================] - 1s 5ms/step - loss: 1.4111 - mae: 0.8431 - val_loss: 1.4475 - val_mae: 0.8432\n",
            "Epoch 142/500\n",
            "120/120 [==============================] - 0s 4ms/step - loss: 1.4089 - mae: 0.8476 - val_loss: 2.6642 - val_mae: 1.2256\n",
            "Epoch 143/500\n",
            "120/120 [==============================] - 0s 4ms/step - loss: 1.4065 - mae: 0.8479 - val_loss: 1.1747 - val_mae: 0.7372\n",
            "Epoch 144/500\n",
            "120/120 [==============================] - 1s 5ms/step - loss: 1.2297 - mae: 0.7857 - val_loss: 1.3727 - val_mae: 0.8623\n",
            "Epoch 145/500\n",
            "120/120 [==============================] - 1s 6ms/step - loss: 1.3576 - mae: 0.8274 - val_loss: 1.1772 - val_mae: 0.7707\n",
            "Epoch 146/500\n",
            "120/120 [==============================] - 1s 5ms/step - loss: 1.2045 - mae: 0.7622 - val_loss: 1.2523 - val_mae: 0.7897\n",
            "Epoch 147/500\n",
            "120/120 [==============================] - 0s 4ms/step - loss: 1.2150 - mae: 0.7656 - val_loss: 1.3050 - val_mae: 0.8337\n",
            "Epoch 148/500\n",
            "120/120 [==============================] - 1s 5ms/step - loss: 1.3959 - mae: 0.8557 - val_loss: 2.0038 - val_mae: 1.0939\n",
            "Epoch 149/500\n",
            "120/120 [==============================] - 0s 4ms/step - loss: 1.2768 - mae: 0.8095 - val_loss: 1.5475 - val_mae: 0.9565\n",
            "Epoch 150/500\n",
            "120/120 [==============================] - 0s 4ms/step - loss: 1.2747 - mae: 0.8090 - val_loss: 1.1122 - val_mae: 0.7407\n",
            "Epoch 151/500\n",
            "120/120 [==============================] - 0s 4ms/step - loss: 1.2725 - mae: 0.7991 - val_loss: 1.1553 - val_mae: 0.7510\n",
            "Epoch 152/500\n",
            "120/120 [==============================] - 1s 11ms/step - loss: 1.2763 - mae: 0.8002 - val_loss: 1.0961 - val_mae: 0.7074\n",
            "Epoch 153/500\n",
            "120/120 [==============================] - 0s 4ms/step - loss: 1.1507 - mae: 0.7422 - val_loss: 1.3835 - val_mae: 0.8821\n",
            "Epoch 154/500\n",
            "120/120 [==============================] - 0s 4ms/step - loss: 1.3656 - mae: 0.8547 - val_loss: 1.0959 - val_mae: 0.7113\n",
            "Epoch 155/500\n",
            "120/120 [==============================] - 0s 4ms/step - loss: 1.2507 - mae: 0.7875 - val_loss: 1.1402 - val_mae: 0.7241\n",
            "Epoch 156/500\n",
            "120/120 [==============================] - 1s 4ms/step - loss: 1.2671 - mae: 0.7928 - val_loss: 1.3394 - val_mae: 0.8327\n",
            "Epoch 157/500\n",
            "120/120 [==============================] - 0s 4ms/step - loss: 1.2562 - mae: 0.7917 - val_loss: 1.1381 - val_mae: 0.7175\n",
            "Epoch 158/500\n",
            "120/120 [==============================] - 0s 4ms/step - loss: 1.1871 - mae: 0.7643 - val_loss: 1.1869 - val_mae: 0.7732\n",
            "Epoch 159/500\n",
            "120/120 [==============================] - 0s 4ms/step - loss: 1.3399 - mae: 0.8264 - val_loss: 1.1271 - val_mae: 0.7337\n",
            "Epoch 160/500\n",
            "120/120 [==============================] - 0s 4ms/step - loss: 1.2450 - mae: 0.7893 - val_loss: 1.1439 - val_mae: 0.7385\n",
            "Epoch 161/500\n",
            "120/120 [==============================] - 0s 3ms/step - loss: 1.2610 - mae: 0.7914 - val_loss: 1.2557 - val_mae: 0.8177\n",
            "Epoch 162/500\n",
            "120/120 [==============================] - 0s 3ms/step - loss: 1.2057 - mae: 0.7714 - val_loss: 1.2307 - val_mae: 0.8070\n",
            "Epoch 163/500\n",
            "120/120 [==============================] - 1s 4ms/step - loss: 1.2642 - mae: 0.8127 - val_loss: 1.4493 - val_mae: 0.9247\n",
            "Epoch 164/500\n",
            "120/120 [==============================] - 0s 4ms/step - loss: 1.2047 - mae: 0.7678 - val_loss: 1.3443 - val_mae: 0.8123\n",
            "Epoch 165/500\n",
            "120/120 [==============================] - 1s 4ms/step - loss: 1.2591 - mae: 0.7988 - val_loss: 1.4256 - val_mae: 0.8944\n",
            "Epoch 166/500\n",
            "120/120 [==============================] - 0s 4ms/step - loss: 1.1755 - mae: 0.7489 - val_loss: 1.1240 - val_mae: 0.7255\n",
            "Epoch 167/500\n",
            "120/120 [==============================] - 0s 4ms/step - loss: 1.2349 - mae: 0.7793 - val_loss: 1.2623 - val_mae: 0.7850\n",
            "Epoch 168/500\n",
            "120/120 [==============================] - 1s 4ms/step - loss: 1.2018 - mae: 0.7705 - val_loss: 1.1676 - val_mae: 0.7449\n",
            "Epoch 169/500\n",
            "120/120 [==============================] - 0s 4ms/step - loss: 1.4402 - mae: 0.8789 - val_loss: 1.0922 - val_mae: 0.7188\n",
            "Epoch 170/500\n",
            "120/120 [==============================] - 1s 8ms/step - loss: 1.1721 - mae: 0.7542 - val_loss: 1.1375 - val_mae: 0.7276\n",
            "Epoch 171/500\n",
            "120/120 [==============================] - 1s 6ms/step - loss: 1.1842 - mae: 0.7594 - val_loss: 1.1696 - val_mae: 0.7788\n",
            "Epoch 172/500\n",
            "120/120 [==============================] - 1s 8ms/step - loss: 1.2267 - mae: 0.7880 - val_loss: 1.4630 - val_mae: 0.8615\n",
            "Epoch 173/500\n",
            "120/120 [==============================] - 0s 4ms/step - loss: 1.2453 - mae: 0.7904 - val_loss: 1.2517 - val_mae: 0.8275\n",
            "Epoch 174/500\n",
            "120/120 [==============================] - 0s 4ms/step - loss: 1.2951 - mae: 0.8246 - val_loss: 1.2552 - val_mae: 0.8222\n",
            "Epoch 175/500\n",
            "120/120 [==============================] - 1s 4ms/step - loss: 1.1633 - mae: 0.7559 - val_loss: 1.0499 - val_mae: 0.6931\n",
            "Epoch 176/500\n",
            "120/120 [==============================] - 1s 4ms/step - loss: 1.2297 - mae: 0.7760 - val_loss: 1.1147 - val_mae: 0.7253\n",
            "Epoch 177/500\n",
            "120/120 [==============================] - 0s 4ms/step - loss: 1.2690 - mae: 0.8053 - val_loss: 1.2034 - val_mae: 0.7603\n",
            "Epoch 178/500\n",
            "120/120 [==============================] - 0s 3ms/step - loss: 1.2642 - mae: 0.7901 - val_loss: 1.2202 - val_mae: 0.7797\n",
            "Epoch 179/500\n",
            "120/120 [==============================] - 0s 4ms/step - loss: 1.2343 - mae: 0.7851 - val_loss: 1.0357 - val_mae: 0.6745\n",
            "Epoch 180/500\n",
            "120/120 [==============================] - 0s 4ms/step - loss: 1.1807 - mae: 0.7586 - val_loss: 1.0325 - val_mae: 0.6799\n",
            "Epoch 181/500\n",
            "120/120 [==============================] - 0s 4ms/step - loss: 1.1707 - mae: 0.7517 - val_loss: 1.1952 - val_mae: 0.7495\n",
            "Epoch 182/500\n",
            "120/120 [==============================] - 0s 4ms/step - loss: 1.1691 - mae: 0.7485 - val_loss: 1.1764 - val_mae: 0.7359\n",
            "Epoch 183/500\n",
            "120/120 [==============================] - 1s 5ms/step - loss: 1.1459 - mae: 0.7425 - val_loss: 1.2319 - val_mae: 0.7628\n",
            "Epoch 184/500\n",
            "120/120 [==============================] - 1s 4ms/step - loss: 1.1769 - mae: 0.7574 - val_loss: 1.2762 - val_mae: 0.8509\n",
            "Epoch 185/500\n",
            "120/120 [==============================] - 0s 4ms/step - loss: 1.2502 - mae: 0.8003 - val_loss: 1.4154 - val_mae: 0.8986\n",
            "Epoch 186/500\n",
            "120/120 [==============================] - 1s 4ms/step - loss: 1.1328 - mae: 0.7318 - val_loss: 1.2001 - val_mae: 0.7587\n",
            "Epoch 187/500\n",
            "120/120 [==============================] - 1s 5ms/step - loss: 1.1577 - mae: 0.7509 - val_loss: 1.1268 - val_mae: 0.7399\n",
            "Epoch 188/500\n",
            "120/120 [==============================] - 1s 4ms/step - loss: 1.1537 - mae: 0.7394 - val_loss: 1.0617 - val_mae: 0.6931\n",
            "Epoch 189/500\n",
            "120/120 [==============================] - 1s 4ms/step - loss: 1.2279 - mae: 0.7796 - val_loss: 1.1506 - val_mae: 0.7559\n",
            "Epoch 190/500\n",
            "120/120 [==============================] - 0s 4ms/step - loss: 1.2664 - mae: 0.7878 - val_loss: 1.2142 - val_mae: 0.7772\n",
            "Epoch 191/500\n",
            "120/120 [==============================] - 0s 4ms/step - loss: 1.2009 - mae: 0.7741 - val_loss: 1.2138 - val_mae: 0.7935\n",
            "Epoch 192/500\n",
            "120/120 [==============================] - 0s 4ms/step - loss: 1.1445 - mae: 0.7400 - val_loss: 1.0637 - val_mae: 0.6953\n",
            "Epoch 193/500\n",
            "120/120 [==============================] - 1s 4ms/step - loss: 1.1838 - mae: 0.7542 - val_loss: 1.2068 - val_mae: 0.7620\n",
            "Epoch 194/500\n",
            "120/120 [==============================] - 1s 4ms/step - loss: 1.2076 - mae: 0.7798 - val_loss: 1.2772 - val_mae: 0.8380\n",
            "Epoch 195/500\n",
            "120/120 [==============================] - 0s 3ms/step - loss: 1.1919 - mae: 0.7686 - val_loss: 1.1929 - val_mae: 0.7967\n",
            "Epoch 196/500\n",
            "120/120 [==============================] - 0s 4ms/step - loss: 1.1554 - mae: 0.7471 - val_loss: 1.1833 - val_mae: 0.7827\n",
            "Epoch 197/500\n",
            "120/120 [==============================] - 0s 4ms/step - loss: 1.2546 - mae: 0.8094 - val_loss: 1.1310 - val_mae: 0.7347\n",
            "Epoch 198/500\n",
            "120/120 [==============================] - 0s 4ms/step - loss: 1.1752 - mae: 0.7511 - val_loss: 1.2532 - val_mae: 0.8113\n",
            "Epoch 199/500\n",
            "120/120 [==============================] - 1s 4ms/step - loss: 1.2428 - mae: 0.7953 - val_loss: 1.1691 - val_mae: 0.7813\n",
            "Epoch 200/500\n",
            "120/120 [==============================] - 0s 4ms/step - loss: 1.1317 - mae: 0.7368 - val_loss: 1.1690 - val_mae: 0.7537\n",
            "Epoch 201/500\n",
            "120/120 [==============================] - 1s 4ms/step - loss: 1.1626 - mae: 0.7492 - val_loss: 1.2989 - val_mae: 0.8724\n",
            "Epoch 202/500\n",
            "120/120 [==============================] - 0s 4ms/step - loss: 1.2150 - mae: 0.7782 - val_loss: 1.2265 - val_mae: 0.7801\n",
            "Epoch 203/500\n",
            "120/120 [==============================] - 1s 5ms/step - loss: 1.3295 - mae: 0.8218 - val_loss: 1.0483 - val_mae: 0.6899\n",
            "Epoch 204/500\n",
            "120/120 [==============================] - 0s 4ms/step - loss: 1.1660 - mae: 0.7505 - val_loss: 1.2180 - val_mae: 0.7663\n",
            "Epoch 205/500\n",
            "120/120 [==============================] - 0s 4ms/step - loss: 1.1655 - mae: 0.7511 - val_loss: 1.1142 - val_mae: 0.7087\n",
            "Epoch 206/500\n",
            "120/120 [==============================] - 1s 4ms/step - loss: 1.1340 - mae: 0.7360 - val_loss: 1.1570 - val_mae: 0.7724\n",
            "Epoch 207/500\n",
            "120/120 [==============================] - 1s 4ms/step - loss: 1.1944 - mae: 0.7748 - val_loss: 1.1442 - val_mae: 0.7408\n",
            "Epoch 208/500\n",
            "120/120 [==============================] - 1s 4ms/step - loss: 1.1115 - mae: 0.7237 - val_loss: 1.2610 - val_mae: 0.7882\n",
            "Epoch 209/500\n",
            "120/120 [==============================] - 1s 5ms/step - loss: 1.1696 - mae: 0.7577 - val_loss: 1.0865 - val_mae: 0.7233\n",
            "Epoch 210/500\n",
            "120/120 [==============================] - 1s 5ms/step - loss: 1.1906 - mae: 0.7624 - val_loss: 1.1372 - val_mae: 0.7507\n",
            "Epoch 211/500\n",
            "120/120 [==============================] - 1s 4ms/step - loss: 1.1693 - mae: 0.7551 - val_loss: 1.1416 - val_mae: 0.7443\n",
            "Epoch 212/500\n",
            "120/120 [==============================] - 1s 5ms/step - loss: 1.2175 - mae: 0.7830 - val_loss: 1.1130 - val_mae: 0.7275\n",
            "Epoch 213/500\n",
            "120/120 [==============================] - 1s 5ms/step - loss: 1.1437 - mae: 0.7460 - val_loss: 1.3145 - val_mae: 0.8262\n",
            "Epoch 214/500\n",
            "120/120 [==============================] - 1s 5ms/step - loss: 1.2137 - mae: 0.7780 - val_loss: 1.3335 - val_mae: 0.8080\n",
            "Epoch 215/500\n",
            "120/120 [==============================] - 0s 4ms/step - loss: 1.1888 - mae: 0.7627 - val_loss: 1.2833 - val_mae: 0.8267\n",
            "Epoch 216/500\n",
            "120/120 [==============================] - 0s 4ms/step - loss: 1.1491 - mae: 0.7432 - val_loss: 1.2906 - val_mae: 0.8300\n",
            "Epoch 217/500\n",
            "120/120 [==============================] - 0s 4ms/step - loss: 1.1479 - mae: 0.7495 - val_loss: 1.1720 - val_mae: 0.7720\n",
            "Epoch 218/500\n",
            "120/120 [==============================] - 1s 4ms/step - loss: 1.1548 - mae: 0.7481 - val_loss: 1.0397 - val_mae: 0.6826\n",
            "Epoch 219/500\n",
            "120/120 [==============================] - 1s 5ms/step - loss: 1.1593 - mae: 0.7517 - val_loss: 1.1305 - val_mae: 0.7361\n",
            "Epoch 220/500\n",
            "120/120 [==============================] - 1s 5ms/step - loss: 1.1384 - mae: 0.7388 - val_loss: 1.2630 - val_mae: 0.8028\n",
            "Epoch 221/500\n",
            "120/120 [==============================] - 0s 4ms/step - loss: 1.1673 - mae: 0.7551 - val_loss: 1.1820 - val_mae: 0.7589\n",
            "Epoch 222/500\n",
            "120/120 [==============================] - 0s 4ms/step - loss: 1.1772 - mae: 0.7648 - val_loss: 1.1445 - val_mae: 0.7531\n",
            "Epoch 223/500\n",
            "120/120 [==============================] - 1s 4ms/step - loss: 1.1769 - mae: 0.7586 - val_loss: 1.1482 - val_mae: 0.7577\n",
            "Epoch 224/500\n",
            "120/120 [==============================] - 1s 4ms/step - loss: 1.1663 - mae: 0.7473 - val_loss: 1.1239 - val_mae: 0.7268\n",
            "Epoch 225/500\n",
            "120/120 [==============================] - 0s 4ms/step - loss: 1.2250 - mae: 0.7781 - val_loss: 1.1540 - val_mae: 0.7706\n",
            "Epoch 226/500\n",
            "120/120 [==============================] - 1s 4ms/step - loss: 1.1481 - mae: 0.7509 - val_loss: 1.0737 - val_mae: 0.7005\n",
            "Epoch 227/500\n",
            "120/120 [==============================] - 0s 4ms/step - loss: 1.1513 - mae: 0.7493 - val_loss: 1.0858 - val_mae: 0.7021\n",
            "Epoch 228/500\n",
            "120/120 [==============================] - 1s 4ms/step - loss: 1.1742 - mae: 0.7616 - val_loss: 1.2128 - val_mae: 0.7676\n",
            "Epoch 229/500\n",
            "120/120 [==============================] - 1s 5ms/step - loss: 1.1336 - mae: 0.7290 - val_loss: 1.1517 - val_mae: 0.7259\n",
            "Epoch 230/500\n",
            "120/120 [==============================] - 1s 5ms/step - loss: 1.1675 - mae: 0.7547 - val_loss: 1.1450 - val_mae: 0.7642\n",
            "Epoch 231/500\n",
            "120/120 [==============================] - 0s 4ms/step - loss: 1.1823 - mae: 0.7596 - val_loss: 1.3582 - val_mae: 0.8578\n",
            "Epoch 232/500\n",
            "120/120 [==============================] - 0s 3ms/step - loss: 1.1491 - mae: 0.7476 - val_loss: 1.1488 - val_mae: 0.7520\n",
            "Epoch 233/500\n",
            "120/120 [==============================] - 0s 4ms/step - loss: 1.1342 - mae: 0.7322 - val_loss: 1.0724 - val_mae: 0.7024\n",
            "Epoch 234/500\n",
            "120/120 [==============================] - 0s 4ms/step - loss: 1.1899 - mae: 0.7616 - val_loss: 1.0472 - val_mae: 0.6810\n",
            "Epoch 235/500\n",
            "120/120 [==============================] - 0s 4ms/step - loss: 1.1244 - mae: 0.7303 - val_loss: 1.1851 - val_mae: 0.7318\n",
            "Epoch 236/500\n",
            "120/120 [==============================] - 1s 5ms/step - loss: 1.2971 - mae: 0.8280 - val_loss: 1.2129 - val_mae: 0.7669\n",
            "Epoch 237/500\n",
            "120/120 [==============================] - 0s 4ms/step - loss: 1.1345 - mae: 0.7406 - val_loss: 1.2072 - val_mae: 0.7896\n",
            "Epoch 238/500\n",
            "120/120 [==============================] - 1s 4ms/step - loss: 1.1240 - mae: 0.7298 - val_loss: 1.0955 - val_mae: 0.7171\n",
            "Epoch 239/500\n",
            "120/120 [==============================] - 1s 4ms/step - loss: 1.1607 - mae: 0.7491 - val_loss: 1.5330 - val_mae: 0.9493\n",
            "Epoch 240/500\n",
            "120/120 [==============================] - 1s 4ms/step - loss: 1.2154 - mae: 0.7817 - val_loss: 1.1149 - val_mae: 0.7421\n",
            "Epoch 241/500\n",
            "120/120 [==============================] - 1s 5ms/step - loss: 1.1827 - mae: 0.7733 - val_loss: 1.1538 - val_mae: 0.7570\n",
            "Epoch 242/500\n",
            "120/120 [==============================] - 1s 5ms/step - loss: 1.1359 - mae: 0.7342 - val_loss: 1.1164 - val_mae: 0.7264\n",
            "Epoch 243/500\n",
            "120/120 [==============================] - 0s 4ms/step - loss: 1.1372 - mae: 0.7371 - val_loss: 1.5143 - val_mae: 0.8845\n",
            "Epoch 244/500\n",
            "120/120 [==============================] - 1s 4ms/step - loss: 1.1642 - mae: 0.7509 - val_loss: 1.1587 - val_mae: 0.7824\n",
            "Epoch 245/500\n",
            "120/120 [==============================] - 1s 5ms/step - loss: 1.1406 - mae: 0.7390 - val_loss: 1.1122 - val_mae: 0.7267\n",
            "Epoch 246/500\n",
            "120/120 [==============================] - 0s 4ms/step - loss: 1.1099 - mae: 0.7211 - val_loss: 1.1487 - val_mae: 0.7308\n",
            "Epoch 247/500\n",
            "120/120 [==============================] - 0s 4ms/step - loss: 1.1609 - mae: 0.7489 - val_loss: 1.1662 - val_mae: 0.7444\n",
            "Epoch 248/500\n",
            "120/120 [==============================] - 1s 4ms/step - loss: 1.1660 - mae: 0.7568 - val_loss: 1.0944 - val_mae: 0.7216\n",
            "Epoch 249/500\n",
            "120/120 [==============================] - 1s 4ms/step - loss: 1.2215 - mae: 0.7835 - val_loss: 1.3257 - val_mae: 0.8350\n",
            "Epoch 250/500\n",
            "120/120 [==============================] - 0s 4ms/step - loss: 1.2619 - mae: 0.8084 - val_loss: 1.1093 - val_mae: 0.7124\n",
            "Epoch 251/500\n",
            "120/120 [==============================] - 1s 5ms/step - loss: 1.1275 - mae: 0.7279 - val_loss: 1.1098 - val_mae: 0.7113\n",
            "Epoch 252/500\n",
            "120/120 [==============================] - 1s 6ms/step - loss: 1.1148 - mae: 0.7192 - val_loss: 1.1192 - val_mae: 0.7368\n",
            "Epoch 253/500\n",
            "120/120 [==============================] - 1s 6ms/step - loss: 1.2171 - mae: 0.7798 - val_loss: 1.1267 - val_mae: 0.7543\n",
            "Epoch 254/500\n",
            "120/120 [==============================] - 0s 4ms/step - loss: 1.1853 - mae: 0.7673 - val_loss: 1.1837 - val_mae: 0.7623\n",
            "Epoch 255/500\n",
            "120/120 [==============================] - 0s 4ms/step - loss: 1.1355 - mae: 0.7402 - val_loss: 1.0510 - val_mae: 0.6882\n",
            "Epoch 256/500\n",
            "120/120 [==============================] - 1s 5ms/step - loss: 1.1612 - mae: 0.7470 - val_loss: 1.1275 - val_mae: 0.7195\n",
            "Epoch 257/500\n",
            "120/120 [==============================] - 1s 5ms/step - loss: 1.1410 - mae: 0.7438 - val_loss: 1.1206 - val_mae: 0.7385\n",
            "Epoch 258/500\n",
            "120/120 [==============================] - 1s 5ms/step - loss: 1.1123 - mae: 0.7259 - val_loss: 1.1241 - val_mae: 0.7350\n",
            "Epoch 259/500\n",
            "120/120 [==============================] - 1s 5ms/step - loss: 1.1187 - mae: 0.7251 - val_loss: 1.6711 - val_mae: 0.9216\n",
            "Epoch 260/500\n",
            "120/120 [==============================] - 1s 5ms/step - loss: 1.1499 - mae: 0.7412 - val_loss: 1.1184 - val_mae: 0.7353\n",
            "Epoch 261/500\n",
            "120/120 [==============================] - 1s 4ms/step - loss: 1.1459 - mae: 0.7372 - val_loss: 1.0465 - val_mae: 0.6743\n",
            "Epoch 262/500\n",
            "120/120 [==============================] - 0s 4ms/step - loss: 1.1077 - mae: 0.7186 - val_loss: 1.1402 - val_mae: 0.7308\n",
            "Epoch 263/500\n",
            "120/120 [==============================] - 0s 3ms/step - loss: 1.1096 - mae: 0.7228 - val_loss: 1.3629 - val_mae: 0.8910\n",
            "Epoch 264/500\n",
            "120/120 [==============================] - 0s 4ms/step - loss: 1.1645 - mae: 0.7493 - val_loss: 1.0518 - val_mae: 0.6799\n",
            "Epoch 265/500\n",
            "120/120 [==============================] - 1s 4ms/step - loss: 1.1491 - mae: 0.7378 - val_loss: 1.0536 - val_mae: 0.6827\n",
            "Epoch 266/500\n",
            "120/120 [==============================] - 0s 4ms/step - loss: 1.1653 - mae: 0.7497 - val_loss: 1.2937 - val_mae: 0.8133\n",
            "Epoch 267/500\n",
            "120/120 [==============================] - 0s 4ms/step - loss: 1.1446 - mae: 0.7474 - val_loss: 1.1218 - val_mae: 0.7393\n",
            "Epoch 268/500\n",
            "120/120 [==============================] - 0s 4ms/step - loss: 1.1328 - mae: 0.7364 - val_loss: 1.0755 - val_mae: 0.7088\n",
            "Epoch 269/500\n",
            "120/120 [==============================] - 0s 4ms/step - loss: 1.1808 - mae: 0.7626 - val_loss: 1.0530 - val_mae: 0.6779\n",
            "Epoch 270/500\n",
            "120/120 [==============================] - 1s 5ms/step - loss: 1.1060 - mae: 0.7210 - val_loss: 1.1771 - val_mae: 0.7735\n",
            "Epoch 271/500\n",
            "120/120 [==============================] - 0s 4ms/step - loss: 1.1009 - mae: 0.7190 - val_loss: 1.2104 - val_mae: 0.7594\n",
            "Epoch 272/500\n",
            "120/120 [==============================] - 1s 4ms/step - loss: 1.1440 - mae: 0.7461 - val_loss: 1.2507 - val_mae: 0.8267\n",
            "Epoch 273/500\n",
            "120/120 [==============================] - 0s 4ms/step - loss: 1.1361 - mae: 0.7359 - val_loss: 1.1771 - val_mae: 0.7485\n",
            "Epoch 274/500\n",
            "120/120 [==============================] - 1s 5ms/step - loss: 1.1379 - mae: 0.7418 - val_loss: 1.1293 - val_mae: 0.7255\n",
            "Epoch 275/500\n",
            "120/120 [==============================] - 0s 4ms/step - loss: 1.1567 - mae: 0.7467 - val_loss: 1.1525 - val_mae: 0.7540\n",
            "Epoch 276/500\n",
            "120/120 [==============================] - 0s 4ms/step - loss: 1.1971 - mae: 0.7772 - val_loss: 1.1913 - val_mae: 0.7999\n",
            "Epoch 277/500\n",
            "120/120 [==============================] - 0s 4ms/step - loss: 1.1901 - mae: 0.7605 - val_loss: 1.0592 - val_mae: 0.6892\n",
            "Epoch 278/500\n",
            "120/120 [==============================] - 1s 5ms/step - loss: 1.1170 - mae: 0.7287 - val_loss: 1.1397 - val_mae: 0.7119\n",
            "Epoch 279/500\n",
            "120/120 [==============================] - 0s 4ms/step - loss: 1.1108 - mae: 0.7239 - val_loss: 1.0463 - val_mae: 0.6850\n",
            "Epoch 280/500\n",
            "120/120 [==============================] - 0s 4ms/step - loss: 1.1145 - mae: 0.7269 - val_loss: 1.1026 - val_mae: 0.7307\n",
            "Epoch 281/500\n",
            "120/120 [==============================] - 0s 4ms/step - loss: 1.1520 - mae: 0.7405 - val_loss: 1.0477 - val_mae: 0.6871\n",
            "Epoch 282/500\n",
            "120/120 [==============================] - 1s 4ms/step - loss: 1.1114 - mae: 0.7215 - val_loss: 1.0314 - val_mae: 0.6641\n",
            "Epoch 283/500\n",
            "120/120 [==============================] - 0s 4ms/step - loss: 1.1334 - mae: 0.7347 - val_loss: 1.1871 - val_mae: 0.7400\n",
            "Epoch 284/500\n",
            "120/120 [==============================] - 0s 4ms/step - loss: 1.1696 - mae: 0.7623 - val_loss: 1.1503 - val_mae: 0.7448\n",
            "Epoch 285/500\n",
            "120/120 [==============================] - 0s 4ms/step - loss: 1.1379 - mae: 0.7338 - val_loss: 1.0829 - val_mae: 0.7123\n",
            "Epoch 286/500\n",
            "120/120 [==============================] - 0s 4ms/step - loss: 1.1217 - mae: 0.7319 - val_loss: 1.0752 - val_mae: 0.6962\n",
            "Epoch 287/500\n",
            "120/120 [==============================] - 0s 4ms/step - loss: 1.1171 - mae: 0.7263 - val_loss: 1.0312 - val_mae: 0.6740\n",
            "Epoch 288/500\n",
            "120/120 [==============================] - 1s 5ms/step - loss: 1.1222 - mae: 0.7358 - val_loss: 1.0566 - val_mae: 0.6917\n",
            "Epoch 289/500\n",
            "120/120 [==============================] - 1s 5ms/step - loss: 1.0997 - mae: 0.7166 - val_loss: 1.1691 - val_mae: 0.7550\n",
            "Epoch 290/500\n",
            "120/120 [==============================] - 0s 4ms/step - loss: 1.1244 - mae: 0.7285 - val_loss: 1.1095 - val_mae: 0.7429\n",
            "Epoch 291/500\n",
            "120/120 [==============================] - 1s 5ms/step - loss: 1.1347 - mae: 0.7408 - val_loss: 1.1921 - val_mae: 0.7605\n",
            "Epoch 292/500\n",
            "120/120 [==============================] - 1s 5ms/step - loss: 1.1494 - mae: 0.7524 - val_loss: 1.1173 - val_mae: 0.7347\n",
            "Epoch 293/500\n",
            "120/120 [==============================] - 0s 4ms/step - loss: 1.1331 - mae: 0.7362 - val_loss: 1.1113 - val_mae: 0.7317\n",
            "Epoch 294/500\n",
            "120/120 [==============================] - 0s 4ms/step - loss: 1.1261 - mae: 0.7360 - val_loss: 1.0969 - val_mae: 0.7244\n",
            "Epoch 295/500\n",
            "120/120 [==============================] - 0s 4ms/step - loss: 1.1474 - mae: 0.7460 - val_loss: 1.1149 - val_mae: 0.7343\n",
            "Epoch 296/500\n",
            "120/120 [==============================] - 0s 4ms/step - loss: 1.1454 - mae: 0.7428 - val_loss: 1.1091 - val_mae: 0.7128\n",
            "Epoch 297/500\n",
            "120/120 [==============================] - 0s 4ms/step - loss: 1.1123 - mae: 0.7243 - val_loss: 1.0594 - val_mae: 0.6805\n",
            "Epoch 298/500\n",
            "120/120 [==============================] - 0s 4ms/step - loss: 1.0956 - mae: 0.7167 - val_loss: 1.0515 - val_mae: 0.6869\n",
            "Epoch 299/500\n",
            "120/120 [==============================] - 0s 4ms/step - loss: 1.1348 - mae: 0.7388 - val_loss: 1.0801 - val_mae: 0.6966\n",
            "Epoch 300/500\n",
            "120/120 [==============================] - 0s 4ms/step - loss: 1.1209 - mae: 0.7314 - val_loss: 1.0931 - val_mae: 0.7151\n",
            "Epoch 301/500\n",
            "120/120 [==============================] - 0s 4ms/step - loss: 1.1042 - mae: 0.7229 - val_loss: 1.2048 - val_mae: 0.7323\n",
            "Epoch 302/500\n",
            "120/120 [==============================] - 0s 4ms/step - loss: 1.1382 - mae: 0.7388 - val_loss: 1.1043 - val_mae: 0.7165\n",
            "Epoch 303/500\n",
            "120/120 [==============================] - 0s 4ms/step - loss: 1.0977 - mae: 0.7151 - val_loss: 1.1476 - val_mae: 0.7487\n",
            "Epoch 304/500\n",
            "120/120 [==============================] - 1s 5ms/step - loss: 1.1725 - mae: 0.7616 - val_loss: 1.1484 - val_mae: 0.7423\n",
            "Epoch 305/500\n",
            "120/120 [==============================] - 1s 5ms/step - loss: 1.1160 - mae: 0.7289 - val_loss: 1.1428 - val_mae: 0.7139\n",
            "Epoch 306/500\n",
            "120/120 [==============================] - 1s 4ms/step - loss: 1.0846 - mae: 0.7062 - val_loss: 1.0600 - val_mae: 0.6964\n",
            "Epoch 307/500\n",
            "120/120 [==============================] - 1s 5ms/step - loss: 1.1565 - mae: 0.7460 - val_loss: 1.1769 - val_mae: 0.7891\n",
            "Epoch 308/500\n",
            "120/120 [==============================] - 1s 5ms/step - loss: 1.1096 - mae: 0.7230 - val_loss: 1.1145 - val_mae: 0.7272\n",
            "Epoch 309/500\n",
            "120/120 [==============================] - 1s 7ms/step - loss: 1.0875 - mae: 0.7080 - val_loss: 1.0349 - val_mae: 0.6752\n",
            "Epoch 310/500\n",
            "120/120 [==============================] - 1s 5ms/step - loss: 1.1005 - mae: 0.7171 - val_loss: 1.2290 - val_mae: 0.7476\n",
            "Epoch 311/500\n",
            "120/120 [==============================] - 0s 4ms/step - loss: 1.1351 - mae: 0.7382 - val_loss: 1.1171 - val_mae: 0.7282\n",
            "Epoch 312/500\n",
            "120/120 [==============================] - 0s 4ms/step - loss: 1.1192 - mae: 0.7271 - val_loss: 1.2720 - val_mae: 0.7899\n",
            "Epoch 313/500\n",
            "120/120 [==============================] - 1s 5ms/step - loss: 1.0901 - mae: 0.7078 - val_loss: 1.2125 - val_mae: 0.7728\n",
            "Epoch 314/500\n",
            "120/120 [==============================] - 1s 4ms/step - loss: 1.1569 - mae: 0.7468 - val_loss: 1.0729 - val_mae: 0.7064\n",
            "Epoch 315/500\n",
            "120/120 [==============================] - 0s 4ms/step - loss: 1.2248 - mae: 0.7919 - val_loss: 1.0798 - val_mae: 0.6912\n",
            "Epoch 316/500\n",
            "120/120 [==============================] - 1s 4ms/step - loss: 1.1353 - mae: 0.7288 - val_loss: 1.1867 - val_mae: 0.7740\n",
            "Epoch 317/500\n",
            "120/120 [==============================] - 0s 4ms/step - loss: 1.1114 - mae: 0.7312 - val_loss: 1.1925 - val_mae: 0.7425\n",
            "Epoch 318/500\n",
            "120/120 [==============================] - 1s 5ms/step - loss: 1.1059 - mae: 0.7206 - val_loss: 1.1377 - val_mae: 0.7486\n",
            "Epoch 319/500\n",
            "120/120 [==============================] - 0s 4ms/step - loss: 1.1168 - mae: 0.7294 - val_loss: 1.1559 - val_mae: 0.7647\n",
            "Epoch 320/500\n",
            "120/120 [==============================] - 1s 5ms/step - loss: 1.1295 - mae: 0.7361 - val_loss: 1.0917 - val_mae: 0.7213\n",
            "Epoch 321/500\n",
            "120/120 [==============================] - 1s 5ms/step - loss: 1.1199 - mae: 0.7279 - val_loss: 1.0803 - val_mae: 0.7238\n",
            "Epoch 322/500\n",
            "120/120 [==============================] - 1s 5ms/step - loss: 1.1213 - mae: 0.7238 - val_loss: 1.0900 - val_mae: 0.7200\n",
            "Epoch 323/500\n",
            "120/120 [==============================] - 1s 4ms/step - loss: 1.1027 - mae: 0.7192 - val_loss: 1.0709 - val_mae: 0.6929\n",
            "Epoch 324/500\n",
            "120/120 [==============================] - 1s 4ms/step - loss: 1.1189 - mae: 0.7326 - val_loss: 1.0977 - val_mae: 0.7089\n",
            "Epoch 325/500\n",
            "120/120 [==============================] - 1s 6ms/step - loss: 1.1434 - mae: 0.7486 - val_loss: 1.0627 - val_mae: 0.6858\n",
            "Epoch 326/500\n",
            "120/120 [==============================] - 1s 5ms/step - loss: 1.1127 - mae: 0.7204 - val_loss: 1.0981 - val_mae: 0.7256\n",
            "Epoch 327/500\n",
            "120/120 [==============================] - 0s 4ms/step - loss: 1.1266 - mae: 0.7294 - val_loss: 1.0931 - val_mae: 0.7038\n",
            "Epoch 328/500\n",
            "120/120 [==============================] - 0s 4ms/step - loss: 1.1718 - mae: 0.7664 - val_loss: 1.1333 - val_mae: 0.7380\n",
            "Epoch 329/500\n",
            "120/120 [==============================] - 1s 5ms/step - loss: 1.1071 - mae: 0.7173 - val_loss: 1.0758 - val_mae: 0.6877\n",
            "Epoch 330/500\n",
            "120/120 [==============================] - 1s 5ms/step - loss: 1.1222 - mae: 0.7337 - val_loss: 1.3324 - val_mae: 0.8074\n",
            "Epoch 331/500\n",
            "120/120 [==============================] - 1s 4ms/step - loss: 1.1472 - mae: 0.7457 - val_loss: 1.1336 - val_mae: 0.7566\n",
            "Epoch 332/500\n",
            "120/120 [==============================] - 1s 5ms/step - loss: 1.1054 - mae: 0.7257 - val_loss: 1.0956 - val_mae: 0.7175\n",
            "Epoch 333/500\n",
            "120/120 [==============================] - 1s 5ms/step - loss: 1.1175 - mae: 0.7230 - val_loss: 1.0904 - val_mae: 0.7119\n",
            "Epoch 334/500\n",
            "120/120 [==============================] - 1s 5ms/step - loss: 1.1128 - mae: 0.7255 - val_loss: 1.0734 - val_mae: 0.7013\n",
            "Epoch 335/500\n",
            "120/120 [==============================] - 1s 5ms/step - loss: 1.1085 - mae: 0.7240 - val_loss: 1.1327 - val_mae: 0.7606\n",
            "Epoch 336/500\n",
            "120/120 [==============================] - 1s 5ms/step - loss: 1.1268 - mae: 0.7363 - val_loss: 1.3586 - val_mae: 0.8173\n",
            "Epoch 337/500\n",
            "120/120 [==============================] - 0s 4ms/step - loss: 1.1676 - mae: 0.7614 - val_loss: 1.1149 - val_mae: 0.7349\n",
            "Epoch 338/500\n",
            "120/120 [==============================] - 0s 4ms/step - loss: 1.1189 - mae: 0.7303 - val_loss: 1.1262 - val_mae: 0.7490\n",
            "Epoch 339/500\n",
            "120/120 [==============================] - 0s 4ms/step - loss: 1.1119 - mae: 0.7229 - val_loss: 1.2018 - val_mae: 0.7423\n",
            "Epoch 340/500\n",
            "120/120 [==============================] - 0s 4ms/step - loss: 1.1359 - mae: 0.7340 - val_loss: 1.1436 - val_mae: 0.7586\n",
            "Epoch 341/500\n",
            "120/120 [==============================] - 1s 5ms/step - loss: 1.0897 - mae: 0.7147 - val_loss: 1.1525 - val_mae: 0.7643\n",
            "Epoch 342/500\n",
            "120/120 [==============================] - 1s 5ms/step - loss: 1.1090 - mae: 0.7224 - val_loss: 1.2026 - val_mae: 0.7772\n",
            "Epoch 343/500\n",
            "120/120 [==============================] - 0s 4ms/step - loss: 1.1125 - mae: 0.7293 - val_loss: 1.0699 - val_mae: 0.7012\n",
            "Epoch 344/500\n",
            "120/120 [==============================] - 0s 4ms/step - loss: 1.0878 - mae: 0.7125 - val_loss: 1.2418 - val_mae: 0.8244\n",
            "Epoch 345/500\n",
            "120/120 [==============================] - 1s 4ms/step - loss: 1.0903 - mae: 0.7126 - val_loss: 1.2612 - val_mae: 0.8329\n",
            "Epoch 346/500\n",
            "120/120 [==============================] - 0s 4ms/step - loss: 1.0960 - mae: 0.7161 - val_loss: 1.0730 - val_mae: 0.7090\n",
            "Epoch 347/500\n",
            "120/120 [==============================] - 1s 4ms/step - loss: 1.1267 - mae: 0.7294 - val_loss: 1.0243 - val_mae: 0.6680\n",
            "Epoch 348/500\n",
            "120/120 [==============================] - 1s 6ms/step - loss: 1.1520 - mae: 0.7535 - val_loss: 1.1590 - val_mae: 0.7584\n",
            "Epoch 349/500\n",
            "120/120 [==============================] - 1s 4ms/step - loss: 1.1154 - mae: 0.7244 - val_loss: 1.1003 - val_mae: 0.7106\n",
            "Epoch 350/500\n",
            "120/120 [==============================] - 1s 5ms/step - loss: 1.0824 - mae: 0.7080 - val_loss: 1.0824 - val_mae: 0.7070\n",
            "Epoch 351/500\n",
            "120/120 [==============================] - 1s 5ms/step - loss: 1.0845 - mae: 0.7108 - val_loss: 1.0784 - val_mae: 0.7028\n",
            "Epoch 352/500\n",
            "120/120 [==============================] - 1s 5ms/step - loss: 1.0852 - mae: 0.7076 - val_loss: 1.0975 - val_mae: 0.7235\n",
            "Epoch 353/500\n",
            "120/120 [==============================] - 1s 5ms/step - loss: 1.1547 - mae: 0.7574 - val_loss: 1.1059 - val_mae: 0.7241\n",
            "Epoch 354/500\n",
            "120/120 [==============================] - 1s 5ms/step - loss: 1.1580 - mae: 0.7618 - val_loss: 1.1550 - val_mae: 0.7809\n",
            "Epoch 355/500\n",
            "120/120 [==============================] - 1s 5ms/step - loss: 1.0836 - mae: 0.7109 - val_loss: 1.0194 - val_mae: 0.6631\n",
            "Epoch 356/500\n",
            "120/120 [==============================] - 1s 4ms/step - loss: 1.1129 - mae: 0.7270 - val_loss: 1.1344 - val_mae: 0.7333\n",
            "Epoch 357/500\n",
            "120/120 [==============================] - 1s 5ms/step - loss: 1.1350 - mae: 0.7382 - val_loss: 1.1452 - val_mae: 0.7608\n",
            "Epoch 358/500\n",
            "120/120 [==============================] - 1s 5ms/step - loss: 1.1038 - mae: 0.7200 - val_loss: 1.0578 - val_mae: 0.6834\n",
            "Epoch 359/500\n",
            "120/120 [==============================] - 0s 4ms/step - loss: 1.1340 - mae: 0.7342 - val_loss: 1.1278 - val_mae: 0.7308\n",
            "Epoch 360/500\n",
            "120/120 [==============================] - 0s 4ms/step - loss: 1.1165 - mae: 0.7326 - val_loss: 1.0859 - val_mae: 0.7104\n",
            "Epoch 361/500\n",
            "120/120 [==============================] - 0s 4ms/step - loss: 1.0873 - mae: 0.7092 - val_loss: 1.0949 - val_mae: 0.6969\n",
            "Epoch 362/500\n",
            "120/120 [==============================] - 1s 5ms/step - loss: 1.1279 - mae: 0.7335 - val_loss: 1.1348 - val_mae: 0.7373\n",
            "Epoch 363/500\n",
            "120/120 [==============================] - 1s 5ms/step - loss: 1.0941 - mae: 0.7198 - val_loss: 1.1475 - val_mae: 0.7094\n",
            "Epoch 364/500\n",
            "120/120 [==============================] - 1s 5ms/step - loss: 1.1254 - mae: 0.7354 - val_loss: 1.0975 - val_mae: 0.7267\n",
            "Epoch 365/500\n",
            "120/120 [==============================] - 1s 5ms/step - loss: 1.1081 - mae: 0.7271 - val_loss: 1.0971 - val_mae: 0.7295\n",
            "Epoch 366/500\n",
            "120/120 [==============================] - 1s 5ms/step - loss: 1.1865 - mae: 0.7642 - val_loss: 1.1066 - val_mae: 0.7304\n",
            "Epoch 367/500\n",
            "120/120 [==============================] - 1s 4ms/step - loss: 1.0874 - mae: 0.7108 - val_loss: 1.0482 - val_mae: 0.6846\n",
            "Epoch 368/500\n",
            "120/120 [==============================] - 0s 4ms/step - loss: 1.0945 - mae: 0.7161 - val_loss: 1.1912 - val_mae: 0.7676\n",
            "Epoch 369/500\n",
            "120/120 [==============================] - 0s 4ms/step - loss: 1.0911 - mae: 0.7069 - val_loss: 1.1010 - val_mae: 0.7200\n",
            "Epoch 370/500\n",
            "120/120 [==============================] - 1s 5ms/step - loss: 1.0911 - mae: 0.7116 - val_loss: 1.0460 - val_mae: 0.6857\n",
            "Epoch 371/500\n",
            "120/120 [==============================] - 1s 4ms/step - loss: 1.0972 - mae: 0.7172 - val_loss: 1.0767 - val_mae: 0.7094\n",
            "Epoch 372/500\n",
            "120/120 [==============================] - 0s 4ms/step - loss: 1.1050 - mae: 0.7240 - val_loss: 1.0382 - val_mae: 0.6756\n",
            "Epoch 373/500\n",
            "120/120 [==============================] - 0s 4ms/step - loss: 1.1129 - mae: 0.7228 - val_loss: 1.0320 - val_mae: 0.6743\n",
            "Epoch 374/500\n",
            "120/120 [==============================] - 0s 4ms/step - loss: 1.0906 - mae: 0.7114 - val_loss: 1.1436 - val_mae: 0.7418\n",
            "Epoch 375/500\n",
            "120/120 [==============================] - 1s 4ms/step - loss: 1.1286 - mae: 0.7321 - val_loss: 1.1186 - val_mae: 0.7411\n",
            "Epoch 376/500\n",
            "120/120 [==============================] - 1s 4ms/step - loss: 1.1163 - mae: 0.7260 - val_loss: 1.1210 - val_mae: 0.7304\n",
            "Epoch 377/500\n",
            "120/120 [==============================] - 1s 4ms/step - loss: 1.0886 - mae: 0.7077 - val_loss: 1.0769 - val_mae: 0.6988\n",
            "Epoch 378/500\n",
            "120/120 [==============================] - 1s 4ms/step - loss: 1.1201 - mae: 0.7303 - val_loss: 1.3656 - val_mae: 0.8886\n",
            "Epoch 379/500\n",
            "120/120 [==============================] - 1s 5ms/step - loss: 1.1640 - mae: 0.7557 - val_loss: 1.2447 - val_mae: 0.8035\n",
            "Epoch 380/500\n",
            "120/120 [==============================] - 1s 4ms/step - loss: 1.1034 - mae: 0.7231 - val_loss: 1.0323 - val_mae: 0.6726\n",
            "Epoch 381/500\n",
            "120/120 [==============================] - 1s 4ms/step - loss: 1.1202 - mae: 0.7313 - val_loss: 1.1391 - val_mae: 0.7382\n",
            "Epoch 382/500\n",
            "120/120 [==============================] - 0s 4ms/step - loss: 1.1080 - mae: 0.7239 - val_loss: 1.0630 - val_mae: 0.6897\n",
            "Epoch 383/500\n",
            "120/120 [==============================] - 0s 4ms/step - loss: 1.1080 - mae: 0.7276 - val_loss: 1.1959 - val_mae: 0.7997\n",
            "Epoch 384/500\n",
            "120/120 [==============================] - 0s 4ms/step - loss: 1.1097 - mae: 0.7295 - val_loss: 1.2629 - val_mae: 0.8469\n",
            "Epoch 385/500\n",
            "120/120 [==============================] - 0s 4ms/step - loss: 1.1133 - mae: 0.7346 - val_loss: 1.1354 - val_mae: 0.7304\n",
            "Epoch 386/500\n",
            "120/120 [==============================] - 1s 4ms/step - loss: 1.1007 - mae: 0.7228 - val_loss: 1.1246 - val_mae: 0.7317\n",
            "Epoch 387/500\n",
            "120/120 [==============================] - 0s 4ms/step - loss: 1.0719 - mae: 0.7029 - val_loss: 1.0536 - val_mae: 0.6947\n",
            "Epoch 388/500\n",
            "120/120 [==============================] - 1s 4ms/step - loss: 1.0750 - mae: 0.7056 - val_loss: 1.1213 - val_mae: 0.7108\n",
            "Epoch 389/500\n",
            "120/120 [==============================] - 0s 4ms/step - loss: 1.0860 - mae: 0.7044 - val_loss: 1.1421 - val_mae: 0.7382\n",
            "Epoch 390/500\n",
            "120/120 [==============================] - 0s 4ms/step - loss: 1.0999 - mae: 0.7197 - val_loss: 1.1217 - val_mae: 0.7350\n",
            "Epoch 391/500\n",
            "120/120 [==============================] - 0s 4ms/step - loss: 1.1166 - mae: 0.7333 - val_loss: 1.1095 - val_mae: 0.7299\n",
            "Epoch 392/500\n",
            "120/120 [==============================] - 0s 4ms/step - loss: 1.0826 - mae: 0.7087 - val_loss: 1.1461 - val_mae: 0.7274\n",
            "Epoch 393/500\n",
            "120/120 [==============================] - 1s 5ms/step - loss: 1.0994 - mae: 0.7195 - val_loss: 1.1084 - val_mae: 0.7459\n",
            "Epoch 394/500\n",
            "120/120 [==============================] - 0s 4ms/step - loss: 1.1098 - mae: 0.7272 - val_loss: 1.1931 - val_mae: 0.7759\n",
            "Epoch 395/500\n",
            "120/120 [==============================] - 0s 4ms/step - loss: 1.1241 - mae: 0.7362 - val_loss: 1.1391 - val_mae: 0.7345\n",
            "Epoch 396/500\n",
            "120/120 [==============================] - 1s 4ms/step - loss: 1.1199 - mae: 0.7307 - val_loss: 1.1900 - val_mae: 0.7861\n",
            "Epoch 397/500\n",
            "120/120 [==============================] - 0s 4ms/step - loss: 1.1228 - mae: 0.7413 - val_loss: 1.1408 - val_mae: 0.7479\n",
            "Epoch 398/500\n",
            "120/120 [==============================] - 1s 4ms/step - loss: 1.0838 - mae: 0.7111 - val_loss: 1.0607 - val_mae: 0.6933\n",
            "Epoch 399/500\n",
            "120/120 [==============================] - 1s 4ms/step - loss: 1.1006 - mae: 0.7180 - val_loss: 1.1213 - val_mae: 0.7167\n",
            "Epoch 400/500\n",
            "120/120 [==============================] - 0s 4ms/step - loss: 1.1261 - mae: 0.7312 - val_loss: 1.0741 - val_mae: 0.7081\n",
            "Epoch 401/500\n",
            "120/120 [==============================] - 0s 4ms/step - loss: 1.0769 - mae: 0.7041 - val_loss: 1.0389 - val_mae: 0.6812\n",
            "Epoch 402/500\n",
            "120/120 [==============================] - 0s 4ms/step - loss: 1.0926 - mae: 0.7190 - val_loss: 1.0880 - val_mae: 0.7206\n",
            "Epoch 403/500\n",
            "120/120 [==============================] - 0s 4ms/step - loss: 1.1017 - mae: 0.7174 - val_loss: 1.0621 - val_mae: 0.7099\n",
            "Epoch 404/500\n",
            "120/120 [==============================] - 1s 4ms/step - loss: 1.0869 - mae: 0.7091 - val_loss: 1.1367 - val_mae: 0.7425\n",
            "Epoch 405/500\n",
            "120/120 [==============================] - 0s 4ms/step - loss: 1.1199 - mae: 0.7247 - val_loss: 1.1631 - val_mae: 0.7732\n",
            "Epoch 406/500\n",
            "120/120 [==============================] - 1s 4ms/step - loss: 1.1249 - mae: 0.7315 - val_loss: 1.0650 - val_mae: 0.6924\n",
            "Epoch 407/500\n",
            "120/120 [==============================] - 0s 4ms/step - loss: 1.0968 - mae: 0.7183 - val_loss: 1.1024 - val_mae: 0.7317\n",
            "Epoch 408/500\n",
            "120/120 [==============================] - 1s 5ms/step - loss: 1.0725 - mae: 0.7037 - val_loss: 1.1190 - val_mae: 0.7047\n",
            "Epoch 409/500\n",
            "120/120 [==============================] - 1s 4ms/step - loss: 1.1293 - mae: 0.7388 - val_loss: 1.1403 - val_mae: 0.7605\n",
            "Epoch 410/500\n",
            "120/120 [==============================] - 1s 5ms/step - loss: 1.0808 - mae: 0.7063 - val_loss: 1.0417 - val_mae: 0.6876\n",
            "Epoch 411/500\n",
            "120/120 [==============================] - 0s 4ms/step - loss: 1.0658 - mae: 0.7005 - val_loss: 1.0375 - val_mae: 0.6806\n",
            "Epoch 412/500\n",
            "120/120 [==============================] - 0s 4ms/step - loss: 1.0967 - mae: 0.7196 - val_loss: 1.0855 - val_mae: 0.7183\n",
            "Epoch 413/500\n",
            "120/120 [==============================] - 1s 4ms/step - loss: 1.1145 - mae: 0.7288 - val_loss: 1.1147 - val_mae: 0.7435\n",
            "Epoch 414/500\n",
            "120/120 [==============================] - 1s 5ms/step - loss: 1.0729 - mae: 0.6999 - val_loss: 1.0724 - val_mae: 0.7158\n",
            "Epoch 415/500\n",
            "120/120 [==============================] - 0s 4ms/step - loss: 1.1315 - mae: 0.7469 - val_loss: 1.2231 - val_mae: 0.7797\n",
            "Epoch 416/500\n",
            "120/120 [==============================] - 0s 4ms/step - loss: 1.0869 - mae: 0.7110 - val_loss: 1.0822 - val_mae: 0.7199\n",
            "Epoch 417/500\n",
            "120/120 [==============================] - 0s 4ms/step - loss: 1.0924 - mae: 0.7131 - val_loss: 1.0833 - val_mae: 0.7115\n",
            "Epoch 418/500\n",
            "120/120 [==============================] - 1s 5ms/step - loss: 1.0796 - mae: 0.7044 - val_loss: 1.0900 - val_mae: 0.7096\n",
            "Epoch 419/500\n",
            "120/120 [==============================] - 1s 4ms/step - loss: 1.0877 - mae: 0.7147 - val_loss: 1.1620 - val_mae: 0.7452\n",
            "Epoch 420/500\n",
            "120/120 [==============================] - 1s 4ms/step - loss: 1.0880 - mae: 0.7142 - val_loss: 1.0658 - val_mae: 0.6989\n",
            "Epoch 421/500\n",
            "120/120 [==============================] - 0s 4ms/step - loss: 1.0855 - mae: 0.7056 - val_loss: 1.1375 - val_mae: 0.7419\n",
            "Epoch 422/500\n",
            "120/120 [==============================] - 0s 4ms/step - loss: 1.0959 - mae: 0.7103 - val_loss: 1.1065 - val_mae: 0.7182\n",
            "Epoch 423/500\n",
            "120/120 [==============================] - 1s 4ms/step - loss: 1.1167 - mae: 0.7249 - val_loss: 1.0605 - val_mae: 0.6924\n",
            "Epoch 424/500\n",
            "120/120 [==============================] - 1s 4ms/step - loss: 1.0989 - mae: 0.7226 - val_loss: 1.1399 - val_mae: 0.7565\n",
            "Epoch 425/500\n",
            "120/120 [==============================] - 0s 4ms/step - loss: 1.1145 - mae: 0.7324 - val_loss: 1.0934 - val_mae: 0.7204\n",
            "Epoch 426/500\n",
            "120/120 [==============================] - 1s 4ms/step - loss: 1.0934 - mae: 0.7131 - val_loss: 1.0678 - val_mae: 0.7077\n",
            "Epoch 427/500\n",
            "120/120 [==============================] - 0s 4ms/step - loss: 1.0893 - mae: 0.7113 - val_loss: 1.1333 - val_mae: 0.7521\n",
            "Epoch 428/500\n",
            "120/120 [==============================] - 1s 4ms/step - loss: 1.0668 - mae: 0.7043 - val_loss: 1.0857 - val_mae: 0.7134\n",
            "Epoch 429/500\n",
            "120/120 [==============================] - 1s 5ms/step - loss: 1.0745 - mae: 0.7056 - val_loss: 1.1803 - val_mae: 0.7697\n",
            "Epoch 430/500\n",
            "120/120 [==============================] - 1s 5ms/step - loss: 1.1125 - mae: 0.7251 - val_loss: 1.0687 - val_mae: 0.6962\n",
            "Epoch 431/500\n",
            "120/120 [==============================] - 0s 4ms/step - loss: 1.1265 - mae: 0.7399 - val_loss: 1.0344 - val_mae: 0.6803\n",
            "Epoch 432/500\n",
            "120/120 [==============================] - 1s 4ms/step - loss: 1.1008 - mae: 0.7242 - val_loss: 1.2041 - val_mae: 0.8023\n",
            "Epoch 433/500\n",
            "120/120 [==============================] - 0s 4ms/step - loss: 1.0785 - mae: 0.7051 - val_loss: 1.0863 - val_mae: 0.7190\n",
            "Epoch 434/500\n",
            "120/120 [==============================] - 0s 4ms/step - loss: 1.1020 - mae: 0.7161 - val_loss: 1.0365 - val_mae: 0.6768\n",
            "Epoch 435/500\n",
            "120/120 [==============================] - 1s 5ms/step - loss: 1.1010 - mae: 0.7241 - val_loss: 1.1641 - val_mae: 0.7726\n",
            "Epoch 436/500\n",
            "120/120 [==============================] - 1s 5ms/step - loss: 1.0792 - mae: 0.7097 - val_loss: 1.0424 - val_mae: 0.6813\n",
            "Epoch 437/500\n",
            "120/120 [==============================] - 1s 4ms/step - loss: 1.0846 - mae: 0.7117 - val_loss: 1.0533 - val_mae: 0.6913\n",
            "Epoch 438/500\n",
            "120/120 [==============================] - 1s 5ms/step - loss: 1.1073 - mae: 0.7249 - val_loss: 1.0812 - val_mae: 0.7033\n",
            "Epoch 439/500\n",
            "120/120 [==============================] - 1s 5ms/step - loss: 1.1201 - mae: 0.7290 - val_loss: 1.1451 - val_mae: 0.7422\n",
            "Epoch 440/500\n",
            "120/120 [==============================] - 0s 4ms/step - loss: 1.0760 - mae: 0.7067 - val_loss: 1.0661 - val_mae: 0.7089\n",
            "Epoch 441/500\n",
            "120/120 [==============================] - 0s 4ms/step - loss: 1.0947 - mae: 0.7209 - val_loss: 1.0748 - val_mae: 0.7119\n",
            "Epoch 442/500\n",
            "120/120 [==============================] - 0s 4ms/step - loss: 1.0837 - mae: 0.7130 - val_loss: 1.3431 - val_mae: 0.8506\n",
            "Epoch 443/500\n",
            "120/120 [==============================] - 0s 4ms/step - loss: 1.0769 - mae: 0.7016 - val_loss: 1.0677 - val_mae: 0.6964\n",
            "Epoch 444/500\n",
            "120/120 [==============================] - 1s 5ms/step - loss: 1.0747 - mae: 0.7051 - val_loss: 1.0785 - val_mae: 0.6879\n",
            "Epoch 445/500\n",
            "120/120 [==============================] - 1s 4ms/step - loss: 1.0701 - mae: 0.7009 - val_loss: 1.0823 - val_mae: 0.7081\n",
            "Epoch 446/500\n",
            "120/120 [==============================] - 1s 5ms/step - loss: 1.1329 - mae: 0.7502 - val_loss: 1.1359 - val_mae: 0.7554\n",
            "Epoch 447/500\n",
            "120/120 [==============================] - 1s 4ms/step - loss: 1.0834 - mae: 0.7069 - val_loss: 1.1515 - val_mae: 0.7423\n",
            "Epoch 448/500\n",
            "120/120 [==============================] - 0s 4ms/step - loss: 1.1046 - mae: 0.7165 - val_loss: 1.0904 - val_mae: 0.7240\n",
            "Epoch 449/500\n",
            "120/120 [==============================] - 0s 4ms/step - loss: 1.1053 - mae: 0.7192 - val_loss: 1.0663 - val_mae: 0.7038\n",
            "Epoch 450/500\n",
            "120/120 [==============================] - 0s 4ms/step - loss: 1.1251 - mae: 0.7361 - val_loss: 1.0892 - val_mae: 0.7123\n",
            "Epoch 451/500\n",
            "120/120 [==============================] - 0s 4ms/step - loss: 1.0764 - mae: 0.7080 - val_loss: 1.0427 - val_mae: 0.6810\n",
            "Epoch 452/500\n",
            "120/120 [==============================] - 1s 5ms/step - loss: 1.1372 - mae: 0.7451 - val_loss: 1.2100 - val_mae: 0.7784\n",
            "Epoch 453/500\n",
            "120/120 [==============================] - 0s 4ms/step - loss: 1.1063 - mae: 0.7256 - val_loss: 1.0457 - val_mae: 0.6895\n",
            "Epoch 454/500\n",
            "120/120 [==============================] - 0s 4ms/step - loss: 1.0699 - mae: 0.6961 - val_loss: 1.0309 - val_mae: 0.6807\n",
            "Epoch 455/500\n",
            "120/120 [==============================] - 0s 4ms/step - loss: 1.0945 - mae: 0.7165 - val_loss: 1.1748 - val_mae: 0.7639\n",
            "Epoch 456/500\n",
            "120/120 [==============================] - 1s 5ms/step - loss: 1.0737 - mae: 0.6984 - val_loss: 1.0281 - val_mae: 0.6698\n",
            "Epoch 457/500\n",
            "120/120 [==============================] - 1s 5ms/step - loss: 1.0664 - mae: 0.6972 - val_loss: 1.0640 - val_mae: 0.6826\n",
            "Epoch 458/500\n",
            "120/120 [==============================] - 0s 4ms/step - loss: 1.1276 - mae: 0.7424 - val_loss: 1.0487 - val_mae: 0.6857\n",
            "Epoch 459/500\n",
            "120/120 [==============================] - 0s 4ms/step - loss: 1.1014 - mae: 0.7214 - val_loss: 1.0216 - val_mae: 0.6689\n",
            "Epoch 460/500\n",
            "120/120 [==============================] - 0s 4ms/step - loss: 1.0600 - mae: 0.6965 - val_loss: 1.0433 - val_mae: 0.6823\n",
            "Epoch 461/500\n",
            "120/120 [==============================] - 1s 5ms/step - loss: 1.0700 - mae: 0.7011 - val_loss: 1.0937 - val_mae: 0.7054\n",
            "Epoch 462/500\n",
            "120/120 [==============================] - 1s 5ms/step - loss: 1.1051 - mae: 0.7237 - val_loss: 1.0481 - val_mae: 0.6836\n",
            "Epoch 463/500\n",
            "120/120 [==============================] - 1s 5ms/step - loss: 1.0707 - mae: 0.7017 - val_loss: 1.0281 - val_mae: 0.6737\n",
            "Epoch 464/500\n",
            "120/120 [==============================] - 1s 4ms/step - loss: 1.0765 - mae: 0.7057 - val_loss: 1.0816 - val_mae: 0.7201\n",
            "Epoch 465/500\n",
            "120/120 [==============================] - 1s 4ms/step - loss: 1.0818 - mae: 0.7077 - val_loss: 1.1280 - val_mae: 0.7161\n",
            "Epoch 466/500\n",
            "120/120 [==============================] - 1s 5ms/step - loss: 1.0949 - mae: 0.7089 - val_loss: 1.0567 - val_mae: 0.7020\n",
            "Epoch 467/500\n",
            "120/120 [==============================] - 0s 4ms/step - loss: 1.0666 - mae: 0.7005 - val_loss: 1.1175 - val_mae: 0.7371\n",
            "Epoch 468/500\n",
            "120/120 [==============================] - 1s 5ms/step - loss: 1.0894 - mae: 0.7165 - val_loss: 1.0220 - val_mae: 0.6688\n",
            "Epoch 469/500\n",
            "120/120 [==============================] - 1s 5ms/step - loss: 1.0721 - mae: 0.7047 - val_loss: 1.2539 - val_mae: 0.7940\n",
            "Epoch 470/500\n",
            "120/120 [==============================] - 0s 4ms/step - loss: 1.1152 - mae: 0.7252 - val_loss: 1.0312 - val_mae: 0.6709\n",
            "Epoch 471/500\n",
            "120/120 [==============================] - 0s 4ms/step - loss: 1.0684 - mae: 0.6939 - val_loss: 1.0566 - val_mae: 0.7047\n",
            "Epoch 472/500\n",
            "120/120 [==============================] - 1s 4ms/step - loss: 1.0653 - mae: 0.6975 - val_loss: 1.0620 - val_mae: 0.7051\n",
            "Epoch 473/500\n",
            "120/120 [==============================] - 1s 5ms/step - loss: 1.0839 - mae: 0.7108 - val_loss: 1.0176 - val_mae: 0.6593\n",
            "Epoch 474/500\n",
            "120/120 [==============================] - 1s 4ms/step - loss: 1.0823 - mae: 0.7129 - val_loss: 1.0652 - val_mae: 0.7004\n",
            "Epoch 475/500\n",
            "120/120 [==============================] - 1s 5ms/step - loss: 1.0762 - mae: 0.7030 - val_loss: 1.0207 - val_mae: 0.6637\n",
            "Epoch 476/500\n",
            "120/120 [==============================] - 0s 4ms/step - loss: 1.0866 - mae: 0.7096 - val_loss: 1.0398 - val_mae: 0.6803\n",
            "Epoch 477/500\n",
            "120/120 [==============================] - 1s 5ms/step - loss: 1.1222 - mae: 0.7345 - val_loss: 1.0654 - val_mae: 0.6966\n",
            "Epoch 478/500\n",
            "120/120 [==============================] - 1s 5ms/step - loss: 1.0912 - mae: 0.7129 - val_loss: 1.0859 - val_mae: 0.7204\n",
            "Epoch 479/500\n",
            "120/120 [==============================] - 0s 4ms/step - loss: 1.0665 - mae: 0.6990 - val_loss: 1.1015 - val_mae: 0.7126\n",
            "Epoch 480/500\n",
            "120/120 [==============================] - 0s 4ms/step - loss: 1.0776 - mae: 0.7008 - val_loss: 1.1170 - val_mae: 0.7303\n",
            "Epoch 481/500\n",
            "120/120 [==============================] - 0s 4ms/step - loss: 1.0820 - mae: 0.7087 - val_loss: 1.0645 - val_mae: 0.7025\n",
            "Epoch 482/500\n",
            "120/120 [==============================] - 0s 4ms/step - loss: 1.0817 - mae: 0.7108 - val_loss: 1.0968 - val_mae: 0.7122\n",
            "Epoch 483/500\n",
            "120/120 [==============================] - 0s 4ms/step - loss: 1.0789 - mae: 0.7078 - val_loss: 1.0304 - val_mae: 0.6750\n",
            "Epoch 484/500\n",
            "120/120 [==============================] - 1s 4ms/step - loss: 1.0632 - mae: 0.6918 - val_loss: 1.0768 - val_mae: 0.7089\n",
            "Epoch 485/500\n",
            "120/120 [==============================] - 1s 4ms/step - loss: 1.0865 - mae: 0.7092 - val_loss: 1.1953 - val_mae: 0.7893\n",
            "Epoch 486/500\n",
            "120/120 [==============================] - 1s 5ms/step - loss: 1.0670 - mae: 0.7021 - val_loss: 1.0489 - val_mae: 0.6894\n",
            "Epoch 487/500\n",
            "120/120 [==============================] - 1s 5ms/step - loss: 1.0787 - mae: 0.7062 - val_loss: 1.1401 - val_mae: 0.7260\n",
            "Epoch 488/500\n",
            "120/120 [==============================] - 0s 4ms/step - loss: 1.0754 - mae: 0.7060 - val_loss: 1.0792 - val_mae: 0.7223\n",
            "Epoch 489/500\n",
            "120/120 [==============================] - 1s 4ms/step - loss: 1.0727 - mae: 0.7073 - val_loss: 1.0901 - val_mae: 0.7097\n",
            "Epoch 490/500\n",
            "120/120 [==============================] - 1s 5ms/step - loss: 1.0827 - mae: 0.7082 - val_loss: 1.1563 - val_mae: 0.7538\n",
            "Epoch 491/500\n",
            "120/120 [==============================] - 1s 5ms/step - loss: 1.0555 - mae: 0.6885 - val_loss: 1.0652 - val_mae: 0.6840\n",
            "Epoch 492/500\n",
            "120/120 [==============================] - 1s 5ms/step - loss: 1.1178 - mae: 0.7288 - val_loss: 1.1051 - val_mae: 0.7167\n",
            "Epoch 493/500\n",
            "120/120 [==============================] - 0s 4ms/step - loss: 1.0836 - mae: 0.7032 - val_loss: 1.0818 - val_mae: 0.7097\n",
            "Epoch 494/500\n",
            "120/120 [==============================] - 0s 4ms/step - loss: 1.0717 - mae: 0.7034 - val_loss: 1.0617 - val_mae: 0.6944\n",
            "Epoch 495/500\n",
            "120/120 [==============================] - 1s 4ms/step - loss: 1.0903 - mae: 0.7140 - val_loss: 1.0540 - val_mae: 0.6928\n",
            "Epoch 496/500\n",
            "120/120 [==============================] - 0s 4ms/step - loss: 1.0628 - mae: 0.6973 - val_loss: 1.0355 - val_mae: 0.6794\n",
            "Epoch 497/500\n",
            "120/120 [==============================] - 1s 5ms/step - loss: 1.1542 - mae: 0.7583 - val_loss: 1.1851 - val_mae: 0.7649\n",
            "Epoch 498/500\n",
            "120/120 [==============================] - 0s 4ms/step - loss: 1.0948 - mae: 0.7095 - val_loss: 1.1371 - val_mae: 0.7337\n",
            "Epoch 499/500\n",
            "120/120 [==============================] - 0s 4ms/step - loss: 1.0777 - mae: 0.7036 - val_loss: 1.0686 - val_mae: 0.7151\n",
            "Epoch 500/500\n",
            "120/120 [==============================] - 1s 4ms/step - loss: 1.0798 - mae: 0.7059 - val_loss: 1.0366 - val_mae: 0.6783\n",
            "INFO:tensorflow:Assets written to: saved_model/STM32_AI_Test/assets\n"
          ]
        },
        {
          "output_type": "stream",
          "name": "stderr",
          "text": [
            "INFO:tensorflow:Assets written to: saved_model/STM32_AI_Test/assets\n"
          ]
        }
      ]
    },
    {
      "cell_type": "markdown",
      "source": [
        "# Evaluate the training performance"
      ],
      "metadata": {
        "id": "hm2y2S51MH4s"
      }
    },
    {
      "cell_type": "code",
      "source": [
        "### Draw a graph of the loss, which is the distance between\n",
        "# the predicted and actual values during training and validation.\n",
        "train_loss = history_1.history['loss']\n",
        "val_loss = history_1.history['val_loss']\n",
        "\n",
        "epochs = range(1, len(train_loss) + 1)\n",
        "\n",
        "plt.plot(epochs, train_loss, 'g.', label='Training loss')\n",
        "plt.plot(epochs, val_loss, 'b', label='Validation loss')\n",
        "plt.title('Training and validation loss')\n",
        "plt.xlabel('Epochs')\n",
        "plt.ylabel('Loss')\n",
        "plt.legend()\n",
        "plt.show()"
      ],
      "metadata": {
        "id": "DO5sw9BxMK5E",
        "colab": {
          "base_uri": "https://localhost:8080/",
          "height": 295
        },
        "outputId": "34f2cd8f-b5b5-4ef2-bac7-3d0e3d111fdc"
      },
      "execution_count": 83,
      "outputs": [
        {
          "output_type": "display_data",
          "data": {
            "text/plain": [
              "<Figure size 432x288 with 1 Axes>"
            ],
            "image/png": "[encoded data removed]"
          },
          "metadata": {
            "needs_background": "light"
          }
        }
      ]
    },
    {
      "cell_type": "code",
      "source": [
        "# evaluate the keras model\n",
        "_, accuracy = model_1.evaluate(y_validate, x_validate)\n",
        "print('Accuracy: %.2f' % (accuracy*100))"
      ],
      "metadata": {
        "colab": {
          "base_uri": "https://localhost:8080/"
        },
        "id": "kZ6rMEUZvYZ-",
        "outputId": "f592bffb-5096-472e-b698-c203fbd2bdc3"
      },
      "execution_count": 84,
      "outputs": [
        {
          "output_type": "stream",
          "name": "stdout",
          "text": [
            "63/63 [==============================] - 0s 2ms/step - loss: 1.0366 - mae: 0.6783\n",
            "Accuracy: 67.83\n"
          ]
        }
      ]
    },
    {
      "cell_type": "code",
      "metadata": {
        "id": "i13eVIT3B9Mj",
        "outputId": "3e124154-fccf-4b7e-8d1c-9087d3f2e33c",
        "colab": {
          "base_uri": "https://localhost:8080/"
        }
      },
      "source": [
        "# Test a couple of waveforms\n",
        "# remember:\n",
        "#     y = waveforms\n",
        "#     x = truth parameters\n",
        "\n",
        "x_test = x_values[1]\n",
        "y_test = np.array(generateTemplate(position = x_test[0], pulse_length = x_test[1], height=x_test[2], noise=0))\n",
        "\n",
        "# waveform needs to be reshaped to be fed into ANN\n",
        "y_test = y_test.reshape(1,128)\n",
        "\n",
        "# try, whether we can reconstruct the parameters x_test from the waveform y_test\n",
        "model_1.make_predict_function()\n",
        "x_test_pred = np.array(model_1.predict(y_test)[0])\n",
        "\n",
        "print(\"sample pulse created: \", x_test)\n",
        "print(\"ANN reconstructed:    \", x_test_pred)"
      ],
      "execution_count": 85,
      "outputs": [
        {
          "output_type": "stream",
          "name": "stdout",
          "text": [
            "WARNING:tensorflow:5 out of the last 1010 calls to <function Model.make_predict_function.<locals>.predict_function at 0x7f5bde0b2c20> triggered tf.function retracing. Tracing is expensive and the excessive number of tracings could be due to (1) creating @tf.function repeatedly in a loop, (2) passing tensors with different shapes, (3) passing Python objects instead of tensors. For (1), please define your @tf.function outside of the loop. For (2), @tf.function has experimental_relax_shapes=True option that relaxes argument shapes that can avoid unnecessary retracing. For (3), please refer to https://www.tensorflow.org/guide/function#controlling_retracing and https://www.tensorflow.org/api_docs/python/tf/function for  more details.\n"
          ]
        },
        {
          "output_type": "stream",
          "name": "stderr",
          "text": [
            "WARNING:tensorflow:5 out of the last 1010 calls to <function Model.make_predict_function.<locals>.predict_function at 0x7f5bde0b2c20> triggered tf.function retracing. Tracing is expensive and the excessive number of tracings could be due to (1) creating @tf.function repeatedly in a loop, (2) passing tensors with different shapes, (3) passing Python objects instead of tensors. For (1), please define your @tf.function outside of the loop. For (2), @tf.function has experimental_relax_shapes=True option that relaxes argument shapes that can avoid unnecessary retracing. For (3), please refer to https://www.tensorflow.org/guide/function#controlling_retracing and https://www.tensorflow.org/api_docs/python/tf/function for  more details.\n"
          ]
        },
        {
          "output_type": "stream",
          "name": "stdout",
          "text": [
            "sample pulse created:  [23 16 57]\n",
            "ANN reconstructed:     [18.809925 21.864513 57.298904]\n"
          ]
        }
      ]
    },
    {
      "cell_type": "markdown",
      "source": [
        "## Have a look at the reconstructed parameters\n",
        "\n",
        "Get some random pulses, and have a look how they are reconstructed by the network.\n"
      ],
      "metadata": {
        "id": "A0DU0ZLx59Z8"
      }
    },
    {
      "cell_type": "code",
      "source": [
        "# number of test waveforms\n",
        "TEST_SAMPLES = 1000"
      ],
      "metadata": {
        "id": "BDet8lS36gIz"
      },
      "execution_count": 86,
      "outputs": []
    },
    {
      "cell_type": "code",
      "source": [
        "waveforms = []        # generated waveforms\n",
        "orig_parameters = []  # parameters, which are used for the generation\n",
        "NN_parameters = []    # parameters, reconstructed by the NN\n",
        "\n",
        "# vary the parameters to have a look a the performance outside the trained \n",
        "# parameter boundaries.\n",
        "parameter_variation = 0.1\n",
        "\n",
        "# increase the range of parameters in order to see, what is happening\n",
        "T_width    = ( P_width[0]    * (1 - parameter_variation) , P_width[1]    * (1 + parameter_variation) )\n",
        "T_position = ( P_position[0] * (1 - parameter_variation) , P_position[1] * (1 + parameter_variation) )\n",
        "T_height   = ( P_height[0]   * (1 - parameter_variation) , P_height[1]   * (1 + parameter_variation) )\n",
        "\n",
        "# generate the waveforms\n",
        "for i in range(TEST_SAMPLES):\n",
        "  # use random settings\n",
        "  width = np.random.randint( *T_width )\n",
        "  position = np.random.randint( *T_position )\n",
        "  height = np.random.randint( *T_height )\n",
        "\n",
        "  orig_parameters.append( (width, position, height) )\n",
        "  waveforms.append( np.array(generateTemplate(position = position, pulse_length = width, height=height, noise=noise) ) )"
      ],
      "metadata": {
        "id": "qvu48FbE6UTm"
      },
      "execution_count": 87,
      "outputs": []
    },
    {
      "cell_type": "code",
      "source": [
        "for i in range(TEST_SAMPLES):\n",
        "  # waveform needs to be reshaped to be fed into ANN\n",
        "  waveform = waveforms[i].reshape(1,128)\n",
        "  NN_parameters.append( np.array( model_1.predict(waveform)[0]) )\n"
      ],
      "metadata": {
        "id": "IXDLAkyy6lrh"
      },
      "execution_count": 88,
      "outputs": []
    },
    {
      "cell_type": "markdown",
      "source": [
        "Plot the distributions"
      ],
      "metadata": {
        "id": "GI7iIFsN7LMw"
      }
    },
    {
      "cell_type": "code",
      "source": [
        "plot_x = [k[0] for k in orig_parameters]\n",
        "plot_y = [k[0] for k in NN_parameters]\n",
        "plt.hist2d(plot_x, plot_y, bins=32, norm=LogNorm())\n",
        "plt.vlines(np.array(P_width),ymin=0, ymax=100)\n",
        "plt.plot( [np.min(plot_x), np.max(plot_x)], [np.min(plot_x), np.max(plot_x)])\n",
        "plt.title(\"width\")\n",
        "plt.ylabel(\"NN parameter\")\n",
        "plt.xlabel(\"truth parameter\")\n",
        "plt.show()"
      ],
      "metadata": {
        "colab": {
          "base_uri": "https://localhost:8080/",
          "height": 295
        },
        "id": "4abhDols7ORo",
        "outputId": "473e5424-ea99-49ed-e59d-b47095de2223"
      },
      "execution_count": 89,
      "outputs": [
        {
          "output_type": "display_data",
          "data": {
            "text/plain": [
              "<Figure size 432x288 with 1 Axes>"
            ],
            "image/png": "[encoded data removed]"
          },
          "metadata": {
            "needs_background": "light"
          }
        }
      ]
    },
    {
      "cell_type": "code",
      "source": [
        "plot_x = [k[1] for k in orig_parameters]\n",
        "plot_y = [k[1] for k in NN_parameters]\n",
        "plt.hist2d(plot_x, plot_y, bins=32, norm=LogNorm())\n",
        "plt.vlines(np.array(P_position),ymin=0, ymax=100)\n",
        "plt.plot( [np.min(plot_x), np.max(plot_x)], [np.min(plot_x), np.max(plot_x)])\n",
        "plt.title(\"postition\")\n",
        "plt.ylabel(\"NN parameter\")\n",
        "plt.xlabel(\"truth parameter\")\n",
        "plt.show()"
      ],
      "metadata": {
        "colab": {
          "base_uri": "https://localhost:8080/",
          "height": 295
        },
        "id": "ql9DsEfg72Px",
        "outputId": "71bd6ba4-a10d-4ae2-ee99-529cb89a595b"
      },
      "execution_count": 90,
      "outputs": [
        {
          "output_type": "display_data",
          "data": {
            "text/plain": [
              "<Figure size 432x288 with 1 Axes>"
            ],
            "image/png": "[encoded data removed]"
          },
          "metadata": {
            "needs_background": "light"
          }
        }
      ]
    },
    {
      "cell_type": "code",
      "source": [
        "plot_x = [k[2] for k in orig_parameters]\n",
        "plot_y = [k[2] for k in NN_parameters]\n",
        "plt.hist2d(plot_x, plot_y, bins=32, norm=LogNorm())\n",
        "plt.vlines(np.array(P_height),ymin=0, ymax=1000)\n",
        "plt.plot( [np.min(plot_x), np.max(plot_x)], [np.min(plot_x), np.max(plot_x)])\n",
        "plt.title(\"height\")\n",
        "plt.ylabel(\"NN parameter\")\n",
        "plt.xlabel(\"truth parameter\")\n",
        "plt.show()"
      ],
      "metadata": {
        "colab": {
          "base_uri": "https://localhost:8080/",
          "height": 295
        },
        "id": "4Co7DGIk740X",
        "outputId": "39603c67-b7f5-4101-81ba-a9f597f10688"
      },
      "execution_count": 91,
      "outputs": [
        {
          "output_type": "display_data",
          "data": {
            "text/plain": [
              "<Figure size 432x288 with 1 Axes>"
            ],
            "image/png": "[encoded data removed]"
          },
          "metadata": {
            "needs_background": "light"
          }
        }
      ]
    },
    {
      "cell_type": "markdown",
      "source": [
        "# What happens at zero input?\n",
        "What if the input array is all zero?"
      ],
      "metadata": {
        "id": "GQCZ_TBbD2cd"
      }
    },
    {
      "cell_type": "code",
      "source": [
        "# waveform needs to be reshaped to be fed into ANN\n",
        "waveform = np.zeros(128)\n",
        "waveform = waveform.reshape(1,128)\n",
        "print( model_1.predict(waveform)[0] )"
      ],
      "metadata": {
        "id": "bFAuP2x7EAWE",
        "colab": {
          "base_uri": "https://localhost:8080/"
        },
        "outputId": "b9b71c3b-2a09-499b-adfb-e0d4d643c169"
      },
      "execution_count": 92,
      "outputs": [
        {
          "output_type": "stream",
          "name": "stdout",
          "text": [
            "[23.361103  19.518507   0.5224361]\n"
          ]
        }
      ]
    },
    {
      "cell_type": "markdown",
      "source": [
        "# Export to STM32"
      ],
      "metadata": {
        "id": "rB2GEVaYSFSn"
      }
    },
    {
      "cell_type": "markdown",
      "source": [
        "following:\n",
        "This [tutorial](https://www.digikey.de/en/maker/projects/tinyml-getting-started-with-stm32-x-cube-ai/f94e1c8bfc1e4b6291d0f672d780d2c0) from DigiKey "
      ],
      "metadata": {
        "id": "NMQ5nDGrXHo_"
      }
    },
    {
      "cell_type": "code",
      "source": [
        "# settings\n",
        "tflite_model_name = 'pulse_reco'  # Will be given .tflite suffix\n",
        "c_model_name = 'pulse_reco'       # Will be given .h suffix"
      ],
      "metadata": {
        "id": "aL0G5NQ8YULj"
      },
      "execution_count": 93,
      "outputs": []
    },
    {
      "cell_type": "code",
      "source": [
        "# Convert Keras model to a tflite model\n",
        "converter = tf.lite.TFLiteConverter.from_keras_model(model_1)\n",
        "converter.optimizations = [tf.lite.Optimize.DEFAULT]  # option OPTIMIZE_FOR_SIZE is deprecated\n",
        "tflite_model = converter.convert()\n",
        "\n",
        "open(tflite_model_name+'.tflite', 'wb').write(tflite_model)"
      ],
      "metadata": {
        "colab": {
          "base_uri": "https://localhost:8080/"
        },
        "id": "aRqSNF9LXy-4",
        "outputId": "f56818c0-46dd-4569-a947-8f7b84efbb76"
      },
      "execution_count": 94,
      "outputs": [
        {
          "output_type": "stream",
          "name": "stdout",
          "text": [
            "INFO:tensorflow:Assets written to: /tmp/tmpk1rjidqa/assets\n"
          ]
        },
        {
          "output_type": "stream",
          "name": "stderr",
          "text": [
            "INFO:tensorflow:Assets written to: /tmp/tmpk1rjidqa/assets\n",
            "WARNING:absl:Buffer deduplication procedure will be skipped when flatbuffer library is not properly loaded\n"
          ]
        },
        {
          "output_type": "execute_result",
          "data": {
            "text/plain": [
              "13856"
            ]
          },
          "metadata": {},
          "execution_count": 94
        }
      ]
    },
    {
      "cell_type": "markdown",
      "source": [
        "For usage inside the [STM32Cube.AI](https://www.st.com/content/st_com/en/support/learning/stm32-education/stm32-moocs/Introduction_to_STM32CubeAI_MOOC.html) it is sufficient to just have the tensorflow light model. The special export seems not be needed."
      ],
      "metadata": {
        "id": "oF93jw-v-FMP"
      }
    },
    {
      "cell_type": "markdown",
      "source": [
        "We have to define a special function, which exports our data into a H-file, which can be later used and included into our microcontroller code.\n",
        "\n",
        "The function is from https://gist.github.com/ShawnHymel/79237fe6aee5a3653c497d879f746c0c"
      ],
      "metadata": {
        "id": "tQG-2XJIZkFU"
      }
    },
    {
      "cell_type": "markdown",
      "source": [
        "## Test the TFlite model"
      ],
      "metadata": {
        "id": "gt7YY5yMGLrD"
      }
    },
    {
      "cell_type": "code",
      "source": [
        "# Load the TFLite model and allocate tensors.\n",
        "interpreter = tf.lite.Interpreter(model_path=tflite_model_name+\".tflite\")\n",
        "interpreter.allocate_tensors()\n",
        "\n",
        "# Get input and output tensors.\n",
        "input_details = interpreter.get_input_details()\n",
        "output_details = interpreter.get_output_details()\n",
        "\n",
        "# Test the model on random input data.\n",
        "input_shape = input_details[0]['shape']\n",
        "\n",
        "input_data = np.array(np.zeros(input_shape), dtype=np.float32)\n",
        "interpreter.set_tensor(input_details[0]['index'], input_data)\n",
        "\n",
        "interpreter.invoke()\n",
        "\n",
        "output_data = interpreter.get_tensor(output_details[0]['index'])[0]\n",
        "print(output_data)\n"
      ],
      "metadata": {
        "colab": {
          "base_uri": "https://localhost:8080/"
        },
        "id": "a_k8NQt_GRop",
        "outputId": "599c74a0-279a-40b9-f714-a904b0e17653"
      },
      "execution_count": 95,
      "outputs": [
        {
          "output_type": "stream",
          "name": "stdout",
          "text": [
            "[23.346579  19.511478   0.5471972]\n"
          ]
        }
      ]
    },
    {
      "cell_type": "markdown",
      "source": [
        "# Use quantization aware training\n",
        "Translate the model into int8 and fine tune it. Then export it again for STM32"
      ],
      "metadata": {
        "id": "tFnSEZxL3doj"
      }
    },
    {
      "cell_type": "markdown",
      "source": [
        "## Install all prerequisites"
      ],
      "metadata": {
        "id": "uwU7nN8044Ps"
      }
    },
    {
      "cell_type": "code",
      "source": [
        " !pip install -q tensorflow\n",
        " !pip install -q tensorflow-model-optimization"
      ],
      "metadata": {
        "id": "o9HT1fOE4QhG"
      },
      "execution_count": 96,
      "outputs": []
    },
    {
      "cell_type": "markdown",
      "source": [
        "## Convert the model into a quantization aware one"
      ],
      "metadata": {
        "id": "GKux72Hn48S1"
      }
    },
    {
      "cell_type": "code",
      "source": [
        "import tensorflow_model_optimization as tfmot\n",
        "\n",
        "quantize_model = tfmot.quantization.keras.quantize_model\n",
        "\n",
        "# q_aware stands for for quantization aware.\n",
        "q_aware_model = quantize_model(model_1)\n",
        "\n",
        "# `quantize_model` requires a recompile.\n",
        "#q_aware_model.compile(optimizer='adam', loss='mse', metrics=['mae'])\n",
        "\n",
        "q_aware_model.compile(optimizer='adam',\n",
        "              loss='mse',\n",
        "              metrics=['accuracy'])\n",
        "\n",
        "q_aware_model.summary()\n"
      ],
      "metadata": {
        "colab": {
          "base_uri": "https://localhost:8080/"
        },
        "id": "hTiWONeb3dQe",
        "outputId": "a113be6b-acd5-428d-cdda-43b1673c2db1"
      },
      "execution_count": 97,
      "outputs": [
        {
          "output_type": "stream",
          "name": "stdout",
          "text": [
            "Model: \"model_1\"\n",
            "_________________________________________________________________\n",
            " Layer (type)                Output Shape              Param #   \n",
            "=================================================================\n",
            " waveform_input (InputLayer)  [(None, 128)]            0         \n",
            "                                                                 \n",
            " quantize_layer_4 (QuantizeL  (None, 128)              3         \n",
            " ayer)                                                           \n",
            "                                                                 \n",
            " quant_layer_0 (QuantizeWrap  (None, 64)               8261      \n",
            " perV2)                                                          \n",
            "                                                                 \n",
            " quant_layer_1 (QuantizeWrap  (None, 32)               2085      \n",
            " perV2)                                                          \n",
            "                                                                 \n",
            " quant_layer_2 (QuantizeWrap  (None, 32)               1061      \n",
            " perV2)                                                          \n",
            "                                                                 \n",
            " quant_classification (Quant  (None, 3)                104       \n",
            " izeWrapperV2)                                                   \n",
            "                                                                 \n",
            "=================================================================\n",
            "Total params: 11,514\n",
            "Trainable params: 11,491\n",
            "Non-trainable params: 23\n",
            "_________________________________________________________________\n"
          ]
        }
      ]
    },
    {
      "cell_type": "code",
      "source": [
        "history_q = q_aware_model.fit(y_train, x_train, batch_size=50, epochs=10, validation_split=0.1)"
      ],
      "metadata": {
        "colab": {
          "base_uri": "https://localhost:8080/"
        },
        "id": "CkLWrWNs39gD",
        "outputId": "122b0aac-c681-46ec-ecf0-062d104c6433"
      },
      "execution_count": 98,
      "outputs": [
        {
          "output_type": "stream",
          "name": "stdout",
          "text": [
            "Epoch 1/10\n",
            "108/108 [==============================] - 2s 5ms/step - loss: 2163.6687 - accuracy: 0.0000e+00 - val_loss: 2017.1899 - val_accuracy: 0.0000e+00\n",
            "Epoch 2/10\n",
            "108/108 [==============================] - 0s 3ms/step - loss: 2052.5166 - accuracy: 0.0000e+00 - val_loss: 1903.2288 - val_accuracy: 0.0000e+00\n",
            "Epoch 3/10\n",
            "108/108 [==============================] - 1s 5ms/step - loss: 1926.6118 - accuracy: 0.0000e+00 - val_loss: 1768.7845 - val_accuracy: 0.0000e+00\n",
            "Epoch 4/10\n",
            "108/108 [==============================] - 0s 3ms/step - loss: 1786.9500 - accuracy: 0.0000e+00 - val_loss: 1630.3879 - val_accuracy: 0.0000e+00\n",
            "Epoch 5/10\n",
            "108/108 [==============================] - 0s 3ms/step - loss: 1640.2719 - accuracy: 0.0000e+00 - val_loss: 1481.2667 - val_accuracy: 0.0000e+00\n",
            "Epoch 6/10\n",
            "108/108 [==============================] - 0s 3ms/step - loss: 1485.2728 - accuracy: 0.0000e+00 - val_loss: 1332.3098 - val_accuracy: 0.0000e+00\n",
            "Epoch 7/10\n",
            "108/108 [==============================] - 1s 5ms/step - loss: 1332.7402 - accuracy: 0.0630 - val_loss: 1180.2828 - val_accuracy: 0.5150\n",
            "Epoch 8/10\n",
            "108/108 [==============================] - 1s 6ms/step - loss: 1184.2246 - accuracy: 0.6694 - val_loss: 1051.7240 - val_accuracy: 0.7600\n",
            "Epoch 9/10\n",
            "108/108 [==============================] - 1s 7ms/step - loss: 1056.2578 - accuracy: 0.9161 - val_loss: 932.0071 - val_accuracy: 0.9600\n",
            "Epoch 10/10\n",
            "108/108 [==============================] - 1s 7ms/step - loss: 927.4814 - accuracy: 0.9993 - val_loss: 807.7147 - val_accuracy: 1.0000\n"
          ]
        }
      ]
    },
    {
      "cell_type": "code",
      "source": [
        "### Draw a graph of the loss, which is the distance between\n",
        "# the predicted and actual values during training and validation.\n",
        "q_train_loss = history_q.history['loss']\n",
        "q_val_loss = history_q.history['val_loss']\n",
        "\n",
        "epochs = range(1, len(q_train_loss) + 1)\n",
        "\n",
        "plt.plot(epochs, q_train_loss, 'g.', label='Training loss')\n",
        "plt.plot(epochs, q_val_loss, 'b', label='Validation loss')\n",
        "plt.title('Training and validation loss (quantization)')\n",
        "plt.xlabel('Epochs')\n",
        "plt.ylabel('Loss')\n",
        "plt.legend()\n",
        "plt.show()"
      ],
      "metadata": {
        "colab": {
          "base_uri": "https://localhost:8080/",
          "height": 295
        },
        "id": "IsWlym2x94gX",
        "outputId": "f33d648b-ad88-46df-987d-944638359578"
      },
      "execution_count": 99,
      "outputs": [
        {
          "output_type": "display_data",
          "data": {
            "text/plain": [
              "<Figure size 432x288 with 1 Axes>"
            ],
            "image/png": "[encoded data removed]"
          },
          "metadata": {
            "needs_background": "light"
          }
        }
      ]
    },
    {
      "cell_type": "code",
      "source": [
        "# Convert Keras model to a tflite model\n",
        "converter = tf.lite.TFLiteConverter.from_keras_model(q_aware_model)\n",
        "converter.optimizations = [tf.lite.Optimize.DEFAULT]  # option OPTIMIZE_FOR_SIZE is deprecated\n",
        "tflite_model = converter.convert()\n",
        "\n",
        "open(tflite_model_name+'qaware'+'.tflite', 'wb').write(tflite_model)"
      ],
      "metadata": {
        "colab": {
          "base_uri": "https://localhost:8080/"
        },
        "id": "u5-3BSKo54sy",
        "outputId": "1fac4f5b-35be-4e5b-e6bc-991d7e684450"
      },
      "execution_count": 100,
      "outputs": [
        {
          "output_type": "stream",
          "name": "stderr",
          "text": [
            "WARNING:absl:Found untraced functions such as layer_0_layer_call_fn, layer_0_layer_call_and_return_conditional_losses, layer_1_layer_call_fn, layer_1_layer_call_and_return_conditional_losses, layer_2_layer_call_fn while saving (showing 5 of 8). These functions will not be directly callable after loading.\n"
          ]
        },
        {
          "output_type": "stream",
          "name": "stdout",
          "text": [
            "INFO:tensorflow:Assets written to: /tmp/tmpm3ft8axp/assets\n"
          ]
        },
        {
          "output_type": "stream",
          "name": "stderr",
          "text": [
            "INFO:tensorflow:Assets written to: /tmp/tmpm3ft8axp/assets\n",
            "/usr/local/lib/python3.7/dist-packages/tensorflow/lite/python/convert.py:746: UserWarning: Statistics for quantized inputs were expected, but not specified; continuing anyway.\n",
            "  warnings.warn(\"Statistics for quantized inputs were expected, but not \"\n",
            "WARNING:absl:Buffer deduplication procedure will be skipped when flatbuffer library is not properly loaded\n"
          ]
        },
        {
          "output_type": "execute_result",
          "data": {
            "text/plain": [
              "15024"
            ]
          },
          "metadata": {},
          "execution_count": 100
        }
      ]
    },
    {
      "cell_type": "markdown",
      "source": [
        "## Check quantization aware model"
      ],
      "metadata": {
        "id": "Id73GTUO6WnJ"
      }
    },
    {
      "cell_type": "code",
      "source": [
        "_, baseline_model_accuracy = model_1.evaluate(\n",
        "    y_validate, x_validate, verbose=0)\n",
        "\n",
        "_, q_aware_model_accuracy = q_aware_model.evaluate(\n",
        "   y_validate, x_validate, verbose=0)\n",
        "\n",
        "print('Baseline test accuracy:', baseline_model_accuracy)\n",
        "print('Quant test accuracy:   ', q_aware_model_accuracy)\n"
      ],
      "metadata": {
        "colab": {
          "base_uri": "https://localhost:8080/"
        },
        "id": "_PW-1LPY6fNK",
        "outputId": "7d3b6cd6-c838-4d5d-af56-4b6d10a7b414"
      },
      "execution_count": 104,
      "outputs": [
        {
          "output_type": "stream",
          "name": "stdout",
          "text": [
            "Baseline test accuracy: 0.6782814860343933\n",
            "Quant test accuracy:    1.0\n"
          ]
        }
      ]
    },
    {
      "cell_type": "code",
      "source": [
        "qx_test_pred = np.array( q_aware_model.predict(y_test)[0])\n",
        "x_test_pred  = np.array( model_1.predict(y_test)[0])\n",
        "\n",
        "print(\"sample pulse created:    \", x_test)\n",
        "print(\"ANN reconstructed:       \", x_test_pred)\n",
        "print(\"ANN quant reconstructed: \", qx_test_pred)"
      ],
      "metadata": {
        "colab": {
          "base_uri": "https://localhost:8080/"
        },
        "id": "Gn8rG0Tb61ha",
        "outputId": "54998af7-6150-4589-f69d-7f7dfa06804d"
      },
      "execution_count": 102,
      "outputs": [
        {
          "output_type": "stream",
          "name": "stdout",
          "text": [
            "sample pulse created:     [23 16 57]\n",
            "ANN reconstructed:        [18.809925 21.864513 57.298904]\n",
            "ANN quant reconstructed:  [15.265374 22.520205 36.57644 ]\n"
          ]
        }
      ]
    },
    {
      "cell_type": "markdown",
      "source": [
        "# Generate Test data for STM32\n",
        "In order to test the function of the ANN, especially its performance in time a certain \"test\" dataset is needed.\n",
        "\n",
        "The plan is to transfer the test data via serial communication to the device, and then give it a command to run the ANN on this data.\n",
        "\n",
        "Since timing is critical and should be measured, this can be done best by the duration of a digital signal. \n",
        "\n",
        "So a digital pin is set high while the ANN is running. When the result is ready, the pin can be lowered again. By sampling this pin with a logic analyser / oscilloscope it is possible to determine the run time of the ANN."
      ],
      "metadata": {
        "id": "iLiVoCr7vC3v"
      }
    },
    {
      "cell_type": "code",
      "source": [
        "parameters = []\n",
        "waveforms = []\n",
        "\n",
        "for i in range(10):\n",
        "  width = np.random.randint(16, 64)               # width of 16 to 64\n",
        "  position = np.random.randint(0, high=96-width) # arbitrary position\n",
        "  noise = np.random.randint(1,30)/10.             # 0.1 to 3 LSB noise\n",
        "  height = np.random.randint(32,128)              # pulse height of 32 to 128\n",
        "\n",
        "  parameters.append((position, width, noise, height))\n",
        "  waveforms.append( generateTemplate(position = position, pulse_length = width, height=height, noise=noise) )\n",
        "\n",
        "print(parameters)\n",
        "print(waveforms)\n",
        "\n",
        "np.savez(\"test_data.npz\", parameters=parameters, waveforms=waveforms)"
      ],
      "metadata": {
        "colab": {
          "base_uri": "https://localhost:8080/"
        },
        "outputId": "82a23ecd-c313-4902-aea0-ee3cd32cb3c4",
        "id": "MRk0LTICyPNs"
      },
      "execution_count": 103,
      "outputs": [
        {
          "output_type": "stream",
          "name": "stdout",
          "text": [
            "[(35, 47, 2.4, 85), (29, 60, 1.7, 104), (30, 20, 2.1, 38), (58, 21, 0.8, 37), (49, 44, 0.6, 59), (7, 39, 2.0, 35), (0, 39, 1.6, 107), (36, 42, 1.0, 104), (30, 45, 2.3, 77), (11, 35, 2.5, 46)]\n",
            "[array([ 1,  0,  0,  2, -2,  1,  0,  0, -3, -1,  0,  0, -2, -6,  2,  4, -1,\n",
            "       -1, -3,  1,  0,  0, -2,  0, -1,  2,  1,  2,  1,  0, -4,  0, -3,  0,\n",
            "        3,  2, 18, 44, 64, 84, 83, 85, 86, 86, 87, 84, 80, 83, 84, 87, 83,\n",
            "       85, 87, 83, 83, 81, 90, 86, 85, 84, 81, 83, 84, 83, 86, 81, 85, 90,\n",
            "       80, 84, 83, 81, 82, 82, 84, 86, 89, 85, 88, 83, 85, 85, 85, 80, 84,\n",
            "       88, 85, 64, 39, 23,  1,  0, -2,  1,  2,  0, -2,  0,  1,  3,  0, -1,\n",
            "        2,  0,  0,  0,  1, -1,  0, -2, -2, -1,  0,  0, -4, -1, -3,  0,  1,\n",
            "       -2,  4, -1, -1,  2,  2,  2,  1,  1]), array([  0,   0,  -1,   0,   2,   0,   3,  -1,   0,  -1,   1,   1,   0,\n",
            "         0,  -1,   0,  -1,  -2,  -1,  -1,   0,  -2,   1,   1,   1,  -3,\n",
            "         0,   1,   0,   0,  25,  52,  80, 103, 100, 103, 103, 105, 104,\n",
            "       103, 101, 104, 105, 104, 103, 105, 103, 106, 102, 104, 102, 103,\n",
            "       106, 107, 102, 105, 102, 103, 103, 102, 102, 104, 104, 100, 102,\n",
            "       102, 104, 103, 103, 102, 103, 103, 106, 103, 103, 105, 102, 102,\n",
            "       103, 103, 109, 102, 104, 103, 101, 102, 106, 105, 104, 104, 106,\n",
            "       103, 105, 106,  77,  49,  26,   0,   2,   1,   2,   0,  -1,   2,\n",
            "         2,  -1,   1,   0,   0,  -2,  -2,   2,   2,   0,   0,   0,   0,\n",
            "         0,   0,   0,   1,   1,   0,  -1,  -2,   1,   0,   0]), array([ 0,  1,  0,  0,  1,  2, -1, -1,  0,  2,  0,  2,  0,  4,  0,  0,  3,\n",
            "        3,  0, -2,  1,  0,  2,  2, -2, -2,  0,  0, -1,  0,  1,  8, 18, 27,\n",
            "       41, 35, 38, 39, 40, 38, 38, 38, 37, 40, 34, 35, 34, 41, 35, 39, 38,\n",
            "       38, 39, 39, 37, 30, 20,  9, -1,  0,  3,  0, -1,  0, -1,  1,  0,  0,\n",
            "       -2,  0,  1,  0,  0,  0,  0,  0, -1, -1,  0,  0,  0, -1,  0, -1, -3,\n",
            "        0, -1,  0,  3,  0,  0, -1, -3,  0, -2, -1, -3,  3,  3, -1,  1,  1,\n",
            "        0, -2, -1,  0,  2,  3,  0,  0,  2,  0, -4,  2,  0,  0,  0,  0,  0,\n",
            "        0,  0, -5, -2,  0,  0,  1,  0,  0]), array([ 0, -1,  0,  0,  0,  1,  0,  0,  0,  0,  0,  1,  0,  0,  0,  0, -1,\n",
            "        0, -1,  0,  1,  0,  0,  0,  0,  0,  0,  0,  0,  0,  0,  0,  0,  0,\n",
            "        0,  0,  0,  0,  0,  0,  0,  0,  1,  0,  0,  0,  0,  0, -1,  0,  0,\n",
            "        0,  0,  0,  0,  1,  0,  0,  0,  9, 18, 28, 37, 36, 35, 37, 35, 36,\n",
            "       37, 37, 36, 36, 37, 37, 36, 36, 35, 35, 38, 36, 37, 36, 36, 36, 27,\n",
            "       18,  8,  0,  0, -1,  0,  0,  1,  0,  0,  0, -1,  0,  0,  0,  0,  0,\n",
            "        1,  0,  0,  1,  0,  0, -1,  0,  0,  0,  0,  0,  0,  0,  0, -2,  1,\n",
            "        0,  0,  0,  0,  0,  0,  1,  0,  0]), array([ 0,  0,  0,  0,  0,  0,  0,  0,  0,  0,  0,  0,  0,  0,  0,  0,  0,\n",
            "        0,  0,  0,  0,  0,  0, -1,  0,  0,  0,  0,  0,  0,  0,  0,  0,  0,\n",
            "        0,  0,  0, -1,  0,  0,  0,  0,  0,  0,  0,  0,  0,  0,  0,  0, 14,\n",
            "       29, 44, 58, 58, 58, 58, 59, 59, 58, 58, 59, 59, 59, 58, 58, 59, 57,\n",
            "       59, 59, 59, 59, 58, 58, 57, 58, 58, 58, 59, 59, 59, 59, 59, 59, 58,\n",
            "       59, 60, 58, 59, 58, 58, 58, 58, 59, 59, 59, 58, 58, 43, 29, 14,  0,\n",
            "        0,  0,  0,  0,  0,  1,  0,  0,  0,  0,  0,  0,  0,  0,  0,  0,  0,\n",
            "        0,  0,  0,  0,  0,  0,  0,  0,  0]), array([ 0, -1, -3,  0,  1,  0,  1,  1,  8, 16, 26, 36, 35, 32, 34, 34, 34,\n",
            "       36, 32, 36, 36, 34, 38, 33, 36, 34, 36, 34, 36, 33, 36, 32, 35, 36,\n",
            "       33, 36, 33, 35, 40, 37, 39, 32, 35, 33, 35, 33, 34, 37, 33, 33, 35,\n",
            "       29, 18,  9,  1,  2,  1,  1,  2,  0,  5,  0,  0,  0,  0,  0,  1,  1,\n",
            "        3,  0,  0,  3,  0, -3,  3, -2,  0, -2,  0, -1,  0,  0,  0,  2,  0,\n",
            "        1, -1,  0, -1,  0, -1,  0,  0,  0,  0,  1, -3,  1, -3,  0,  1, -3,\n",
            "        1,  0,  0,  1, -3, -2,  5,  1,  2, -1, -3,  0,  0, -3, -3, -1, -1,\n",
            "        1, -1, -5,  1, -3,  0, -1,  0,  0]), array([  0,  26,  53,  79, 108, 105, 106, 108, 106, 108, 107, 105, 106,\n",
            "       105, 108, 102, 106, 107, 106, 106, 107, 106, 105, 105, 109, 107,\n",
            "       107, 108, 105, 109, 108, 106, 109, 108, 106, 107, 103, 107, 105,\n",
            "       106, 106, 106, 107, 107,  77,  55,  28,   0,   2,   0,  -1,   0,\n",
            "         2,   1,   2,   0,   1,   0,   0,   1,   0,   0,   2,  -1,  -1,\n",
            "        -2,   0,   0,  -2,   0,   2,   0,   0,   0,   3,  -2,  -1,   0,\n",
            "        -2,  -1,   0,   0,   0,   1,   1,   0,   0,  -2,   0,  -1,   0,\n",
            "         2,  -1,  -1,   1,  -3,   0,   0,   1,   1,   2,   0,   1,   0,\n",
            "        -3,   0,   0,  -3,   3,  -1,   1,   0,  -3,   0,   0,  -1,  -1,\n",
            "        -1,  -3,  -2,   0,  -2,   0,   1,   0,   0,   1,  -2]), array([  0,   1,   0,   0,   0,   1,   0,   0,  -1,   0,   1,   0,   0,\n",
            "        -2,   0,   0,   1,   0,  -1,   2,   0,   0,   0,   0,   0,   0,\n",
            "         0,   0,   0,   0,   0,   0,   0,   1,   0,   0,  -1,  25,  52,\n",
            "        77, 104, 103, 104, 104, 103, 105, 104, 104, 103, 104, 103, 105,\n",
            "       102, 104, 104, 102, 103, 103, 103, 105, 106, 104, 104, 103, 103,\n",
            "       103, 102, 103, 104, 103, 103, 104, 104, 105, 103, 103, 105, 102,\n",
            "       103, 105, 103, 105, 104,  79,  52,  27,   0,   0,  -1,   0,  -1,\n",
            "        -1,  -1,   0,   0,   0,   0,   0,   0,   0,   0,   0,   0,   0,\n",
            "         0,   0,  -1,   0,   0,   0,   0,   0,   1,   0,   0,   0,   0,\n",
            "         0,   0,   0,   0,  -1,   0,  -1,   0,  -1,   0,   0]), array([ 2,  2, -4,  2, -1,  0,  4,  0,  0,  2,  0,  0,  2, -1,  0,  2,  5,\n",
            "        0, -1, -1,  2,  1, -5,  4,  0,  0,  3,  1,  0, -1,  4, 18, 44, 56,\n",
            "       77, 78, 74, 78, 76, 72, 76, 74, 78, 77, 78, 72, 78, 76, 77, 77, 78,\n",
            "       78, 78, 77, 72, 77, 74, 81, 78, 74, 76, 76, 77, 75, 74, 83, 75, 78,\n",
            "       75, 75, 77, 74, 74, 79, 76, 73, 79, 76, 80, 74, 58, 36, 19, -2,  0,\n",
            "        1,  0, -2,  3,  2, -1,  3, -1,  0,  0,  0,  0,  2,  2, -2,  1,  0,\n",
            "        6, -2,  0,  0,  2, -2,  0,  1,  0,  0,  0,  0,  1,  0,  3, -1,  1,\n",
            "       -2,  2,  1, -1,  0,  0,  1, -2,  1]), array([ 4,  1,  6, -3,  2,  0,  1,  0, -3,  2,  4,  1,  5, 24, 36, 46, 47,\n",
            "       42, 48, 50, 48, 49, 44, 43, 50, 46, 47, 43, 44, 45, 50, 42, 46, 49,\n",
            "       42, 47, 50, 45, 48, 47, 51, 44, 40, 48, 46, 50, 46, 45, 43, 47, 40,\n",
            "       37, 27, 13, -2,  0, -2, -2, -3,  1,  0,  0,  0,  3,  2, -1,  2, -1,\n",
            "        4, -2,  0,  0, -2,  0, -4,  3,  1,  1,  1,  2, -1, -1,  1, -3,  4,\n",
            "        0,  0, -1, -1, -1, -1,  0,  3,  2,  2, -1,  0,  1,  1, -1,  0, -1,\n",
            "       -5, -1,  0, -3,  3, -2,  0,  0,  2, -1,  0, -1, -4,  5,  0,  0,  0,\n",
            "        2,  0, -2, -1,  0, -1, -1,  0,  2])]\n"
          ]
        }
      ]
    }
  ]
}