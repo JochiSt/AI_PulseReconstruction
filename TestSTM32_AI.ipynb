{
  "nbformat": 4,
  "nbformat_minor": 0,
  "metadata": {
    "colab": {
      "name": "TestSTM32_AI.ipynb",
      "provenance": [],
      "collapsed_sections": [],
      "authorship_tag": "ABX9TyNL78zUpXODfeW+ejMgSado",
      "include_colab_link": true
    },
    "kernelspec": {
      "name": "python3",
      "display_name": "Python 3"
    },
    "language_info": {
      "name": "python"
    }
  },
  "cells": [
    {
      "cell_type": "markdown",
      "metadata": {
        "id": "view-in-github",
        "colab_type": "text"
      },
      "source": [
        "<a href=\"https://colab.research.google.com/github/JochiSt/AI_PulseReconstruction/blob/main/TestSTM32_AI.ipynb\" target=\"_parent\"><img src=\"https://colab.research.google.com/assets/colab-badge.svg\" alt=\"Open In Colab\"/></a>"
      ]
    },
    {
      "cell_type": "markdown",
      "source": [
        "# Pulse recognition AI\n",
        "\n",
        "first all the imports"
      ],
      "metadata": {
        "id": "brM0YAG3Vcen"
      }
    },
    {
      "cell_type": "code",
      "execution_count": 605,
      "metadata": {
        "id": "dW80rxgzVZ8z"
      },
      "outputs": [],
      "source": [
        "import numpy as np\n",
        "import matplotlib.pyplot as plt\n",
        "from matplotlib.colors import LogNorm"
      ]
    },
    {
      "cell_type": "markdown",
      "source": [
        "## Generate template"
      ],
      "metadata": {
        "id": "XUxegHb0V0qN"
      }
    },
    {
      "cell_type": "code",
      "source": [
        "TOTAL_SAMPLES = 128\n",
        "RISING_POINTS = 4\n",
        "\n",
        "def generateTemplate(position = 0, pulse_length = 32, height=1, noise=0, offset=0):\n",
        "\n",
        "  assert TOTAL_SAMPLES - pulse_length - position - RISING_POINTS * 2 > 0\n",
        "\n",
        "  # zeroes at front of the pulse\n",
        "  template = np.zeros(position)\n",
        "\n",
        "  # create rising edge\n",
        "  template = np.append(template, np.linspace(0,1,RISING_POINTS, endpoint=False))\n",
        "\n",
        "  # high part of the pulse\n",
        "  template = np.append(template, np.ones(pulse_length))\n",
        "\n",
        "  # create falling edge\n",
        "  template = np.append(template, np.linspace(1,0,RISING_POINTS, endpoint=False))\n",
        "\n",
        "  # zeroes after the pulse\n",
        "  template = np.append(template, np.zeros( TOTAL_SAMPLES - pulse_length - position - 2*RISING_POINTS))\n",
        "\n",
        "  # multiply by the height to get the right amplitude\n",
        "  template *= height\n",
        "\n",
        "  # add some noise\n",
        "  template  += noise * np.random.randn(*template.shape)\n",
        "\n",
        "  # add a constant offset\n",
        "  template += offset\n",
        "\n",
        "  # clip template to range [0, 255]\n",
        "  template = np.clip(template, 0, 255)\n",
        "\n",
        "  # convert to integer\n",
        "  template = template.astype(int)\n",
        "\n",
        "  return template\n",
        "\n",
        "print(\"template length: \", len(generateTemplate()))"
      ],
      "metadata": {
        "colab": {
          "base_uri": "https://localhost:8080/"
        },
        "id": "RPOJ8P9jWBRa",
        "outputId": "840fb39c-d164-46c0-f5b5-d56ddd92d895"
      },
      "execution_count": 606,
      "outputs": [
        {
          "output_type": "stream",
          "name": "stdout",
          "text": [
            "template length:  128\n"
          ]
        }
      ]
    },
    {
      "cell_type": "markdown",
      "source": [
        "Have a look at the template visually"
      ],
      "metadata": {
        "id": "I1PFw1tzV8kx"
      }
    },
    {
      "cell_type": "code",
      "source": [
        "plt.plot(generateTemplate(position = 32, pulse_length=32, height=128), 'b.')\n",
        "plt.plot(generateTemplate(position = 16, pulse_length=64, height=128), 'r.')\n",
        "plt.show()"
      ],
      "metadata": {
        "colab": {
          "base_uri": "https://localhost:8080/",
          "height": 265
        },
        "id": "L1VUYDhUWw9t",
        "outputId": "eb939271-aa77-45ae-c016-e07ca3caf53e"
      },
      "execution_count": 607,
      "outputs": [
        {
          "output_type": "display_data",
          "data": {
            "text/plain": [
              "<Figure size 432x288 with 1 Axes>"
            ],
            "image/png": "[encoded data removed]"
          },
          "metadata": {
            "needs_background": "light"
          }
        }
      ]
    },
    {
      "cell_type": "markdown",
      "source": [
        "add some noise, and maybe shift the position\n",
        "\n",
        "\n",
        "\n"
      ],
      "metadata": {
        "id": "kYBulwl2XGvg"
      }
    },
    {
      "cell_type": "code",
      "source": [
        "# Plot our data\n",
        "plt.plot(generateTemplate(height=128, noise=1), 'b.')\n",
        "plt.show()"
      ],
      "metadata": {
        "id": "ouyegrmBXGJg",
        "colab": {
          "base_uri": "https://localhost:8080/",
          "height": 265
        },
        "outputId": "b568d112-8df9-4805-af36-c571f12d4dd8"
      },
      "execution_count": 608,
      "outputs": [
        {
          "output_type": "display_data",
          "data": {
            "text/plain": [
              "<Figure size 432x288 with 1 Axes>"
            ],
            "image/png": "[encoded data removed]"
          },
          "metadata": {
            "needs_background": "light"
          }
        }
      ]
    },
    {
      "cell_type": "markdown",
      "source": [
        "## Create Templates for recognision\n",
        "\n",
        "Generate a couple of templates, which have a pulse in them, and some without any data"
      ],
      "metadata": {
        "id": "u1emwvE7ogUq"
      }
    },
    {
      "cell_type": "code",
      "source": [
        "for i in range(10):\n",
        "  width = np.random.randint(16, 64)               # width of 16 to 64\n",
        "  position = np.random.randint(0, high=96-width) # arbitrary position\n",
        "  noise = np.random.randint(1,30)/10.             # 0.1 to 3 LSB noise\n",
        "  height = np.random.randint(32,250)              # pulse height of 32 to 128\n",
        "\n",
        "  print(position, width, noise, height)\n",
        "  plt.plot(generateTemplate(position = position, pulse_length = width, height=height, noise=noise))\n",
        "\n",
        "plt.show()"
      ],
      "metadata": {
        "colab": {
          "base_uri": "https://localhost:8080/",
          "height": 449
        },
        "id": "1bzxxYb7odBS",
        "outputId": "304c2910-aae5-4f17-d527-5ca1a859a6d6"
      },
      "execution_count": 609,
      "outputs": [
        {
          "output_type": "stream",
          "name": "stdout",
          "text": [
            "20 59 2.3 48\n",
            "39 24 2.0 118\n",
            "30 30 2.7 207\n",
            "41 52 1.7 99\n",
            "34 45 1.8 54\n",
            "15 22 2.0 243\n",
            "0 62 2.8 148\n",
            "20 41 2.7 237\n",
            "55 28 1.0 136\n",
            "17 56 1.5 232\n"
          ]
        },
        {
          "output_type": "display_data",
          "data": {
            "text/plain": [
              "<Figure size 432x288 with 1 Axes>"
            ],
            "image/png": "[encoded data removed]"
          },
          "metadata": {
            "needs_background": "light"
          }
        }
      ]
    },
    {
      "cell_type": "markdown",
      "source": [
        "# Building the ANN\n"
      ],
      "metadata": {
        "id": "gEwEaXGCzATx"
      }
    },
    {
      "cell_type": "markdown",
      "source": [
        "### Purpose of the ANN\n",
        "We want to do Pattern Recognition, based on the waveforms shown above.\n",
        "\n",
        "The output parameters, which we want to reconstruct are:\n",
        "*   Width\n",
        "*   Position\n",
        "*   height\n"
      ],
      "metadata": {
        "id": "xAJs9gcpMi9V"
      }
    },
    {
      "cell_type": "markdown",
      "source": [
        "Starting with importing all things, which we need for creating a model"
      ],
      "metadata": {
        "id": "ffHEzdBezI__"
      }
    },
    {
      "cell_type": "code",
      "source": [
        "# TensorFlow is an open source machine learning library\n",
        "import tensorflow as tf\n",
        "# Keras is TensorFlow's high-level API for deep learning\n",
        "from tensorflow import keras"
      ],
      "metadata": {
        "id": "AVbyQZoBzNxw"
      },
      "execution_count": 610,
      "outputs": []
    },
    {
      "cell_type": "code",
      "source": [
        "# number of samples for training, testing etc.\n",
        "SAMPLES = 100000"
      ],
      "metadata": {
        "id": "_2mfaOUkzo12"
      },
      "execution_count": 611,
      "outputs": []
    },
    {
      "cell_type": "markdown",
      "source": [
        "## Generate the samples\n",
        "We want to do Pattern recognition, so we have to link the waveforms to the input parameters."
      ],
      "metadata": {
        "id": "UCMepv3tzyM9"
      }
    },
    {
      "cell_type": "code",
      "source": [
        "# scale parameters to get values between 0 and 1\n",
        "SCALE_WIDTH = 64\n",
        "SCALE_POS = 32\n",
        "SCALE_HEIGHT = 255"
      ],
      "metadata": {
        "id": "yxy-rub9I2-K"
      },
      "execution_count": 612,
      "outputs": []
    },
    {
      "cell_type": "code",
      "source": [
        "# parameters for template generation\n",
        "P_width = (8,64)\n",
        "P_position = (16,24)\n",
        "P_height = (32, 255)\n",
        "P_offset = (0,10)"
      ],
      "metadata": {
        "id": "-g8CSmkVHUvM"
      },
      "execution_count": 613,
      "outputs": []
    },
    {
      "cell_type": "code",
      "source": [
        "# use fixed value for noise (1st try)\n",
        "noise = 1 \n",
        "\n",
        "y_values = []\n",
        "x_values = []\n",
        "\n",
        "# generate the waveforms\n",
        "for i in range(SAMPLES):\n",
        "  # use random settings\n",
        "  width = np.random.randint( *P_width )       # width\n",
        "  position = np.random.randint( *P_position ) # limit position into a certain window\n",
        "  height = np.random.randint( *P_height )     # pulse height\n",
        "  offset = np.random.randint( *P_offset )     # constant offset\n",
        "\n",
        "  x_values.append( (width/SCALE_WIDTH, position/SCALE_POS, height/SCALE_HEIGHT) )\n",
        "  y_values.append( generateTemplate(position = position, pulse_length = width, height=height, noise=noise, offset=offset) / SCALE_HEIGHT )\n",
        "\n",
        "# debug printouts\n",
        "#print(x_values[:2])\n",
        "#print(y_values[:2])"
      ],
      "metadata": {
        "id": "6uUa9b2pzviJ"
      },
      "execution_count": 614,
      "outputs": []
    },
    {
      "cell_type": "markdown",
      "source": [
        "### Look at the training data\n",
        "Just make a 2D histogram of all templates."
      ],
      "metadata": {
        "id": "M54DYG8PLBYg"
      }
    },
    {
      "cell_type": "code",
      "source": [
        "if True:\n",
        "  plot_x = [ np.arange(128) for i in range(len(y_values)) ]\n",
        "  plot_x = np.array(plot_x)\n",
        "  plot_x = plot_x.flatten()\n",
        "  plot_y = np.array(y_values)\n",
        "  plot_y = plot_y.flatten()\n",
        "  plt.hist2d(plot_x, plot_y, bins=128, norm=LogNorm())\n",
        "  plt.show()"
      ],
      "metadata": {
        "colab": {
          "base_uri": "https://localhost:8080/",
          "height": 269
        },
        "id": "oc_SbOCaLKKe",
        "outputId": "8ca4e9e8-76f0-4855-e2f4-0df714bbfb5b"
      },
      "execution_count": 615,
      "outputs": [
        {
          "output_type": "display_data",
          "data": {
            "text/plain": [
              "<Figure size 432x288 with 1 Axes>"
            ],
            "image/png": "[encoded data removed]"
          },
          "metadata": {
            "needs_background": "light"
          }
        }
      ]
    },
    {
      "cell_type": "markdown",
      "source": [
        "## Split the waveforms into Training, Testing and Validation"
      ],
      "metadata": {
        "id": "uxBiOKO90JG_"
      }
    },
    {
      "cell_type": "code",
      "source": [
        "# We'll use 60% of our data for training and 20% for testing. The remaining 20%\n",
        "# will be used for validation. Calculate the indices of each section.\n",
        "TRAIN_SPLIT =  int(0.6 * SAMPLES)\n",
        "TEST_SPLIT = int(0.2 * SAMPLES + TRAIN_SPLIT)\n",
        "print(\"using %d points for training and %d points for testing\"%(TRAIN_SPLIT, TEST_SPLIT))\n",
        "\n",
        "# convert data into numpy arrays\n",
        "y_values = np.array(y_values) # parameters\n",
        "x_values = np.array(x_values) # waveforms\n",
        "\n",
        "# Use np.split to chop our data into three parts.\n",
        "# The second argument to np.split is an array of indices where the data will be\n",
        "# split. We provide two indices, so the data will be divided into three chunks.\n",
        "x_train, x_test, x_validate = np.split(x_values, [TRAIN_SPLIT, TEST_SPLIT])\n",
        "y_train, y_test, y_validate = np.split(y_values, [TRAIN_SPLIT, TEST_SPLIT])\n",
        "\n",
        "# Double check that our splits add up correctly\n",
        "assert (len(x_train) + len(x_validate) + len(x_test) ) ==  SAMPLES"
      ],
      "metadata": {
        "id": "_gxWfkRezVf3",
        "colab": {
          "base_uri": "https://localhost:8080/"
        },
        "outputId": "aa2023a5-f7d2-4763-80c0-f32b24345221"
      },
      "execution_count": 616,
      "outputs": [
        {
          "output_type": "stream",
          "name": "stdout",
          "text": [
            "using 60000 points for training and 80000 points for testing\n"
          ]
        }
      ]
    },
    {
      "cell_type": "markdown",
      "source": [
        "## Create the ANN"
      ],
      "metadata": {
        "id": "tfIC4_-l0Cc4"
      }
    },
    {
      "cell_type": "code",
      "source": [
        "inputs = keras.Input(shape=(128,), name=\"waveform_input\")\n",
        "\n",
        "layer_cnt=0\n",
        "x = keras.layers.Dense(32, \n",
        "                       kernel_regularizer=keras.regularizers.l1(0.00001),                       \n",
        "                       name=\"layer_%d\"%(layer_cnt))(inputs)\n",
        "layer_cnt+=1\n",
        "\n",
        "x = keras.layers.Dropout(0.005)(x)\n",
        "\n",
        "x = keras.layers.Dense(32, \n",
        "                       kernel_regularizer=keras.regularizers.l1(0.00001),\n",
        "                       name=\"layer_%d\"%(layer_cnt))(x)\n",
        "layer_cnt+=1\n",
        "\n",
        "x = keras.layers.Dropout(0.005)(x)\n",
        "\n",
        "x = keras.layers.Dense(32, \n",
        "                       kernel_regularizer=keras.regularizers.l1(0.00001), \n",
        "                       name=\"layer_%d\"%(layer_cnt) )(x)\n",
        "layer_cnt+=1\n",
        "\n",
        "x = keras.layers.Dense(32, \n",
        "                       kernel_regularizer=keras.regularizers.l1(0.00001), \n",
        "                       name=\"layer_%d\"%(layer_cnt) )(x)\n",
        "layer_cnt+=1\n",
        "\n",
        "x = keras.layers.Dense(32, \n",
        "                       kernel_regularizer=keras.regularizers.l1(0.00001), \n",
        "                       name=\"layer_%d\"%(layer_cnt) )(x)\n",
        "layer_cnt+=1\n",
        "\n",
        "x = keras.layers.Dense(32,\n",
        "                       kernel_regularizer=keras.regularizers.l1(0.00001), \n",
        "                       name=\"layer_%d\"%(layer_cnt))(x)\n",
        "layer_cnt+=1\n",
        "\n",
        "x = keras.layers.Dense(16, \n",
        "                       activation='elu',                       \n",
        "                       kernel_regularizer=keras.regularizers.l1(0.00001), \n",
        "                       name=\"layer_%d\"%(layer_cnt))(x)\n",
        "layer_cnt+=1\n",
        "\n",
        "x = keras.layers.Dense(16, \n",
        "                       activation='elu',                       \n",
        "                       kernel_regularizer=keras.regularizers.l1(0.00001), \n",
        "                       name=\"layer_%d\"%(layer_cnt))(x)\n",
        "layer_cnt+=1\n",
        "\n",
        "# final layer for classification\n",
        "outputs = keras.layers.Dense(3, \n",
        "                             activation='elu', \n",
        "                             name=\"classification\")(x)\n",
        "\n",
        "model_1 = keras.Model(inputs=inputs, outputs=outputs, name=\"network_v0.3\")\n",
        "model_1.summary()\n",
        "\n",
        "# Compile the model using the standard 'adam' optimizer and the mean squared error or 'mse' loss function for regression.\n",
        "model_1.compile(optimizer='adam', loss='mse', metrics=['accuracy'])"
      ],
      "metadata": {
        "id": "FbTg1F3s0BTe",
        "colab": {
          "base_uri": "https://localhost:8080/"
        },
        "outputId": "30f9eb2a-a226-485c-9e9e-87c3cdb123d7"
      },
      "execution_count": 617,
      "outputs": [
        {
          "output_type": "stream",
          "name": "stdout",
          "text": [
            "Model: \"network_v0.3\"\n",
            "_________________________________________________________________\n",
            " Layer (type)                Output Shape              Param #   \n",
            "=================================================================\n",
            " waveform_input (InputLayer)  [(None, 128)]            0         \n",
            "                                                                 \n",
            " layer_0 (Dense)             (None, 32)                4128      \n",
            "                                                                 \n",
            " dropout_11 (Dropout)        (None, 32)                0         \n",
            "                                                                 \n",
            " layer_1 (Dense)             (None, 32)                1056      \n",
            "                                                                 \n",
            " dropout_12 (Dropout)        (None, 32)                0         \n",
            "                                                                 \n",
            " layer_2 (Dense)             (None, 32)                1056      \n",
            "                                                                 \n",
            " layer_3 (Dense)             (None, 32)                1056      \n",
            "                                                                 \n",
            " layer_4 (Dense)             (None, 32)                1056      \n",
            "                                                                 \n",
            " layer_5 (Dense)             (None, 32)                1056      \n",
            "                                                                 \n",
            " layer_6 (Dense)             (None, 16)                528       \n",
            "                                                                 \n",
            " layer_7 (Dense)             (None, 16)                272       \n",
            "                                                                 \n",
            " classification (Dense)      (None, 3)                 51        \n",
            "                                                                 \n",
            "=================================================================\n",
            "Total params: 10,259\n",
            "Trainable params: 10,259\n",
            "Non-trainable params: 0\n",
            "_________________________________________________________________\n"
          ]
        }
      ]
    },
    {
      "cell_type": "markdown",
      "source": [
        "## Train the model"
      ],
      "metadata": {
        "id": "hjz2ghXbL9Ok"
      }
    },
    {
      "cell_type": "code",
      "source": [
        "# Train the model on our training data while validating on our validation set\n",
        "# remember:\n",
        "#     y = waveforms\n",
        "#     x = truth parameters\n",
        "# just do some trainings to see, whether this structure works or not\n",
        "\n",
        "#history_1 = model_1.fit(y_train, x_train, epochs=4, batch_size=25, validation_data=(y_validate, x_validate))"
      ],
      "metadata": {
        "id": "Zsx72tmvxNnj"
      },
      "execution_count": 618,
      "outputs": []
    },
    {
      "cell_type": "code",
      "source": [
        "# fully train the network\n",
        "history_1 = model_1.fit(y_train, x_train, epochs=400, batch_size=333, validation_data=(y_validate, x_validate))\n",
        "\n",
        "# Save the model to disk\n",
        "#!mkdir -p saved_model\n",
        "#model_1.save('saved_model/STM32_AI_Test')"
      ],
      "metadata": {
        "colab": {
          "base_uri": "https://localhost:8080/"
        },
        "id": "xMQfeuZ_L7QU",
        "outputId": "3f9cb975-f8ba-436c-e8af-410ecfdc2346"
      },
      "execution_count": 619,
      "outputs": [
        {
          "output_type": "stream",
          "name": "stdout",
          "text": [
            "Epoch 1/400\n",
            "181/181 [==============================] - 2s 6ms/step - loss: 0.0263 - accuracy: 0.8153 - val_loss: 0.0145 - val_accuracy: 0.9387\n",
            "Epoch 2/400\n",
            "181/181 [==============================] - 1s 5ms/step - loss: 0.0142 - accuracy: 0.9358 - val_loss: 0.0133 - val_accuracy: 0.9506\n",
            "Epoch 3/400\n",
            "181/181 [==============================] - 1s 5ms/step - loss: 0.0133 - accuracy: 0.9455 - val_loss: 0.0127 - val_accuracy: 0.9567\n",
            "Epoch 4/400\n",
            "181/181 [==============================] - 1s 5ms/step - loss: 0.0126 - accuracy: 0.9493 - val_loss: 0.0121 - val_accuracy: 0.9513\n",
            "Epoch 5/400\n",
            "181/181 [==============================] - 1s 5ms/step - loss: 0.0120 - accuracy: 0.9556 - val_loss: 0.0116 - val_accuracy: 0.9651\n",
            "Epoch 6/400\n",
            "181/181 [==============================] - 1s 5ms/step - loss: 0.0116 - accuracy: 0.9591 - val_loss: 0.0112 - val_accuracy: 0.9652\n",
            "Epoch 7/400\n",
            "181/181 [==============================] - 1s 5ms/step - loss: 0.0112 - accuracy: 0.9609 - val_loss: 0.0108 - val_accuracy: 0.9729\n",
            "Epoch 8/400\n",
            "181/181 [==============================] - 1s 5ms/step - loss: 0.0108 - accuracy: 0.9653 - val_loss: 0.0105 - val_accuracy: 0.9731\n",
            "Epoch 9/400\n",
            "181/181 [==============================] - 1s 5ms/step - loss: 0.0105 - accuracy: 0.9673 - val_loss: 0.0102 - val_accuracy: 0.9758\n",
            "Epoch 10/400\n",
            "181/181 [==============================] - 1s 5ms/step - loss: 0.0101 - accuracy: 0.9693 - val_loss: 0.0099 - val_accuracy: 0.9726\n",
            "Epoch 11/400\n",
            "181/181 [==============================] - 1s 5ms/step - loss: 0.0098 - accuracy: 0.9705 - val_loss: 0.0095 - val_accuracy: 0.9797\n",
            "Epoch 12/400\n",
            "181/181 [==============================] - 1s 5ms/step - loss: 0.0095 - accuracy: 0.9714 - val_loss: 0.0092 - val_accuracy: 0.9809\n",
            "Epoch 13/400\n",
            "181/181 [==============================] - 1s 5ms/step - loss: 0.0091 - accuracy: 0.9719 - val_loss: 0.0089 - val_accuracy: 0.9805\n",
            "Epoch 14/400\n",
            "181/181 [==============================] - 1s 5ms/step - loss: 0.0088 - accuracy: 0.9726 - val_loss: 0.0085 - val_accuracy: 0.9817\n",
            "Epoch 15/400\n",
            "181/181 [==============================] - 1s 5ms/step - loss: 0.0084 - accuracy: 0.9736 - val_loss: 0.0082 - val_accuracy: 0.9787\n",
            "Epoch 16/400\n",
            "181/181 [==============================] - 1s 5ms/step - loss: 0.0081 - accuracy: 0.9737 - val_loss: 0.0079 - val_accuracy: 0.9741\n",
            "Epoch 17/400\n",
            "181/181 [==============================] - 1s 5ms/step - loss: 0.0077 - accuracy: 0.9747 - val_loss: 0.0075 - val_accuracy: 0.9730\n",
            "Epoch 18/400\n",
            "181/181 [==============================] - 1s 5ms/step - loss: 0.0074 - accuracy: 0.9751 - val_loss: 0.0071 - val_accuracy: 0.9815\n",
            "Epoch 19/400\n",
            "181/181 [==============================] - 1s 5ms/step - loss: 0.0070 - accuracy: 0.9757 - val_loss: 0.0068 - val_accuracy: 0.9836\n",
            "Epoch 20/400\n",
            "181/181 [==============================] - 1s 6ms/step - loss: 0.0067 - accuracy: 0.9759 - val_loss: 0.0064 - val_accuracy: 0.9784\n",
            "Epoch 21/400\n",
            "181/181 [==============================] - 1s 7ms/step - loss: 0.0064 - accuracy: 0.9754 - val_loss: 0.0061 - val_accuracy: 0.9802\n",
            "Epoch 22/400\n",
            "181/181 [==============================] - 1s 5ms/step - loss: 0.0060 - accuracy: 0.9765 - val_loss: 0.0058 - val_accuracy: 0.9843\n",
            "Epoch 23/400\n",
            "181/181 [==============================] - 1s 5ms/step - loss: 0.0057 - accuracy: 0.9765 - val_loss: 0.0055 - val_accuracy: 0.9845\n",
            "Epoch 24/400\n",
            "181/181 [==============================] - 1s 5ms/step - loss: 0.0054 - accuracy: 0.9762 - val_loss: 0.0052 - val_accuracy: 0.9700\n",
            "Epoch 25/400\n",
            "181/181 [==============================] - 1s 5ms/step - loss: 0.0051 - accuracy: 0.9760 - val_loss: 0.0049 - val_accuracy: 0.9840\n",
            "Epoch 26/400\n",
            "181/181 [==============================] - 1s 5ms/step - loss: 0.0048 - accuracy: 0.9768 - val_loss: 0.0046 - val_accuracy: 0.9751\n",
            "Epoch 27/400\n",
            "181/181 [==============================] - 1s 5ms/step - loss: 0.0046 - accuracy: 0.9775 - val_loss: 0.0043 - val_accuracy: 0.9827\n",
            "Epoch 28/400\n",
            "181/181 [==============================] - 1s 5ms/step - loss: 0.0043 - accuracy: 0.9783 - val_loss: 0.0041 - val_accuracy: 0.9761\n",
            "Epoch 29/400\n",
            "181/181 [==============================] - 1s 5ms/step - loss: 0.0041 - accuracy: 0.9767 - val_loss: 0.0038 - val_accuracy: 0.9832\n",
            "Epoch 30/400\n",
            "181/181 [==============================] - 1s 5ms/step - loss: 0.0038 - accuracy: 0.9770 - val_loss: 0.0036 - val_accuracy: 0.9863\n",
            "Epoch 31/400\n",
            "181/181 [==============================] - 1s 5ms/step - loss: 0.0036 - accuracy: 0.9771 - val_loss: 0.0034 - val_accuracy: 0.9804\n",
            "Epoch 32/400\n",
            "181/181 [==============================] - 1s 5ms/step - loss: 0.0034 - accuracy: 0.9771 - val_loss: 0.0032 - val_accuracy: 0.9794\n",
            "Epoch 33/400\n",
            "181/181 [==============================] - 1s 5ms/step - loss: 0.0032 - accuracy: 0.9770 - val_loss: 0.0031 - val_accuracy: 0.9721\n",
            "Epoch 34/400\n",
            "181/181 [==============================] - 1s 5ms/step - loss: 0.0030 - accuracy: 0.9776 - val_loss: 0.0029 - val_accuracy: 0.9826\n",
            "Epoch 35/400\n",
            "181/181 [==============================] - 1s 5ms/step - loss: 0.0029 - accuracy: 0.9786 - val_loss: 0.0028 - val_accuracy: 0.9737\n",
            "Epoch 36/400\n",
            "181/181 [==============================] - 1s 5ms/step - loss: 0.0027 - accuracy: 0.9783 - val_loss: 0.0026 - val_accuracy: 0.9794\n",
            "Epoch 37/400\n",
            "181/181 [==============================] - 1s 5ms/step - loss: 0.0026 - accuracy: 0.9784 - val_loss: 0.0025 - val_accuracy: 0.9761\n",
            "Epoch 38/400\n",
            "181/181 [==============================] - 1s 5ms/step - loss: 0.0025 - accuracy: 0.9779 - val_loss: 0.0024 - val_accuracy: 0.9735\n",
            "Epoch 39/400\n",
            "181/181 [==============================] - 1s 5ms/step - loss: 0.0024 - accuracy: 0.9782 - val_loss: 0.0022 - val_accuracy: 0.9822\n",
            "Epoch 40/400\n",
            "181/181 [==============================] - 1s 5ms/step - loss: 0.0023 - accuracy: 0.9791 - val_loss: 0.0022 - val_accuracy: 0.9805\n",
            "Epoch 41/400\n",
            "181/181 [==============================] - 1s 5ms/step - loss: 0.0022 - accuracy: 0.9773 - val_loss: 0.0020 - val_accuracy: 0.9818\n",
            "Epoch 42/400\n",
            "181/181 [==============================] - 1s 5ms/step - loss: 0.0021 - accuracy: 0.9784 - val_loss: 0.0019 - val_accuracy: 0.9826\n",
            "Epoch 43/400\n",
            "181/181 [==============================] - 1s 5ms/step - loss: 0.0020 - accuracy: 0.9774 - val_loss: 0.0019 - val_accuracy: 0.9832\n",
            "Epoch 44/400\n",
            "181/181 [==============================] - 1s 5ms/step - loss: 0.0019 - accuracy: 0.9786 - val_loss: 0.0018 - val_accuracy: 0.9825\n",
            "Epoch 45/400\n",
            "181/181 [==============================] - 1s 5ms/step - loss: 0.0019 - accuracy: 0.9785 - val_loss: 0.0017 - val_accuracy: 0.9855\n",
            "Epoch 46/400\n",
            "181/181 [==============================] - 1s 5ms/step - loss: 0.0018 - accuracy: 0.9796 - val_loss: 0.0017 - val_accuracy: 0.9837\n",
            "Epoch 47/400\n",
            "181/181 [==============================] - 1s 5ms/step - loss: 0.0018 - accuracy: 0.9773 - val_loss: 0.0016 - val_accuracy: 0.9821\n",
            "Epoch 48/400\n",
            "181/181 [==============================] - 1s 5ms/step - loss: 0.0017 - accuracy: 0.9780 - val_loss: 0.0015 - val_accuracy: 0.9851\n",
            "Epoch 49/400\n",
            "181/181 [==============================] - 1s 5ms/step - loss: 0.0017 - accuracy: 0.9783 - val_loss: 0.0016 - val_accuracy: 0.9732\n",
            "Epoch 50/400\n",
            "181/181 [==============================] - 1s 5ms/step - loss: 0.0016 - accuracy: 0.9785 - val_loss: 0.0015 - val_accuracy: 0.9850\n",
            "Epoch 51/400\n",
            "181/181 [==============================] - 1s 5ms/step - loss: 0.0016 - accuracy: 0.9786 - val_loss: 0.0014 - val_accuracy: 0.9825\n",
            "Epoch 52/400\n",
            "181/181 [==============================] - 1s 5ms/step - loss: 0.0015 - accuracy: 0.9782 - val_loss: 0.0014 - val_accuracy: 0.9808\n",
            "Epoch 53/400\n",
            "181/181 [==============================] - 1s 5ms/step - loss: 0.0015 - accuracy: 0.9789 - val_loss: 0.0014 - val_accuracy: 0.9815\n",
            "Epoch 54/400\n",
            "181/181 [==============================] - 1s 5ms/step - loss: 0.0015 - accuracy: 0.9779 - val_loss: 0.0013 - val_accuracy: 0.9815\n",
            "Epoch 55/400\n",
            "181/181 [==============================] - 1s 5ms/step - loss: 0.0014 - accuracy: 0.9800 - val_loss: 0.0013 - val_accuracy: 0.9794\n",
            "Epoch 56/400\n",
            "181/181 [==============================] - 1s 5ms/step - loss: 0.0014 - accuracy: 0.9785 - val_loss: 0.0013 - val_accuracy: 0.9846\n",
            "Epoch 57/400\n",
            "181/181 [==============================] - 1s 5ms/step - loss: 0.0014 - accuracy: 0.9796 - val_loss: 0.0013 - val_accuracy: 0.9761\n",
            "Epoch 58/400\n",
            "181/181 [==============================] - 1s 5ms/step - loss: 0.0014 - accuracy: 0.9783 - val_loss: 0.0012 - val_accuracy: 0.9781\n",
            "Epoch 59/400\n",
            "181/181 [==============================] - 1s 5ms/step - loss: 0.0013 - accuracy: 0.9800 - val_loss: 0.0012 - val_accuracy: 0.9822\n",
            "Epoch 60/400\n",
            "181/181 [==============================] - 1s 5ms/step - loss: 0.0013 - accuracy: 0.9794 - val_loss: 0.0012 - val_accuracy: 0.9762\n",
            "Epoch 61/400\n",
            "181/181 [==============================] - 1s 5ms/step - loss: 0.0013 - accuracy: 0.9782 - val_loss: 0.0011 - val_accuracy: 0.9861\n",
            "Epoch 62/400\n",
            "181/181 [==============================] - 1s 5ms/step - loss: 0.0013 - accuracy: 0.9801 - val_loss: 0.0012 - val_accuracy: 0.9778\n",
            "Epoch 63/400\n",
            "181/181 [==============================] - 1s 5ms/step - loss: 0.0013 - accuracy: 0.9793 - val_loss: 0.0011 - val_accuracy: 0.9843\n",
            "Epoch 64/400\n",
            "181/181 [==============================] - 1s 5ms/step - loss: 0.0012 - accuracy: 0.9789 - val_loss: 0.0011 - val_accuracy: 0.9789\n",
            "Epoch 65/400\n",
            "181/181 [==============================] - 1s 5ms/step - loss: 0.0012 - accuracy: 0.9791 - val_loss: 0.0011 - val_accuracy: 0.9853\n",
            "Epoch 66/400\n",
            "181/181 [==============================] - 1s 5ms/step - loss: 0.0012 - accuracy: 0.9800 - val_loss: 0.0011 - val_accuracy: 0.9796\n",
            "Epoch 67/400\n",
            "181/181 [==============================] - 1s 5ms/step - loss: 0.0012 - accuracy: 0.9793 - val_loss: 0.0011 - val_accuracy: 0.9847\n",
            "Epoch 68/400\n",
            "181/181 [==============================] - 1s 5ms/step - loss: 0.0012 - accuracy: 0.9791 - val_loss: 0.0010 - val_accuracy: 0.9851\n",
            "Epoch 69/400\n",
            "181/181 [==============================] - 1s 8ms/step - loss: 0.0012 - accuracy: 0.9801 - val_loss: 0.0010 - val_accuracy: 0.9851\n",
            "Epoch 70/400\n",
            "181/181 [==============================] - 1s 5ms/step - loss: 0.0011 - accuracy: 0.9810 - val_loss: 0.0010 - val_accuracy: 0.9868\n",
            "Epoch 71/400\n",
            "181/181 [==============================] - 1s 5ms/step - loss: 0.0011 - accuracy: 0.9785 - val_loss: 0.0011 - val_accuracy: 0.9766\n",
            "Epoch 72/400\n",
            "181/181 [==============================] - 1s 5ms/step - loss: 0.0011 - accuracy: 0.9795 - val_loss: 0.0011 - val_accuracy: 0.9679\n",
            "Epoch 73/400\n",
            "181/181 [==============================] - 1s 5ms/step - loss: 0.0011 - accuracy: 0.9801 - val_loss: 9.7966e-04 - val_accuracy: 0.9855\n",
            "Epoch 74/400\n",
            "181/181 [==============================] - 1s 5ms/step - loss: 0.0011 - accuracy: 0.9798 - val_loss: 0.0010 - val_accuracy: 0.9783\n",
            "Epoch 75/400\n",
            "181/181 [==============================] - 1s 5ms/step - loss: 0.0011 - accuracy: 0.9794 - val_loss: 9.8838e-04 - val_accuracy: 0.9811\n",
            "Epoch 76/400\n",
            "181/181 [==============================] - 1s 5ms/step - loss: 0.0011 - accuracy: 0.9805 - val_loss: 9.5907e-04 - val_accuracy: 0.9846\n",
            "Epoch 77/400\n",
            "181/181 [==============================] - 1s 5ms/step - loss: 0.0011 - accuracy: 0.9808 - val_loss: 9.5051e-04 - val_accuracy: 0.9858\n",
            "Epoch 78/400\n",
            "181/181 [==============================] - 1s 5ms/step - loss: 0.0011 - accuracy: 0.9797 - val_loss: 9.4752e-04 - val_accuracy: 0.9845\n",
            "Epoch 79/400\n",
            "181/181 [==============================] - 1s 5ms/step - loss: 0.0011 - accuracy: 0.9790 - val_loss: 9.3020e-04 - val_accuracy: 0.9862\n",
            "Epoch 80/400\n",
            "181/181 [==============================] - 1s 5ms/step - loss: 0.0011 - accuracy: 0.9802 - val_loss: 9.3445e-04 - val_accuracy: 0.9882\n",
            "Epoch 81/400\n",
            "181/181 [==============================] - 1s 5ms/step - loss: 0.0010 - accuracy: 0.9806 - val_loss: 9.2316e-04 - val_accuracy: 0.9869\n",
            "Epoch 82/400\n",
            "181/181 [==============================] - 1s 5ms/step - loss: 0.0010 - accuracy: 0.9797 - val_loss: 9.1223e-04 - val_accuracy: 0.9852\n",
            "Epoch 83/400\n",
            "181/181 [==============================] - 1s 5ms/step - loss: 0.0010 - accuracy: 0.9804 - val_loss: 9.0629e-04 - val_accuracy: 0.9863\n",
            "Epoch 84/400\n",
            "181/181 [==============================] - 1s 5ms/step - loss: 0.0010 - accuracy: 0.9815 - val_loss: 9.3837e-04 - val_accuracy: 0.9764\n",
            "Epoch 85/400\n",
            "181/181 [==============================] - 1s 5ms/step - loss: 0.0010 - accuracy: 0.9792 - val_loss: 8.8836e-04 - val_accuracy: 0.9828\n",
            "Epoch 86/400\n",
            "181/181 [==============================] - 1s 5ms/step - loss: 0.0010 - accuracy: 0.9795 - val_loss: 9.3516e-04 - val_accuracy: 0.9740\n",
            "Epoch 87/400\n",
            "181/181 [==============================] - 1s 5ms/step - loss: 0.0010 - accuracy: 0.9804 - val_loss: 8.8391e-04 - val_accuracy: 0.9849\n",
            "Epoch 88/400\n",
            "181/181 [==============================] - 1s 5ms/step - loss: 0.0010 - accuracy: 0.9806 - val_loss: 9.1965e-04 - val_accuracy: 0.9751\n",
            "Epoch 89/400\n",
            "181/181 [==============================] - 1s 5ms/step - loss: 9.9163e-04 - accuracy: 0.9800 - val_loss: 9.0607e-04 - val_accuracy: 0.9773\n",
            "Epoch 90/400\n",
            "181/181 [==============================] - 1s 5ms/step - loss: 9.9420e-04 - accuracy: 0.9795 - val_loss: 8.7551e-04 - val_accuracy: 0.9814\n",
            "Epoch 91/400\n",
            "181/181 [==============================] - 1s 5ms/step - loss: 9.8318e-04 - accuracy: 0.9808 - val_loss: 8.4855e-04 - val_accuracy: 0.9821\n",
            "Epoch 92/400\n",
            "181/181 [==============================] - 1s 5ms/step - loss: 9.7247e-04 - accuracy: 0.9806 - val_loss: 8.8938e-04 - val_accuracy: 0.9844\n",
            "Epoch 93/400\n",
            "181/181 [==============================] - 1s 5ms/step - loss: 9.7019e-04 - accuracy: 0.9798 - val_loss: 9.0459e-04 - val_accuracy: 0.9661\n",
            "Epoch 94/400\n",
            "181/181 [==============================] - 1s 5ms/step - loss: 9.6267e-04 - accuracy: 0.9806 - val_loss: 8.3807e-04 - val_accuracy: 0.9851\n",
            "Epoch 95/400\n",
            "181/181 [==============================] - 1s 5ms/step - loss: 9.6447e-04 - accuracy: 0.9803 - val_loss: 8.8084e-04 - val_accuracy: 0.9791\n",
            "Epoch 96/400\n",
            "181/181 [==============================] - 1s 5ms/step - loss: 9.5681e-04 - accuracy: 0.9804 - val_loss: 8.1407e-04 - val_accuracy: 0.9862\n",
            "Epoch 97/400\n",
            "181/181 [==============================] - 1s 5ms/step - loss: 9.5093e-04 - accuracy: 0.9801 - val_loss: 8.5404e-04 - val_accuracy: 0.9777\n",
            "Epoch 98/400\n",
            "181/181 [==============================] - 1s 5ms/step - loss: 9.4237e-04 - accuracy: 0.9803 - val_loss: 8.2069e-04 - val_accuracy: 0.9798\n",
            "Epoch 99/400\n",
            "181/181 [==============================] - 1s 5ms/step - loss: 9.3012e-04 - accuracy: 0.9812 - val_loss: 7.9918e-04 - val_accuracy: 0.9866\n",
            "Epoch 100/400\n",
            "181/181 [==============================] - 1s 5ms/step - loss: 9.3199e-04 - accuracy: 0.9802 - val_loss: 7.9644e-04 - val_accuracy: 0.9845\n",
            "Epoch 101/400\n",
            "181/181 [==============================] - 1s 5ms/step - loss: 9.2556e-04 - accuracy: 0.9806 - val_loss: 8.0433e-04 - val_accuracy: 0.9847\n",
            "Epoch 102/400\n",
            "181/181 [==============================] - 1s 5ms/step - loss: 9.2569e-04 - accuracy: 0.9801 - val_loss: 7.9672e-04 - val_accuracy: 0.9837\n",
            "Epoch 103/400\n",
            "181/181 [==============================] - 1s 5ms/step - loss: 9.2027e-04 - accuracy: 0.9799 - val_loss: 8.0387e-04 - val_accuracy: 0.9819\n",
            "Epoch 104/400\n",
            "181/181 [==============================] - 1s 5ms/step - loss: 9.1146e-04 - accuracy: 0.9800 - val_loss: 7.8126e-04 - val_accuracy: 0.9855\n",
            "Epoch 105/400\n",
            "181/181 [==============================] - 1s 5ms/step - loss: 9.1279e-04 - accuracy: 0.9789 - val_loss: 7.8489e-04 - val_accuracy: 0.9816\n",
            "Epoch 106/400\n",
            "181/181 [==============================] - 1s 5ms/step - loss: 9.0185e-04 - accuracy: 0.9801 - val_loss: 7.7288e-04 - val_accuracy: 0.9879\n",
            "Epoch 107/400\n",
            "181/181 [==============================] - 1s 5ms/step - loss: 8.9769e-04 - accuracy: 0.9814 - val_loss: 7.9035e-04 - val_accuracy: 0.9818\n",
            "Epoch 108/400\n",
            "181/181 [==============================] - 1s 5ms/step - loss: 8.9902e-04 - accuracy: 0.9803 - val_loss: 8.3109e-04 - val_accuracy: 0.9801\n",
            "Epoch 109/400\n",
            "181/181 [==============================] - 1s 5ms/step - loss: 8.9314e-04 - accuracy: 0.9815 - val_loss: 7.7136e-04 - val_accuracy: 0.9844\n",
            "Epoch 110/400\n",
            "181/181 [==============================] - 1s 5ms/step - loss: 8.8625e-04 - accuracy: 0.9821 - val_loss: 7.5665e-04 - val_accuracy: 0.9882\n",
            "Epoch 111/400\n",
            "181/181 [==============================] - 1s 5ms/step - loss: 8.9215e-04 - accuracy: 0.9805 - val_loss: 7.5809e-04 - val_accuracy: 0.9859\n",
            "Epoch 112/400\n",
            "181/181 [==============================] - 1s 5ms/step - loss: 8.8921e-04 - accuracy: 0.9804 - val_loss: 7.6654e-04 - val_accuracy: 0.9849\n",
            "Epoch 113/400\n",
            "181/181 [==============================] - 1s 5ms/step - loss: 8.8338e-04 - accuracy: 0.9813 - val_loss: 7.7442e-04 - val_accuracy: 0.9799\n",
            "Epoch 114/400\n",
            "181/181 [==============================] - 1s 5ms/step - loss: 8.7561e-04 - accuracy: 0.9815 - val_loss: 7.7460e-04 - val_accuracy: 0.9780\n",
            "Epoch 115/400\n",
            "181/181 [==============================] - 1s 5ms/step - loss: 8.7315e-04 - accuracy: 0.9811 - val_loss: 7.9057e-04 - val_accuracy: 0.9777\n",
            "Epoch 116/400\n",
            "181/181 [==============================] - 1s 5ms/step - loss: 8.6722e-04 - accuracy: 0.9816 - val_loss: 7.5264e-04 - val_accuracy: 0.9857\n",
            "Epoch 117/400\n",
            "181/181 [==============================] - 1s 5ms/step - loss: 8.6303e-04 - accuracy: 0.9811 - val_loss: 7.5846e-04 - val_accuracy: 0.9819\n",
            "Epoch 118/400\n",
            "181/181 [==============================] - 1s 5ms/step - loss: 8.7070e-04 - accuracy: 0.9804 - val_loss: 7.3763e-04 - val_accuracy: 0.9869\n",
            "Epoch 119/400\n",
            "181/181 [==============================] - 1s 5ms/step - loss: 8.5823e-04 - accuracy: 0.9824 - val_loss: 7.7876e-04 - val_accuracy: 0.9771\n",
            "Epoch 120/400\n",
            "181/181 [==============================] - 1s 5ms/step - loss: 8.5782e-04 - accuracy: 0.9808 - val_loss: 7.3915e-04 - val_accuracy: 0.9876\n",
            "Epoch 121/400\n",
            "181/181 [==============================] - 1s 5ms/step - loss: 8.6020e-04 - accuracy: 0.9809 - val_loss: 7.3471e-04 - val_accuracy: 0.9840\n",
            "Epoch 122/400\n",
            "181/181 [==============================] - 1s 5ms/step - loss: 8.6052e-04 - accuracy: 0.9795 - val_loss: 7.7325e-04 - val_accuracy: 0.9758\n",
            "Epoch 123/400\n",
            "181/181 [==============================] - 1s 5ms/step - loss: 8.5181e-04 - accuracy: 0.9819 - val_loss: 7.4600e-04 - val_accuracy: 0.9812\n",
            "Epoch 124/400\n",
            "181/181 [==============================] - 1s 5ms/step - loss: 8.4036e-04 - accuracy: 0.9820 - val_loss: 7.3690e-04 - val_accuracy: 0.9889\n",
            "Epoch 125/400\n",
            "181/181 [==============================] - 1s 5ms/step - loss: 8.5302e-04 - accuracy: 0.9803 - val_loss: 7.2128e-04 - val_accuracy: 0.9869\n",
            "Epoch 126/400\n",
            "181/181 [==============================] - 1s 5ms/step - loss: 8.4777e-04 - accuracy: 0.9813 - val_loss: 7.3322e-04 - val_accuracy: 0.9811\n",
            "Epoch 127/400\n",
            "181/181 [==============================] - 1s 5ms/step - loss: 8.4311e-04 - accuracy: 0.9810 - val_loss: 7.2772e-04 - val_accuracy: 0.9830\n",
            "Epoch 128/400\n",
            "181/181 [==============================] - 1s 5ms/step - loss: 8.3943e-04 - accuracy: 0.9813 - val_loss: 7.3127e-04 - val_accuracy: 0.9833\n",
            "Epoch 129/400\n",
            "181/181 [==============================] - 1s 5ms/step - loss: 8.3824e-04 - accuracy: 0.9806 - val_loss: 7.1330e-04 - val_accuracy: 0.9840\n",
            "Epoch 130/400\n",
            "181/181 [==============================] - 1s 5ms/step - loss: 8.3361e-04 - accuracy: 0.9818 - val_loss: 7.2098e-04 - val_accuracy: 0.9844\n",
            "Epoch 131/400\n",
            "181/181 [==============================] - 1s 5ms/step - loss: 8.4101e-04 - accuracy: 0.9808 - val_loss: 7.3122e-04 - val_accuracy: 0.9804\n",
            "Epoch 132/400\n",
            "181/181 [==============================] - 1s 5ms/step - loss: 8.4785e-04 - accuracy: 0.9804 - val_loss: 7.0984e-04 - val_accuracy: 0.9886\n",
            "Epoch 133/400\n",
            "181/181 [==============================] - 1s 5ms/step - loss: 8.3036e-04 - accuracy: 0.9808 - val_loss: 7.2024e-04 - val_accuracy: 0.9854\n",
            "Epoch 134/400\n",
            "181/181 [==============================] - 1s 5ms/step - loss: 8.2674e-04 - accuracy: 0.9816 - val_loss: 7.2434e-04 - val_accuracy: 0.9837\n",
            "Epoch 135/400\n",
            "181/181 [==============================] - 1s 5ms/step - loss: 8.2546e-04 - accuracy: 0.9815 - val_loss: 6.9895e-04 - val_accuracy: 0.9865\n",
            "Epoch 136/400\n",
            "181/181 [==============================] - 1s 5ms/step - loss: 8.2356e-04 - accuracy: 0.9792 - val_loss: 6.9554e-04 - val_accuracy: 0.9865\n",
            "Epoch 137/400\n",
            "181/181 [==============================] - 1s 5ms/step - loss: 8.2317e-04 - accuracy: 0.9823 - val_loss: 7.0452e-04 - val_accuracy: 0.9819\n",
            "Epoch 138/400\n",
            "181/181 [==============================] - 1s 5ms/step - loss: 8.2290e-04 - accuracy: 0.9801 - val_loss: 6.9178e-04 - val_accuracy: 0.9856\n",
            "Epoch 139/400\n",
            "181/181 [==============================] - 1s 5ms/step - loss: 8.1375e-04 - accuracy: 0.9825 - val_loss: 7.0472e-04 - val_accuracy: 0.9827\n",
            "Epoch 140/400\n",
            "181/181 [==============================] - 1s 5ms/step - loss: 8.0735e-04 - accuracy: 0.9816 - val_loss: 6.9013e-04 - val_accuracy: 0.9876\n",
            "Epoch 141/400\n",
            "181/181 [==============================] - 1s 5ms/step - loss: 8.1616e-04 - accuracy: 0.9806 - val_loss: 7.1485e-04 - val_accuracy: 0.9787\n",
            "Epoch 142/400\n",
            "181/181 [==============================] - 1s 5ms/step - loss: 8.1599e-04 - accuracy: 0.9808 - val_loss: 6.9801e-04 - val_accuracy: 0.9851\n",
            "Epoch 143/400\n",
            "181/181 [==============================] - 1s 5ms/step - loss: 8.1201e-04 - accuracy: 0.9819 - val_loss: 6.8275e-04 - val_accuracy: 0.9855\n",
            "Epoch 144/400\n",
            "181/181 [==============================] - 1s 5ms/step - loss: 8.0320e-04 - accuracy: 0.9823 - val_loss: 6.7652e-04 - val_accuracy: 0.9872\n",
            "Epoch 145/400\n",
            "181/181 [==============================] - 1s 5ms/step - loss: 8.0257e-04 - accuracy: 0.9823 - val_loss: 7.4237e-04 - val_accuracy: 0.9836\n",
            "Epoch 146/400\n",
            "181/181 [==============================] - 1s 5ms/step - loss: 8.0182e-04 - accuracy: 0.9814 - val_loss: 6.7682e-04 - val_accuracy: 0.9867\n",
            "Epoch 147/400\n",
            "181/181 [==============================] - 1s 5ms/step - loss: 7.9859e-04 - accuracy: 0.9801 - val_loss: 6.7005e-04 - val_accuracy: 0.9894\n",
            "Epoch 148/400\n",
            "181/181 [==============================] - 1s 5ms/step - loss: 8.0067e-04 - accuracy: 0.9807 - val_loss: 6.9982e-04 - val_accuracy: 0.9829\n",
            "Epoch 149/400\n",
            "181/181 [==============================] - 1s 5ms/step - loss: 7.9050e-04 - accuracy: 0.9816 - val_loss: 7.1642e-04 - val_accuracy: 0.9851\n",
            "Epoch 150/400\n",
            "181/181 [==============================] - 1s 5ms/step - loss: 8.0265e-04 - accuracy: 0.9801 - val_loss: 6.6988e-04 - val_accuracy: 0.9876\n",
            "Epoch 151/400\n",
            "181/181 [==============================] - 1s 5ms/step - loss: 7.9461e-04 - accuracy: 0.9813 - val_loss: 6.6824e-04 - val_accuracy: 0.9893\n",
            "Epoch 152/400\n",
            "181/181 [==============================] - 1s 5ms/step - loss: 7.9562e-04 - accuracy: 0.9810 - val_loss: 6.8341e-04 - val_accuracy: 0.9878\n",
            "Epoch 153/400\n",
            "181/181 [==============================] - 1s 5ms/step - loss: 7.9800e-04 - accuracy: 0.9812 - val_loss: 7.1775e-04 - val_accuracy: 0.9749\n",
            "Epoch 154/400\n",
            "181/181 [==============================] - 1s 5ms/step - loss: 7.9145e-04 - accuracy: 0.9815 - val_loss: 6.6897e-04 - val_accuracy: 0.9843\n",
            "Epoch 155/400\n",
            "181/181 [==============================] - 1s 5ms/step - loss: 7.8690e-04 - accuracy: 0.9817 - val_loss: 6.7786e-04 - val_accuracy: 0.9870\n",
            "Epoch 156/400\n",
            "181/181 [==============================] - 1s 5ms/step - loss: 7.8647e-04 - accuracy: 0.9808 - val_loss: 6.6064e-04 - val_accuracy: 0.9872\n",
            "Epoch 157/400\n",
            "181/181 [==============================] - 1s 5ms/step - loss: 7.8698e-04 - accuracy: 0.9816 - val_loss: 6.6397e-04 - val_accuracy: 0.9900\n",
            "Epoch 158/400\n",
            "181/181 [==============================] - 1s 5ms/step - loss: 7.8255e-04 - accuracy: 0.9821 - val_loss: 6.7391e-04 - val_accuracy: 0.9876\n",
            "Epoch 159/400\n",
            "181/181 [==============================] - 1s 5ms/step - loss: 7.8794e-04 - accuracy: 0.9803 - val_loss: 6.5488e-04 - val_accuracy: 0.9886\n",
            "Epoch 160/400\n",
            "181/181 [==============================] - 1s 5ms/step - loss: 7.8094e-04 - accuracy: 0.9822 - val_loss: 6.5745e-04 - val_accuracy: 0.9856\n",
            "Epoch 161/400\n",
            "181/181 [==============================] - 1s 5ms/step - loss: 7.7991e-04 - accuracy: 0.9805 - val_loss: 6.5800e-04 - val_accuracy: 0.9832\n",
            "Epoch 162/400\n",
            "181/181 [==============================] - 1s 5ms/step - loss: 7.7305e-04 - accuracy: 0.9825 - val_loss: 6.4686e-04 - val_accuracy: 0.9884\n",
            "Epoch 163/400\n",
            "181/181 [==============================] - 1s 5ms/step - loss: 7.7974e-04 - accuracy: 0.9801 - val_loss: 6.6720e-04 - val_accuracy: 0.9789\n",
            "Epoch 164/400\n",
            "181/181 [==============================] - 1s 5ms/step - loss: 7.6839e-04 - accuracy: 0.9817 - val_loss: 6.6770e-04 - val_accuracy: 0.9810\n",
            "Epoch 165/400\n",
            "181/181 [==============================] - 1s 5ms/step - loss: 7.6971e-04 - accuracy: 0.9810 - val_loss: 6.5180e-04 - val_accuracy: 0.9880\n",
            "Epoch 166/400\n",
            "181/181 [==============================] - 1s 5ms/step - loss: 7.6637e-04 - accuracy: 0.9821 - val_loss: 6.7732e-04 - val_accuracy: 0.9791\n",
            "Epoch 167/400\n",
            "181/181 [==============================] - 1s 5ms/step - loss: 7.8170e-04 - accuracy: 0.9793 - val_loss: 6.4437e-04 - val_accuracy: 0.9898\n",
            "Epoch 168/400\n",
            "181/181 [==============================] - 1s 5ms/step - loss: 7.6333e-04 - accuracy: 0.9821 - val_loss: 6.6211e-04 - val_accuracy: 0.9866\n",
            "Epoch 169/400\n",
            "181/181 [==============================] - 1s 5ms/step - loss: 7.6310e-04 - accuracy: 0.9812 - val_loss: 6.4397e-04 - val_accuracy: 0.9882\n",
            "Epoch 170/400\n",
            "181/181 [==============================] - 1s 5ms/step - loss: 7.6565e-04 - accuracy: 0.9811 - val_loss: 6.7556e-04 - val_accuracy: 0.9803\n",
            "Epoch 171/400\n",
            "181/181 [==============================] - 1s 5ms/step - loss: 7.6166e-04 - accuracy: 0.9823 - val_loss: 6.5701e-04 - val_accuracy: 0.9816\n",
            "Epoch 172/400\n",
            "181/181 [==============================] - 1s 5ms/step - loss: 7.6222e-04 - accuracy: 0.9822 - val_loss: 6.6126e-04 - val_accuracy: 0.9851\n",
            "Epoch 173/400\n",
            "181/181 [==============================] - 1s 5ms/step - loss: 7.6423e-04 - accuracy: 0.9815 - val_loss: 6.5123e-04 - val_accuracy: 0.9830\n",
            "Epoch 174/400\n",
            "181/181 [==============================] - 1s 5ms/step - loss: 7.7091e-04 - accuracy: 0.9809 - val_loss: 6.7900e-04 - val_accuracy: 0.9773\n",
            "Epoch 175/400\n",
            "181/181 [==============================] - 1s 5ms/step - loss: 7.6297e-04 - accuracy: 0.9825 - val_loss: 6.3790e-04 - val_accuracy: 0.9872\n",
            "Epoch 176/400\n",
            "181/181 [==============================] - 1s 5ms/step - loss: 7.6193e-04 - accuracy: 0.9820 - val_loss: 6.5519e-04 - val_accuracy: 0.9819\n",
            "Epoch 177/400\n",
            "181/181 [==============================] - 1s 5ms/step - loss: 7.5733e-04 - accuracy: 0.9813 - val_loss: 6.5484e-04 - val_accuracy: 0.9791\n",
            "Epoch 178/400\n",
            "181/181 [==============================] - 1s 5ms/step - loss: 7.6390e-04 - accuracy: 0.9814 - val_loss: 6.5172e-04 - val_accuracy: 0.9829\n",
            "Epoch 179/400\n",
            "181/181 [==============================] - 1s 5ms/step - loss: 7.5983e-04 - accuracy: 0.9805 - val_loss: 6.3257e-04 - val_accuracy: 0.9875\n",
            "Epoch 180/400\n",
            "181/181 [==============================] - 1s 5ms/step - loss: 7.5342e-04 - accuracy: 0.9816 - val_loss: 6.5106e-04 - val_accuracy: 0.9833\n",
            "Epoch 181/400\n",
            "181/181 [==============================] - 1s 5ms/step - loss: 7.4901e-04 - accuracy: 0.9821 - val_loss: 6.4816e-04 - val_accuracy: 0.9848\n",
            "Epoch 182/400\n",
            "181/181 [==============================] - 1s 5ms/step - loss: 7.5668e-04 - accuracy: 0.9814 - val_loss: 6.5049e-04 - val_accuracy: 0.9787\n",
            "Epoch 183/400\n",
            "181/181 [==============================] - 1s 5ms/step - loss: 7.5135e-04 - accuracy: 0.9814 - val_loss: 6.7415e-04 - val_accuracy: 0.9747\n",
            "Epoch 184/400\n",
            "181/181 [==============================] - 1s 5ms/step - loss: 7.5208e-04 - accuracy: 0.9817 - val_loss: 6.3128e-04 - val_accuracy: 0.9862\n",
            "Epoch 185/400\n",
            "181/181 [==============================] - 1s 5ms/step - loss: 7.5800e-04 - accuracy: 0.9810 - val_loss: 6.3675e-04 - val_accuracy: 0.9871\n",
            "Epoch 186/400\n",
            "181/181 [==============================] - 1s 5ms/step - loss: 7.4391e-04 - accuracy: 0.9819 - val_loss: 6.4285e-04 - val_accuracy: 0.9859\n",
            "Epoch 187/400\n",
            "181/181 [==============================] - 1s 5ms/step - loss: 7.4918e-04 - accuracy: 0.9811 - val_loss: 6.3747e-04 - val_accuracy: 0.9850\n",
            "Epoch 188/400\n",
            "181/181 [==============================] - 1s 5ms/step - loss: 7.5312e-04 - accuracy: 0.9807 - val_loss: 6.1545e-04 - val_accuracy: 0.9877\n",
            "Epoch 189/400\n",
            "181/181 [==============================] - 1s 5ms/step - loss: 7.3989e-04 - accuracy: 0.9816 - val_loss: 6.2253e-04 - val_accuracy: 0.9897\n",
            "Epoch 190/400\n",
            "181/181 [==============================] - 1s 5ms/step - loss: 7.5548e-04 - accuracy: 0.9802 - val_loss: 6.2383e-04 - val_accuracy: 0.9883\n",
            "Epoch 191/400\n",
            "181/181 [==============================] - 1s 5ms/step - loss: 7.3759e-04 - accuracy: 0.9821 - val_loss: 6.4199e-04 - val_accuracy: 0.9809\n",
            "Epoch 192/400\n",
            "181/181 [==============================] - 1s 5ms/step - loss: 7.4716e-04 - accuracy: 0.9810 - val_loss: 6.4122e-04 - val_accuracy: 0.9820\n",
            "Epoch 193/400\n",
            "181/181 [==============================] - 1s 5ms/step - loss: 7.3809e-04 - accuracy: 0.9826 - val_loss: 6.1585e-04 - val_accuracy: 0.9893\n",
            "Epoch 194/400\n",
            "181/181 [==============================] - 1s 5ms/step - loss: 7.4324e-04 - accuracy: 0.9825 - val_loss: 6.3469e-04 - val_accuracy: 0.9851\n",
            "Epoch 195/400\n",
            "181/181 [==============================] - 1s 5ms/step - loss: 7.4107e-04 - accuracy: 0.9820 - val_loss: 6.5743e-04 - val_accuracy: 0.9726\n",
            "Epoch 196/400\n",
            "181/181 [==============================] - 1s 5ms/step - loss: 7.4413e-04 - accuracy: 0.9808 - val_loss: 6.3287e-04 - val_accuracy: 0.9841\n",
            "Epoch 197/400\n",
            "181/181 [==============================] - 1s 5ms/step - loss: 7.4175e-04 - accuracy: 0.9813 - val_loss: 6.2790e-04 - val_accuracy: 0.9837\n",
            "Epoch 198/400\n",
            "181/181 [==============================] - 1s 5ms/step - loss: 7.3307e-04 - accuracy: 0.9820 - val_loss: 6.1873e-04 - val_accuracy: 0.9873\n",
            "Epoch 199/400\n",
            "181/181 [==============================] - 1s 5ms/step - loss: 7.3985e-04 - accuracy: 0.9817 - val_loss: 6.6236e-04 - val_accuracy: 0.9755\n",
            "Epoch 200/400\n",
            "181/181 [==============================] - 1s 5ms/step - loss: 7.4071e-04 - accuracy: 0.9811 - val_loss: 6.3404e-04 - val_accuracy: 0.9850\n",
            "Epoch 201/400\n",
            "181/181 [==============================] - 1s 5ms/step - loss: 7.3898e-04 - accuracy: 0.9803 - val_loss: 6.5231e-04 - val_accuracy: 0.9789\n",
            "Epoch 202/400\n",
            "181/181 [==============================] - 1s 5ms/step - loss: 7.4357e-04 - accuracy: 0.9812 - val_loss: 6.1060e-04 - val_accuracy: 0.9887\n",
            "Epoch 203/400\n",
            "181/181 [==============================] - 1s 5ms/step - loss: 7.3032e-04 - accuracy: 0.9815 - val_loss: 7.0871e-04 - val_accuracy: 0.9716\n",
            "Epoch 204/400\n",
            "181/181 [==============================] - 1s 5ms/step - loss: 7.3662e-04 - accuracy: 0.9810 - val_loss: 6.2133e-04 - val_accuracy: 0.9883\n",
            "Epoch 205/400\n",
            "181/181 [==============================] - 1s 5ms/step - loss: 7.4308e-04 - accuracy: 0.9800 - val_loss: 6.1551e-04 - val_accuracy: 0.9837\n",
            "Epoch 206/400\n",
            "181/181 [==============================] - 1s 5ms/step - loss: 7.3006e-04 - accuracy: 0.9823 - val_loss: 6.3758e-04 - val_accuracy: 0.9891\n",
            "Epoch 207/400\n",
            "181/181 [==============================] - 1s 5ms/step - loss: 7.3374e-04 - accuracy: 0.9807 - val_loss: 6.2858e-04 - val_accuracy: 0.9835\n",
            "Epoch 208/400\n",
            "181/181 [==============================] - 1s 5ms/step - loss: 7.3744e-04 - accuracy: 0.9808 - val_loss: 6.1448e-04 - val_accuracy: 0.9861\n",
            "Epoch 209/400\n",
            "181/181 [==============================] - 1s 5ms/step - loss: 7.3551e-04 - accuracy: 0.9812 - val_loss: 6.5592e-04 - val_accuracy: 0.9779\n",
            "Epoch 210/400\n",
            "181/181 [==============================] - 1s 5ms/step - loss: 7.3187e-04 - accuracy: 0.9814 - val_loss: 6.6760e-04 - val_accuracy: 0.9776\n",
            "Epoch 211/400\n",
            "181/181 [==============================] - 1s 5ms/step - loss: 7.2649e-04 - accuracy: 0.9817 - val_loss: 6.3382e-04 - val_accuracy: 0.9783\n",
            "Epoch 212/400\n",
            "181/181 [==============================] - 1s 5ms/step - loss: 7.3696e-04 - accuracy: 0.9806 - val_loss: 6.2634e-04 - val_accuracy: 0.9891\n",
            "Epoch 213/400\n",
            "181/181 [==============================] - 1s 5ms/step - loss: 7.3510e-04 - accuracy: 0.9817 - val_loss: 6.0091e-04 - val_accuracy: 0.9885\n",
            "Epoch 214/400\n",
            "181/181 [==============================] - 1s 5ms/step - loss: 7.3269e-04 - accuracy: 0.9818 - val_loss: 6.1056e-04 - val_accuracy: 0.9872\n",
            "Epoch 215/400\n",
            "181/181 [==============================] - 1s 5ms/step - loss: 7.3856e-04 - accuracy: 0.9803 - val_loss: 6.3043e-04 - val_accuracy: 0.9891\n",
            "Epoch 216/400\n",
            "181/181 [==============================] - 1s 5ms/step - loss: 7.2571e-04 - accuracy: 0.9819 - val_loss: 6.1234e-04 - val_accuracy: 0.9851\n",
            "Epoch 217/400\n",
            "181/181 [==============================] - 1s 5ms/step - loss: 7.3235e-04 - accuracy: 0.9807 - val_loss: 6.4836e-04 - val_accuracy: 0.9797\n",
            "Epoch 218/400\n",
            "181/181 [==============================] - 1s 5ms/step - loss: 7.3003e-04 - accuracy: 0.9812 - val_loss: 6.0307e-04 - val_accuracy: 0.9866\n",
            "Epoch 219/400\n",
            "181/181 [==============================] - 1s 5ms/step - loss: 7.2454e-04 - accuracy: 0.9818 - val_loss: 6.1500e-04 - val_accuracy: 0.9847\n",
            "Epoch 220/400\n",
            "181/181 [==============================] - 1s 5ms/step - loss: 7.2617e-04 - accuracy: 0.9814 - val_loss: 6.0662e-04 - val_accuracy: 0.9861\n",
            "Epoch 221/400\n",
            "181/181 [==============================] - 1s 5ms/step - loss: 7.2804e-04 - accuracy: 0.9818 - val_loss: 6.0117e-04 - val_accuracy: 0.9873\n",
            "Epoch 222/400\n",
            "181/181 [==============================] - 1s 5ms/step - loss: 7.2462e-04 - accuracy: 0.9810 - val_loss: 6.2210e-04 - val_accuracy: 0.9781\n",
            "Epoch 223/400\n",
            "181/181 [==============================] - 1s 5ms/step - loss: 7.2787e-04 - accuracy: 0.9819 - val_loss: 5.9989e-04 - val_accuracy: 0.9873\n",
            "Epoch 224/400\n",
            "181/181 [==============================] - 1s 5ms/step - loss: 7.2340e-04 - accuracy: 0.9815 - val_loss: 6.2758e-04 - val_accuracy: 0.9848\n",
            "Epoch 225/400\n",
            "181/181 [==============================] - 1s 5ms/step - loss: 7.3074e-04 - accuracy: 0.9806 - val_loss: 6.1664e-04 - val_accuracy: 0.9797\n",
            "Epoch 226/400\n",
            "181/181 [==============================] - 1s 5ms/step - loss: 7.2552e-04 - accuracy: 0.9800 - val_loss: 6.0795e-04 - val_accuracy: 0.9903\n",
            "Epoch 227/400\n",
            "181/181 [==============================] - 1s 5ms/step - loss: 7.2804e-04 - accuracy: 0.9804 - val_loss: 5.9625e-04 - val_accuracy: 0.9880\n",
            "Epoch 228/400\n",
            "181/181 [==============================] - 1s 5ms/step - loss: 7.2479e-04 - accuracy: 0.9802 - val_loss: 6.1116e-04 - val_accuracy: 0.9840\n",
            "Epoch 229/400\n",
            "181/181 [==============================] - 1s 5ms/step - loss: 7.2719e-04 - accuracy: 0.9801 - val_loss: 6.0969e-04 - val_accuracy: 0.9851\n",
            "Epoch 230/400\n",
            "181/181 [==============================] - 1s 5ms/step - loss: 7.3339e-04 - accuracy: 0.9804 - val_loss: 6.0573e-04 - val_accuracy: 0.9852\n",
            "Epoch 231/400\n",
            "181/181 [==============================] - 1s 5ms/step - loss: 7.3021e-04 - accuracy: 0.9803 - val_loss: 6.2069e-04 - val_accuracy: 0.9833\n",
            "Epoch 232/400\n",
            "181/181 [==============================] - 1s 5ms/step - loss: 7.1848e-04 - accuracy: 0.9812 - val_loss: 5.9755e-04 - val_accuracy: 0.9905\n",
            "Epoch 233/400\n",
            "181/181 [==============================] - 1s 5ms/step - loss: 7.2515e-04 - accuracy: 0.9815 - val_loss: 6.1724e-04 - val_accuracy: 0.9819\n",
            "Epoch 234/400\n",
            "181/181 [==============================] - 1s 5ms/step - loss: 7.2092e-04 - accuracy: 0.9813 - val_loss: 6.7534e-04 - val_accuracy: 0.9741\n",
            "Epoch 235/400\n",
            "181/181 [==============================] - 1s 5ms/step - loss: 7.2117e-04 - accuracy: 0.9813 - val_loss: 6.1418e-04 - val_accuracy: 0.9814\n",
            "Epoch 236/400\n",
            "181/181 [==============================] - 1s 5ms/step - loss: 7.2324e-04 - accuracy: 0.9808 - val_loss: 6.0034e-04 - val_accuracy: 0.9866\n",
            "Epoch 237/400\n",
            "181/181 [==============================] - 1s 5ms/step - loss: 7.2188e-04 - accuracy: 0.9811 - val_loss: 6.2028e-04 - val_accuracy: 0.9803\n",
            "Epoch 238/400\n",
            "181/181 [==============================] - 1s 5ms/step - loss: 7.1411e-04 - accuracy: 0.9815 - val_loss: 6.1106e-04 - val_accuracy: 0.9843\n",
            "Epoch 239/400\n",
            "181/181 [==============================] - 1s 5ms/step - loss: 7.1646e-04 - accuracy: 0.9811 - val_loss: 6.1881e-04 - val_accuracy: 0.9819\n",
            "Epoch 240/400\n",
            "181/181 [==============================] - 1s 5ms/step - loss: 7.1570e-04 - accuracy: 0.9810 - val_loss: 6.0607e-04 - val_accuracy: 0.9828\n",
            "Epoch 241/400\n",
            "181/181 [==============================] - 1s 5ms/step - loss: 7.1696e-04 - accuracy: 0.9816 - val_loss: 6.0313e-04 - val_accuracy: 0.9861\n",
            "Epoch 242/400\n",
            "181/181 [==============================] - 1s 5ms/step - loss: 7.2057e-04 - accuracy: 0.9796 - val_loss: 5.8648e-04 - val_accuracy: 0.9880\n",
            "Epoch 243/400\n",
            "181/181 [==============================] - 1s 5ms/step - loss: 7.1828e-04 - accuracy: 0.9818 - val_loss: 5.9313e-04 - val_accuracy: 0.9854\n",
            "Epoch 244/400\n",
            "181/181 [==============================] - 1s 5ms/step - loss: 7.1949e-04 - accuracy: 0.9801 - val_loss: 6.4176e-04 - val_accuracy: 0.9765\n",
            "Epoch 245/400\n",
            "181/181 [==============================] - 1s 5ms/step - loss: 7.2624e-04 - accuracy: 0.9808 - val_loss: 6.4294e-04 - val_accuracy: 0.9755\n",
            "Epoch 246/400\n",
            "181/181 [==============================] - 1s 5ms/step - loss: 7.1524e-04 - accuracy: 0.9806 - val_loss: 6.0063e-04 - val_accuracy: 0.9848\n",
            "Epoch 247/400\n",
            "181/181 [==============================] - 1s 5ms/step - loss: 7.1946e-04 - accuracy: 0.9811 - val_loss: 5.9924e-04 - val_accuracy: 0.9871\n",
            "Epoch 248/400\n",
            "181/181 [==============================] - 1s 5ms/step - loss: 7.1315e-04 - accuracy: 0.9820 - val_loss: 5.9430e-04 - val_accuracy: 0.9893\n",
            "Epoch 249/400\n",
            "181/181 [==============================] - 1s 5ms/step - loss: 7.1075e-04 - accuracy: 0.9818 - val_loss: 5.9198e-04 - val_accuracy: 0.9859\n",
            "Epoch 250/400\n",
            "181/181 [==============================] - 1s 5ms/step - loss: 7.2015e-04 - accuracy: 0.9805 - val_loss: 6.3525e-04 - val_accuracy: 0.9841\n",
            "Epoch 251/400\n",
            "181/181 [==============================] - 1s 5ms/step - loss: 7.1248e-04 - accuracy: 0.9802 - val_loss: 6.0586e-04 - val_accuracy: 0.9873\n",
            "Epoch 252/400\n",
            "181/181 [==============================] - 1s 5ms/step - loss: 7.1060e-04 - accuracy: 0.9819 - val_loss: 5.9197e-04 - val_accuracy: 0.9880\n",
            "Epoch 253/400\n",
            "181/181 [==============================] - 1s 5ms/step - loss: 7.1499e-04 - accuracy: 0.9801 - val_loss: 6.4526e-04 - val_accuracy: 0.9819\n",
            "Epoch 254/400\n",
            "181/181 [==============================] - 1s 5ms/step - loss: 7.1484e-04 - accuracy: 0.9805 - val_loss: 6.0310e-04 - val_accuracy: 0.9840\n",
            "Epoch 255/400\n",
            "181/181 [==============================] - 1s 5ms/step - loss: 7.0867e-04 - accuracy: 0.9815 - val_loss: 6.2894e-04 - val_accuracy: 0.9743\n",
            "Epoch 256/400\n",
            "181/181 [==============================] - 1s 5ms/step - loss: 7.2178e-04 - accuracy: 0.9805 - val_loss: 6.6157e-04 - val_accuracy: 0.9776\n",
            "Epoch 257/400\n",
            "181/181 [==============================] - 1s 5ms/step - loss: 7.1227e-04 - accuracy: 0.9824 - val_loss: 5.8946e-04 - val_accuracy: 0.9869\n",
            "Epoch 258/400\n",
            "181/181 [==============================] - 1s 5ms/step - loss: 7.1012e-04 - accuracy: 0.9815 - val_loss: 6.1049e-04 - val_accuracy: 0.9843\n",
            "Epoch 259/400\n",
            "181/181 [==============================] - 1s 5ms/step - loss: 7.0939e-04 - accuracy: 0.9819 - val_loss: 6.4330e-04 - val_accuracy: 0.9892\n",
            "Epoch 260/400\n",
            "181/181 [==============================] - 1s 5ms/step - loss: 7.1639e-04 - accuracy: 0.9807 - val_loss: 5.8783e-04 - val_accuracy: 0.9885\n",
            "Epoch 261/400\n",
            "181/181 [==============================] - 1s 5ms/step - loss: 7.1061e-04 - accuracy: 0.9824 - val_loss: 6.4290e-04 - val_accuracy: 0.9754\n",
            "Epoch 262/400\n",
            "181/181 [==============================] - 1s 5ms/step - loss: 7.1533e-04 - accuracy: 0.9805 - val_loss: 6.2681e-04 - val_accuracy: 0.9796\n",
            "Epoch 263/400\n",
            "181/181 [==============================] - 1s 5ms/step - loss: 7.1048e-04 - accuracy: 0.9813 - val_loss: 6.0204e-04 - val_accuracy: 0.9858\n",
            "Epoch 264/400\n",
            "181/181 [==============================] - 1s 5ms/step - loss: 7.1156e-04 - accuracy: 0.9811 - val_loss: 5.9778e-04 - val_accuracy: 0.9847\n",
            "Epoch 265/400\n",
            "181/181 [==============================] - 1s 5ms/step - loss: 7.0924e-04 - accuracy: 0.9812 - val_loss: 5.8905e-04 - val_accuracy: 0.9865\n",
            "Epoch 266/400\n",
            "181/181 [==============================] - 1s 5ms/step - loss: 7.1256e-04 - accuracy: 0.9816 - val_loss: 5.9575e-04 - val_accuracy: 0.9846\n",
            "Epoch 267/400\n",
            "181/181 [==============================] - 1s 5ms/step - loss: 7.0902e-04 - accuracy: 0.9809 - val_loss: 6.0338e-04 - val_accuracy: 0.9832\n",
            "Epoch 268/400\n",
            "181/181 [==============================] - 1s 5ms/step - loss: 7.0997e-04 - accuracy: 0.9808 - val_loss: 6.4724e-04 - val_accuracy: 0.9719\n",
            "Epoch 269/400\n",
            "181/181 [==============================] - 1s 5ms/step - loss: 7.0943e-04 - accuracy: 0.9804 - val_loss: 6.3320e-04 - val_accuracy: 0.9805\n",
            "Epoch 270/400\n",
            "181/181 [==============================] - 1s 5ms/step - loss: 7.1777e-04 - accuracy: 0.9792 - val_loss: 5.8272e-04 - val_accuracy: 0.9858\n",
            "Epoch 271/400\n",
            "181/181 [==============================] - 1s 5ms/step - loss: 7.0662e-04 - accuracy: 0.9817 - val_loss: 6.0947e-04 - val_accuracy: 0.9798\n",
            "Epoch 272/400\n",
            "181/181 [==============================] - 1s 5ms/step - loss: 7.1095e-04 - accuracy: 0.9816 - val_loss: 6.1304e-04 - val_accuracy: 0.9811\n",
            "Epoch 273/400\n",
            "181/181 [==============================] - 1s 5ms/step - loss: 7.0789e-04 - accuracy: 0.9815 - val_loss: 6.0818e-04 - val_accuracy: 0.9773\n",
            "Epoch 274/400\n",
            "181/181 [==============================] - 1s 5ms/step - loss: 7.1068e-04 - accuracy: 0.9808 - val_loss: 5.8787e-04 - val_accuracy: 0.9869\n",
            "Epoch 275/400\n",
            "181/181 [==============================] - 1s 5ms/step - loss: 7.1312e-04 - accuracy: 0.9805 - val_loss: 5.8922e-04 - val_accuracy: 0.9848\n",
            "Epoch 276/400\n",
            "181/181 [==============================] - 1s 5ms/step - loss: 7.0994e-04 - accuracy: 0.9804 - val_loss: 6.2448e-04 - val_accuracy: 0.9807\n",
            "Epoch 277/400\n",
            "181/181 [==============================] - 1s 5ms/step - loss: 7.0841e-04 - accuracy: 0.9821 - val_loss: 7.1396e-04 - val_accuracy: 0.9698\n",
            "Epoch 278/400\n",
            "181/181 [==============================] - 1s 5ms/step - loss: 7.0825e-04 - accuracy: 0.9802 - val_loss: 6.2235e-04 - val_accuracy: 0.9735\n",
            "Epoch 279/400\n",
            "181/181 [==============================] - 1s 5ms/step - loss: 7.0728e-04 - accuracy: 0.9805 - val_loss: 5.9665e-04 - val_accuracy: 0.9840\n",
            "Epoch 280/400\n",
            "181/181 [==============================] - 1s 5ms/step - loss: 7.1661e-04 - accuracy: 0.9793 - val_loss: 5.8828e-04 - val_accuracy: 0.9875\n",
            "Epoch 281/400\n",
            "181/181 [==============================] - 1s 5ms/step - loss: 7.0894e-04 - accuracy: 0.9806 - val_loss: 5.9901e-04 - val_accuracy: 0.9837\n",
            "Epoch 282/400\n",
            "181/181 [==============================] - 1s 5ms/step - loss: 7.0738e-04 - accuracy: 0.9811 - val_loss: 6.0573e-04 - val_accuracy: 0.9829\n",
            "Epoch 283/400\n",
            "181/181 [==============================] - 1s 5ms/step - loss: 7.0091e-04 - accuracy: 0.9815 - val_loss: 6.3065e-04 - val_accuracy: 0.9818\n",
            "Epoch 284/400\n",
            "181/181 [==============================] - 1s 5ms/step - loss: 7.0358e-04 - accuracy: 0.9824 - val_loss: 5.8260e-04 - val_accuracy: 0.9877\n",
            "Epoch 285/400\n",
            "181/181 [==============================] - 1s 5ms/step - loss: 7.0551e-04 - accuracy: 0.9806 - val_loss: 5.7976e-04 - val_accuracy: 0.9851\n",
            "Epoch 286/400\n",
            "181/181 [==============================] - 1s 6ms/step - loss: 7.0191e-04 - accuracy: 0.9814 - val_loss: 6.2398e-04 - val_accuracy: 0.9859\n",
            "Epoch 287/400\n",
            "181/181 [==============================] - 1s 5ms/step - loss: 7.0620e-04 - accuracy: 0.9809 - val_loss: 5.8296e-04 - val_accuracy: 0.9854\n",
            "Epoch 288/400\n",
            "181/181 [==============================] - 1s 5ms/step - loss: 6.9900e-04 - accuracy: 0.9818 - val_loss: 5.9001e-04 - val_accuracy: 0.9867\n",
            "Epoch 289/400\n",
            "181/181 [==============================] - 1s 5ms/step - loss: 7.1149e-04 - accuracy: 0.9811 - val_loss: 5.8849e-04 - val_accuracy: 0.9851\n",
            "Epoch 290/400\n",
            "181/181 [==============================] - 1s 5ms/step - loss: 7.0055e-04 - accuracy: 0.9820 - val_loss: 5.8931e-04 - val_accuracy: 0.9821\n",
            "Epoch 291/400\n",
            "181/181 [==============================] - 1s 6ms/step - loss: 7.1231e-04 - accuracy: 0.9800 - val_loss: 5.8271e-04 - val_accuracy: 0.9862\n",
            "Epoch 292/400\n",
            "181/181 [==============================] - 1s 6ms/step - loss: 7.0107e-04 - accuracy: 0.9810 - val_loss: 5.9312e-04 - val_accuracy: 0.9871\n",
            "Epoch 293/400\n",
            "181/181 [==============================] - 1s 5ms/step - loss: 7.0331e-04 - accuracy: 0.9812 - val_loss: 6.0125e-04 - val_accuracy: 0.9833\n",
            "Epoch 294/400\n",
            "181/181 [==============================] - 1s 6ms/step - loss: 7.1044e-04 - accuracy: 0.9814 - val_loss: 5.8724e-04 - val_accuracy: 0.9848\n",
            "Epoch 295/400\n",
            "181/181 [==============================] - 1s 5ms/step - loss: 7.0613e-04 - accuracy: 0.9816 - val_loss: 6.1064e-04 - val_accuracy: 0.9852\n",
            "Epoch 296/400\n",
            "181/181 [==============================] - 1s 5ms/step - loss: 7.0385e-04 - accuracy: 0.9807 - val_loss: 6.2182e-04 - val_accuracy: 0.9736\n",
            "Epoch 297/400\n",
            "181/181 [==============================] - 1s 5ms/step - loss: 7.1630e-04 - accuracy: 0.9786 - val_loss: 5.9331e-04 - val_accuracy: 0.9808\n",
            "Epoch 298/400\n",
            "181/181 [==============================] - 1s 5ms/step - loss: 7.0705e-04 - accuracy: 0.9809 - val_loss: 6.1602e-04 - val_accuracy: 0.9726\n",
            "Epoch 299/400\n",
            "181/181 [==============================] - 1s 5ms/step - loss: 7.0584e-04 - accuracy: 0.9808 - val_loss: 6.1676e-04 - val_accuracy: 0.9747\n",
            "Epoch 300/400\n",
            "181/181 [==============================] - 1s 5ms/step - loss: 7.1287e-04 - accuracy: 0.9788 - val_loss: 6.4150e-04 - val_accuracy: 0.9823\n",
            "Epoch 301/400\n",
            "181/181 [==============================] - 1s 5ms/step - loss: 7.0725e-04 - accuracy: 0.9800 - val_loss: 5.8505e-04 - val_accuracy: 0.9870\n",
            "Epoch 302/400\n",
            "181/181 [==============================] - 1s 5ms/step - loss: 7.0302e-04 - accuracy: 0.9818 - val_loss: 5.8294e-04 - val_accuracy: 0.9881\n",
            "Epoch 303/400\n",
            "181/181 [==============================] - 1s 6ms/step - loss: 7.0165e-04 - accuracy: 0.9811 - val_loss: 5.8330e-04 - val_accuracy: 0.9875\n",
            "Epoch 304/400\n",
            "181/181 [==============================] - 1s 5ms/step - loss: 7.0248e-04 - accuracy: 0.9815 - val_loss: 5.8277e-04 - val_accuracy: 0.9832\n",
            "Epoch 305/400\n",
            "181/181 [==============================] - 1s 5ms/step - loss: 7.0199e-04 - accuracy: 0.9804 - val_loss: 6.1294e-04 - val_accuracy: 0.9847\n",
            "Epoch 306/400\n",
            "181/181 [==============================] - 1s 6ms/step - loss: 7.0703e-04 - accuracy: 0.9812 - val_loss: 6.0040e-04 - val_accuracy: 0.9848\n",
            "Epoch 307/400\n",
            "181/181 [==============================] - 1s 6ms/step - loss: 7.0119e-04 - accuracy: 0.9822 - val_loss: 6.4406e-04 - val_accuracy: 0.9764\n",
            "Epoch 308/400\n",
            "181/181 [==============================] - 1s 5ms/step - loss: 6.9991e-04 - accuracy: 0.9808 - val_loss: 5.8309e-04 - val_accuracy: 0.9880\n",
            "Epoch 309/400\n",
            "181/181 [==============================] - 1s 6ms/step - loss: 6.9760e-04 - accuracy: 0.9811 - val_loss: 6.0123e-04 - val_accuracy: 0.9888\n",
            "Epoch 310/400\n",
            "181/181 [==============================] - 1s 5ms/step - loss: 7.0252e-04 - accuracy: 0.9812 - val_loss: 6.5754e-04 - val_accuracy: 0.9674\n",
            "Epoch 311/400\n",
            "181/181 [==============================] - 1s 5ms/step - loss: 7.1273e-04 - accuracy: 0.9793 - val_loss: 5.9560e-04 - val_accuracy: 0.9847\n",
            "Epoch 312/400\n",
            "181/181 [==============================] - 1s 6ms/step - loss: 7.0110e-04 - accuracy: 0.9804 - val_loss: 5.8349e-04 - val_accuracy: 0.9861\n",
            "Epoch 313/400\n",
            "181/181 [==============================] - 1s 5ms/step - loss: 6.9754e-04 - accuracy: 0.9825 - val_loss: 6.1537e-04 - val_accuracy: 0.9796\n",
            "Epoch 314/400\n",
            "181/181 [==============================] - 1s 6ms/step - loss: 7.0569e-04 - accuracy: 0.9809 - val_loss: 6.1304e-04 - val_accuracy: 0.9775\n",
            "Epoch 315/400\n",
            "181/181 [==============================] - 1s 5ms/step - loss: 6.9830e-04 - accuracy: 0.9804 - val_loss: 5.8209e-04 - val_accuracy: 0.9851\n",
            "Epoch 316/400\n",
            "181/181 [==============================] - 1s 5ms/step - loss: 7.0154e-04 - accuracy: 0.9815 - val_loss: 5.7401e-04 - val_accuracy: 0.9893\n",
            "Epoch 317/400\n",
            "181/181 [==============================] - 1s 5ms/step - loss: 7.0472e-04 - accuracy: 0.9805 - val_loss: 5.8195e-04 - val_accuracy: 0.9869\n",
            "Epoch 318/400\n",
            "181/181 [==============================] - 1s 5ms/step - loss: 7.1308e-04 - accuracy: 0.9792 - val_loss: 6.0303e-04 - val_accuracy: 0.9783\n",
            "Epoch 319/400\n",
            "181/181 [==============================] - 1s 5ms/step - loss: 6.9770e-04 - accuracy: 0.9810 - val_loss: 5.9194e-04 - val_accuracy: 0.9839\n",
            "Epoch 320/400\n",
            "181/181 [==============================] - 1s 5ms/step - loss: 6.9710e-04 - accuracy: 0.9819 - val_loss: 5.9055e-04 - val_accuracy: 0.9858\n",
            "Epoch 321/400\n",
            "181/181 [==============================] - 1s 6ms/step - loss: 7.0648e-04 - accuracy: 0.9798 - val_loss: 6.1834e-04 - val_accuracy: 0.9750\n",
            "Epoch 322/400\n",
            "181/181 [==============================] - 1s 6ms/step - loss: 6.9624e-04 - accuracy: 0.9811 - val_loss: 5.9188e-04 - val_accuracy: 0.9791\n",
            "Epoch 323/400\n",
            "181/181 [==============================] - 1s 5ms/step - loss: 6.9883e-04 - accuracy: 0.9811 - val_loss: 5.8179e-04 - val_accuracy: 0.9863\n",
            "Epoch 324/400\n",
            "181/181 [==============================] - 1s 5ms/step - loss: 7.0414e-04 - accuracy: 0.9803 - val_loss: 5.7045e-04 - val_accuracy: 0.9880\n",
            "Epoch 325/400\n",
            "181/181 [==============================] - 1s 5ms/step - loss: 6.9363e-04 - accuracy: 0.9812 - val_loss: 5.6904e-04 - val_accuracy: 0.9893\n",
            "Epoch 326/400\n",
            "181/181 [==============================] - 1s 5ms/step - loss: 7.0504e-04 - accuracy: 0.9791 - val_loss: 5.7993e-04 - val_accuracy: 0.9888\n",
            "Epoch 327/400\n",
            "181/181 [==============================] - 1s 6ms/step - loss: 6.8732e-04 - accuracy: 0.9826 - val_loss: 5.7703e-04 - val_accuracy: 0.9907\n",
            "Epoch 328/400\n",
            "181/181 [==============================] - 1s 6ms/step - loss: 7.0737e-04 - accuracy: 0.9805 - val_loss: 5.7410e-04 - val_accuracy: 0.9827\n",
            "Epoch 329/400\n",
            "181/181 [==============================] - 1s 5ms/step - loss: 6.9500e-04 - accuracy: 0.9807 - val_loss: 5.7610e-04 - val_accuracy: 0.9837\n",
            "Epoch 330/400\n",
            "181/181 [==============================] - 1s 6ms/step - loss: 6.9539e-04 - accuracy: 0.9822 - val_loss: 5.7614e-04 - val_accuracy: 0.9894\n",
            "Epoch 331/400\n",
            "181/181 [==============================] - 1s 5ms/step - loss: 6.9592e-04 - accuracy: 0.9809 - val_loss: 5.8413e-04 - val_accuracy: 0.9880\n",
            "Epoch 332/400\n",
            "181/181 [==============================] - 1s 6ms/step - loss: 6.9604e-04 - accuracy: 0.9811 - val_loss: 5.9089e-04 - val_accuracy: 0.9865\n",
            "Epoch 333/400\n",
            "181/181 [==============================] - 1s 5ms/step - loss: 7.0569e-04 - accuracy: 0.9811 - val_loss: 5.8980e-04 - val_accuracy: 0.9822\n",
            "Epoch 334/400\n",
            "181/181 [==============================] - 1s 5ms/step - loss: 7.0249e-04 - accuracy: 0.9803 - val_loss: 6.0777e-04 - val_accuracy: 0.9865\n",
            "Epoch 335/400\n",
            "181/181 [==============================] - 1s 6ms/step - loss: 6.9623e-04 - accuracy: 0.9814 - val_loss: 5.9628e-04 - val_accuracy: 0.9871\n",
            "Epoch 336/400\n",
            "181/181 [==============================] - 1s 6ms/step - loss: 7.0061e-04 - accuracy: 0.9800 - val_loss: 5.9449e-04 - val_accuracy: 0.9808\n",
            "Epoch 337/400\n",
            "181/181 [==============================] - 1s 6ms/step - loss: 7.0312e-04 - accuracy: 0.9799 - val_loss: 5.8062e-04 - val_accuracy: 0.9844\n",
            "Epoch 338/400\n",
            "181/181 [==============================] - 1s 5ms/step - loss: 6.8868e-04 - accuracy: 0.9817 - val_loss: 5.9809e-04 - val_accuracy: 0.9833\n",
            "Epoch 339/400\n",
            "181/181 [==============================] - 1s 5ms/step - loss: 6.9846e-04 - accuracy: 0.9808 - val_loss: 6.0060e-04 - val_accuracy: 0.9866\n",
            "Epoch 340/400\n",
            "181/181 [==============================] - 1s 6ms/step - loss: 6.9608e-04 - accuracy: 0.9809 - val_loss: 5.7498e-04 - val_accuracy: 0.9889\n",
            "Epoch 341/400\n",
            "181/181 [==============================] - 1s 6ms/step - loss: 6.9953e-04 - accuracy: 0.9808 - val_loss: 6.0791e-04 - val_accuracy: 0.9805\n",
            "Epoch 342/400\n",
            "181/181 [==============================] - 1s 6ms/step - loss: 6.9602e-04 - accuracy: 0.9810 - val_loss: 5.9186e-04 - val_accuracy: 0.9857\n",
            "Epoch 343/400\n",
            "181/181 [==============================] - 1s 6ms/step - loss: 6.8750e-04 - accuracy: 0.9819 - val_loss: 6.1514e-04 - val_accuracy: 0.9761\n",
            "Epoch 344/400\n",
            "181/181 [==============================] - 1s 5ms/step - loss: 7.0050e-04 - accuracy: 0.9808 - val_loss: 5.8887e-04 - val_accuracy: 0.9862\n",
            "Epoch 345/400\n",
            "181/181 [==============================] - 1s 5ms/step - loss: 6.9491e-04 - accuracy: 0.9812 - val_loss: 5.7590e-04 - val_accuracy: 0.9841\n",
            "Epoch 346/400\n",
            "181/181 [==============================] - 1s 6ms/step - loss: 6.9989e-04 - accuracy: 0.9806 - val_loss: 6.0367e-04 - val_accuracy: 0.9902\n",
            "Epoch 347/400\n",
            "181/181 [==============================] - 1s 6ms/step - loss: 6.9599e-04 - accuracy: 0.9814 - val_loss: 5.9338e-04 - val_accuracy: 0.9823\n",
            "Epoch 348/400\n",
            "181/181 [==============================] - 1s 6ms/step - loss: 7.0097e-04 - accuracy: 0.9800 - val_loss: 5.7940e-04 - val_accuracy: 0.9872\n",
            "Epoch 349/400\n",
            "181/181 [==============================] - 1s 5ms/step - loss: 6.9489e-04 - accuracy: 0.9806 - val_loss: 5.7725e-04 - val_accuracy: 0.9872\n",
            "Epoch 350/400\n",
            "181/181 [==============================] - 1s 5ms/step - loss: 6.9286e-04 - accuracy: 0.9815 - val_loss: 5.8272e-04 - val_accuracy: 0.9862\n",
            "Epoch 351/400\n",
            "181/181 [==============================] - 1s 5ms/step - loss: 6.9612e-04 - accuracy: 0.9808 - val_loss: 5.9159e-04 - val_accuracy: 0.9851\n",
            "Epoch 352/400\n",
            "181/181 [==============================] - 1s 5ms/step - loss: 6.9236e-04 - accuracy: 0.9816 - val_loss: 5.7120e-04 - val_accuracy: 0.9837\n",
            "Epoch 353/400\n",
            "181/181 [==============================] - 1s 6ms/step - loss: 6.9791e-04 - accuracy: 0.9812 - val_loss: 5.7653e-04 - val_accuracy: 0.9837\n",
            "Epoch 354/400\n",
            "181/181 [==============================] - 1s 5ms/step - loss: 6.9783e-04 - accuracy: 0.9808 - val_loss: 6.7352e-04 - val_accuracy: 0.9733\n",
            "Epoch 355/400\n",
            "181/181 [==============================] - 1s 5ms/step - loss: 7.0066e-04 - accuracy: 0.9804 - val_loss: 5.9975e-04 - val_accuracy: 0.9823\n",
            "Epoch 356/400\n",
            "181/181 [==============================] - 1s 5ms/step - loss: 7.0339e-04 - accuracy: 0.9805 - val_loss: 6.2537e-04 - val_accuracy: 0.9798\n",
            "Epoch 357/400\n",
            "181/181 [==============================] - 1s 6ms/step - loss: 6.9454e-04 - accuracy: 0.9803 - val_loss: 5.6767e-04 - val_accuracy: 0.9872\n",
            "Epoch 358/400\n",
            "181/181 [==============================] - 1s 5ms/step - loss: 6.9003e-04 - accuracy: 0.9823 - val_loss: 5.9523e-04 - val_accuracy: 0.9815\n",
            "Epoch 359/400\n",
            "181/181 [==============================] - 1s 6ms/step - loss: 6.9233e-04 - accuracy: 0.9811 - val_loss: 5.8759e-04 - val_accuracy: 0.9801\n",
            "Epoch 360/400\n",
            "181/181 [==============================] - 1s 6ms/step - loss: 6.9158e-04 - accuracy: 0.9809 - val_loss: 5.8524e-04 - val_accuracy: 0.9877\n",
            "Epoch 361/400\n",
            "181/181 [==============================] - 1s 5ms/step - loss: 6.9500e-04 - accuracy: 0.9805 - val_loss: 5.7403e-04 - val_accuracy: 0.9847\n",
            "Epoch 362/400\n",
            "181/181 [==============================] - 1s 5ms/step - loss: 6.9751e-04 - accuracy: 0.9796 - val_loss: 5.8453e-04 - val_accuracy: 0.9862\n",
            "Epoch 363/400\n",
            "181/181 [==============================] - 1s 5ms/step - loss: 6.9263e-04 - accuracy: 0.9802 - val_loss: 6.3131e-04 - val_accuracy: 0.9787\n",
            "Epoch 364/400\n",
            "181/181 [==============================] - 1s 5ms/step - loss: 6.9567e-04 - accuracy: 0.9809 - val_loss: 5.8746e-04 - val_accuracy: 0.9852\n",
            "Epoch 365/400\n",
            "181/181 [==============================] - 1s 5ms/step - loss: 6.9341e-04 - accuracy: 0.9816 - val_loss: 6.7072e-04 - val_accuracy: 0.9765\n",
            "Epoch 366/400\n",
            "181/181 [==============================] - 1s 6ms/step - loss: 6.9440e-04 - accuracy: 0.9808 - val_loss: 5.7905e-04 - val_accuracy: 0.9874\n",
            "Epoch 367/400\n",
            "181/181 [==============================] - 1s 6ms/step - loss: 6.8879e-04 - accuracy: 0.9815 - val_loss: 6.0117e-04 - val_accuracy: 0.9865\n",
            "Epoch 368/400\n",
            "181/181 [==============================] - 1s 6ms/step - loss: 6.9512e-04 - accuracy: 0.9807 - val_loss: 6.2409e-04 - val_accuracy: 0.9794\n",
            "Epoch 369/400\n",
            "181/181 [==============================] - 1s 6ms/step - loss: 6.9490e-04 - accuracy: 0.9817 - val_loss: 5.7668e-04 - val_accuracy: 0.9871\n",
            "Epoch 370/400\n",
            "181/181 [==============================] - 1s 5ms/step - loss: 6.9675e-04 - accuracy: 0.9805 - val_loss: 6.3470e-04 - val_accuracy: 0.9768\n",
            "Epoch 371/400\n",
            "181/181 [==============================] - 1s 5ms/step - loss: 6.9356e-04 - accuracy: 0.9806 - val_loss: 5.8550e-04 - val_accuracy: 0.9823\n",
            "Epoch 372/400\n",
            "181/181 [==============================] - 1s 5ms/step - loss: 6.8841e-04 - accuracy: 0.9825 - val_loss: 5.9107e-04 - val_accuracy: 0.9776\n",
            "Epoch 373/400\n",
            "181/181 [==============================] - 1s 6ms/step - loss: 7.0346e-04 - accuracy: 0.9798 - val_loss: 5.8212e-04 - val_accuracy: 0.9811\n",
            "Epoch 374/400\n",
            "181/181 [==============================] - 1s 5ms/step - loss: 6.9297e-04 - accuracy: 0.9808 - val_loss: 5.7819e-04 - val_accuracy: 0.9849\n",
            "Epoch 375/400\n",
            "181/181 [==============================] - 1s 6ms/step - loss: 6.9246e-04 - accuracy: 0.9791 - val_loss: 6.1381e-04 - val_accuracy: 0.9792\n",
            "Epoch 376/400\n",
            "181/181 [==============================] - 1s 5ms/step - loss: 6.9112e-04 - accuracy: 0.9806 - val_loss: 5.6645e-04 - val_accuracy: 0.9862\n",
            "Epoch 377/400\n",
            "181/181 [==============================] - 1s 5ms/step - loss: 6.9226e-04 - accuracy: 0.9807 - val_loss: 6.3926e-04 - val_accuracy: 0.9645\n",
            "Epoch 378/400\n",
            "181/181 [==============================] - 1s 6ms/step - loss: 6.9245e-04 - accuracy: 0.9807 - val_loss: 5.8191e-04 - val_accuracy: 0.9842\n",
            "Epoch 379/400\n",
            "181/181 [==============================] - 1s 5ms/step - loss: 6.9408e-04 - accuracy: 0.9804 - val_loss: 5.7131e-04 - val_accuracy: 0.9863\n",
            "Epoch 380/400\n",
            "181/181 [==============================] - 1s 6ms/step - loss: 6.9372e-04 - accuracy: 0.9817 - val_loss: 6.9065e-04 - val_accuracy: 0.9698\n",
            "Epoch 381/400\n",
            "181/181 [==============================] - 1s 5ms/step - loss: 6.9863e-04 - accuracy: 0.9804 - val_loss: 5.6753e-04 - val_accuracy: 0.9882\n",
            "Epoch 382/400\n",
            "181/181 [==============================] - 1s 6ms/step - loss: 6.9053e-04 - accuracy: 0.9814 - val_loss: 5.6168e-04 - val_accuracy: 0.9885\n",
            "Epoch 383/400\n",
            "181/181 [==============================] - 1s 6ms/step - loss: 6.8867e-04 - accuracy: 0.9808 - val_loss: 5.6245e-04 - val_accuracy: 0.9877\n",
            "Epoch 384/400\n",
            "181/181 [==============================] - 1s 6ms/step - loss: 6.9354e-04 - accuracy: 0.9804 - val_loss: 6.3215e-04 - val_accuracy: 0.9775\n",
            "Epoch 385/400\n",
            "181/181 [==============================] - 1s 6ms/step - loss: 6.9411e-04 - accuracy: 0.9810 - val_loss: 6.0711e-04 - val_accuracy: 0.9794\n",
            "Epoch 386/400\n",
            "181/181 [==============================] - 1s 6ms/step - loss: 6.9667e-04 - accuracy: 0.9806 - val_loss: 6.2712e-04 - val_accuracy: 0.9686\n",
            "Epoch 387/400\n",
            "181/181 [==============================] - 1s 5ms/step - loss: 6.9452e-04 - accuracy: 0.9794 - val_loss: 5.6875e-04 - val_accuracy: 0.9857\n",
            "Epoch 388/400\n",
            "181/181 [==============================] - 1s 6ms/step - loss: 6.8624e-04 - accuracy: 0.9808 - val_loss: 5.7650e-04 - val_accuracy: 0.9859\n",
            "Epoch 389/400\n",
            "181/181 [==============================] - 1s 6ms/step - loss: 6.9238e-04 - accuracy: 0.9801 - val_loss: 5.7480e-04 - val_accuracy: 0.9846\n",
            "Epoch 390/400\n",
            "181/181 [==============================] - 1s 5ms/step - loss: 6.8039e-04 - accuracy: 0.9827 - val_loss: 5.8743e-04 - val_accuracy: 0.9808\n",
            "Epoch 391/400\n",
            "181/181 [==============================] - 1s 6ms/step - loss: 6.8788e-04 - accuracy: 0.9808 - val_loss: 5.6445e-04 - val_accuracy: 0.9857\n",
            "Epoch 392/400\n",
            "181/181 [==============================] - 1s 5ms/step - loss: 6.9057e-04 - accuracy: 0.9812 - val_loss: 5.7458e-04 - val_accuracy: 0.9837\n",
            "Epoch 393/400\n",
            "181/181 [==============================] - 1s 6ms/step - loss: 6.9248e-04 - accuracy: 0.9804 - val_loss: 5.8803e-04 - val_accuracy: 0.9799\n",
            "Epoch 394/400\n",
            "181/181 [==============================] - 1s 5ms/step - loss: 6.9520e-04 - accuracy: 0.9796 - val_loss: 5.7916e-04 - val_accuracy: 0.9865\n",
            "Epoch 395/400\n",
            "181/181 [==============================] - 1s 6ms/step - loss: 6.8808e-04 - accuracy: 0.9814 - val_loss: 6.0833e-04 - val_accuracy: 0.9818\n",
            "Epoch 396/400\n",
            "181/181 [==============================] - 1s 6ms/step - loss: 6.9847e-04 - accuracy: 0.9790 - val_loss: 6.0122e-04 - val_accuracy: 0.9782\n",
            "Epoch 397/400\n",
            "181/181 [==============================] - 1s 6ms/step - loss: 6.9027e-04 - accuracy: 0.9808 - val_loss: 5.6272e-04 - val_accuracy: 0.9870\n",
            "Epoch 398/400\n",
            "181/181 [==============================] - 1s 6ms/step - loss: 6.8757e-04 - accuracy: 0.9818 - val_loss: 5.6767e-04 - val_accuracy: 0.9884\n",
            "Epoch 399/400\n",
            "181/181 [==============================] - 1s 6ms/step - loss: 6.8553e-04 - accuracy: 0.9810 - val_loss: 5.9068e-04 - val_accuracy: 0.9808\n",
            "Epoch 400/400\n",
            "181/181 [==============================] - 1s 5ms/step - loss: 6.9242e-04 - accuracy: 0.9811 - val_loss: 5.8035e-04 - val_accuracy: 0.9786\n"
          ]
        }
      ]
    },
    {
      "cell_type": "markdown",
      "source": [
        "# Evaluate the training performance"
      ],
      "metadata": {
        "id": "hm2y2S51MH4s"
      }
    },
    {
      "cell_type": "code",
      "source": [
        "### Draw a graph of the loss, which is the distance between\n",
        "# the predicted and actual values during training and validation.\n",
        "train_loss = history_1.history['loss']\n",
        "val_loss = history_1.history['val_loss']\n",
        "accuracy = history_1.history['accuracy']\n",
        "val_accuracy = history_1.history['val_accuracy']\n",
        "\n",
        "epochs = range(1, len(train_loss) + 1)\n",
        "\n",
        "fig, ax1 = plt.subplots()\n",
        "\n",
        "p1 = ax1.plot(epochs, train_loss, 'b', label='Training loss')\n",
        "p2 = ax1.plot(epochs, val_loss, 'orange', label='Validation loss')\n",
        "\n",
        "ax2 = ax1.twinx()\n",
        "\n",
        "p3 = ax2.plot(epochs, accuracy, 'r', label='Accuracy')\n",
        "p4 = ax2.plot(epochs, val_accuracy, 'g', label='Validation Accuracy')\n",
        "\n",
        "ax1.set_title('Training and validation loss')\n",
        "ax1.set_xlabel('Epochs')\n",
        "ax1.set_ylabel('Loss')\n",
        "ax2.set_ylabel('accuracy')\n",
        "ax2.set_ylim([0.8,1])\n",
        "\n",
        "lns = p1+p2+p3+p4\n",
        "labs = [l.get_label() for l in lns]\n",
        "ax1.legend(lns, labs, loc='lower left')\n",
        "\n",
        "plt.show()"
      ],
      "metadata": {
        "id": "DO5sw9BxMK5E",
        "colab": {
          "base_uri": "https://localhost:8080/",
          "height": 295
        },
        "outputId": "154d4f07-59f8-49ab-b2a3-d709e5e1cf1c"
      },
      "execution_count": 620,
      "outputs": [
        {
          "output_type": "display_data",
          "data": {
            "text/plain": [
              "<Figure size 432x288 with 2 Axes>"
            ],
            "image/png": "[encoded data removed]"
          },
          "metadata": {
            "needs_background": "light"
          }
        }
      ]
    },
    {
      "cell_type": "code",
      "source": [
        "# evaluate the keras model\n",
        "_, accuracy = model_1.evaluate(y_validate, x_validate)\n",
        "print('Accuracy: %.2f' % (accuracy*100))"
      ],
      "metadata": {
        "colab": {
          "base_uri": "https://localhost:8080/"
        },
        "id": "kZ6rMEUZvYZ-",
        "outputId": "ac9bc2a1-57dd-4c08-9251-d2c36bc50245"
      },
      "execution_count": 621,
      "outputs": [
        {
          "output_type": "stream",
          "name": "stdout",
          "text": [
            "625/625 [==============================] - 2s 2ms/step - loss: 5.8035e-04 - accuracy: 0.9786\n",
            "Accuracy: 97.86\n"
          ]
        }
      ]
    },
    {
      "cell_type": "code",
      "metadata": {
        "id": "i13eVIT3B9Mj",
        "outputId": "1da705f5-1842-450d-f1d1-799480d713d9",
        "colab": {
          "base_uri": "https://localhost:8080/"
        }
      },
      "source": [
        "# Test a couple of waveforms\n",
        "# remember:\n",
        "#     y = waveforms\n",
        "#     x = truth parameters\n",
        "\n",
        "x_test = x_values[1]\n",
        "y_test = np.array(generateTemplate(position = int(x_test[0]*SCALE_POS), \n",
        "                                   pulse_length = int(x_test[1]*SCALE_WIDTH), \n",
        "                                   height=int(x_test[2]*SCALE_HEIGHT), \n",
        "                                   noise=0\n",
        "                                   )/SCALE_HEIGHT)\n",
        "\n",
        "# waveform needs to be reshaped to be fed into ANN\n",
        "y_test = y_test.reshape(1,128)\n",
        "\n",
        "# try, whether we can reconstruct the parameters x_test from the waveform y_test\n",
        "model_1.make_predict_function()\n",
        "x_test_pred = np.array(model_1.predict(y_test)[0])\n",
        "\n",
        "print(\"sample pulse created: \", x_test)\n",
        "print(\"ANN reconstructed:    \", x_test_pred)"
      ],
      "execution_count": 622,
      "outputs": [
        {
          "output_type": "stream",
          "name": "stdout",
          "text": [
            "sample pulse created:  [0.5625     0.625      0.46666667]\n",
            "ANN reconstructed:     [0.6221628 0.5639387 0.4696898]\n"
          ]
        }
      ]
    },
    {
      "cell_type": "markdown",
      "source": [
        "## Have a look at the reconstructed parameters\n",
        "\n",
        "Get some random pulses, and have a look how they are reconstructed by the network.\n"
      ],
      "metadata": {
        "id": "A0DU0ZLx59Z8"
      }
    },
    {
      "cell_type": "code",
      "source": [
        "# number of test waveforms\n",
        "TEST_SAMPLES = 10000"
      ],
      "metadata": {
        "id": "BDet8lS36gIz"
      },
      "execution_count": 623,
      "outputs": []
    },
    {
      "cell_type": "code",
      "source": [
        "waveforms = []        # generated waveforms\n",
        "orig_parameters = []  # parameters, which are used for the generation\n",
        "NN_parameters = []    # parameters, reconstructed by the NN\n",
        "\n",
        "# vary the parameters to have a look a the performance outside the trained \n",
        "# parameter boundaries.\n",
        "parameter_variation = 0.0\n",
        "\n",
        "# increase the range of parameters in order to see, what is happening\n",
        "T_width    = ( P_width[0]    * (1 - parameter_variation) , P_width[1]    * (1 + parameter_variation) )\n",
        "T_position = ( P_position[0] * (1 - parameter_variation) , P_position[1] * (1 + parameter_variation) )\n",
        "T_height   = ( P_height[0]   * (1 - parameter_variation) , P_height[1]   * (1 + parameter_variation) )\n",
        "T_offset   = ( P_offset[0]   * (1 - parameter_variation) , P_offset[1]   * (1 + parameter_variation) )\n",
        "\n",
        "# generate the waveforms\n",
        "for i in range(TEST_SAMPLES):\n",
        "  # use random settings\n",
        "  width = np.random.randint( *T_width )\n",
        "  position = np.random.randint( *T_position )\n",
        "  height = np.random.randint( *T_height )\n",
        "  offset = np.random.randint( *T_offset )\n",
        "\n",
        "  waveforms.append( np.array(generateTemplate(position = position, pulse_length = width, height=height, noise=noise, offset=offset) / SCALE_HEIGHT ) )\n",
        "  orig_parameters.append( (width, position, height) )"
      ],
      "metadata": {
        "id": "qvu48FbE6UTm"
      },
      "execution_count": 624,
      "outputs": []
    },
    {
      "cell_type": "code",
      "source": [
        "for i in range(TEST_SAMPLES):\n",
        "  # waveform needs to be reshaped to be fed into ANN\n",
        "  waveform = waveforms[i].reshape(1,128)\n",
        "  width, position, height = model_1.predict(waveform)[0]\n",
        "  width *= SCALE_WIDTH\n",
        "  position *= SCALE_POS\n",
        "  height *= SCALE_HEIGHT\n",
        "\n",
        "  NN_parameters.append( (width, position, height))\n"
      ],
      "metadata": {
        "id": "IXDLAkyy6lrh"
      },
      "execution_count": 625,
      "outputs": []
    },
    {
      "cell_type": "code",
      "source": [
        "import time\n",
        "# save results for further plotting\n",
        "np.savez(\"colab_eval_%s_noise_%4.3f_%d.npz\"%(time.strftime(\"%Y%m%d_%H%M%S\"), noise, TEST_SAMPLES),\n",
        "             reco_params=NN_parameters,\n",
        "             gene_params=orig_parameters\n",
        "             )"
      ],
      "metadata": {
        "id": "V36brSa1Xy3N"
      },
      "execution_count": 634,
      "outputs": []
    },
    {
      "cell_type": "markdown",
      "source": [
        "Plot the distributions"
      ],
      "metadata": {
        "id": "GI7iIFsN7LMw"
      }
    },
    {
      "cell_type": "code",
      "source": [
        "plot_x = [k[0] for k in orig_parameters]\n",
        "plot_y = [k[0] for k in NN_parameters]\n",
        "plt.hist2d(plot_x, plot_y, bins=32, cmin=1, cmap='summer')\n",
        "plt.vlines(np.array(P_width),ymin=0, ymax=100)\n",
        "plt.plot( [np.min(plot_x), np.max(plot_x)], [np.min(plot_x), np.max(plot_x)])\n",
        "plt.colorbar()\n",
        "plt.title(\"Colab Width\")\n",
        "plt.ylabel(\"NN parameter\")\n",
        "plt.xlabel(\"truth parameter\")\n",
        "plt.show()"
      ],
      "metadata": {
        "colab": {
          "base_uri": "https://localhost:8080/",
          "height": 295
        },
        "id": "4abhDols7ORo",
        "outputId": "154925b4-e190-49c1-d976-a0829629a750"
      },
      "execution_count": 627,
      "outputs": [
        {
          "output_type": "display_data",
          "data": {
            "text/plain": [
              "<Figure size 432x288 with 2 Axes>"
            ],
            "image/png": "[encoded data removed]"
          },
          "metadata": {
            "needs_background": "light"
          }
        }
      ]
    },
    {
      "cell_type": "code",
      "source": [
        "plot_x = [k[1] for k in orig_parameters]\n",
        "plot_y = [k[1] for k in NN_parameters]\n",
        "plt.hist2d(plot_x, plot_y, bins=32, cmin=1, cmap='summer')\n",
        "plt.vlines(np.array(P_position),ymin=0, ymax=100)\n",
        "plt.plot( [np.min(plot_x), np.max(plot_x)], [np.min(plot_x), np.max(plot_x)])\n",
        "plt.colorbar()\n",
        "plt.title(\"Colab Postition\")\n",
        "plt.ylabel(\"NN parameter\")\n",
        "plt.xlabel(\"truth parameter\")\n",
        "plt.show()"
      ],
      "metadata": {
        "colab": {
          "base_uri": "https://localhost:8080/",
          "height": 295
        },
        "id": "ql9DsEfg72Px",
        "outputId": "c3df9cde-266a-4274-d0c9-9834bf5dac0e"
      },
      "execution_count": 628,
      "outputs": [
        {
          "output_type": "display_data",
          "data": {
            "text/plain": [
              "<Figure size 432x288 with 2 Axes>"
            ],
            "image/png": "[encoded data removed]"
          },
          "metadata": {
            "needs_background": "light"
          }
        }
      ]
    },
    {
      "cell_type": "code",
      "source": [
        "plot_x = [k[2] for k in orig_parameters]\n",
        "plot_y = [k[2] for k in NN_parameters]\n",
        "plt.hist2d(plot_x, plot_y, bins=32, cmin=1, cmap='summer')\n",
        "plt.vlines(np.array(P_height),ymin=0, ymax=1000)\n",
        "plt.plot( [np.min(plot_x), np.max(plot_x)], [np.min(plot_x), np.max(plot_x)])\n",
        "plt.colorbar()\n",
        "plt.title(\"Colab Height\")\n",
        "plt.ylabel(\"NN parameter\")\n",
        "plt.xlabel(\"truth parameter\")\n",
        "plt.show()"
      ],
      "metadata": {
        "colab": {
          "base_uri": "https://localhost:8080/",
          "height": 295
        },
        "id": "4Co7DGIk740X",
        "outputId": "15a783f0-58ce-42d5-9f74-96e9bf01fa3e"
      },
      "execution_count": 629,
      "outputs": [
        {
          "output_type": "display_data",
          "data": {
            "text/plain": [
              "<Figure size 432x288 with 2 Axes>"
            ],
            "image/png": "[encoded data removed]"
          },
          "metadata": {
            "needs_background": "light"
          }
        }
      ]
    },
    {
      "cell_type": "markdown",
      "source": [
        "# What happens at zero input?\n",
        "What if the input array is all zero?"
      ],
      "metadata": {
        "id": "GQCZ_TBbD2cd"
      }
    },
    {
      "cell_type": "code",
      "source": [
        "# waveform needs to be reshaped to be fed into ANN\n",
        "waveform = np.zeros(128)\n",
        "waveform = waveform.reshape(1,128)\n",
        "print( model_1.predict(waveform)[0] )"
      ],
      "metadata": {
        "id": "bFAuP2x7EAWE",
        "colab": {
          "base_uri": "https://localhost:8080/"
        },
        "outputId": "a3685ea8-7289-4963-ad65-f6b600979792"
      },
      "execution_count": 630,
      "outputs": [
        {
          "output_type": "stream",
          "name": "stdout",
          "text": [
            "[0.3130495  0.5967831  0.02239061]\n"
          ]
        }
      ]
    },
    {
      "cell_type": "markdown",
      "source": [
        "# Export to STM32"
      ],
      "metadata": {
        "id": "rB2GEVaYSFSn"
      }
    },
    {
      "cell_type": "markdown",
      "source": [
        "following:\n",
        "This [tutorial](https://www.digikey.de/en/maker/projects/tinyml-getting-started-with-stm32-x-cube-ai/f94e1c8bfc1e4b6291d0f672d780d2c0) from DigiKey "
      ],
      "metadata": {
        "id": "NMQ5nDGrXHo_"
      }
    },
    {
      "cell_type": "code",
      "source": [
        "# settings\n",
        "tflite_model_name = 'pulse_reco'  # Will be given .tflite suffix\n",
        "c_model_name = 'pulse_reco'       # Will be given .h suffix"
      ],
      "metadata": {
        "id": "aL0G5NQ8YULj"
      },
      "execution_count": 631,
      "outputs": []
    },
    {
      "cell_type": "code",
      "source": [
        "# Convert Keras model to a tflite model\n",
        "converter = tf.lite.TFLiteConverter.from_keras_model(model_1)\n",
        "converter.optimizations = [tf.lite.Optimize.DEFAULT]  # option OPTIMIZE_FOR_SIZE is deprecated\n",
        "tflite_model = converter.convert()\n",
        "\n",
        "open(tflite_model_name+'.tflite', 'wb').write(tflite_model)"
      ],
      "metadata": {
        "colab": {
          "base_uri": "https://localhost:8080/"
        },
        "id": "aRqSNF9LXy-4",
        "outputId": "5ee8f9d4-4ba9-4933-983a-ba8e01eeaff5"
      },
      "execution_count": 632,
      "outputs": [
        {
          "output_type": "stream",
          "name": "stdout",
          "text": [
            "INFO:tensorflow:Assets written to: /tmp/tmpsaa8ig1j/assets\n"
          ]
        },
        {
          "output_type": "stream",
          "name": "stderr",
          "text": [
            "INFO:tensorflow:Assets written to: /tmp/tmpsaa8ig1j/assets\n",
            "WARNING:absl:Buffer deduplication procedure will be skipped when flatbuffer library is not properly loaded\n"
          ]
        },
        {
          "output_type": "execute_result",
          "data": {
            "text/plain": [
              "17536"
            ]
          },
          "metadata": {},
          "execution_count": 632
        }
      ]
    },
    {
      "cell_type": "markdown",
      "source": [
        "For usage inside the [STM32Cube.AI](https://www.st.com/content/st_com/en/support/learning/stm32-education/stm32-moocs/Introduction_to_STM32CubeAI_MOOC.html) it is sufficient to just have the tensorflow light model. The special export seems not be needed."
      ],
      "metadata": {
        "id": "oF93jw-v-FMP"
      }
    },
    {
      "cell_type": "markdown",
      "source": [
        "We have to define a special function, which exports our data into a H-file, which can be later used and included into our microcontroller code.\n",
        "\n",
        "The function is from https://gist.github.com/ShawnHymel/79237fe6aee5a3653c497d879f746c0c"
      ],
      "metadata": {
        "id": "tQG-2XJIZkFU"
      }
    },
    {
      "cell_type": "markdown",
      "source": [
        "## Test the TFlite model"
      ],
      "metadata": {
        "id": "gt7YY5yMGLrD"
      }
    },
    {
      "cell_type": "code",
      "source": [
        "# Load the TFLite model and allocate tensors.\n",
        "interpreter = tf.lite.Interpreter(model_path=tflite_model_name+\".tflite\")\n",
        "interpreter.allocate_tensors()\n",
        "\n",
        "# Get input and output tensors.\n",
        "input_details = interpreter.get_input_details()\n",
        "output_details = interpreter.get_output_details()\n",
        "\n",
        "# Test the model on random input data.\n",
        "input_shape = input_details[0]['shape']\n",
        "\n",
        "input_data = np.array( y_test, dtype=np.float32)\n",
        "interpreter.set_tensor(input_details[0]['index'], input_data)\n",
        "\n",
        "interpreter.invoke()\n",
        "\n",
        "output_data = interpreter.get_tensor(output_details[0]['index'])[0]\n",
        "\n",
        "print(\"sample pulse created:    \", x_test)\n",
        "print(\"TFlite reconstructed:    \", output_data)"
      ],
      "metadata": {
        "colab": {
          "base_uri": "https://localhost:8080/"
        },
        "id": "a_k8NQt_GRop",
        "outputId": "4c85df0e-1d3c-41bb-e2de-0145fd44c3d6"
      },
      "execution_count": 633,
      "outputs": [
        {
          "output_type": "stream",
          "name": "stdout",
          "text": [
            "sample pulse created:     [0.5625     0.625      0.46666667]\n",
            "TFlite reconstructed:     [0.61671185 0.5624044  0.47383475]\n"
          ]
        }
      ]
    }
  ]
}