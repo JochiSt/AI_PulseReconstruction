{
  "nbformat": 4,
  "nbformat_minor": 0,
  "metadata": {
    "colab": {
      "name": "TestSTM32_AI.ipynb",
      "provenance": [],
      "collapsed_sections": [],
      "authorship_tag": "ABX9TyODqTWz4wPtG7OsfqCe7CjK",
      "include_colab_link": true
    },
    "kernelspec": {
      "name": "python3",
      "display_name": "Python 3"
    },
    "language_info": {
      "name": "python"
    }
  },
  "cells": [
    {
      "cell_type": "markdown",
      "metadata": {
        "id": "view-in-github",
        "colab_type": "text"
      },
      "source": [
        "<a href=\"https://colab.research.google.com/github/JochiSt/AI_PulseReconstruction/blob/main/TestSTM32_AI.ipynb\" target=\"_parent\"><img src=\"https://colab.research.google.com/assets/colab-badge.svg\" alt=\"Open In Colab\"/></a>"
      ]
    },
    {
      "cell_type": "markdown",
      "source": [
        "# Pulse recognition AI\n",
        "\n",
        "first all the imports"
      ],
      "metadata": {
        "id": "brM0YAG3Vcen"
      }
    },
    {
      "cell_type": "code",
      "execution_count": 570,
      "metadata": {
        "id": "dW80rxgzVZ8z"
      },
      "outputs": [],
      "source": [
        "import numpy as np\n",
        "import matplotlib.pyplot as plt\n",
        "from matplotlib.colors import LogNorm"
      ]
    },
    {
      "cell_type": "markdown",
      "source": [
        "## Generate template"
      ],
      "metadata": {
        "id": "XUxegHb0V0qN"
      }
    },
    {
      "cell_type": "code",
      "source": [
        "TOTAL_SAMPLES = 128\n",
        "RISING_POINTS = 4\n",
        "\n",
        "def generateTemplate(position = 0, pulse_length = 32, height=1, noise=0, offset=0):\n",
        "\n",
        "  assert TOTAL_SAMPLES - pulse_length - position - RISING_POINTS * 2 > 0\n",
        "\n",
        "  # zeroes at front of the pulse\n",
        "  template = np.zeros(position)\n",
        "\n",
        "  # create rising edge\n",
        "  template = np.append(template, np.linspace(0,1,RISING_POINTS, endpoint=False))\n",
        "\n",
        "  # high part of the pulse\n",
        "  template = np.append(template, np.ones(pulse_length))\n",
        "\n",
        "  # create falling edge\n",
        "  template = np.append(template, np.linspace(1,0,RISING_POINTS, endpoint=False))\n",
        "\n",
        "  # zeroes after the pulse\n",
        "  template = np.append(template, np.zeros( TOTAL_SAMPLES - pulse_length - position - 2*RISING_POINTS))\n",
        "\n",
        "  # multiply by the height to get the right amplitude\n",
        "  template *= height\n",
        "\n",
        "  # add some noise\n",
        "  template  += noise * np.random.randn(*template.shape)\n",
        "\n",
        "  # add a constant offset\n",
        "  template += offset\n",
        "\n",
        "  # clip template to range [0, 255]\n",
        "  template = np.clip(template, 0, 255)\n",
        "\n",
        "  # convert to integer\n",
        "  template = template.astype(int)\n",
        "\n",
        "  return template\n",
        "\n",
        "print(\"template length: \", len(generateTemplate()))"
      ],
      "metadata": {
        "colab": {
          "base_uri": "https://localhost:8080/"
        },
        "id": "RPOJ8P9jWBRa",
        "outputId": "8a4c9b5f-38a4-4b98-8c0c-c717b791fbf1"
      },
      "execution_count": 571,
      "outputs": [
        {
          "output_type": "stream",
          "name": "stdout",
          "text": [
            "template length:  128\n"
          ]
        }
      ]
    },
    {
      "cell_type": "markdown",
      "source": [
        "Have a look at the template visually"
      ],
      "metadata": {
        "id": "I1PFw1tzV8kx"
      }
    },
    {
      "cell_type": "code",
      "source": [
        "plt.plot(generateTemplate(position = 32, pulse_length=32, height=128), 'b.')\n",
        "plt.plot(generateTemplate(position = 16, pulse_length=64, height=128), 'r.')\n",
        "plt.show()"
      ],
      "metadata": {
        "colab": {
          "base_uri": "https://localhost:8080/",
          "height": 265
        },
        "id": "L1VUYDhUWw9t",
        "outputId": "ba958eff-c812-4733-93fa-f4c978baf169"
      },
      "execution_count": 572,
      "outputs": [
        {
          "output_type": "display_data",
          "data": {
            "text/plain": [
              "<Figure size 432x288 with 1 Axes>"
            ],
            "image/png": "[encoded data removed]"
          },
          "metadata": {
            "needs_background": "light"
          }
        }
      ]
    },
    {
      "cell_type": "markdown",
      "source": [
        "add some noise, and maybe shift the position\n",
        "\n",
        "\n",
        "\n"
      ],
      "metadata": {
        "id": "kYBulwl2XGvg"
      }
    },
    {
      "cell_type": "code",
      "source": [
        "# Plot our data\n",
        "plt.plot(generateTemplate(height=128, noise=1), 'b.')\n",
        "plt.show()"
      ],
      "metadata": {
        "id": "ouyegrmBXGJg",
        "colab": {
          "base_uri": "https://localhost:8080/",
          "height": 265
        },
        "outputId": "8b980c16-7cba-4df6-f67a-d4e61d1474b0"
      },
      "execution_count": 573,
      "outputs": [
        {
          "output_type": "display_data",
          "data": {
            "text/plain": [
              "<Figure size 432x288 with 1 Axes>"
            ],
            "image/png": "[encoded data removed]"
          },
          "metadata": {
            "needs_background": "light"
          }
        }
      ]
    },
    {
      "cell_type": "markdown",
      "source": [
        "## Create Templates for recognision\n",
        "\n",
        "Generate a couple of templates, which have a pulse in them, and some without any data"
      ],
      "metadata": {
        "id": "u1emwvE7ogUq"
      }
    },
    {
      "cell_type": "code",
      "source": [
        "for i in range(10):\n",
        "  width = np.random.randint(16, 64)               # width of 16 to 64\n",
        "  position = np.random.randint(0, high=96-width) # arbitrary position\n",
        "  noise = np.random.randint(1,30)/10.             # 0.1 to 3 LSB noise\n",
        "  height = np.random.randint(32,250)              # pulse height of 32 to 128\n",
        "\n",
        "  print(position, width, noise, height)\n",
        "  plt.plot(generateTemplate(position = position, pulse_length = width, height=height, noise=noise))\n",
        "\n",
        "plt.show()"
      ],
      "metadata": {
        "colab": {
          "base_uri": "https://localhost:8080/",
          "height": 449
        },
        "id": "1bzxxYb7odBS",
        "outputId": "b7fdc25f-8d3e-42b1-d91f-68ce5f238bd9"
      },
      "execution_count": 574,
      "outputs": [
        {
          "output_type": "stream",
          "name": "stdout",
          "text": [
            "26 42 2.4 88\n",
            "24 47 0.6 183\n",
            "8 28 2.3 94\n",
            "49 39 1.7 216\n",
            "19 50 2.2 58\n",
            "71 18 1.5 138\n",
            "10 29 1.0 118\n",
            "23 60 2.6 89\n",
            "11 25 0.8 175\n",
            "46 49 2.0 133\n"
          ]
        },
        {
          "output_type": "display_data",
          "data": {
            "text/plain": [
              "<Figure size 432x288 with 1 Axes>"
            ],
            "image/png": "[encoded data removed]"
          },
          "metadata": {
            "needs_background": "light"
          }
        }
      ]
    },
    {
      "cell_type": "markdown",
      "source": [
        "# Building the ANN\n"
      ],
      "metadata": {
        "id": "gEwEaXGCzATx"
      }
    },
    {
      "cell_type": "markdown",
      "source": [
        "### Purpose of the ANN\n",
        "We want to do Pattern Recognition, based on the waveforms shown above.\n",
        "\n",
        "The output parameters, which we want to reconstruct are:\n",
        "*   Width\n",
        "*   Position\n",
        "*   height\n"
      ],
      "metadata": {
        "id": "xAJs9gcpMi9V"
      }
    },
    {
      "cell_type": "markdown",
      "source": [
        "Starting with importing all things, which we need for creating a model"
      ],
      "metadata": {
        "id": "ffHEzdBezI__"
      }
    },
    {
      "cell_type": "code",
      "source": [
        "# TensorFlow is an open source machine learning library\n",
        "import tensorflow as tf\n",
        "# Keras is TensorFlow's high-level API for deep learning\n",
        "from tensorflow import keras"
      ],
      "metadata": {
        "id": "AVbyQZoBzNxw"
      },
      "execution_count": 575,
      "outputs": []
    },
    {
      "cell_type": "code",
      "source": [
        "# number of samples for training, testing etc.\n",
        "SAMPLES = 100000"
      ],
      "metadata": {
        "id": "_2mfaOUkzo12"
      },
      "execution_count": 576,
      "outputs": []
    },
    {
      "cell_type": "markdown",
      "source": [
        "## Generate the samples\n",
        "We want to do Pattern recognition, so we have to link the waveforms to the input parameters."
      ],
      "metadata": {
        "id": "UCMepv3tzyM9"
      }
    },
    {
      "cell_type": "code",
      "source": [
        "# scale parameters to get values between 0 and 1\n",
        "SCALE_WIDTH = 64\n",
        "SCALE_POS = 32\n",
        "SCALE_HEIGHT = 255"
      ],
      "metadata": {
        "id": "yxy-rub9I2-K"
      },
      "execution_count": 577,
      "outputs": []
    },
    {
      "cell_type": "code",
      "source": [
        "# parameters for template generation\n",
        "P_width = (8,64)\n",
        "P_position = (16,24)\n",
        "P_height = (32, 255)\n",
        "P_offset = (0,10)"
      ],
      "metadata": {
        "id": "-g8CSmkVHUvM"
      },
      "execution_count": 578,
      "outputs": []
    },
    {
      "cell_type": "code",
      "source": [
        "# use fixed value for noise (1st try)\n",
        "noise = 1 \n",
        "offset = 5\n",
        "\n",
        "y_values = []\n",
        "x_values = []\n",
        "\n",
        "# generate the waveforms\n",
        "for i in range(SAMPLES):\n",
        "  # use random settings\n",
        "  width = np.random.randint( *P_width )       # width\n",
        "  position = np.random.randint( *P_position ) # limit position into a certain window\n",
        "  height = np.random.randint( *P_height )     # pulse height\n",
        "  offset = np.random.randint( *P_offset )     # constant offset\n",
        "\n",
        "  x_values.append( (width/SCALE_WIDTH, position/SCALE_POS, height/SCALE_HEIGHT) )\n",
        "  y_values.append( generateTemplate(position = position, pulse_length = width, height=height, noise=noise, offset=offset) / SCALE_HEIGHT )\n",
        "\n",
        "# debug printouts\n",
        "#print(x_values[:2])\n",
        "#print(y_values[:2])"
      ],
      "metadata": {
        "id": "6uUa9b2pzviJ"
      },
      "execution_count": 579,
      "outputs": []
    },
    {
      "cell_type": "markdown",
      "source": [
        "### Look at the training data\n",
        "Just make a 2D histogram of all templates."
      ],
      "metadata": {
        "id": "M54DYG8PLBYg"
      }
    },
    {
      "cell_type": "code",
      "source": [
        "if True:\n",
        "  plot_x = [ np.arange(128) for i in range(len(y_values)) ]\n",
        "  plot_x = np.array(plot_x)\n",
        "  plot_x = plot_x.flatten()\n",
        "  plot_y = np.array(y_values)\n",
        "  plot_y = plot_y.flatten()\n",
        "  plt.hist2d(plot_x, plot_y, bins=128, norm=LogNorm())\n",
        "  plt.show()"
      ],
      "metadata": {
        "colab": {
          "base_uri": "https://localhost:8080/",
          "height": 269
        },
        "id": "oc_SbOCaLKKe",
        "outputId": "8686fb0e-7a2c-411c-9744-75e8cd9ff101"
      },
      "execution_count": 580,
      "outputs": [
        {
          "output_type": "display_data",
          "data": {
            "text/plain": [
              "<Figure size 432x288 with 1 Axes>"
            ],
            "image/png": "[encoded data removed]"
          },
          "metadata": {
            "needs_background": "light"
          }
        }
      ]
    },
    {
      "cell_type": "markdown",
      "source": [
        "## Split the waveforms into Training, Testing and Validation"
      ],
      "metadata": {
        "id": "uxBiOKO90JG_"
      }
    },
    {
      "cell_type": "code",
      "source": [
        "# We'll use 60% of our data for training and 20% for testing. The remaining 20%\n",
        "# will be used for validation. Calculate the indices of each section.\n",
        "TRAIN_SPLIT =  int(0.6 * SAMPLES)\n",
        "TEST_SPLIT = int(0.2 * SAMPLES + TRAIN_SPLIT)\n",
        "print(\"using %d points for training and %d points for testing\"%(TRAIN_SPLIT, TEST_SPLIT))\n",
        "\n",
        "# convert data into numpy arrays\n",
        "y_values = np.array(y_values) # parameters\n",
        "x_values = np.array(x_values) # waveforms\n",
        "\n",
        "# Use np.split to chop our data into three parts.\n",
        "# The second argument to np.split is an array of indices where the data will be\n",
        "# split. We provide two indices, so the data will be divided into three chunks.\n",
        "x_train, x_test, x_validate = np.split(x_values, [TRAIN_SPLIT, TEST_SPLIT])\n",
        "y_train, y_test, y_validate = np.split(y_values, [TRAIN_SPLIT, TEST_SPLIT])\n",
        "\n",
        "# Double check that our splits add up correctly\n",
        "assert (len(x_train) + len(x_validate) + len(x_test) ) ==  SAMPLES"
      ],
      "metadata": {
        "id": "_gxWfkRezVf3",
        "colab": {
          "base_uri": "https://localhost:8080/"
        },
        "outputId": "2d700a3e-28fd-4775-802f-47572acdf2e8"
      },
      "execution_count": 581,
      "outputs": [
        {
          "output_type": "stream",
          "name": "stdout",
          "text": [
            "using 60000 points for training and 80000 points for testing\n"
          ]
        }
      ]
    },
    {
      "cell_type": "markdown",
      "source": [
        "## Create the ANN"
      ],
      "metadata": {
        "id": "tfIC4_-l0Cc4"
      }
    },
    {
      "cell_type": "code",
      "source": [
        "inputs = keras.Input(shape=(128,), name=\"waveform_input\")\n",
        "\n",
        "layer_cnt=0\n",
        "x = keras.layers.Dense(32, \n",
        "                       kernel_regularizer=keras.regularizers.l1(0.00001),                       \n",
        "                       name=\"layer_%d\"%(layer_cnt))(inputs)\n",
        "layer_cnt+=1\n",
        "\n",
        "x = keras.layers.Dropout(0.005)(x)\n",
        "\n",
        "x = keras.layers.Dense(32, \n",
        "                       kernel_regularizer=keras.regularizers.l1(0.00001),\n",
        "                       name=\"layer_%d\"%(layer_cnt))(x)\n",
        "layer_cnt+=1\n",
        "\n",
        "x = keras.layers.Dropout(0.005)(x)\n",
        "\n",
        "x = keras.layers.Dense(32, \n",
        "                       kernel_regularizer=keras.regularizers.l1(0.00001), \n",
        "                       name=\"layer_%d\"%(layer_cnt) )(x)\n",
        "layer_cnt+=1\n",
        "\n",
        "x = keras.layers.Dense(32, \n",
        "                       kernel_regularizer=keras.regularizers.l1(0.00001), \n",
        "                       name=\"layer_%d\"%(layer_cnt) )(x)\n",
        "layer_cnt+=1\n",
        "\n",
        "x = keras.layers.Dense(32, \n",
        "                       kernel_regularizer=keras.regularizers.l1(0.00001), \n",
        "                       name=\"layer_%d\"%(layer_cnt) )(x)\n",
        "layer_cnt+=1\n",
        "\n",
        "x = keras.layers.Dense(32,\n",
        "                       kernel_regularizer=keras.regularizers.l1(0.00001), \n",
        "                       name=\"layer_%d\"%(layer_cnt))(x)\n",
        "layer_cnt+=1\n",
        "\n",
        "x = keras.layers.Dense(16, \n",
        "                       activation='elu',                       \n",
        "                       kernel_regularizer=keras.regularizers.l1(0.00001), \n",
        "                       name=\"layer_%d\"%(layer_cnt))(x)\n",
        "layer_cnt+=1\n",
        "\n",
        "x = keras.layers.Dense(16, \n",
        "                       activation='elu',                       \n",
        "                       kernel_regularizer=keras.regularizers.l1(0.00001), \n",
        "                       name=\"layer_%d\"%(layer_cnt))(x)\n",
        "layer_cnt+=1\n",
        "\n",
        "# final layer for classification\n",
        "outputs = keras.layers.Dense(3, \n",
        "                             activation='elu', \n",
        "                             name=\"classification\")(x)\n",
        "\n",
        "model_1 = keras.Model(inputs=inputs, outputs=outputs, name=\"network_v0.3\")\n",
        "model_1.summary()\n",
        "\n",
        "# Compile the model using the standard 'adam' optimizer and the mean squared error or 'mse' loss function for regression.\n",
        "model_1.compile(optimizer='adam', loss='mse', metrics=['accuracy'])"
      ],
      "metadata": {
        "id": "FbTg1F3s0BTe",
        "colab": {
          "base_uri": "https://localhost:8080/"
        },
        "outputId": "afedf88a-91a5-4078-a60e-d382e511e4c9"
      },
      "execution_count": 582,
      "outputs": [
        {
          "output_type": "stream",
          "name": "stdout",
          "text": [
            "Model: \"network\"\n",
            "_________________________________________________________________\n",
            " Layer (type)                Output Shape              Param #   \n",
            "=================================================================\n",
            " waveform_input (InputLayer)  [(None, 128)]            0         \n",
            "                                                                 \n",
            " layer_0 (Dense)             (None, 32)                4128      \n",
            "                                                                 \n",
            " dropout_9 (Dropout)         (None, 32)                0         \n",
            "                                                                 \n",
            " layer_1 (Dense)             (None, 32)                1056      \n",
            "                                                                 \n",
            " dropout_10 (Dropout)        (None, 32)                0         \n",
            "                                                                 \n",
            " layer_2 (Dense)             (None, 32)                1056      \n",
            "                                                                 \n",
            " layer_3 (Dense)             (None, 32)                1056      \n",
            "                                                                 \n",
            " layer_4 (Dense)             (None, 32)                1056      \n",
            "                                                                 \n",
            " layer_5 (Dense)             (None, 32)                1056      \n",
            "                                                                 \n",
            " layer_6 (Dense)             (None, 16)                528       \n",
            "                                                                 \n",
            " layer_7 (Dense)             (None, 16)                272       \n",
            "                                                                 \n",
            " classification (Dense)      (None, 3)                 51        \n",
            "                                                                 \n",
            "=================================================================\n",
            "Total params: 10,259\n",
            "Trainable params: 10,259\n",
            "Non-trainable params: 0\n",
            "_________________________________________________________________\n"
          ]
        }
      ]
    },
    {
      "cell_type": "markdown",
      "source": [
        "## Train the model"
      ],
      "metadata": {
        "id": "hjz2ghXbL9Ok"
      }
    },
    {
      "cell_type": "code",
      "source": [
        "# Train the model on our training data while validating on our validation set\n",
        "# remember:\n",
        "#     y = waveforms\n",
        "#     x = truth parameters\n",
        "# just do some trainings to see, whether this structure works or not\n",
        "\n",
        "#history_1 = model_1.fit(y_train, x_train, epochs=4, batch_size=25, validation_data=(y_validate, x_validate))"
      ],
      "metadata": {
        "id": "Zsx72tmvxNnj"
      },
      "execution_count": 583,
      "outputs": []
    },
    {
      "cell_type": "code",
      "source": [
        "# fully train the network\n",
        "history_1 = model_1.fit(y_train, x_train, epochs=400, batch_size=333, validation_data=(y_validate, x_validate))\n",
        "\n",
        "# Save the model to disk\n",
        "#!mkdir -p saved_model\n",
        "#model_1.save('saved_model/STM32_AI_Test')"
      ],
      "metadata": {
        "colab": {
          "base_uri": "https://localhost:8080/"
        },
        "id": "xMQfeuZ_L7QU",
        "outputId": "ccbe4f20-f060-409a-dcc3-ff4e19491790"
      },
      "execution_count": 584,
      "outputs": [
        {
          "output_type": "stream",
          "name": "stdout",
          "text": [
            "Epoch 1/400\n",
            "181/181 [==============================] - 2s 8ms/step - loss: 0.0348 - accuracy: 0.7573 - val_loss: 0.0153 - val_accuracy: 0.9205\n",
            "Epoch 2/400\n",
            "181/181 [==============================] - 1s 5ms/step - loss: 0.0150 - accuracy: 0.9237 - val_loss: 0.0139 - val_accuracy: 0.9452\n",
            "Epoch 3/400\n",
            "181/181 [==============================] - 1s 5ms/step - loss: 0.0139 - accuracy: 0.9399 - val_loss: 0.0132 - val_accuracy: 0.9571\n",
            "Epoch 4/400\n",
            "181/181 [==============================] - 1s 5ms/step - loss: 0.0132 - accuracy: 0.9495 - val_loss: 0.0127 - val_accuracy: 0.9646\n",
            "Epoch 5/400\n",
            "181/181 [==============================] - 1s 5ms/step - loss: 0.0126 - accuracy: 0.9532 - val_loss: 0.0122 - val_accuracy: 0.9668\n",
            "Epoch 6/400\n",
            "181/181 [==============================] - 1s 5ms/step - loss: 0.0122 - accuracy: 0.9582 - val_loss: 0.0117 - val_accuracy: 0.9706\n",
            "Epoch 7/400\n",
            "181/181 [==============================] - 1s 5ms/step - loss: 0.0118 - accuracy: 0.9613 - val_loss: 0.0115 - val_accuracy: 0.9606\n",
            "Epoch 8/400\n",
            "181/181 [==============================] - 1s 5ms/step - loss: 0.0114 - accuracy: 0.9625 - val_loss: 0.0111 - val_accuracy: 0.9743\n",
            "Epoch 9/400\n",
            "181/181 [==============================] - 1s 5ms/step - loss: 0.0111 - accuracy: 0.9641 - val_loss: 0.0108 - val_accuracy: 0.9717\n",
            "Epoch 10/400\n",
            "181/181 [==============================] - 1s 5ms/step - loss: 0.0108 - accuracy: 0.9651 - val_loss: 0.0105 - val_accuracy: 0.9758\n",
            "Epoch 11/400\n",
            "181/181 [==============================] - 1s 5ms/step - loss: 0.0105 - accuracy: 0.9655 - val_loss: 0.0102 - val_accuracy: 0.9797\n",
            "Epoch 12/400\n",
            "181/181 [==============================] - 1s 5ms/step - loss: 0.0103 - accuracy: 0.9678 - val_loss: 0.0100 - val_accuracy: 0.9773\n",
            "Epoch 13/400\n",
            "181/181 [==============================] - 1s 5ms/step - loss: 0.0100 - accuracy: 0.9681 - val_loss: 0.0097 - val_accuracy: 0.9726\n",
            "Epoch 14/400\n",
            "181/181 [==============================] - 1s 4ms/step - loss: 0.0097 - accuracy: 0.9693 - val_loss: 0.0094 - val_accuracy: 0.9744\n",
            "Epoch 15/400\n",
            "181/181 [==============================] - 1s 5ms/step - loss: 0.0094 - accuracy: 0.9698 - val_loss: 0.0091 - val_accuracy: 0.9814\n",
            "Epoch 16/400\n",
            "181/181 [==============================] - 1s 5ms/step - loss: 0.0091 - accuracy: 0.9699 - val_loss: 0.0089 - val_accuracy: 0.9661\n",
            "Epoch 17/400\n",
            "181/181 [==============================] - 1s 5ms/step - loss: 0.0088 - accuracy: 0.9713 - val_loss: 0.0085 - val_accuracy: 0.9794\n",
            "Epoch 18/400\n",
            "181/181 [==============================] - 1s 5ms/step - loss: 0.0085 - accuracy: 0.9718 - val_loss: 0.0082 - val_accuracy: 0.9840\n",
            "Epoch 19/400\n",
            "181/181 [==============================] - 1s 5ms/step - loss: 0.0082 - accuracy: 0.9726 - val_loss: 0.0079 - val_accuracy: 0.9829\n",
            "Epoch 20/400\n",
            "181/181 [==============================] - 1s 5ms/step - loss: 0.0079 - accuracy: 0.9725 - val_loss: 0.0076 - val_accuracy: 0.9793\n",
            "Epoch 21/400\n",
            "181/181 [==============================] - 1s 5ms/step - loss: 0.0076 - accuracy: 0.9735 - val_loss: 0.0073 - val_accuracy: 0.9751\n",
            "Epoch 22/400\n",
            "181/181 [==============================] - 1s 5ms/step - loss: 0.0073 - accuracy: 0.9736 - val_loss: 0.0070 - val_accuracy: 0.9818\n",
            "Epoch 23/400\n",
            "181/181 [==============================] - 1s 5ms/step - loss: 0.0069 - accuracy: 0.9752 - val_loss: 0.0067 - val_accuracy: 0.9827\n",
            "Epoch 24/400\n",
            "181/181 [==============================] - 1s 5ms/step - loss: 0.0066 - accuracy: 0.9752 - val_loss: 0.0065 - val_accuracy: 0.9712\n",
            "Epoch 25/400\n",
            "181/181 [==============================] - 2s 8ms/step - loss: 0.0064 - accuracy: 0.9743 - val_loss: 0.0062 - val_accuracy: 0.9793\n",
            "Epoch 26/400\n",
            "181/181 [==============================] - 1s 5ms/step - loss: 0.0061 - accuracy: 0.9754 - val_loss: 0.0058 - val_accuracy: 0.9841\n",
            "Epoch 27/400\n",
            "181/181 [==============================] - 1s 5ms/step - loss: 0.0058 - accuracy: 0.9744 - val_loss: 0.0056 - val_accuracy: 0.9787\n",
            "Epoch 28/400\n",
            "181/181 [==============================] - 1s 5ms/step - loss: 0.0055 - accuracy: 0.9754 - val_loss: 0.0053 - val_accuracy: 0.9836\n",
            "Epoch 29/400\n",
            "181/181 [==============================] - 1s 5ms/step - loss: 0.0052 - accuracy: 0.9766 - val_loss: 0.0050 - val_accuracy: 0.9817\n",
            "Epoch 30/400\n",
            "181/181 [==============================] - 1s 5ms/step - loss: 0.0050 - accuracy: 0.9763 - val_loss: 0.0048 - val_accuracy: 0.9779\n",
            "Epoch 31/400\n",
            "181/181 [==============================] - 1s 5ms/step - loss: 0.0047 - accuracy: 0.9765 - val_loss: 0.0045 - val_accuracy: 0.9870\n",
            "Epoch 32/400\n",
            "181/181 [==============================] - 1s 5ms/step - loss: 0.0045 - accuracy: 0.9771 - val_loss: 0.0043 - val_accuracy: 0.9793\n",
            "Epoch 33/400\n",
            "181/181 [==============================] - 1s 7ms/step - loss: 0.0043 - accuracy: 0.9757 - val_loss: 0.0041 - val_accuracy: 0.9797\n",
            "Epoch 34/400\n",
            "181/181 [==============================] - 1s 6ms/step - loss: 0.0041 - accuracy: 0.9755 - val_loss: 0.0039 - val_accuracy: 0.9824\n",
            "Epoch 35/400\n",
            "181/181 [==============================] - 3s 15ms/step - loss: 0.0038 - accuracy: 0.9764 - val_loss: 0.0037 - val_accuracy: 0.9830\n",
            "Epoch 36/400\n",
            "181/181 [==============================] - 1s 6ms/step - loss: 0.0036 - accuracy: 0.9763 - val_loss: 0.0034 - val_accuracy: 0.9872\n",
            "Epoch 37/400\n",
            "181/181 [==============================] - 1s 8ms/step - loss: 0.0034 - accuracy: 0.9768 - val_loss: 0.0034 - val_accuracy: 0.9784\n",
            "Epoch 38/400\n",
            "181/181 [==============================] - 1s 8ms/step - loss: 0.0033 - accuracy: 0.9770 - val_loss: 0.0031 - val_accuracy: 0.9771\n",
            "Epoch 39/400\n",
            "181/181 [==============================] - 1s 6ms/step - loss: 0.0031 - accuracy: 0.9769 - val_loss: 0.0030 - val_accuracy: 0.9771\n",
            "Epoch 40/400\n",
            "181/181 [==============================] - 1s 5ms/step - loss: 0.0029 - accuracy: 0.9777 - val_loss: 0.0028 - val_accuracy: 0.9854\n",
            "Epoch 41/400\n",
            "181/181 [==============================] - 1s 5ms/step - loss: 0.0028 - accuracy: 0.9773 - val_loss: 0.0026 - val_accuracy: 0.9854\n",
            "Epoch 42/400\n",
            "181/181 [==============================] - 1s 7ms/step - loss: 0.0027 - accuracy: 0.9771 - val_loss: 0.0025 - val_accuracy: 0.9876\n",
            "Epoch 43/400\n",
            "181/181 [==============================] - 1s 8ms/step - loss: 0.0026 - accuracy: 0.9786 - val_loss: 0.0024 - val_accuracy: 0.9791\n",
            "Epoch 44/400\n",
            "181/181 [==============================] - 2s 10ms/step - loss: 0.0024 - accuracy: 0.9780 - val_loss: 0.0023 - val_accuracy: 0.9796\n",
            "Epoch 45/400\n",
            "181/181 [==============================] - 2s 10ms/step - loss: 0.0024 - accuracy: 0.9776 - val_loss: 0.0022 - val_accuracy: 0.9855\n",
            "Epoch 46/400\n",
            "181/181 [==============================] - 2s 10ms/step - loss: 0.0023 - accuracy: 0.9785 - val_loss: 0.0021 - val_accuracy: 0.9827\n",
            "Epoch 47/400\n",
            "181/181 [==============================] - 2s 11ms/step - loss: 0.0022 - accuracy: 0.9790 - val_loss: 0.0020 - val_accuracy: 0.9819\n",
            "Epoch 48/400\n",
            "181/181 [==============================] - 1s 5ms/step - loss: 0.0021 - accuracy: 0.9793 - val_loss: 0.0020 - val_accuracy: 0.9855\n",
            "Epoch 49/400\n",
            "181/181 [==============================] - 1s 5ms/step - loss: 0.0020 - accuracy: 0.9793 - val_loss: 0.0019 - val_accuracy: 0.9766\n",
            "Epoch 50/400\n",
            "181/181 [==============================] - 1s 5ms/step - loss: 0.0020 - accuracy: 0.9769 - val_loss: 0.0018 - val_accuracy: 0.9790\n",
            "Epoch 51/400\n",
            "181/181 [==============================] - 1s 5ms/step - loss: 0.0019 - accuracy: 0.9774 - val_loss: 0.0019 - val_accuracy: 0.9721\n",
            "Epoch 52/400\n",
            "181/181 [==============================] - 1s 5ms/step - loss: 0.0019 - accuracy: 0.9770 - val_loss: 0.0017 - val_accuracy: 0.9840\n",
            "Epoch 53/400\n",
            "181/181 [==============================] - 1s 5ms/step - loss: 0.0018 - accuracy: 0.9781 - val_loss: 0.0017 - val_accuracy: 0.9856\n",
            "Epoch 54/400\n",
            "181/181 [==============================] - 1s 5ms/step - loss: 0.0018 - accuracy: 0.9799 - val_loss: 0.0016 - val_accuracy: 0.9841\n",
            "Epoch 55/400\n",
            "181/181 [==============================] - 1s 5ms/step - loss: 0.0017 - accuracy: 0.9796 - val_loss: 0.0016 - val_accuracy: 0.9796\n",
            "Epoch 56/400\n",
            "181/181 [==============================] - 1s 5ms/step - loss: 0.0017 - accuracy: 0.9793 - val_loss: 0.0016 - val_accuracy: 0.9768\n",
            "Epoch 57/400\n",
            "181/181 [==============================] - 1s 5ms/step - loss: 0.0017 - accuracy: 0.9791 - val_loss: 0.0015 - val_accuracy: 0.9859\n",
            "Epoch 58/400\n",
            "181/181 [==============================] - 1s 5ms/step - loss: 0.0016 - accuracy: 0.9797 - val_loss: 0.0015 - val_accuracy: 0.9839\n",
            "Epoch 59/400\n",
            "181/181 [==============================] - 1s 5ms/step - loss: 0.0016 - accuracy: 0.9781 - val_loss: 0.0015 - val_accuracy: 0.9887\n",
            "Epoch 60/400\n",
            "181/181 [==============================] - 1s 5ms/step - loss: 0.0016 - accuracy: 0.9804 - val_loss: 0.0014 - val_accuracy: 0.9890\n",
            "Epoch 61/400\n",
            "181/181 [==============================] - 1s 5ms/step - loss: 0.0015 - accuracy: 0.9789 - val_loss: 0.0014 - val_accuracy: 0.9887\n",
            "Epoch 62/400\n",
            "181/181 [==============================] - 1s 5ms/step - loss: 0.0015 - accuracy: 0.9800 - val_loss: 0.0014 - val_accuracy: 0.9736\n",
            "Epoch 63/400\n",
            "181/181 [==============================] - 1s 5ms/step - loss: 0.0015 - accuracy: 0.9787 - val_loss: 0.0014 - val_accuracy: 0.9776\n",
            "Epoch 64/400\n",
            "181/181 [==============================] - 1s 5ms/step - loss: 0.0015 - accuracy: 0.9786 - val_loss: 0.0014 - val_accuracy: 0.9808\n",
            "Epoch 65/400\n",
            "181/181 [==============================] - 1s 5ms/step - loss: 0.0015 - accuracy: 0.9793 - val_loss: 0.0013 - val_accuracy: 0.9855\n",
            "Epoch 66/400\n",
            "181/181 [==============================] - 1s 5ms/step - loss: 0.0014 - accuracy: 0.9791 - val_loss: 0.0013 - val_accuracy: 0.9866\n",
            "Epoch 67/400\n",
            "181/181 [==============================] - 1s 5ms/step - loss: 0.0014 - accuracy: 0.9803 - val_loss: 0.0013 - val_accuracy: 0.9883\n",
            "Epoch 68/400\n",
            "181/181 [==============================] - 1s 6ms/step - loss: 0.0014 - accuracy: 0.9787 - val_loss: 0.0013 - val_accuracy: 0.9844\n",
            "Epoch 69/400\n",
            "181/181 [==============================] - 1s 5ms/step - loss: 0.0014 - accuracy: 0.9808 - val_loss: 0.0013 - val_accuracy: 0.9718\n",
            "Epoch 70/400\n",
            "181/181 [==============================] - 1s 5ms/step - loss: 0.0014 - accuracy: 0.9796 - val_loss: 0.0013 - val_accuracy: 0.9666\n",
            "Epoch 71/400\n",
            "181/181 [==============================] - 1s 5ms/step - loss: 0.0014 - accuracy: 0.9797 - val_loss: 0.0012 - val_accuracy: 0.9883\n",
            "Epoch 72/400\n",
            "181/181 [==============================] - 1s 5ms/step - loss: 0.0013 - accuracy: 0.9787 - val_loss: 0.0012 - val_accuracy: 0.9893\n",
            "Epoch 73/400\n",
            "181/181 [==============================] - 1s 5ms/step - loss: 0.0013 - accuracy: 0.9804 - val_loss: 0.0013 - val_accuracy: 0.9639\n",
            "Epoch 74/400\n",
            "181/181 [==============================] - 1s 5ms/step - loss: 0.0013 - accuracy: 0.9787 - val_loss: 0.0013 - val_accuracy: 0.9631\n",
            "Epoch 75/400\n",
            "181/181 [==============================] - 1s 5ms/step - loss: 0.0013 - accuracy: 0.9792 - val_loss: 0.0012 - val_accuracy: 0.9874\n",
            "Epoch 76/400\n",
            "181/181 [==============================] - 1s 5ms/step - loss: 0.0013 - accuracy: 0.9792 - val_loss: 0.0012 - val_accuracy: 0.9734\n",
            "Epoch 77/400\n",
            "181/181 [==============================] - 1s 5ms/step - loss: 0.0013 - accuracy: 0.9797 - val_loss: 0.0012 - val_accuracy: 0.9896\n",
            "Epoch 78/400\n",
            "181/181 [==============================] - 1s 5ms/step - loss: 0.0013 - accuracy: 0.9784 - val_loss: 0.0012 - val_accuracy: 0.9695\n",
            "Epoch 79/400\n",
            "181/181 [==============================] - 1s 6ms/step - loss: 0.0012 - accuracy: 0.9808 - val_loss: 0.0012 - val_accuracy: 0.9750\n",
            "Epoch 80/400\n",
            "181/181 [==============================] - 1s 5ms/step - loss: 0.0012 - accuracy: 0.9792 - val_loss: 0.0011 - val_accuracy: 0.9889\n",
            "Epoch 81/400\n",
            "181/181 [==============================] - 1s 5ms/step - loss: 0.0012 - accuracy: 0.9809 - val_loss: 0.0011 - val_accuracy: 0.9877\n",
            "Epoch 82/400\n",
            "181/181 [==============================] - 1s 5ms/step - loss: 0.0012 - accuracy: 0.9801 - val_loss: 0.0011 - val_accuracy: 0.9837\n",
            "Epoch 83/400\n",
            "181/181 [==============================] - 1s 5ms/step - loss: 0.0012 - accuracy: 0.9797 - val_loss: 0.0011 - val_accuracy: 0.9787\n",
            "Epoch 84/400\n",
            "181/181 [==============================] - 1s 5ms/step - loss: 0.0012 - accuracy: 0.9778 - val_loss: 0.0011 - val_accuracy: 0.9866\n",
            "Epoch 85/400\n",
            "181/181 [==============================] - 1s 5ms/step - loss: 0.0012 - accuracy: 0.9803 - val_loss: 0.0011 - val_accuracy: 0.9841\n",
            "Epoch 86/400\n",
            "181/181 [==============================] - 1s 5ms/step - loss: 0.0012 - accuracy: 0.9815 - val_loss: 0.0011 - val_accuracy: 0.9879\n",
            "Epoch 87/400\n",
            "181/181 [==============================] - 1s 5ms/step - loss: 0.0012 - accuracy: 0.9815 - val_loss: 0.0011 - val_accuracy: 0.9885\n",
            "Epoch 88/400\n",
            "181/181 [==============================] - 1s 5ms/step - loss: 0.0012 - accuracy: 0.9799 - val_loss: 0.0011 - val_accuracy: 0.9844\n",
            "Epoch 89/400\n",
            "181/181 [==============================] - 1s 5ms/step - loss: 0.0012 - accuracy: 0.9804 - val_loss: 0.0010 - val_accuracy: 0.9856\n",
            "Epoch 90/400\n",
            "181/181 [==============================] - 1s 5ms/step - loss: 0.0012 - accuracy: 0.9791 - val_loss: 0.0011 - val_accuracy: 0.9873\n",
            "Epoch 91/400\n",
            "181/181 [==============================] - 1s 5ms/step - loss: 0.0011 - accuracy: 0.9808 - val_loss: 0.0010 - val_accuracy: 0.9887\n",
            "Epoch 92/400\n",
            "181/181 [==============================] - 1s 5ms/step - loss: 0.0011 - accuracy: 0.9793 - val_loss: 0.0011 - val_accuracy: 0.9721\n",
            "Epoch 93/400\n",
            "181/181 [==============================] - 1s 5ms/step - loss: 0.0011 - accuracy: 0.9801 - val_loss: 0.0010 - val_accuracy: 0.9892\n",
            "Epoch 94/400\n",
            "181/181 [==============================] - 1s 5ms/step - loss: 0.0011 - accuracy: 0.9818 - val_loss: 0.0010 - val_accuracy: 0.9858\n",
            "Epoch 95/400\n",
            "181/181 [==============================] - 1s 5ms/step - loss: 0.0011 - accuracy: 0.9798 - val_loss: 9.9776e-04 - val_accuracy: 0.9890\n",
            "Epoch 96/400\n",
            "181/181 [==============================] - 1s 5ms/step - loss: 0.0011 - accuracy: 0.9804 - val_loss: 0.0010 - val_accuracy: 0.9816\n",
            "Epoch 97/400\n",
            "181/181 [==============================] - 1s 5ms/step - loss: 0.0011 - accuracy: 0.9806 - val_loss: 0.0010 - val_accuracy: 0.9816\n",
            "Epoch 98/400\n",
            "181/181 [==============================] - 1s 5ms/step - loss: 0.0011 - accuracy: 0.9800 - val_loss: 9.8242e-04 - val_accuracy: 0.9888\n",
            "Epoch 99/400\n",
            "181/181 [==============================] - 1s 5ms/step - loss: 0.0011 - accuracy: 0.9805 - val_loss: 9.7378e-04 - val_accuracy: 0.9855\n",
            "Epoch 100/400\n",
            "181/181 [==============================] - 1s 5ms/step - loss: 0.0011 - accuracy: 0.9818 - val_loss: 0.0010 - val_accuracy: 0.9847\n",
            "Epoch 101/400\n",
            "181/181 [==============================] - 1s 5ms/step - loss: 0.0011 - accuracy: 0.9789 - val_loss: 9.5698e-04 - val_accuracy: 0.9858\n",
            "Epoch 102/400\n",
            "181/181 [==============================] - 1s 5ms/step - loss: 0.0011 - accuracy: 0.9815 - val_loss: 9.4491e-04 - val_accuracy: 0.9891\n",
            "Epoch 103/400\n",
            "181/181 [==============================] - 1s 5ms/step - loss: 0.0011 - accuracy: 0.9805 - val_loss: 9.5843e-04 - val_accuracy: 0.9822\n",
            "Epoch 104/400\n",
            "181/181 [==============================] - 1s 5ms/step - loss: 0.0011 - accuracy: 0.9801 - val_loss: 9.3660e-04 - val_accuracy: 0.9880\n",
            "Epoch 105/400\n",
            "181/181 [==============================] - 1s 5ms/step - loss: 0.0011 - accuracy: 0.9796 - val_loss: 9.6761e-04 - val_accuracy: 0.9795\n",
            "Epoch 106/400\n",
            "181/181 [==============================] - 1s 5ms/step - loss: 0.0010 - accuracy: 0.9809 - val_loss: 9.5540e-04 - val_accuracy: 0.9785\n",
            "Epoch 107/400\n",
            "181/181 [==============================] - 1s 5ms/step - loss: 0.0010 - accuracy: 0.9806 - val_loss: 9.2308e-04 - val_accuracy: 0.9892\n",
            "Epoch 108/400\n",
            "181/181 [==============================] - 1s 5ms/step - loss: 0.0010 - accuracy: 0.9801 - val_loss: 9.9279e-04 - val_accuracy: 0.9804\n",
            "Epoch 109/400\n",
            "181/181 [==============================] - 1s 5ms/step - loss: 0.0010 - accuracy: 0.9811 - val_loss: 9.0914e-04 - val_accuracy: 0.9874\n",
            "Epoch 110/400\n",
            "181/181 [==============================] - 1s 5ms/step - loss: 0.0010 - accuracy: 0.9795 - val_loss: 9.4925e-04 - val_accuracy: 0.9775\n",
            "Epoch 111/400\n",
            "181/181 [==============================] - 1s 5ms/step - loss: 0.0010 - accuracy: 0.9808 - val_loss: 9.0566e-04 - val_accuracy: 0.9859\n",
            "Epoch 112/400\n",
            "181/181 [==============================] - 1s 5ms/step - loss: 0.0010 - accuracy: 0.9801 - val_loss: 9.1400e-04 - val_accuracy: 0.9821\n",
            "Epoch 113/400\n",
            "181/181 [==============================] - 1s 5ms/step - loss: 0.0010 - accuracy: 0.9793 - val_loss: 9.3559e-04 - val_accuracy: 0.9789\n",
            "Epoch 114/400\n",
            "181/181 [==============================] - 1s 5ms/step - loss: 0.0010 - accuracy: 0.9794 - val_loss: 8.8941e-04 - val_accuracy: 0.9902\n",
            "Epoch 115/400\n",
            "181/181 [==============================] - 1s 5ms/step - loss: 0.0010 - accuracy: 0.9807 - val_loss: 9.5643e-04 - val_accuracy: 0.9769\n",
            "Epoch 116/400\n",
            "181/181 [==============================] - 1s 5ms/step - loss: 0.0010 - accuracy: 0.9809 - val_loss: 8.8653e-04 - val_accuracy: 0.9914\n",
            "Epoch 117/400\n",
            "181/181 [==============================] - 1s 5ms/step - loss: 0.0010 - accuracy: 0.9799 - val_loss: 8.7733e-04 - val_accuracy: 0.9877\n",
            "Epoch 118/400\n",
            "181/181 [==============================] - 1s 5ms/step - loss: 9.9635e-04 - accuracy: 0.9805 - val_loss: 8.9769e-04 - val_accuracy: 0.9787\n",
            "Epoch 119/400\n",
            "181/181 [==============================] - 1s 5ms/step - loss: 9.9617e-04 - accuracy: 0.9796 - val_loss: 9.3916e-04 - val_accuracy: 0.9700\n",
            "Epoch 120/400\n",
            "181/181 [==============================] - 1s 5ms/step - loss: 9.8230e-04 - accuracy: 0.9815 - val_loss: 8.7151e-04 - val_accuracy: 0.9882\n",
            "Epoch 121/400\n",
            "181/181 [==============================] - 1s 5ms/step - loss: 9.7388e-04 - accuracy: 0.9819 - val_loss: 8.7745e-04 - val_accuracy: 0.9855\n",
            "Epoch 122/400\n",
            "181/181 [==============================] - 1s 5ms/step - loss: 9.7662e-04 - accuracy: 0.9810 - val_loss: 9.1486e-04 - val_accuracy: 0.9711\n",
            "Epoch 123/400\n",
            "181/181 [==============================] - 1s 5ms/step - loss: 9.7749e-04 - accuracy: 0.9797 - val_loss: 8.6790e-04 - val_accuracy: 0.9834\n",
            "Epoch 124/400\n",
            "181/181 [==============================] - 1s 5ms/step - loss: 9.8025e-04 - accuracy: 0.9801 - val_loss: 8.7353e-04 - val_accuracy: 0.9890\n",
            "Epoch 125/400\n",
            "181/181 [==============================] - 1s 5ms/step - loss: 9.6822e-04 - accuracy: 0.9811 - val_loss: 8.6116e-04 - val_accuracy: 0.9809\n",
            "Epoch 126/400\n",
            "181/181 [==============================] - 1s 5ms/step - loss: 9.6669e-04 - accuracy: 0.9804 - val_loss: 8.7226e-04 - val_accuracy: 0.9908\n",
            "Epoch 127/400\n",
            "181/181 [==============================] - 1s 5ms/step - loss: 9.6230e-04 - accuracy: 0.9803 - val_loss: 8.5615e-04 - val_accuracy: 0.9849\n",
            "Epoch 128/400\n",
            "181/181 [==============================] - 1s 5ms/step - loss: 9.5915e-04 - accuracy: 0.9787 - val_loss: 9.0719e-04 - val_accuracy: 0.9696\n",
            "Epoch 129/400\n",
            "181/181 [==============================] - 1s 5ms/step - loss: 9.5122e-04 - accuracy: 0.9803 - val_loss: 8.5340e-04 - val_accuracy: 0.9825\n",
            "Epoch 130/400\n",
            "181/181 [==============================] - 1s 5ms/step - loss: 9.4981e-04 - accuracy: 0.9808 - val_loss: 8.5979e-04 - val_accuracy: 0.9780\n",
            "Epoch 131/400\n",
            "181/181 [==============================] - 1s 5ms/step - loss: 9.3811e-04 - accuracy: 0.9818 - val_loss: 8.4820e-04 - val_accuracy: 0.9835\n",
            "Epoch 132/400\n",
            "181/181 [==============================] - 1s 5ms/step - loss: 9.3435e-04 - accuracy: 0.9816 - val_loss: 8.8633e-04 - val_accuracy: 0.9738\n",
            "Epoch 133/400\n",
            "181/181 [==============================] - 1s 5ms/step - loss: 9.4888e-04 - accuracy: 0.9798 - val_loss: 8.6696e-04 - val_accuracy: 0.9734\n",
            "Epoch 134/400\n",
            "181/181 [==============================] - 1s 5ms/step - loss: 9.3974e-04 - accuracy: 0.9802 - val_loss: 8.1873e-04 - val_accuracy: 0.9862\n",
            "Epoch 135/400\n",
            "181/181 [==============================] - 1s 5ms/step - loss: 9.3644e-04 - accuracy: 0.9811 - val_loss: 8.3707e-04 - val_accuracy: 0.9836\n",
            "Epoch 136/400\n",
            "181/181 [==============================] - 1s 5ms/step - loss: 9.2657e-04 - accuracy: 0.9821 - val_loss: 8.1261e-04 - val_accuracy: 0.9892\n",
            "Epoch 137/400\n",
            "181/181 [==============================] - 1s 5ms/step - loss: 9.3402e-04 - accuracy: 0.9802 - val_loss: 8.3673e-04 - val_accuracy: 0.9792\n",
            "Epoch 138/400\n",
            "181/181 [==============================] - 1s 5ms/step - loss: 9.3284e-04 - accuracy: 0.9790 - val_loss: 8.2325e-04 - val_accuracy: 0.9861\n",
            "Epoch 139/400\n",
            "181/181 [==============================] - 1s 5ms/step - loss: 9.2127e-04 - accuracy: 0.9813 - val_loss: 8.4937e-04 - val_accuracy: 0.9725\n",
            "Epoch 140/400\n",
            "181/181 [==============================] - 1s 5ms/step - loss: 9.2439e-04 - accuracy: 0.9801 - val_loss: 8.1446e-04 - val_accuracy: 0.9869\n",
            "Epoch 141/400\n",
            "181/181 [==============================] - 1s 5ms/step - loss: 9.2082e-04 - accuracy: 0.9807 - val_loss: 8.1090e-04 - val_accuracy: 0.9877\n",
            "Epoch 142/400\n",
            "181/181 [==============================] - 1s 5ms/step - loss: 9.1108e-04 - accuracy: 0.9820 - val_loss: 8.0744e-04 - val_accuracy: 0.9897\n",
            "Epoch 143/400\n",
            "181/181 [==============================] - 1s 6ms/step - loss: 9.1664e-04 - accuracy: 0.9811 - val_loss: 8.1171e-04 - val_accuracy: 0.9851\n",
            "Epoch 144/400\n",
            "181/181 [==============================] - 1s 6ms/step - loss: 9.0679e-04 - accuracy: 0.9806 - val_loss: 7.8508e-04 - val_accuracy: 0.9895\n",
            "Epoch 145/400\n",
            "181/181 [==============================] - 1s 5ms/step - loss: 9.0845e-04 - accuracy: 0.9801 - val_loss: 8.4250e-04 - val_accuracy: 0.9722\n",
            "Epoch 146/400\n",
            "181/181 [==============================] - 1s 5ms/step - loss: 9.0233e-04 - accuracy: 0.9820 - val_loss: 7.9544e-04 - val_accuracy: 0.9832\n",
            "Epoch 147/400\n",
            "181/181 [==============================] - 1s 5ms/step - loss: 9.0678e-04 - accuracy: 0.9808 - val_loss: 7.8258e-04 - val_accuracy: 0.9867\n",
            "Epoch 148/400\n",
            "181/181 [==============================] - 1s 5ms/step - loss: 8.9916e-04 - accuracy: 0.9803 - val_loss: 7.9643e-04 - val_accuracy: 0.9852\n",
            "Epoch 149/400\n",
            "181/181 [==============================] - 1s 5ms/step - loss: 8.9742e-04 - accuracy: 0.9803 - val_loss: 7.9168e-04 - val_accuracy: 0.9880\n",
            "Epoch 150/400\n",
            "181/181 [==============================] - 1s 5ms/step - loss: 8.9785e-04 - accuracy: 0.9795 - val_loss: 7.9616e-04 - val_accuracy: 0.9845\n",
            "Epoch 151/400\n",
            "181/181 [==============================] - 1s 5ms/step - loss: 8.9335e-04 - accuracy: 0.9810 - val_loss: 7.7243e-04 - val_accuracy: 0.9873\n",
            "Epoch 152/400\n",
            "181/181 [==============================] - 1s 5ms/step - loss: 8.8747e-04 - accuracy: 0.9814 - val_loss: 7.7898e-04 - val_accuracy: 0.9833\n",
            "Epoch 153/400\n",
            "181/181 [==============================] - 1s 5ms/step - loss: 8.8353e-04 - accuracy: 0.9803 - val_loss: 8.9063e-04 - val_accuracy: 0.9649\n",
            "Epoch 154/400\n",
            "181/181 [==============================] - 1s 5ms/step - loss: 8.8382e-04 - accuracy: 0.9800 - val_loss: 7.6745e-04 - val_accuracy: 0.9867\n",
            "Epoch 155/400\n",
            "181/181 [==============================] - 1s 5ms/step - loss: 8.7807e-04 - accuracy: 0.9812 - val_loss: 7.7330e-04 - val_accuracy: 0.9822\n",
            "Epoch 156/400\n",
            "181/181 [==============================] - 1s 5ms/step - loss: 8.8601e-04 - accuracy: 0.9796 - val_loss: 8.1233e-04 - val_accuracy: 0.9745\n",
            "Epoch 157/400\n",
            "181/181 [==============================] - 1s 5ms/step - loss: 8.7834e-04 - accuracy: 0.9805 - val_loss: 7.6549e-04 - val_accuracy: 0.9851\n",
            "Epoch 158/400\n",
            "181/181 [==============================] - 1s 5ms/step - loss: 8.7691e-04 - accuracy: 0.9799 - val_loss: 7.7392e-04 - val_accuracy: 0.9841\n",
            "Epoch 159/400\n",
            "181/181 [==============================] - 1s 5ms/step - loss: 8.7253e-04 - accuracy: 0.9814 - val_loss: 7.8667e-04 - val_accuracy: 0.9841\n",
            "Epoch 160/400\n",
            "181/181 [==============================] - 1s 5ms/step - loss: 8.6712e-04 - accuracy: 0.9817 - val_loss: 7.7246e-04 - val_accuracy: 0.9839\n",
            "Epoch 161/400\n",
            "181/181 [==============================] - 1s 5ms/step - loss: 8.7056e-04 - accuracy: 0.9821 - val_loss: 7.6161e-04 - val_accuracy: 0.9875\n",
            "Epoch 162/400\n",
            "181/181 [==============================] - 1s 5ms/step - loss: 8.7121e-04 - accuracy: 0.9816 - val_loss: 7.5134e-04 - val_accuracy: 0.9844\n",
            "Epoch 163/400\n",
            "181/181 [==============================] - 1s 5ms/step - loss: 8.6591e-04 - accuracy: 0.9810 - val_loss: 7.5700e-04 - val_accuracy: 0.9895\n",
            "Epoch 164/400\n",
            "181/181 [==============================] - 1s 5ms/step - loss: 8.6363e-04 - accuracy: 0.9805 - val_loss: 7.4866e-04 - val_accuracy: 0.9863\n",
            "Epoch 165/400\n",
            "181/181 [==============================] - 1s 5ms/step - loss: 8.6203e-04 - accuracy: 0.9811 - val_loss: 7.8777e-04 - val_accuracy: 0.9815\n",
            "Epoch 166/400\n",
            "181/181 [==============================] - 1s 5ms/step - loss: 8.5355e-04 - accuracy: 0.9808 - val_loss: 7.3513e-04 - val_accuracy: 0.9895\n",
            "Epoch 167/400\n",
            "181/181 [==============================] - 1s 5ms/step - loss: 8.6262e-04 - accuracy: 0.9808 - val_loss: 7.4387e-04 - val_accuracy: 0.9879\n",
            "Epoch 168/400\n",
            "181/181 [==============================] - 1s 5ms/step - loss: 8.5000e-04 - accuracy: 0.9814 - val_loss: 7.3652e-04 - val_accuracy: 0.9860\n",
            "Epoch 169/400\n",
            "181/181 [==============================] - 1s 5ms/step - loss: 8.5601e-04 - accuracy: 0.9807 - val_loss: 7.3738e-04 - val_accuracy: 0.9855\n",
            "Epoch 170/400\n",
            "181/181 [==============================] - 1s 5ms/step - loss: 8.5802e-04 - accuracy: 0.9790 - val_loss: 7.3653e-04 - val_accuracy: 0.9909\n",
            "Epoch 171/400\n",
            "181/181 [==============================] - 1s 5ms/step - loss: 8.4747e-04 - accuracy: 0.9810 - val_loss: 7.6158e-04 - val_accuracy: 0.9818\n",
            "Epoch 172/400\n",
            "181/181 [==============================] - 1s 5ms/step - loss: 8.5120e-04 - accuracy: 0.9806 - val_loss: 7.4531e-04 - val_accuracy: 0.9845\n",
            "Epoch 173/400\n",
            "181/181 [==============================] - 1s 5ms/step - loss: 8.4815e-04 - accuracy: 0.9810 - val_loss: 7.2981e-04 - val_accuracy: 0.9890\n",
            "Epoch 174/400\n",
            "181/181 [==============================] - 1s 5ms/step - loss: 8.4054e-04 - accuracy: 0.9809 - val_loss: 7.2750e-04 - val_accuracy: 0.9869\n",
            "Epoch 175/400\n",
            "181/181 [==============================] - 1s 5ms/step - loss: 8.4568e-04 - accuracy: 0.9811 - val_loss: 7.7832e-04 - val_accuracy: 0.9776\n",
            "Epoch 176/400\n",
            "181/181 [==============================] - 1s 5ms/step - loss: 8.4566e-04 - accuracy: 0.9804 - val_loss: 7.2584e-04 - val_accuracy: 0.9843\n",
            "Epoch 177/400\n",
            "181/181 [==============================] - 1s 5ms/step - loss: 8.4197e-04 - accuracy: 0.9804 - val_loss: 7.2447e-04 - val_accuracy: 0.9887\n",
            "Epoch 178/400\n",
            "181/181 [==============================] - 1s 5ms/step - loss: 8.5082e-04 - accuracy: 0.9794 - val_loss: 7.1450e-04 - val_accuracy: 0.9895\n",
            "Epoch 179/400\n",
            "181/181 [==============================] - 1s 5ms/step - loss: 8.4138e-04 - accuracy: 0.9807 - val_loss: 7.6213e-04 - val_accuracy: 0.9728\n",
            "Epoch 180/400\n",
            "181/181 [==============================] - 1s 5ms/step - loss: 8.3509e-04 - accuracy: 0.9800 - val_loss: 7.3091e-04 - val_accuracy: 0.9866\n",
            "Epoch 181/400\n",
            "181/181 [==============================] - 1s 5ms/step - loss: 8.3327e-04 - accuracy: 0.9814 - val_loss: 7.1614e-04 - val_accuracy: 0.9882\n",
            "Epoch 182/400\n",
            "181/181 [==============================] - 1s 5ms/step - loss: 8.3007e-04 - accuracy: 0.9811 - val_loss: 7.2053e-04 - val_accuracy: 0.9829\n",
            "Epoch 183/400\n",
            "181/181 [==============================] - 1s 5ms/step - loss: 8.3549e-04 - accuracy: 0.9811 - val_loss: 7.5325e-04 - val_accuracy: 0.9848\n",
            "Epoch 184/400\n",
            "181/181 [==============================] - 1s 5ms/step - loss: 8.3426e-04 - accuracy: 0.9800 - val_loss: 7.1064e-04 - val_accuracy: 0.9878\n",
            "Epoch 185/400\n",
            "181/181 [==============================] - 1s 5ms/step - loss: 8.3759e-04 - accuracy: 0.9809 - val_loss: 7.3965e-04 - val_accuracy: 0.9754\n",
            "Epoch 186/400\n",
            "181/181 [==============================] - 1s 5ms/step - loss: 8.2222e-04 - accuracy: 0.9813 - val_loss: 7.2420e-04 - val_accuracy: 0.9894\n",
            "Epoch 187/400\n",
            "181/181 [==============================] - 1s 5ms/step - loss: 8.2576e-04 - accuracy: 0.9811 - val_loss: 7.7025e-04 - val_accuracy: 0.9726\n",
            "Epoch 188/400\n",
            "181/181 [==============================] - 1s 5ms/step - loss: 8.2024e-04 - accuracy: 0.9813 - val_loss: 7.0001e-04 - val_accuracy: 0.9896\n",
            "Epoch 189/400\n",
            "181/181 [==============================] - 1s 5ms/step - loss: 8.2820e-04 - accuracy: 0.9810 - val_loss: 7.4916e-04 - val_accuracy: 0.9822\n",
            "Epoch 190/400\n",
            "181/181 [==============================] - 1s 5ms/step - loss: 8.2438e-04 - accuracy: 0.9801 - val_loss: 7.3836e-04 - val_accuracy: 0.9769\n",
            "Epoch 191/400\n",
            "181/181 [==============================] - 1s 5ms/step - loss: 8.1370e-04 - accuracy: 0.9819 - val_loss: 6.9650e-04 - val_accuracy: 0.9908\n",
            "Epoch 192/400\n",
            "181/181 [==============================] - 1s 5ms/step - loss: 8.2171e-04 - accuracy: 0.9814 - val_loss: 7.2218e-04 - val_accuracy: 0.9915\n",
            "Epoch 193/400\n",
            "181/181 [==============================] - 1s 5ms/step - loss: 8.1970e-04 - accuracy: 0.9804 - val_loss: 7.3445e-04 - val_accuracy: 0.9818\n",
            "Epoch 194/400\n",
            "181/181 [==============================] - 1s 5ms/step - loss: 8.1505e-04 - accuracy: 0.9805 - val_loss: 7.5853e-04 - val_accuracy: 0.9736\n",
            "Epoch 195/400\n",
            "181/181 [==============================] - 1s 5ms/step - loss: 8.1984e-04 - accuracy: 0.9800 - val_loss: 6.9879e-04 - val_accuracy: 0.9876\n",
            "Epoch 196/400\n",
            "181/181 [==============================] - 1s 5ms/step - loss: 8.1518e-04 - accuracy: 0.9802 - val_loss: 7.0644e-04 - val_accuracy: 0.9847\n",
            "Epoch 197/400\n",
            "181/181 [==============================] - 1s 5ms/step - loss: 8.1605e-04 - accuracy: 0.9811 - val_loss: 6.9233e-04 - val_accuracy: 0.9887\n",
            "Epoch 198/400\n",
            "181/181 [==============================] - 1s 5ms/step - loss: 8.1421e-04 - accuracy: 0.9808 - val_loss: 7.0262e-04 - val_accuracy: 0.9855\n",
            "Epoch 199/400\n",
            "181/181 [==============================] - 1s 5ms/step - loss: 8.0873e-04 - accuracy: 0.9811 - val_loss: 7.1972e-04 - val_accuracy: 0.9912\n",
            "Epoch 200/400\n",
            "181/181 [==============================] - 1s 5ms/step - loss: 8.0724e-04 - accuracy: 0.9814 - val_loss: 7.4552e-04 - val_accuracy: 0.9706\n",
            "Epoch 201/400\n",
            "181/181 [==============================] - 1s 5ms/step - loss: 8.0601e-04 - accuracy: 0.9807 - val_loss: 7.1037e-04 - val_accuracy: 0.9865\n",
            "Epoch 202/400\n",
            "181/181 [==============================] - 1s 5ms/step - loss: 8.1129e-04 - accuracy: 0.9793 - val_loss: 6.9008e-04 - val_accuracy: 0.9900\n",
            "Epoch 203/400\n",
            "181/181 [==============================] - 1s 5ms/step - loss: 8.1029e-04 - accuracy: 0.9799 - val_loss: 8.1417e-04 - val_accuracy: 0.9702\n",
            "Epoch 204/400\n",
            "181/181 [==============================] - 1s 5ms/step - loss: 8.0623e-04 - accuracy: 0.9795 - val_loss: 6.8383e-04 - val_accuracy: 0.9882\n",
            "Epoch 205/400\n",
            "181/181 [==============================] - 1s 5ms/step - loss: 7.9967e-04 - accuracy: 0.9820 - val_loss: 7.7221e-04 - val_accuracy: 0.9671\n",
            "Epoch 206/400\n",
            "181/181 [==============================] - 1s 5ms/step - loss: 8.0325e-04 - accuracy: 0.9808 - val_loss: 6.8597e-04 - val_accuracy: 0.9884\n",
            "Epoch 207/400\n",
            "181/181 [==============================] - 1s 5ms/step - loss: 7.9677e-04 - accuracy: 0.9816 - val_loss: 7.0843e-04 - val_accuracy: 0.9853\n",
            "Epoch 208/400\n",
            "181/181 [==============================] - 1s 5ms/step - loss: 8.0749e-04 - accuracy: 0.9792 - val_loss: 6.8221e-04 - val_accuracy: 0.9891\n",
            "Epoch 209/400\n",
            "181/181 [==============================] - 1s 5ms/step - loss: 8.0114e-04 - accuracy: 0.9810 - val_loss: 6.8269e-04 - val_accuracy: 0.9866\n",
            "Epoch 210/400\n",
            "181/181 [==============================] - 1s 5ms/step - loss: 7.9807e-04 - accuracy: 0.9806 - val_loss: 6.9093e-04 - val_accuracy: 0.9869\n",
            "Epoch 211/400\n",
            "181/181 [==============================] - 1s 5ms/step - loss: 7.9428e-04 - accuracy: 0.9815 - val_loss: 6.8634e-04 - val_accuracy: 0.9883\n",
            "Epoch 212/400\n",
            "181/181 [==============================] - 1s 5ms/step - loss: 7.9584e-04 - accuracy: 0.9811 - val_loss: 6.8131e-04 - val_accuracy: 0.9887\n",
            "Epoch 213/400\n",
            "181/181 [==============================] - 1s 5ms/step - loss: 7.9990e-04 - accuracy: 0.9811 - val_loss: 6.9958e-04 - val_accuracy: 0.9818\n",
            "Epoch 214/400\n",
            "181/181 [==============================] - 1s 5ms/step - loss: 7.9095e-04 - accuracy: 0.9819 - val_loss: 6.8684e-04 - val_accuracy: 0.9815\n",
            "Epoch 215/400\n",
            "181/181 [==============================] - 1s 5ms/step - loss: 8.0221e-04 - accuracy: 0.9795 - val_loss: 6.9299e-04 - val_accuracy: 0.9771\n",
            "Epoch 216/400\n",
            "181/181 [==============================] - 1s 5ms/step - loss: 7.9607e-04 - accuracy: 0.9796 - val_loss: 7.4303e-04 - val_accuracy: 0.9718\n",
            "Epoch 217/400\n",
            "181/181 [==============================] - 1s 5ms/step - loss: 8.0227e-04 - accuracy: 0.9788 - val_loss: 6.8745e-04 - val_accuracy: 0.9830\n",
            "Epoch 218/400\n",
            "181/181 [==============================] - 1s 5ms/step - loss: 7.8763e-04 - accuracy: 0.9817 - val_loss: 7.0753e-04 - val_accuracy: 0.9909\n",
            "Epoch 219/400\n",
            "181/181 [==============================] - 1s 5ms/step - loss: 7.8735e-04 - accuracy: 0.9807 - val_loss: 6.9184e-04 - val_accuracy: 0.9807\n",
            "Epoch 220/400\n",
            "181/181 [==============================] - 1s 6ms/step - loss: 7.8823e-04 - accuracy: 0.9812 - val_loss: 6.9414e-04 - val_accuracy: 0.9811\n",
            "Epoch 221/400\n",
            "181/181 [==============================] - 1s 5ms/step - loss: 7.8565e-04 - accuracy: 0.9811 - val_loss: 6.6679e-04 - val_accuracy: 0.9902\n",
            "Epoch 222/400\n",
            "181/181 [==============================] - 1s 5ms/step - loss: 7.8956e-04 - accuracy: 0.9808 - val_loss: 6.8462e-04 - val_accuracy: 0.9830\n",
            "Epoch 223/400\n",
            "181/181 [==============================] - 1s 5ms/step - loss: 7.8853e-04 - accuracy: 0.9811 - val_loss: 6.9820e-04 - val_accuracy: 0.9749\n",
            "Epoch 224/400\n",
            "181/181 [==============================] - 1s 5ms/step - loss: 7.9137e-04 - accuracy: 0.9799 - val_loss: 6.8738e-04 - val_accuracy: 0.9785\n",
            "Epoch 225/400\n",
            "181/181 [==============================] - 1s 5ms/step - loss: 7.8209e-04 - accuracy: 0.9815 - val_loss: 6.6528e-04 - val_accuracy: 0.9886\n",
            "Epoch 226/400\n",
            "181/181 [==============================] - 1s 5ms/step - loss: 7.8499e-04 - accuracy: 0.9809 - val_loss: 6.7705e-04 - val_accuracy: 0.9866\n",
            "Epoch 227/400\n",
            "181/181 [==============================] - 1s 5ms/step - loss: 7.8574e-04 - accuracy: 0.9812 - val_loss: 6.8627e-04 - val_accuracy: 0.9887\n",
            "Epoch 228/400\n",
            "181/181 [==============================] - 1s 5ms/step - loss: 7.8358e-04 - accuracy: 0.9808 - val_loss: 6.6158e-04 - val_accuracy: 0.9901\n",
            "Epoch 229/400\n",
            "181/181 [==============================] - 1s 5ms/step - loss: 7.8231e-04 - accuracy: 0.9806 - val_loss: 6.5963e-04 - val_accuracy: 0.9872\n",
            "Epoch 230/400\n",
            "181/181 [==============================] - 1s 6ms/step - loss: 7.8196e-04 - accuracy: 0.9813 - val_loss: 6.6499e-04 - val_accuracy: 0.9890\n",
            "Epoch 231/400\n",
            "181/181 [==============================] - 1s 5ms/step - loss: 7.7598e-04 - accuracy: 0.9806 - val_loss: 6.6053e-04 - val_accuracy: 0.9896\n",
            "Epoch 232/400\n",
            "181/181 [==============================] - 1s 5ms/step - loss: 7.7772e-04 - accuracy: 0.9804 - val_loss: 6.6638e-04 - val_accuracy: 0.9859\n",
            "Epoch 233/400\n",
            "181/181 [==============================] - 1s 5ms/step - loss: 7.7622e-04 - accuracy: 0.9815 - val_loss: 6.5596e-04 - val_accuracy: 0.9880\n",
            "Epoch 234/400\n",
            "181/181 [==============================] - 1s 5ms/step - loss: 7.8021e-04 - accuracy: 0.9795 - val_loss: 6.9859e-04 - val_accuracy: 0.9809\n",
            "Epoch 235/400\n",
            "181/181 [==============================] - 1s 5ms/step - loss: 7.7250e-04 - accuracy: 0.9818 - val_loss: 6.9686e-04 - val_accuracy: 0.9772\n",
            "Epoch 236/400\n",
            "181/181 [==============================] - 1s 5ms/step - loss: 7.7853e-04 - accuracy: 0.9811 - val_loss: 6.5608e-04 - val_accuracy: 0.9887\n",
            "Epoch 237/400\n",
            "181/181 [==============================] - 1s 5ms/step - loss: 7.7896e-04 - accuracy: 0.9796 - val_loss: 6.7331e-04 - val_accuracy: 0.9834\n",
            "Epoch 238/400\n",
            "181/181 [==============================] - 1s 5ms/step - loss: 7.7232e-04 - accuracy: 0.9815 - val_loss: 6.5557e-04 - val_accuracy: 0.9876\n",
            "Epoch 239/400\n",
            "181/181 [==============================] - 1s 5ms/step - loss: 7.8540e-04 - accuracy: 0.9802 - val_loss: 6.7555e-04 - val_accuracy: 0.9861\n",
            "Epoch 240/400\n",
            "181/181 [==============================] - 1s 5ms/step - loss: 7.7383e-04 - accuracy: 0.9806 - val_loss: 7.1246e-04 - val_accuracy: 0.9774\n",
            "Epoch 241/400\n",
            "181/181 [==============================] - 1s 5ms/step - loss: 7.6982e-04 - accuracy: 0.9808 - val_loss: 6.7023e-04 - val_accuracy: 0.9908\n",
            "Epoch 242/400\n",
            "181/181 [==============================] - 1s 6ms/step - loss: 7.7291e-04 - accuracy: 0.9803 - val_loss: 6.5987e-04 - val_accuracy: 0.9891\n",
            "Epoch 243/400\n",
            "181/181 [==============================] - 1s 5ms/step - loss: 7.7175e-04 - accuracy: 0.9817 - val_loss: 7.0355e-04 - val_accuracy: 0.9800\n",
            "Epoch 244/400\n",
            "181/181 [==============================] - 1s 5ms/step - loss: 7.7374e-04 - accuracy: 0.9822 - val_loss: 6.5483e-04 - val_accuracy: 0.9880\n",
            "Epoch 245/400\n",
            "181/181 [==============================] - 1s 5ms/step - loss: 7.7466e-04 - accuracy: 0.9803 - val_loss: 6.6475e-04 - val_accuracy: 0.9852\n",
            "Epoch 246/400\n",
            "181/181 [==============================] - 1s 5ms/step - loss: 7.7128e-04 - accuracy: 0.9809 - val_loss: 6.4981e-04 - val_accuracy: 0.9902\n",
            "Epoch 247/400\n",
            "181/181 [==============================] - 1s 5ms/step - loss: 7.7208e-04 - accuracy: 0.9804 - val_loss: 6.8059e-04 - val_accuracy: 0.9797\n",
            "Epoch 248/400\n",
            "181/181 [==============================] - 1s 5ms/step - loss: 7.6789e-04 - accuracy: 0.9810 - val_loss: 6.4654e-04 - val_accuracy: 0.9896\n",
            "Epoch 249/400\n",
            "181/181 [==============================] - 1s 5ms/step - loss: 7.6837e-04 - accuracy: 0.9808 - val_loss: 6.6694e-04 - val_accuracy: 0.9834\n",
            "Epoch 250/400\n",
            "181/181 [==============================] - 1s 5ms/step - loss: 7.5772e-04 - accuracy: 0.9826 - val_loss: 6.5121e-04 - val_accuracy: 0.9888\n",
            "Epoch 251/400\n",
            "181/181 [==============================] - 1s 5ms/step - loss: 7.6539e-04 - accuracy: 0.9812 - val_loss: 6.5255e-04 - val_accuracy: 0.9839\n",
            "Epoch 252/400\n",
            "181/181 [==============================] - 1s 5ms/step - loss: 7.6876e-04 - accuracy: 0.9799 - val_loss: 6.6431e-04 - val_accuracy: 0.9772\n",
            "Epoch 253/400\n",
            "181/181 [==============================] - 1s 6ms/step - loss: 7.6318e-04 - accuracy: 0.9815 - val_loss: 6.6389e-04 - val_accuracy: 0.9821\n",
            "Epoch 254/400\n",
            "181/181 [==============================] - 1s 6ms/step - loss: 7.6284e-04 - accuracy: 0.9815 - val_loss: 6.5390e-04 - val_accuracy: 0.9880\n",
            "Epoch 255/400\n",
            "181/181 [==============================] - 1s 6ms/step - loss: 7.6222e-04 - accuracy: 0.9817 - val_loss: 6.4155e-04 - val_accuracy: 0.9895\n",
            "Epoch 256/400\n",
            "181/181 [==============================] - 1s 5ms/step - loss: 7.6536e-04 - accuracy: 0.9815 - val_loss: 6.5141e-04 - val_accuracy: 0.9894\n",
            "Epoch 257/400\n",
            "181/181 [==============================] - 1s 5ms/step - loss: 7.6566e-04 - accuracy: 0.9807 - val_loss: 6.9338e-04 - val_accuracy: 0.9838\n",
            "Epoch 258/400\n",
            "181/181 [==============================] - 1s 5ms/step - loss: 7.6304e-04 - accuracy: 0.9800 - val_loss: 6.8762e-04 - val_accuracy: 0.9822\n",
            "Epoch 259/400\n",
            "181/181 [==============================] - 1s 5ms/step - loss: 7.5833e-04 - accuracy: 0.9815 - val_loss: 6.4481e-04 - val_accuracy: 0.9900\n",
            "Epoch 260/400\n",
            "181/181 [==============================] - 1s 5ms/step - loss: 7.5746e-04 - accuracy: 0.9806 - val_loss: 6.7856e-04 - val_accuracy: 0.9830\n",
            "Epoch 261/400\n",
            "181/181 [==============================] - 1s 6ms/step - loss: 7.5455e-04 - accuracy: 0.9815 - val_loss: 6.5625e-04 - val_accuracy: 0.9891\n",
            "Epoch 262/400\n",
            "181/181 [==============================] - 1s 5ms/step - loss: 7.6489e-04 - accuracy: 0.9802 - val_loss: 6.7862e-04 - val_accuracy: 0.9825\n",
            "Epoch 263/400\n",
            "181/181 [==============================] - 1s 6ms/step - loss: 7.6124e-04 - accuracy: 0.9802 - val_loss: 6.3593e-04 - val_accuracy: 0.9930\n",
            "Epoch 264/400\n",
            "181/181 [==============================] - 1s 5ms/step - loss: 7.5460e-04 - accuracy: 0.9810 - val_loss: 6.4755e-04 - val_accuracy: 0.9833\n",
            "Epoch 265/400\n",
            "181/181 [==============================] - 1s 5ms/step - loss: 7.6135e-04 - accuracy: 0.9803 - val_loss: 6.5207e-04 - val_accuracy: 0.9776\n",
            "Epoch 266/400\n",
            "181/181 [==============================] - 1s 5ms/step - loss: 7.5682e-04 - accuracy: 0.9807 - val_loss: 6.4161e-04 - val_accuracy: 0.9891\n",
            "Epoch 267/400\n",
            "181/181 [==============================] - 1s 5ms/step - loss: 7.6475e-04 - accuracy: 0.9796 - val_loss: 6.6010e-04 - val_accuracy: 0.9848\n",
            "Epoch 268/400\n",
            "181/181 [==============================] - 1s 5ms/step - loss: 7.6015e-04 - accuracy: 0.9802 - val_loss: 6.5398e-04 - val_accuracy: 0.9791\n",
            "Epoch 269/400\n",
            "181/181 [==============================] - 1s 6ms/step - loss: 7.4444e-04 - accuracy: 0.9822 - val_loss: 6.3368e-04 - val_accuracy: 0.9893\n",
            "Epoch 270/400\n",
            "181/181 [==============================] - 1s 6ms/step - loss: 7.5994e-04 - accuracy: 0.9792 - val_loss: 6.3757e-04 - val_accuracy: 0.9884\n",
            "Epoch 271/400\n",
            "181/181 [==============================] - 1s 5ms/step - loss: 7.5059e-04 - accuracy: 0.9819 - val_loss: 6.6692e-04 - val_accuracy: 0.9875\n",
            "Epoch 272/400\n",
            "181/181 [==============================] - 1s 5ms/step - loss: 7.5601e-04 - accuracy: 0.9797 - val_loss: 6.4832e-04 - val_accuracy: 0.9894\n",
            "Epoch 273/400\n",
            "181/181 [==============================] - 1s 5ms/step - loss: 7.4945e-04 - accuracy: 0.9816 - val_loss: 6.4534e-04 - val_accuracy: 0.9836\n",
            "Epoch 274/400\n",
            "181/181 [==============================] - 1s 5ms/step - loss: 7.5068e-04 - accuracy: 0.9797 - val_loss: 6.6049e-04 - val_accuracy: 0.9811\n",
            "Epoch 275/400\n",
            "181/181 [==============================] - 1s 5ms/step - loss: 7.4403e-04 - accuracy: 0.9807 - val_loss: 6.9767e-04 - val_accuracy: 0.9790\n",
            "Epoch 276/400\n",
            "181/181 [==============================] - 1s 5ms/step - loss: 7.5609e-04 - accuracy: 0.9801 - val_loss: 6.3063e-04 - val_accuracy: 0.9897\n",
            "Epoch 277/400\n",
            "181/181 [==============================] - 1s 5ms/step - loss: 7.4264e-04 - accuracy: 0.9809 - val_loss: 6.3610e-04 - val_accuracy: 0.9866\n",
            "Epoch 278/400\n",
            "181/181 [==============================] - 1s 5ms/step - loss: 7.4313e-04 - accuracy: 0.9805 - val_loss: 6.5054e-04 - val_accuracy: 0.9765\n",
            "Epoch 279/400\n",
            "181/181 [==============================] - 1s 6ms/step - loss: 7.4083e-04 - accuracy: 0.9821 - val_loss: 6.2490e-04 - val_accuracy: 0.9890\n",
            "Epoch 280/400\n",
            "181/181 [==============================] - 1s 5ms/step - loss: 7.4869e-04 - accuracy: 0.9796 - val_loss: 6.3321e-04 - val_accuracy: 0.9908\n",
            "Epoch 281/400\n",
            "181/181 [==============================] - 1s 5ms/step - loss: 7.4231e-04 - accuracy: 0.9805 - val_loss: 6.4296e-04 - val_accuracy: 0.9818\n",
            "Epoch 282/400\n",
            "181/181 [==============================] - 1s 5ms/step - loss: 7.4629e-04 - accuracy: 0.9801 - val_loss: 6.5233e-04 - val_accuracy: 0.9904\n",
            "Epoch 283/400\n",
            "181/181 [==============================] - 1s 5ms/step - loss: 7.3631e-04 - accuracy: 0.9808 - val_loss: 6.2722e-04 - val_accuracy: 0.9823\n",
            "Epoch 284/400\n",
            "181/181 [==============================] - 1s 5ms/step - loss: 7.4094e-04 - accuracy: 0.9815 - val_loss: 6.2360e-04 - val_accuracy: 0.9915\n",
            "Epoch 285/400\n",
            "181/181 [==============================] - 1s 5ms/step - loss: 7.3669e-04 - accuracy: 0.9814 - val_loss: 6.3331e-04 - val_accuracy: 0.9863\n",
            "Epoch 286/400\n",
            "181/181 [==============================] - 1s 5ms/step - loss: 7.2981e-04 - accuracy: 0.9820 - val_loss: 6.1977e-04 - val_accuracy: 0.9876\n",
            "Epoch 287/400\n",
            "181/181 [==============================] - 1s 5ms/step - loss: 7.3979e-04 - accuracy: 0.9801 - val_loss: 6.4171e-04 - val_accuracy: 0.9863\n",
            "Epoch 288/400\n",
            "181/181 [==============================] - 1s 5ms/step - loss: 7.3990e-04 - accuracy: 0.9813 - val_loss: 6.5793e-04 - val_accuracy: 0.9833\n",
            "Epoch 289/400\n",
            "181/181 [==============================] - 1s 5ms/step - loss: 7.3824e-04 - accuracy: 0.9790 - val_loss: 6.1913e-04 - val_accuracy: 0.9885\n",
            "Epoch 290/400\n",
            "181/181 [==============================] - 1s 5ms/step - loss: 7.3473e-04 - accuracy: 0.9810 - val_loss: 6.1381e-04 - val_accuracy: 0.9870\n",
            "Epoch 291/400\n",
            "181/181 [==============================] - 1s 5ms/step - loss: 7.4179e-04 - accuracy: 0.9793 - val_loss: 6.3829e-04 - val_accuracy: 0.9800\n",
            "Epoch 292/400\n",
            "181/181 [==============================] - 1s 5ms/step - loss: 7.3665e-04 - accuracy: 0.9797 - val_loss: 6.5172e-04 - val_accuracy: 0.9852\n",
            "Epoch 293/400\n",
            "181/181 [==============================] - 1s 5ms/step - loss: 7.3444e-04 - accuracy: 0.9806 - val_loss: 6.6639e-04 - val_accuracy: 0.9880\n",
            "Epoch 294/400\n",
            "181/181 [==============================] - 1s 5ms/step - loss: 7.3159e-04 - accuracy: 0.9804 - val_loss: 6.1454e-04 - val_accuracy: 0.9866\n",
            "Epoch 295/400\n",
            "181/181 [==============================] - 1s 5ms/step - loss: 7.3207e-04 - accuracy: 0.9803 - val_loss: 6.1044e-04 - val_accuracy: 0.9889\n",
            "Epoch 296/400\n",
            "181/181 [==============================] - 1s 5ms/step - loss: 7.3170e-04 - accuracy: 0.9812 - val_loss: 6.4600e-04 - val_accuracy: 0.9869\n",
            "Epoch 297/400\n",
            "181/181 [==============================] - 1s 5ms/step - loss: 7.3326e-04 - accuracy: 0.9802 - val_loss: 6.2204e-04 - val_accuracy: 0.9891\n",
            "Epoch 298/400\n",
            "181/181 [==============================] - 1s 6ms/step - loss: 7.3302e-04 - accuracy: 0.9809 - val_loss: 7.1287e-04 - val_accuracy: 0.9755\n",
            "Epoch 299/400\n",
            "181/181 [==============================] - 1s 5ms/step - loss: 7.2849e-04 - accuracy: 0.9801 - val_loss: 6.0715e-04 - val_accuracy: 0.9898\n",
            "Epoch 300/400\n",
            "181/181 [==============================] - 1s 5ms/step - loss: 7.2359e-04 - accuracy: 0.9810 - val_loss: 6.3811e-04 - val_accuracy: 0.9853\n",
            "Epoch 301/400\n",
            "181/181 [==============================] - 1s 5ms/step - loss: 7.2736e-04 - accuracy: 0.9796 - val_loss: 6.0880e-04 - val_accuracy: 0.9919\n",
            "Epoch 302/400\n",
            "181/181 [==============================] - 1s 5ms/step - loss: 7.3432e-04 - accuracy: 0.9793 - val_loss: 6.0850e-04 - val_accuracy: 0.9882\n",
            "Epoch 303/400\n",
            "181/181 [==============================] - 1s 5ms/step - loss: 7.2678e-04 - accuracy: 0.9806 - val_loss: 6.0987e-04 - val_accuracy: 0.9894\n",
            "Epoch 304/400\n",
            "181/181 [==============================] - 1s 6ms/step - loss: 7.2112e-04 - accuracy: 0.9804 - val_loss: 6.3971e-04 - val_accuracy: 0.9850\n",
            "Epoch 305/400\n",
            "181/181 [==============================] - 1s 6ms/step - loss: 7.2083e-04 - accuracy: 0.9807 - val_loss: 6.0817e-04 - val_accuracy: 0.9883\n",
            "Epoch 306/400\n",
            "181/181 [==============================] - 1s 5ms/step - loss: 7.2517e-04 - accuracy: 0.9794 - val_loss: 6.0648e-04 - val_accuracy: 0.9818\n",
            "Epoch 307/400\n",
            "181/181 [==============================] - 1s 6ms/step - loss: 7.1544e-04 - accuracy: 0.9825 - val_loss: 6.0084e-04 - val_accuracy: 0.9876\n",
            "Epoch 308/400\n",
            "181/181 [==============================] - 1s 5ms/step - loss: 7.2059e-04 - accuracy: 0.9800 - val_loss: 6.6402e-04 - val_accuracy: 0.9815\n",
            "Epoch 309/400\n",
            "181/181 [==============================] - 1s 6ms/step - loss: 7.1758e-04 - accuracy: 0.9822 - val_loss: 6.1382e-04 - val_accuracy: 0.9865\n",
            "Epoch 310/400\n",
            "181/181 [==============================] - 1s 5ms/step - loss: 7.2363e-04 - accuracy: 0.9795 - val_loss: 6.1610e-04 - val_accuracy: 0.9866\n",
            "Epoch 311/400\n",
            "181/181 [==============================] - 1s 6ms/step - loss: 7.1255e-04 - accuracy: 0.9811 - val_loss: 6.3496e-04 - val_accuracy: 0.9853\n",
            "Epoch 312/400\n",
            "181/181 [==============================] - 1s 5ms/step - loss: 7.1468e-04 - accuracy: 0.9811 - val_loss: 6.0394e-04 - val_accuracy: 0.9887\n",
            "Epoch 313/400\n",
            "181/181 [==============================] - 1s 6ms/step - loss: 7.2036e-04 - accuracy: 0.9811 - val_loss: 6.1571e-04 - val_accuracy: 0.9857\n",
            "Epoch 314/400\n",
            "181/181 [==============================] - 1s 6ms/step - loss: 7.1718e-04 - accuracy: 0.9801 - val_loss: 6.0175e-04 - val_accuracy: 0.9872\n",
            "Epoch 315/400\n",
            "181/181 [==============================] - 1s 6ms/step - loss: 7.1668e-04 - accuracy: 0.9806 - val_loss: 6.4788e-04 - val_accuracy: 0.9833\n",
            "Epoch 316/400\n",
            "181/181 [==============================] - 1s 5ms/step - loss: 7.1916e-04 - accuracy: 0.9806 - val_loss: 6.5612e-04 - val_accuracy: 0.9808\n",
            "Epoch 317/400\n",
            "181/181 [==============================] - 1s 6ms/step - loss: 7.1693e-04 - accuracy: 0.9804 - val_loss: 6.1213e-04 - val_accuracy: 0.9848\n",
            "Epoch 318/400\n",
            "181/181 [==============================] - 1s 6ms/step - loss: 7.1846e-04 - accuracy: 0.9807 - val_loss: 6.1620e-04 - val_accuracy: 0.9880\n",
            "Epoch 319/400\n",
            "181/181 [==============================] - 1s 5ms/step - loss: 7.1561e-04 - accuracy: 0.9800 - val_loss: 6.0400e-04 - val_accuracy: 0.9907\n",
            "Epoch 320/400\n",
            "181/181 [==============================] - 1s 5ms/step - loss: 7.1680e-04 - accuracy: 0.9802 - val_loss: 6.6046e-04 - val_accuracy: 0.9814\n",
            "Epoch 321/400\n",
            "181/181 [==============================] - 1s 6ms/step - loss: 7.1521e-04 - accuracy: 0.9812 - val_loss: 6.5289e-04 - val_accuracy: 0.9825\n",
            "Epoch 322/400\n",
            "181/181 [==============================] - 1s 5ms/step - loss: 7.1400e-04 - accuracy: 0.9806 - val_loss: 6.0091e-04 - val_accuracy: 0.9863\n",
            "Epoch 323/400\n",
            "181/181 [==============================] - 1s 6ms/step - loss: 7.1118e-04 - accuracy: 0.9804 - val_loss: 6.2536e-04 - val_accuracy: 0.9793\n",
            "Epoch 324/400\n",
            "181/181 [==============================] - 1s 5ms/step - loss: 7.1406e-04 - accuracy: 0.9808 - val_loss: 6.1719e-04 - val_accuracy: 0.9791\n",
            "Epoch 325/400\n",
            "181/181 [==============================] - 1s 5ms/step - loss: 7.1098e-04 - accuracy: 0.9809 - val_loss: 6.0380e-04 - val_accuracy: 0.9846\n",
            "Epoch 326/400\n",
            "181/181 [==============================] - 1s 6ms/step - loss: 7.1159e-04 - accuracy: 0.9819 - val_loss: 6.8458e-04 - val_accuracy: 0.9674\n",
            "Epoch 327/400\n",
            "181/181 [==============================] - 1s 6ms/step - loss: 7.1570e-04 - accuracy: 0.9797 - val_loss: 6.0206e-04 - val_accuracy: 0.9891\n",
            "Epoch 328/400\n",
            "181/181 [==============================] - 1s 6ms/step - loss: 7.1159e-04 - accuracy: 0.9808 - val_loss: 6.4589e-04 - val_accuracy: 0.9738\n",
            "Epoch 329/400\n",
            "181/181 [==============================] - 1s 5ms/step - loss: 7.1293e-04 - accuracy: 0.9805 - val_loss: 5.9854e-04 - val_accuracy: 0.9886\n",
            "Epoch 330/400\n",
            "181/181 [==============================] - 1s 5ms/step - loss: 7.1040e-04 - accuracy: 0.9800 - val_loss: 6.1705e-04 - val_accuracy: 0.9914\n",
            "Epoch 331/400\n",
            "181/181 [==============================] - 1s 5ms/step - loss: 7.1224e-04 - accuracy: 0.9808 - val_loss: 5.9563e-04 - val_accuracy: 0.9906\n",
            "Epoch 332/400\n",
            "181/181 [==============================] - 1s 6ms/step - loss: 7.1268e-04 - accuracy: 0.9810 - val_loss: 5.9807e-04 - val_accuracy: 0.9868\n",
            "Epoch 333/400\n",
            "181/181 [==============================] - 1s 6ms/step - loss: 7.0908e-04 - accuracy: 0.9809 - val_loss: 6.0643e-04 - val_accuracy: 0.9831\n",
            "Epoch 334/400\n",
            "181/181 [==============================] - 1s 6ms/step - loss: 7.1715e-04 - accuracy: 0.9801 - val_loss: 6.2518e-04 - val_accuracy: 0.9854\n",
            "Epoch 335/400\n",
            "181/181 [==============================] - 1s 6ms/step - loss: 7.1332e-04 - accuracy: 0.9803 - val_loss: 5.9623e-04 - val_accuracy: 0.9837\n",
            "Epoch 336/400\n",
            "181/181 [==============================] - 1s 6ms/step - loss: 7.1289e-04 - accuracy: 0.9809 - val_loss: 6.3645e-04 - val_accuracy: 0.9755\n",
            "Epoch 337/400\n",
            "181/181 [==============================] - 1s 6ms/step - loss: 7.0777e-04 - accuracy: 0.9802 - val_loss: 6.0121e-04 - val_accuracy: 0.9908\n",
            "Epoch 338/400\n",
            "181/181 [==============================] - 1s 6ms/step - loss: 7.0456e-04 - accuracy: 0.9820 - val_loss: 5.9154e-04 - val_accuracy: 0.9884\n",
            "Epoch 339/400\n",
            "181/181 [==============================] - 1s 6ms/step - loss: 7.0418e-04 - accuracy: 0.9809 - val_loss: 6.1904e-04 - val_accuracy: 0.9859\n",
            "Epoch 340/400\n",
            "181/181 [==============================] - 1s 6ms/step - loss: 7.1595e-04 - accuracy: 0.9810 - val_loss: 6.0138e-04 - val_accuracy: 0.9815\n",
            "Epoch 341/400\n",
            "181/181 [==============================] - 1s 5ms/step - loss: 7.0662e-04 - accuracy: 0.9808 - val_loss: 6.1142e-04 - val_accuracy: 0.9835\n",
            "Epoch 342/400\n",
            "181/181 [==============================] - 1s 6ms/step - loss: 7.1212e-04 - accuracy: 0.9803 - val_loss: 6.4501e-04 - val_accuracy: 0.9817\n",
            "Epoch 343/400\n",
            "181/181 [==============================] - 1s 6ms/step - loss: 7.0882e-04 - accuracy: 0.9807 - val_loss: 5.9366e-04 - val_accuracy: 0.9887\n",
            "Epoch 344/400\n",
            "181/181 [==============================] - 1s 6ms/step - loss: 7.0614e-04 - accuracy: 0.9817 - val_loss: 5.9629e-04 - val_accuracy: 0.9883\n",
            "Epoch 345/400\n",
            "181/181 [==============================] - 1s 6ms/step - loss: 7.0540e-04 - accuracy: 0.9811 - val_loss: 6.0421e-04 - val_accuracy: 0.9852\n",
            "Epoch 346/400\n",
            "181/181 [==============================] - 1s 5ms/step - loss: 7.0361e-04 - accuracy: 0.9809 - val_loss: 6.3045e-04 - val_accuracy: 0.9814\n",
            "Epoch 347/400\n",
            "181/181 [==============================] - 1s 6ms/step - loss: 7.0338e-04 - accuracy: 0.9813 - val_loss: 6.1831e-04 - val_accuracy: 0.9914\n",
            "Epoch 348/400\n",
            "181/181 [==============================] - 1s 6ms/step - loss: 7.0405e-04 - accuracy: 0.9808 - val_loss: 5.9357e-04 - val_accuracy: 0.9884\n",
            "Epoch 349/400\n",
            "181/181 [==============================] - 1s 6ms/step - loss: 7.0953e-04 - accuracy: 0.9805 - val_loss: 6.1181e-04 - val_accuracy: 0.9819\n",
            "Epoch 350/400\n",
            "181/181 [==============================] - 1s 6ms/step - loss: 7.0644e-04 - accuracy: 0.9796 - val_loss: 6.3734e-04 - val_accuracy: 0.9771\n",
            "Epoch 351/400\n",
            "181/181 [==============================] - 1s 5ms/step - loss: 7.0363e-04 - accuracy: 0.9814 - val_loss: 6.1865e-04 - val_accuracy: 0.9793\n",
            "Epoch 352/400\n",
            "181/181 [==============================] - 1s 6ms/step - loss: 7.0051e-04 - accuracy: 0.9808 - val_loss: 5.9481e-04 - val_accuracy: 0.9850\n",
            "Epoch 353/400\n",
            "181/181 [==============================] - 1s 6ms/step - loss: 7.0675e-04 - accuracy: 0.9804 - val_loss: 6.5482e-04 - val_accuracy: 0.9730\n",
            "Epoch 354/400\n",
            "181/181 [==============================] - 1s 6ms/step - loss: 7.0278e-04 - accuracy: 0.9809 - val_loss: 5.8122e-04 - val_accuracy: 0.9923\n",
            "Epoch 355/400\n",
            "181/181 [==============================] - 1s 6ms/step - loss: 7.0526e-04 - accuracy: 0.9795 - val_loss: 5.9880e-04 - val_accuracy: 0.9872\n",
            "Epoch 356/400\n",
            "181/181 [==============================] - 1s 6ms/step - loss: 6.9967e-04 - accuracy: 0.9805 - val_loss: 5.9719e-04 - val_accuracy: 0.9880\n",
            "Epoch 357/400\n",
            "181/181 [==============================] - 1s 6ms/step - loss: 7.0901e-04 - accuracy: 0.9798 - val_loss: 5.7821e-04 - val_accuracy: 0.9900\n",
            "Epoch 358/400\n",
            "181/181 [==============================] - 1s 6ms/step - loss: 7.0491e-04 - accuracy: 0.9808 - val_loss: 5.9693e-04 - val_accuracy: 0.9891\n",
            "Epoch 359/400\n",
            "181/181 [==============================] - 1s 6ms/step - loss: 7.0652e-04 - accuracy: 0.9799 - val_loss: 6.0229e-04 - val_accuracy: 0.9887\n",
            "Epoch 360/400\n",
            "181/181 [==============================] - 1s 6ms/step - loss: 6.9413e-04 - accuracy: 0.9814 - val_loss: 6.0789e-04 - val_accuracy: 0.9774\n",
            "Epoch 361/400\n",
            "181/181 [==============================] - 1s 5ms/step - loss: 7.0104e-04 - accuracy: 0.9806 - val_loss: 5.8250e-04 - val_accuracy: 0.9924\n",
            "Epoch 362/400\n",
            "181/181 [==============================] - 1s 6ms/step - loss: 6.9969e-04 - accuracy: 0.9803 - val_loss: 5.8408e-04 - val_accuracy: 0.9908\n",
            "Epoch 363/400\n",
            "181/181 [==============================] - 1s 6ms/step - loss: 7.0648e-04 - accuracy: 0.9804 - val_loss: 6.1670e-04 - val_accuracy: 0.9733\n",
            "Epoch 364/400\n",
            "181/181 [==============================] - 1s 6ms/step - loss: 6.9890e-04 - accuracy: 0.9819 - val_loss: 6.0862e-04 - val_accuracy: 0.9840\n",
            "Epoch 365/400\n",
            "181/181 [==============================] - 1s 6ms/step - loss: 7.0653e-04 - accuracy: 0.9792 - val_loss: 5.8851e-04 - val_accuracy: 0.9893\n",
            "Epoch 366/400\n",
            "181/181 [==============================] - 1s 6ms/step - loss: 7.0019e-04 - accuracy: 0.9798 - val_loss: 5.9700e-04 - val_accuracy: 0.9859\n",
            "Epoch 367/400\n",
            "181/181 [==============================] - 1s 6ms/step - loss: 6.9708e-04 - accuracy: 0.9814 - val_loss: 5.9400e-04 - val_accuracy: 0.9898\n",
            "Epoch 368/400\n",
            "181/181 [==============================] - 1s 6ms/step - loss: 6.9621e-04 - accuracy: 0.9817 - val_loss: 5.8568e-04 - val_accuracy: 0.9876\n",
            "Epoch 369/400\n",
            "181/181 [==============================] - 1s 6ms/step - loss: 7.0107e-04 - accuracy: 0.9804 - val_loss: 5.9276e-04 - val_accuracy: 0.9863\n",
            "Epoch 370/400\n",
            "181/181 [==============================] - 1s 6ms/step - loss: 6.9536e-04 - accuracy: 0.9812 - val_loss: 5.8521e-04 - val_accuracy: 0.9908\n",
            "Epoch 371/400\n",
            "181/181 [==============================] - 1s 6ms/step - loss: 6.9911e-04 - accuracy: 0.9808 - val_loss: 6.0386e-04 - val_accuracy: 0.9900\n",
            "Epoch 372/400\n",
            "181/181 [==============================] - 1s 6ms/step - loss: 6.9871e-04 - accuracy: 0.9806 - val_loss: 5.9538e-04 - val_accuracy: 0.9893\n",
            "Epoch 373/400\n",
            "181/181 [==============================] - 1s 5ms/step - loss: 6.9753e-04 - accuracy: 0.9816 - val_loss: 5.7578e-04 - val_accuracy: 0.9883\n",
            "Epoch 374/400\n",
            "181/181 [==============================] - 1s 6ms/step - loss: 6.9558e-04 - accuracy: 0.9805 - val_loss: 6.2250e-04 - val_accuracy: 0.9853\n",
            "Epoch 375/400\n",
            "181/181 [==============================] - 1s 5ms/step - loss: 6.9854e-04 - accuracy: 0.9802 - val_loss: 6.2372e-04 - val_accuracy: 0.9831\n",
            "Epoch 376/400\n",
            "181/181 [==============================] - 1s 6ms/step - loss: 7.0446e-04 - accuracy: 0.9795 - val_loss: 6.9575e-04 - val_accuracy: 0.9607\n",
            "Epoch 377/400\n",
            "181/181 [==============================] - 1s 6ms/step - loss: 7.0116e-04 - accuracy: 0.9802 - val_loss: 5.7451e-04 - val_accuracy: 0.9910\n",
            "Epoch 378/400\n",
            "181/181 [==============================] - 1s 6ms/step - loss: 6.8922e-04 - accuracy: 0.9815 - val_loss: 5.7356e-04 - val_accuracy: 0.9893\n",
            "Epoch 379/400\n",
            "181/181 [==============================] - 1s 6ms/step - loss: 6.9569e-04 - accuracy: 0.9803 - val_loss: 5.8551e-04 - val_accuracy: 0.9876\n",
            "Epoch 380/400\n",
            "181/181 [==============================] - 1s 6ms/step - loss: 6.9421e-04 - accuracy: 0.9811 - val_loss: 6.1374e-04 - val_accuracy: 0.9779\n",
            "Epoch 381/400\n",
            "181/181 [==============================] - 1s 6ms/step - loss: 6.9811e-04 - accuracy: 0.9812 - val_loss: 6.1137e-04 - val_accuracy: 0.9877\n",
            "Epoch 382/400\n",
            "181/181 [==============================] - 1s 6ms/step - loss: 6.9865e-04 - accuracy: 0.9801 - val_loss: 6.1358e-04 - val_accuracy: 0.9776\n",
            "Epoch 383/400\n",
            "181/181 [==============================] - 1s 6ms/step - loss: 6.9086e-04 - accuracy: 0.9810 - val_loss: 5.7676e-04 - val_accuracy: 0.9882\n",
            "Epoch 384/400\n",
            "181/181 [==============================] - 1s 6ms/step - loss: 6.9663e-04 - accuracy: 0.9825 - val_loss: 5.7482e-04 - val_accuracy: 0.9906\n",
            "Epoch 385/400\n",
            "181/181 [==============================] - 1s 6ms/step - loss: 6.9128e-04 - accuracy: 0.9810 - val_loss: 6.4663e-04 - val_accuracy: 0.9775\n",
            "Epoch 386/400\n",
            "181/181 [==============================] - 1s 6ms/step - loss: 6.9539e-04 - accuracy: 0.9807 - val_loss: 6.1573e-04 - val_accuracy: 0.9718\n",
            "Epoch 387/400\n",
            "181/181 [==============================] - 1s 6ms/step - loss: 6.9482e-04 - accuracy: 0.9811 - val_loss: 5.7337e-04 - val_accuracy: 0.9879\n",
            "Epoch 388/400\n",
            "181/181 [==============================] - 1s 6ms/step - loss: 6.9394e-04 - accuracy: 0.9812 - val_loss: 5.7997e-04 - val_accuracy: 0.9923\n",
            "Epoch 389/400\n",
            "181/181 [==============================] - 1s 6ms/step - loss: 7.0210e-04 - accuracy: 0.9800 - val_loss: 6.3796e-04 - val_accuracy: 0.9815\n",
            "Epoch 390/400\n",
            "181/181 [==============================] - 1s 5ms/step - loss: 6.9120e-04 - accuracy: 0.9800 - val_loss: 5.7786e-04 - val_accuracy: 0.9845\n",
            "Epoch 391/400\n",
            "181/181 [==============================] - 1s 6ms/step - loss: 6.8919e-04 - accuracy: 0.9814 - val_loss: 6.0284e-04 - val_accuracy: 0.9805\n",
            "Epoch 392/400\n",
            "181/181 [==============================] - 1s 6ms/step - loss: 6.9632e-04 - accuracy: 0.9797 - val_loss: 6.0332e-04 - val_accuracy: 0.9817\n",
            "Epoch 393/400\n",
            "181/181 [==============================] - 1s 6ms/step - loss: 6.9799e-04 - accuracy: 0.9791 - val_loss: 5.9132e-04 - val_accuracy: 0.9867\n",
            "Epoch 394/400\n",
            "181/181 [==============================] - 1s 6ms/step - loss: 6.9173e-04 - accuracy: 0.9812 - val_loss: 5.7452e-04 - val_accuracy: 0.9863\n",
            "Epoch 395/400\n",
            "181/181 [==============================] - 1s 6ms/step - loss: 6.8613e-04 - accuracy: 0.9816 - val_loss: 5.8538e-04 - val_accuracy: 0.9866\n",
            "Epoch 396/400\n",
            "181/181 [==============================] - 1s 6ms/step - loss: 6.9615e-04 - accuracy: 0.9803 - val_loss: 5.9180e-04 - val_accuracy: 0.9875\n",
            "Epoch 397/400\n",
            "181/181 [==============================] - 1s 6ms/step - loss: 6.8927e-04 - accuracy: 0.9807 - val_loss: 5.8533e-04 - val_accuracy: 0.9881\n",
            "Epoch 398/400\n",
            "181/181 [==============================] - 1s 6ms/step - loss: 6.8191e-04 - accuracy: 0.9816 - val_loss: 5.7455e-04 - val_accuracy: 0.9874\n",
            "Epoch 399/400\n",
            "181/181 [==============================] - 1s 5ms/step - loss: 6.9365e-04 - accuracy: 0.9798 - val_loss: 5.7291e-04 - val_accuracy: 0.9870\n",
            "Epoch 400/400\n",
            "181/181 [==============================] - 1s 6ms/step - loss: 6.8490e-04 - accuracy: 0.9819 - val_loss: 5.8598e-04 - val_accuracy: 0.9890\n"
          ]
        }
      ]
    },
    {
      "cell_type": "markdown",
      "source": [
        "# Evaluate the training performance"
      ],
      "metadata": {
        "id": "hm2y2S51MH4s"
      }
    },
    {
      "cell_type": "code",
      "source": [
        "### Draw a graph of the loss, which is the distance between\n",
        "# the predicted and actual values during training and validation.\n",
        "train_loss = history_1.history['loss']\n",
        "val_loss = history_1.history['val_loss']\n",
        "accuracy = history_1.history['accuracy']\n",
        "val_accuracy = history_1.history['val_accuracy']\n",
        "\n",
        "epochs = range(1, len(train_loss) + 1)\n",
        "\n",
        "fig, ax1 = plt.subplots()\n",
        "\n",
        "p1 = ax1.plot(epochs, train_loss, 'b', label='Training loss')\n",
        "p2 = ax1.plot(epochs, val_loss, 'orange', label='Validation loss')\n",
        "\n",
        "ax2 = ax1.twinx()\n",
        "\n",
        "p3 = ax2.plot(epochs, accuracy, 'r', label='Accuracy')\n",
        "p4 = ax2.plot(epochs, val_accuracy, 'g', label='Validation Accuracy')\n",
        "\n",
        "ax1.set_title('Training and validation loss')\n",
        "ax1.set_xlabel('Epochs')\n",
        "ax1.set_ylabel('Loss')\n",
        "ax2.set_ylabel('accuracy')\n",
        "ax2.set_ylim([0.8,1])\n",
        "\n",
        "lns = p1+p2+p3+p4\n",
        "labs = [l.get_label() for l in lns]\n",
        "ax1.legend(lns, labs, loc='lower left')\n",
        "\n",
        "plt.show()"
      ],
      "metadata": {
        "id": "DO5sw9BxMK5E",
        "colab": {
          "base_uri": "https://localhost:8080/",
          "height": 295
        },
        "outputId": "a2946d9a-86db-4cdd-abd6-6baa6e4894db"
      },
      "execution_count": 585,
      "outputs": [
        {
          "output_type": "display_data",
          "data": {
            "text/plain": [
              "<Figure size 432x288 with 2 Axes>"
            ],
            "image/png": "[encoded data removed]"
          },
          "metadata": {
            "needs_background": "light"
          }
        }
      ]
    },
    {
      "cell_type": "code",
      "source": [
        "# evaluate the keras model\n",
        "_, accuracy = model_1.evaluate(y_validate, x_validate)\n",
        "print('Accuracy: %.2f' % (accuracy*100))"
      ],
      "metadata": {
        "colab": {
          "base_uri": "https://localhost:8080/"
        },
        "id": "kZ6rMEUZvYZ-",
        "outputId": "f7bb0445-f7b3-4e54-d3d5-7994aa60595c"
      },
      "execution_count": 586,
      "outputs": [
        {
          "output_type": "stream",
          "name": "stdout",
          "text": [
            "625/625 [==============================] - 2s 2ms/step - loss: 5.8598e-04 - accuracy: 0.9890\n",
            "Accuracy: 98.90\n"
          ]
        }
      ]
    },
    {
      "cell_type": "code",
      "metadata": {
        "id": "i13eVIT3B9Mj",
        "outputId": "97a91d2d-65d4-4b9c-bb76-69dc0d82c243",
        "colab": {
          "base_uri": "https://localhost:8080/"
        }
      },
      "source": [
        "# Test a couple of waveforms\n",
        "# remember:\n",
        "#     y = waveforms\n",
        "#     x = truth parameters\n",
        "\n",
        "x_test = x_values[1]\n",
        "y_test = np.array(generateTemplate(position = int(x_test[0]*SCALE_POS), \n",
        "                                   pulse_length = int(x_test[1]*SCALE_WIDTH), \n",
        "                                   height=int(x_test[2]*SCALE_HEIGHT), \n",
        "                                   noise=0\n",
        "                                   )/SCALE_HEIGHT)\n",
        "\n",
        "# waveform needs to be reshaped to be fed into ANN\n",
        "y_test = y_test.reshape(1,128)\n",
        "\n",
        "# try, whether we can reconstruct the parameters x_test from the waveform y_test\n",
        "model_1.make_predict_function()\n",
        "x_test_pred = np.array(model_1.predict(y_test)[0])\n",
        "\n",
        "print(\"sample pulse created: \", x_test)\n",
        "print(\"ANN reconstructed:    \", x_test_pred)"
      ],
      "execution_count": 587,
      "outputs": [
        {
          "output_type": "stream",
          "name": "stdout",
          "text": [
            "sample pulse created:  [0.390625   0.5        0.97254902]\n",
            "ANN reconstructed:     [0.37948453 0.47619396 0.91966707]\n"
          ]
        }
      ]
    },
    {
      "cell_type": "markdown",
      "source": [
        "## Have a look at the reconstructed parameters\n",
        "\n",
        "Get some random pulses, and have a look how they are reconstructed by the network.\n"
      ],
      "metadata": {
        "id": "A0DU0ZLx59Z8"
      }
    },
    {
      "cell_type": "code",
      "source": [
        "# number of test waveforms\n",
        "TEST_SAMPLES = 1000"
      ],
      "metadata": {
        "id": "BDet8lS36gIz"
      },
      "execution_count": 588,
      "outputs": []
    },
    {
      "cell_type": "code",
      "source": [
        "waveforms = []        # generated waveforms\n",
        "orig_parameters = []  # parameters, which are used for the generation\n",
        "NN_parameters = []    # parameters, reconstructed by the NN\n",
        "\n",
        "# vary the parameters to have a look a the performance outside the trained \n",
        "# parameter boundaries.\n",
        "parameter_variation = 0.1\n",
        "\n",
        "# increase the range of parameters in order to see, what is happening\n",
        "T_width    = ( P_width[0]    * (1 - parameter_variation) , P_width[1]    * (1 + parameter_variation) )\n",
        "T_position = ( P_position[0] * (1 - parameter_variation) , P_position[1] * (1 + parameter_variation) )\n",
        "T_height   = ( P_height[0]   * (1 - parameter_variation) , P_height[1]   * (1 + parameter_variation) )\n",
        "\n",
        "# generate the waveforms\n",
        "for i in range(TEST_SAMPLES):\n",
        "  # use random settings\n",
        "  width = np.random.randint( *T_width )\n",
        "  position = np.random.randint( *T_position )\n",
        "  height = np.random.randint( *T_height )\n",
        "\n",
        "  waveforms.append( np.array(generateTemplate(position = position, pulse_length = width, height=height, noise=noise, offset=offset) / SCALE_HEIGHT ) )\n",
        "  orig_parameters.append( (width/SCALE_WIDTH, position/SCALE_POS, height/SCALE_HEIGHT) )"
      ],
      "metadata": {
        "id": "qvu48FbE6UTm"
      },
      "execution_count": 589,
      "outputs": []
    },
    {
      "cell_type": "code",
      "source": [
        "for i in range(TEST_SAMPLES):\n",
        "  # waveform needs to be reshaped to be fed into ANN\n",
        "  waveform = waveforms[i].reshape(1,128)\n",
        "  NN_parameters.append( np.array( model_1.predict(waveform)[0]) )\n"
      ],
      "metadata": {
        "id": "IXDLAkyy6lrh"
      },
      "execution_count": 590,
      "outputs": []
    },
    {
      "cell_type": "markdown",
      "source": [
        "Plot the distributions"
      ],
      "metadata": {
        "id": "GI7iIFsN7LMw"
      }
    },
    {
      "cell_type": "code",
      "source": [
        "plot_x = [k[0] for k in orig_parameters]\n",
        "plot_y = [k[0] for k in NN_parameters]\n",
        "plt.hist2d(plot_x, plot_y, bins=32, cmin=1, cmap='summer')\n",
        "plt.vlines(np.array(P_width),ymin=0, ymax=100)\n",
        "plt.plot( [np.min(plot_x), np.max(plot_x)], [np.min(plot_x), np.max(plot_x)])\n",
        "plt.colorbar()\n",
        "plt.title(\"Colab Width\")\n",
        "plt.ylabel(\"NN parameter\")\n",
        "plt.xlabel(\"truth parameter\")\n",
        "plt.show()"
      ],
      "metadata": {
        "colab": {
          "base_uri": "https://localhost:8080/",
          "height": 295
        },
        "id": "4abhDols7ORo",
        "outputId": "4f34e388-0de7-4c2b-c9f5-e3b1126c8f9a"
      },
      "execution_count": 591,
      "outputs": [
        {
          "output_type": "display_data",
          "data": {
            "text/plain": [
              "<Figure size 432x288 with 2 Axes>"
            ],
            "image/png": "[encoded data removed]"
          },
          "metadata": {
            "needs_background": "light"
          }
        }
      ]
    },
    {
      "cell_type": "code",
      "source": [
        "plot_x = [k[1] for k in orig_parameters]\n",
        "plot_y = [k[1] for k in NN_parameters]\n",
        "plt.hist2d(plot_x, plot_y, bins=32, cmin=1, cmap='summer')\n",
        "plt.vlines(np.array(P_position),ymin=0, ymax=100)\n",
        "plt.plot( [np.min(plot_x), np.max(plot_x)], [np.min(plot_x), np.max(plot_x)])\n",
        "plt.colorbar()\n",
        "plt.title(\"Colab Postition\")\n",
        "plt.ylabel(\"NN parameter\")\n",
        "plt.xlabel(\"truth parameter\")\n",
        "plt.show()"
      ],
      "metadata": {
        "colab": {
          "base_uri": "https://localhost:8080/",
          "height": 295
        },
        "id": "ql9DsEfg72Px",
        "outputId": "13e42c40-d7f0-41b0-9ef4-01ae17d7a613"
      },
      "execution_count": 592,
      "outputs": [
        {
          "output_type": "display_data",
          "data": {
            "text/plain": [
              "<Figure size 432x288 with 2 Axes>"
            ],
            "image/png": "[encoded data removed]"
          },
          "metadata": {
            "needs_background": "light"
          }
        }
      ]
    },
    {
      "cell_type": "code",
      "source": [
        "plot_x = [k[2] for k in orig_parameters]\n",
        "plot_y = [k[2] for k in NN_parameters]\n",
        "plt.hist2d(plot_x, plot_y, bins=32, cmin=1, cmap='summer')\n",
        "plt.vlines(np.array(P_height),ymin=0, ymax=1000)\n",
        "plt.plot( [np.min(plot_x), np.max(plot_x)], [np.min(plot_x), np.max(plot_x)])\n",
        "plt.colorbar()\n",
        "plt.title(\"Colab Height\")\n",
        "plt.ylabel(\"NN parameter\")\n",
        "plt.xlabel(\"truth parameter\")\n",
        "plt.show()"
      ],
      "metadata": {
        "colab": {
          "base_uri": "https://localhost:8080/",
          "height": 295
        },
        "id": "4Co7DGIk740X",
        "outputId": "c7b3eac2-0510-493c-c87a-a2e3d26d92f4"
      },
      "execution_count": 593,
      "outputs": [
        {
          "output_type": "display_data",
          "data": {
            "text/plain": [
              "<Figure size 432x288 with 2 Axes>"
            ],
            "image/png": "[encoded data removed]"
          },
          "metadata": {
            "needs_background": "light"
          }
        }
      ]
    },
    {
      "cell_type": "markdown",
      "source": [
        "# What happens at zero input?\n",
        "What if the input array is all zero?"
      ],
      "metadata": {
        "id": "GQCZ_TBbD2cd"
      }
    },
    {
      "cell_type": "code",
      "source": [
        "# waveform needs to be reshaped to be fed into ANN\n",
        "waveform = np.zeros(128)\n",
        "waveform = waveform.reshape(1,128)\n",
        "print( model_1.predict(waveform)[0] )"
      ],
      "metadata": {
        "id": "bFAuP2x7EAWE",
        "colab": {
          "base_uri": "https://localhost:8080/"
        },
        "outputId": "d29458e7-4147-435a-e18c-3fd4e72fad88"
      },
      "execution_count": 594,
      "outputs": [
        {
          "output_type": "stream",
          "name": "stdout",
          "text": [
            "[0.3023837  0.56414634 0.01720621]\n"
          ]
        }
      ]
    },
    {
      "cell_type": "markdown",
      "source": [
        "# Export to STM32"
      ],
      "metadata": {
        "id": "rB2GEVaYSFSn"
      }
    },
    {
      "cell_type": "markdown",
      "source": [
        "following:\n",
        "This [tutorial](https://www.digikey.de/en/maker/projects/tinyml-getting-started-with-stm32-x-cube-ai/f94e1c8bfc1e4b6291d0f672d780d2c0) from DigiKey "
      ],
      "metadata": {
        "id": "NMQ5nDGrXHo_"
      }
    },
    {
      "cell_type": "code",
      "source": [
        "# settings\n",
        "tflite_model_name = 'pulse_reco'  # Will be given .tflite suffix\n",
        "c_model_name = 'pulse_reco'       # Will be given .h suffix"
      ],
      "metadata": {
        "id": "aL0G5NQ8YULj"
      },
      "execution_count": 595,
      "outputs": []
    },
    {
      "cell_type": "code",
      "source": [
        "# Convert Keras model to a tflite model\n",
        "converter = tf.lite.TFLiteConverter.from_keras_model(model_1)\n",
        "converter.optimizations = [tf.lite.Optimize.DEFAULT]  # option OPTIMIZE_FOR_SIZE is deprecated\n",
        "tflite_model = converter.convert()\n",
        "\n",
        "open(tflite_model_name+'.tflite', 'wb').write(tflite_model)"
      ],
      "metadata": {
        "colab": {
          "base_uri": "https://localhost:8080/"
        },
        "id": "aRqSNF9LXy-4",
        "outputId": "46725e5e-8568-414d-c480-8d31943028bd"
      },
      "execution_count": 596,
      "outputs": [
        {
          "output_type": "stream",
          "name": "stdout",
          "text": [
            "INFO:tensorflow:Assets written to: /tmp/tmpbqpiypbe/assets\n"
          ]
        },
        {
          "output_type": "stream",
          "name": "stderr",
          "text": [
            "INFO:tensorflow:Assets written to: /tmp/tmpbqpiypbe/assets\n",
            "WARNING:absl:Buffer deduplication procedure will be skipped when flatbuffer library is not properly loaded\n"
          ]
        },
        {
          "output_type": "execute_result",
          "data": {
            "text/plain": [
              "17344"
            ]
          },
          "metadata": {},
          "execution_count": 596
        }
      ]
    },
    {
      "cell_type": "markdown",
      "source": [
        "For usage inside the [STM32Cube.AI](https://www.st.com/content/st_com/en/support/learning/stm32-education/stm32-moocs/Introduction_to_STM32CubeAI_MOOC.html) it is sufficient to just have the tensorflow light model. The special export seems not be needed."
      ],
      "metadata": {
        "id": "oF93jw-v-FMP"
      }
    },
    {
      "cell_type": "markdown",
      "source": [
        "We have to define a special function, which exports our data into a H-file, which can be later used and included into our microcontroller code.\n",
        "\n",
        "The function is from https://gist.github.com/ShawnHymel/79237fe6aee5a3653c497d879f746c0c"
      ],
      "metadata": {
        "id": "tQG-2XJIZkFU"
      }
    },
    {
      "cell_type": "markdown",
      "source": [
        "## Test the TFlite model"
      ],
      "metadata": {
        "id": "gt7YY5yMGLrD"
      }
    },
    {
      "cell_type": "code",
      "source": [
        "# Load the TFLite model and allocate tensors.\n",
        "interpreter = tf.lite.Interpreter(model_path=tflite_model_name+\".tflite\")\n",
        "interpreter.allocate_tensors()\n",
        "\n",
        "# Get input and output tensors.\n",
        "input_details = interpreter.get_input_details()\n",
        "output_details = interpreter.get_output_details()\n",
        "\n",
        "# Test the model on random input data.\n",
        "input_shape = input_details[0]['shape']\n",
        "\n",
        "input_data = np.array( y_test, dtype=np.float32)\n",
        "interpreter.set_tensor(input_details[0]['index'], input_data)\n",
        "\n",
        "interpreter.invoke()\n",
        "\n",
        "output_data = interpreter.get_tensor(output_details[0]['index'])[0]\n",
        "\n",
        "print(\"sample pulse created:    \", x_test)\n",
        "print(\"TFlite reconstructed:    \", output_data)"
      ],
      "metadata": {
        "colab": {
          "base_uri": "https://localhost:8080/"
        },
        "id": "a_k8NQt_GRop",
        "outputId": "850e73cb-30f8-42ff-bbdc-557d9187d5bd"
      },
      "execution_count": 597,
      "outputs": [
        {
          "output_type": "stream",
          "name": "stdout",
          "text": [
            "sample pulse created:     [0.390625   0.5        0.97254902]\n",
            "TFlite reconstructed:     [0.37550986 0.47450837 0.9166776 ]\n"
          ]
        }
      ]
    }
  ]
}