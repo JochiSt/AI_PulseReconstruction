{
  "nbformat": 4,
  "nbformat_minor": 0,
  "metadata": {
    "colab": {
      "name": "TestSTM32_AI.ipynb",
      "provenance": [],
      "collapsed_sections": [],
      "toc_visible": true,
      "authorship_tag": "ABX9TyOylp418hGaGAzqiJqzemPu",
      "include_colab_link": true
    },
    "kernelspec": {
      "name": "python3",
      "display_name": "Python 3"
    },
    "language_info": {
      "name": "python"
    }
  },
  "cells": [
    {
      "cell_type": "markdown",
      "metadata": {
        "id": "view-in-github",
        "colab_type": "text"
      },
      "source": [
        "<a href=\"https://colab.research.google.com/github/JochiSt/AI_PulseReconstruction/blob/main/TestSTM32_AI.ipynb\" target=\"_parent\"><img src=\"https://colab.research.google.com/assets/colab-badge.svg\" alt=\"Open In Colab\"/></a>"
      ]
    },
    {
      "cell_type": "markdown",
      "source": [
        "# Pulse recognition AI\n",
        "\n",
        "first all the imports"
      ],
      "metadata": {
        "id": "brM0YAG3Vcen"
      }
    },
    {
      "cell_type": "code",
      "execution_count": 2,
      "metadata": {
        "id": "dW80rxgzVZ8z"
      },
      "outputs": [],
      "source": [
        "import numpy as np\n",
        "import matplotlib.pyplot as plt\n",
        "from matplotlib.colors import LogNorm"
      ]
    },
    {
      "cell_type": "markdown",
      "source": [
        "## Generate template"
      ],
      "metadata": {
        "id": "XUxegHb0V0qN"
      }
    },
    {
      "cell_type": "code",
      "source": [
        "TOTAL_SAMPLES = 128\n",
        "RISING_POINTS = 4\n",
        "\n",
        "def generateTemplate(position = 0, pulse_length = 32, height=1, noise=0):\n",
        "\n",
        "  assert TOTAL_SAMPLES - pulse_length - position - RISING_POINTS * 2 > 0\n",
        "\n",
        "  # zeroes at front of the pulse\n",
        "  template = np.zeros(position)\n",
        "\n",
        "  # create rising edge\n",
        "  template = np.append(template, np.linspace(0,1,RISING_POINTS, endpoint=False))\n",
        "\n",
        "  # high part of the pulse\n",
        "  template = np.append(template, np.ones(pulse_length))\n",
        "\n",
        "  # create falling edge\n",
        "  template = np.append(template, np.linspace(1,0,RISING_POINTS, endpoint=False))\n",
        "\n",
        "  # zeroes after the pulse\n",
        "  template = np.append(template, np.zeros( TOTAL_SAMPLES - pulse_length - position - 2*RISING_POINTS))\n",
        "\n",
        "  # multiply by the height to get the right amplitude\n",
        "  template *= height\n",
        "\n",
        "  # add some noise\n",
        "  template  += noise * np.random.randn(*template.shape)\n",
        "\n",
        "  # convert to integer\n",
        "  template = template.astype(int)\n",
        "\n",
        "  return template\n",
        "\n",
        "print(\"template length: \", len(generateTemplate()))"
      ],
      "metadata": {
        "colab": {
          "base_uri": "https://localhost:8080/"
        },
        "id": "RPOJ8P9jWBRa",
        "outputId": "84875459-9902-47f1-adeb-f5f13c8f6992"
      },
      "execution_count": 3,
      "outputs": [
        {
          "output_type": "stream",
          "name": "stdout",
          "text": [
            "template length:  128\n"
          ]
        }
      ]
    },
    {
      "cell_type": "markdown",
      "source": [
        "Have a look at the template visually"
      ],
      "metadata": {
        "id": "I1PFw1tzV8kx"
      }
    },
    {
      "cell_type": "code",
      "source": [
        "plt.plot(generateTemplate(position = 32, pulse_length=32, height=128), 'b.')\n",
        "plt.plot(generateTemplate(position = 16, pulse_length=64, height=128), 'r.')\n",
        "plt.show()"
      ],
      "metadata": {
        "colab": {
          "base_uri": "https://localhost:8080/",
          "height": 265
        },
        "id": "L1VUYDhUWw9t",
        "outputId": "83d3f6c9-6ff1-41e2-994c-99453a0666e9"
      },
      "execution_count": 4,
      "outputs": [
        {
          "output_type": "display_data",
          "data": {
            "text/plain": [
              "<Figure size 432x288 with 1 Axes>"
            ],
            "image/png": "[encoded data removed]"
          },
          "metadata": {
            "needs_background": "light"
          }
        }
      ]
    },
    {
      "cell_type": "markdown",
      "source": [
        "add some noise, and maybe shift the position\n",
        "\n",
        "\n",
        "\n"
      ],
      "metadata": {
        "id": "kYBulwl2XGvg"
      }
    },
    {
      "cell_type": "code",
      "source": [
        "# Plot our data\n",
        "plt.plot(generateTemplate(height=128, noise=1), 'b.')\n",
        "plt.show()"
      ],
      "metadata": {
        "id": "ouyegrmBXGJg",
        "colab": {
          "base_uri": "https://localhost:8080/",
          "height": 265
        },
        "outputId": "b6f4ed3f-adf1-4b20-e1c4-d38b06cd3a5c"
      },
      "execution_count": 5,
      "outputs": [
        {
          "output_type": "display_data",
          "data": {
            "text/plain": [
              "<Figure size 432x288 with 1 Axes>"
            ],
            "image/png": "[encoded data removed]"
          },
          "metadata": {
            "needs_background": "light"
          }
        }
      ]
    },
    {
      "cell_type": "markdown",
      "source": [
        "## Create Templates for recognision\n",
        "\n",
        "Generate a couple of templates, which have a pulse in them, and some without any data"
      ],
      "metadata": {
        "id": "u1emwvE7ogUq"
      }
    },
    {
      "cell_type": "code",
      "source": [
        "for i in range(10):\n",
        "  width = np.random.randint(16, 64)               # width of 16 to 64\n",
        "  position = np.random.randint(0, high=96-width) # arbitrary position\n",
        "  noise = np.random.randint(1,30)/10.             # 0.1 to 3 LSB noise\n",
        "  height = np.random.randint(32,128)              # pulse height of 32 to 128\n",
        "\n",
        "  print(position, width, noise, height)\n",
        "  plt.plot(generateTemplate(position = position, pulse_length = width, height=height, noise=noise))\n",
        "\n",
        "plt.show()"
      ],
      "metadata": {
        "colab": {
          "base_uri": "https://localhost:8080/",
          "height": 449
        },
        "id": "1bzxxYb7odBS",
        "outputId": "9ab583fe-0b11-48c3-f6f1-6fc7c752d4a6"
      },
      "execution_count": 6,
      "outputs": [
        {
          "output_type": "stream",
          "name": "stdout",
          "text": [
            "18 48 2.6 36\n",
            "54 19 2.8 116\n",
            "19 24 1.8 116\n",
            "10 61 1.3 73\n",
            "29 37 2.3 122\n",
            "33 57 2.6 34\n",
            "2 43 0.2 42\n",
            "31 49 0.2 33\n",
            "12 43 0.1 126\n",
            "4 39 2.4 80\n"
          ]
        },
        {
          "output_type": "display_data",
          "data": {
            "text/plain": [
              "<Figure size 432x288 with 1 Axes>"
            ],
            "image/png": "[encoded data removed]"
          },
          "metadata": {
            "needs_background": "light"
          }
        }
      ]
    },
    {
      "cell_type": "markdown",
      "source": [
        "# Building the ANN\n"
      ],
      "metadata": {
        "id": "gEwEaXGCzATx"
      }
    },
    {
      "cell_type": "markdown",
      "source": [
        "### Purpose of the ANN\n",
        "We want to do Pattern Recognition, based on the waveforms shown above.\n",
        "\n",
        "The output parameters, which we want to reconstruct are:\n",
        "*   Width\n",
        "*   Position\n",
        "*   height\n"
      ],
      "metadata": {
        "id": "xAJs9gcpMi9V"
      }
    },
    {
      "cell_type": "markdown",
      "source": [
        "Starting with importing all things, which we need for creating a model"
      ],
      "metadata": {
        "id": "ffHEzdBezI__"
      }
    },
    {
      "cell_type": "code",
      "source": [
        "# TensorFlow is an open source machine learning library\n",
        "import tensorflow as tf\n",
        "# Keras is TensorFlow's high-level API for deep learning\n",
        "from tensorflow import keras"
      ],
      "metadata": {
        "id": "AVbyQZoBzNxw"
      },
      "execution_count": 7,
      "outputs": []
    },
    {
      "cell_type": "code",
      "source": [
        "# number of samples for training, testing etc.\n",
        "SAMPLES = 10000"
      ],
      "metadata": {
        "id": "_2mfaOUkzo12"
      },
      "execution_count": 8,
      "outputs": []
    },
    {
      "cell_type": "markdown",
      "source": [
        "## Generate the samples\n",
        "We want to do Pattern recognition, so we have to link the waveforms to the input parameters."
      ],
      "metadata": {
        "id": "UCMepv3tzyM9"
      }
    },
    {
      "cell_type": "code",
      "source": [
        "# parameters for template generation\n",
        "P_width = (16,32)\n",
        "P_position = (16,24)\n",
        "P_height = (32, 128)"
      ],
      "metadata": {
        "id": "-g8CSmkVHUvM"
      },
      "execution_count": 9,
      "outputs": []
    },
    {
      "cell_type": "code",
      "source": [
        "# use fixed value for noise (1st try)\n",
        "noise = 1 \n",
        "\n",
        "y_values = []\n",
        "x_values = []\n",
        "\n",
        "# generate the waveforms\n",
        "for i in range(SAMPLES):\n",
        "  # use random settings\n",
        "  width = np.random.randint( *P_width )       # width\n",
        "  position = np.random.randint( *P_position ) # limit position into a certain window\n",
        "  height = np.random.randint( *P_height )     # pulse height\n",
        "\n",
        "  x_values.append( (width, position, height) )\n",
        "  y_values.append( generateTemplate(position = position, pulse_length = width, height=height, noise=noise) )\n",
        "\n",
        "# debug printouts\n",
        "#print(x_values[:2])\n",
        "#print(y_values[:2])"
      ],
      "metadata": {
        "id": "6uUa9b2pzviJ"
      },
      "execution_count": 10,
      "outputs": []
    },
    {
      "cell_type": "markdown",
      "source": [
        "### Look at the training data\n",
        "Just make a 2D histogram of all templates."
      ],
      "metadata": {
        "id": "M54DYG8PLBYg"
      }
    },
    {
      "cell_type": "code",
      "source": [
        "if True:\n",
        "  plot_x = [ np.arange(128) for i in range(len(y_values)) ]\n",
        "  plot_x = np.array(plot_x)\n",
        "  plot_x = plot_x.flatten()\n",
        "  plot_y = np.array(y_values)\n",
        "  plot_y = plot_y.flatten()\n",
        "  plt.hist2d(plot_x, plot_y, bins=128, norm=LogNorm())\n",
        "  plt.show()"
      ],
      "metadata": {
        "colab": {
          "base_uri": "https://localhost:8080/",
          "height": 265
        },
        "id": "oc_SbOCaLKKe",
        "outputId": "260eea07-b84f-41d6-c056-3d2a950b8321"
      },
      "execution_count": 11,
      "outputs": [
        {
          "output_type": "display_data",
          "data": {
            "text/plain": [
              "<Figure size 432x288 with 1 Axes>"
            ],
            "image/png": "[encoded data removed]"
          },
          "metadata": {
            "needs_background": "light"
          }
        }
      ]
    },
    {
      "cell_type": "markdown",
      "source": [
        "## Split the waveforms into Training, Testing and Validation"
      ],
      "metadata": {
        "id": "uxBiOKO90JG_"
      }
    },
    {
      "cell_type": "code",
      "source": [
        "# We'll use 60% of our data for training and 20% for testing. The remaining 20%\n",
        "# will be used for validation. Calculate the indices of each section.\n",
        "TRAIN_SPLIT =  int(0.6 * SAMPLES)\n",
        "TEST_SPLIT = int(0.2 * SAMPLES + TRAIN_SPLIT)\n",
        "print(\"using %d points for training and %d points for testing\"%(TRAIN_SPLIT, TEST_SPLIT))\n",
        "\n",
        "# convert data into numpy arrays\n",
        "y_values = np.array(y_values) # parameters\n",
        "x_values = np.array(x_values) # waveforms\n",
        "\n",
        "# Use np.split to chop our data into three parts.\n",
        "# The second argument to np.split is an array of indices where the data will be\n",
        "# split. We provide two indices, so the data will be divided into three chunks.\n",
        "x_train, x_test, x_validate = np.split(x_values, [TRAIN_SPLIT, TEST_SPLIT])\n",
        "y_train, y_test, y_validate = np.split(y_values, [TRAIN_SPLIT, TEST_SPLIT])\n",
        "\n",
        "# Double check that our splits add up correctly\n",
        "assert (len(x_train) + len(x_validate) + len(x_test) ) ==  SAMPLES"
      ],
      "metadata": {
        "id": "_gxWfkRezVf3",
        "colab": {
          "base_uri": "https://localhost:8080/"
        },
        "outputId": "aa03074c-186f-4b8e-8c28-dbeade78398f"
      },
      "execution_count": 12,
      "outputs": [
        {
          "output_type": "stream",
          "name": "stdout",
          "text": [
            "using 6000 points for training and 8000 points for testing\n"
          ]
        }
      ]
    },
    {
      "cell_type": "markdown",
      "source": [
        "## Create the ANN"
      ],
      "metadata": {
        "id": "tfIC4_-l0Cc4"
      }
    },
    {
      "cell_type": "code",
      "source": [
        "inputs = keras.Input(shape=(128,), name=\"waveform_input\")\n",
        "\n",
        "layer_cnt=0\n",
        "x = keras.layers.Dense(64, name=\"layer_%d\"%(layer_cnt))(inputs)\n",
        "layer_cnt+=1\n",
        "\n",
        "x = keras.layers.Dense(32, name=\"layer_%d\"%(layer_cnt))(x)\n",
        "layer_cnt+=1\n",
        "\n",
        "# x = keras.layers.Dense(32, name=\"layer_%d\"%(layer_cnt))(x)\n",
        "# layer_cnt+=1\n",
        "\n",
        "x = keras.layers.Dense(32,  name=\"layer_%d\"%(layer_cnt))(x)\n",
        "layer_cnt+=1\n",
        "\n",
        "# final layer for classification\n",
        "outputs = keras.layers.Dense(3, name=\"classification\")(x)\n",
        "\n",
        "model_1 = keras.Model(inputs=inputs, outputs=outputs)\n",
        "model_1.summary()\n",
        "\n",
        "# Compile the model using the standard 'adam' optimizer and the mean squared error or 'mse' loss function for regression.\n",
        "model_1.compile(optimizer='adam', loss='mse', metrics=['mae'])"
      ],
      "metadata": {
        "id": "FbTg1F3s0BTe",
        "colab": {
          "base_uri": "https://localhost:8080/"
        },
        "outputId": "125d2bd7-e682-4c3d-89be-8f39240ea478"
      },
      "execution_count": 13,
      "outputs": [
        {
          "output_type": "stream",
          "name": "stdout",
          "text": [
            "Model: \"model\"\n",
            "_________________________________________________________________\n",
            " Layer (type)                Output Shape              Param #   \n",
            "=================================================================\n",
            " waveform_input (InputLayer)  [(None, 128)]            0         \n",
            "                                                                 \n",
            " layer_0 (Dense)             (None, 64)                8256      \n",
            "                                                                 \n",
            " layer_1 (Dense)             (None, 32)                2080      \n",
            "                                                                 \n",
            " layer_2 (Dense)             (None, 32)                1056      \n",
            "                                                                 \n",
            " classification (Dense)      (None, 3)                 99        \n",
            "                                                                 \n",
            "=================================================================\n",
            "Total params: 11,491\n",
            "Trainable params: 11,491\n",
            "Non-trainable params: 0\n",
            "_________________________________________________________________\n"
          ]
        }
      ]
    },
    {
      "cell_type": "markdown",
      "source": [
        "## Train the model"
      ],
      "metadata": {
        "id": "hjz2ghXbL9Ok"
      }
    },
    {
      "cell_type": "code",
      "source": [
        "# Train the model on our training data while validating on our validation set\n",
        "# remember:\n",
        "#     y = waveforms\n",
        "#     x = truth parameters\n",
        "# just do some trainings to see, whether this structure works or not\n",
        "\n",
        "history_1 = model_1.fit(y_train, x_train, epochs=4, batch_size=25, validation_data=(y_validate, x_validate))"
      ],
      "metadata": {
        "colab": {
          "base_uri": "https://localhost:8080/"
        },
        "id": "Zsx72tmvxNnj",
        "outputId": "10358df5-dafb-4a13-9a82-2e5e0b218458"
      },
      "execution_count": 14,
      "outputs": [
        {
          "output_type": "stream",
          "name": "stdout",
          "text": [
            "Epoch 1/4\n",
            "240/240 [==============================] - 1s 3ms/step - loss: 106.2825 - mae: 6.4440 - val_loss: 35.6638 - val_mae: 4.4239\n",
            "Epoch 2/4\n",
            "240/240 [==============================] - 1s 2ms/step - loss: 36.3147 - mae: 4.5363 - val_loss: 33.9434 - val_mae: 4.2711\n",
            "Epoch 3/4\n",
            "240/240 [==============================] - 1s 2ms/step - loss: 31.4612 - mae: 4.1636 - val_loss: 33.1164 - val_mae: 4.5955\n",
            "Epoch 4/4\n",
            "240/240 [==============================] - 1s 2ms/step - loss: 27.5363 - mae: 3.8823 - val_loss: 24.6249 - val_mae: 3.7940\n"
          ]
        }
      ]
    },
    {
      "cell_type": "code",
      "source": [
        "# fully train the network\n",
        "history_1 = model_1.fit(y_train, x_train, epochs=500, batch_size=50, validation_data=(y_validate, x_validate))\n",
        "\n",
        "# Save the model to disk\n",
        "!mkdir -p saved_model\n",
        "model_1.save('saved_model/STM32_AI_Test')"
      ],
      "metadata": {
        "colab": {
          "base_uri": "https://localhost:8080/"
        },
        "id": "xMQfeuZ_L7QU",
        "outputId": "b5f13b50-d703-4b89-bbc2-869ab38c23e4"
      },
      "execution_count": 15,
      "outputs": [
        {
          "output_type": "stream",
          "name": "stdout",
          "text": [
            "Epoch 1/500\n",
            "120/120 [==============================] - 1s 5ms/step - loss: 21.7459 - mae: 3.3948 - val_loss: 20.5419 - val_mae: 3.3269\n",
            "Epoch 2/500\n",
            "120/120 [==============================] - 0s 4ms/step - loss: 20.1545 - mae: 3.2910 - val_loss: 18.0344 - val_mae: 3.0480\n",
            "Epoch 3/500\n",
            "120/120 [==============================] - 0s 4ms/step - loss: 16.8365 - mae: 2.9809 - val_loss: 18.9608 - val_mae: 3.1394\n",
            "Epoch 4/500\n",
            "120/120 [==============================] - 0s 4ms/step - loss: 16.5926 - mae: 2.9763 - val_loss: 14.0972 - val_mae: 2.8272\n",
            "Epoch 5/500\n",
            "120/120 [==============================] - 0s 3ms/step - loss: 12.5731 - mae: 2.5540 - val_loss: 11.9921 - val_mae: 2.6033\n",
            "Epoch 6/500\n",
            "120/120 [==============================] - 0s 4ms/step - loss: 9.0571 - mae: 2.1403 - val_loss: 7.0059 - val_mae: 1.8658\n",
            "Epoch 7/500\n",
            "120/120 [==============================] - 0s 4ms/step - loss: 8.5017 - mae: 2.0586 - val_loss: 7.6124 - val_mae: 1.9090\n",
            "Epoch 8/500\n",
            "120/120 [==============================] - 0s 4ms/step - loss: 6.1800 - mae: 1.7564 - val_loss: 9.9864 - val_mae: 2.3018\n",
            "Epoch 9/500\n",
            "120/120 [==============================] - 0s 3ms/step - loss: 5.6787 - mae: 1.6733 - val_loss: 3.6948 - val_mae: 1.3654\n",
            "Epoch 10/500\n",
            "120/120 [==============================] - 0s 3ms/step - loss: 3.4632 - mae: 1.3171 - val_loss: 3.2261 - val_mae: 1.2856\n",
            "Epoch 11/500\n",
            "120/120 [==============================] - 0s 3ms/step - loss: 3.4663 - mae: 1.3306 - val_loss: 2.4216 - val_mae: 1.1310\n",
            "Epoch 12/500\n",
            "120/120 [==============================] - 0s 3ms/step - loss: 3.7508 - mae: 1.3659 - val_loss: 5.0534 - val_mae: 1.7648\n",
            "Epoch 13/500\n",
            "120/120 [==============================] - 1s 4ms/step - loss: 3.0331 - mae: 1.2611 - val_loss: 1.8775 - val_mae: 1.0051\n",
            "Epoch 14/500\n",
            "120/120 [==============================] - 0s 4ms/step - loss: 2.3091 - mae: 1.0914 - val_loss: 2.1905 - val_mae: 1.0761\n",
            "Epoch 15/500\n",
            "120/120 [==============================] - 1s 4ms/step - loss: 2.4573 - mae: 1.1207 - val_loss: 3.1929 - val_mae: 1.2771\n",
            "Epoch 16/500\n",
            "120/120 [==============================] - 0s 3ms/step - loss: 6.1044 - mae: 1.6512 - val_loss: 1.7442 - val_mae: 0.9447\n",
            "Epoch 17/500\n",
            "120/120 [==============================] - 1s 4ms/step - loss: 2.3958 - mae: 1.1008 - val_loss: 3.5024 - val_mae: 1.4150\n",
            "Epoch 18/500\n",
            "120/120 [==============================] - 0s 3ms/step - loss: 2.4046 - mae: 1.1178 - val_loss: 2.4972 - val_mae: 1.1601\n",
            "Epoch 19/500\n",
            "120/120 [==============================] - 0s 3ms/step - loss: 2.1930 - mae: 1.0685 - val_loss: 1.8341 - val_mae: 0.9674\n",
            "Epoch 20/500\n",
            "120/120 [==============================] - 0s 4ms/step - loss: 2.0175 - mae: 1.0275 - val_loss: 1.6215 - val_mae: 0.9392\n",
            "Epoch 21/500\n",
            "120/120 [==============================] - 1s 4ms/step - loss: 1.9627 - mae: 1.0170 - val_loss: 1.7416 - val_mae: 0.9957\n",
            "Epoch 22/500\n",
            "120/120 [==============================] - 0s 4ms/step - loss: 2.5548 - mae: 1.1218 - val_loss: 6.0215 - val_mae: 1.9416\n",
            "Epoch 23/500\n",
            "120/120 [==============================] - 0s 4ms/step - loss: 2.2433 - mae: 1.0403 - val_loss: 1.3481 - val_mae: 0.8152\n",
            "Epoch 24/500\n",
            "120/120 [==============================] - 1s 7ms/step - loss: 2.8643 - mae: 1.1747 - val_loss: 1.5828 - val_mae: 0.9283\n",
            "Epoch 25/500\n",
            "120/120 [==============================] - 0s 4ms/step - loss: 2.1648 - mae: 1.0534 - val_loss: 1.5798 - val_mae: 0.8912\n",
            "Epoch 26/500\n",
            "120/120 [==============================] - 1s 6ms/step - loss: 1.8274 - mae: 0.9633 - val_loss: 1.2950 - val_mae: 0.7904\n",
            "Epoch 27/500\n",
            "120/120 [==============================] - 1s 5ms/step - loss: 1.9053 - mae: 1.0027 - val_loss: 1.3790 - val_mae: 0.8235\n",
            "Epoch 28/500\n",
            "120/120 [==============================] - 1s 4ms/step - loss: 1.7899 - mae: 0.9602 - val_loss: 2.0542 - val_mae: 1.0668\n",
            "Epoch 29/500\n",
            "120/120 [==============================] - 1s 5ms/step - loss: 1.9217 - mae: 0.9911 - val_loss: 2.1291 - val_mae: 1.1229\n",
            "Epoch 30/500\n",
            "120/120 [==============================] - 1s 4ms/step - loss: 1.8983 - mae: 0.9904 - val_loss: 2.8387 - val_mae: 1.2597\n",
            "Epoch 31/500\n",
            "120/120 [==============================] - 0s 3ms/step - loss: 1.6711 - mae: 0.9245 - val_loss: 1.2838 - val_mae: 0.7801\n",
            "Epoch 32/500\n",
            "120/120 [==============================] - 0s 3ms/step - loss: 2.3349 - mae: 1.0728 - val_loss: 1.8328 - val_mae: 0.9939\n",
            "Epoch 33/500\n",
            "120/120 [==============================] - 0s 4ms/step - loss: 2.1338 - mae: 1.0440 - val_loss: 1.2861 - val_mae: 0.7802\n",
            "Epoch 34/500\n",
            "120/120 [==============================] - 1s 4ms/step - loss: 2.2371 - mae: 1.0618 - val_loss: 2.4079 - val_mae: 1.1934\n",
            "Epoch 35/500\n",
            "120/120 [==============================] - 1s 5ms/step - loss: 2.3230 - mae: 1.0741 - val_loss: 2.2290 - val_mae: 1.0177\n",
            "Epoch 36/500\n",
            "120/120 [==============================] - 1s 4ms/step - loss: 2.0267 - mae: 1.0246 - val_loss: 1.2381 - val_mae: 0.7599\n",
            "Epoch 37/500\n",
            "120/120 [==============================] - 1s 5ms/step - loss: 1.4507 - mae: 0.8523 - val_loss: 1.4224 - val_mae: 0.8634\n",
            "Epoch 38/500\n",
            "120/120 [==============================] - 1s 4ms/step - loss: 1.8017 - mae: 0.9510 - val_loss: 2.3020 - val_mae: 1.1329\n",
            "Epoch 39/500\n",
            "120/120 [==============================] - 1s 5ms/step - loss: 2.0113 - mae: 1.0273 - val_loss: 1.5264 - val_mae: 0.9013\n",
            "Epoch 40/500\n",
            "120/120 [==============================] - 1s 5ms/step - loss: 1.7778 - mae: 0.9456 - val_loss: 1.3750 - val_mae: 0.8250\n",
            "Epoch 41/500\n",
            "120/120 [==============================] - 1s 4ms/step - loss: 1.8804 - mae: 0.9677 - val_loss: 1.4226 - val_mae: 0.8840\n",
            "Epoch 42/500\n",
            "120/120 [==============================] - 1s 4ms/step - loss: 1.7835 - mae: 0.9503 - val_loss: 1.4501 - val_mae: 0.8640\n",
            "Epoch 43/500\n",
            "120/120 [==============================] - 0s 4ms/step - loss: 1.6173 - mae: 0.9093 - val_loss: 1.6910 - val_mae: 0.9635\n",
            "Epoch 44/500\n",
            "120/120 [==============================] - 0s 4ms/step - loss: 1.7711 - mae: 0.9538 - val_loss: 1.2808 - val_mae: 0.7855\n",
            "Epoch 45/500\n",
            "120/120 [==============================] - 0s 3ms/step - loss: 2.0131 - mae: 0.9919 - val_loss: 1.8537 - val_mae: 1.0410\n",
            "Epoch 46/500\n",
            "120/120 [==============================] - 0s 3ms/step - loss: 1.9199 - mae: 0.9869 - val_loss: 1.2209 - val_mae: 0.7660\n",
            "Epoch 47/500\n",
            "120/120 [==============================] - 0s 4ms/step - loss: 1.6903 - mae: 0.9257 - val_loss: 1.5734 - val_mae: 0.9327\n",
            "Epoch 48/500\n",
            "120/120 [==============================] - 0s 4ms/step - loss: 1.7017 - mae: 0.9412 - val_loss: 1.2589 - val_mae: 0.7814\n",
            "Epoch 49/500\n",
            "120/120 [==============================] - 1s 4ms/step - loss: 1.4750 - mae: 0.8669 - val_loss: 1.2828 - val_mae: 0.8186\n",
            "Epoch 50/500\n",
            "120/120 [==============================] - 1s 5ms/step - loss: 1.7439 - mae: 0.9361 - val_loss: 1.4859 - val_mae: 0.8507\n",
            "Epoch 51/500\n",
            "120/120 [==============================] - 0s 4ms/step - loss: 1.7836 - mae: 0.9619 - val_loss: 1.5575 - val_mae: 0.8771\n",
            "Epoch 52/500\n",
            "120/120 [==============================] - 0s 4ms/step - loss: 1.6035 - mae: 0.9024 - val_loss: 1.2064 - val_mae: 0.7535\n",
            "Epoch 53/500\n",
            "120/120 [==============================] - 1s 4ms/step - loss: 1.4622 - mae: 0.8646 - val_loss: 1.3532 - val_mae: 0.8377\n",
            "Epoch 54/500\n",
            "120/120 [==============================] - 0s 4ms/step - loss: 1.6864 - mae: 0.9466 - val_loss: 2.3940 - val_mae: 1.1172\n",
            "Epoch 55/500\n",
            "120/120 [==============================] - 0s 4ms/step - loss: 1.6140 - mae: 0.9130 - val_loss: 1.5206 - val_mae: 0.9528\n",
            "Epoch 56/500\n",
            "120/120 [==============================] - 0s 4ms/step - loss: 2.6846 - mae: 1.1581 - val_loss: 1.7853 - val_mae: 0.9897\n",
            "Epoch 57/500\n",
            "120/120 [==============================] - 1s 4ms/step - loss: 1.6572 - mae: 0.9364 - val_loss: 1.4494 - val_mae: 0.8905\n",
            "Epoch 58/500\n",
            "120/120 [==============================] - 0s 3ms/step - loss: 1.3468 - mae: 0.8257 - val_loss: 1.2287 - val_mae: 0.7674\n",
            "Epoch 59/500\n",
            "120/120 [==============================] - 0s 3ms/step - loss: 1.3448 - mae: 0.8249 - val_loss: 1.3873 - val_mae: 0.8188\n",
            "Epoch 60/500\n",
            "120/120 [==============================] - 0s 4ms/step - loss: 1.4232 - mae: 0.8371 - val_loss: 1.7813 - val_mae: 1.0134\n",
            "Epoch 61/500\n",
            "120/120 [==============================] - 0s 4ms/step - loss: 1.8171 - mae: 0.9888 - val_loss: 1.3725 - val_mae: 0.8424\n",
            "Epoch 62/500\n",
            "120/120 [==============================] - 1s 4ms/step - loss: 1.3613 - mae: 0.8228 - val_loss: 1.2146 - val_mae: 0.7707\n",
            "Epoch 63/500\n",
            "120/120 [==============================] - 0s 3ms/step - loss: 1.5846 - mae: 0.8993 - val_loss: 1.9086 - val_mae: 1.0977\n",
            "Epoch 64/500\n",
            "120/120 [==============================] - 0s 4ms/step - loss: 1.4469 - mae: 0.8702 - val_loss: 1.8093 - val_mae: 1.0129\n",
            "Epoch 65/500\n",
            "120/120 [==============================] - 0s 4ms/step - loss: 1.6193 - mae: 0.9209 - val_loss: 1.3548 - val_mae: 0.8307\n",
            "Epoch 66/500\n",
            "120/120 [==============================] - 1s 4ms/step - loss: 1.4167 - mae: 0.8360 - val_loss: 1.3525 - val_mae: 0.8106\n",
            "Epoch 67/500\n",
            "120/120 [==============================] - 0s 3ms/step - loss: 1.6623 - mae: 0.9295 - val_loss: 1.1961 - val_mae: 0.7759\n",
            "Epoch 68/500\n",
            "120/120 [==============================] - 0s 4ms/step - loss: 1.3753 - mae: 0.8306 - val_loss: 1.8431 - val_mae: 0.9273\n",
            "Epoch 69/500\n",
            "120/120 [==============================] - 0s 3ms/step - loss: 1.3058 - mae: 0.8030 - val_loss: 1.2766 - val_mae: 0.7925\n",
            "Epoch 70/500\n",
            "120/120 [==============================] - 0s 3ms/step - loss: 1.7333 - mae: 0.9222 - val_loss: 1.9413 - val_mae: 1.0598\n",
            "Epoch 71/500\n",
            "120/120 [==============================] - 0s 3ms/step - loss: 1.5925 - mae: 0.9187 - val_loss: 1.7306 - val_mae: 0.9882\n",
            "Epoch 72/500\n",
            "120/120 [==============================] - 0s 4ms/step - loss: 1.5362 - mae: 0.8904 - val_loss: 1.2040 - val_mae: 0.7510\n",
            "Epoch 73/500\n",
            "120/120 [==============================] - 0s 3ms/step - loss: 1.5085 - mae: 0.8706 - val_loss: 1.7225 - val_mae: 0.9743\n",
            "Epoch 74/500\n",
            "120/120 [==============================] - 0s 4ms/step - loss: 1.5622 - mae: 0.8898 - val_loss: 1.1423 - val_mae: 0.7201\n",
            "Epoch 75/500\n",
            "120/120 [==============================] - 0s 4ms/step - loss: 1.3621 - mae: 0.8315 - val_loss: 1.1114 - val_mae: 0.7098\n",
            "Epoch 76/500\n",
            "120/120 [==============================] - 0s 3ms/step - loss: 1.4344 - mae: 0.8460 - val_loss: 1.2398 - val_mae: 0.7603\n",
            "Epoch 77/500\n",
            "120/120 [==============================] - 0s 3ms/step - loss: 1.3903 - mae: 0.8324 - val_loss: 1.3259 - val_mae: 0.8374\n",
            "Epoch 78/500\n",
            "120/120 [==============================] - 1s 4ms/step - loss: 1.5003 - mae: 0.8629 - val_loss: 1.3106 - val_mae: 0.7956\n",
            "Epoch 79/500\n",
            "120/120 [==============================] - 0s 4ms/step - loss: 1.4237 - mae: 0.8623 - val_loss: 1.3931 - val_mae: 0.8511\n",
            "Epoch 80/500\n",
            "120/120 [==============================] - 0s 4ms/step - loss: 1.4653 - mae: 0.8668 - val_loss: 1.4362 - val_mae: 0.8388\n",
            "Epoch 81/500\n",
            "120/120 [==============================] - 0s 3ms/step - loss: 1.5253 - mae: 0.8878 - val_loss: 3.0412 - val_mae: 1.3587\n",
            "Epoch 82/500\n",
            "120/120 [==============================] - 0s 4ms/step - loss: 1.5422 - mae: 0.8925 - val_loss: 1.3690 - val_mae: 0.8382\n",
            "Epoch 83/500\n",
            "120/120 [==============================] - 0s 3ms/step - loss: 1.4613 - mae: 0.8891 - val_loss: 1.5464 - val_mae: 0.9516\n",
            "Epoch 84/500\n",
            "120/120 [==============================] - 1s 4ms/step - loss: 1.3684 - mae: 0.8420 - val_loss: 1.2135 - val_mae: 0.7544\n",
            "Epoch 85/500\n",
            "120/120 [==============================] - 0s 3ms/step - loss: 1.4088 - mae: 0.8621 - val_loss: 1.1620 - val_mae: 0.7643\n",
            "Epoch 86/500\n",
            "120/120 [==============================] - 0s 3ms/step - loss: 1.2597 - mae: 0.7852 - val_loss: 1.3542 - val_mae: 0.8180\n",
            "Epoch 87/500\n",
            "120/120 [==============================] - 0s 4ms/step - loss: 1.3131 - mae: 0.8140 - val_loss: 1.2137 - val_mae: 0.7838\n",
            "Epoch 88/500\n",
            "120/120 [==============================] - 0s 4ms/step - loss: 1.5099 - mae: 0.9110 - val_loss: 1.2971 - val_mae: 0.8549\n",
            "Epoch 89/500\n",
            "120/120 [==============================] - 0s 4ms/step - loss: 1.2971 - mae: 0.8071 - val_loss: 1.4257 - val_mae: 0.8916\n",
            "Epoch 90/500\n",
            "120/120 [==============================] - 1s 4ms/step - loss: 1.3271 - mae: 0.8212 - val_loss: 1.5479 - val_mae: 0.9652\n",
            "Epoch 91/500\n",
            "120/120 [==============================] - 1s 4ms/step - loss: 1.3179 - mae: 0.8163 - val_loss: 1.2995 - val_mae: 0.7906\n",
            "Epoch 92/500\n",
            "120/120 [==============================] - 1s 4ms/step - loss: 1.5235 - mae: 0.8978 - val_loss: 1.5053 - val_mae: 0.9145\n",
            "Epoch 93/500\n",
            "120/120 [==============================] - 0s 4ms/step - loss: 1.4911 - mae: 0.8861 - val_loss: 1.5789 - val_mae: 0.9570\n",
            "Epoch 94/500\n",
            "120/120 [==============================] - 0s 4ms/step - loss: 1.2783 - mae: 0.7993 - val_loss: 1.5610 - val_mae: 0.8726\n",
            "Epoch 95/500\n",
            "120/120 [==============================] - 0s 4ms/step - loss: 1.3733 - mae: 0.8471 - val_loss: 1.1772 - val_mae: 0.7560\n",
            "Epoch 96/500\n",
            "120/120 [==============================] - 1s 4ms/step - loss: 1.2701 - mae: 0.8017 - val_loss: 1.1581 - val_mae: 0.7510\n",
            "Epoch 97/500\n",
            "120/120 [==============================] - 1s 4ms/step - loss: 1.2190 - mae: 0.7736 - val_loss: 1.4426 - val_mae: 0.8335\n",
            "Epoch 98/500\n",
            "120/120 [==============================] - 0s 3ms/step - loss: 1.3036 - mae: 0.8074 - val_loss: 1.4690 - val_mae: 0.8744\n",
            "Epoch 99/500\n",
            "120/120 [==============================] - 0s 4ms/step - loss: 1.2271 - mae: 0.7739 - val_loss: 1.3885 - val_mae: 0.8399\n",
            "Epoch 100/500\n",
            "120/120 [==============================] - 0s 4ms/step - loss: 1.2046 - mae: 0.7647 - val_loss: 1.2223 - val_mae: 0.7808\n",
            "Epoch 101/500\n",
            "120/120 [==============================] - 1s 5ms/step - loss: 1.4878 - mae: 0.8915 - val_loss: 1.3801 - val_mae: 0.8338\n",
            "Epoch 102/500\n",
            "120/120 [==============================] - 0s 4ms/step - loss: 1.2513 - mae: 0.7894 - val_loss: 1.1862 - val_mae: 0.7597\n",
            "Epoch 103/500\n",
            "120/120 [==============================] - 1s 5ms/step - loss: 1.2339 - mae: 0.7786 - val_loss: 1.4037 - val_mae: 0.8539\n",
            "Epoch 104/500\n",
            "120/120 [==============================] - 1s 4ms/step - loss: 1.3389 - mae: 0.8203 - val_loss: 1.1700 - val_mae: 0.7309\n",
            "Epoch 105/500\n",
            "120/120 [==============================] - 1s 5ms/step - loss: 1.2211 - mae: 0.7801 - val_loss: 1.1598 - val_mae: 0.7465\n",
            "Epoch 106/500\n",
            "120/120 [==============================] - 1s 4ms/step - loss: 1.2427 - mae: 0.7733 - val_loss: 1.0832 - val_mae: 0.7065\n",
            "Epoch 107/500\n",
            "120/120 [==============================] - 1s 5ms/step - loss: 1.2121 - mae: 0.7697 - val_loss: 1.4347 - val_mae: 0.8569\n",
            "Epoch 108/500\n",
            "120/120 [==============================] - 0s 4ms/step - loss: 1.3559 - mae: 0.8158 - val_loss: 1.1365 - val_mae: 0.7418\n",
            "Epoch 109/500\n",
            "120/120 [==============================] - 1s 4ms/step - loss: 1.2830 - mae: 0.7993 - val_loss: 1.3876 - val_mae: 0.7972\n",
            "Epoch 110/500\n",
            "120/120 [==============================] - 1s 4ms/step - loss: 1.5075 - mae: 0.9015 - val_loss: 1.3358 - val_mae: 0.8536\n",
            "Epoch 111/500\n",
            "120/120 [==============================] - 1s 5ms/step - loss: 1.2598 - mae: 0.7834 - val_loss: 1.1576 - val_mae: 0.7237\n",
            "Epoch 112/500\n",
            "120/120 [==============================] - 1s 4ms/step - loss: 1.2780 - mae: 0.7947 - val_loss: 1.6036 - val_mae: 0.9781\n",
            "Epoch 113/500\n",
            "120/120 [==============================] - 1s 4ms/step - loss: 1.3307 - mae: 0.8164 - val_loss: 1.3409 - val_mae: 0.8201\n",
            "Epoch 114/500\n",
            "120/120 [==============================] - 1s 5ms/step - loss: 1.2232 - mae: 0.7785 - val_loss: 1.1000 - val_mae: 0.7021\n",
            "Epoch 115/500\n",
            "120/120 [==============================] - 0s 4ms/step - loss: 1.2272 - mae: 0.7712 - val_loss: 1.2094 - val_mae: 0.7602\n",
            "Epoch 116/500\n",
            "120/120 [==============================] - 0s 4ms/step - loss: 1.3145 - mae: 0.8239 - val_loss: 1.3382 - val_mae: 0.8556\n",
            "Epoch 117/500\n",
            "120/120 [==============================] - 1s 8ms/step - loss: 1.2445 - mae: 0.7927 - val_loss: 1.3315 - val_mae: 0.8035\n",
            "Epoch 118/500\n",
            "120/120 [==============================] - 1s 7ms/step - loss: 1.2461 - mae: 0.7891 - val_loss: 1.6620 - val_mae: 0.9815\n",
            "Epoch 119/500\n",
            "120/120 [==============================] - 0s 4ms/step - loss: 1.3764 - mae: 0.8392 - val_loss: 1.0754 - val_mae: 0.6906\n",
            "Epoch 120/500\n",
            "120/120 [==============================] - 1s 7ms/step - loss: 1.1812 - mae: 0.7570 - val_loss: 1.1321 - val_mae: 0.7416\n",
            "Epoch 121/500\n",
            "120/120 [==============================] - 1s 4ms/step - loss: 1.2112 - mae: 0.7678 - val_loss: 1.1970 - val_mae: 0.7552\n",
            "Epoch 122/500\n",
            "120/120 [==============================] - 0s 4ms/step - loss: 1.3189 - mae: 0.8187 - val_loss: 1.1191 - val_mae: 0.7363\n",
            "Epoch 123/500\n",
            "120/120 [==============================] - 1s 4ms/step - loss: 1.1610 - mae: 0.7458 - val_loss: 1.2862 - val_mae: 0.7818\n",
            "Epoch 124/500\n",
            "120/120 [==============================] - 1s 4ms/step - loss: 1.2209 - mae: 0.7686 - val_loss: 1.0996 - val_mae: 0.7124\n",
            "Epoch 125/500\n",
            "120/120 [==============================] - 1s 5ms/step - loss: 1.2002 - mae: 0.7683 - val_loss: 1.0982 - val_mae: 0.7188\n",
            "Epoch 126/500\n",
            "120/120 [==============================] - 1s 5ms/step - loss: 1.1538 - mae: 0.7474 - val_loss: 1.2172 - val_mae: 0.7952\n",
            "Epoch 127/500\n",
            "120/120 [==============================] - 1s 4ms/step - loss: 1.2504 - mae: 0.7901 - val_loss: 1.3923 - val_mae: 0.8441\n",
            "Epoch 128/500\n",
            "120/120 [==============================] - 1s 4ms/step - loss: 1.2502 - mae: 0.7886 - val_loss: 1.2267 - val_mae: 0.7808\n",
            "Epoch 129/500\n",
            "120/120 [==============================] - 0s 3ms/step - loss: 1.2470 - mae: 0.7890 - val_loss: 1.1694 - val_mae: 0.7402\n",
            "Epoch 130/500\n",
            "120/120 [==============================] - 1s 4ms/step - loss: 1.2026 - mae: 0.7642 - val_loss: 1.2658 - val_mae: 0.7881\n",
            "Epoch 131/500\n",
            "120/120 [==============================] - 1s 4ms/step - loss: 1.2063 - mae: 0.7631 - val_loss: 1.2078 - val_mae: 0.7605\n",
            "Epoch 132/500\n",
            "120/120 [==============================] - 0s 4ms/step - loss: 1.3162 - mae: 0.8267 - val_loss: 1.1018 - val_mae: 0.6998\n",
            "Epoch 133/500\n",
            "120/120 [==============================] - 1s 5ms/step - loss: 1.1673 - mae: 0.7475 - val_loss: 1.2175 - val_mae: 0.8044\n",
            "Epoch 134/500\n",
            "120/120 [==============================] - 1s 4ms/step - loss: 1.2471 - mae: 0.7845 - val_loss: 1.0993 - val_mae: 0.7151\n",
            "Epoch 135/500\n",
            "120/120 [==============================] - 1s 5ms/step - loss: 1.2783 - mae: 0.8169 - val_loss: 1.4198 - val_mae: 0.9149\n",
            "Epoch 136/500\n",
            "120/120 [==============================] - 0s 4ms/step - loss: 1.2261 - mae: 0.7802 - val_loss: 1.1992 - val_mae: 0.7717\n",
            "Epoch 137/500\n",
            "120/120 [==============================] - 1s 5ms/step - loss: 1.2359 - mae: 0.7783 - val_loss: 1.1529 - val_mae: 0.7354\n",
            "Epoch 138/500\n",
            "120/120 [==============================] - 1s 9ms/step - loss: 1.1634 - mae: 0.7452 - val_loss: 1.1547 - val_mae: 0.7481\n",
            "Epoch 139/500\n",
            "120/120 [==============================] - 0s 4ms/step - loss: 1.2080 - mae: 0.7752 - val_loss: 1.2493 - val_mae: 0.7564\n",
            "Epoch 140/500\n",
            "120/120 [==============================] - 1s 9ms/step - loss: 1.2801 - mae: 0.8123 - val_loss: 1.1225 - val_mae: 0.7263\n",
            "Epoch 141/500\n",
            "120/120 [==============================] - 0s 4ms/step - loss: 1.2220 - mae: 0.7733 - val_loss: 1.2588 - val_mae: 0.7788\n",
            "Epoch 142/500\n",
            "120/120 [==============================] - 0s 4ms/step - loss: 1.2150 - mae: 0.7776 - val_loss: 1.1504 - val_mae: 0.7285\n",
            "Epoch 143/500\n",
            "120/120 [==============================] - 0s 3ms/step - loss: 1.1919 - mae: 0.7694 - val_loss: 1.4205 - val_mae: 0.8644\n",
            "Epoch 144/500\n",
            "120/120 [==============================] - 0s 4ms/step - loss: 1.2283 - mae: 0.7878 - val_loss: 1.5609 - val_mae: 0.9126\n",
            "Epoch 145/500\n",
            "120/120 [==============================] - 1s 4ms/step - loss: 1.2581 - mae: 0.8035 - val_loss: 1.3004 - val_mae: 0.8428\n",
            "Epoch 146/500\n",
            "120/120 [==============================] - 0s 4ms/step - loss: 1.2337 - mae: 0.7917 - val_loss: 1.0705 - val_mae: 0.7047\n",
            "Epoch 147/500\n",
            "120/120 [==============================] - 1s 5ms/step - loss: 1.1641 - mae: 0.7545 - val_loss: 1.1949 - val_mae: 0.7466\n",
            "Epoch 148/500\n",
            "120/120 [==============================] - 1s 5ms/step - loss: 1.1906 - mae: 0.7546 - val_loss: 1.1660 - val_mae: 0.7506\n",
            "Epoch 149/500\n",
            "120/120 [==============================] - 1s 5ms/step - loss: 1.1838 - mae: 0.7588 - val_loss: 1.1574 - val_mae: 0.7637\n",
            "Epoch 150/500\n",
            "120/120 [==============================] - 0s 4ms/step - loss: 1.2898 - mae: 0.8016 - val_loss: 1.1099 - val_mae: 0.7256\n",
            "Epoch 151/500\n",
            "120/120 [==============================] - 1s 5ms/step - loss: 1.1915 - mae: 0.7623 - val_loss: 1.1288 - val_mae: 0.7390\n",
            "Epoch 152/500\n",
            "120/120 [==============================] - 1s 4ms/step - loss: 1.1945 - mae: 0.7629 - val_loss: 1.1811 - val_mae: 0.7466\n",
            "Epoch 153/500\n",
            "120/120 [==============================] - 1s 4ms/step - loss: 1.1653 - mae: 0.7494 - val_loss: 1.0971 - val_mae: 0.7083\n",
            "Epoch 154/500\n",
            "120/120 [==============================] - 1s 5ms/step - loss: 1.2599 - mae: 0.7984 - val_loss: 1.2237 - val_mae: 0.7672\n",
            "Epoch 155/500\n",
            "120/120 [==============================] - 1s 5ms/step - loss: 1.2162 - mae: 0.7721 - val_loss: 1.1087 - val_mae: 0.7192\n",
            "Epoch 156/500\n",
            "120/120 [==============================] - 1s 4ms/step - loss: 1.2083 - mae: 0.7782 - val_loss: 1.1752 - val_mae: 0.7682\n",
            "Epoch 157/500\n",
            "120/120 [==============================] - 1s 4ms/step - loss: 1.1559 - mae: 0.7483 - val_loss: 1.2326 - val_mae: 0.7940\n",
            "Epoch 158/500\n",
            "120/120 [==============================] - 1s 4ms/step - loss: 1.2044 - mae: 0.7742 - val_loss: 1.3422 - val_mae: 0.8197\n",
            "Epoch 159/500\n",
            "120/120 [==============================] - 0s 4ms/step - loss: 1.2338 - mae: 0.7812 - val_loss: 1.3819 - val_mae: 0.8825\n",
            "Epoch 160/500\n",
            "120/120 [==============================] - 1s 5ms/step - loss: 1.1919 - mae: 0.7693 - val_loss: 1.0908 - val_mae: 0.7000\n",
            "Epoch 161/500\n",
            "120/120 [==============================] - 0s 4ms/step - loss: 1.1858 - mae: 0.7585 - val_loss: 1.1790 - val_mae: 0.7440\n",
            "Epoch 162/500\n",
            "120/120 [==============================] - 1s 4ms/step - loss: 1.1582 - mae: 0.7508 - val_loss: 1.2250 - val_mae: 0.8066\n",
            "Epoch 163/500\n",
            "120/120 [==============================] - 0s 4ms/step - loss: 1.1515 - mae: 0.7450 - val_loss: 1.0838 - val_mae: 0.7039\n",
            "Epoch 164/500\n",
            "120/120 [==============================] - 0s 4ms/step - loss: 1.2147 - mae: 0.7826 - val_loss: 1.2145 - val_mae: 0.7981\n",
            "Epoch 165/500\n",
            "120/120 [==============================] - 1s 4ms/step - loss: 1.2070 - mae: 0.7643 - val_loss: 1.0998 - val_mae: 0.7112\n",
            "Epoch 166/500\n",
            "120/120 [==============================] - 0s 4ms/step - loss: 1.2001 - mae: 0.7678 - val_loss: 1.1986 - val_mae: 0.7658\n",
            "Epoch 167/500\n",
            "120/120 [==============================] - 0s 4ms/step - loss: 1.1709 - mae: 0.7473 - val_loss: 1.7057 - val_mae: 1.0506\n",
            "Epoch 168/500\n",
            "120/120 [==============================] - 0s 4ms/step - loss: 1.1894 - mae: 0.7670 - val_loss: 1.1827 - val_mae: 0.7377\n",
            "Epoch 169/500\n",
            "120/120 [==============================] - 1s 5ms/step - loss: 1.1523 - mae: 0.7395 - val_loss: 1.0917 - val_mae: 0.7067\n",
            "Epoch 170/500\n",
            "120/120 [==============================] - 1s 5ms/step - loss: 1.1981 - mae: 0.7734 - val_loss: 1.0917 - val_mae: 0.7111\n",
            "Epoch 171/500\n",
            "120/120 [==============================] - 1s 5ms/step - loss: 1.1615 - mae: 0.7418 - val_loss: 1.1452 - val_mae: 0.7307\n",
            "Epoch 172/500\n",
            "120/120 [==============================] - 0s 4ms/step - loss: 1.1757 - mae: 0.7559 - val_loss: 1.1094 - val_mae: 0.7296\n",
            "Epoch 173/500\n",
            "120/120 [==============================] - 1s 5ms/step - loss: 1.1508 - mae: 0.7432 - val_loss: 1.1488 - val_mae: 0.7427\n",
            "Epoch 174/500\n",
            "120/120 [==============================] - 1s 4ms/step - loss: 1.1662 - mae: 0.7466 - val_loss: 1.1497 - val_mae: 0.7309\n",
            "Epoch 175/500\n",
            "120/120 [==============================] - 0s 4ms/step - loss: 1.1236 - mae: 0.7299 - val_loss: 1.1197 - val_mae: 0.7507\n",
            "Epoch 176/500\n",
            "120/120 [==============================] - 0s 4ms/step - loss: 1.1541 - mae: 0.7381 - val_loss: 1.1056 - val_mae: 0.7215\n",
            "Epoch 177/500\n",
            "120/120 [==============================] - 1s 5ms/step - loss: 1.1630 - mae: 0.7485 - val_loss: 1.0954 - val_mae: 0.6946\n",
            "Epoch 178/500\n",
            "120/120 [==============================] - 0s 4ms/step - loss: 1.1582 - mae: 0.7438 - val_loss: 1.3902 - val_mae: 0.8537\n",
            "Epoch 179/500\n",
            "120/120 [==============================] - 1s 4ms/step - loss: 1.1943 - mae: 0.7670 - val_loss: 1.2671 - val_mae: 0.7889\n",
            "Epoch 180/500\n",
            "120/120 [==============================] - 0s 4ms/step - loss: 1.2874 - mae: 0.8161 - val_loss: 1.1734 - val_mae: 0.7460\n",
            "Epoch 181/500\n",
            "120/120 [==============================] - 1s 5ms/step - loss: 1.2178 - mae: 0.7785 - val_loss: 1.1302 - val_mae: 0.7293\n",
            "Epoch 182/500\n",
            "120/120 [==============================] - 1s 5ms/step - loss: 1.2700 - mae: 0.7944 - val_loss: 1.2202 - val_mae: 0.7627\n",
            "Epoch 183/500\n",
            "120/120 [==============================] - 0s 4ms/step - loss: 1.1383 - mae: 0.7323 - val_loss: 1.0808 - val_mae: 0.6945\n",
            "Epoch 184/500\n",
            "120/120 [==============================] - 1s 4ms/step - loss: 1.1571 - mae: 0.7396 - val_loss: 1.1086 - val_mae: 0.7100\n",
            "Epoch 185/500\n",
            "120/120 [==============================] - 1s 4ms/step - loss: 1.1364 - mae: 0.7419 - val_loss: 1.1711 - val_mae: 0.7729\n",
            "Epoch 186/500\n",
            "120/120 [==============================] - 0s 3ms/step - loss: 1.1600 - mae: 0.7411 - val_loss: 1.1011 - val_mae: 0.7129\n",
            "Epoch 187/500\n",
            "120/120 [==============================] - 0s 4ms/step - loss: 1.1187 - mae: 0.7268 - val_loss: 1.0594 - val_mae: 0.6884\n",
            "Epoch 188/500\n",
            "120/120 [==============================] - 1s 4ms/step - loss: 1.1679 - mae: 0.7394 - val_loss: 1.3125 - val_mae: 0.8157\n",
            "Epoch 189/500\n",
            "120/120 [==============================] - 0s 4ms/step - loss: 1.2087 - mae: 0.7662 - val_loss: 1.1073 - val_mae: 0.7235\n",
            "Epoch 190/500\n",
            "120/120 [==============================] - 1s 4ms/step - loss: 1.1464 - mae: 0.7383 - val_loss: 1.3238 - val_mae: 0.8401\n",
            "Epoch 191/500\n",
            "120/120 [==============================] - 1s 5ms/step - loss: 1.1296 - mae: 0.7338 - val_loss: 1.1083 - val_mae: 0.7292\n",
            "Epoch 192/500\n",
            "120/120 [==============================] - 0s 4ms/step - loss: 1.1288 - mae: 0.7319 - val_loss: 1.0694 - val_mae: 0.6858\n",
            "Epoch 193/500\n",
            "120/120 [==============================] - 1s 5ms/step - loss: 1.1100 - mae: 0.7214 - val_loss: 1.1312 - val_mae: 0.7142\n",
            "Epoch 194/500\n",
            "120/120 [==============================] - 1s 5ms/step - loss: 1.2297 - mae: 0.7852 - val_loss: 1.4060 - val_mae: 0.8821\n",
            "Epoch 195/500\n",
            "120/120 [==============================] - 0s 4ms/step - loss: 1.1804 - mae: 0.7511 - val_loss: 1.2332 - val_mae: 0.8135\n",
            "Epoch 196/500\n",
            "120/120 [==============================] - 1s 5ms/step - loss: 1.1697 - mae: 0.7492 - val_loss: 1.1276 - val_mae: 0.7261\n",
            "Epoch 197/500\n",
            "120/120 [==============================] - 1s 5ms/step - loss: 1.1373 - mae: 0.7346 - val_loss: 1.1809 - val_mae: 0.7535\n",
            "Epoch 198/500\n",
            "120/120 [==============================] - 1s 4ms/step - loss: 1.1401 - mae: 0.7388 - val_loss: 1.1250 - val_mae: 0.7212\n",
            "Epoch 199/500\n",
            "120/120 [==============================] - 0s 4ms/step - loss: 1.1249 - mae: 0.7307 - val_loss: 1.1247 - val_mae: 0.7293\n",
            "Epoch 200/500\n",
            "120/120 [==============================] - 0s 4ms/step - loss: 1.1173 - mae: 0.7296 - val_loss: 1.2319 - val_mae: 0.8209\n",
            "Epoch 201/500\n",
            "120/120 [==============================] - 0s 4ms/step - loss: 1.1387 - mae: 0.7420 - val_loss: 1.2722 - val_mae: 0.8204\n",
            "Epoch 202/500\n",
            "120/120 [==============================] - 0s 4ms/step - loss: 1.1850 - mae: 0.7625 - val_loss: 1.0552 - val_mae: 0.6895\n",
            "Epoch 203/500\n",
            "120/120 [==============================] - 0s 4ms/step - loss: 1.1284 - mae: 0.7314 - val_loss: 1.3863 - val_mae: 0.8322\n",
            "Epoch 204/500\n",
            "120/120 [==============================] - 0s 4ms/step - loss: 1.1383 - mae: 0.7335 - val_loss: 1.1654 - val_mae: 0.7431\n",
            "Epoch 205/500\n",
            "120/120 [==============================] - 1s 5ms/step - loss: 1.2185 - mae: 0.7817 - val_loss: 1.4540 - val_mae: 0.8474\n",
            "Epoch 206/500\n",
            "120/120 [==============================] - 0s 3ms/step - loss: 1.1767 - mae: 0.7541 - val_loss: 1.1453 - val_mae: 0.7391\n",
            "Epoch 207/500\n",
            "120/120 [==============================] - 0s 4ms/step - loss: 1.1278 - mae: 0.7236 - val_loss: 1.0831 - val_mae: 0.6972\n",
            "Epoch 208/500\n",
            "120/120 [==============================] - 1s 4ms/step - loss: 1.1422 - mae: 0.7394 - val_loss: 1.0794 - val_mae: 0.7021\n",
            "Epoch 209/500\n",
            "120/120 [==============================] - 1s 5ms/step - loss: 1.1266 - mae: 0.7307 - val_loss: 1.1195 - val_mae: 0.7457\n",
            "Epoch 210/500\n",
            "120/120 [==============================] - 0s 4ms/step - loss: 1.2238 - mae: 0.7779 - val_loss: 1.0982 - val_mae: 0.7087\n",
            "Epoch 211/500\n",
            "120/120 [==============================] - 1s 4ms/step - loss: 1.1720 - mae: 0.7534 - val_loss: 1.2113 - val_mae: 0.7828\n",
            "Epoch 212/500\n",
            "120/120 [==============================] - 1s 4ms/step - loss: 1.1579 - mae: 0.7443 - val_loss: 1.1271 - val_mae: 0.7242\n",
            "Epoch 213/500\n",
            "120/120 [==============================] - 0s 4ms/step - loss: 1.0892 - mae: 0.7103 - val_loss: 1.1030 - val_mae: 0.7275\n",
            "Epoch 214/500\n",
            "120/120 [==============================] - 0s 4ms/step - loss: 1.1531 - mae: 0.7525 - val_loss: 1.2252 - val_mae: 0.7609\n",
            "Epoch 215/500\n",
            "120/120 [==============================] - 0s 4ms/step - loss: 1.1596 - mae: 0.7511 - val_loss: 1.2213 - val_mae: 0.7891\n",
            "Epoch 216/500\n",
            "120/120 [==============================] - 0s 4ms/step - loss: 1.1486 - mae: 0.7367 - val_loss: 1.0387 - val_mae: 0.6700\n",
            "Epoch 217/500\n",
            "120/120 [==============================] - 0s 4ms/step - loss: 1.1795 - mae: 0.7571 - val_loss: 1.1465 - val_mae: 0.7388\n",
            "Epoch 218/500\n",
            "120/120 [==============================] - 1s 4ms/step - loss: 1.1133 - mae: 0.7248 - val_loss: 1.1579 - val_mae: 0.7511\n",
            "Epoch 219/500\n",
            "120/120 [==============================] - 0s 4ms/step - loss: 1.1152 - mae: 0.7237 - val_loss: 1.1017 - val_mae: 0.7230\n",
            "Epoch 220/500\n",
            "120/120 [==============================] - 1s 5ms/step - loss: 1.1268 - mae: 0.7367 - val_loss: 1.1392 - val_mae: 0.7344\n",
            "Epoch 221/500\n",
            "120/120 [==============================] - 0s 4ms/step - loss: 1.1870 - mae: 0.7550 - val_loss: 1.1274 - val_mae: 0.7283\n",
            "Epoch 222/500\n",
            "120/120 [==============================] - 1s 4ms/step - loss: 1.2935 - mae: 0.7954 - val_loss: 1.7387 - val_mae: 1.0626\n",
            "Epoch 223/500\n",
            "120/120 [==============================] - 1s 4ms/step - loss: 1.2234 - mae: 0.7796 - val_loss: 1.1716 - val_mae: 0.7296\n",
            "Epoch 224/500\n",
            "120/120 [==============================] - 0s 4ms/step - loss: 1.1406 - mae: 0.7429 - val_loss: 1.1582 - val_mae: 0.7587\n",
            "Epoch 225/500\n",
            "120/120 [==============================] - 0s 4ms/step - loss: 1.0911 - mae: 0.7147 - val_loss: 1.2293 - val_mae: 0.7885\n",
            "Epoch 226/500\n",
            "120/120 [==============================] - 0s 4ms/step - loss: 1.1394 - mae: 0.7434 - val_loss: 1.1454 - val_mae: 0.7110\n",
            "Epoch 227/500\n",
            "120/120 [==============================] - 1s 4ms/step - loss: 1.1310 - mae: 0.7276 - val_loss: 1.2098 - val_mae: 0.7783\n",
            "Epoch 228/500\n",
            "120/120 [==============================] - 1s 5ms/step - loss: 1.1560 - mae: 0.7492 - val_loss: 1.0692 - val_mae: 0.7002\n",
            "Epoch 229/500\n",
            "120/120 [==============================] - 0s 4ms/step - loss: 1.1691 - mae: 0.7560 - val_loss: 1.0709 - val_mae: 0.7011\n",
            "Epoch 230/500\n",
            "120/120 [==============================] - 1s 4ms/step - loss: 1.1412 - mae: 0.7332 - val_loss: 1.1277 - val_mae: 0.7502\n",
            "Epoch 231/500\n",
            "120/120 [==============================] - 1s 6ms/step - loss: 1.1290 - mae: 0.7327 - val_loss: 1.5860 - val_mae: 0.9719\n",
            "Epoch 232/500\n",
            "120/120 [==============================] - 0s 4ms/step - loss: 1.1940 - mae: 0.7602 - val_loss: 1.2591 - val_mae: 0.7928\n",
            "Epoch 233/500\n",
            "120/120 [==============================] - 0s 4ms/step - loss: 1.1380 - mae: 0.7399 - val_loss: 1.1063 - val_mae: 0.7110\n",
            "Epoch 234/500\n",
            "120/120 [==============================] - 1s 4ms/step - loss: 1.1431 - mae: 0.7431 - val_loss: 1.0390 - val_mae: 0.6786\n",
            "Epoch 235/500\n",
            "120/120 [==============================] - 0s 4ms/step - loss: 1.1098 - mae: 0.7163 - val_loss: 1.1897 - val_mae: 0.7340\n",
            "Epoch 236/500\n",
            "120/120 [==============================] - 0s 4ms/step - loss: 1.1199 - mae: 0.7260 - val_loss: 1.2714 - val_mae: 0.8229\n",
            "Epoch 237/500\n",
            "120/120 [==============================] - 1s 4ms/step - loss: 1.1012 - mae: 0.7147 - val_loss: 1.0927 - val_mae: 0.7119\n",
            "Epoch 238/500\n",
            "120/120 [==============================] - 1s 5ms/step - loss: 1.1516 - mae: 0.7486 - val_loss: 1.1294 - val_mae: 0.7434\n",
            "Epoch 239/500\n",
            "120/120 [==============================] - 1s 4ms/step - loss: 1.1182 - mae: 0.7270 - val_loss: 1.0694 - val_mae: 0.6858\n",
            "Epoch 240/500\n",
            "120/120 [==============================] - 0s 4ms/step - loss: 1.1115 - mae: 0.7218 - val_loss: 1.0958 - val_mae: 0.7258\n",
            "Epoch 241/500\n",
            "120/120 [==============================] - 1s 4ms/step - loss: 1.1114 - mae: 0.7192 - val_loss: 1.1070 - val_mae: 0.7143\n",
            "Epoch 242/500\n",
            "120/120 [==============================] - 0s 4ms/step - loss: 1.1251 - mae: 0.7248 - val_loss: 1.1110 - val_mae: 0.7357\n",
            "Epoch 243/500\n",
            "120/120 [==============================] - 1s 5ms/step - loss: 1.1463 - mae: 0.7376 - val_loss: 1.1139 - val_mae: 0.7251\n",
            "Epoch 244/500\n",
            "120/120 [==============================] - 1s 5ms/step - loss: 1.1363 - mae: 0.7427 - val_loss: 1.1267 - val_mae: 0.7284\n",
            "Epoch 245/500\n",
            "120/120 [==============================] - 0s 4ms/step - loss: 1.2760 - mae: 0.8081 - val_loss: 1.0697 - val_mae: 0.6916\n",
            "Epoch 246/500\n",
            "120/120 [==============================] - 0s 4ms/step - loss: 1.1380 - mae: 0.7410 - val_loss: 1.2567 - val_mae: 0.8020\n",
            "Epoch 247/500\n",
            "120/120 [==============================] - 1s 5ms/step - loss: 1.1215 - mae: 0.7231 - val_loss: 1.0792 - val_mae: 0.7042\n",
            "Epoch 248/500\n",
            "120/120 [==============================] - 1s 5ms/step - loss: 1.1490 - mae: 0.7464 - val_loss: 1.0591 - val_mae: 0.6915\n",
            "Epoch 249/500\n",
            "120/120 [==============================] - 1s 4ms/step - loss: 1.1096 - mae: 0.7209 - val_loss: 1.3644 - val_mae: 0.8274\n",
            "Epoch 250/500\n",
            "120/120 [==============================] - 1s 5ms/step - loss: 1.1239 - mae: 0.7308 - val_loss: 1.1779 - val_mae: 0.7729\n",
            "Epoch 251/500\n",
            "120/120 [==============================] - 1s 4ms/step - loss: 1.1328 - mae: 0.7338 - val_loss: 1.1439 - val_mae: 0.7630\n",
            "Epoch 252/500\n",
            "120/120 [==============================] - 0s 4ms/step - loss: 1.1133 - mae: 0.7220 - val_loss: 1.0539 - val_mae: 0.6803\n",
            "Epoch 253/500\n",
            "120/120 [==============================] - 0s 4ms/step - loss: 1.1013 - mae: 0.7148 - val_loss: 1.0979 - val_mae: 0.7315\n",
            "Epoch 254/500\n",
            "120/120 [==============================] - 0s 4ms/step - loss: 1.1015 - mae: 0.7171 - val_loss: 1.0975 - val_mae: 0.7207\n",
            "Epoch 255/500\n",
            "120/120 [==============================] - 0s 4ms/step - loss: 1.1089 - mae: 0.7183 - val_loss: 1.1584 - val_mae: 0.7187\n",
            "Epoch 256/500\n",
            "120/120 [==============================] - 1s 5ms/step - loss: 1.1518 - mae: 0.7492 - val_loss: 1.0739 - val_mae: 0.6967\n",
            "Epoch 257/500\n",
            "120/120 [==============================] - 1s 5ms/step - loss: 1.1345 - mae: 0.7395 - val_loss: 1.0784 - val_mae: 0.7026\n",
            "Epoch 258/500\n",
            "120/120 [==============================] - 1s 4ms/step - loss: 1.1636 - mae: 0.7526 - val_loss: 1.0766 - val_mae: 0.6986\n",
            "Epoch 259/500\n",
            "120/120 [==============================] - 1s 5ms/step - loss: 1.1399 - mae: 0.7330 - val_loss: 1.0564 - val_mae: 0.6903\n",
            "Epoch 260/500\n",
            "120/120 [==============================] - 1s 5ms/step - loss: 1.1089 - mae: 0.7172 - val_loss: 1.3786 - val_mae: 0.8486\n",
            "Epoch 261/500\n",
            "120/120 [==============================] - 0s 4ms/step - loss: 1.1742 - mae: 0.7517 - val_loss: 1.2672 - val_mae: 0.8395\n",
            "Epoch 262/500\n",
            "120/120 [==============================] - 0s 4ms/step - loss: 1.0947 - mae: 0.7128 - val_loss: 1.1842 - val_mae: 0.7697\n",
            "Epoch 263/500\n",
            "120/120 [==============================] - 0s 4ms/step - loss: 1.1587 - mae: 0.7475 - val_loss: 1.1730 - val_mae: 0.7747\n",
            "Epoch 264/500\n",
            "120/120 [==============================] - 1s 5ms/step - loss: 1.1410 - mae: 0.7380 - val_loss: 1.2259 - val_mae: 0.7576\n",
            "Epoch 265/500\n",
            "120/120 [==============================] - 1s 5ms/step - loss: 1.1021 - mae: 0.7184 - val_loss: 1.1350 - val_mae: 0.7212\n",
            "Epoch 266/500\n",
            "120/120 [==============================] - 0s 4ms/step - loss: 1.1891 - mae: 0.7631 - val_loss: 1.1356 - val_mae: 0.7376\n",
            "Epoch 267/500\n",
            "120/120 [==============================] - 0s 3ms/step - loss: 1.1061 - mae: 0.7161 - val_loss: 1.2285 - val_mae: 0.7962\n",
            "Epoch 268/500\n",
            "120/120 [==============================] - 0s 4ms/step - loss: 1.1014 - mae: 0.7160 - val_loss: 1.1198 - val_mae: 0.7228\n",
            "Epoch 269/500\n",
            "120/120 [==============================] - 0s 4ms/step - loss: 1.1157 - mae: 0.7250 - val_loss: 1.2441 - val_mae: 0.8247\n",
            "Epoch 270/500\n",
            "120/120 [==============================] - 1s 4ms/step - loss: 1.0969 - mae: 0.7140 - val_loss: 1.0469 - val_mae: 0.6820\n",
            "Epoch 271/500\n",
            "120/120 [==============================] - 1s 4ms/step - loss: 1.1278 - mae: 0.7272 - val_loss: 1.2438 - val_mae: 0.8130\n",
            "Epoch 272/500\n",
            "120/120 [==============================] - 1s 4ms/step - loss: 1.1130 - mae: 0.7272 - val_loss: 1.0520 - val_mae: 0.6795\n",
            "Epoch 273/500\n",
            "120/120 [==============================] - 0s 4ms/step - loss: 1.0910 - mae: 0.7082 - val_loss: 1.0635 - val_mae: 0.6849\n",
            "Epoch 274/500\n",
            "120/120 [==============================] - 1s 4ms/step - loss: 1.1326 - mae: 0.7398 - val_loss: 1.1488 - val_mae: 0.7542\n",
            "Epoch 275/500\n",
            "120/120 [==============================] - 0s 3ms/step - loss: 1.1180 - mae: 0.7250 - val_loss: 1.2875 - val_mae: 0.7920\n",
            "Epoch 276/500\n",
            "120/120 [==============================] - 0s 3ms/step - loss: 1.1570 - mae: 0.7498 - val_loss: 1.0685 - val_mae: 0.6979\n",
            "Epoch 277/500\n",
            "120/120 [==============================] - 1s 4ms/step - loss: 1.0979 - mae: 0.7105 - val_loss: 1.0480 - val_mae: 0.6853\n",
            "Epoch 278/500\n",
            "120/120 [==============================] - 0s 4ms/step - loss: 1.1226 - mae: 0.7348 - val_loss: 1.1199 - val_mae: 0.7182\n",
            "Epoch 279/500\n",
            "120/120 [==============================] - 0s 4ms/step - loss: 1.1367 - mae: 0.7441 - val_loss: 1.1205 - val_mae: 0.7511\n",
            "Epoch 280/500\n",
            "120/120 [==============================] - 1s 4ms/step - loss: 1.1344 - mae: 0.7364 - val_loss: 1.2472 - val_mae: 0.8229\n",
            "Epoch 281/500\n",
            "120/120 [==============================] - 1s 4ms/step - loss: 1.1239 - mae: 0.7303 - val_loss: 1.1365 - val_mae: 0.7270\n",
            "Epoch 282/500\n",
            "120/120 [==============================] - 0s 4ms/step - loss: 1.1105 - mae: 0.7242 - val_loss: 1.2084 - val_mae: 0.7666\n",
            "Epoch 283/500\n",
            "120/120 [==============================] - 0s 4ms/step - loss: 1.1228 - mae: 0.7325 - val_loss: 1.2448 - val_mae: 0.8206\n",
            "Epoch 284/500\n",
            "120/120 [==============================] - 1s 4ms/step - loss: 1.1578 - mae: 0.7589 - val_loss: 1.1839 - val_mae: 0.7866\n",
            "Epoch 285/500\n",
            "120/120 [==============================] - 0s 4ms/step - loss: 1.0942 - mae: 0.7117 - val_loss: 1.1762 - val_mae: 0.7869\n",
            "Epoch 286/500\n",
            "120/120 [==============================] - 0s 3ms/step - loss: 1.1757 - mae: 0.7514 - val_loss: 1.0533 - val_mae: 0.6834\n",
            "Epoch 287/500\n",
            "120/120 [==============================] - 0s 4ms/step - loss: 1.0902 - mae: 0.7085 - val_loss: 1.1257 - val_mae: 0.7396\n",
            "Epoch 288/500\n",
            "120/120 [==============================] - 0s 4ms/step - loss: 1.1163 - mae: 0.7288 - val_loss: 1.0654 - val_mae: 0.6860\n",
            "Epoch 289/500\n",
            "120/120 [==============================] - 0s 3ms/step - loss: 1.0862 - mae: 0.7048 - val_loss: 1.0319 - val_mae: 0.6725\n",
            "Epoch 290/500\n",
            "120/120 [==============================] - 0s 4ms/step - loss: 1.0991 - mae: 0.7158 - val_loss: 1.2296 - val_mae: 0.7658\n",
            "Epoch 291/500\n",
            "120/120 [==============================] - 0s 3ms/step - loss: 1.1126 - mae: 0.7221 - val_loss: 1.1028 - val_mae: 0.7096\n",
            "Epoch 292/500\n",
            "120/120 [==============================] - 0s 4ms/step - loss: 1.1248 - mae: 0.7364 - val_loss: 1.1058 - val_mae: 0.7159\n",
            "Epoch 293/500\n",
            "120/120 [==============================] - 0s 4ms/step - loss: 1.0951 - mae: 0.7140 - val_loss: 1.0940 - val_mae: 0.7066\n",
            "Epoch 294/500\n",
            "120/120 [==============================] - 0s 4ms/step - loss: 1.1045 - mae: 0.7134 - val_loss: 1.0722 - val_mae: 0.6932\n",
            "Epoch 295/500\n",
            "120/120 [==============================] - 0s 4ms/step - loss: 1.1083 - mae: 0.7191 - val_loss: 1.1775 - val_mae: 0.7263\n",
            "Epoch 296/500\n",
            "120/120 [==============================] - 0s 4ms/step - loss: 1.0924 - mae: 0.7050 - val_loss: 1.0576 - val_mae: 0.6913\n",
            "Epoch 297/500\n",
            "120/120 [==============================] - 1s 4ms/step - loss: 1.1204 - mae: 0.7246 - val_loss: 1.0634 - val_mae: 0.6920\n",
            "Epoch 298/500\n",
            "120/120 [==============================] - 0s 4ms/step - loss: 1.1326 - mae: 0.7404 - val_loss: 1.1058 - val_mae: 0.7321\n",
            "Epoch 299/500\n",
            "120/120 [==============================] - 0s 4ms/step - loss: 1.0970 - mae: 0.7169 - val_loss: 1.0868 - val_mae: 0.7187\n",
            "Epoch 300/500\n",
            "120/120 [==============================] - 1s 4ms/step - loss: 1.1040 - mae: 0.7209 - val_loss: 1.1463 - val_mae: 0.7716\n",
            "Epoch 301/500\n",
            "120/120 [==============================] - 1s 4ms/step - loss: 1.1026 - mae: 0.7132 - val_loss: 1.0753 - val_mae: 0.6979\n",
            "Epoch 302/500\n",
            "120/120 [==============================] - 0s 4ms/step - loss: 1.1338 - mae: 0.7330 - val_loss: 1.1010 - val_mae: 0.7124\n",
            "Epoch 303/500\n",
            "120/120 [==============================] - 0s 4ms/step - loss: 1.1083 - mae: 0.7268 - val_loss: 1.1298 - val_mae: 0.7384\n",
            "Epoch 304/500\n",
            "120/120 [==============================] - 0s 4ms/step - loss: 1.1172 - mae: 0.7229 - val_loss: 1.0722 - val_mae: 0.7071\n",
            "Epoch 305/500\n",
            "120/120 [==============================] - 1s 4ms/step - loss: 1.0962 - mae: 0.7092 - val_loss: 1.0764 - val_mae: 0.6876\n",
            "Epoch 306/500\n",
            "120/120 [==============================] - 1s 4ms/step - loss: 1.0926 - mae: 0.7084 - val_loss: 1.1755 - val_mae: 0.7480\n",
            "Epoch 307/500\n",
            "120/120 [==============================] - 1s 4ms/step - loss: 1.0985 - mae: 0.7088 - val_loss: 1.0504 - val_mae: 0.6778\n",
            "Epoch 308/500\n",
            "120/120 [==============================] - 1s 4ms/step - loss: 1.1144 - mae: 0.7265 - val_loss: 1.0817 - val_mae: 0.7136\n",
            "Epoch 309/500\n",
            "120/120 [==============================] - 1s 4ms/step - loss: 1.1078 - mae: 0.7217 - val_loss: 1.2047 - val_mae: 0.7416\n",
            "Epoch 310/500\n",
            "120/120 [==============================] - 0s 4ms/step - loss: 1.1096 - mae: 0.7265 - val_loss: 1.0740 - val_mae: 0.7124\n",
            "Epoch 311/500\n",
            "120/120 [==============================] - 0s 4ms/step - loss: 1.1019 - mae: 0.7221 - val_loss: 1.0594 - val_mae: 0.6799\n",
            "Epoch 312/500\n",
            "120/120 [==============================] - 1s 5ms/step - loss: 1.1294 - mae: 0.7404 - val_loss: 1.4306 - val_mae: 0.9045\n",
            "Epoch 313/500\n",
            "120/120 [==============================] - 0s 4ms/step - loss: 1.1044 - mae: 0.7152 - val_loss: 1.1831 - val_mae: 0.7634\n",
            "Epoch 314/500\n",
            "120/120 [==============================] - 1s 5ms/step - loss: 1.1234 - mae: 0.7254 - val_loss: 1.2547 - val_mae: 0.7960\n",
            "Epoch 315/500\n",
            "120/120 [==============================] - 0s 4ms/step - loss: 1.0887 - mae: 0.7077 - val_loss: 1.0521 - val_mae: 0.6840\n",
            "Epoch 316/500\n",
            "120/120 [==============================] - 1s 4ms/step - loss: 1.1257 - mae: 0.7299 - val_loss: 1.0787 - val_mae: 0.7183\n",
            "Epoch 317/500\n",
            "120/120 [==============================] - 0s 4ms/step - loss: 1.1049 - mae: 0.7250 - val_loss: 1.1364 - val_mae: 0.7521\n",
            "Epoch 318/500\n",
            "120/120 [==============================] - 1s 4ms/step - loss: 1.1009 - mae: 0.7203 - val_loss: 1.4487 - val_mae: 0.9289\n",
            "Epoch 319/500\n",
            "120/120 [==============================] - 0s 4ms/step - loss: 1.1413 - mae: 0.7425 - val_loss: 1.1143 - val_mae: 0.7319\n",
            "Epoch 320/500\n",
            "120/120 [==============================] - 0s 4ms/step - loss: 1.1073 - mae: 0.7217 - val_loss: 1.1235 - val_mae: 0.7296\n",
            "Epoch 321/500\n",
            "120/120 [==============================] - 1s 4ms/step - loss: 1.1030 - mae: 0.7131 - val_loss: 1.0997 - val_mae: 0.6982\n",
            "Epoch 322/500\n",
            "120/120 [==============================] - 1s 4ms/step - loss: 1.1276 - mae: 0.7240 - val_loss: 1.1218 - val_mae: 0.7297\n",
            "Epoch 323/500\n",
            "120/120 [==============================] - 0s 4ms/step - loss: 1.1361 - mae: 0.7365 - val_loss: 1.0860 - val_mae: 0.7248\n",
            "Epoch 324/500\n",
            "120/120 [==============================] - 0s 4ms/step - loss: 1.1271 - mae: 0.7294 - val_loss: 1.0698 - val_mae: 0.6902\n",
            "Epoch 325/500\n",
            "120/120 [==============================] - 0s 4ms/step - loss: 1.0891 - mae: 0.7112 - val_loss: 1.0973 - val_mae: 0.7004\n",
            "Epoch 326/500\n",
            "120/120 [==============================] - 1s 4ms/step - loss: 1.0763 - mae: 0.7013 - val_loss: 1.1732 - val_mae: 0.7495\n",
            "Epoch 327/500\n",
            "120/120 [==============================] - 1s 4ms/step - loss: 1.1234 - mae: 0.7229 - val_loss: 1.1146 - val_mae: 0.7058\n",
            "Epoch 328/500\n",
            "120/120 [==============================] - 1s 4ms/step - loss: 1.1019 - mae: 0.7181 - val_loss: 1.0934 - val_mae: 0.7234\n",
            "Epoch 329/500\n",
            "120/120 [==============================] - 1s 5ms/step - loss: 1.1225 - mae: 0.7332 - val_loss: 1.1505 - val_mae: 0.7697\n",
            "Epoch 330/500\n",
            "120/120 [==============================] - 1s 4ms/step - loss: 1.0599 - mae: 0.6947 - val_loss: 1.0699 - val_mae: 0.7012\n",
            "Epoch 331/500\n",
            "120/120 [==============================] - 1s 5ms/step - loss: 1.0967 - mae: 0.7155 - val_loss: 1.0869 - val_mae: 0.7104\n",
            "Epoch 332/500\n",
            "120/120 [==============================] - 1s 5ms/step - loss: 1.1133 - mae: 0.7263 - val_loss: 1.2031 - val_mae: 0.8037\n",
            "Epoch 333/500\n",
            "120/120 [==============================] - 1s 5ms/step - loss: 1.0744 - mae: 0.6997 - val_loss: 1.1048 - val_mae: 0.7079\n",
            "Epoch 334/500\n",
            "120/120 [==============================] - 1s 5ms/step - loss: 1.0587 - mae: 0.6910 - val_loss: 1.0415 - val_mae: 0.6798\n",
            "Epoch 335/500\n",
            "120/120 [==============================] - 1s 5ms/step - loss: 1.1098 - mae: 0.7240 - val_loss: 1.0658 - val_mae: 0.6947\n",
            "Epoch 336/500\n",
            "120/120 [==============================] - 0s 4ms/step - loss: 1.0766 - mae: 0.7020 - val_loss: 1.1813 - val_mae: 0.7630\n",
            "Epoch 337/500\n",
            "120/120 [==============================] - 1s 4ms/step - loss: 1.0813 - mae: 0.7088 - val_loss: 1.2046 - val_mae: 0.7642\n",
            "Epoch 338/500\n",
            "120/120 [==============================] - 0s 4ms/step - loss: 1.1093 - mae: 0.7155 - val_loss: 1.0607 - val_mae: 0.6895\n",
            "Epoch 339/500\n",
            "120/120 [==============================] - 1s 5ms/step - loss: 1.1110 - mae: 0.7184 - val_loss: 1.0523 - val_mae: 0.6750\n",
            "Epoch 340/500\n",
            "120/120 [==============================] - 0s 4ms/step - loss: 1.1304 - mae: 0.7353 - val_loss: 1.0991 - val_mae: 0.7139\n",
            "Epoch 341/500\n",
            "120/120 [==============================] - 0s 4ms/step - loss: 1.0941 - mae: 0.7135 - val_loss: 1.0582 - val_mae: 0.6865\n",
            "Epoch 342/500\n",
            "120/120 [==============================] - 0s 4ms/step - loss: 1.0861 - mae: 0.7039 - val_loss: 1.1324 - val_mae: 0.7356\n",
            "Epoch 343/500\n",
            "120/120 [==============================] - 0s 4ms/step - loss: 1.0998 - mae: 0.7173 - val_loss: 1.0621 - val_mae: 0.6951\n",
            "Epoch 344/500\n",
            "120/120 [==============================] - 1s 4ms/step - loss: 1.0832 - mae: 0.7087 - val_loss: 1.0403 - val_mae: 0.6795\n",
            "Epoch 345/500\n",
            "120/120 [==============================] - 0s 3ms/step - loss: 1.1119 - mae: 0.7214 - val_loss: 1.1025 - val_mae: 0.6962\n",
            "Epoch 346/500\n",
            "120/120 [==============================] - 0s 3ms/step - loss: 1.1119 - mae: 0.7323 - val_loss: 1.1770 - val_mae: 0.7874\n",
            "Epoch 347/500\n",
            "120/120 [==============================] - 0s 4ms/step - loss: 1.1118 - mae: 0.7206 - val_loss: 1.1909 - val_mae: 0.7883\n",
            "Epoch 348/500\n",
            "120/120 [==============================] - 0s 4ms/step - loss: 1.0971 - mae: 0.7165 - val_loss: 1.0605 - val_mae: 0.6704\n",
            "Epoch 349/500\n",
            "120/120 [==============================] - 0s 4ms/step - loss: 1.1130 - mae: 0.7181 - val_loss: 1.1055 - val_mae: 0.7180\n",
            "Epoch 350/500\n",
            "120/120 [==============================] - 0s 4ms/step - loss: 1.1069 - mae: 0.7201 - val_loss: 1.0756 - val_mae: 0.7047\n",
            "Epoch 351/500\n",
            "120/120 [==============================] - 0s 4ms/step - loss: 1.0671 - mae: 0.6993 - val_loss: 1.1315 - val_mae: 0.7127\n",
            "Epoch 352/500\n",
            "120/120 [==============================] - 1s 4ms/step - loss: 1.0932 - mae: 0.7178 - val_loss: 1.0770 - val_mae: 0.6969\n",
            "Epoch 353/500\n",
            "120/120 [==============================] - 0s 4ms/step - loss: 1.1066 - mae: 0.7246 - val_loss: 1.0471 - val_mae: 0.6818\n",
            "Epoch 354/500\n",
            "120/120 [==============================] - 1s 4ms/step - loss: 1.1037 - mae: 0.7176 - val_loss: 1.1388 - val_mae: 0.7578\n",
            "Epoch 355/500\n",
            "120/120 [==============================] - 0s 4ms/step - loss: 1.1409 - mae: 0.7376 - val_loss: 1.0713 - val_mae: 0.6951\n",
            "Epoch 356/500\n",
            "120/120 [==============================] - 0s 4ms/step - loss: 1.0874 - mae: 0.7050 - val_loss: 1.2114 - val_mae: 0.7828\n",
            "Epoch 357/500\n",
            "120/120 [==============================] - 1s 4ms/step - loss: 1.0895 - mae: 0.7130 - val_loss: 1.0316 - val_mae: 0.6664\n",
            "Epoch 358/500\n",
            "120/120 [==============================] - 0s 4ms/step - loss: 1.1055 - mae: 0.7173 - val_loss: 1.1395 - val_mae: 0.7650\n",
            "Epoch 359/500\n",
            "120/120 [==============================] - 1s 4ms/step - loss: 1.0911 - mae: 0.7182 - val_loss: 1.0647 - val_mae: 0.7028\n",
            "Epoch 360/500\n",
            "120/120 [==============================] - 0s 4ms/step - loss: 1.0869 - mae: 0.7165 - val_loss: 1.0401 - val_mae: 0.6697\n",
            "Epoch 361/500\n",
            "120/120 [==============================] - 1s 4ms/step - loss: 1.1255 - mae: 0.7263 - val_loss: 1.0573 - val_mae: 0.6835\n",
            "Epoch 362/500\n",
            "120/120 [==============================] - 0s 4ms/step - loss: 1.0741 - mae: 0.6990 - val_loss: 1.0579 - val_mae: 0.6856\n",
            "Epoch 363/500\n",
            "120/120 [==============================] - 0s 4ms/step - loss: 1.1013 - mae: 0.7134 - val_loss: 1.0377 - val_mae: 0.6723\n",
            "Epoch 364/500\n",
            "120/120 [==============================] - 1s 5ms/step - loss: 1.1112 - mae: 0.7193 - val_loss: 1.0785 - val_mae: 0.7000\n",
            "Epoch 365/500\n",
            "120/120 [==============================] - 0s 4ms/step - loss: 1.0724 - mae: 0.6948 - val_loss: 1.0392 - val_mae: 0.6865\n",
            "Epoch 366/500\n",
            "120/120 [==============================] - 1s 4ms/step - loss: 1.1098 - mae: 0.7264 - val_loss: 1.1089 - val_mae: 0.7260\n",
            "Epoch 367/500\n",
            "120/120 [==============================] - 0s 4ms/step - loss: 1.0903 - mae: 0.7131 - val_loss: 1.0815 - val_mae: 0.7194\n",
            "Epoch 368/500\n",
            "120/120 [==============================] - 0s 4ms/step - loss: 1.0860 - mae: 0.7114 - val_loss: 1.1386 - val_mae: 0.7337\n",
            "Epoch 369/500\n",
            "120/120 [==============================] - 0s 4ms/step - loss: 1.0791 - mae: 0.7033 - val_loss: 1.1336 - val_mae: 0.7498\n",
            "Epoch 370/500\n",
            "120/120 [==============================] - 0s 4ms/step - loss: 1.1121 - mae: 0.7256 - val_loss: 1.0692 - val_mae: 0.7004\n",
            "Epoch 371/500\n",
            "120/120 [==============================] - 0s 4ms/step - loss: 1.0838 - mae: 0.7033 - val_loss: 1.0877 - val_mae: 0.7112\n",
            "Epoch 372/500\n",
            "120/120 [==============================] - 1s 4ms/step - loss: 1.0837 - mae: 0.7064 - val_loss: 1.0686 - val_mae: 0.7068\n",
            "Epoch 373/500\n",
            "120/120 [==============================] - 0s 4ms/step - loss: 1.0806 - mae: 0.7073 - val_loss: 1.0349 - val_mae: 0.6644\n",
            "Epoch 374/500\n",
            "120/120 [==============================] - 1s 5ms/step - loss: 1.0680 - mae: 0.6932 - val_loss: 1.0287 - val_mae: 0.6683\n",
            "Epoch 375/500\n",
            "120/120 [==============================] - 0s 4ms/step - loss: 1.0690 - mae: 0.6987 - val_loss: 1.0860 - val_mae: 0.6978\n",
            "Epoch 376/500\n",
            "120/120 [==============================] - 0s 3ms/step - loss: 1.1026 - mae: 0.7196 - val_loss: 1.0617 - val_mae: 0.6816\n",
            "Epoch 377/500\n",
            "120/120 [==============================] - 0s 4ms/step - loss: 1.1104 - mae: 0.7285 - val_loss: 1.1978 - val_mae: 0.7822\n",
            "Epoch 378/500\n",
            "120/120 [==============================] - 0s 4ms/step - loss: 1.1126 - mae: 0.7291 - val_loss: 1.1765 - val_mae: 0.7845\n",
            "Epoch 379/500\n",
            "120/120 [==============================] - 1s 5ms/step - loss: 1.0836 - mae: 0.7024 - val_loss: 1.0951 - val_mae: 0.7119\n",
            "Epoch 380/500\n",
            "120/120 [==============================] - 0s 4ms/step - loss: 1.0752 - mae: 0.6997 - val_loss: 1.2029 - val_mae: 0.7712\n",
            "Epoch 381/500\n",
            "120/120 [==============================] - 1s 5ms/step - loss: 1.0935 - mae: 0.7146 - val_loss: 1.1206 - val_mae: 0.7323\n",
            "Epoch 382/500\n",
            "120/120 [==============================] - 1s 5ms/step - loss: 1.0933 - mae: 0.7131 - val_loss: 1.0653 - val_mae: 0.6885\n",
            "Epoch 383/500\n",
            "120/120 [==============================] - 1s 5ms/step - loss: 1.1318 - mae: 0.7393 - val_loss: 1.1176 - val_mae: 0.7018\n",
            "Epoch 384/500\n",
            "120/120 [==============================] - 1s 5ms/step - loss: 1.0783 - mae: 0.7057 - val_loss: 1.0849 - val_mae: 0.7155\n",
            "Epoch 385/500\n",
            "120/120 [==============================] - 0s 4ms/step - loss: 1.0665 - mae: 0.6967 - val_loss: 1.1077 - val_mae: 0.7157\n",
            "Epoch 386/500\n",
            "120/120 [==============================] - 0s 4ms/step - loss: 1.1110 - mae: 0.7216 - val_loss: 1.1026 - val_mae: 0.7126\n",
            "Epoch 387/500\n",
            "120/120 [==============================] - 0s 4ms/step - loss: 1.1027 - mae: 0.7234 - val_loss: 1.1343 - val_mae: 0.7555\n",
            "Epoch 388/500\n",
            "120/120 [==============================] - 1s 5ms/step - loss: 1.0648 - mae: 0.6986 - val_loss: 1.0715 - val_mae: 0.7095\n",
            "Epoch 389/500\n",
            "120/120 [==============================] - 1s 5ms/step - loss: 1.1075 - mae: 0.7258 - val_loss: 1.0414 - val_mae: 0.6680\n",
            "Epoch 390/500\n",
            "120/120 [==============================] - 1s 5ms/step - loss: 1.0907 - mae: 0.7071 - val_loss: 1.0998 - val_mae: 0.6864\n",
            "Epoch 391/500\n",
            "120/120 [==============================] - 0s 4ms/step - loss: 1.1213 - mae: 0.7335 - val_loss: 1.0847 - val_mae: 0.7094\n",
            "Epoch 392/500\n",
            "120/120 [==============================] - 0s 4ms/step - loss: 1.0941 - mae: 0.7205 - val_loss: 1.0741 - val_mae: 0.6928\n",
            "Epoch 393/500\n",
            "120/120 [==============================] - 0s 4ms/step - loss: 1.0923 - mae: 0.7105 - val_loss: 1.1685 - val_mae: 0.7551\n",
            "Epoch 394/500\n",
            "120/120 [==============================] - 0s 4ms/step - loss: 1.0868 - mae: 0.7083 - val_loss: 1.1910 - val_mae: 0.7821\n",
            "Epoch 395/500\n",
            "120/120 [==============================] - 0s 4ms/step - loss: 1.0746 - mae: 0.7008 - val_loss: 1.0756 - val_mae: 0.6812\n",
            "Epoch 396/500\n",
            "120/120 [==============================] - 1s 5ms/step - loss: 1.0568 - mae: 0.6895 - val_loss: 1.3254 - val_mae: 0.7896\n",
            "Epoch 397/500\n",
            "120/120 [==============================] - 0s 4ms/step - loss: 1.1349 - mae: 0.7313 - val_loss: 1.0283 - val_mae: 0.6699\n",
            "Epoch 398/500\n",
            "120/120 [==============================] - 1s 4ms/step - loss: 1.0813 - mae: 0.7079 - val_loss: 1.1419 - val_mae: 0.7485\n",
            "Epoch 399/500\n",
            "120/120 [==============================] - 0s 4ms/step - loss: 1.1155 - mae: 0.7232 - val_loss: 1.0582 - val_mae: 0.6773\n",
            "Epoch 400/500\n",
            "120/120 [==============================] - 0s 3ms/step - loss: 1.1045 - mae: 0.7230 - val_loss: 1.1241 - val_mae: 0.7044\n",
            "Epoch 401/500\n",
            "120/120 [==============================] - 0s 3ms/step - loss: 1.1446 - mae: 0.7491 - val_loss: 1.0728 - val_mae: 0.6794\n",
            "Epoch 402/500\n",
            "120/120 [==============================] - 0s 3ms/step - loss: 1.0601 - mae: 0.6911 - val_loss: 1.1199 - val_mae: 0.7070\n",
            "Epoch 403/500\n",
            "120/120 [==============================] - 0s 3ms/step - loss: 1.0961 - mae: 0.7182 - val_loss: 1.2184 - val_mae: 0.7943\n",
            "Epoch 404/500\n",
            "120/120 [==============================] - 0s 4ms/step - loss: 1.0868 - mae: 0.7070 - val_loss: 1.0579 - val_mae: 0.6719\n",
            "Epoch 405/500\n",
            "120/120 [==============================] - 0s 4ms/step - loss: 1.0707 - mae: 0.6942 - val_loss: 1.1720 - val_mae: 0.7695\n",
            "Epoch 406/500\n",
            "120/120 [==============================] - 0s 4ms/step - loss: 1.1203 - mae: 0.7248 - val_loss: 1.0507 - val_mae: 0.6848\n",
            "Epoch 407/500\n",
            "120/120 [==============================] - 1s 4ms/step - loss: 1.0717 - mae: 0.7021 - val_loss: 1.0303 - val_mae: 0.6730\n",
            "Epoch 408/500\n",
            "120/120 [==============================] - 0s 4ms/step - loss: 1.0796 - mae: 0.7060 - val_loss: 1.0258 - val_mae: 0.6690\n",
            "Epoch 409/500\n",
            "120/120 [==============================] - 0s 4ms/step - loss: 1.0924 - mae: 0.7146 - val_loss: 1.0792 - val_mae: 0.7034\n",
            "Epoch 410/500\n",
            "120/120 [==============================] - 1s 5ms/step - loss: 1.0822 - mae: 0.7031 - val_loss: 1.0608 - val_mae: 0.7001\n",
            "Epoch 411/500\n",
            "120/120 [==============================] - 0s 4ms/step - loss: 1.0816 - mae: 0.7012 - val_loss: 1.1044 - val_mae: 0.7167\n",
            "Epoch 412/500\n",
            "120/120 [==============================] - 0s 4ms/step - loss: 1.0832 - mae: 0.7106 - val_loss: 1.1278 - val_mae: 0.7351\n",
            "Epoch 413/500\n",
            "120/120 [==============================] - 0s 4ms/step - loss: 1.0980 - mae: 0.7169 - val_loss: 1.0938 - val_mae: 0.7219\n",
            "Epoch 414/500\n",
            "120/120 [==============================] - 0s 4ms/step - loss: 1.1026 - mae: 0.7223 - val_loss: 1.0752 - val_mae: 0.7022\n",
            "Epoch 415/500\n",
            "120/120 [==============================] - 1s 4ms/step - loss: 1.1018 - mae: 0.7231 - val_loss: 1.0414 - val_mae: 0.6745\n",
            "Epoch 416/500\n",
            "120/120 [==============================] - 0s 4ms/step - loss: 1.0817 - mae: 0.7018 - val_loss: 1.0263 - val_mae: 0.6617\n",
            "Epoch 417/500\n",
            "120/120 [==============================] - 1s 4ms/step - loss: 1.0647 - mae: 0.7021 - val_loss: 1.0602 - val_mae: 0.6819\n",
            "Epoch 418/500\n",
            "120/120 [==============================] - 1s 4ms/step - loss: 1.0756 - mae: 0.6994 - val_loss: 1.1566 - val_mae: 0.7674\n",
            "Epoch 419/500\n",
            "120/120 [==============================] - 0s 4ms/step - loss: 1.0673 - mae: 0.6981 - val_loss: 1.0559 - val_mae: 0.6854\n",
            "Epoch 420/500\n",
            "120/120 [==============================] - 1s 5ms/step - loss: 1.0792 - mae: 0.7036 - val_loss: 1.0610 - val_mae: 0.6977\n",
            "Epoch 421/500\n",
            "120/120 [==============================] - 1s 4ms/step - loss: 1.0840 - mae: 0.7124 - val_loss: 1.1050 - val_mae: 0.7360\n",
            "Epoch 422/500\n",
            "120/120 [==============================] - 0s 4ms/step - loss: 1.0716 - mae: 0.6987 - val_loss: 1.0854 - val_mae: 0.7241\n",
            "Epoch 423/500\n",
            "120/120 [==============================] - 1s 4ms/step - loss: 1.0674 - mae: 0.6961 - val_loss: 1.0643 - val_mae: 0.6947\n",
            "Epoch 424/500\n",
            "120/120 [==============================] - 0s 4ms/step - loss: 1.0762 - mae: 0.6994 - val_loss: 1.0852 - val_mae: 0.7003\n",
            "Epoch 425/500\n",
            "120/120 [==============================] - 0s 4ms/step - loss: 1.1089 - mae: 0.7154 - val_loss: 1.1141 - val_mae: 0.7308\n",
            "Epoch 426/500\n",
            "120/120 [==============================] - 0s 4ms/step - loss: 1.1043 - mae: 0.7219 - val_loss: 1.0983 - val_mae: 0.7165\n",
            "Epoch 427/500\n",
            "120/120 [==============================] - 0s 3ms/step - loss: 1.0989 - mae: 0.7101 - val_loss: 1.1624 - val_mae: 0.7737\n",
            "Epoch 428/500\n",
            "120/120 [==============================] - 0s 3ms/step - loss: 1.0855 - mae: 0.7092 - val_loss: 1.0215 - val_mae: 0.6639\n",
            "Epoch 429/500\n",
            "120/120 [==============================] - 0s 3ms/step - loss: 1.0829 - mae: 0.7089 - val_loss: 1.0388 - val_mae: 0.6805\n",
            "Epoch 430/500\n",
            "120/120 [==============================] - 0s 3ms/step - loss: 1.1307 - mae: 0.7417 - val_loss: 1.1314 - val_mae: 0.7263\n",
            "Epoch 431/500\n",
            "120/120 [==============================] - 0s 4ms/step - loss: 1.0779 - mae: 0.7063 - val_loss: 1.1400 - val_mae: 0.7207\n",
            "Epoch 432/500\n",
            "120/120 [==============================] - 0s 3ms/step - loss: 1.1039 - mae: 0.7239 - val_loss: 1.0932 - val_mae: 0.7293\n",
            "Epoch 433/500\n",
            "120/120 [==============================] - 1s 4ms/step - loss: 1.0806 - mae: 0.7085 - val_loss: 1.0371 - val_mae: 0.6811\n",
            "Epoch 434/500\n",
            "120/120 [==============================] - 0s 3ms/step - loss: 1.0627 - mae: 0.6970 - val_loss: 1.1233 - val_mae: 0.7302\n",
            "Epoch 435/500\n",
            "120/120 [==============================] - 0s 4ms/step - loss: 1.0640 - mae: 0.6924 - val_loss: 1.0457 - val_mae: 0.6765\n",
            "Epoch 436/500\n",
            "120/120 [==============================] - 1s 4ms/step - loss: 1.0747 - mae: 0.7006 - val_loss: 1.0758 - val_mae: 0.6735\n",
            "Epoch 437/500\n",
            "120/120 [==============================] - 1s 4ms/step - loss: 1.0882 - mae: 0.7074 - val_loss: 1.0382 - val_mae: 0.6806\n",
            "Epoch 438/500\n",
            "120/120 [==============================] - 1s 4ms/step - loss: 1.1177 - mae: 0.7275 - val_loss: 1.0385 - val_mae: 0.6838\n",
            "Epoch 439/500\n",
            "120/120 [==============================] - 1s 5ms/step - loss: 1.0712 - mae: 0.7032 - val_loss: 1.0761 - val_mae: 0.7102\n",
            "Epoch 440/500\n",
            "120/120 [==============================] - 0s 4ms/step - loss: 1.0657 - mae: 0.6936 - val_loss: 1.0442 - val_mae: 0.6862\n",
            "Epoch 441/500\n",
            "120/120 [==============================] - 1s 5ms/step - loss: 1.0836 - mae: 0.7074 - val_loss: 1.0872 - val_mae: 0.6915\n",
            "Epoch 442/500\n",
            "120/120 [==============================] - 0s 3ms/step - loss: 1.0564 - mae: 0.6874 - val_loss: 1.1071 - val_mae: 0.6921\n",
            "Epoch 443/500\n",
            "120/120 [==============================] - 0s 4ms/step - loss: 1.0861 - mae: 0.7065 - val_loss: 1.0843 - val_mae: 0.7190\n",
            "Epoch 444/500\n",
            "120/120 [==============================] - 0s 3ms/step - loss: 1.0784 - mae: 0.6995 - val_loss: 1.1915 - val_mae: 0.7339\n",
            "Epoch 445/500\n",
            "120/120 [==============================] - 0s 3ms/step - loss: 1.0993 - mae: 0.7195 - val_loss: 1.1077 - val_mae: 0.7132\n",
            "Epoch 446/500\n",
            "120/120 [==============================] - 0s 4ms/step - loss: 1.0851 - mae: 0.7087 - val_loss: 1.0801 - val_mae: 0.7032\n",
            "Epoch 447/500\n",
            "120/120 [==============================] - 0s 3ms/step - loss: 1.0808 - mae: 0.7082 - val_loss: 1.1397 - val_mae: 0.7581\n",
            "Epoch 448/500\n",
            "120/120 [==============================] - 1s 4ms/step - loss: 1.0904 - mae: 0.7118 - val_loss: 1.1123 - val_mae: 0.7202\n",
            "Epoch 449/500\n",
            "120/120 [==============================] - 0s 3ms/step - loss: 1.0800 - mae: 0.7073 - val_loss: 1.0549 - val_mae: 0.6774\n",
            "Epoch 450/500\n",
            "120/120 [==============================] - 0s 4ms/step - loss: 1.0710 - mae: 0.7029 - val_loss: 1.0923 - val_mae: 0.7234\n",
            "Epoch 451/500\n",
            "120/120 [==============================] - 1s 4ms/step - loss: 1.0925 - mae: 0.7168 - val_loss: 1.0972 - val_mae: 0.6920\n",
            "Epoch 452/500\n",
            "120/120 [==============================] - 1s 4ms/step - loss: 1.0996 - mae: 0.7096 - val_loss: 1.1207 - val_mae: 0.7277\n",
            "Epoch 453/500\n",
            "120/120 [==============================] - 1s 4ms/step - loss: 1.0846 - mae: 0.7092 - val_loss: 1.0777 - val_mae: 0.6960\n",
            "Epoch 454/500\n",
            "120/120 [==============================] - 0s 4ms/step - loss: 1.0711 - mae: 0.7002 - val_loss: 1.0614 - val_mae: 0.6890\n",
            "Epoch 455/500\n",
            "120/120 [==============================] - 0s 4ms/step - loss: 1.0857 - mae: 0.7070 - val_loss: 1.0802 - val_mae: 0.7010\n",
            "Epoch 456/500\n",
            "120/120 [==============================] - 0s 3ms/step - loss: 1.0854 - mae: 0.7075 - val_loss: 1.1374 - val_mae: 0.7370\n",
            "Epoch 457/500\n",
            "120/120 [==============================] - 0s 3ms/step - loss: 1.0990 - mae: 0.7107 - val_loss: 1.0480 - val_mae: 0.6766\n",
            "Epoch 458/500\n",
            "120/120 [==============================] - 0s 3ms/step - loss: 1.0690 - mae: 0.7016 - val_loss: 1.1137 - val_mae: 0.7282\n",
            "Epoch 459/500\n",
            "120/120 [==============================] - 0s 3ms/step - loss: 1.0721 - mae: 0.6993 - val_loss: 1.1112 - val_mae: 0.7364\n",
            "Epoch 460/500\n",
            "120/120 [==============================] - 0s 4ms/step - loss: 1.0948 - mae: 0.7198 - val_loss: 1.0248 - val_mae: 0.6595\n",
            "Epoch 461/500\n",
            "120/120 [==============================] - 0s 4ms/step - loss: 1.0839 - mae: 0.7080 - val_loss: 1.0444 - val_mae: 0.6774\n",
            "Epoch 462/500\n",
            "120/120 [==============================] - 0s 3ms/step - loss: 1.0597 - mae: 0.6930 - val_loss: 1.0609 - val_mae: 0.6931\n",
            "Epoch 463/500\n",
            "120/120 [==============================] - 0s 4ms/step - loss: 1.0848 - mae: 0.7052 - val_loss: 1.0220 - val_mae: 0.6624\n",
            "Epoch 464/500\n",
            "120/120 [==============================] - 1s 4ms/step - loss: 1.0735 - mae: 0.7074 - val_loss: 1.1404 - val_mae: 0.7489\n",
            "Epoch 465/500\n",
            "120/120 [==============================] - 0s 4ms/step - loss: 1.0647 - mae: 0.6938 - val_loss: 1.1078 - val_mae: 0.7010\n",
            "Epoch 466/500\n",
            "120/120 [==============================] - 0s 4ms/step - loss: 1.0808 - mae: 0.7023 - val_loss: 1.0250 - val_mae: 0.6712\n",
            "Epoch 467/500\n",
            "120/120 [==============================] - 0s 4ms/step - loss: 1.0640 - mae: 0.6935 - val_loss: 1.0788 - val_mae: 0.7021\n",
            "Epoch 468/500\n",
            "120/120 [==============================] - 0s 3ms/step - loss: 1.0646 - mae: 0.6964 - val_loss: 1.0445 - val_mae: 0.6811\n",
            "Epoch 469/500\n",
            "120/120 [==============================] - 0s 3ms/step - loss: 1.0672 - mae: 0.6994 - val_loss: 1.0155 - val_mae: 0.6615\n",
            "Epoch 470/500\n",
            "120/120 [==============================] - 0s 4ms/step - loss: 1.0740 - mae: 0.7028 - val_loss: 1.1341 - val_mae: 0.7207\n",
            "Epoch 471/500\n",
            "120/120 [==============================] - 1s 4ms/step - loss: 1.0817 - mae: 0.7053 - val_loss: 1.1297 - val_mae: 0.7242\n",
            "Epoch 472/500\n",
            "120/120 [==============================] - 0s 3ms/step - loss: 1.0623 - mae: 0.6907 - val_loss: 1.0264 - val_mae: 0.6683\n",
            "Epoch 473/500\n",
            "120/120 [==============================] - 0s 3ms/step - loss: 1.0748 - mae: 0.7042 - val_loss: 1.0730 - val_mae: 0.6906\n",
            "Epoch 474/500\n",
            "120/120 [==============================] - 0s 3ms/step - loss: 1.0869 - mae: 0.7110 - val_loss: 1.1016 - val_mae: 0.7020\n",
            "Epoch 475/500\n",
            "120/120 [==============================] - 0s 3ms/step - loss: 1.0778 - mae: 0.7002 - val_loss: 1.0591 - val_mae: 0.6731\n",
            "Epoch 476/500\n",
            "120/120 [==============================] - 0s 3ms/step - loss: 1.0680 - mae: 0.7001 - val_loss: 1.0538 - val_mae: 0.6898\n",
            "Epoch 477/500\n",
            "120/120 [==============================] - 0s 4ms/step - loss: 1.0698 - mae: 0.7007 - val_loss: 1.0727 - val_mae: 0.6922\n",
            "Epoch 478/500\n",
            "120/120 [==============================] - 1s 4ms/step - loss: 1.0621 - mae: 0.6934 - val_loss: 1.0545 - val_mae: 0.6957\n",
            "Epoch 479/500\n",
            "120/120 [==============================] - 1s 4ms/step - loss: 1.0859 - mae: 0.7113 - val_loss: 1.0624 - val_mae: 0.6967\n",
            "Epoch 480/500\n",
            "120/120 [==============================] - 1s 4ms/step - loss: 1.0722 - mae: 0.7058 - val_loss: 1.0739 - val_mae: 0.7065\n",
            "Epoch 481/500\n",
            "120/120 [==============================] - 1s 4ms/step - loss: 1.0700 - mae: 0.6990 - val_loss: 1.0425 - val_mae: 0.6792\n",
            "Epoch 482/500\n",
            "120/120 [==============================] - 0s 4ms/step - loss: 1.0743 - mae: 0.6997 - val_loss: 1.1330 - val_mae: 0.7322\n",
            "Epoch 483/500\n",
            "120/120 [==============================] - 0s 4ms/step - loss: 1.0825 - mae: 0.7077 - val_loss: 1.0986 - val_mae: 0.7048\n",
            "Epoch 484/500\n",
            "120/120 [==============================] - 0s 4ms/step - loss: 1.1090 - mae: 0.7229 - val_loss: 1.0632 - val_mae: 0.6971\n",
            "Epoch 485/500\n",
            "120/120 [==============================] - 1s 5ms/step - loss: 1.0595 - mae: 0.6934 - val_loss: 1.0644 - val_mae: 0.6950\n",
            "Epoch 486/500\n",
            "120/120 [==============================] - 1s 5ms/step - loss: 1.0636 - mae: 0.6904 - val_loss: 1.0446 - val_mae: 0.6767\n",
            "Epoch 487/500\n",
            "120/120 [==============================] - 1s 5ms/step - loss: 1.0790 - mae: 0.7079 - val_loss: 1.0960 - val_mae: 0.7201\n",
            "Epoch 488/500\n",
            "120/120 [==============================] - 1s 4ms/step - loss: 1.0609 - mae: 0.6956 - val_loss: 1.0771 - val_mae: 0.7066\n",
            "Epoch 489/500\n",
            "120/120 [==============================] - 1s 4ms/step - loss: 1.0733 - mae: 0.6998 - val_loss: 1.0722 - val_mae: 0.7036\n",
            "Epoch 490/500\n",
            "120/120 [==============================] - 0s 4ms/step - loss: 1.0660 - mae: 0.7006 - val_loss: 1.0682 - val_mae: 0.7072\n",
            "Epoch 491/500\n",
            "120/120 [==============================] - 0s 4ms/step - loss: 1.0993 - mae: 0.7201 - val_loss: 1.1051 - val_mae: 0.7244\n",
            "Epoch 492/500\n",
            "120/120 [==============================] - 0s 3ms/step - loss: 1.0786 - mae: 0.7037 - val_loss: 1.0553 - val_mae: 0.6870\n",
            "Epoch 493/500\n",
            "120/120 [==============================] - 0s 4ms/step - loss: 1.0800 - mae: 0.7042 - val_loss: 1.2465 - val_mae: 0.7650\n",
            "Epoch 494/500\n",
            "120/120 [==============================] - 0s 4ms/step - loss: 1.0788 - mae: 0.7062 - val_loss: 1.0673 - val_mae: 0.7070\n",
            "Epoch 495/500\n",
            "120/120 [==============================] - 0s 3ms/step - loss: 1.0586 - mae: 0.6930 - val_loss: 1.0746 - val_mae: 0.6926\n",
            "Epoch 496/500\n",
            "120/120 [==============================] - 0s 3ms/step - loss: 1.0819 - mae: 0.6980 - val_loss: 1.1430 - val_mae: 0.7230\n",
            "Epoch 497/500\n",
            "120/120 [==============================] - 0s 3ms/step - loss: 1.0692 - mae: 0.6985 - val_loss: 1.2118 - val_mae: 0.8157\n",
            "Epoch 498/500\n",
            "120/120 [==============================] - 0s 4ms/step - loss: 1.1034 - mae: 0.7285 - val_loss: 1.0661 - val_mae: 0.6899\n",
            "Epoch 499/500\n",
            "120/120 [==============================] - 0s 4ms/step - loss: 1.0743 - mae: 0.7028 - val_loss: 1.0785 - val_mae: 0.6943\n",
            "Epoch 500/500\n",
            "120/120 [==============================] - 0s 4ms/step - loss: 1.0806 - mae: 0.7029 - val_loss: 1.0896 - val_mae: 0.7159\n",
            "INFO:tensorflow:Assets written to: saved_model/STM32_AI_Test/assets\n"
          ]
        }
      ]
    },
    {
      "cell_type": "markdown",
      "source": [
        "# Evaluate the training performance"
      ],
      "metadata": {
        "id": "hm2y2S51MH4s"
      }
    },
    {
      "cell_type": "code",
      "source": [
        "### Draw a graph of the loss, which is the distance between\n",
        "# the predicted and actual values during training and validation.\n",
        "train_loss = history_1.history['loss']\n",
        "val_loss = history_1.history['val_loss']\n",
        "\n",
        "epochs = range(1, len(train_loss) + 1)\n",
        "\n",
        "plt.plot(epochs, train_loss, 'g.', label='Training loss')\n",
        "plt.plot(epochs, val_loss, 'b', label='Validation loss')\n",
        "plt.title('Training and validation loss')\n",
        "plt.xlabel('Epochs')\n",
        "plt.ylabel('Loss')\n",
        "plt.legend()\n",
        "plt.show()"
      ],
      "metadata": {
        "id": "DO5sw9BxMK5E",
        "colab": {
          "base_uri": "https://localhost:8080/",
          "height": 295
        },
        "outputId": "249aa4f1-d606-404c-8a25-27eb5d740bac"
      },
      "execution_count": 16,
      "outputs": [
        {
          "output_type": "display_data",
          "data": {
            "text/plain": [
              "<Figure size 432x288 with 1 Axes>"
            ],
            "image/png": "[encoded data removed]"
          },
          "metadata": {
            "needs_background": "light"
          }
        }
      ]
    },
    {
      "cell_type": "code",
      "source": [
        "# evaluate the keras model\n",
        "_, accuracy = model_1.evaluate(y_validate, x_validate)\n",
        "print('Accuracy: %.2f' % (accuracy*100))"
      ],
      "metadata": {
        "colab": {
          "base_uri": "https://localhost:8080/"
        },
        "id": "kZ6rMEUZvYZ-",
        "outputId": "2b075faf-4d59-43a2-e52d-e5fbe03c0a18"
      },
      "execution_count": 17,
      "outputs": [
        {
          "output_type": "stream",
          "name": "stdout",
          "text": [
            "63/63 [==============================] - 0s 2ms/step - loss: 1.0896 - mae: 0.7159\n",
            "Accuracy: 71.59\n"
          ]
        }
      ]
    },
    {
      "cell_type": "code",
      "metadata": {
        "id": "i13eVIT3B9Mj",
        "outputId": "13bee300-11ae-4ada-c858-66245667b9e1",
        "colab": {
          "base_uri": "https://localhost:8080/"
        }
      },
      "source": [
        "# Test a couple of waveforms\n",
        "# remember:\n",
        "#     y = waveforms\n",
        "#     x = truth parameters\n",
        "\n",
        "x_test = x_values[1]\n",
        "y_test = np.array(generateTemplate(position = x_test[0], pulse_length = x_test[1], height=x_test[2], noise=0))\n",
        "\n",
        "# waveform needs to be reshaped to be fed into ANN\n",
        "y_test = y_test.reshape(1,128)\n",
        "\n",
        "# try, whether we can reconstruct the parameters x_test from the waveform y_test\n",
        "model_1.make_predict_function()\n",
        "x_test_pred = np.array(model_1.predict(y_test)[0])\n",
        "\n",
        "print(\"sample pulse created: \", x_test)\n",
        "print(\"ANN reconstructed:    \", x_test_pred)"
      ],
      "execution_count": 18,
      "outputs": [
        {
          "output_type": "stream",
          "name": "stdout",
          "text": [
            "sample pulse created:  [28 18 52]\n",
            "ANN reconstructed:     [25.96662  20.467115 34.32312 ]\n"
          ]
        }
      ]
    },
    {
      "cell_type": "markdown",
      "source": [
        "## Have a look at the reconstructed parameters\n",
        "\n",
        "Get some random pulses, and have a look how they are reconstructed by the network.\n"
      ],
      "metadata": {
        "id": "A0DU0ZLx59Z8"
      }
    },
    {
      "cell_type": "code",
      "source": [
        "# number of test waveforms\n",
        "TEST_SAMPLES = 1000"
      ],
      "metadata": {
        "id": "BDet8lS36gIz"
      },
      "execution_count": 19,
      "outputs": []
    },
    {
      "cell_type": "code",
      "source": [
        "waveforms = []        # generated waveforms\n",
        "orig_parameters = []  # parameters, which are used for the generation\n",
        "NN_parameters = []    # parameters, reconstructed by the NN\n",
        "\n",
        "# vary the parameters to have a look a the performance outside the trained \n",
        "# parameter boundaries.\n",
        "parameter_variation = 0.1\n",
        "\n",
        "# increase the range of parameters in order to see, what is happening\n",
        "T_width    = ( P_width[0]    * (1 - parameter_variation) , P_width[1]    * (1 + parameter_variation) )\n",
        "T_position = ( P_position[0] * (1 - parameter_variation) , P_position[1] * (1 + parameter_variation) )\n",
        "T_height   = ( P_height[0]   * (1 - parameter_variation) , P_height[1]   * (1 + parameter_variation) )\n",
        "\n",
        "# generate the waveforms\n",
        "for i in range(TEST_SAMPLES):\n",
        "  # use random settings\n",
        "  width = np.random.randint( *T_width )\n",
        "  position = np.random.randint( *T_position )\n",
        "  height = np.random.randint( *T_height )\n",
        "\n",
        "  orig_parameters.append( (width, position, height) )\n",
        "  waveforms.append( np.array(generateTemplate(position = position, pulse_length = width, height=height, noise=noise) ) )"
      ],
      "metadata": {
        "id": "qvu48FbE6UTm"
      },
      "execution_count": 20,
      "outputs": []
    },
    {
      "cell_type": "code",
      "source": [
        "for i in range(TEST_SAMPLES):\n",
        "  # waveform needs to be reshaped to be fed into ANN\n",
        "  waveform = waveforms[i].reshape(1,128)\n",
        "  NN_parameters.append( np.array( model_1.predict(waveform)[0]) )\n"
      ],
      "metadata": {
        "id": "IXDLAkyy6lrh"
      },
      "execution_count": 21,
      "outputs": []
    },
    {
      "cell_type": "markdown",
      "source": [
        "Plot the distributions"
      ],
      "metadata": {
        "id": "GI7iIFsN7LMw"
      }
    },
    {
      "cell_type": "code",
      "source": [
        "plot_x = [k[0] for k in orig_parameters]\n",
        "plot_y = [k[0] for k in NN_parameters]\n",
        "plt.hist2d(plot_x, plot_y, bins=32, norm=LogNorm())\n",
        "plt.vlines(np.array(P_width),ymin=0, ymax=100)\n",
        "plt.plot( [np.min(plot_x), np.max(plot_x)], [np.min(plot_x), np.max(plot_x)])\n",
        "plt.title(\"width\")\n",
        "plt.ylabel(\"NN parameter\")\n",
        "plt.xlabel(\"truth parameter\")\n",
        "plt.show()"
      ],
      "metadata": {
        "colab": {
          "base_uri": "https://localhost:8080/",
          "height": 295
        },
        "id": "4abhDols7ORo",
        "outputId": "3cb2d809-6d97-46e3-8882-32c39a8b468e"
      },
      "execution_count": 22,
      "outputs": [
        {
          "output_type": "display_data",
          "data": {
            "text/plain": [
              "<Figure size 432x288 with 1 Axes>"
            ],
            "image/png": "[encoded data removed]"
          },
          "metadata": {
            "needs_background": "light"
          }
        }
      ]
    },
    {
      "cell_type": "code",
      "source": [
        "plot_x = [k[1] for k in orig_parameters]\n",
        "plot_y = [k[1] for k in NN_parameters]\n",
        "plt.hist2d(plot_x, plot_y, bins=32, norm=LogNorm())\n",
        "plt.vlines(np.array(P_position),ymin=0, ymax=100)\n",
        "plt.plot( [np.min(plot_x), np.max(plot_x)], [np.min(plot_x), np.max(plot_x)])\n",
        "plt.title(\"postition\")\n",
        "plt.ylabel(\"NN parameter\")\n",
        "plt.xlabel(\"truth parameter\")\n",
        "plt.show()"
      ],
      "metadata": {
        "colab": {
          "base_uri": "https://localhost:8080/",
          "height": 295
        },
        "id": "ql9DsEfg72Px",
        "outputId": "de03a9ab-e7fa-4643-c1f8-75793e09fb56"
      },
      "execution_count": 23,
      "outputs": [
        {
          "output_type": "display_data",
          "data": {
            "text/plain": [
              "<Figure size 432x288 with 1 Axes>"
            ],
            "image/png": "[encoded data removed]"
          },
          "metadata": {
            "needs_background": "light"
          }
        }
      ]
    },
    {
      "cell_type": "code",
      "source": [
        "plot_x = [k[2] for k in orig_parameters]\n",
        "plot_y = [k[2] for k in NN_parameters]\n",
        "plt.hist2d(plot_x, plot_y, bins=32, norm=LogNorm())\n",
        "plt.vlines(np.array(P_height),ymin=0, ymax=1000)\n",
        "plt.plot( [np.min(plot_x), np.max(plot_x)], [np.min(plot_x), np.max(plot_x)])\n",
        "plt.title(\"height\")\n",
        "plt.ylabel(\"NN parameter\")\n",
        "plt.xlabel(\"truth parameter\")\n",
        "plt.show()"
      ],
      "metadata": {
        "colab": {
          "base_uri": "https://localhost:8080/",
          "height": 295
        },
        "id": "4Co7DGIk740X",
        "outputId": "b831e705-3a9f-4fcb-eecc-1ae008cf8e2a"
      },
      "execution_count": 24,
      "outputs": [
        {
          "output_type": "display_data",
          "data": {
            "text/plain": [
              "<Figure size 432x288 with 1 Axes>"
            ],
            "image/png": "[encoded data removed]"
          },
          "metadata": {
            "needs_background": "light"
          }
        }
      ]
    },
    {
      "cell_type": "markdown",
      "source": [
        "# What happens at zero input?\n",
        "What if the input array is all zero?"
      ],
      "metadata": {
        "id": "GQCZ_TBbD2cd"
      }
    },
    {
      "cell_type": "code",
      "source": [
        "# waveform needs to be reshaped to be fed into ANN\n",
        "waveform = np.zeros(128)\n",
        "waveform = waveform.reshape(1,128)\n",
        "print( model_1.predict(waveform)[0] )"
      ],
      "metadata": {
        "id": "bFAuP2x7EAWE",
        "colab": {
          "base_uri": "https://localhost:8080/"
        },
        "outputId": "9a9c955e-80cd-40ab-accb-6da69d2c1a85"
      },
      "execution_count": 26,
      "outputs": [
        {
          "output_type": "stream",
          "name": "stdout",
          "text": [
            "[23.469942  19.418772   0.5978384]\n"
          ]
        }
      ]
    },
    {
      "cell_type": "markdown",
      "source": [
        "# Export to STM32"
      ],
      "metadata": {
        "id": "rB2GEVaYSFSn"
      }
    },
    {
      "cell_type": "markdown",
      "source": [
        "following:\n",
        "This [tutorial](https://www.digikey.de/en/maker/projects/tinyml-getting-started-with-stm32-x-cube-ai/f94e1c8bfc1e4b6291d0f672d780d2c0) from DigiKey "
      ],
      "metadata": {
        "id": "NMQ5nDGrXHo_"
      }
    },
    {
      "cell_type": "code",
      "source": [
        "# settings\n",
        "tflite_model_name = 'pulse_reco'  # Will be given .tflite suffix\n",
        "c_model_name = 'pulse_reco'       # Will be given .h suffix"
      ],
      "metadata": {
        "id": "aL0G5NQ8YULj"
      },
      "execution_count": 27,
      "outputs": []
    },
    {
      "cell_type": "code",
      "source": [
        "# Convert Keras model to a tflite model\n",
        "converter = tf.lite.TFLiteConverter.from_keras_model(model_1)\n",
        "converter.optimizations = [tf.lite.Optimize.DEFAULT]  # option OPTIMIZE_FOR_SIZE is deprecated\n",
        "tflite_model = converter.convert()\n",
        "\n",
        "open(tflite_model_name+'.tflite', 'wb').write(tflite_model)"
      ],
      "metadata": {
        "colab": {
          "base_uri": "https://localhost:8080/"
        },
        "id": "aRqSNF9LXy-4",
        "outputId": "eedec02a-7538-4276-c527-f6194cf151e2"
      },
      "execution_count": 28,
      "outputs": [
        {
          "output_type": "stream",
          "name": "stdout",
          "text": [
            "INFO:tensorflow:Assets written to: /tmp/tmpfo3zq_4e/assets\n"
          ]
        },
        {
          "output_type": "stream",
          "name": "stderr",
          "text": [
            "WARNING:absl:Buffer deduplication procedure will be skipped when flatbuffer library is not properly loaded\n"
          ]
        },
        {
          "output_type": "execute_result",
          "data": {
            "text/plain": [
              "13840"
            ]
          },
          "metadata": {},
          "execution_count": 28
        }
      ]
    },
    {
      "cell_type": "markdown",
      "source": [
        "For usage inside the [STM32Cube.AI](https://www.st.com/content/st_com/en/support/learning/stm32-education/stm32-moocs/Introduction_to_STM32CubeAI_MOOC.html) it is sufficient to just have the tensorflow light model. The special export seems not be needed."
      ],
      "metadata": {
        "id": "oF93jw-v-FMP"
      }
    },
    {
      "cell_type": "markdown",
      "source": [
        "We have to define a special function, which exports our data into a H-file, which can be later used and included into our microcontroller code.\n",
        "\n",
        "The function is from https://gist.github.com/ShawnHymel/79237fe6aee5a3653c497d879f746c0c"
      ],
      "metadata": {
        "id": "tQG-2XJIZkFU"
      }
    },
    {
      "cell_type": "markdown",
      "source": [
        "## Test the TFlite model"
      ],
      "metadata": {
        "id": "gt7YY5yMGLrD"
      }
    },
    {
      "cell_type": "code",
      "source": [
        "# Load the TFLite model and allocate tensors.\n",
        "interpreter = tf.lite.Interpreter(model_path=tflite_model_name+\".tflite\")\n",
        "interpreter.allocate_tensors()\n",
        "\n",
        "# Get input and output tensors.\n",
        "input_details = interpreter.get_input_details()\n",
        "output_details = interpreter.get_output_details()\n",
        "\n",
        "# Test the model on random input data.\n",
        "input_shape = input_details[0]['shape']\n",
        "\n",
        "input_data = np.array(np.zeros(input_shape), dtype=np.float32)\n",
        "interpreter.set_tensor(input_details[0]['index'], input_data)\n",
        "\n",
        "interpreter.invoke()\n",
        "\n",
        "output_data = interpreter.get_tensor(output_details[0]['index'])[0]\n",
        "print(output_data)\n"
      ],
      "metadata": {
        "colab": {
          "base_uri": "https://localhost:8080/"
        },
        "id": "a_k8NQt_GRop",
        "outputId": "1ed221f6-0476-4a37-bf4f-d32b559db722"
      },
      "execution_count": 42,
      "outputs": [
        {
          "output_type": "stream",
          "name": "stdout",
          "text": [
            "[23.50424   19.46304    0.5953806]\n"
          ]
        }
      ]
    },
    {
      "cell_type": "markdown",
      "source": [
        "# Generate Test data for STM32\n",
        "In order to test the function of the ANN, especially its performance in time a certain \"test\" dataset is needed.\n",
        "\n",
        "The plan is to transfer the test data via serial communication to the device, and then give it a command to run the ANN on this data.\n",
        "\n",
        "Since timing is critical and should be measured, this can be done best by the duration of a digital signal. \n",
        "\n",
        "So a digital pin is set high while the ANN is running. When the result is ready, the pin can be lowered again. By sampling this pin with a logic analyser / oscilloscope it is possible to determine the run time of the ANN."
      ],
      "metadata": {
        "id": "iLiVoCr7vC3v"
      }
    },
    {
      "cell_type": "code",
      "source": [
        "parameters = []\n",
        "waveforms = []\n",
        "\n",
        "for i in range(10):\n",
        "  width = np.random.randint(16, 64)               # width of 16 to 64\n",
        "  position = np.random.randint(0, high=96-width) # arbitrary position\n",
        "  noise = np.random.randint(1,30)/10.             # 0.1 to 3 LSB noise\n",
        "  height = np.random.randint(32,128)              # pulse height of 32 to 128\n",
        "\n",
        "  parameters.append((position, width, noise, height))\n",
        "  waveforms.append( generateTemplate(position = position, pulse_length = width, height=height, noise=noise) )\n",
        "\n",
        "print(parameters)\n",
        "print(waveforms)\n",
        "\n",
        "np.savez(\"test_data.npz\", parameters=parameters, waveforms=waveforms)"
      ],
      "metadata": {
        "colab": {
          "base_uri": "https://localhost:8080/"
        },
        "outputId": "2f30d286-de42-45bf-ec53-a84b7a8028bd",
        "id": "MRk0LTICyPNs"
      },
      "execution_count": 29,
      "outputs": [
        {
          "output_type": "stream",
          "name": "stdout",
          "text": [
            "[(42, 50, 1.6, 34), (9, 59, 1.0, 94), (20, 51, 2.0, 96), (26, 41, 1.8, 81), (7, 57, 2.4, 61), (55, 39, 2.7, 51), (58, 35, 1.0, 32), (22, 39, 0.9, 77), (38, 51, 2.8, 116), (30, 57, 2.0, 102)]\n",
            "[array([ 0,  0,  1,  0,  3,  0,  0,  1,  1, -1,  2, -1, -1, -1, -1, -2, -1,\n",
            "       -2,  3,  1, -1,  2,  0,  2,  0,  2,  0, -1, -2,  0,  0,  0,  0,  3,\n",
            "        2,  1,  2,  3,  2,  1,  0, -1, -2,  5, 15, 23, 32, 36, 33, 31, 32,\n",
            "       35, 35, 33, 34, 31, 31, 34, 35, 31, 32, 33, 33, 31, 36, 35, 35, 36,\n",
            "       32, 35, 32, 34, 35, 31, 33, 35, 35, 36, 30, 34, 34, 33, 32, 32, 35,\n",
            "       34, 33, 36, 34, 33, 31, 33, 36, 32, 34, 33, 33, 26, 18,  9,  3, -1,\n",
            "        1, -2,  0,  0,  0,  0,  0,  0,  0,  1,  0,  1,  1,  0,  3,  1, -1,\n",
            "        0,  0,  0, -1,  1,  1,  1,  0,  0]), array([ 0,  0,  1,  0,  0, -2,  0,  1,  1,  0, 21, 46, 68, 92, 94, 93, 93,\n",
            "       95, 93, 93, 94, 94, 93, 94, 95, 93, 95, 96, 93, 95, 93, 93, 93, 94,\n",
            "       93, 95, 95, 94, 93, 92, 94, 93, 94, 93, 93, 94, 93, 94, 95, 92, 92,\n",
            "       93, 94, 95, 96, 93, 94, 96, 95, 94, 93, 95, 94, 93, 93, 93, 95, 93,\n",
            "       96, 95, 94, 94, 92, 70, 47, 23,  1,  0,  1,  0,  0,  0,  0,  0,  0,\n",
            "       -1,  0,  1,  0,  0,  0,  0,  0,  0,  0,  0,  0,  0, -1,  0,  0,  1,\n",
            "        1,  0,  0, -1,  0,  0, -1,  0,  0,  0,  1,  1,  0,  0,  0,  0,  0,\n",
            "        0,  1,  0,  0,  0, -1, -1,  0,  0]), array([ 1,  0,  2, -1,  0,  0,  2,  0,  2, -1,  0, -1,  0,  3,  1,  3, -3,\n",
            "        1, -3,  1, -2, 22, 46, 68, 98, 94, 94, 94, 95, 96, 93, 98, 93, 97,\n",
            "       95, 94, 91, 96, 98, 97, 97, 97, 94, 94, 95, 98, 95, 96, 97, 94, 94,\n",
            "       93, 96, 93, 95, 92, 99, 95, 94, 95, 95, 94, 95, 95, 94, 97, 97, 93,\n",
            "       97, 93, 97, 91, 94, 96, 94, 91, 70, 53, 22,  0, -3, -2,  0,  4,  0,\n",
            "       -2, -1, -1, -4, -3,  2,  1, -1,  1,  2,  0, -1,  0, -1,  1, -4,  0,\n",
            "        0,  0,  1, -3,  0,  0,  0, -1,  1,  0,  2,  0, -1,  2, -3, -1, -1,\n",
            "        0,  0,  0,  1, -3,  2,  0,  0,  1]), array([ 0,  0,  0,  0,  3,  0,  2, -1, -1, -1,  0, -1,  3,  0, -1, -2, -2,\n",
            "        0,  1, -3,  0,  1,  2, -1,  2,  0,  0, 19, 40, 61, 79, 77, 85, 79,\n",
            "       82, 80, 81, 80, 82, 79, 81, 82, 81, 80, 81, 76, 80, 82, 81, 80, 80,\n",
            "       82, 81, 77, 82, 84, 83, 81, 81, 80, 76, 79, 82, 85, 83, 80, 80, 81,\n",
            "       86, 80, 80, 83, 62, 39, 21, -1,  0,  3,  1,  0,  0,  0,  1,  0,  0,\n",
            "        0, -2,  2, -2,  0,  1,  0, -2,  1,  0,  1,  0,  2, -2,  0,  0,  0,\n",
            "        1,  0,  0,  3, -1,  3,  0,  0,  0,  0,  2,  2,  0,  0,  1,  2, -2,\n",
            "        0, -1,  0,  0,  0, -2,  1,  0, -1]), array([-3, -1, -3, -3,  1,  4,  0,  0, 15, 36, 42, 62, 61, 63, 63, 60, 58,\n",
            "       60, 61, 61, 67, 60, 57, 63, 61, 59, 63, 61, 65, 61, 57, 58, 58, 62,\n",
            "       61, 59, 57, 59, 62, 61, 60, 61, 61, 58, 59, 58, 55, 58, 61, 62, 60,\n",
            "       57, 60, 62, 61, 62, 64, 62, 58, 58, 60, 59, 65, 60, 60, 65, 60, 58,\n",
            "       63, 47, 29, 16,  1,  0, -1, -4, -2,  0, -1, -2,  0,  2,  0,  5, -1,\n",
            "        4,  2, -2, -1, -3,  0, -1, -2, -3, -1,  0, -3, -4, -3,  3, -1, -3,\n",
            "       -4, -1,  1,  0,  0,  3,  0,  1, -1,  0,  2,  0,  2,  0, -3,  1,  1,\n",
            "       -1, -1,  2,  4,  0,  0,  3,  0, -4]), array([ 1,  1,  3, -2, -3, -4,  3, -1, -1,  5,  0,  0,  0, -2, -4, -6, -4,\n",
            "       -5,  2, -4, -4, -4,  0,  2,  0, -3,  3, -4,  0,  0,  0,  2,  2,  3,\n",
            "        4,  1, -4,  0, -6, -3,  1,  2,  0,  2,  0, -3, -3,  2, -1, -1, -1,\n",
            "        3,  2,  1,  0, -1, 15, 25, 36, 55, 51, 53, 53, 47, 55, 50, 53, 51,\n",
            "       46, 47, 54, 48, 50, 44, 55, 47, 51, 53, 56, 49, 51, 50, 49, 46, 55,\n",
            "       52, 49, 55, 51, 50, 50, 53, 50, 46, 49, 52, 52, 51, 52, 40, 26, 16,\n",
            "        0, -2, -7,  0, -5, -6,  1,  1,  5, -2, -1, -4, -1,  1,  0,  0, -1,\n",
            "        2, -2,  1, -4,  0, -4,  2,  2,  0]), array([-1,  1, -1,  0,  0, -1,  0,  0,  1, -1,  1,  1,  1,  0,  0,  0, -1,\n",
            "        1,  0,  0,  0,  0,  0,  0, -1,  0,  1,  0,  0,  0, -1,  0,  0,  0,\n",
            "        0,  0,  0,  0,  0,  2,  1,  0,  1,  0,  1,  0,  0,  1,  0,  0,  0,\n",
            "        1, -1,  0, -1,  0,  0,  0,  0,  9, 17, 25, 31, 31, 33, 31, 31, 31,\n",
            "       32, 31, 31, 32, 31, 33, 31, 31, 33, 32, 31, 32, 32, 30, 31, 31, 30,\n",
            "       31, 31, 32, 31, 32, 33, 32, 31, 32, 33, 32, 32, 31, 23, 15,  8,  1,\n",
            "        0, -1,  0,  0,  0,  0,  0,  0, -2,  0,  1,  0,  0,  0,  0,  1,  0,\n",
            "        0,  0,  0,  1, -1,  0,  0,  0,  0]), array([ 0,  1,  0,  1,  0,  0,  0, -1,  0,  0,  1,  0,  0,  0, -2,  0,  0,\n",
            "        0,  1,  0,  0, -1,  0, 18, 38, 57, 76, 76, 76, 78, 77, 76, 77, 77,\n",
            "       76, 77, 77, 75, 77, 75, 75, 77, 77, 77, 75, 77, 76, 76, 76, 76, 76,\n",
            "       76, 77, 78, 76, 76, 76, 78, 77, 76, 76, 77, 77, 77, 78, 76, 57, 37,\n",
            "       20,  0,  0,  0,  0,  0,  0,  0,  1,  0,  1,  0,  0,  0, -1,  0,  0,\n",
            "        0,  1,  1, -1,  0,  1,  0,  0,  0,  0,  1,  0,  0, -2, -1,  0,  0,\n",
            "        0, -1,  0,  0,  0,  0, -1,  0, -1, -1,  0,  0,  1,  0,  2, -1,  0,\n",
            "        0,  0,  0,  0,  0,  0,  0,  0,  0]), array([  2,  -6,   0,   0,  -4,   0,   0,   1,   4,  -4,   0,   0,   2,\n",
            "        -2,  -3,  -1,   1,   2,  -3,  -1,   0,   2,   0,   4,   1,   0,\n",
            "        -4,   2,   3,  -1,   0,  -1,   3,  -3,   1,   0,  -1,   0,   2,\n",
            "        29,  60,  82, 112, 114, 119, 114, 113, 111, 113, 117, 120, 116,\n",
            "       115, 119, 116, 113, 114, 119, 112, 120, 119, 116, 112, 112, 116,\n",
            "       118, 112, 118, 117, 118, 109, 119, 115, 116, 113, 115, 118, 114,\n",
            "       121, 118, 116, 112, 116, 114, 115, 116, 119, 112, 115, 116, 116,\n",
            "       120, 117, 116,  84,  60,  27,  -3,  -2,   4,  -3,  -2,  -4,   2,\n",
            "        -6,   0,   0,   0,   0,   0,   0,   6,   5,  -1,  -3,   4,  -6,\n",
            "        -1,   0,   0,   3,   1,  -3,   2,  -1,   3,   0,  -5]), array([  0,   4,   1,   0,   1,   0,   0,   1,  -2,   0,  -1,   0,   0,\n",
            "         0,   0,   0,   2,   0,   0,   2,   0,   2,   2,   0,   0,   0,\n",
            "         2,   0,   0,   2,   0,  24,  52,  74, 101, 100, 101, 104, 100,\n",
            "       106,  98,  99, 103, 103,  97, 103, 105,  99, 102,  98, 101, 102,\n",
            "        98, 102, 103, 100, 101, 101, 102, 100, 100, 104, 101, 107, 103,\n",
            "       101, 102, 104, 101, 101, 101,  98, 104, 101, 102, 104, 105, 105,\n",
            "        99, 101, 102,  99, 102, 100, 102, 102,  99, 100, 102, 104,  98,\n",
            "       101,  75,  50,  24,   0,   2,   1,   3,   1,   3,   0,   1,   0,\n",
            "         0,   0,   3,   0,   1,  -1,  -1,   0,  -3,  -1,   0,   1,   0,\n",
            "         0,  -1,   2,   1,  -2,   0,  -4,   1,   0,   0,   3])]\n"
          ]
        }
      ]
    }
  ]
}