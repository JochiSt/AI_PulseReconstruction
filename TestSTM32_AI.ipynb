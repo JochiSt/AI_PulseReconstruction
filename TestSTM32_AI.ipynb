{
  "nbformat": 4,
  "nbformat_minor": 0,
  "metadata": {
    "colab": {
      "name": "TestSTM32_AI.ipynb",
      "provenance": [],
      "collapsed_sections": [],
      "toc_visible": true,
      "authorship_tag": "ABX9TyOLx+0To9k+dkgIFhMT0M+7",
      "include_colab_link": true
    },
    "kernelspec": {
      "name": "python3",
      "display_name": "Python 3"
    },
    "language_info": {
      "name": "python"
    }
  },
  "cells": [
    {
      "cell_type": "markdown",
      "metadata": {
        "id": "view-in-github",
        "colab_type": "text"
      },
      "source": [
        "<a href=\"https://colab.research.google.com/github/JochiSt/AI_PulseReconstruction/blob/main/TestSTM32_AI.ipynb\" target=\"_parent\"><img src=\"https://colab.research.google.com/assets/colab-badge.svg\" alt=\"Open In Colab\"/></a>"
      ]
    },
    {
      "cell_type": "markdown",
      "source": [
        "# Pulse recognition AI\n",
        "\n",
        "first all the imports"
      ],
      "metadata": {
        "id": "brM0YAG3Vcen"
      }
    },
    {
      "cell_type": "code",
      "execution_count": 175,
      "metadata": {
        "id": "dW80rxgzVZ8z"
      },
      "outputs": [],
      "source": [
        "import numpy as np\n",
        "import matplotlib.pyplot as plt\n",
        "from matplotlib.colors import LogNorm"
      ]
    },
    {
      "cell_type": "markdown",
      "source": [
        "## Generate template"
      ],
      "metadata": {
        "id": "XUxegHb0V0qN"
      }
    },
    {
      "cell_type": "code",
      "source": [
        "TOTAL_SAMPLES = 128\n",
        "RISING_POINTS = 4\n",
        "\n",
        "def generateTemplate(position = 0, pulse_length = 32, height=1, noise=0):\n",
        "\n",
        "  assert TOTAL_SAMPLES - pulse_length - position - RISING_POINTS * 2 > 0\n",
        "\n",
        "  # zeroes at front of the pulse\n",
        "  template = np.zeros(position)\n",
        "\n",
        "  # create rising edge\n",
        "  template = np.append(template, np.linspace(0,1,RISING_POINTS, endpoint=False))\n",
        "\n",
        "  # high part of the pulse\n",
        "  template = np.append(template, np.ones(pulse_length))\n",
        "\n",
        "  # create falling edge\n",
        "  template = np.append(template, np.linspace(1,0,RISING_POINTS, endpoint=False))\n",
        "\n",
        "  # zeroes after the pulse\n",
        "  template = np.append(template, np.zeros( TOTAL_SAMPLES - pulse_length - position - 2*RISING_POINTS))\n",
        "\n",
        "  # multiply by the height to get the right amplitude\n",
        "  template *= height\n",
        "\n",
        "  # add some noise\n",
        "  template  += noise * np.random.randn(*template.shape)\n",
        "\n",
        "  # convert to integer\n",
        "  template = template.astype(int)\n",
        "\n",
        "  return template\n",
        "\n",
        "print(\"template length: \", len(generateTemplate()))"
      ],
      "metadata": {
        "colab": {
          "base_uri": "https://localhost:8080/"
        },
        "id": "RPOJ8P9jWBRa",
        "outputId": "96385266-82b2-446e-d116-bc244889ebf7"
      },
      "execution_count": 167,
      "outputs": [
        {
          "output_type": "stream",
          "name": "stdout",
          "text": [
            "template length:  128\n"
          ]
        }
      ]
    },
    {
      "cell_type": "markdown",
      "source": [
        "Have a look at the template visually"
      ],
      "metadata": {
        "id": "I1PFw1tzV8kx"
      }
    },
    {
      "cell_type": "code",
      "source": [
        "plt.plot(generateTemplate(position = 32, pulse_length=32, height=128), 'b.')\n",
        "plt.plot(generateTemplate(position = 16, pulse_length=64, height=128), 'r.')\n",
        "plt.show()"
      ],
      "metadata": {
        "colab": {
          "base_uri": "https://localhost:8080/",
          "height": 265
        },
        "id": "L1VUYDhUWw9t",
        "outputId": "fa03793d-a916-4b8d-8e00-68cf34b3fbd7"
      },
      "execution_count": 168,
      "outputs": [
        {
          "output_type": "display_data",
          "data": {
            "image/png": "[encoded data removed]",
            "text/plain": [
              "<Figure size 432x288 with 1 Axes>"
            ]
          },
          "metadata": {
            "needs_background": "light"
          }
        }
      ]
    },
    {
      "cell_type": "markdown",
      "source": [
        "add some noise, and maybe shift the position\n",
        "\n",
        "\n",
        "\n"
      ],
      "metadata": {
        "id": "kYBulwl2XGvg"
      }
    },
    {
      "cell_type": "code",
      "source": [
        "# Plot our data\n",
        "plt.plot(generateTemplate(height=128, noise=1), 'b.')\n",
        "plt.show()"
      ],
      "metadata": {
        "id": "ouyegrmBXGJg",
        "colab": {
          "base_uri": "https://localhost:8080/",
          "height": 265
        },
        "outputId": "e104891b-58bd-4bc1-9fd1-c5bf25b7acca"
      },
      "execution_count": 169,
      "outputs": [
        {
          "output_type": "display_data",
          "data": {
            "image/png": "[encoded data removed]",
            "text/plain": [
              "<Figure size 432x288 with 1 Axes>"
            ]
          },
          "metadata": {
            "needs_background": "light"
          }
        }
      ]
    },
    {
      "cell_type": "markdown",
      "source": [
        "## Create Templates for recognision\n",
        "\n",
        "Generate a couple of templates, which have a pulse in them, and some without any data"
      ],
      "metadata": {
        "id": "u1emwvE7ogUq"
      }
    },
    {
      "cell_type": "code",
      "source": [
        "for i in range(10):\n",
        "  width = np.random.randint(16, 64)               # width of 16 to 64\n",
        "  position = np.random.randint(0, high=96-width) # arbitrary position\n",
        "  noise = np.random.randint(1,30)/10.             # 0.1 to 3 LSB noise\n",
        "  height = np.random.randint(32,128)              # pulse height of 32 to 128\n",
        "\n",
        "  print(position, width, noise, height)\n",
        "  plt.plot(generateTemplate(position = position, pulse_length = width, height=height, noise=noise))\n",
        "\n",
        "plt.show()"
      ],
      "metadata": {
        "colab": {
          "base_uri": "https://localhost:8080/",
          "height": 449
        },
        "id": "1bzxxYb7odBS",
        "outputId": "25401245-216b-441a-aae4-01467ad1018e"
      },
      "execution_count": 171,
      "outputs": [
        {
          "output_type": "stream",
          "name": "stdout",
          "text": [
            "25 50 1.4 118\n",
            "13 44 2.8 75\n",
            "41 32 0.1 67\n",
            "48 22 0.1 94\n",
            "23 23 1.4 55\n",
            "44 39 2.5 80\n",
            "16 58 1.6 36\n",
            "5 60 2.0 95\n",
            "43 23 0.3 110\n",
            "19 55 1.7 91\n"
          ]
        },
        {
          "output_type": "display_data",
          "data": {
            "image/png": "[encoded data removed]",
            "text/plain": [
              "<Figure size 432x288 with 1 Axes>"
            ]
          },
          "metadata": {
            "needs_background": "light"
          }
        }
      ]
    },
    {
      "cell_type": "markdown",
      "source": [
        "# Building the ANN\n"
      ],
      "metadata": {
        "id": "gEwEaXGCzATx"
      }
    },
    {
      "cell_type": "markdown",
      "source": [
        "### Purpose of the ANN\n",
        "We want to do Pattern Recognition, based on the waveforms shown above.\n",
        "\n",
        "The output parameters, which we want to reconstruct are:\n",
        "*   Width\n",
        "*   Position\n",
        "*   height\n"
      ],
      "metadata": {
        "id": "xAJs9gcpMi9V"
      }
    },
    {
      "cell_type": "markdown",
      "source": [
        "Starting with importing all things, which we need for creating a model"
      ],
      "metadata": {
        "id": "ffHEzdBezI__"
      }
    },
    {
      "cell_type": "code",
      "source": [
        "# TensorFlow is an open source machine learning library\n",
        "import tensorflow as tf\n",
        "# Keras is TensorFlow's high-level API for deep learning\n",
        "from tensorflow import keras"
      ],
      "metadata": {
        "id": "AVbyQZoBzNxw"
      },
      "execution_count": 115,
      "outputs": []
    },
    {
      "cell_type": "code",
      "source": [
        "# number of samples for training, testing etc.\n",
        "SAMPLES = 10000"
      ],
      "metadata": {
        "id": "_2mfaOUkzo12"
      },
      "execution_count": 116,
      "outputs": []
    },
    {
      "cell_type": "markdown",
      "source": [
        "## Generate the samples\n",
        "We want to do Pattern recognition, so we have to link the waveforms to the input parameters."
      ],
      "metadata": {
        "id": "UCMepv3tzyM9"
      }
    },
    {
      "cell_type": "code",
      "source": [
        "# use fixed value for noise (1st try)\n",
        "noise = 1 \n",
        "\n",
        "y_values = []\n",
        "x_values = []\n",
        "\n",
        "# generate the waveforms\n",
        "for i in range(SAMPLES):\n",
        "  # use random settings\n",
        "  width = np.random.randint(16, 32)         # width of 16 to 64\n",
        "  position = np.random.randint(16, high=24) # limit position into a certain window\n",
        "  height = np.random.randint(32,128)        # pulse height of 32 to 128\n",
        "\n",
        "  x_values.append( (width, position, height) )\n",
        "  y_values.append( generateTemplate(position = position, pulse_length = width, height=height, noise=noise) )\n",
        "\n",
        "# debug printouts\n",
        "#print(x_values[:2])\n",
        "#print(y_values[:2])"
      ],
      "metadata": {
        "id": "6uUa9b2pzviJ"
      },
      "execution_count": 172,
      "outputs": []
    },
    {
      "cell_type": "markdown",
      "source": [
        "### Look at the training data\n",
        "Just make a 2D histogram of all templates."
      ],
      "metadata": {
        "id": "M54DYG8PLBYg"
      }
    },
    {
      "cell_type": "code",
      "source": [
        "if True:\n",
        "  plot_x = [ np.arange(128) for i in range(len(y_values)) ]\n",
        "  plot_x = np.array(plot_x)\n",
        "  plot_x = plot_x.flatten()\n",
        "  plot_y = np.array(y_values)\n",
        "  plot_y = plot_y.flatten()\n",
        "  plt.hist2d(plot_x, plot_y, bins=128, norm=LogNorm())\n",
        "  plt.show()"
      ],
      "metadata": {
        "colab": {
          "base_uri": "https://localhost:8080/",
          "height": 265
        },
        "id": "oc_SbOCaLKKe",
        "outputId": "eb3d7d31-d632-457b-fdf6-8a3ba0001ec1"
      },
      "execution_count": 179,
      "outputs": [
        {
          "output_type": "display_data",
          "data": {
            "image/png": "[encoded data removed]",
            "text/plain": [
              "<Figure size 432x288 with 1 Axes>"
            ]
          },
          "metadata": {
            "needs_background": "light"
          }
        }
      ]
    },
    {
      "cell_type": "markdown",
      "source": [
        "## Split the waveforms into Training, Testing and Validation"
      ],
      "metadata": {
        "id": "uxBiOKO90JG_"
      }
    },
    {
      "cell_type": "code",
      "source": [
        "# We'll use 60% of our data for training and 20% for testing. The remaining 20%\n",
        "# will be used for validation. Calculate the indices of each section.\n",
        "TRAIN_SPLIT =  int(0.6 * SAMPLES)\n",
        "TEST_SPLIT = int(0.2 * SAMPLES + TRAIN_SPLIT)\n",
        "print(\"using %d points for training and %d points for testing\"%(TRAIN_SPLIT, TEST_SPLIT))\n",
        "\n",
        "# convert data into numpy arrays\n",
        "y_values = np.array(y_values) # parameters\n",
        "x_values = np.array(x_values) # waveforms\n",
        "\n",
        "# Use np.split to chop our data into three parts.\n",
        "# The second argument to np.split is an array of indices where the data will be\n",
        "# split. We provide two indices, so the data will be divided into three chunks.\n",
        "x_train, x_test, x_validate = np.split(x_values, [TRAIN_SPLIT, TEST_SPLIT])\n",
        "y_train, y_test, y_validate = np.split(y_values, [TRAIN_SPLIT, TEST_SPLIT])\n",
        "\n",
        "# Double check that our splits add up correctly\n",
        "assert (len(x_train) + len(x_validate) + len(x_test) ) ==  SAMPLES"
      ],
      "metadata": {
        "id": "_gxWfkRezVf3",
        "colab": {
          "base_uri": "https://localhost:8080/"
        },
        "outputId": "57165096-cfd0-4d79-b6ef-b33ed81a35b1"
      },
      "execution_count": 133,
      "outputs": [
        {
          "output_type": "stream",
          "name": "stdout",
          "text": [
            "using 6000 points for training and 8000 points for testing\n"
          ]
        }
      ]
    },
    {
      "cell_type": "markdown",
      "source": [
        "## Create the ANN"
      ],
      "metadata": {
        "id": "tfIC4_-l0Cc4"
      }
    },
    {
      "cell_type": "code",
      "source": [
        "inputs = keras.Input(shape=(128,), name=\"waveform_input\")\n",
        "\n",
        "layer_cnt=0\n",
        "x = keras.layers.Dense(128, name=\"layer_%d\"%(layer_cnt))(inputs)\n",
        "layer_cnt+=1\n",
        "\n",
        "x = keras.layers.Dense(128, name=\"layer_%d\"%(layer_cnt))(x)\n",
        "layer_cnt+=1\n",
        "\n",
        "x = keras.layers.Dense(128, name=\"layer_%d\"%(layer_cnt))(x)\n",
        "layer_cnt+=1\n",
        "\n",
        "x = keras.layers.Dense(64,  name=\"layer_%d\"%(layer_cnt))(x)\n",
        "layer_cnt+=1\n",
        "\n",
        "# final layer for classification\n",
        "outputs = keras.layers.Dense(3, name=\"classification\")(x)\n",
        "\n",
        "model_1 = keras.Model(inputs=inputs, outputs=outputs)\n",
        "model_1.summary()\n",
        "\n",
        "# Compile the model using the standard 'adam' optimizer and the mean squared error or 'mse' loss function for regression.\n",
        "model_1.compile(optimizer='adam', loss='mse', metrics=['mae'])"
      ],
      "metadata": {
        "id": "FbTg1F3s0BTe",
        "colab": {
          "base_uri": "https://localhost:8080/"
        },
        "outputId": "f6692bab-b506-475d-9c14-fd3e62365f26"
      },
      "execution_count": 134,
      "outputs": [
        {
          "output_type": "stream",
          "name": "stdout",
          "text": [
            "Model: \"model_15\"\n",
            "_________________________________________________________________\n",
            " Layer (type)                Output Shape              Param #   \n",
            "=================================================================\n",
            " waveform_input (InputLayer)  [(None, 128)]            0         \n",
            "                                                                 \n",
            " layer_0 (Dense)             (None, 128)               16512     \n",
            "                                                                 \n",
            " layer_1 (Dense)             (None, 128)               16512     \n",
            "                                                                 \n",
            " layer_2 (Dense)             (None, 32)                4128      \n",
            "                                                                 \n",
            " layer_3 (Dense)             (None, 64)                2112      \n",
            "                                                                 \n",
            " classification (Dense)      (None, 3)                 195       \n",
            "                                                                 \n",
            "=================================================================\n",
            "Total params: 39,459\n",
            "Trainable params: 39,459\n",
            "Non-trainable params: 0\n",
            "_________________________________________________________________\n"
          ]
        }
      ]
    },
    {
      "cell_type": "markdown",
      "source": [
        "## Train the model"
      ],
      "metadata": {
        "id": "hjz2ghXbL9Ok"
      }
    },
    {
      "cell_type": "code",
      "source": [
        "# Train the model on our training data while validating on our validation set\n",
        "# remember:\n",
        "#     y = waveforms\n",
        "#     x = truth parameters\n",
        "# just do some trainings to see, whether this structure works or not\n",
        "\n",
        "history_1 = model_1.fit(y_train, x_train, epochs=4, batch_size=128, validation_data=(y_validate, x_validate))"
      ],
      "metadata": {
        "colab": {
          "base_uri": "https://localhost:8080/"
        },
        "id": "Zsx72tmvxNnj",
        "outputId": "7d2e5b85-b848-4293-e329-9012ae5d2abb"
      },
      "execution_count": 135,
      "outputs": [
        {
          "output_type": "stream",
          "name": "stdout",
          "text": [
            "Epoch 1/4\n",
            "47/47 [==============================] - 1s 8ms/step - loss: 497.8816 - mae: 14.2485 - val_loss: 54.2148 - val_mae: 5.8864\n",
            "Epoch 2/4\n",
            "47/47 [==============================] - 0s 4ms/step - loss: 46.9513 - mae: 5.2956 - val_loss: 38.5855 - val_mae: 4.6431\n",
            "Epoch 3/4\n",
            "47/47 [==============================] - 0s 5ms/step - loss: 38.2350 - mae: 4.6100 - val_loss: 35.2828 - val_mae: 4.3566\n",
            "Epoch 4/4\n",
            "47/47 [==============================] - 0s 5ms/step - loss: 35.6994 - mae: 4.4039 - val_loss: 33.3801 - val_mae: 4.2384\n"
          ]
        }
      ]
    },
    {
      "cell_type": "code",
      "source": [
        "# fully train the network\n",
        "history_1 = model_1.fit(y_train, x_train, epochs=500, batch_size=64, validation_data=(y_validate, x_validate))\n",
        "\n",
        "# Save the model to disk\n",
        "!mkdir -p saved_model\n",
        "model_1.save('saved_model/STM32_AI_Test')"
      ],
      "metadata": {
        "colab": {
          "base_uri": "https://localhost:8080/"
        },
        "id": "xMQfeuZ_L7QU",
        "outputId": "6647f924-de1e-4c17-86f9-5cf21d041bee"
      },
      "execution_count": 136,
      "outputs": [
        {
          "output_type": "stream",
          "name": "stdout",
          "text": [
            "Epoch 1/500\n",
            "94/94 [==============================] - 0s 3ms/step - loss: 34.7314 - mae: 4.4126 - val_loss: 31.1085 - val_mae: 4.1083\n",
            "Epoch 2/500\n",
            "94/94 [==============================] - 0s 3ms/step - loss: 32.1085 - mae: 4.2342 - val_loss: 33.8445 - val_mae: 4.7922\n",
            "Epoch 3/500\n",
            "94/94 [==============================] - 0s 4ms/step - loss: 31.0229 - mae: 4.2653 - val_loss: 28.1539 - val_mae: 4.1147\n",
            "Epoch 4/500\n",
            "94/94 [==============================] - 0s 4ms/step - loss: 27.6381 - mae: 3.9824 - val_loss: 24.3443 - val_mae: 3.6418\n",
            "Epoch 5/500\n",
            "94/94 [==============================] - 1s 7ms/step - loss: 26.3093 - mae: 3.9648 - val_loss: 26.6830 - val_mae: 3.9122\n",
            "Epoch 6/500\n",
            "94/94 [==============================] - 1s 7ms/step - loss: 22.2272 - mae: 3.6248 - val_loss: 19.1838 - val_mae: 3.3025\n",
            "Epoch 7/500\n",
            "94/94 [==============================] - 0s 4ms/step - loss: 21.4611 - mae: 3.5983 - val_loss: 17.2882 - val_mae: 2.9671\n",
            "Epoch 8/500\n",
            "94/94 [==============================] - 0s 4ms/step - loss: 16.3256 - mae: 3.0624 - val_loss: 14.1918 - val_mae: 2.8998\n",
            "Epoch 9/500\n",
            "94/94 [==============================] - 0s 4ms/step - loss: 13.1564 - mae: 2.7075 - val_loss: 23.6413 - val_mae: 3.9668\n",
            "Epoch 10/500\n",
            "94/94 [==============================] - 0s 4ms/step - loss: 14.7338 - mae: 2.7217 - val_loss: 7.7979 - val_mae: 1.9870\n",
            "Epoch 11/500\n",
            "94/94 [==============================] - 0s 4ms/step - loss: 7.0533 - mae: 1.8887 - val_loss: 4.5351 - val_mae: 1.4802\n",
            "Epoch 12/500\n",
            "94/94 [==============================] - 0s 4ms/step - loss: 10.7564 - mae: 2.1869 - val_loss: 3.9523 - val_mae: 1.3305\n",
            "Epoch 13/500\n",
            "94/94 [==============================] - 0s 4ms/step - loss: 5.8603 - mae: 1.6348 - val_loss: 3.1061 - val_mae: 1.1977\n",
            "Epoch 14/500\n",
            "94/94 [==============================] - 0s 4ms/step - loss: 5.9844 - mae: 1.5807 - val_loss: 3.5933 - val_mae: 1.3072\n",
            "Epoch 15/500\n",
            "94/94 [==============================] - 0s 5ms/step - loss: 4.4515 - mae: 1.3903 - val_loss: 4.1374 - val_mae: 1.5142\n",
            "Epoch 16/500\n",
            "94/94 [==============================] - 0s 4ms/step - loss: 5.7192 - mae: 1.5763 - val_loss: 8.0209 - val_mae: 1.7887\n",
            "Epoch 17/500\n",
            "94/94 [==============================] - 0s 4ms/step - loss: 3.1992 - mae: 1.1916 - val_loss: 2.1031 - val_mae: 1.0013\n",
            "Epoch 18/500\n",
            "94/94 [==============================] - 0s 4ms/step - loss: 3.2393 - mae: 1.1893 - val_loss: 2.5209 - val_mae: 1.2036\n",
            "Epoch 19/500\n",
            "94/94 [==============================] - 0s 4ms/step - loss: 8.6674 - mae: 1.9123 - val_loss: 5.9393 - val_mae: 1.6801\n",
            "Epoch 20/500\n",
            "94/94 [==============================] - 0s 4ms/step - loss: 2.8700 - mae: 1.1187 - val_loss: 1.5382 - val_mae: 0.8153\n",
            "Epoch 21/500\n",
            "94/94 [==============================] - 0s 4ms/step - loss: 1.8877 - mae: 0.9311 - val_loss: 1.6148 - val_mae: 0.9021\n",
            "Epoch 22/500\n",
            "94/94 [==============================] - 0s 4ms/step - loss: 1.7716 - mae: 0.9119 - val_loss: 1.7894 - val_mae: 0.8454\n",
            "Epoch 23/500\n",
            "94/94 [==============================] - 0s 4ms/step - loss: 2.1077 - mae: 0.9921 - val_loss: 1.5203 - val_mae: 0.8459\n",
            "Epoch 24/500\n",
            "94/94 [==============================] - 0s 4ms/step - loss: 1.7313 - mae: 0.9045 - val_loss: 1.4257 - val_mae: 0.8346\n",
            "Epoch 25/500\n",
            "94/94 [==============================] - 0s 4ms/step - loss: 2.2105 - mae: 1.0307 - val_loss: 2.1310 - val_mae: 0.9618\n",
            "Epoch 26/500\n",
            "94/94 [==============================] - 0s 4ms/step - loss: 6.1847 - mae: 1.6925 - val_loss: 2.4675 - val_mae: 1.1215\n",
            "Epoch 27/500\n",
            "94/94 [==============================] - 0s 4ms/step - loss: 2.2403 - mae: 1.0370 - val_loss: 1.5314 - val_mae: 0.8157\n",
            "Epoch 28/500\n",
            "94/94 [==============================] - 0s 4ms/step - loss: 1.8652 - mae: 0.9370 - val_loss: 2.8192 - val_mae: 1.2062\n",
            "Epoch 29/500\n",
            "94/94 [==============================] - 0s 4ms/step - loss: 2.0646 - mae: 0.9868 - val_loss: 1.4318 - val_mae: 0.7797\n",
            "Epoch 30/500\n",
            "94/94 [==============================] - 0s 4ms/step - loss: 1.9997 - mae: 0.9927 - val_loss: 2.1155 - val_mae: 1.0280\n",
            "Epoch 31/500\n",
            "94/94 [==============================] - 0s 4ms/step - loss: 4.4312 - mae: 1.4124 - val_loss: 1.5121 - val_mae: 0.9086\n",
            "Epoch 32/500\n",
            "94/94 [==============================] - 0s 4ms/step - loss: 1.6280 - mae: 0.8880 - val_loss: 2.5643 - val_mae: 1.2003\n",
            "Epoch 33/500\n",
            "94/94 [==============================] - 0s 4ms/step - loss: 2.1065 - mae: 0.9977 - val_loss: 1.6309 - val_mae: 0.8867\n",
            "Epoch 34/500\n",
            "94/94 [==============================] - 0s 4ms/step - loss: 1.7136 - mae: 0.8832 - val_loss: 7.7056 - val_mae: 1.9287\n",
            "Epoch 35/500\n",
            "94/94 [==============================] - 0s 4ms/step - loss: 4.1152 - mae: 1.3638 - val_loss: 3.9524 - val_mae: 1.4081\n",
            "Epoch 36/500\n",
            "94/94 [==============================] - 0s 4ms/step - loss: 2.3412 - mae: 1.0653 - val_loss: 2.2968 - val_mae: 1.0013\n",
            "Epoch 37/500\n",
            "94/94 [==============================] - 0s 4ms/step - loss: 3.0450 - mae: 1.2146 - val_loss: 2.2532 - val_mae: 1.1016\n",
            "Epoch 38/500\n",
            "94/94 [==============================] - 0s 4ms/step - loss: 1.5113 - mae: 0.8609 - val_loss: 1.1777 - val_mae: 0.7414\n",
            "Epoch 39/500\n",
            "94/94 [==============================] - 0s 4ms/step - loss: 1.9740 - mae: 0.9760 - val_loss: 1.9851 - val_mae: 0.9642\n",
            "Epoch 40/500\n",
            "94/94 [==============================] - 0s 4ms/step - loss: 1.8583 - mae: 0.9638 - val_loss: 1.9334 - val_mae: 0.9351\n",
            "Epoch 41/500\n",
            "94/94 [==============================] - 0s 3ms/step - loss: 1.6392 - mae: 0.9065 - val_loss: 1.6902 - val_mae: 0.9417\n",
            "Epoch 42/500\n",
            "94/94 [==============================] - 0s 4ms/step - loss: 2.0310 - mae: 1.0350 - val_loss: 1.5203 - val_mae: 0.8980\n",
            "Epoch 43/500\n",
            "94/94 [==============================] - 0s 4ms/step - loss: 1.7653 - mae: 0.9538 - val_loss: 3.5240 - val_mae: 1.2957\n",
            "Epoch 44/500\n",
            "94/94 [==============================] - 0s 4ms/step - loss: 2.0906 - mae: 1.0590 - val_loss: 4.1779 - val_mae: 1.5474\n",
            "Epoch 45/500\n",
            "94/94 [==============================] - 0s 4ms/step - loss: 2.7031 - mae: 1.2034 - val_loss: 1.8926 - val_mae: 1.0912\n",
            "Epoch 46/500\n",
            "94/94 [==============================] - 0s 4ms/step - loss: 1.9221 - mae: 1.0345 - val_loss: 1.7077 - val_mae: 0.9803\n",
            "Epoch 47/500\n",
            "94/94 [==============================] - 0s 4ms/step - loss: 2.4565 - mae: 1.1760 - val_loss: 2.2134 - val_mae: 1.1799\n",
            "Epoch 48/500\n",
            "94/94 [==============================] - 0s 4ms/step - loss: 2.2255 - mae: 1.1096 - val_loss: 2.1832 - val_mae: 1.1385\n",
            "Epoch 49/500\n",
            "94/94 [==============================] - 0s 4ms/step - loss: 2.3589 - mae: 1.0859 - val_loss: 1.5982 - val_mae: 0.9070\n",
            "Epoch 50/500\n",
            "94/94 [==============================] - 0s 4ms/step - loss: 2.5323 - mae: 1.1547 - val_loss: 1.8852 - val_mae: 1.0037\n",
            "Epoch 51/500\n",
            "94/94 [==============================] - 0s 4ms/step - loss: 2.2810 - mae: 1.0712 - val_loss: 2.4983 - val_mae: 1.1540\n",
            "Epoch 52/500\n",
            "94/94 [==============================] - 0s 4ms/step - loss: 1.8646 - mae: 0.9860 - val_loss: 2.6040 - val_mae: 1.1385\n",
            "Epoch 53/500\n",
            "94/94 [==============================] - 0s 4ms/step - loss: 1.8296 - mae: 0.9236 - val_loss: 1.1666 - val_mae: 0.7238\n",
            "Epoch 54/500\n",
            "94/94 [==============================] - 0s 4ms/step - loss: 1.7304 - mae: 0.9184 - val_loss: 1.8037 - val_mae: 1.0450\n",
            "Epoch 55/500\n",
            "94/94 [==============================] - 0s 4ms/step - loss: 1.9226 - mae: 1.0032 - val_loss: 2.8263 - val_mae: 1.1808\n",
            "Epoch 56/500\n",
            "94/94 [==============================] - 0s 4ms/step - loss: 1.5514 - mae: 0.8646 - val_loss: 1.4413 - val_mae: 0.8194\n",
            "Epoch 57/500\n",
            "94/94 [==============================] - 0s 4ms/step - loss: 2.1949 - mae: 1.0856 - val_loss: 2.8041 - val_mae: 1.3542\n",
            "Epoch 58/500\n",
            "94/94 [==============================] - 0s 4ms/step - loss: 1.8635 - mae: 1.0104 - val_loss: 1.2816 - val_mae: 0.7878\n",
            "Epoch 59/500\n",
            "94/94 [==============================] - 0s 4ms/step - loss: 2.3842 - mae: 1.1490 - val_loss: 1.9974 - val_mae: 1.0571\n",
            "Epoch 60/500\n",
            "94/94 [==============================] - 0s 4ms/step - loss: 1.9879 - mae: 1.0523 - val_loss: 1.4775 - val_mae: 0.8658\n",
            "Epoch 61/500\n",
            "94/94 [==============================] - 0s 4ms/step - loss: 1.5069 - mae: 0.8668 - val_loss: 1.3709 - val_mae: 0.7775\n",
            "Epoch 62/500\n",
            "94/94 [==============================] - 0s 4ms/step - loss: 1.9169 - mae: 1.0139 - val_loss: 1.8125 - val_mae: 0.9262\n",
            "Epoch 63/500\n",
            "94/94 [==============================] - 0s 4ms/step - loss: 2.0439 - mae: 1.0485 - val_loss: 1.8491 - val_mae: 1.0294\n",
            "Epoch 64/500\n",
            "94/94 [==============================] - 0s 4ms/step - loss: 1.9278 - mae: 1.0090 - val_loss: 1.4261 - val_mae: 0.8224\n",
            "Epoch 65/500\n",
            "94/94 [==============================] - 0s 4ms/step - loss: 1.5649 - mae: 0.8997 - val_loss: 1.3393 - val_mae: 0.8180\n",
            "Epoch 66/500\n",
            "94/94 [==============================] - 0s 4ms/step - loss: 1.3826 - mae: 0.8186 - val_loss: 1.5555 - val_mae: 0.8676\n",
            "Epoch 67/500\n",
            "94/94 [==============================] - 0s 4ms/step - loss: 2.2853 - mae: 1.0384 - val_loss: 1.4994 - val_mae: 0.8403\n",
            "Epoch 68/500\n",
            "94/94 [==============================] - 0s 4ms/step - loss: 2.2501 - mae: 1.1033 - val_loss: 2.9514 - val_mae: 1.3569\n",
            "Epoch 69/500\n",
            "94/94 [==============================] - 0s 4ms/step - loss: 1.8099 - mae: 1.0100 - val_loss: 2.9302 - val_mae: 1.2821\n",
            "Epoch 70/500\n",
            "94/94 [==============================] - 0s 4ms/step - loss: 1.9335 - mae: 1.0183 - val_loss: 2.5966 - val_mae: 1.1857\n",
            "Epoch 71/500\n",
            "94/94 [==============================] - 0s 5ms/step - loss: 1.6097 - mae: 0.9259 - val_loss: 1.4497 - val_mae: 0.8845\n",
            "Epoch 72/500\n",
            "94/94 [==============================] - 0s 4ms/step - loss: 2.0057 - mae: 1.0526 - val_loss: 1.3606 - val_mae: 0.8412\n",
            "Epoch 73/500\n",
            "94/94 [==============================] - 0s 4ms/step - loss: 2.4752 - mae: 1.1747 - val_loss: 2.1951 - val_mae: 1.1667\n",
            "Epoch 74/500\n",
            "94/94 [==============================] - 0s 4ms/step - loss: 1.7298 - mae: 0.9361 - val_loss: 1.6908 - val_mae: 0.9980\n",
            "Epoch 75/500\n",
            "94/94 [==============================] - 0s 4ms/step - loss: 1.7494 - mae: 0.9310 - val_loss: 2.0765 - val_mae: 1.0057\n",
            "Epoch 76/500\n",
            "94/94 [==============================] - 0s 5ms/step - loss: 2.5702 - mae: 1.1245 - val_loss: 1.5757 - val_mae: 0.9208\n",
            "Epoch 77/500\n",
            "94/94 [==============================] - 0s 4ms/step - loss: 1.5229 - mae: 0.8751 - val_loss: 1.3394 - val_mae: 0.7987\n",
            "Epoch 78/500\n",
            "94/94 [==============================] - 0s 4ms/step - loss: 2.0178 - mae: 1.0380 - val_loss: 1.8577 - val_mae: 1.0581\n",
            "Epoch 79/500\n",
            "94/94 [==============================] - 0s 4ms/step - loss: 1.7279 - mae: 0.9700 - val_loss: 1.4388 - val_mae: 0.9090\n",
            "Epoch 80/500\n",
            "94/94 [==============================] - 0s 4ms/step - loss: 2.0547 - mae: 1.0852 - val_loss: 2.5120 - val_mae: 1.2728\n",
            "Epoch 81/500\n",
            "94/94 [==============================] - 0s 4ms/step - loss: 1.8184 - mae: 1.0020 - val_loss: 1.6236 - val_mae: 0.9787\n",
            "Epoch 82/500\n",
            "94/94 [==============================] - 0s 4ms/step - loss: 1.7035 - mae: 0.9673 - val_loss: 1.5463 - val_mae: 0.8841\n",
            "Epoch 83/500\n",
            "94/94 [==============================] - 0s 4ms/step - loss: 1.6449 - mae: 0.9520 - val_loss: 1.6751 - val_mae: 0.9678\n",
            "Epoch 84/500\n",
            "94/94 [==============================] - 0s 4ms/step - loss: 1.6415 - mae: 0.9214 - val_loss: 1.9670 - val_mae: 1.0416\n",
            "Epoch 85/500\n",
            "94/94 [==============================] - 0s 4ms/step - loss: 1.7316 - mae: 0.9653 - val_loss: 2.2861 - val_mae: 1.1671\n",
            "Epoch 86/500\n",
            "94/94 [==============================] - 0s 4ms/step - loss: 1.6924 - mae: 0.9563 - val_loss: 1.1958 - val_mae: 0.7503\n",
            "Epoch 87/500\n",
            "94/94 [==============================] - 0s 5ms/step - loss: 1.8127 - mae: 0.9808 - val_loss: 1.4505 - val_mae: 0.7713\n",
            "Epoch 88/500\n",
            "94/94 [==============================] - 0s 4ms/step - loss: 2.1214 - mae: 1.0781 - val_loss: 1.9386 - val_mae: 1.0616\n",
            "Epoch 89/500\n",
            "94/94 [==============================] - 0s 4ms/step - loss: 1.4967 - mae: 0.8748 - val_loss: 1.6732 - val_mae: 0.8975\n",
            "Epoch 90/500\n",
            "94/94 [==============================] - 0s 4ms/step - loss: 1.7774 - mae: 0.9806 - val_loss: 1.8900 - val_mae: 1.0711\n",
            "Epoch 91/500\n",
            "94/94 [==============================] - 0s 4ms/step - loss: 1.5246 - mae: 0.8788 - val_loss: 1.2708 - val_mae: 0.8182\n",
            "Epoch 92/500\n",
            "94/94 [==============================] - 0s 4ms/step - loss: 1.5823 - mae: 0.8886 - val_loss: 1.4637 - val_mae: 0.9104\n",
            "Epoch 93/500\n",
            "94/94 [==============================] - 0s 4ms/step - loss: 1.4222 - mae: 0.8413 - val_loss: 1.1709 - val_mae: 0.7260\n",
            "Epoch 94/500\n",
            "94/94 [==============================] - 0s 4ms/step - loss: 1.5799 - mae: 0.9078 - val_loss: 1.4612 - val_mae: 0.8962\n",
            "Epoch 95/500\n",
            "94/94 [==============================] - 0s 4ms/step - loss: 1.4841 - mae: 0.8822 - val_loss: 1.2486 - val_mae: 0.7897\n",
            "Epoch 96/500\n",
            "94/94 [==============================] - 0s 4ms/step - loss: 1.6565 - mae: 0.9348 - val_loss: 2.2651 - val_mae: 1.1294\n",
            "Epoch 97/500\n",
            "94/94 [==============================] - 0s 4ms/step - loss: 1.8204 - mae: 0.9886 - val_loss: 1.7221 - val_mae: 0.9563\n",
            "Epoch 98/500\n",
            "94/94 [==============================] - 0s 5ms/step - loss: 1.8432 - mae: 0.9967 - val_loss: 1.5482 - val_mae: 0.9571\n",
            "Epoch 99/500\n",
            "94/94 [==============================] - 0s 4ms/step - loss: 1.5771 - mae: 0.9189 - val_loss: 1.2932 - val_mae: 0.8091\n",
            "Epoch 100/500\n",
            "94/94 [==============================] - 0s 4ms/step - loss: 1.4042 - mae: 0.8599 - val_loss: 1.3093 - val_mae: 0.8453\n",
            "Epoch 101/500\n",
            "94/94 [==============================] - 0s 4ms/step - loss: 1.8006 - mae: 1.0076 - val_loss: 1.9948 - val_mae: 1.0581\n",
            "Epoch 102/500\n",
            "94/94 [==============================] - 0s 4ms/step - loss: 1.8946 - mae: 1.0320 - val_loss: 2.2510 - val_mae: 1.2276\n",
            "Epoch 103/500\n",
            "94/94 [==============================] - 0s 4ms/step - loss: 1.8532 - mae: 1.0192 - val_loss: 1.5111 - val_mae: 0.8439\n",
            "Epoch 104/500\n",
            "94/94 [==============================] - 0s 4ms/step - loss: 1.5793 - mae: 0.9187 - val_loss: 2.4548 - val_mae: 1.1815\n",
            "Epoch 105/500\n",
            "94/94 [==============================] - 0s 4ms/step - loss: 2.5511 - mae: 1.1819 - val_loss: 1.7735 - val_mae: 1.0293\n",
            "Epoch 106/500\n",
            "94/94 [==============================] - 0s 4ms/step - loss: 1.4899 - mae: 0.8706 - val_loss: 1.9424 - val_mae: 1.0767\n",
            "Epoch 107/500\n",
            "94/94 [==============================] - 0s 4ms/step - loss: 1.2978 - mae: 0.7882 - val_loss: 1.1228 - val_mae: 0.7100\n",
            "Epoch 108/500\n",
            "94/94 [==============================] - 0s 4ms/step - loss: 1.3398 - mae: 0.8110 - val_loss: 1.4197 - val_mae: 0.8783\n",
            "Epoch 109/500\n",
            "94/94 [==============================] - 0s 4ms/step - loss: 1.6948 - mae: 0.9623 - val_loss: 1.1880 - val_mae: 0.7625\n",
            "Epoch 110/500\n",
            "94/94 [==============================] - 0s 4ms/step - loss: 1.4906 - mae: 0.8684 - val_loss: 2.2690 - val_mae: 1.1273\n",
            "Epoch 111/500\n",
            "94/94 [==============================] - 0s 4ms/step - loss: 1.9073 - mae: 1.0152 - val_loss: 1.2770 - val_mae: 0.7827\n",
            "Epoch 112/500\n",
            "94/94 [==============================] - 0s 4ms/step - loss: 1.3520 - mae: 0.8159 - val_loss: 1.2931 - val_mae: 0.7558\n",
            "Epoch 113/500\n",
            "94/94 [==============================] - 0s 3ms/step - loss: 1.3970 - mae: 0.8333 - val_loss: 1.3316 - val_mae: 0.7960\n",
            "Epoch 114/500\n",
            "94/94 [==============================] - 0s 4ms/step - loss: 1.5911 - mae: 0.9290 - val_loss: 1.6778 - val_mae: 0.9920\n",
            "Epoch 115/500\n",
            "94/94 [==============================] - 0s 4ms/step - loss: 1.7261 - mae: 0.9867 - val_loss: 1.5116 - val_mae: 0.9279\n",
            "Epoch 116/500\n",
            "94/94 [==============================] - 0s 4ms/step - loss: 1.5314 - mae: 0.9004 - val_loss: 1.3136 - val_mae: 0.8106\n",
            "Epoch 117/500\n",
            "94/94 [==============================] - 0s 4ms/step - loss: 1.5271 - mae: 0.8814 - val_loss: 1.8461 - val_mae: 0.9553\n",
            "Epoch 118/500\n",
            "94/94 [==============================] - 0s 4ms/step - loss: 1.3904 - mae: 0.8381 - val_loss: 1.2505 - val_mae: 0.7412\n",
            "Epoch 119/500\n",
            "94/94 [==============================] - 0s 4ms/step - loss: 1.4433 - mae: 0.8520 - val_loss: 1.5099 - val_mae: 0.9043\n",
            "Epoch 120/500\n",
            "94/94 [==============================] - 0s 4ms/step - loss: 1.5508 - mae: 0.9188 - val_loss: 1.2764 - val_mae: 0.8045\n",
            "Epoch 121/500\n",
            "94/94 [==============================] - 0s 4ms/step - loss: 1.4314 - mae: 0.8680 - val_loss: 1.4452 - val_mae: 0.9115\n",
            "Epoch 122/500\n",
            "94/94 [==============================] - 0s 4ms/step - loss: 1.5802 - mae: 0.9325 - val_loss: 1.6243 - val_mae: 0.9243\n",
            "Epoch 123/500\n",
            "94/94 [==============================] - 0s 4ms/step - loss: 1.3035 - mae: 0.8018 - val_loss: 1.2221 - val_mae: 0.7696\n",
            "Epoch 124/500\n",
            "94/94 [==============================] - 0s 4ms/step - loss: 1.4948 - mae: 0.8803 - val_loss: 1.2602 - val_mae: 0.7692\n",
            "Epoch 125/500\n",
            "94/94 [==============================] - 0s 4ms/step - loss: 2.0175 - mae: 1.0417 - val_loss: 1.9049 - val_mae: 1.0461\n",
            "Epoch 126/500\n",
            "94/94 [==============================] - 0s 4ms/step - loss: 1.7228 - mae: 0.9540 - val_loss: 1.3274 - val_mae: 0.8021\n",
            "Epoch 127/500\n",
            "94/94 [==============================] - 0s 4ms/step - loss: 1.4538 - mae: 0.8459 - val_loss: 1.6178 - val_mae: 0.8767\n",
            "Epoch 128/500\n",
            "94/94 [==============================] - 0s 4ms/step - loss: 1.3055 - mae: 0.7893 - val_loss: 1.4200 - val_mae: 0.8445\n",
            "Epoch 129/500\n",
            "94/94 [==============================] - 0s 4ms/step - loss: 1.4617 - mae: 0.8660 - val_loss: 2.3079 - val_mae: 1.1247\n",
            "Epoch 130/500\n",
            "94/94 [==============================] - 0s 4ms/step - loss: 1.4172 - mae: 0.8597 - val_loss: 1.3493 - val_mae: 0.7995\n",
            "Epoch 131/500\n",
            "94/94 [==============================] - 0s 4ms/step - loss: 1.3229 - mae: 0.8015 - val_loss: 1.5012 - val_mae: 0.8640\n",
            "Epoch 132/500\n",
            "94/94 [==============================] - 0s 4ms/step - loss: 1.3001 - mae: 0.7928 - val_loss: 1.6015 - val_mae: 0.9017\n",
            "Epoch 133/500\n",
            "94/94 [==============================] - 0s 4ms/step - loss: 1.4708 - mae: 0.8564 - val_loss: 1.5677 - val_mae: 0.9236\n",
            "Epoch 134/500\n",
            "94/94 [==============================] - 0s 4ms/step - loss: 1.4535 - mae: 0.8822 - val_loss: 1.3120 - val_mae: 0.8395\n",
            "Epoch 135/500\n",
            "94/94 [==============================] - 0s 4ms/step - loss: 1.3213 - mae: 0.8072 - val_loss: 1.3066 - val_mae: 0.7885\n",
            "Epoch 136/500\n",
            "94/94 [==============================] - 0s 4ms/step - loss: 1.3298 - mae: 0.7939 - val_loss: 2.0269 - val_mae: 1.0574\n",
            "Epoch 137/500\n",
            "94/94 [==============================] - 0s 3ms/step - loss: 1.5318 - mae: 0.9088 - val_loss: 1.1836 - val_mae: 0.7394\n",
            "Epoch 138/500\n",
            "94/94 [==============================] - 0s 4ms/step - loss: 1.2957 - mae: 0.7985 - val_loss: 1.2029 - val_mae: 0.7288\n",
            "Epoch 139/500\n",
            "94/94 [==============================] - 0s 4ms/step - loss: 1.3349 - mae: 0.8097 - val_loss: 1.2536 - val_mae: 0.7727\n",
            "Epoch 140/500\n",
            "94/94 [==============================] - 0s 4ms/step - loss: 1.3360 - mae: 0.8041 - val_loss: 1.3559 - val_mae: 0.8287\n",
            "Epoch 141/500\n",
            "94/94 [==============================] - 0s 4ms/step - loss: 1.3204 - mae: 0.8021 - val_loss: 1.5183 - val_mae: 0.9111\n",
            "Epoch 142/500\n",
            "94/94 [==============================] - 0s 4ms/step - loss: 1.3165 - mae: 0.7990 - val_loss: 1.2505 - val_mae: 0.8106\n",
            "Epoch 143/500\n",
            "94/94 [==============================] - 0s 4ms/step - loss: 1.4133 - mae: 0.8531 - val_loss: 1.2974 - val_mae: 0.8230\n",
            "Epoch 144/500\n",
            "94/94 [==============================] - 0s 4ms/step - loss: 1.3339 - mae: 0.8133 - val_loss: 1.4482 - val_mae: 0.9074\n",
            "Epoch 145/500\n",
            "94/94 [==============================] - 0s 4ms/step - loss: 1.7684 - mae: 0.9880 - val_loss: 1.2929 - val_mae: 0.8331\n",
            "Epoch 146/500\n",
            "94/94 [==============================] - 0s 4ms/step - loss: 1.4726 - mae: 0.8842 - val_loss: 1.3157 - val_mae: 0.8190\n",
            "Epoch 147/500\n",
            "94/94 [==============================] - 0s 4ms/step - loss: 1.2476 - mae: 0.7665 - val_loss: 1.2233 - val_mae: 0.7978\n",
            "Epoch 148/500\n",
            "94/94 [==============================] - 0s 3ms/step - loss: 1.2752 - mae: 0.7738 - val_loss: 1.4031 - val_mae: 0.8930\n",
            "Epoch 149/500\n",
            "94/94 [==============================] - 0s 4ms/step - loss: 1.3790 - mae: 0.8445 - val_loss: 1.2464 - val_mae: 0.7836\n",
            "Epoch 150/500\n",
            "94/94 [==============================] - 0s 4ms/step - loss: 1.3447 - mae: 0.8059 - val_loss: 1.1757 - val_mae: 0.7514\n",
            "Epoch 151/500\n",
            "94/94 [==============================] - 0s 4ms/step - loss: 1.3031 - mae: 0.7785 - val_loss: 1.2596 - val_mae: 0.7828\n",
            "Epoch 152/500\n",
            "94/94 [==============================] - 0s 4ms/step - loss: 1.3696 - mae: 0.8401 - val_loss: 1.2357 - val_mae: 0.7981\n",
            "Epoch 153/500\n",
            "94/94 [==============================] - 0s 4ms/step - loss: 1.3490 - mae: 0.8336 - val_loss: 1.1176 - val_mae: 0.7120\n",
            "Epoch 154/500\n",
            "94/94 [==============================] - 0s 4ms/step - loss: 1.2845 - mae: 0.7998 - val_loss: 1.4033 - val_mae: 0.8941\n",
            "Epoch 155/500\n",
            "94/94 [==============================] - 0s 4ms/step - loss: 1.2808 - mae: 0.7901 - val_loss: 1.2307 - val_mae: 0.7768\n",
            "Epoch 156/500\n",
            "94/94 [==============================] - 0s 4ms/step - loss: 1.3658 - mae: 0.8213 - val_loss: 1.1888 - val_mae: 0.7350\n",
            "Epoch 157/500\n",
            "94/94 [==============================] - 0s 4ms/step - loss: 1.3281 - mae: 0.8139 - val_loss: 1.2531 - val_mae: 0.7715\n",
            "Epoch 158/500\n",
            "94/94 [==============================] - 0s 4ms/step - loss: 1.4537 - mae: 0.8650 - val_loss: 1.4816 - val_mae: 0.8990\n",
            "Epoch 159/500\n",
            "94/94 [==============================] - 0s 3ms/step - loss: 1.3884 - mae: 0.8434 - val_loss: 1.0909 - val_mae: 0.6949\n",
            "Epoch 160/500\n",
            "94/94 [==============================] - 0s 4ms/step - loss: 1.2399 - mae: 0.7678 - val_loss: 1.2895 - val_mae: 0.8390\n",
            "Epoch 161/500\n",
            "94/94 [==============================] - 0s 4ms/step - loss: 1.2693 - mae: 0.7718 - val_loss: 1.2568 - val_mae: 0.7839\n",
            "Epoch 162/500\n",
            "94/94 [==============================] - 0s 4ms/step - loss: 1.2280 - mae: 0.7591 - val_loss: 1.1740 - val_mae: 0.7133\n",
            "Epoch 163/500\n",
            "94/94 [==============================] - 0s 5ms/step - loss: 1.2387 - mae: 0.7710 - val_loss: 1.3175 - val_mae: 0.8179\n",
            "Epoch 164/500\n",
            "94/94 [==============================] - 0s 4ms/step - loss: 1.3669 - mae: 0.8390 - val_loss: 1.6034 - val_mae: 0.9403\n",
            "Epoch 165/500\n",
            "94/94 [==============================] - 0s 4ms/step - loss: 1.4093 - mae: 0.8498 - val_loss: 1.1997 - val_mae: 0.7327\n",
            "Epoch 166/500\n",
            "94/94 [==============================] - 0s 4ms/step - loss: 1.2187 - mae: 0.7361 - val_loss: 1.1500 - val_mae: 0.7075\n",
            "Epoch 167/500\n",
            "94/94 [==============================] - 0s 4ms/step - loss: 1.2768 - mae: 0.7654 - val_loss: 1.0512 - val_mae: 0.6610\n",
            "Epoch 168/500\n",
            "94/94 [==============================] - 0s 4ms/step - loss: 1.2545 - mae: 0.7771 - val_loss: 1.2867 - val_mae: 0.7530\n",
            "Epoch 169/500\n",
            "94/94 [==============================] - 0s 4ms/step - loss: 1.2176 - mae: 0.7639 - val_loss: 1.1755 - val_mae: 0.7676\n",
            "Epoch 170/500\n",
            "94/94 [==============================] - 0s 4ms/step - loss: 1.2575 - mae: 0.7818 - val_loss: 1.2722 - val_mae: 0.8354\n",
            "Epoch 171/500\n",
            "94/94 [==============================] - 0s 4ms/step - loss: 1.3324 - mae: 0.8254 - val_loss: 1.3624 - val_mae: 0.8768\n",
            "Epoch 172/500\n",
            "94/94 [==============================] - 0s 4ms/step - loss: 1.3434 - mae: 0.8211 - val_loss: 1.1624 - val_mae: 0.7134\n",
            "Epoch 173/500\n",
            "94/94 [==============================] - 0s 4ms/step - loss: 1.1900 - mae: 0.7333 - val_loss: 1.2991 - val_mae: 0.7783\n",
            "Epoch 174/500\n",
            "94/94 [==============================] - 0s 4ms/step - loss: 1.3947 - mae: 0.8219 - val_loss: 1.1456 - val_mae: 0.7258\n",
            "Epoch 175/500\n",
            "94/94 [==============================] - 0s 4ms/step - loss: 1.2788 - mae: 0.7929 - val_loss: 1.1818 - val_mae: 0.7677\n",
            "Epoch 176/500\n",
            "94/94 [==============================] - 0s 3ms/step - loss: 1.4969 - mae: 0.8894 - val_loss: 4.2688 - val_mae: 1.4614\n",
            "Epoch 177/500\n",
            "94/94 [==============================] - 0s 4ms/step - loss: 1.4999 - mae: 0.8633 - val_loss: 1.1396 - val_mae: 0.7014\n",
            "Epoch 178/500\n",
            "94/94 [==============================] - 0s 4ms/step - loss: 1.1577 - mae: 0.7261 - val_loss: 1.0352 - val_mae: 0.6574\n",
            "Epoch 179/500\n",
            "94/94 [==============================] - 0s 4ms/step - loss: 1.1972 - mae: 0.7397 - val_loss: 1.0746 - val_mae: 0.6772\n",
            "Epoch 180/500\n",
            "94/94 [==============================] - 0s 4ms/step - loss: 1.2615 - mae: 0.7766 - val_loss: 1.2215 - val_mae: 0.7544\n",
            "Epoch 181/500\n",
            "94/94 [==============================] - 0s 4ms/step - loss: 1.2616 - mae: 0.7597 - val_loss: 1.3506 - val_mae: 0.8718\n",
            "Epoch 182/500\n",
            "94/94 [==============================] - 0s 4ms/step - loss: 1.2954 - mae: 0.7809 - val_loss: 1.2520 - val_mae: 0.8271\n",
            "Epoch 183/500\n",
            "94/94 [==============================] - 0s 4ms/step - loss: 1.3177 - mae: 0.7985 - val_loss: 1.0646 - val_mae: 0.6744\n",
            "Epoch 184/500\n",
            "94/94 [==============================] - 0s 4ms/step - loss: 1.2859 - mae: 0.8016 - val_loss: 1.1635 - val_mae: 0.7258\n",
            "Epoch 185/500\n",
            "94/94 [==============================] - 0s 4ms/step - loss: 1.1637 - mae: 0.7212 - val_loss: 1.1705 - val_mae: 0.7181\n",
            "Epoch 186/500\n",
            "94/94 [==============================] - 0s 4ms/step - loss: 1.2385 - mae: 0.7627 - val_loss: 1.1047 - val_mae: 0.6926\n",
            "Epoch 187/500\n",
            "94/94 [==============================] - 0s 4ms/step - loss: 1.2908 - mae: 0.7952 - val_loss: 1.5380 - val_mae: 0.9486\n",
            "Epoch 188/500\n",
            "94/94 [==============================] - 0s 4ms/step - loss: 1.5764 - mae: 0.9337 - val_loss: 1.1486 - val_mae: 0.7495\n",
            "Epoch 189/500\n",
            "94/94 [==============================] - 0s 4ms/step - loss: 1.3496 - mae: 0.8216 - val_loss: 1.2658 - val_mae: 0.8083\n",
            "Epoch 190/500\n",
            "94/94 [==============================] - 0s 4ms/step - loss: 1.1956 - mae: 0.7429 - val_loss: 1.0969 - val_mae: 0.7094\n",
            "Epoch 191/500\n",
            "94/94 [==============================] - 0s 4ms/step - loss: 1.2335 - mae: 0.7469 - val_loss: 1.1631 - val_mae: 0.7267\n",
            "Epoch 192/500\n",
            "94/94 [==============================] - 0s 4ms/step - loss: 1.1984 - mae: 0.7540 - val_loss: 1.0828 - val_mae: 0.6972\n",
            "Epoch 193/500\n",
            "94/94 [==============================] - 0s 3ms/step - loss: 1.2539 - mae: 0.7614 - val_loss: 1.4577 - val_mae: 0.8159\n",
            "Epoch 194/500\n",
            "94/94 [==============================] - 0s 4ms/step - loss: 1.1938 - mae: 0.7343 - val_loss: 1.1123 - val_mae: 0.7198\n",
            "Epoch 195/500\n",
            "94/94 [==============================] - 0s 4ms/step - loss: 1.2077 - mae: 0.7455 - val_loss: 1.3798 - val_mae: 0.8547\n",
            "Epoch 196/500\n",
            "94/94 [==============================] - 0s 4ms/step - loss: 1.2173 - mae: 0.7533 - val_loss: 1.0486 - val_mae: 0.6612\n",
            "Epoch 197/500\n",
            "94/94 [==============================] - 0s 4ms/step - loss: 1.2028 - mae: 0.7395 - val_loss: 1.2315 - val_mae: 0.7581\n",
            "Epoch 198/500\n",
            "94/94 [==============================] - 0s 4ms/step - loss: 1.2431 - mae: 0.7774 - val_loss: 1.1786 - val_mae: 0.7612\n",
            "Epoch 199/500\n",
            "94/94 [==============================] - 0s 4ms/step - loss: 1.2495 - mae: 0.7727 - val_loss: 1.1184 - val_mae: 0.6744\n",
            "Epoch 200/500\n",
            "94/94 [==============================] - 0s 4ms/step - loss: 1.1337 - mae: 0.7124 - val_loss: 1.1301 - val_mae: 0.7316\n",
            "Epoch 201/500\n",
            "94/94 [==============================] - 0s 4ms/step - loss: 1.3765 - mae: 0.8237 - val_loss: 1.2569 - val_mae: 0.8132\n",
            "Epoch 202/500\n",
            "94/94 [==============================] - 0s 5ms/step - loss: 1.1795 - mae: 0.7459 - val_loss: 1.2068 - val_mae: 0.7393\n",
            "Epoch 203/500\n",
            "94/94 [==============================] - 0s 4ms/step - loss: 1.1345 - mae: 0.7066 - val_loss: 1.0870 - val_mae: 0.6886\n",
            "Epoch 204/500\n",
            "94/94 [==============================] - 0s 4ms/step - loss: 1.2740 - mae: 0.7838 - val_loss: 1.3168 - val_mae: 0.8071\n",
            "Epoch 205/500\n",
            "94/94 [==============================] - 0s 4ms/step - loss: 1.3089 - mae: 0.8176 - val_loss: 1.3449 - val_mae: 0.8456\n",
            "Epoch 206/500\n",
            "94/94 [==============================] - 0s 4ms/step - loss: 1.4088 - mae: 0.8545 - val_loss: 1.0776 - val_mae: 0.7017\n",
            "Epoch 207/500\n",
            "94/94 [==============================] - 0s 4ms/step - loss: 1.2223 - mae: 0.7678 - val_loss: 1.1544 - val_mae: 0.7277\n",
            "Epoch 208/500\n",
            "94/94 [==============================] - 0s 4ms/step - loss: 1.1662 - mae: 0.7228 - val_loss: 1.0155 - val_mae: 0.6326\n",
            "Epoch 209/500\n",
            "94/94 [==============================] - 0s 4ms/step - loss: 1.1092 - mae: 0.6874 - val_loss: 1.1176 - val_mae: 0.6913\n",
            "Epoch 210/500\n",
            "94/94 [==============================] - 0s 4ms/step - loss: 1.1583 - mae: 0.7190 - val_loss: 1.1325 - val_mae: 0.7137\n",
            "Epoch 211/500\n",
            "94/94 [==============================] - 0s 4ms/step - loss: 1.1588 - mae: 0.7180 - val_loss: 1.0864 - val_mae: 0.6890\n",
            "Epoch 212/500\n",
            "94/94 [==============================] - 0s 4ms/step - loss: 1.3165 - mae: 0.8228 - val_loss: 1.2365 - val_mae: 0.7878\n",
            "Epoch 213/500\n",
            "94/94 [==============================] - 0s 4ms/step - loss: 1.3162 - mae: 0.8219 - val_loss: 1.3527 - val_mae: 0.8836\n",
            "Epoch 214/500\n",
            "94/94 [==============================] - 0s 4ms/step - loss: 1.2942 - mae: 0.8023 - val_loss: 1.0507 - val_mae: 0.6574\n",
            "Epoch 215/500\n",
            "94/94 [==============================] - 0s 4ms/step - loss: 1.1898 - mae: 0.7260 - val_loss: 1.4184 - val_mae: 0.8015\n",
            "Epoch 216/500\n",
            "94/94 [==============================] - 0s 4ms/step - loss: 1.1497 - mae: 0.7203 - val_loss: 1.0215 - val_mae: 0.6412\n",
            "Epoch 217/500\n",
            "94/94 [==============================] - 0s 4ms/step - loss: 1.1575 - mae: 0.7200 - val_loss: 1.0512 - val_mae: 0.6583\n",
            "Epoch 218/500\n",
            "94/94 [==============================] - 0s 4ms/step - loss: 1.1880 - mae: 0.7494 - val_loss: 1.2519 - val_mae: 0.8206\n",
            "Epoch 219/500\n",
            "94/94 [==============================] - 0s 4ms/step - loss: 1.1744 - mae: 0.7458 - val_loss: 1.0898 - val_mae: 0.6855\n",
            "Epoch 220/500\n",
            "94/94 [==============================] - 0s 4ms/step - loss: 1.1907 - mae: 0.7292 - val_loss: 1.3192 - val_mae: 0.7691\n",
            "Epoch 221/500\n",
            "94/94 [==============================] - 0s 4ms/step - loss: 1.2167 - mae: 0.7700 - val_loss: 1.1520 - val_mae: 0.7255\n",
            "Epoch 222/500\n",
            "94/94 [==============================] - 0s 4ms/step - loss: 1.2059 - mae: 0.7660 - val_loss: 1.1039 - val_mae: 0.7180\n",
            "Epoch 223/500\n",
            "94/94 [==============================] - 0s 4ms/step - loss: 1.2455 - mae: 0.7884 - val_loss: 1.0865 - val_mae: 0.7020\n",
            "Epoch 224/500\n",
            "94/94 [==============================] - 0s 4ms/step - loss: 1.1493 - mae: 0.7162 - val_loss: 1.2122 - val_mae: 0.7543\n",
            "Epoch 225/500\n",
            "94/94 [==============================] - 0s 4ms/step - loss: 1.2254 - mae: 0.7648 - val_loss: 1.0394 - val_mae: 0.6570\n",
            "Epoch 226/500\n",
            "94/94 [==============================] - 0s 4ms/step - loss: 1.1524 - mae: 0.7208 - val_loss: 1.3717 - val_mae: 0.7943\n",
            "Epoch 227/500\n",
            "94/94 [==============================] - 0s 4ms/step - loss: 1.1399 - mae: 0.7112 - val_loss: 1.1930 - val_mae: 0.7425\n",
            "Epoch 228/500\n",
            "94/94 [==============================] - 0s 4ms/step - loss: 1.2863 - mae: 0.7978 - val_loss: 1.6846 - val_mae: 1.0269\n",
            "Epoch 229/500\n",
            "94/94 [==============================] - 0s 4ms/step - loss: 1.3799 - mae: 0.8588 - val_loss: 1.0895 - val_mae: 0.7056\n",
            "Epoch 230/500\n",
            "94/94 [==============================] - 0s 4ms/step - loss: 1.1593 - mae: 0.7304 - val_loss: 1.2591 - val_mae: 0.7889\n",
            "Epoch 231/500\n",
            "94/94 [==============================] - 0s 4ms/step - loss: 1.1671 - mae: 0.7441 - val_loss: 1.0443 - val_mae: 0.6644\n",
            "Epoch 232/500\n",
            "94/94 [==============================] - 0s 4ms/step - loss: 1.1845 - mae: 0.7379 - val_loss: 1.1608 - val_mae: 0.7204\n",
            "Epoch 233/500\n",
            "94/94 [==============================] - 0s 4ms/step - loss: 1.1639 - mae: 0.7133 - val_loss: 1.5002 - val_mae: 0.8691\n",
            "Epoch 234/500\n",
            "94/94 [==============================] - 0s 4ms/step - loss: 1.1566 - mae: 0.7158 - val_loss: 1.2895 - val_mae: 0.8149\n",
            "Epoch 235/500\n",
            "94/94 [==============================] - 0s 4ms/step - loss: 1.1950 - mae: 0.7592 - val_loss: 1.0499 - val_mae: 0.6581\n",
            "Epoch 236/500\n",
            "94/94 [==============================] - 0s 4ms/step - loss: 1.1164 - mae: 0.6997 - val_loss: 1.2879 - val_mae: 0.8244\n",
            "Epoch 237/500\n",
            "94/94 [==============================] - 0s 4ms/step - loss: 1.1961 - mae: 0.7632 - val_loss: 1.3257 - val_mae: 0.8643\n",
            "Epoch 238/500\n",
            "94/94 [==============================] - 0s 4ms/step - loss: 1.2273 - mae: 0.7786 - val_loss: 1.0488 - val_mae: 0.6645\n",
            "Epoch 239/500\n",
            "94/94 [==============================] - 0s 4ms/step - loss: 1.1359 - mae: 0.6979 - val_loss: 1.0766 - val_mae: 0.6623\n",
            "Epoch 240/500\n",
            "94/94 [==============================] - 0s 4ms/step - loss: 1.2187 - mae: 0.7617 - val_loss: 2.0698 - val_mae: 1.1121\n",
            "Epoch 241/500\n",
            "94/94 [==============================] - 0s 4ms/step - loss: 1.2151 - mae: 0.7545 - val_loss: 1.0517 - val_mae: 0.6550\n",
            "Epoch 242/500\n",
            "94/94 [==============================] - 0s 5ms/step - loss: 1.1283 - mae: 0.7129 - val_loss: 1.0552 - val_mae: 0.6827\n",
            "Epoch 243/500\n",
            "94/94 [==============================] - 0s 4ms/step - loss: 1.1225 - mae: 0.7000 - val_loss: 1.2822 - val_mae: 0.7343\n",
            "Epoch 244/500\n",
            "94/94 [==============================] - 0s 4ms/step - loss: 1.1889 - mae: 0.7470 - val_loss: 1.0644 - val_mae: 0.6725\n",
            "Epoch 245/500\n",
            "94/94 [==============================] - 0s 4ms/step - loss: 1.1453 - mae: 0.7136 - val_loss: 1.1409 - val_mae: 0.7361\n",
            "Epoch 246/500\n",
            "94/94 [==============================] - 0s 4ms/step - loss: 1.1542 - mae: 0.7217 - val_loss: 1.0562 - val_mae: 0.6939\n",
            "Epoch 247/500\n",
            "94/94 [==============================] - 0s 4ms/step - loss: 1.1295 - mae: 0.7128 - val_loss: 1.0677 - val_mae: 0.6662\n",
            "Epoch 248/500\n",
            "94/94 [==============================] - 0s 4ms/step - loss: 1.2148 - mae: 0.7591 - val_loss: 1.5834 - val_mae: 0.9503\n",
            "Epoch 249/500\n",
            "94/94 [==============================] - 0s 4ms/step - loss: 1.4871 - mae: 0.8781 - val_loss: 1.0528 - val_mae: 0.6468\n",
            "Epoch 250/500\n",
            "94/94 [==============================] - 0s 4ms/step - loss: 1.1180 - mae: 0.6973 - val_loss: 1.1524 - val_mae: 0.7493\n",
            "Epoch 251/500\n",
            "94/94 [==============================] - 0s 4ms/step - loss: 1.1858 - mae: 0.7365 - val_loss: 1.0722 - val_mae: 0.6604\n",
            "Epoch 252/500\n",
            "94/94 [==============================] - 0s 4ms/step - loss: 1.1809 - mae: 0.7197 - val_loss: 1.0668 - val_mae: 0.6895\n",
            "Epoch 253/500\n",
            "94/94 [==============================] - 0s 4ms/step - loss: 1.1555 - mae: 0.7348 - val_loss: 1.0314 - val_mae: 0.6452\n",
            "Epoch 254/500\n",
            "94/94 [==============================] - 0s 4ms/step - loss: 1.1090 - mae: 0.6898 - val_loss: 1.0532 - val_mae: 0.6569\n",
            "Epoch 255/500\n",
            "94/94 [==============================] - 0s 4ms/step - loss: 1.1761 - mae: 0.7430 - val_loss: 1.3430 - val_mae: 0.7790\n",
            "Epoch 256/500\n",
            "94/94 [==============================] - 0s 4ms/step - loss: 1.1059 - mae: 0.6875 - val_loss: 1.0772 - val_mae: 0.7059\n",
            "Epoch 257/500\n",
            "94/94 [==============================] - 0s 4ms/step - loss: 1.1796 - mae: 0.7331 - val_loss: 1.0619 - val_mae: 0.6699\n",
            "Epoch 258/500\n",
            "94/94 [==============================] - 0s 4ms/step - loss: 1.1255 - mae: 0.7075 - val_loss: 1.0171 - val_mae: 0.6433\n",
            "Epoch 259/500\n",
            "94/94 [==============================] - 0s 4ms/step - loss: 1.2022 - mae: 0.7471 - val_loss: 1.0403 - val_mae: 0.6567\n",
            "Epoch 260/500\n",
            "94/94 [==============================] - 0s 4ms/step - loss: 1.1774 - mae: 0.7530 - val_loss: 1.0552 - val_mae: 0.6832\n",
            "Epoch 261/500\n",
            "94/94 [==============================] - 0s 4ms/step - loss: 1.0868 - mae: 0.6810 - val_loss: 1.1356 - val_mae: 0.6885\n",
            "Epoch 262/500\n",
            "94/94 [==============================] - 0s 4ms/step - loss: 1.1366 - mae: 0.7176 - val_loss: 1.1711 - val_mae: 0.7362\n",
            "Epoch 263/500\n",
            "94/94 [==============================] - 0s 4ms/step - loss: 1.2989 - mae: 0.8153 - val_loss: 1.0868 - val_mae: 0.7086\n",
            "Epoch 264/500\n",
            "94/94 [==============================] - 0s 4ms/step - loss: 1.1723 - mae: 0.7370 - val_loss: 1.3477 - val_mae: 0.8679\n",
            "Epoch 265/500\n",
            "94/94 [==============================] - 0s 4ms/step - loss: 1.2154 - mae: 0.7703 - val_loss: 1.0716 - val_mae: 0.6898\n",
            "Epoch 266/500\n",
            "94/94 [==============================] - 0s 4ms/step - loss: 1.1046 - mae: 0.6988 - val_loss: 1.1730 - val_mae: 0.7372\n",
            "Epoch 267/500\n",
            "94/94 [==============================] - 0s 4ms/step - loss: 1.1078 - mae: 0.6976 - val_loss: 1.0307 - val_mae: 0.6577\n",
            "Epoch 268/500\n",
            "94/94 [==============================] - 0s 4ms/step - loss: 1.1067 - mae: 0.6981 - val_loss: 1.1147 - val_mae: 0.7181\n",
            "Epoch 269/500\n",
            "94/94 [==============================] - 0s 4ms/step - loss: 1.1281 - mae: 0.7092 - val_loss: 1.0579 - val_mae: 0.6652\n",
            "Epoch 270/500\n",
            "94/94 [==============================] - 0s 4ms/step - loss: 1.1179 - mae: 0.6897 - val_loss: 1.3194 - val_mae: 0.7748\n",
            "Epoch 271/500\n",
            "94/94 [==============================] - 0s 4ms/step - loss: 1.2077 - mae: 0.7531 - val_loss: 1.2344 - val_mae: 0.8239\n",
            "Epoch 272/500\n",
            "94/94 [==============================] - 0s 4ms/step - loss: 1.2398 - mae: 0.7791 - val_loss: 1.0541 - val_mae: 0.6714\n",
            "Epoch 273/500\n",
            "94/94 [==============================] - 0s 4ms/step - loss: 1.1267 - mae: 0.7074 - val_loss: 1.1195 - val_mae: 0.7175\n",
            "Epoch 274/500\n",
            "94/94 [==============================] - 0s 4ms/step - loss: 1.1449 - mae: 0.7270 - val_loss: 1.0373 - val_mae: 0.6661\n",
            "Epoch 275/500\n",
            "94/94 [==============================] - 0s 4ms/step - loss: 1.1539 - mae: 0.7301 - val_loss: 1.0850 - val_mae: 0.6519\n",
            "Epoch 276/500\n",
            "94/94 [==============================] - 0s 4ms/step - loss: 1.1636 - mae: 0.7350 - val_loss: 1.0253 - val_mae: 0.6677\n",
            "Epoch 277/500\n",
            "94/94 [==============================] - 0s 4ms/step - loss: 1.1452 - mae: 0.7193 - val_loss: 1.2983 - val_mae: 0.8619\n",
            "Epoch 278/500\n",
            "94/94 [==============================] - 0s 4ms/step - loss: 1.1700 - mae: 0.7418 - val_loss: 1.1012 - val_mae: 0.7225\n",
            "Epoch 279/500\n",
            "94/94 [==============================] - 0s 4ms/step - loss: 1.1250 - mae: 0.7081 - val_loss: 1.1489 - val_mae: 0.7302\n",
            "Epoch 280/500\n",
            "94/94 [==============================] - 0s 4ms/step - loss: 1.1363 - mae: 0.7254 - val_loss: 1.0493 - val_mae: 0.6697\n",
            "Epoch 281/500\n",
            "94/94 [==============================] - 0s 4ms/step - loss: 1.1421 - mae: 0.7292 - val_loss: 1.2793 - val_mae: 0.8480\n",
            "Epoch 282/500\n",
            "94/94 [==============================] - 0s 4ms/step - loss: 1.1564 - mae: 0.7329 - val_loss: 1.0121 - val_mae: 0.6399\n",
            "Epoch 283/500\n",
            "94/94 [==============================] - 0s 4ms/step - loss: 2.7771 - mae: 1.0860 - val_loss: 3.5189 - val_mae: 1.4155\n",
            "Epoch 284/500\n",
            "94/94 [==============================] - 0s 4ms/step - loss: 1.3879 - mae: 0.8057 - val_loss: 1.0289 - val_mae: 0.6428\n",
            "Epoch 285/500\n",
            "94/94 [==============================] - 0s 4ms/step - loss: 1.0662 - mae: 0.6586 - val_loss: 1.0310 - val_mae: 0.6411\n",
            "Epoch 286/500\n",
            "94/94 [==============================] - 0s 5ms/step - loss: 1.0648 - mae: 0.6572 - val_loss: 1.1055 - val_mae: 0.6826\n",
            "Epoch 287/500\n",
            "94/94 [==============================] - 0s 4ms/step - loss: 1.0528 - mae: 0.6543 - val_loss: 1.0731 - val_mae: 0.6790\n",
            "Epoch 288/500\n",
            "94/94 [==============================] - 0s 5ms/step - loss: 1.0737 - mae: 0.6639 - val_loss: 1.0174 - val_mae: 0.6382\n",
            "Epoch 289/500\n",
            "94/94 [==============================] - 0s 4ms/step - loss: 1.0792 - mae: 0.6707 - val_loss: 1.1544 - val_mae: 0.7405\n",
            "Epoch 290/500\n",
            "94/94 [==============================] - 0s 4ms/step - loss: 1.1048 - mae: 0.6837 - val_loss: 1.0237 - val_mae: 0.6405\n",
            "Epoch 291/500\n",
            "94/94 [==============================] - 0s 4ms/step - loss: 1.0965 - mae: 0.6911 - val_loss: 1.0119 - val_mae: 0.6498\n",
            "Epoch 292/500\n",
            "94/94 [==============================] - 0s 4ms/step - loss: 1.0933 - mae: 0.6859 - val_loss: 1.0418 - val_mae: 0.6407\n",
            "Epoch 293/500\n",
            "94/94 [==============================] - 0s 4ms/step - loss: 1.0704 - mae: 0.6625 - val_loss: 1.0067 - val_mae: 0.6351\n",
            "Epoch 294/500\n",
            "94/94 [==============================] - 0s 5ms/step - loss: 1.0673 - mae: 0.6626 - val_loss: 1.0340 - val_mae: 0.6501\n",
            "Epoch 295/500\n",
            "94/94 [==============================] - 0s 4ms/step - loss: 1.1022 - mae: 0.6778 - val_loss: 1.1203 - val_mae: 0.6777\n",
            "Epoch 296/500\n",
            "94/94 [==============================] - 0s 4ms/step - loss: 1.1453 - mae: 0.7082 - val_loss: 1.1398 - val_mae: 0.7285\n",
            "Epoch 297/500\n",
            "94/94 [==============================] - 0s 5ms/step - loss: 1.1027 - mae: 0.6928 - val_loss: 1.0010 - val_mae: 0.6344\n",
            "Epoch 298/500\n",
            "94/94 [==============================] - 0s 4ms/step - loss: 1.0943 - mae: 0.6911 - val_loss: 1.0101 - val_mae: 0.6323\n",
            "Epoch 299/500\n",
            "94/94 [==============================] - 0s 4ms/step - loss: 1.0913 - mae: 0.6822 - val_loss: 1.1632 - val_mae: 0.7843\n",
            "Epoch 300/500\n",
            "94/94 [==============================] - 0s 4ms/step - loss: 1.0731 - mae: 0.6766 - val_loss: 1.0478 - val_mae: 0.6984\n",
            "Epoch 301/500\n",
            "94/94 [==============================] - 0s 4ms/step - loss: 1.1114 - mae: 0.7057 - val_loss: 1.0973 - val_mae: 0.7195\n",
            "Epoch 302/500\n",
            "94/94 [==============================] - 0s 4ms/step - loss: 1.1105 - mae: 0.6999 - val_loss: 1.0589 - val_mae: 0.6691\n",
            "Epoch 303/500\n",
            "94/94 [==============================] - 0s 4ms/step - loss: 1.1022 - mae: 0.6859 - val_loss: 1.0938 - val_mae: 0.7038\n",
            "Epoch 304/500\n",
            "94/94 [==============================] - 0s 4ms/step - loss: 1.0895 - mae: 0.6840 - val_loss: 1.0047 - val_mae: 0.6464\n",
            "Epoch 305/500\n",
            "94/94 [==============================] - 0s 4ms/step - loss: 1.1038 - mae: 0.6852 - val_loss: 1.1825 - val_mae: 0.7431\n",
            "Epoch 306/500\n",
            "94/94 [==============================] - 0s 4ms/step - loss: 1.1006 - mae: 0.6979 - val_loss: 1.2180 - val_mae: 0.7722\n",
            "Epoch 307/500\n",
            "94/94 [==============================] - 0s 4ms/step - loss: 1.1599 - mae: 0.7345 - val_loss: 1.0648 - val_mae: 0.6875\n",
            "Epoch 308/500\n",
            "94/94 [==============================] - 0s 5ms/step - loss: 1.1222 - mae: 0.7140 - val_loss: 1.1668 - val_mae: 0.7573\n",
            "Epoch 309/500\n",
            "94/94 [==============================] - 0s 4ms/step - loss: 1.1393 - mae: 0.7117 - val_loss: 1.0626 - val_mae: 0.6609\n",
            "Epoch 310/500\n",
            "94/94 [==============================] - 0s 5ms/step - loss: 1.1120 - mae: 0.7082 - val_loss: 1.0378 - val_mae: 0.6635\n",
            "Epoch 311/500\n",
            "94/94 [==============================] - 0s 4ms/step - loss: 1.1035 - mae: 0.7043 - val_loss: 1.1273 - val_mae: 0.7085\n",
            "Epoch 312/500\n",
            "94/94 [==============================] - 0s 4ms/step - loss: 1.1494 - mae: 0.7314 - val_loss: 1.0555 - val_mae: 0.6920\n",
            "Epoch 313/500\n",
            "94/94 [==============================] - 0s 4ms/step - loss: 1.1216 - mae: 0.7176 - val_loss: 1.0096 - val_mae: 0.6333\n",
            "Epoch 314/500\n",
            "94/94 [==============================] - 0s 4ms/step - loss: 1.1457 - mae: 0.7300 - val_loss: 1.0381 - val_mae: 0.6751\n",
            "Epoch 315/500\n",
            "94/94 [==============================] - 0s 4ms/step - loss: 1.1113 - mae: 0.6964 - val_loss: 1.2162 - val_mae: 0.8020\n",
            "Epoch 316/500\n",
            "94/94 [==============================] - 0s 5ms/step - loss: 1.1182 - mae: 0.6996 - val_loss: 1.0063 - val_mae: 0.6319\n",
            "Epoch 317/500\n",
            "94/94 [==============================] - 0s 5ms/step - loss: 1.1480 - mae: 0.7334 - val_loss: 1.0829 - val_mae: 0.6891\n",
            "Epoch 318/500\n",
            "94/94 [==============================] - 0s 5ms/step - loss: 1.1002 - mae: 0.6893 - val_loss: 1.0630 - val_mae: 0.6671\n",
            "Epoch 319/500\n",
            "94/94 [==============================] - 0s 5ms/step - loss: 1.0778 - mae: 0.6704 - val_loss: 1.2046 - val_mae: 0.7555\n",
            "Epoch 320/500\n",
            "94/94 [==============================] - 0s 5ms/step - loss: 1.1048 - mae: 0.7011 - val_loss: 1.0644 - val_mae: 0.7000\n",
            "Epoch 321/500\n",
            "94/94 [==============================] - 0s 4ms/step - loss: 1.1806 - mae: 0.7529 - val_loss: 1.1033 - val_mae: 0.6941\n",
            "Epoch 322/500\n",
            "94/94 [==============================] - 0s 5ms/step - loss: 1.1382 - mae: 0.7267 - val_loss: 1.1974 - val_mae: 0.7513\n",
            "Epoch 323/500\n",
            "94/94 [==============================] - 0s 4ms/step - loss: 1.1669 - mae: 0.7452 - val_loss: 1.0811 - val_mae: 0.6941\n",
            "Epoch 324/500\n",
            "94/94 [==============================] - 0s 5ms/step - loss: 1.0966 - mae: 0.6893 - val_loss: 1.0600 - val_mae: 0.6863\n",
            "Epoch 325/500\n",
            "94/94 [==============================] - 0s 4ms/step - loss: 1.1185 - mae: 0.7043 - val_loss: 1.2964 - val_mae: 0.8646\n",
            "Epoch 326/500\n",
            "94/94 [==============================] - 0s 4ms/step - loss: 1.1651 - mae: 0.7453 - val_loss: 1.0589 - val_mae: 0.6904\n",
            "Epoch 327/500\n",
            "94/94 [==============================] - 0s 4ms/step - loss: 1.1197 - mae: 0.7121 - val_loss: 1.0655 - val_mae: 0.6833\n",
            "Epoch 328/500\n",
            "94/94 [==============================] - 0s 5ms/step - loss: 1.1031 - mae: 0.6916 - val_loss: 1.1121 - val_mae: 0.7295\n",
            "Epoch 329/500\n",
            "94/94 [==============================] - 0s 5ms/step - loss: 1.1268 - mae: 0.7128 - val_loss: 1.1473 - val_mae: 0.7292\n",
            "Epoch 330/500\n",
            "94/94 [==============================] - 0s 5ms/step - loss: 1.1035 - mae: 0.7017 - val_loss: 1.0779 - val_mae: 0.6865\n",
            "Epoch 331/500\n",
            "94/94 [==============================] - 0s 5ms/step - loss: 1.1582 - mae: 0.7448 - val_loss: 1.1464 - val_mae: 0.7316\n",
            "Epoch 332/500\n",
            "94/94 [==============================] - 0s 4ms/step - loss: 1.1197 - mae: 0.6931 - val_loss: 1.1230 - val_mae: 0.7183\n",
            "Epoch 333/500\n",
            "94/94 [==============================] - 0s 4ms/step - loss: 1.2166 - mae: 0.7784 - val_loss: 1.7175 - val_mae: 1.0264\n",
            "Epoch 334/500\n",
            "94/94 [==============================] - 0s 4ms/step - loss: 1.1915 - mae: 0.7587 - val_loss: 1.0896 - val_mae: 0.6932\n",
            "Epoch 335/500\n",
            "94/94 [==============================] - 0s 5ms/step - loss: 1.0920 - mae: 0.6854 - val_loss: 1.0373 - val_mae: 0.6774\n",
            "Epoch 336/500\n",
            "94/94 [==============================] - 0s 5ms/step - loss: 1.1019 - mae: 0.6888 - val_loss: 1.0680 - val_mae: 0.6996\n",
            "Epoch 337/500\n",
            "94/94 [==============================] - 0s 4ms/step - loss: 1.1114 - mae: 0.6959 - val_loss: 1.1415 - val_mae: 0.7027\n",
            "Epoch 338/500\n",
            "94/94 [==============================] - 0s 5ms/step - loss: 1.1062 - mae: 0.7019 - val_loss: 1.1178 - val_mae: 0.7413\n",
            "Epoch 339/500\n",
            "94/94 [==============================] - 0s 4ms/step - loss: 1.0863 - mae: 0.6844 - val_loss: 1.1114 - val_mae: 0.7135\n",
            "Epoch 340/500\n",
            "94/94 [==============================] - 0s 5ms/step - loss: 1.1765 - mae: 0.7549 - val_loss: 1.1474 - val_mae: 0.7790\n",
            "Epoch 341/500\n",
            "94/94 [==============================] - 0s 5ms/step - loss: 1.0926 - mae: 0.6894 - val_loss: 1.0965 - val_mae: 0.6980\n",
            "Epoch 342/500\n",
            "94/94 [==============================] - 0s 5ms/step - loss: 1.1171 - mae: 0.7033 - val_loss: 1.0561 - val_mae: 0.6711\n",
            "Epoch 343/500\n",
            "94/94 [==============================] - 0s 5ms/step - loss: 1.1796 - mae: 0.7580 - val_loss: 1.1444 - val_mae: 0.7502\n",
            "Epoch 344/500\n",
            "94/94 [==============================] - 0s 5ms/step - loss: 1.1423 - mae: 0.7270 - val_loss: 1.0429 - val_mae: 0.6830\n",
            "Epoch 345/500\n",
            "94/94 [==============================] - 0s 5ms/step - loss: 1.0861 - mae: 0.6866 - val_loss: 1.0856 - val_mae: 0.7223\n",
            "Epoch 346/500\n",
            "94/94 [==============================] - 0s 5ms/step - loss: 1.1033 - mae: 0.6893 - val_loss: 1.0570 - val_mae: 0.6669\n",
            "Epoch 347/500\n",
            "94/94 [==============================] - 0s 5ms/step - loss: 1.0863 - mae: 0.6902 - val_loss: 1.0476 - val_mae: 0.6659\n",
            "Epoch 348/500\n",
            "94/94 [==============================] - 0s 5ms/step - loss: 1.0875 - mae: 0.6848 - val_loss: 1.1569 - val_mae: 0.7110\n",
            "Epoch 349/500\n",
            "94/94 [==============================] - 0s 5ms/step - loss: 1.1790 - mae: 0.7496 - val_loss: 1.4156 - val_mae: 0.9162\n",
            "Epoch 350/500\n",
            "94/94 [==============================] - 0s 5ms/step - loss: 1.1691 - mae: 0.7364 - val_loss: 1.0086 - val_mae: 0.6448\n",
            "Epoch 351/500\n",
            "94/94 [==============================] - 0s 5ms/step - loss: 1.0844 - mae: 0.6848 - val_loss: 1.0132 - val_mae: 0.6509\n",
            "Epoch 352/500\n",
            "94/94 [==============================] - 0s 5ms/step - loss: 1.1248 - mae: 0.7171 - val_loss: 1.0109 - val_mae: 0.6429\n",
            "Epoch 353/500\n",
            "94/94 [==============================] - 0s 5ms/step - loss: 1.0806 - mae: 0.6815 - val_loss: 1.0544 - val_mae: 0.6980\n",
            "Epoch 354/500\n",
            "94/94 [==============================] - 0s 5ms/step - loss: 1.0908 - mae: 0.6851 - val_loss: 1.0202 - val_mae: 0.6356\n",
            "Epoch 355/500\n",
            "94/94 [==============================] - 0s 5ms/step - loss: 1.1295 - mae: 0.6945 - val_loss: 1.1665 - val_mae: 0.7362\n",
            "Epoch 356/500\n",
            "94/94 [==============================] - 0s 5ms/step - loss: 1.0992 - mae: 0.6852 - val_loss: 1.1549 - val_mae: 0.7869\n",
            "Epoch 357/500\n",
            "94/94 [==============================] - 0s 5ms/step - loss: 1.1098 - mae: 0.7082 - val_loss: 1.0183 - val_mae: 0.6450\n",
            "Epoch 358/500\n",
            "94/94 [==============================] - 0s 4ms/step - loss: 1.1185 - mae: 0.7139 - val_loss: 1.0911 - val_mae: 0.7149\n",
            "Epoch 359/500\n",
            "94/94 [==============================] - 0s 5ms/step - loss: 1.1189 - mae: 0.7155 - val_loss: 1.1123 - val_mae: 0.6963\n",
            "Epoch 360/500\n",
            "94/94 [==============================] - 0s 4ms/step - loss: 1.1268 - mae: 0.7169 - val_loss: 1.0492 - val_mae: 0.6731\n",
            "Epoch 361/500\n",
            "94/94 [==============================] - 0s 5ms/step - loss: 1.1400 - mae: 0.7181 - val_loss: 1.0989 - val_mae: 0.6963\n",
            "Epoch 362/500\n",
            "94/94 [==============================] - 0s 4ms/step - loss: 1.1378 - mae: 0.7315 - val_loss: 1.0715 - val_mae: 0.6993\n",
            "Epoch 363/500\n",
            "94/94 [==============================] - 0s 5ms/step - loss: 1.1363 - mae: 0.7142 - val_loss: 1.0033 - val_mae: 0.6326\n",
            "Epoch 364/500\n",
            "94/94 [==============================] - 0s 5ms/step - loss: 1.1298 - mae: 0.7204 - val_loss: 1.1983 - val_mae: 0.7938\n",
            "Epoch 365/500\n",
            "94/94 [==============================] - 0s 4ms/step - loss: 1.1549 - mae: 0.7376 - val_loss: 1.0042 - val_mae: 0.6277\n",
            "Epoch 366/500\n",
            "94/94 [==============================] - 0s 5ms/step - loss: 1.1174 - mae: 0.7122 - val_loss: 1.0091 - val_mae: 0.6514\n",
            "Epoch 367/500\n",
            "94/94 [==============================] - 0s 5ms/step - loss: 1.0769 - mae: 0.6723 - val_loss: 1.0032 - val_mae: 0.6360\n",
            "Epoch 368/500\n",
            "94/94 [==============================] - 1s 5ms/step - loss: 1.0734 - mae: 0.6737 - val_loss: 1.0944 - val_mae: 0.6956\n",
            "Epoch 369/500\n",
            "94/94 [==============================] - 0s 5ms/step - loss: 1.1000 - mae: 0.6914 - val_loss: 1.0484 - val_mae: 0.6775\n",
            "Epoch 370/500\n",
            "94/94 [==============================] - 0s 4ms/step - loss: 1.0911 - mae: 0.6832 - val_loss: 1.1455 - val_mae: 0.7252\n",
            "Epoch 371/500\n",
            "94/94 [==============================] - 0s 4ms/step - loss: 1.1209 - mae: 0.7075 - val_loss: 1.2494 - val_mae: 0.8076\n",
            "Epoch 372/500\n",
            "94/94 [==============================] - 0s 4ms/step - loss: 1.1400 - mae: 0.7215 - val_loss: 1.2491 - val_mae: 0.8269\n",
            "Epoch 373/500\n",
            "94/94 [==============================] - 0s 5ms/step - loss: 1.2955 - mae: 0.8190 - val_loss: 8.2423 - val_mae: 2.0185\n",
            "Epoch 374/500\n",
            "94/94 [==============================] - 0s 4ms/step - loss: 24.5072 - mae: 2.1761 - val_loss: 1.0852 - val_mae: 0.6835\n",
            "Epoch 375/500\n",
            "94/94 [==============================] - 0s 5ms/step - loss: 1.0496 - mae: 0.6627 - val_loss: 0.9966 - val_mae: 0.6283\n",
            "Epoch 376/500\n",
            "94/94 [==============================] - 0s 4ms/step - loss: 1.0255 - mae: 0.6424 - val_loss: 0.9968 - val_mae: 0.6200\n",
            "Epoch 377/500\n",
            "94/94 [==============================] - 0s 4ms/step - loss: 1.0275 - mae: 0.6387 - val_loss: 0.9997 - val_mae: 0.6312\n",
            "Epoch 378/500\n",
            "94/94 [==============================] - 0s 5ms/step - loss: 1.0238 - mae: 0.6390 - val_loss: 0.9887 - val_mae: 0.6191\n",
            "Epoch 379/500\n",
            "94/94 [==============================] - 0s 4ms/step - loss: 1.0309 - mae: 0.6421 - val_loss: 1.0842 - val_mae: 0.6843\n",
            "Epoch 380/500\n",
            "94/94 [==============================] - 0s 4ms/step - loss: 1.0514 - mae: 0.6521 - val_loss: 1.0050 - val_mae: 0.6315\n",
            "Epoch 381/500\n",
            "94/94 [==============================] - 0s 5ms/step - loss: 1.0254 - mae: 0.6384 - val_loss: 1.0102 - val_mae: 0.6296\n",
            "Epoch 382/500\n",
            "94/94 [==============================] - 0s 4ms/step - loss: 1.0335 - mae: 0.6420 - val_loss: 0.9835 - val_mae: 0.6169\n",
            "Epoch 383/500\n",
            "94/94 [==============================] - 1s 5ms/step - loss: 1.0209 - mae: 0.6344 - val_loss: 1.0559 - val_mae: 0.6614\n",
            "Epoch 384/500\n",
            "94/94 [==============================] - 0s 5ms/step - loss: 1.0325 - mae: 0.6415 - val_loss: 1.0187 - val_mae: 0.6443\n",
            "Epoch 385/500\n",
            "94/94 [==============================] - 0s 5ms/step - loss: 1.0423 - mae: 0.6485 - val_loss: 0.9912 - val_mae: 0.6196\n",
            "Epoch 386/500\n",
            "94/94 [==============================] - 0s 5ms/step - loss: 1.0405 - mae: 0.6429 - val_loss: 0.9906 - val_mae: 0.6215\n",
            "Epoch 387/500\n",
            "94/94 [==============================] - 1s 5ms/step - loss: 1.0229 - mae: 0.6354 - val_loss: 0.9980 - val_mae: 0.6260\n",
            "Epoch 388/500\n",
            "94/94 [==============================] - 0s 4ms/step - loss: 1.0357 - mae: 0.6445 - val_loss: 1.0022 - val_mae: 0.6292\n",
            "Epoch 389/500\n",
            "94/94 [==============================] - 0s 5ms/step - loss: 1.0579 - mae: 0.6538 - val_loss: 1.0282 - val_mae: 0.6357\n",
            "Epoch 390/500\n",
            "94/94 [==============================] - 0s 4ms/step - loss: 1.0413 - mae: 0.6447 - val_loss: 0.9961 - val_mae: 0.6168\n",
            "Epoch 391/500\n",
            "94/94 [==============================] - 1s 5ms/step - loss: 1.0417 - mae: 0.6462 - val_loss: 0.9901 - val_mae: 0.6142\n",
            "Epoch 392/500\n",
            "94/94 [==============================] - 0s 4ms/step - loss: 1.0432 - mae: 0.6441 - val_loss: 0.9878 - val_mae: 0.6168\n",
            "Epoch 393/500\n",
            "94/94 [==============================] - 0s 5ms/step - loss: 1.0539 - mae: 0.6525 - val_loss: 1.0216 - val_mae: 0.6391\n",
            "Epoch 394/500\n",
            "94/94 [==============================] - 0s 4ms/step - loss: 1.0481 - mae: 0.6520 - val_loss: 0.9947 - val_mae: 0.6165\n",
            "Epoch 395/500\n",
            "94/94 [==============================] - 0s 4ms/step - loss: 1.0293 - mae: 0.6394 - val_loss: 0.9864 - val_mae: 0.6166\n",
            "Epoch 396/500\n",
            "94/94 [==============================] - 0s 5ms/step - loss: 1.0438 - mae: 0.6525 - val_loss: 1.0073 - val_mae: 0.6299\n",
            "Epoch 397/500\n",
            "94/94 [==============================] - 0s 5ms/step - loss: 1.0453 - mae: 0.6523 - val_loss: 0.9998 - val_mae: 0.6399\n",
            "Epoch 398/500\n",
            "94/94 [==============================] - 0s 5ms/step - loss: 1.0283 - mae: 0.6414 - val_loss: 1.0216 - val_mae: 0.6471\n",
            "Epoch 399/500\n",
            "94/94 [==============================] - 0s 4ms/step - loss: 1.0605 - mae: 0.6580 - val_loss: 0.9975 - val_mae: 0.6143\n",
            "Epoch 400/500\n",
            "94/94 [==============================] - 0s 5ms/step - loss: 1.0493 - mae: 0.6520 - val_loss: 0.9956 - val_mae: 0.6206\n",
            "Epoch 401/500\n",
            "94/94 [==============================] - 0s 4ms/step - loss: 1.0625 - mae: 0.6633 - val_loss: 1.0699 - val_mae: 0.6633\n",
            "Epoch 402/500\n",
            "94/94 [==============================] - 0s 4ms/step - loss: 1.0644 - mae: 0.6710 - val_loss: 1.0925 - val_mae: 0.6787\n",
            "Epoch 403/500\n",
            "94/94 [==============================] - 0s 5ms/step - loss: 1.0763 - mae: 0.6705 - val_loss: 1.0525 - val_mae: 0.6644\n",
            "Epoch 404/500\n",
            "94/94 [==============================] - 0s 4ms/step - loss: 1.0845 - mae: 0.6775 - val_loss: 0.9978 - val_mae: 0.6367\n",
            "Epoch 405/500\n",
            "94/94 [==============================] - 0s 5ms/step - loss: 1.0653 - mae: 0.6617 - val_loss: 1.0220 - val_mae: 0.6452\n",
            "Epoch 406/500\n",
            "94/94 [==============================] - 0s 4ms/step - loss: 1.0487 - mae: 0.6526 - val_loss: 1.0509 - val_mae: 0.6707\n",
            "Epoch 407/500\n",
            "94/94 [==============================] - 0s 4ms/step - loss: 1.0686 - mae: 0.6615 - val_loss: 0.9953 - val_mae: 0.6351\n",
            "Epoch 408/500\n",
            "94/94 [==============================] - 0s 4ms/step - loss: 1.0917 - mae: 0.6840 - val_loss: 1.0246 - val_mae: 0.6377\n",
            "Epoch 409/500\n",
            "94/94 [==============================] - 0s 5ms/step - loss: 1.0560 - mae: 0.6541 - val_loss: 0.9998 - val_mae: 0.6343\n",
            "Epoch 410/500\n",
            "94/94 [==============================] - 0s 5ms/step - loss: 1.0800 - mae: 0.6793 - val_loss: 1.0054 - val_mae: 0.6242\n",
            "Epoch 411/500\n",
            "94/94 [==============================] - 0s 4ms/step - loss: 1.0621 - mae: 0.6572 - val_loss: 1.1711 - val_mae: 0.7145\n",
            "Epoch 412/500\n",
            "94/94 [==============================] - 0s 5ms/step - loss: 1.0941 - mae: 0.6845 - val_loss: 1.0034 - val_mae: 0.6178\n",
            "Epoch 413/500\n",
            "94/94 [==============================] - 0s 4ms/step - loss: 1.0677 - mae: 0.6781 - val_loss: 1.0517 - val_mae: 0.6550\n",
            "Epoch 414/500\n",
            "94/94 [==============================] - 0s 5ms/step - loss: 1.1014 - mae: 0.6888 - val_loss: 1.0206 - val_mae: 0.6419\n",
            "Epoch 415/500\n",
            "94/94 [==============================] - 0s 5ms/step - loss: 1.1047 - mae: 0.6997 - val_loss: 1.1077 - val_mae: 0.7113\n",
            "Epoch 416/500\n",
            "94/94 [==============================] - 0s 4ms/step - loss: 1.0736 - mae: 0.6758 - val_loss: 1.1054 - val_mae: 0.7027\n",
            "Epoch 417/500\n",
            "94/94 [==============================] - 0s 5ms/step - loss: 1.0599 - mae: 0.6609 - val_loss: 1.0210 - val_mae: 0.6530\n",
            "Epoch 418/500\n",
            "94/94 [==============================] - 0s 4ms/step - loss: 1.1040 - mae: 0.6978 - val_loss: 1.1133 - val_mae: 0.7034\n",
            "Epoch 419/500\n",
            "94/94 [==============================] - 0s 4ms/step - loss: 1.1042 - mae: 0.7075 - val_loss: 1.1112 - val_mae: 0.7046\n",
            "Epoch 420/500\n",
            "94/94 [==============================] - 0s 5ms/step - loss: 1.0602 - mae: 0.6665 - val_loss: 0.9932 - val_mae: 0.6186\n",
            "Epoch 421/500\n",
            "94/94 [==============================] - 0s 4ms/step - loss: 1.0887 - mae: 0.6914 - val_loss: 0.9915 - val_mae: 0.6226\n",
            "Epoch 422/500\n",
            "94/94 [==============================] - 0s 5ms/step - loss: 1.0620 - mae: 0.6680 - val_loss: 1.0336 - val_mae: 0.6888\n",
            "Epoch 423/500\n",
            "94/94 [==============================] - 0s 5ms/step - loss: 1.0689 - mae: 0.6784 - val_loss: 1.0348 - val_mae: 0.6641\n",
            "Epoch 424/500\n",
            "94/94 [==============================] - 0s 5ms/step - loss: 1.0673 - mae: 0.6806 - val_loss: 1.1051 - val_mae: 0.7165\n",
            "Epoch 425/500\n",
            "94/94 [==============================] - 0s 4ms/step - loss: 1.1388 - mae: 0.7168 - val_loss: 1.0111 - val_mae: 0.6475\n",
            "Epoch 426/500\n",
            "94/94 [==============================] - 0s 4ms/step - loss: 1.0759 - mae: 0.6857 - val_loss: 1.0399 - val_mae: 0.6525\n",
            "Epoch 427/500\n",
            "94/94 [==============================] - 0s 4ms/step - loss: 1.0823 - mae: 0.6751 - val_loss: 1.0073 - val_mae: 0.6515\n",
            "Epoch 428/500\n",
            "94/94 [==============================] - 0s 4ms/step - loss: 1.0701 - mae: 0.6788 - val_loss: 1.0837 - val_mae: 0.7046\n",
            "Epoch 429/500\n",
            "94/94 [==============================] - 0s 4ms/step - loss: 1.0696 - mae: 0.6778 - val_loss: 1.0089 - val_mae: 0.6328\n",
            "Epoch 430/500\n",
            "94/94 [==============================] - 0s 4ms/step - loss: 1.0787 - mae: 0.6807 - val_loss: 1.0289 - val_mae: 0.6765\n",
            "Epoch 431/500\n",
            "94/94 [==============================] - 0s 5ms/step - loss: 1.1050 - mae: 0.7063 - val_loss: 1.0508 - val_mae: 0.6819\n",
            "Epoch 432/500\n",
            "94/94 [==============================] - 0s 5ms/step - loss: 1.1102 - mae: 0.7069 - val_loss: 1.1529 - val_mae: 0.7506\n",
            "Epoch 433/500\n",
            "94/94 [==============================] - 0s 4ms/step - loss: 1.1126 - mae: 0.7039 - val_loss: 1.0202 - val_mae: 0.6369\n",
            "Epoch 434/500\n",
            "94/94 [==============================] - 0s 4ms/step - loss: 1.0771 - mae: 0.6830 - val_loss: 1.0072 - val_mae: 0.6316\n",
            "Epoch 435/500\n",
            "94/94 [==============================] - 0s 4ms/step - loss: 1.1129 - mae: 0.6911 - val_loss: 1.0570 - val_mae: 0.6382\n",
            "Epoch 436/500\n",
            "94/94 [==============================] - 0s 5ms/step - loss: 1.0857 - mae: 0.6868 - val_loss: 1.2491 - val_mae: 0.8462\n",
            "Epoch 437/500\n",
            "94/94 [==============================] - 0s 4ms/step - loss: 1.1035 - mae: 0.7019 - val_loss: 1.0742 - val_mae: 0.7159\n",
            "Epoch 438/500\n",
            "94/94 [==============================] - 0s 4ms/step - loss: 1.1132 - mae: 0.7113 - val_loss: 1.1977 - val_mae: 0.7383\n",
            "Epoch 439/500\n",
            "94/94 [==============================] - 0s 5ms/step - loss: 1.1340 - mae: 0.7141 - val_loss: 1.0494 - val_mae: 0.6750\n",
            "Epoch 440/500\n",
            "94/94 [==============================] - 0s 4ms/step - loss: 1.0791 - mae: 0.6786 - val_loss: 1.0532 - val_mae: 0.6923\n",
            "Epoch 441/500\n",
            "94/94 [==============================] - 0s 4ms/step - loss: 1.0784 - mae: 0.6822 - val_loss: 1.0251 - val_mae: 0.6564\n",
            "Epoch 442/500\n",
            "94/94 [==============================] - 0s 4ms/step - loss: 1.0587 - mae: 0.6623 - val_loss: 1.0592 - val_mae: 0.7078\n",
            "Epoch 443/500\n",
            "94/94 [==============================] - 0s 5ms/step - loss: 1.0857 - mae: 0.6854 - val_loss: 1.0912 - val_mae: 0.7076\n",
            "Epoch 444/500\n",
            "94/94 [==============================] - 0s 4ms/step - loss: 1.1177 - mae: 0.6993 - val_loss: 1.1485 - val_mae: 0.7353\n",
            "Epoch 445/500\n",
            "94/94 [==============================] - 0s 5ms/step - loss: 1.0889 - mae: 0.6894 - val_loss: 1.1406 - val_mae: 0.7575\n",
            "Epoch 446/500\n",
            "94/94 [==============================] - 0s 4ms/step - loss: 1.1254 - mae: 0.7137 - val_loss: 1.3355 - val_mae: 0.8572\n",
            "Epoch 447/500\n",
            "94/94 [==============================] - 0s 4ms/step - loss: 1.1407 - mae: 0.7318 - val_loss: 1.0166 - val_mae: 0.6512\n",
            "Epoch 448/500\n",
            "94/94 [==============================] - 0s 4ms/step - loss: 1.0787 - mae: 0.6907 - val_loss: 1.2215 - val_mae: 0.7843\n",
            "Epoch 449/500\n",
            "94/94 [==============================] - 0s 4ms/step - loss: 1.0978 - mae: 0.7048 - val_loss: 1.0933 - val_mae: 0.7329\n",
            "Epoch 450/500\n",
            "94/94 [==============================] - 0s 4ms/step - loss: 1.0664 - mae: 0.6734 - val_loss: 1.0045 - val_mae: 0.6344\n",
            "Epoch 451/500\n",
            "94/94 [==============================] - 0s 4ms/step - loss: 1.1213 - mae: 0.7082 - val_loss: 1.0657 - val_mae: 0.6914\n",
            "Epoch 452/500\n",
            "94/94 [==============================] - 0s 5ms/step - loss: 1.0689 - mae: 0.6660 - val_loss: 1.0452 - val_mae: 0.6579\n",
            "Epoch 453/500\n",
            "94/94 [==============================] - 0s 4ms/step - loss: 1.0729 - mae: 0.6681 - val_loss: 1.0871 - val_mae: 0.6984\n",
            "Epoch 454/500\n",
            "94/94 [==============================] - 0s 4ms/step - loss: 1.1097 - mae: 0.6966 - val_loss: 0.9921 - val_mae: 0.6261\n",
            "Epoch 455/500\n",
            "94/94 [==============================] - 0s 4ms/step - loss: 1.0506 - mae: 0.6650 - val_loss: 1.0245 - val_mae: 0.6737\n",
            "Epoch 456/500\n",
            "94/94 [==============================] - 0s 5ms/step - loss: 1.1009 - mae: 0.6887 - val_loss: 1.2615 - val_mae: 0.8385\n",
            "Epoch 457/500\n",
            "94/94 [==============================] - 0s 4ms/step - loss: 1.1228 - mae: 0.7097 - val_loss: 1.0537 - val_mae: 0.6614\n",
            "Epoch 458/500\n",
            "94/94 [==============================] - 0s 4ms/step - loss: 1.0904 - mae: 0.6989 - val_loss: 1.0768 - val_mae: 0.7039\n",
            "Epoch 459/500\n",
            "94/94 [==============================] - 0s 4ms/step - loss: 1.1535 - mae: 0.7427 - val_loss: 1.0703 - val_mae: 0.6750\n",
            "Epoch 460/500\n",
            "94/94 [==============================] - 0s 4ms/step - loss: 1.0577 - mae: 0.6628 - val_loss: 1.0269 - val_mae: 0.6545\n",
            "Epoch 461/500\n",
            "94/94 [==============================] - 0s 4ms/step - loss: 1.0665 - mae: 0.6664 - val_loss: 1.0496 - val_mae: 0.6485\n",
            "Epoch 462/500\n",
            "94/94 [==============================] - 0s 4ms/step - loss: 1.0826 - mae: 0.6839 - val_loss: 1.0313 - val_mae: 0.6774\n",
            "Epoch 463/500\n",
            "94/94 [==============================] - 0s 4ms/step - loss: 1.0922 - mae: 0.6944 - val_loss: 1.0928 - val_mae: 0.6818\n",
            "Epoch 464/500\n",
            "94/94 [==============================] - 0s 4ms/step - loss: 1.1178 - mae: 0.6962 - val_loss: 0.9909 - val_mae: 0.6246\n",
            "Epoch 465/500\n",
            "94/94 [==============================] - 0s 4ms/step - loss: 1.0856 - mae: 0.6844 - val_loss: 1.0034 - val_mae: 0.6470\n",
            "Epoch 466/500\n",
            "94/94 [==============================] - 0s 5ms/step - loss: 1.0869 - mae: 0.6964 - val_loss: 1.0734 - val_mae: 0.6969\n",
            "Epoch 467/500\n",
            "94/94 [==============================] - 0s 5ms/step - loss: 1.1144 - mae: 0.7166 - val_loss: 1.0530 - val_mae: 0.6882\n",
            "Epoch 468/500\n",
            "94/94 [==============================] - 0s 5ms/step - loss: 1.1115 - mae: 0.7079 - val_loss: 1.1058 - val_mae: 0.7073\n",
            "Epoch 469/500\n",
            "94/94 [==============================] - 0s 4ms/step - loss: 1.0970 - mae: 0.6917 - val_loss: 1.0163 - val_mae: 0.6357\n",
            "Epoch 470/500\n",
            "94/94 [==============================] - 0s 5ms/step - loss: 1.0682 - mae: 0.6705 - val_loss: 1.0879 - val_mae: 0.7071\n",
            "Epoch 471/500\n",
            "94/94 [==============================] - 0s 4ms/step - loss: 1.1033 - mae: 0.6985 - val_loss: 1.1015 - val_mae: 0.6781\n",
            "Epoch 472/500\n",
            "94/94 [==============================] - 0s 4ms/step - loss: 1.0940 - mae: 0.6805 - val_loss: 1.0852 - val_mae: 0.6620\n",
            "Epoch 473/500\n",
            "94/94 [==============================] - 0s 4ms/step - loss: 1.0893 - mae: 0.6885 - val_loss: 1.0418 - val_mae: 0.6488\n",
            "Epoch 474/500\n",
            "94/94 [==============================] - 0s 4ms/step - loss: 1.0921 - mae: 0.7056 - val_loss: 1.0177 - val_mae: 0.6472\n",
            "Epoch 475/500\n",
            "94/94 [==============================] - 0s 5ms/step - loss: 1.0799 - mae: 0.6825 - val_loss: 1.0143 - val_mae: 0.6455\n",
            "Epoch 476/500\n",
            "94/94 [==============================] - 0s 4ms/step - loss: 1.0541 - mae: 0.6616 - val_loss: 1.0211 - val_mae: 0.6394\n",
            "Epoch 477/500\n",
            "94/94 [==============================] - 0s 4ms/step - loss: 1.1429 - mae: 0.7380 - val_loss: 1.2513 - val_mae: 0.8219\n",
            "Epoch 478/500\n",
            "94/94 [==============================] - 0s 4ms/step - loss: 1.7639 - mae: 0.8960 - val_loss: 1.0409 - val_mae: 0.6561\n",
            "Epoch 479/500\n",
            "94/94 [==============================] - 0s 4ms/step - loss: 1.0700 - mae: 0.6699 - val_loss: 1.0162 - val_mae: 0.6399\n",
            "Epoch 480/500\n",
            "94/94 [==============================] - 0s 5ms/step - loss: 1.0650 - mae: 0.6645 - val_loss: 1.0838 - val_mae: 0.6797\n",
            "Epoch 481/500\n",
            "94/94 [==============================] - 0s 4ms/step - loss: 1.0891 - mae: 0.6749 - val_loss: 1.0555 - val_mae: 0.6521\n",
            "Epoch 482/500\n",
            "94/94 [==============================] - 0s 5ms/step - loss: 1.0800 - mae: 0.6732 - val_loss: 1.0755 - val_mae: 0.6638\n",
            "Epoch 483/500\n",
            "94/94 [==============================] - 0s 4ms/step - loss: 1.0770 - mae: 0.6642 - val_loss: 1.0421 - val_mae: 0.6466\n",
            "Epoch 484/500\n",
            "94/94 [==============================] - 0s 5ms/step - loss: 1.0543 - mae: 0.6572 - val_loss: 1.0916 - val_mae: 0.6946\n",
            "Epoch 485/500\n",
            "94/94 [==============================] - 0s 5ms/step - loss: 1.0458 - mae: 0.6553 - val_loss: 1.0140 - val_mae: 0.6270\n",
            "Epoch 486/500\n",
            "94/94 [==============================] - 0s 5ms/step - loss: 1.0718 - mae: 0.6717 - val_loss: 1.0163 - val_mae: 0.6352\n",
            "Epoch 487/500\n",
            "94/94 [==============================] - 0s 4ms/step - loss: 1.0694 - mae: 0.6666 - val_loss: 1.0015 - val_mae: 0.6258\n",
            "Epoch 488/500\n",
            "94/94 [==============================] - 0s 5ms/step - loss: 1.0825 - mae: 0.6819 - val_loss: 1.0814 - val_mae: 0.6804\n",
            "Epoch 489/500\n",
            "94/94 [==============================] - 0s 5ms/step - loss: 1.0655 - mae: 0.6687 - val_loss: 0.9933 - val_mae: 0.6307\n",
            "Epoch 490/500\n",
            "94/94 [==============================] - 0s 4ms/step - loss: 1.0756 - mae: 0.6751 - val_loss: 1.0094 - val_mae: 0.6273\n",
            "Epoch 491/500\n",
            "94/94 [==============================] - 0s 4ms/step - loss: 1.0715 - mae: 0.6768 - val_loss: 1.0217 - val_mae: 0.6458\n",
            "Epoch 492/500\n",
            "94/94 [==============================] - 0s 4ms/step - loss: 1.0654 - mae: 0.6694 - val_loss: 1.0364 - val_mae: 0.6807\n",
            "Epoch 493/500\n",
            "94/94 [==============================] - 0s 5ms/step - loss: 1.0613 - mae: 0.6643 - val_loss: 0.9948 - val_mae: 0.6240\n",
            "Epoch 494/500\n",
            "94/94 [==============================] - 0s 5ms/step - loss: 1.0841 - mae: 0.6870 - val_loss: 1.0800 - val_mae: 0.7152\n",
            "Epoch 495/500\n",
            "94/94 [==============================] - 0s 5ms/step - loss: 1.1054 - mae: 0.6969 - val_loss: 1.0488 - val_mae: 0.6601\n",
            "Epoch 496/500\n",
            "94/94 [==============================] - 0s 4ms/step - loss: 1.0704 - mae: 0.6706 - val_loss: 1.0769 - val_mae: 0.6900\n",
            "Epoch 497/500\n",
            "94/94 [==============================] - 0s 4ms/step - loss: 1.1116 - mae: 0.7041 - val_loss: 1.0727 - val_mae: 0.7114\n",
            "Epoch 498/500\n",
            "94/94 [==============================] - 0s 4ms/step - loss: 1.0862 - mae: 0.6885 - val_loss: 1.0523 - val_mae: 0.6708\n",
            "Epoch 499/500\n",
            "94/94 [==============================] - 0s 4ms/step - loss: 1.0911 - mae: 0.6891 - val_loss: 1.0279 - val_mae: 0.6601\n",
            "Epoch 500/500\n",
            "94/94 [==============================] - 0s 5ms/step - loss: 1.1079 - mae: 0.7026 - val_loss: 1.0492 - val_mae: 0.6867\n",
            "INFO:tensorflow:Assets written to: saved_model/STM32_AI_Test/assets\n"
          ]
        }
      ]
    },
    {
      "cell_type": "markdown",
      "source": [
        "# Evaluate the training performance"
      ],
      "metadata": {
        "id": "hm2y2S51MH4s"
      }
    },
    {
      "cell_type": "code",
      "source": [
        "### Draw a graph of the loss, which is the distance between\n",
        "# the predicted and actual values during training and validation.\n",
        "train_loss = history_1.history['loss']\n",
        "val_loss = history_1.history['val_loss']\n",
        "\n",
        "epochs = range(1, len(train_loss) + 1)\n",
        "\n",
        "plt.plot(epochs, train_loss, 'g.', label='Training loss')\n",
        "plt.plot(epochs, val_loss, 'b', label='Validation loss')\n",
        "plt.title('Training and validation loss')\n",
        "plt.xlabel('Epochs')\n",
        "plt.ylabel('Loss')\n",
        "plt.legend()\n",
        "plt.show()"
      ],
      "metadata": {
        "id": "DO5sw9BxMK5E",
        "colab": {
          "base_uri": "https://localhost:8080/",
          "height": 295
        },
        "outputId": "05bd2e32-b1a0-424f-9a9a-45d15e5f772d"
      },
      "execution_count": 137,
      "outputs": [
        {
          "output_type": "display_data",
          "data": {
            "image/png": "[encoded data removed]",
            "text/plain": [
              "<Figure size 432x288 with 1 Axes>"
            ]
          },
          "metadata": {
            "needs_background": "light"
          }
        }
      ]
    },
    {
      "cell_type": "code",
      "source": [
        "# evaluate the keras model\n",
        "_, accuracy = model_1.evaluate(y_validate, x_validate)\n",
        "print('Accuracy: %.2f' % (accuracy*100))"
      ],
      "metadata": {
        "colab": {
          "base_uri": "https://localhost:8080/"
        },
        "id": "kZ6rMEUZvYZ-",
        "outputId": "51a905d3-9caa-4cc8-a4eb-8b2e20da369a"
      },
      "execution_count": 138,
      "outputs": [
        {
          "output_type": "stream",
          "name": "stdout",
          "text": [
            "63/63 [==============================] - 0s 1ms/step - loss: 1.0492 - mae: 0.6867\n",
            "Accuracy: 68.67\n"
          ]
        }
      ]
    },
    {
      "cell_type": "code",
      "metadata": {
        "id": "i13eVIT3B9Mj",
        "outputId": "b15703bc-e0ae-48f2-cf62-80da1259a61f",
        "colab": {
          "base_uri": "https://localhost:8080/"
        }
      },
      "source": [
        "# Test a couple of waveforms\n",
        "# remember:\n",
        "#     y = waveforms\n",
        "#     x = truth parameters\n",
        "\n",
        "x_test = x_values[1]\n",
        "y_test = np.array(generateTemplate(position = x_test[0], pulse_length = x_test[1], height=x_test[2], noise=0))\n",
        "\n",
        "# waveform needs to be reshaped to be fed into ANN\n",
        "y_test = y_test.reshape(1,128)\n",
        "\n",
        "# try, whether we can reconstruct the parameters x_test from the waveform y_test\n",
        "model_1.make_predict_function()\n",
        "x_test_pred = model_1.predict(y_test)[0]\n",
        "\n",
        "print(\"sample pulse created: \", x_test)\n",
        "print(\"ANN reconstructed:    \", x_test_pred)"
      ],
      "execution_count": 140,
      "outputs": [
        {
          "output_type": "stream",
          "name": "stdout",
          "text": [
            "sample pulse created:  [19 16 59]\n",
            "ANN reconstructed:     [18.567688 19.460169 59.23284 ]\n"
          ]
        }
      ]
    },
    {
      "cell_type": "markdown",
      "source": [
        "## Have a look at the reconstructed parameters\n",
        "\n",
        "Get some random pulses, and have a look how they are reconstructed by the network.\n"
      ],
      "metadata": {
        "id": "A0DU0ZLx59Z8"
      }
    },
    {
      "cell_type": "code",
      "source": [
        "# number of test waveforms\n",
        "TEST_SAMPLES = 1000"
      ],
      "metadata": {
        "id": "BDet8lS36gIz"
      },
      "execution_count": 141,
      "outputs": []
    },
    {
      "cell_type": "code",
      "source": [
        "waveforms = []        # generated waveforms\n",
        "orig_parameters = []  # parameters, which are used for the generation\n",
        "NN_parameters = []    # parameters, reconstructed by the NN\n",
        "\n",
        "# generate the waveforms\n",
        "for i in range(TEST_SAMPLES):\n",
        "  # use random settings\n",
        "  width = np.random.randint(16, 32)         # width of 16 to 64\n",
        "  position = np.random.randint(16, high=24) # limit position into a certain window\n",
        "  height = np.random.randint(32,128)        # pulse height of 32 to 128\n",
        "\n",
        "  orig_parameters.append( (width, position, height) )\n",
        "  waveforms.append( np.array(generateTemplate(position = position, pulse_length = width, height=height, noise=noise) ) )"
      ],
      "metadata": {
        "id": "qvu48FbE6UTm"
      },
      "execution_count": 142,
      "outputs": []
    },
    {
      "cell_type": "code",
      "source": [
        "for i in range(TEST_SAMPLES):\n",
        "  # waveform needs to be reshaped to be fed into ANN\n",
        "  waveform = waveforms[i].reshape(1,128)\n",
        "  NN_parameters.append( model_1.predict(waveform)[0] )\n"
      ],
      "metadata": {
        "id": "IXDLAkyy6lrh"
      },
      "execution_count": 143,
      "outputs": []
    },
    {
      "cell_type": "markdown",
      "source": [
        "Plot the distributions"
      ],
      "metadata": {
        "id": "GI7iIFsN7LMw"
      }
    },
    {
      "cell_type": "code",
      "source": [
        "plot_x = [k[0] for k in orig_parameters]\n",
        "plot_y = [k[0] for k in NN_parameters]\n",
        "plt.hist2d(plot_x, plot_y, bins=32, norm=LogNorm())\n",
        "plt.title(\"width\")\n",
        "plt.ylabel(\"NN parameter\")\n",
        "plt.xlabel(\"truth parameter\")\n",
        "plt.show()"
      ],
      "metadata": {
        "colab": {
          "base_uri": "https://localhost:8080/",
          "height": 295
        },
        "id": "4abhDols7ORo",
        "outputId": "58bc20f9-0ab2-4c6c-ee56-9834b5e9a6ed"
      },
      "execution_count": 183,
      "outputs": [
        {
          "output_type": "display_data",
          "data": {
            "image/png": "[encoded data removed]",
            "text/plain": [
              "<Figure size 432x288 with 1 Axes>"
            ]
          },
          "metadata": {
            "needs_background": "light"
          }
        }
      ]
    },
    {
      "cell_type": "code",
      "source": [
        "plot_x = [k[1] for k in orig_parameters]\n",
        "plot_y = [k[1] for k in NN_parameters]\n",
        "plt.hist2d(plot_x, plot_y, bins=32, norm=LogNorm())\n",
        "plt.title(\"postition\")\n",
        "plt.ylabel(\"NN parameter\")\n",
        "plt.xlabel(\"truth parameter\")\n",
        "plt.show()"
      ],
      "metadata": {
        "colab": {
          "base_uri": "https://localhost:8080/",
          "height": 295
        },
        "id": "ql9DsEfg72Px",
        "outputId": "9d636ac8-523c-437d-cf8c-5cca4152d4b6"
      },
      "execution_count": 184,
      "outputs": [
        {
          "output_type": "display_data",
          "data": {
            "image/png": "[encoded data removed]",
            "text/plain": [
              "<Figure size 432x288 with 1 Axes>"
            ]
          },
          "metadata": {
            "needs_background": "light"
          }
        }
      ]
    },
    {
      "cell_type": "code",
      "source": [
        "plot_x = [k[2] for k in orig_parameters]\n",
        "plot_y = [k[2] for k in NN_parameters]\n",
        "plt.hist2d(plot_x, plot_y, bins=32, norm=LogNorm())\n",
        "plt.title(\"height\")\n",
        "plt.ylabel(\"NN parameter\")\n",
        "plt.xlabel(\"truth parameter\")\n",
        "plt.show()"
      ],
      "metadata": {
        "colab": {
          "base_uri": "https://localhost:8080/",
          "height": 295
        },
        "id": "4Co7DGIk740X",
        "outputId": "993530b3-eef5-4917-fbea-51d036aa2030"
      },
      "execution_count": 185,
      "outputs": [
        {
          "output_type": "display_data",
          "data": {
            "image/png": "[encoded data removed]",
            "text/plain": [
              "<Figure size 432x288 with 1 Axes>"
            ]
          },
          "metadata": {
            "needs_background": "light"
          }
        }
      ]
    }
  ]
}