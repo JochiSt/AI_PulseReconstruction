{
  "nbformat": 4,
  "nbformat_minor": 0,
  "metadata": {
    "colab": {
      "name": "TestSTM32_AI.ipynb",
      "provenance": [],
      "collapsed_sections": [],
      "toc_visible": true,
      "authorship_tag": "ABX9TyOphudbn1ARLLIaqOIKr/9C",
      "include_colab_link": true
    },
    "kernelspec": {
      "name": "python3",
      "display_name": "Python 3"
    },
    "language_info": {
      "name": "python"
    }
  },
  "cells": [
    {
      "cell_type": "markdown",
      "metadata": {
        "id": "view-in-github",
        "colab_type": "text"
      },
      "source": [
        "<a href=\"https://colab.research.google.com/github/JochiSt/AI_PulseReconstruction/blob/main/TestSTM32_AI.ipynb\" target=\"_parent\"><img src=\"https://colab.research.google.com/assets/colab-badge.svg\" alt=\"Open In Colab\"/></a>"
      ]
    },
    {
      "cell_type": "markdown",
      "source": [
        "# Pulse recognition AI\n",
        "\n",
        "first all the imports"
      ],
      "metadata": {
        "id": "brM0YAG3Vcen"
      }
    },
    {
      "cell_type": "code",
      "execution_count": null,
      "metadata": {
        "id": "dW80rxgzVZ8z"
      },
      "outputs": [],
      "source": [
        "import numpy as np\n",
        "import matplotlib.pyplot as plt\n",
        "from matplotlib.colors import LogNorm"
      ]
    },
    {
      "cell_type": "markdown",
      "source": [
        "## Generate template"
      ],
      "metadata": {
        "id": "XUxegHb0V0qN"
      }
    },
    {
      "cell_type": "code",
      "source": [
        "TOTAL_SAMPLES = 128\n",
        "RISING_POINTS = 4\n",
        "\n",
        "def generateTemplate(position = 0, pulse_length = 32, height=1, noise=0):\n",
        "\n",
        "  assert TOTAL_SAMPLES - pulse_length - position - RISING_POINTS * 2 > 0\n",
        "\n",
        "  # zeroes at front of the pulse\n",
        "  template = np.zeros(position)\n",
        "\n",
        "  # create rising edge\n",
        "  template = np.append(template, np.linspace(0,1,RISING_POINTS, endpoint=False))\n",
        "\n",
        "  # high part of the pulse\n",
        "  template = np.append(template, np.ones(pulse_length))\n",
        "\n",
        "  # create falling edge\n",
        "  template = np.append(template, np.linspace(1,0,RISING_POINTS, endpoint=False))\n",
        "\n",
        "  # zeroes after the pulse\n",
        "  template = np.append(template, np.zeros( TOTAL_SAMPLES - pulse_length - position - 2*RISING_POINTS))\n",
        "\n",
        "  # multiply by the height to get the right amplitude\n",
        "  template *= height\n",
        "\n",
        "  # add some noise\n",
        "  template  += noise * np.random.randn(*template.shape)\n",
        "\n",
        "  # convert to integer\n",
        "  template = template.astype(int)\n",
        "\n",
        "  return template\n",
        "\n",
        "print(\"template length: \", len(generateTemplate()))"
      ],
      "metadata": {
        "colab": {
          "base_uri": "https://localhost:8080/"
        },
        "id": "RPOJ8P9jWBRa",
        "outputId": "c37a1b6e-48cf-4a81-853f-7dfdb2c19b1e"
      },
      "execution_count": null,
      "outputs": [
        {
          "output_type": "stream",
          "name": "stdout",
          "text": [
            "template length:  128\n"
          ]
        }
      ]
    },
    {
      "cell_type": "markdown",
      "source": [
        "Have a look at the template visually"
      ],
      "metadata": {
        "id": "I1PFw1tzV8kx"
      }
    },
    {
      "cell_type": "code",
      "source": [
        "plt.plot(generateTemplate(position = 32, pulse_length=32, height=128), 'b.')\n",
        "plt.plot(generateTemplate(position = 16, pulse_length=64, height=128), 'r.')\n",
        "plt.show()"
      ],
      "metadata": {
        "colab": {
          "base_uri": "https://localhost:8080/",
          "height": 265
        },
        "id": "L1VUYDhUWw9t",
        "outputId": "4ee8cedd-84fa-431d-8f79-caa50b14dd63"
      },
      "execution_count": null,
      "outputs": [
        {
          "output_type": "display_data",
          "data": {
            "text/plain": [
              "<Figure size 432x288 with 1 Axes>"
            ],
            "image/png": "[encoded data removed]"
          },
          "metadata": {
            "needs_background": "light"
          }
        }
      ]
    },
    {
      "cell_type": "markdown",
      "source": [
        "add some noise, and maybe shift the position\n",
        "\n",
        "\n",
        "\n"
      ],
      "metadata": {
        "id": "kYBulwl2XGvg"
      }
    },
    {
      "cell_type": "code",
      "source": [
        "# Plot our data\n",
        "plt.plot(generateTemplate(height=128, noise=1), 'b.')\n",
        "plt.show()"
      ],
      "metadata": {
        "id": "ouyegrmBXGJg",
        "colab": {
          "base_uri": "https://localhost:8080/",
          "height": 265
        },
        "outputId": "6cac13c0-3c67-4c2a-f0e9-3e52e6a9b4d3"
      },
      "execution_count": null,
      "outputs": [
        {
          "output_type": "display_data",
          "data": {
            "text/plain": [
              "<Figure size 432x288 with 1 Axes>"
            ],
            "image/png": "[encoded data removed]"
          },
          "metadata": {
            "needs_background": "light"
          }
        }
      ]
    },
    {
      "cell_type": "markdown",
      "source": [
        "## Create Templates for recognision\n",
        "\n",
        "Generate a couple of templates, which have a pulse in them, and some without any data"
      ],
      "metadata": {
        "id": "u1emwvE7ogUq"
      }
    },
    {
      "cell_type": "code",
      "source": [
        "for i in range(10):\n",
        "  width = np.random.randint(16, 64)               # width of 16 to 64\n",
        "  position = np.random.randint(0, high=96-width) # arbitrary position\n",
        "  noise = np.random.randint(1,30)/10.             # 0.1 to 3 LSB noise\n",
        "  height = np.random.randint(32,128)              # pulse height of 32 to 128\n",
        "\n",
        "  print(position, width, noise, height)\n",
        "  plt.plot(generateTemplate(position = position, pulse_length = width, height=height, noise=noise))\n",
        "\n",
        "plt.show()"
      ],
      "metadata": {
        "colab": {
          "base_uri": "https://localhost:8080/",
          "height": 449
        },
        "id": "1bzxxYb7odBS",
        "outputId": "3fed6d09-ac03-4e0c-d6d7-ed92be372355"
      },
      "execution_count": null,
      "outputs": [
        {
          "output_type": "stream",
          "name": "stdout",
          "text": [
            "10 60 2.2 37\n",
            "8 61 0.4 62\n",
            "44 42 1.8 65\n",
            "12 59 2.8 74\n",
            "22 60 2.1 68\n",
            "29 61 0.9 76\n",
            "18 36 0.1 46\n",
            "4 33 2.2 42\n",
            "14 34 0.9 42\n",
            "47 34 2.0 40\n"
          ]
        },
        {
          "output_type": "display_data",
          "data": {
            "text/plain": [
              "<Figure size 432x288 with 1 Axes>"
            ],
            "image/png": "[encoded data removed]"
          },
          "metadata": {
            "needs_background": "light"
          }
        }
      ]
    },
    {
      "cell_type": "markdown",
      "source": [
        "# Building the ANN\n"
      ],
      "metadata": {
        "id": "gEwEaXGCzATx"
      }
    },
    {
      "cell_type": "markdown",
      "source": [
        "### Purpose of the ANN\n",
        "We want to do Pattern Recognition, based on the waveforms shown above.\n",
        "\n",
        "The output parameters, which we want to reconstruct are:\n",
        "*   Width\n",
        "*   Position\n",
        "*   height\n"
      ],
      "metadata": {
        "id": "xAJs9gcpMi9V"
      }
    },
    {
      "cell_type": "markdown",
      "source": [
        "Starting with importing all things, which we need for creating a model"
      ],
      "metadata": {
        "id": "ffHEzdBezI__"
      }
    },
    {
      "cell_type": "code",
      "source": [
        "# TensorFlow is an open source machine learning library\n",
        "import tensorflow as tf\n",
        "# Keras is TensorFlow's high-level API for deep learning\n",
        "from tensorflow import keras"
      ],
      "metadata": {
        "id": "AVbyQZoBzNxw"
      },
      "execution_count": null,
      "outputs": []
    },
    {
      "cell_type": "code",
      "source": [
        "# number of samples for training, testing etc.\n",
        "SAMPLES = 10000"
      ],
      "metadata": {
        "id": "_2mfaOUkzo12"
      },
      "execution_count": null,
      "outputs": []
    },
    {
      "cell_type": "markdown",
      "source": [
        "## Generate the samples\n",
        "We want to do Pattern recognition, so we have to link the waveforms to the input parameters."
      ],
      "metadata": {
        "id": "UCMepv3tzyM9"
      }
    },
    {
      "cell_type": "code",
      "source": [
        "# parameters for template generation\n",
        "P_width = (16,32)\n",
        "P_position = (16,24)\n",
        "P_height = (32, 128)"
      ],
      "metadata": {
        "id": "-g8CSmkVHUvM"
      },
      "execution_count": null,
      "outputs": []
    },
    {
      "cell_type": "code",
      "source": [
        "# use fixed value for noise (1st try)\n",
        "noise = 1 \n",
        "\n",
        "y_values = []\n",
        "x_values = []\n",
        "\n",
        "# generate the waveforms\n",
        "for i in range(SAMPLES):\n",
        "  # use random settings\n",
        "  width = np.random.randint( *P_width )       # width\n",
        "  position = np.random.randint( *P_position ) # limit position into a certain window\n",
        "  height = np.random.randint( *P_height )     # pulse height\n",
        "\n",
        "  x_values.append( (width, position, height) )\n",
        "  y_values.append( generateTemplate(position = position, pulse_length = width, height=height, noise=noise) )\n",
        "\n",
        "# debug printouts\n",
        "#print(x_values[:2])\n",
        "#print(y_values[:2])"
      ],
      "metadata": {
        "id": "6uUa9b2pzviJ"
      },
      "execution_count": null,
      "outputs": []
    },
    {
      "cell_type": "markdown",
      "source": [
        "### Look at the training data\n",
        "Just make a 2D histogram of all templates."
      ],
      "metadata": {
        "id": "M54DYG8PLBYg"
      }
    },
    {
      "cell_type": "code",
      "source": [
        "if True:\n",
        "  plot_x = [ np.arange(128) for i in range(len(y_values)) ]\n",
        "  plot_x = np.array(plot_x)\n",
        "  plot_x = plot_x.flatten()\n",
        "  plot_y = np.array(y_values)\n",
        "  plot_y = plot_y.flatten()\n",
        "  plt.hist2d(plot_x, plot_y, bins=128, norm=LogNorm())\n",
        "  plt.show()"
      ],
      "metadata": {
        "colab": {
          "base_uri": "https://localhost:8080/",
          "height": 265
        },
        "id": "oc_SbOCaLKKe",
        "outputId": "c8335073-701b-4fa2-fdc7-4d63b394c7ac"
      },
      "execution_count": null,
      "outputs": [
        {
          "output_type": "display_data",
          "data": {
            "text/plain": [
              "<Figure size 432x288 with 1 Axes>"
            ],
            "image/png": "[encoded data removed]"
          },
          "metadata": {
            "needs_background": "light"
          }
        }
      ]
    },
    {
      "cell_type": "markdown",
      "source": [
        "## Split the waveforms into Training, Testing and Validation"
      ],
      "metadata": {
        "id": "uxBiOKO90JG_"
      }
    },
    {
      "cell_type": "code",
      "source": [
        "# We'll use 60% of our data for training and 20% for testing. The remaining 20%\n",
        "# will be used for validation. Calculate the indices of each section.\n",
        "TRAIN_SPLIT =  int(0.6 * SAMPLES)\n",
        "TEST_SPLIT = int(0.2 * SAMPLES + TRAIN_SPLIT)\n",
        "print(\"using %d points for training and %d points for testing\"%(TRAIN_SPLIT, TEST_SPLIT))\n",
        "\n",
        "# convert data into numpy arrays\n",
        "y_values = np.array(y_values) # parameters\n",
        "x_values = np.array(x_values) # waveforms\n",
        "\n",
        "# Use np.split to chop our data into three parts.\n",
        "# The second argument to np.split is an array of indices where the data will be\n",
        "# split. We provide two indices, so the data will be divided into three chunks.\n",
        "x_train, x_test, x_validate = np.split(x_values, [TRAIN_SPLIT, TEST_SPLIT])\n",
        "y_train, y_test, y_validate = np.split(y_values, [TRAIN_SPLIT, TEST_SPLIT])\n",
        "\n",
        "# Double check that our splits add up correctly\n",
        "assert (len(x_train) + len(x_validate) + len(x_test) ) ==  SAMPLES"
      ],
      "metadata": {
        "id": "_gxWfkRezVf3",
        "colab": {
          "base_uri": "https://localhost:8080/"
        },
        "outputId": "89006fc7-4591-47bf-9581-a194382b82bf"
      },
      "execution_count": null,
      "outputs": [
        {
          "output_type": "stream",
          "name": "stdout",
          "text": [
            "using 6000 points for training and 8000 points for testing\n"
          ]
        }
      ]
    },
    {
      "cell_type": "markdown",
      "source": [
        "## Create the ANN"
      ],
      "metadata": {
        "id": "tfIC4_-l0Cc4"
      }
    },
    {
      "cell_type": "code",
      "source": [
        "inputs = keras.Input(shape=(128,), name=\"waveform_input\")\n",
        "\n",
        "layer_cnt=0\n",
        "x = keras.layers.Dense(64, name=\"layer_%d\"%(layer_cnt))(inputs)\n",
        "layer_cnt+=1\n",
        "\n",
        "x = keras.layers.Dense(32, name=\"layer_%d\"%(layer_cnt))(x)\n",
        "layer_cnt+=1\n",
        "\n",
        "# x = keras.layers.Dense(32, name=\"layer_%d\"%(layer_cnt))(x)\n",
        "# layer_cnt+=1\n",
        "\n",
        "x = keras.layers.Dense(32,  name=\"layer_%d\"%(layer_cnt))(x)\n",
        "layer_cnt+=1\n",
        "\n",
        "# final layer for classification\n",
        "outputs = keras.layers.Dense(3, name=\"classification\")(x)\n",
        "\n",
        "model_1 = keras.Model(inputs=inputs, outputs=outputs)\n",
        "model_1.summary()\n",
        "\n",
        "# Compile the model using the standard 'adam' optimizer and the mean squared error or 'mse' loss function for regression.\n",
        "model_1.compile(optimizer='adam', loss='mse', metrics=['mae'])"
      ],
      "metadata": {
        "id": "FbTg1F3s0BTe",
        "colab": {
          "base_uri": "https://localhost:8080/"
        },
        "outputId": "edcb7159-8049-415e-9980-654f499982d3"
      },
      "execution_count": null,
      "outputs": [
        {
          "output_type": "stream",
          "name": "stdout",
          "text": [
            "Model: \"model\"\n",
            "_________________________________________________________________\n",
            " Layer (type)                Output Shape              Param #   \n",
            "=================================================================\n",
            " waveform_input (InputLayer)  [(None, 128)]            0         \n",
            "                                                                 \n",
            " layer_0 (Dense)             (None, 64)                8256      \n",
            "                                                                 \n",
            " layer_1 (Dense)             (None, 32)                2080      \n",
            "                                                                 \n",
            " layer_2 (Dense)             (None, 32)                1056      \n",
            "                                                                 \n",
            " classification (Dense)      (None, 3)                 99        \n",
            "                                                                 \n",
            "=================================================================\n",
            "Total params: 11,491\n",
            "Trainable params: 11,491\n",
            "Non-trainable params: 0\n",
            "_________________________________________________________________\n"
          ]
        }
      ]
    },
    {
      "cell_type": "markdown",
      "source": [
        "## Train the model"
      ],
      "metadata": {
        "id": "hjz2ghXbL9Ok"
      }
    },
    {
      "cell_type": "code",
      "source": [
        "# Train the model on our training data while validating on our validation set\n",
        "# remember:\n",
        "#     y = waveforms\n",
        "#     x = truth parameters\n",
        "# just do some trainings to see, whether this structure works or not\n",
        "\n",
        "history_1 = model_1.fit(y_train, x_train, epochs=4, batch_size=25, validation_data=(y_validate, x_validate))"
      ],
      "metadata": {
        "colab": {
          "base_uri": "https://localhost:8080/"
        },
        "id": "Zsx72tmvxNnj",
        "outputId": "c35b32eb-e870-465f-da04-78c93b7ab3ab"
      },
      "execution_count": null,
      "outputs": [
        {
          "output_type": "stream",
          "name": "stdout",
          "text": [
            "Epoch 1/4\n",
            "240/240 [==============================] - 1s 3ms/step - loss: 127.4351 - mae: 6.6658 - val_loss: 37.1046 - val_mae: 4.5734\n",
            "Epoch 2/4\n",
            "240/240 [==============================] - 1s 2ms/step - loss: 35.1795 - mae: 4.4109 - val_loss: 32.0985 - val_mae: 4.1229\n",
            "Epoch 3/4\n",
            "240/240 [==============================] - 1s 3ms/step - loss: 29.9270 - mae: 4.0064 - val_loss: 34.7568 - val_mae: 4.3198\n",
            "Epoch 4/4\n",
            "240/240 [==============================] - 1s 3ms/step - loss: 28.7381 - mae: 4.0092 - val_loss: 26.6775 - val_mae: 3.9155\n"
          ]
        }
      ]
    },
    {
      "cell_type": "code",
      "source": [
        "# fully train the network\n",
        "history_1 = model_1.fit(y_train, x_train, epochs=500, batch_size=50, validation_data=(y_validate, x_validate))\n",
        "\n",
        "# Save the model to disk\n",
        "!mkdir -p saved_model\n",
        "model_1.save('saved_model/STM32_AI_Test')"
      ],
      "metadata": {
        "colab": {
          "base_uri": "https://localhost:8080/"
        },
        "id": "xMQfeuZ_L7QU",
        "outputId": "2d8f7f15-cae9-4a23-f879-8d861868201f"
      },
      "execution_count": null,
      "outputs": [
        {
          "output_type": "stream",
          "name": "stdout",
          "text": [
            "Epoch 1/500\n",
            "120/120 [==============================] - 1s 4ms/step - loss: 22.0527 - mae: 3.4045 - val_loss: 21.2833 - val_mae: 3.3116\n",
            "Epoch 2/500\n",
            "120/120 [==============================] - 0s 3ms/step - loss: 21.0615 - mae: 3.2954 - val_loss: 18.8330 - val_mae: 3.1380\n",
            "Epoch 3/500\n",
            "120/120 [==============================] - 0s 4ms/step - loss: 17.8710 - mae: 3.0119 - val_loss: 16.7374 - val_mae: 2.8691\n",
            "Epoch 4/500\n",
            "120/120 [==============================] - 0s 4ms/step - loss: 15.2085 - mae: 2.7759 - val_loss: 27.0002 - val_mae: 3.9708\n",
            "Epoch 5/500\n",
            "120/120 [==============================] - 0s 4ms/step - loss: 12.6751 - mae: 2.5046 - val_loss: 11.3615 - val_mae: 2.3234\n",
            "Epoch 6/500\n",
            "120/120 [==============================] - 0s 3ms/step - loss: 10.2116 - mae: 2.2329 - val_loss: 8.2882 - val_mae: 2.0165\n",
            "Epoch 7/500\n",
            "120/120 [==============================] - 0s 3ms/step - loss: 8.3684 - mae: 2.0342 - val_loss: 7.2190 - val_mae: 1.8900\n",
            "Epoch 8/500\n",
            "120/120 [==============================] - 0s 4ms/step - loss: 5.2365 - mae: 1.5808 - val_loss: 4.7255 - val_mae: 1.5184\n",
            "Epoch 9/500\n",
            "120/120 [==============================] - 0s 4ms/step - loss: 5.5778 - mae: 1.6443 - val_loss: 3.9293 - val_mae: 1.3843\n",
            "Epoch 10/500\n",
            "120/120 [==============================] - 0s 3ms/step - loss: 4.2909 - mae: 1.4532 - val_loss: 5.5561 - val_mae: 1.7550\n",
            "Epoch 11/500\n",
            "120/120 [==============================] - 0s 4ms/step - loss: 3.1799 - mae: 1.2525 - val_loss: 2.5274 - val_mae: 1.1290\n",
            "Epoch 12/500\n",
            "120/120 [==============================] - 0s 3ms/step - loss: 3.5789 - mae: 1.3264 - val_loss: 1.7825 - val_mae: 0.9251\n",
            "Epoch 13/500\n",
            "120/120 [==============================] - 0s 4ms/step - loss: 2.8060 - mae: 1.1932 - val_loss: 1.8144 - val_mae: 0.9366\n",
            "Epoch 14/500\n",
            "120/120 [==============================] - 0s 4ms/step - loss: 4.3140 - mae: 1.4448 - val_loss: 2.5516 - val_mae: 1.1107\n",
            "Epoch 15/500\n",
            "120/120 [==============================] - 0s 4ms/step - loss: 2.0863 - mae: 1.0211 - val_loss: 2.6803 - val_mae: 1.2211\n",
            "Epoch 16/500\n",
            "120/120 [==============================] - 0s 4ms/step - loss: 2.0527 - mae: 1.0222 - val_loss: 2.0924 - val_mae: 1.0559\n",
            "Epoch 17/500\n",
            "120/120 [==============================] - 0s 3ms/step - loss: 2.2576 - mae: 1.0679 - val_loss: 1.5451 - val_mae: 0.8629\n",
            "Epoch 18/500\n",
            "120/120 [==============================] - 0s 3ms/step - loss: 2.5213 - mae: 1.0940 - val_loss: 2.0576 - val_mae: 1.0202\n",
            "Epoch 19/500\n",
            "120/120 [==============================] - 0s 3ms/step - loss: 2.7438 - mae: 1.1613 - val_loss: 1.9177 - val_mae: 0.9949\n",
            "Epoch 20/500\n",
            "120/120 [==============================] - 0s 3ms/step - loss: 2.2599 - mae: 1.0489 - val_loss: 1.6194 - val_mae: 0.9292\n",
            "Epoch 21/500\n",
            "120/120 [==============================] - 0s 4ms/step - loss: 3.1276 - mae: 1.2104 - val_loss: 1.6044 - val_mae: 0.9074\n",
            "Epoch 22/500\n",
            "120/120 [==============================] - 0s 4ms/step - loss: 3.0482 - mae: 1.2188 - val_loss: 3.5671 - val_mae: 1.4139\n",
            "Epoch 23/500\n",
            "120/120 [==============================] - 0s 4ms/step - loss: 2.1783 - mae: 1.0378 - val_loss: 2.4208 - val_mae: 1.1189\n",
            "Epoch 24/500\n",
            "120/120 [==============================] - 0s 3ms/step - loss: 1.7944 - mae: 0.9480 - val_loss: 1.3501 - val_mae: 0.7957\n",
            "Epoch 25/500\n",
            "120/120 [==============================] - 0s 4ms/step - loss: 1.7631 - mae: 0.9463 - val_loss: 1.3134 - val_mae: 0.8057\n",
            "Epoch 26/500\n",
            "120/120 [==============================] - 0s 4ms/step - loss: 2.0731 - mae: 1.0272 - val_loss: 4.1781 - val_mae: 1.4567\n",
            "Epoch 27/500\n",
            "120/120 [==============================] - 0s 3ms/step - loss: 5.9227 - mae: 1.5614 - val_loss: 7.4065 - val_mae: 2.0362\n",
            "Epoch 28/500\n",
            "120/120 [==============================] - 0s 3ms/step - loss: 2.8098 - mae: 1.1826 - val_loss: 5.0050 - val_mae: 1.6632\n",
            "Epoch 29/500\n",
            "120/120 [==============================] - 0s 4ms/step - loss: 1.7862 - mae: 0.9324 - val_loss: 1.3911 - val_mae: 0.8683\n",
            "Epoch 30/500\n",
            "120/120 [==============================] - 0s 3ms/step - loss: 1.5069 - mae: 0.8663 - val_loss: 2.1727 - val_mae: 1.0724\n",
            "Epoch 31/500\n",
            "120/120 [==============================] - 0s 3ms/step - loss: 1.7151 - mae: 0.9232 - val_loss: 1.6493 - val_mae: 0.9236\n",
            "Epoch 32/500\n",
            "120/120 [==============================] - 0s 4ms/step - loss: 2.4620 - mae: 1.1090 - val_loss: 1.3338 - val_mae: 0.8104\n",
            "Epoch 33/500\n",
            "120/120 [==============================] - 0s 4ms/step - loss: 1.5141 - mae: 0.8624 - val_loss: 1.9740 - val_mae: 1.0281\n",
            "Epoch 34/500\n",
            "120/120 [==============================] - 0s 4ms/step - loss: 1.7492 - mae: 0.9518 - val_loss: 1.3715 - val_mae: 0.8099\n",
            "Epoch 35/500\n",
            "120/120 [==============================] - 0s 4ms/step - loss: 2.5170 - mae: 1.1185 - val_loss: 2.0555 - val_mae: 1.0580\n",
            "Epoch 36/500\n",
            "120/120 [==============================] - 0s 3ms/step - loss: 1.7859 - mae: 0.9438 - val_loss: 3.4116 - val_mae: 1.4547\n",
            "Epoch 37/500\n",
            "120/120 [==============================] - 0s 4ms/step - loss: 2.4800 - mae: 1.1061 - val_loss: 1.4690 - val_mae: 0.8710\n",
            "Epoch 38/500\n",
            "120/120 [==============================] - 0s 4ms/step - loss: 1.9061 - mae: 0.9885 - val_loss: 1.3804 - val_mae: 0.8470\n",
            "Epoch 39/500\n",
            "120/120 [==============================] - 1s 5ms/step - loss: 2.0009 - mae: 0.9732 - val_loss: 1.7781 - val_mae: 0.9354\n",
            "Epoch 40/500\n",
            "120/120 [==============================] - 1s 6ms/step - loss: 3.0837 - mae: 1.2182 - val_loss: 2.6796 - val_mae: 1.1086\n",
            "Epoch 41/500\n",
            "120/120 [==============================] - 1s 6ms/step - loss: 1.5880 - mae: 0.8899 - val_loss: 1.4049 - val_mae: 0.8433\n",
            "Epoch 42/500\n",
            "120/120 [==============================] - 1s 7ms/step - loss: 1.2938 - mae: 0.8033 - val_loss: 1.1966 - val_mae: 0.7610\n",
            "Epoch 43/500\n",
            "120/120 [==============================] - 1s 7ms/step - loss: 2.6743 - mae: 1.1562 - val_loss: 3.1461 - val_mae: 1.3024\n",
            "Epoch 44/500\n",
            "120/120 [==============================] - 1s 8ms/step - loss: 2.0293 - mae: 1.0200 - val_loss: 2.2186 - val_mae: 1.0982\n",
            "Epoch 45/500\n",
            "120/120 [==============================] - 1s 7ms/step - loss: 2.7489 - mae: 1.1484 - val_loss: 1.9432 - val_mae: 1.0248\n",
            "Epoch 46/500\n",
            "120/120 [==============================] - 1s 9ms/step - loss: 1.3976 - mae: 0.8294 - val_loss: 1.3354 - val_mae: 0.8232\n",
            "Epoch 47/500\n",
            "120/120 [==============================] - 1s 7ms/step - loss: 1.5693 - mae: 0.8792 - val_loss: 1.7547 - val_mae: 0.9657\n",
            "Epoch 48/500\n",
            "120/120 [==============================] - 1s 9ms/step - loss: 1.3809 - mae: 0.8298 - val_loss: 1.8524 - val_mae: 0.9597\n",
            "Epoch 49/500\n",
            "120/120 [==============================] - 1s 8ms/step - loss: 1.4566 - mae: 0.8481 - val_loss: 1.4714 - val_mae: 0.8729\n",
            "Epoch 50/500\n",
            "120/120 [==============================] - 1s 7ms/step - loss: 1.8158 - mae: 0.9608 - val_loss: 1.8037 - val_mae: 0.9478\n",
            "Epoch 51/500\n",
            "120/120 [==============================] - 1s 7ms/step - loss: 1.9299 - mae: 0.9739 - val_loss: 1.4285 - val_mae: 0.8285\n",
            "Epoch 52/500\n",
            "120/120 [==============================] - 1s 8ms/step - loss: 2.5175 - mae: 1.1111 - val_loss: 1.3717 - val_mae: 0.8318\n",
            "Epoch 53/500\n",
            "120/120 [==============================] - 1s 9ms/step - loss: 1.4815 - mae: 0.8714 - val_loss: 1.3962 - val_mae: 0.8484\n",
            "Epoch 54/500\n",
            "120/120 [==============================] - 1s 9ms/step - loss: 1.5850 - mae: 0.8959 - val_loss: 1.8440 - val_mae: 1.0790\n",
            "Epoch 55/500\n",
            "120/120 [==============================] - 1s 6ms/step - loss: 1.5909 - mae: 0.9067 - val_loss: 1.2085 - val_mae: 0.7803\n",
            "Epoch 56/500\n",
            "120/120 [==============================] - 1s 6ms/step - loss: 1.5278 - mae: 0.8643 - val_loss: 1.2033 - val_mae: 0.7820\n",
            "Epoch 57/500\n",
            "120/120 [==============================] - 1s 7ms/step - loss: 1.9552 - mae: 0.9861 - val_loss: 2.5982 - val_mae: 1.0814\n",
            "Epoch 58/500\n",
            "120/120 [==============================] - 1s 7ms/step - loss: 1.4832 - mae: 0.8557 - val_loss: 1.2205 - val_mae: 0.7644\n",
            "Epoch 59/500\n",
            "120/120 [==============================] - 1s 11ms/step - loss: 1.6833 - mae: 0.9164 - val_loss: 2.0228 - val_mae: 1.0544\n",
            "Epoch 60/500\n",
            "120/120 [==============================] - 1s 8ms/step - loss: 1.3766 - mae: 0.8323 - val_loss: 1.6372 - val_mae: 0.8955\n",
            "Epoch 61/500\n",
            "120/120 [==============================] - 1s 8ms/step - loss: 1.7398 - mae: 0.9344 - val_loss: 1.5070 - val_mae: 0.9124\n",
            "Epoch 62/500\n",
            "120/120 [==============================] - 1s 8ms/step - loss: 1.5082 - mae: 0.8761 - val_loss: 1.5097 - val_mae: 0.8696\n",
            "Epoch 63/500\n",
            "120/120 [==============================] - 1s 7ms/step - loss: 1.4296 - mae: 0.8448 - val_loss: 1.6937 - val_mae: 0.9351\n",
            "Epoch 64/500\n",
            "120/120 [==============================] - 1s 8ms/step - loss: 1.7664 - mae: 0.9341 - val_loss: 3.0150 - val_mae: 1.2834\n",
            "Epoch 65/500\n",
            "120/120 [==============================] - 1s 8ms/step - loss: 2.3280 - mae: 1.1208 - val_loss: 2.0387 - val_mae: 1.0550\n",
            "Epoch 66/500\n",
            "120/120 [==============================] - 2s 15ms/step - loss: 1.3444 - mae: 0.8191 - val_loss: 1.2343 - val_mae: 0.7904\n",
            "Epoch 67/500\n",
            "120/120 [==============================] - 0s 4ms/step - loss: 1.5282 - mae: 0.8829 - val_loss: 2.1001 - val_mae: 1.0571\n",
            "Epoch 68/500\n",
            "120/120 [==============================] - 1s 4ms/step - loss: 1.7876 - mae: 0.9892 - val_loss: 1.7909 - val_mae: 0.9826\n",
            "Epoch 69/500\n",
            "120/120 [==============================] - 0s 3ms/step - loss: 1.4728 - mae: 0.8573 - val_loss: 1.2935 - val_mae: 0.8047\n",
            "Epoch 70/500\n",
            "120/120 [==============================] - 0s 3ms/step - loss: 1.8402 - mae: 0.9542 - val_loss: 3.8617 - val_mae: 1.4486\n",
            "Epoch 71/500\n",
            "120/120 [==============================] - 1s 4ms/step - loss: 1.8088 - mae: 0.9673 - val_loss: 1.2540 - val_mae: 0.7767\n",
            "Epoch 72/500\n",
            "120/120 [==============================] - 0s 4ms/step - loss: 1.3266 - mae: 0.8065 - val_loss: 2.4810 - val_mae: 1.1523\n",
            "Epoch 73/500\n",
            "120/120 [==============================] - 0s 4ms/step - loss: 1.5974 - mae: 0.9235 - val_loss: 1.3081 - val_mae: 0.7803\n",
            "Epoch 74/500\n",
            "120/120 [==============================] - 0s 3ms/step - loss: 1.2184 - mae: 0.7672 - val_loss: 1.1483 - val_mae: 0.7375\n",
            "Epoch 75/500\n",
            "120/120 [==============================] - 0s 3ms/step - loss: 1.4269 - mae: 0.8444 - val_loss: 1.4084 - val_mae: 0.8558\n",
            "Epoch 76/500\n",
            "120/120 [==============================] - 0s 4ms/step - loss: 1.5817 - mae: 0.8858 - val_loss: 1.3222 - val_mae: 0.8145\n",
            "Epoch 77/500\n",
            "120/120 [==============================] - 0s 4ms/step - loss: 1.4632 - mae: 0.8580 - val_loss: 1.0902 - val_mae: 0.7122\n",
            "Epoch 78/500\n",
            "120/120 [==============================] - 0s 3ms/step - loss: 1.6767 - mae: 0.9244 - val_loss: 1.6055 - val_mae: 0.9471\n",
            "Epoch 79/500\n",
            "120/120 [==============================] - 0s 4ms/step - loss: 1.2670 - mae: 0.7874 - val_loss: 1.4010 - val_mae: 0.8963\n",
            "Epoch 80/500\n",
            "120/120 [==============================] - 0s 4ms/step - loss: 1.3470 - mae: 0.8319 - val_loss: 1.5728 - val_mae: 0.9322\n",
            "Epoch 81/500\n",
            "120/120 [==============================] - 0s 3ms/step - loss: 1.6068 - mae: 0.9473 - val_loss: 1.3830 - val_mae: 0.8338\n",
            "Epoch 82/500\n",
            "120/120 [==============================] - 0s 3ms/step - loss: 1.3376 - mae: 0.8189 - val_loss: 1.2616 - val_mae: 0.7913\n",
            "Epoch 83/500\n",
            "120/120 [==============================] - 0s 3ms/step - loss: 1.3721 - mae: 0.8319 - val_loss: 1.2456 - val_mae: 0.7983\n",
            "Epoch 84/500\n",
            "120/120 [==============================] - 0s 3ms/step - loss: 1.7796 - mae: 0.9569 - val_loss: 1.4995 - val_mae: 0.8429\n",
            "Epoch 85/500\n",
            "120/120 [==============================] - 0s 3ms/step - loss: 1.3704 - mae: 0.8223 - val_loss: 1.4323 - val_mae: 0.8561\n",
            "Epoch 86/500\n",
            "120/120 [==============================] - 0s 3ms/step - loss: 1.4188 - mae: 0.8440 - val_loss: 1.2656 - val_mae: 0.7740\n",
            "Epoch 87/500\n",
            "120/120 [==============================] - 0s 3ms/step - loss: 1.3078 - mae: 0.8181 - val_loss: 1.3798 - val_mae: 0.8258\n",
            "Epoch 88/500\n",
            "120/120 [==============================] - 0s 4ms/step - loss: 1.5880 - mae: 0.8956 - val_loss: 1.4625 - val_mae: 0.9200\n",
            "Epoch 89/500\n",
            "120/120 [==============================] - 0s 4ms/step - loss: 1.6940 - mae: 0.9406 - val_loss: 1.6557 - val_mae: 1.0066\n",
            "Epoch 90/500\n",
            "120/120 [==============================] - 0s 4ms/step - loss: 1.3829 - mae: 0.8496 - val_loss: 1.4543 - val_mae: 0.8432\n",
            "Epoch 91/500\n",
            "120/120 [==============================] - 0s 4ms/step - loss: 1.2323 - mae: 0.7868 - val_loss: 1.5893 - val_mae: 0.9388\n",
            "Epoch 92/500\n",
            "120/120 [==============================] - 0s 3ms/step - loss: 1.3975 - mae: 0.8576 - val_loss: 1.5695 - val_mae: 0.9722\n",
            "Epoch 93/500\n",
            "120/120 [==============================] - 0s 4ms/step - loss: 1.3016 - mae: 0.8130 - val_loss: 1.2515 - val_mae: 0.7836\n",
            "Epoch 94/500\n",
            "120/120 [==============================] - 0s 3ms/step - loss: 1.6575 - mae: 0.9609 - val_loss: 1.2929 - val_mae: 0.8104\n",
            "Epoch 95/500\n",
            "120/120 [==============================] - 0s 4ms/step - loss: 1.6058 - mae: 0.9400 - val_loss: 1.2501 - val_mae: 0.7789\n",
            "Epoch 96/500\n",
            "120/120 [==============================] - 0s 4ms/step - loss: 1.2539 - mae: 0.7815 - val_loss: 1.4451 - val_mae: 0.8460\n",
            "Epoch 97/500\n",
            "120/120 [==============================] - 0s 3ms/step - loss: 1.3722 - mae: 0.8410 - val_loss: 1.1127 - val_mae: 0.7231\n",
            "Epoch 98/500\n",
            "120/120 [==============================] - 0s 4ms/step - loss: 1.3856 - mae: 0.8502 - val_loss: 1.2202 - val_mae: 0.7959\n",
            "Epoch 99/500\n",
            "120/120 [==============================] - 0s 3ms/step - loss: 1.3261 - mae: 0.8238 - val_loss: 1.3160 - val_mae: 0.8438\n",
            "Epoch 100/500\n",
            "120/120 [==============================] - 0s 4ms/step - loss: 1.3598 - mae: 0.8381 - val_loss: 1.1850 - val_mae: 0.7472\n",
            "Epoch 101/500\n",
            "120/120 [==============================] - 0s 3ms/step - loss: 1.2402 - mae: 0.7791 - val_loss: 1.4268 - val_mae: 0.8783\n",
            "Epoch 102/500\n",
            "120/120 [==============================] - 0s 3ms/step - loss: 1.3397 - mae: 0.8349 - val_loss: 1.3145 - val_mae: 0.8165\n",
            "Epoch 103/500\n",
            "120/120 [==============================] - 0s 4ms/step - loss: 1.4541 - mae: 0.8660 - val_loss: 1.2545 - val_mae: 0.7991\n",
            "Epoch 104/500\n",
            "120/120 [==============================] - 0s 3ms/step - loss: 1.3520 - mae: 0.8527 - val_loss: 1.2377 - val_mae: 0.7712\n",
            "Epoch 105/500\n",
            "120/120 [==============================] - 0s 4ms/step - loss: 1.3850 - mae: 0.8531 - val_loss: 1.3693 - val_mae: 0.8137\n",
            "Epoch 106/500\n",
            "120/120 [==============================] - 0s 3ms/step - loss: 1.3043 - mae: 0.8071 - val_loss: 1.4573 - val_mae: 0.9226\n",
            "Epoch 107/500\n",
            "120/120 [==============================] - 0s 4ms/step - loss: 1.2150 - mae: 0.7740 - val_loss: 1.3397 - val_mae: 0.8214\n",
            "Epoch 108/500\n",
            "120/120 [==============================] - 0s 4ms/step - loss: 1.3304 - mae: 0.8239 - val_loss: 1.7092 - val_mae: 0.9554\n",
            "Epoch 109/500\n",
            "120/120 [==============================] - 0s 3ms/step - loss: 1.2728 - mae: 0.7971 - val_loss: 1.3397 - val_mae: 0.8056\n",
            "Epoch 110/500\n",
            "120/120 [==============================] - 0s 4ms/step - loss: 1.2257 - mae: 0.7848 - val_loss: 1.2732 - val_mae: 0.8129\n",
            "Epoch 111/500\n",
            "120/120 [==============================] - 0s 4ms/step - loss: 1.3041 - mae: 0.8291 - val_loss: 1.2855 - val_mae: 0.7596\n",
            "Epoch 112/500\n",
            "120/120 [==============================] - 0s 4ms/step - loss: 1.2688 - mae: 0.7991 - val_loss: 1.2849 - val_mae: 0.8187\n",
            "Epoch 113/500\n",
            "120/120 [==============================] - 0s 3ms/step - loss: 1.3011 - mae: 0.8026 - val_loss: 1.4511 - val_mae: 0.8698\n",
            "Epoch 114/500\n",
            "120/120 [==============================] - 0s 4ms/step - loss: 1.3322 - mae: 0.8281 - val_loss: 1.2884 - val_mae: 0.8462\n",
            "Epoch 115/500\n",
            "120/120 [==============================] - 0s 4ms/step - loss: 1.2910 - mae: 0.8078 - val_loss: 1.2914 - val_mae: 0.7704\n",
            "Epoch 116/500\n",
            "120/120 [==============================] - 0s 3ms/step - loss: 1.2587 - mae: 0.8022 - val_loss: 1.3716 - val_mae: 0.8558\n",
            "Epoch 117/500\n",
            "120/120 [==============================] - 0s 3ms/step - loss: 1.3672 - mae: 0.8161 - val_loss: 1.1374 - val_mae: 0.7308\n",
            "Epoch 118/500\n",
            "120/120 [==============================] - 0s 3ms/step - loss: 1.1851 - mae: 0.7597 - val_loss: 1.1947 - val_mae: 0.7375\n",
            "Epoch 119/500\n",
            "120/120 [==============================] - 0s 3ms/step - loss: 1.2206 - mae: 0.7848 - val_loss: 1.1693 - val_mae: 0.7312\n",
            "Epoch 120/500\n",
            "120/120 [==============================] - 0s 4ms/step - loss: 1.2009 - mae: 0.7648 - val_loss: 1.2357 - val_mae: 0.7970\n",
            "Epoch 121/500\n",
            "120/120 [==============================] - 0s 4ms/step - loss: 1.3195 - mae: 0.8272 - val_loss: 1.1821 - val_mae: 0.7435\n",
            "Epoch 122/500\n",
            "120/120 [==============================] - 0s 3ms/step - loss: 1.3849 - mae: 0.8440 - val_loss: 1.2436 - val_mae: 0.7854\n",
            "Epoch 123/500\n",
            "120/120 [==============================] - 0s 3ms/step - loss: 1.2015 - mae: 0.7866 - val_loss: 1.1637 - val_mae: 0.7339\n",
            "Epoch 124/500\n",
            "120/120 [==============================] - 0s 4ms/step - loss: 1.2965 - mae: 0.8060 - val_loss: 1.2637 - val_mae: 0.7928\n",
            "Epoch 125/500\n",
            "120/120 [==============================] - 0s 4ms/step - loss: 1.2206 - mae: 0.7731 - val_loss: 1.2703 - val_mae: 0.7744\n",
            "Epoch 126/500\n",
            "120/120 [==============================] - 0s 4ms/step - loss: 1.2604 - mae: 0.8028 - val_loss: 1.1643 - val_mae: 0.7548\n",
            "Epoch 127/500\n",
            "120/120 [==============================] - 0s 4ms/step - loss: 1.2439 - mae: 0.7895 - val_loss: 1.2463 - val_mae: 0.8127\n",
            "Epoch 128/500\n",
            "120/120 [==============================] - 0s 3ms/step - loss: 1.1816 - mae: 0.7725 - val_loss: 1.2598 - val_mae: 0.8146\n",
            "Epoch 129/500\n",
            "120/120 [==============================] - 0s 4ms/step - loss: 1.1852 - mae: 0.7681 - val_loss: 1.2099 - val_mae: 0.7889\n",
            "Epoch 130/500\n",
            "120/120 [==============================] - 0s 4ms/step - loss: 1.2057 - mae: 0.7743 - val_loss: 1.2079 - val_mae: 0.7829\n",
            "Epoch 131/500\n",
            "120/120 [==============================] - 0s 3ms/step - loss: 1.3317 - mae: 0.8340 - val_loss: 1.4243 - val_mae: 0.8873\n",
            "Epoch 132/500\n",
            "120/120 [==============================] - 0s 3ms/step - loss: 1.2260 - mae: 0.7835 - val_loss: 1.3490 - val_mae: 0.8318\n",
            "Epoch 133/500\n",
            "120/120 [==============================] - 0s 3ms/step - loss: 1.2412 - mae: 0.7911 - val_loss: 1.1281 - val_mae: 0.7465\n",
            "Epoch 134/500\n",
            "120/120 [==============================] - 0s 3ms/step - loss: 1.2122 - mae: 0.7739 - val_loss: 1.1303 - val_mae: 0.7443\n",
            "Epoch 135/500\n",
            "120/120 [==============================] - 0s 3ms/step - loss: 1.3400 - mae: 0.8332 - val_loss: 1.4837 - val_mae: 0.8628\n",
            "Epoch 136/500\n",
            "120/120 [==============================] - 0s 4ms/step - loss: 1.2567 - mae: 0.7945 - val_loss: 1.6116 - val_mae: 0.9704\n",
            "Epoch 137/500\n",
            "120/120 [==============================] - 0s 3ms/step - loss: 1.2508 - mae: 0.7855 - val_loss: 1.1126 - val_mae: 0.7286\n",
            "Epoch 138/500\n",
            "120/120 [==============================] - 0s 3ms/step - loss: 1.2774 - mae: 0.8169 - val_loss: 1.2545 - val_mae: 0.7839\n",
            "Epoch 139/500\n",
            "120/120 [==============================] - 0s 4ms/step - loss: 1.2086 - mae: 0.7675 - val_loss: 1.1018 - val_mae: 0.7087\n",
            "Epoch 140/500\n",
            "120/120 [==============================] - 0s 3ms/step - loss: 1.2156 - mae: 0.7828 - val_loss: 1.4385 - val_mae: 0.8871\n",
            "Epoch 141/500\n",
            "120/120 [==============================] - 0s 4ms/step - loss: 1.2050 - mae: 0.7648 - val_loss: 1.1542 - val_mae: 0.7268\n",
            "Epoch 142/500\n",
            "120/120 [==============================] - 0s 3ms/step - loss: 1.1449 - mae: 0.7440 - val_loss: 1.0913 - val_mae: 0.7043\n",
            "Epoch 143/500\n",
            "120/120 [==============================] - 0s 4ms/step - loss: 1.2661 - mae: 0.8087 - val_loss: 1.5697 - val_mae: 0.9276\n",
            "Epoch 144/500\n",
            "120/120 [==============================] - 0s 3ms/step - loss: 1.1843 - mae: 0.7599 - val_loss: 1.6037 - val_mae: 0.9676\n",
            "Epoch 145/500\n",
            "120/120 [==============================] - 0s 3ms/step - loss: 1.1892 - mae: 0.7640 - val_loss: 1.0925 - val_mae: 0.7156\n",
            "Epoch 146/500\n",
            "120/120 [==============================] - 0s 4ms/step - loss: 1.1518 - mae: 0.7456 - val_loss: 1.1023 - val_mae: 0.7135\n",
            "Epoch 147/500\n",
            "120/120 [==============================] - 0s 3ms/step - loss: 1.4998 - mae: 0.8864 - val_loss: 1.3186 - val_mae: 0.7853\n",
            "Epoch 148/500\n",
            "120/120 [==============================] - 0s 3ms/step - loss: 1.1717 - mae: 0.7579 - val_loss: 1.1744 - val_mae: 0.7542\n",
            "Epoch 149/500\n",
            "120/120 [==============================] - 0s 4ms/step - loss: 1.1284 - mae: 0.7290 - val_loss: 1.2319 - val_mae: 0.7983\n",
            "Epoch 150/500\n",
            "120/120 [==============================] - 0s 3ms/step - loss: 1.1616 - mae: 0.7493 - val_loss: 1.1998 - val_mae: 0.7518\n",
            "Epoch 151/500\n",
            "120/120 [==============================] - 0s 3ms/step - loss: 1.2030 - mae: 0.7811 - val_loss: 1.1428 - val_mae: 0.7486\n",
            "Epoch 152/500\n",
            "120/120 [==============================] - 0s 4ms/step - loss: 1.1867 - mae: 0.7675 - val_loss: 1.1372 - val_mae: 0.7342\n",
            "Epoch 153/500\n",
            "120/120 [==============================] - 0s 3ms/step - loss: 1.1144 - mae: 0.7347 - val_loss: 1.1927 - val_mae: 0.7850\n",
            "Epoch 154/500\n",
            "120/120 [==============================] - 0s 4ms/step - loss: 1.1975 - mae: 0.7618 - val_loss: 1.3743 - val_mae: 0.8493\n",
            "Epoch 155/500\n",
            "120/120 [==============================] - 0s 3ms/step - loss: 1.2320 - mae: 0.7795 - val_loss: 1.0647 - val_mae: 0.7084\n",
            "Epoch 156/500\n",
            "120/120 [==============================] - 0s 3ms/step - loss: 1.1312 - mae: 0.7425 - val_loss: 1.4927 - val_mae: 0.9375\n",
            "Epoch 157/500\n",
            "120/120 [==============================] - 0s 3ms/step - loss: 1.2133 - mae: 0.7741 - val_loss: 1.1032 - val_mae: 0.7271\n",
            "Epoch 158/500\n",
            "120/120 [==============================] - 0s 3ms/step - loss: 1.2179 - mae: 0.7839 - val_loss: 1.2593 - val_mae: 0.7995\n",
            "Epoch 159/500\n",
            "120/120 [==============================] - 0s 3ms/step - loss: 1.3586 - mae: 0.8543 - val_loss: 1.1878 - val_mae: 0.7560\n",
            "Epoch 160/500\n",
            "120/120 [==============================] - 0s 3ms/step - loss: 1.2712 - mae: 0.7869 - val_loss: 1.2029 - val_mae: 0.7667\n",
            "Epoch 161/500\n",
            "120/120 [==============================] - 0s 4ms/step - loss: 1.1205 - mae: 0.7314 - val_loss: 1.0785 - val_mae: 0.6952\n",
            "Epoch 162/500\n",
            "120/120 [==============================] - 0s 4ms/step - loss: 1.1513 - mae: 0.7503 - val_loss: 1.1918 - val_mae: 0.7599\n",
            "Epoch 163/500\n",
            "120/120 [==============================] - 0s 4ms/step - loss: 1.2149 - mae: 0.7840 - val_loss: 1.5416 - val_mae: 0.9749\n",
            "Epoch 164/500\n",
            "120/120 [==============================] - 0s 3ms/step - loss: 1.1515 - mae: 0.7478 - val_loss: 1.2342 - val_mae: 0.7491\n",
            "Epoch 165/500\n",
            "120/120 [==============================] - 0s 3ms/step - loss: 1.1441 - mae: 0.7439 - val_loss: 1.0667 - val_mae: 0.6937\n",
            "Epoch 166/500\n",
            "120/120 [==============================] - 0s 4ms/step - loss: 1.1809 - mae: 0.7688 - val_loss: 1.0785 - val_mae: 0.7033\n",
            "Epoch 167/500\n",
            "120/120 [==============================] - 0s 3ms/step - loss: 1.1728 - mae: 0.7638 - val_loss: 1.3415 - val_mae: 0.8737\n",
            "Epoch 168/500\n",
            "120/120 [==============================] - 0s 4ms/step - loss: 1.1164 - mae: 0.7320 - val_loss: 1.0885 - val_mae: 0.7055\n",
            "Epoch 169/500\n",
            "120/120 [==============================] - 0s 4ms/step - loss: 1.1439 - mae: 0.7422 - val_loss: 1.2840 - val_mae: 0.8060\n",
            "Epoch 170/500\n",
            "120/120 [==============================] - 0s 3ms/step - loss: 1.1220 - mae: 0.7245 - val_loss: 1.0831 - val_mae: 0.6961\n",
            "Epoch 171/500\n",
            "120/120 [==============================] - 0s 3ms/step - loss: 1.1488 - mae: 0.7422 - val_loss: 1.0764 - val_mae: 0.6943\n",
            "Epoch 172/500\n",
            "120/120 [==============================] - 0s 3ms/step - loss: 1.1840 - mae: 0.7680 - val_loss: 1.0620 - val_mae: 0.6840\n",
            "Epoch 173/500\n",
            "120/120 [==============================] - 0s 3ms/step - loss: 1.1532 - mae: 0.7561 - val_loss: 1.0966 - val_mae: 0.7185\n",
            "Epoch 174/500\n",
            "120/120 [==============================] - 0s 3ms/step - loss: 1.2406 - mae: 0.7920 - val_loss: 1.1045 - val_mae: 0.7086\n",
            "Epoch 175/500\n",
            "120/120 [==============================] - 0s 4ms/step - loss: 1.1739 - mae: 0.7619 - val_loss: 1.1441 - val_mae: 0.7490\n",
            "Epoch 176/500\n",
            "120/120 [==============================] - 0s 4ms/step - loss: 1.1346 - mae: 0.7466 - val_loss: 1.1086 - val_mae: 0.7157\n",
            "Epoch 177/500\n",
            "120/120 [==============================] - 0s 3ms/step - loss: 1.1430 - mae: 0.7405 - val_loss: 1.2567 - val_mae: 0.8018\n",
            "Epoch 178/500\n",
            "120/120 [==============================] - 0s 3ms/step - loss: 1.2389 - mae: 0.7973 - val_loss: 1.4251 - val_mae: 0.8360\n",
            "Epoch 179/500\n",
            "120/120 [==============================] - 0s 3ms/step - loss: 1.1898 - mae: 0.7623 - val_loss: 1.0633 - val_mae: 0.7079\n",
            "Epoch 180/500\n",
            "120/120 [==============================] - 0s 3ms/step - loss: 1.1442 - mae: 0.7432 - val_loss: 1.1434 - val_mae: 0.7209\n",
            "Epoch 181/500\n",
            "120/120 [==============================] - 0s 3ms/step - loss: 1.1579 - mae: 0.7549 - val_loss: 1.2474 - val_mae: 0.8178\n",
            "Epoch 182/500\n",
            "120/120 [==============================] - 1s 4ms/step - loss: 1.1740 - mae: 0.7606 - val_loss: 1.0421 - val_mae: 0.6864\n",
            "Epoch 183/500\n",
            "120/120 [==============================] - 0s 3ms/step - loss: 1.1264 - mae: 0.7382 - val_loss: 1.1683 - val_mae: 0.7484\n",
            "Epoch 184/500\n",
            "120/120 [==============================] - 0s 4ms/step - loss: 1.2021 - mae: 0.7790 - val_loss: 1.0753 - val_mae: 0.6917\n",
            "Epoch 185/500\n",
            "120/120 [==============================] - 0s 3ms/step - loss: 1.1171 - mae: 0.7336 - val_loss: 1.3537 - val_mae: 0.8695\n",
            "Epoch 186/500\n",
            "120/120 [==============================] - 0s 3ms/step - loss: 1.2350 - mae: 0.7991 - val_loss: 1.1257 - val_mae: 0.7252\n",
            "Epoch 187/500\n",
            "120/120 [==============================] - 0s 3ms/step - loss: 1.0930 - mae: 0.7118 - val_loss: 1.1757 - val_mae: 0.7867\n",
            "Epoch 188/500\n",
            "120/120 [==============================] - 0s 4ms/step - loss: 1.1425 - mae: 0.7460 - val_loss: 1.0906 - val_mae: 0.7165\n",
            "Epoch 189/500\n",
            "120/120 [==============================] - 0s 4ms/step - loss: 1.1377 - mae: 0.7429 - val_loss: 1.0941 - val_mae: 0.7214\n",
            "Epoch 190/500\n",
            "120/120 [==============================] - 0s 3ms/step - loss: 1.1323 - mae: 0.7397 - val_loss: 1.2502 - val_mae: 0.8213\n",
            "Epoch 191/500\n",
            "120/120 [==============================] - 0s 4ms/step - loss: 1.1509 - mae: 0.7582 - val_loss: 1.0652 - val_mae: 0.6990\n",
            "Epoch 192/500\n",
            "120/120 [==============================] - 0s 3ms/step - loss: 1.1238 - mae: 0.7372 - val_loss: 1.1048 - val_mae: 0.7123\n",
            "Epoch 193/500\n",
            "120/120 [==============================] - 0s 3ms/step - loss: 1.1518 - mae: 0.7456 - val_loss: 1.1191 - val_mae: 0.7125\n",
            "Epoch 194/500\n",
            "120/120 [==============================] - 0s 3ms/step - loss: 1.1815 - mae: 0.7558 - val_loss: 1.0732 - val_mae: 0.7003\n",
            "Epoch 195/500\n",
            "120/120 [==============================] - 0s 3ms/step - loss: 1.1692 - mae: 0.7614 - val_loss: 1.4466 - val_mae: 0.8707\n",
            "Epoch 196/500\n",
            "120/120 [==============================] - 0s 3ms/step - loss: 1.2202 - mae: 0.7865 - val_loss: 1.2625 - val_mae: 0.8490\n",
            "Epoch 197/500\n",
            "120/120 [==============================] - 0s 3ms/step - loss: 1.1208 - mae: 0.7323 - val_loss: 1.1407 - val_mae: 0.7257\n",
            "Epoch 198/500\n",
            "120/120 [==============================] - 0s 3ms/step - loss: 1.1424 - mae: 0.7430 - val_loss: 1.0953 - val_mae: 0.7176\n",
            "Epoch 199/500\n",
            "120/120 [==============================] - 0s 4ms/step - loss: 1.1399 - mae: 0.7484 - val_loss: 1.1499 - val_mae: 0.7366\n",
            "Epoch 200/500\n",
            "120/120 [==============================] - 0s 3ms/step - loss: 1.1372 - mae: 0.7474 - val_loss: 1.0978 - val_mae: 0.7124\n",
            "Epoch 201/500\n",
            "120/120 [==============================] - 0s 3ms/step - loss: 1.1559 - mae: 0.7509 - val_loss: 1.1842 - val_mae: 0.7793\n",
            "Epoch 202/500\n",
            "120/120 [==============================] - 0s 4ms/step - loss: 1.1499 - mae: 0.7589 - val_loss: 1.0586 - val_mae: 0.6890\n",
            "Epoch 203/500\n",
            "120/120 [==============================] - 0s 3ms/step - loss: 1.1952 - mae: 0.7759 - val_loss: 1.2590 - val_mae: 0.8286\n",
            "Epoch 204/500\n",
            "120/120 [==============================] - 0s 4ms/step - loss: 1.2457 - mae: 0.8047 - val_loss: 1.2381 - val_mae: 0.7844\n",
            "Epoch 205/500\n",
            "120/120 [==============================] - 0s 3ms/step - loss: 1.1418 - mae: 0.7379 - val_loss: 1.3989 - val_mae: 0.8387\n",
            "Epoch 206/500\n",
            "120/120 [==============================] - 0s 4ms/step - loss: 1.0908 - mae: 0.7136 - val_loss: 1.1413 - val_mae: 0.7311\n",
            "Epoch 207/500\n",
            "120/120 [==============================] - 0s 4ms/step - loss: 1.1595 - mae: 0.7558 - val_loss: 1.0786 - val_mae: 0.7027\n",
            "Epoch 208/500\n",
            "120/120 [==============================] - 0s 4ms/step - loss: 1.1760 - mae: 0.7674 - val_loss: 1.1527 - val_mae: 0.7616\n",
            "Epoch 209/500\n",
            "120/120 [==============================] - 0s 3ms/step - loss: 1.1067 - mae: 0.7302 - val_loss: 1.1004 - val_mae: 0.7161\n",
            "Epoch 210/500\n",
            "120/120 [==============================] - 0s 3ms/step - loss: 1.0992 - mae: 0.7262 - val_loss: 1.0878 - val_mae: 0.7144\n",
            "Epoch 211/500\n",
            "120/120 [==============================] - 0s 3ms/step - loss: 1.1099 - mae: 0.7333 - val_loss: 1.1176 - val_mae: 0.7402\n",
            "Epoch 212/500\n",
            "120/120 [==============================] - 0s 4ms/step - loss: 1.1170 - mae: 0.7343 - val_loss: 1.1093 - val_mae: 0.7119\n",
            "Epoch 213/500\n",
            "120/120 [==============================] - 0s 3ms/step - loss: 1.1116 - mae: 0.7234 - val_loss: 1.1055 - val_mae: 0.7267\n",
            "Epoch 214/500\n",
            "120/120 [==============================] - 0s 3ms/step - loss: 1.1213 - mae: 0.7296 - val_loss: 1.0590 - val_mae: 0.6811\n",
            "Epoch 215/500\n",
            "120/120 [==============================] - 0s 3ms/step - loss: 1.1266 - mae: 0.7363 - val_loss: 1.0551 - val_mae: 0.6942\n",
            "Epoch 216/500\n",
            "120/120 [==============================] - 0s 3ms/step - loss: 1.0938 - mae: 0.7137 - val_loss: 1.1283 - val_mae: 0.7354\n",
            "Epoch 217/500\n",
            "120/120 [==============================] - 0s 3ms/step - loss: 1.1535 - mae: 0.7604 - val_loss: 1.2570 - val_mae: 0.7587\n",
            "Epoch 218/500\n",
            "120/120 [==============================] - 0s 3ms/step - loss: 1.1299 - mae: 0.7383 - val_loss: 1.1167 - val_mae: 0.7303\n",
            "Epoch 219/500\n",
            "120/120 [==============================] - 0s 4ms/step - loss: 1.1900 - mae: 0.7770 - val_loss: 1.1528 - val_mae: 0.7531\n",
            "Epoch 220/500\n",
            "120/120 [==============================] - 0s 3ms/step - loss: 1.0955 - mae: 0.7242 - val_loss: 1.1806 - val_mae: 0.7617\n",
            "Epoch 221/500\n",
            "120/120 [==============================] - 0s 4ms/step - loss: 1.1533 - mae: 0.7540 - val_loss: 1.2151 - val_mae: 0.8165\n",
            "Epoch 222/500\n",
            "120/120 [==============================] - 0s 4ms/step - loss: 1.1456 - mae: 0.7571 - val_loss: 1.0683 - val_mae: 0.6937\n",
            "Epoch 223/500\n",
            "120/120 [==============================] - 0s 4ms/step - loss: 1.1149 - mae: 0.7366 - val_loss: 1.1652 - val_mae: 0.7450\n",
            "Epoch 224/500\n",
            "120/120 [==============================] - 0s 3ms/step - loss: 1.0950 - mae: 0.7248 - val_loss: 1.4224 - val_mae: 0.8920\n",
            "Epoch 225/500\n",
            "120/120 [==============================] - 1s 4ms/step - loss: 1.1473 - mae: 0.7518 - val_loss: 1.1808 - val_mae: 0.7882\n",
            "Epoch 226/500\n",
            "120/120 [==============================] - 0s 4ms/step - loss: 1.2300 - mae: 0.7935 - val_loss: 1.3236 - val_mae: 0.8209\n",
            "Epoch 227/500\n",
            "120/120 [==============================] - 0s 4ms/step - loss: 1.1338 - mae: 0.7469 - val_loss: 1.2616 - val_mae: 0.7812\n",
            "Epoch 228/500\n",
            "120/120 [==============================] - 1s 4ms/step - loss: 1.1263 - mae: 0.7305 - val_loss: 1.0624 - val_mae: 0.6953\n",
            "Epoch 229/500\n",
            "120/120 [==============================] - 0s 4ms/step - loss: 1.1366 - mae: 0.7405 - val_loss: 1.1787 - val_mae: 0.7520\n",
            "Epoch 230/500\n",
            "120/120 [==============================] - 1s 4ms/step - loss: 1.1250 - mae: 0.7331 - val_loss: 1.2129 - val_mae: 0.8136\n",
            "Epoch 231/500\n",
            "120/120 [==============================] - 0s 4ms/step - loss: 1.1013 - mae: 0.7236 - val_loss: 1.0370 - val_mae: 0.6762\n",
            "Epoch 232/500\n",
            "120/120 [==============================] - 1s 4ms/step - loss: 1.1350 - mae: 0.7487 - val_loss: 1.0753 - val_mae: 0.7066\n",
            "Epoch 233/500\n",
            "120/120 [==============================] - 1s 4ms/step - loss: 1.1095 - mae: 0.7237 - val_loss: 1.0541 - val_mae: 0.6928\n",
            "Epoch 234/500\n",
            "120/120 [==============================] - 0s 3ms/step - loss: 1.1345 - mae: 0.7374 - val_loss: 1.2996 - val_mae: 0.8441\n",
            "Epoch 235/500\n",
            "120/120 [==============================] - 0s 4ms/step - loss: 1.1313 - mae: 0.7388 - val_loss: 1.1644 - val_mae: 0.7521\n",
            "Epoch 236/500\n",
            "120/120 [==============================] - 0s 4ms/step - loss: 1.1275 - mae: 0.7410 - val_loss: 1.1097 - val_mae: 0.7206\n",
            "Epoch 237/500\n",
            "120/120 [==============================] - 1s 4ms/step - loss: 1.0967 - mae: 0.7202 - val_loss: 1.2990 - val_mae: 0.8278\n",
            "Epoch 238/500\n",
            "120/120 [==============================] - 0s 3ms/step - loss: 1.1082 - mae: 0.7276 - val_loss: 1.1499 - val_mae: 0.7440\n",
            "Epoch 239/500\n",
            "120/120 [==============================] - 0s 3ms/step - loss: 1.1415 - mae: 0.7521 - val_loss: 1.1153 - val_mae: 0.7367\n",
            "Epoch 240/500\n",
            "120/120 [==============================] - 0s 4ms/step - loss: 1.1302 - mae: 0.7469 - val_loss: 1.0867 - val_mae: 0.7056\n",
            "Epoch 241/500\n",
            "120/120 [==============================] - 0s 3ms/step - loss: 1.1269 - mae: 0.7304 - val_loss: 1.1003 - val_mae: 0.7195\n",
            "Epoch 242/500\n",
            "120/120 [==============================] - 0s 3ms/step - loss: 1.0951 - mae: 0.7216 - val_loss: 1.0996 - val_mae: 0.7273\n",
            "Epoch 243/500\n",
            "120/120 [==============================] - 0s 3ms/step - loss: 1.1184 - mae: 0.7300 - val_loss: 1.1846 - val_mae: 0.7394\n",
            "Epoch 244/500\n",
            "120/120 [==============================] - 0s 4ms/step - loss: 1.1427 - mae: 0.7480 - val_loss: 1.1734 - val_mae: 0.7590\n",
            "Epoch 245/500\n",
            "120/120 [==============================] - 1s 4ms/step - loss: 1.1087 - mae: 0.7235 - val_loss: 1.1486 - val_mae: 0.7588\n",
            "Epoch 246/500\n",
            "120/120 [==============================] - 0s 4ms/step - loss: 1.1750 - mae: 0.7735 - val_loss: 1.1729 - val_mae: 0.7381\n",
            "Epoch 247/500\n",
            "120/120 [==============================] - 1s 4ms/step - loss: 1.1667 - mae: 0.7519 - val_loss: 1.3691 - val_mae: 0.9041\n",
            "Epoch 248/500\n",
            "120/120 [==============================] - 0s 4ms/step - loss: 1.1430 - mae: 0.7483 - val_loss: 1.1180 - val_mae: 0.7234\n",
            "Epoch 249/500\n",
            "120/120 [==============================] - 0s 3ms/step - loss: 1.1230 - mae: 0.7398 - val_loss: 1.2393 - val_mae: 0.8177\n",
            "Epoch 250/500\n",
            "120/120 [==============================] - 0s 3ms/step - loss: 1.1985 - mae: 0.7825 - val_loss: 1.1746 - val_mae: 0.7832\n",
            "Epoch 251/500\n",
            "120/120 [==============================] - 0s 4ms/step - loss: 1.1121 - mae: 0.7278 - val_loss: 1.2553 - val_mae: 0.8151\n",
            "Epoch 252/500\n",
            "120/120 [==============================] - 0s 4ms/step - loss: 1.1107 - mae: 0.7355 - val_loss: 1.1642 - val_mae: 0.7729\n",
            "Epoch 253/500\n",
            "120/120 [==============================] - 0s 3ms/step - loss: 1.1010 - mae: 0.7241 - val_loss: 1.0805 - val_mae: 0.7061\n",
            "Epoch 254/500\n",
            "120/120 [==============================] - 0s 3ms/step - loss: 1.1217 - mae: 0.7400 - val_loss: 1.1223 - val_mae: 0.7163\n",
            "Epoch 255/500\n",
            "120/120 [==============================] - 0s 4ms/step - loss: 1.0996 - mae: 0.7233 - val_loss: 1.1882 - val_mae: 0.7483\n",
            "Epoch 256/500\n",
            "120/120 [==============================] - 0s 3ms/step - loss: 1.1736 - mae: 0.7546 - val_loss: 1.1716 - val_mae: 0.7373\n",
            "Epoch 257/500\n",
            "120/120 [==============================] - 0s 3ms/step - loss: 1.0915 - mae: 0.7192 - val_loss: 1.1088 - val_mae: 0.7329\n",
            "Epoch 258/500\n",
            "120/120 [==============================] - 0s 4ms/step - loss: 1.0900 - mae: 0.7177 - val_loss: 1.1258 - val_mae: 0.7408\n",
            "Epoch 259/500\n",
            "120/120 [==============================] - 0s 3ms/step - loss: 1.1417 - mae: 0.7455 - val_loss: 1.2387 - val_mae: 0.7792\n",
            "Epoch 260/500\n",
            "120/120 [==============================] - 0s 3ms/step - loss: 1.1327 - mae: 0.7415 - val_loss: 1.0897 - val_mae: 0.7198\n",
            "Epoch 261/500\n",
            "120/120 [==============================] - 0s 3ms/step - loss: 1.1148 - mae: 0.7349 - val_loss: 1.1240 - val_mae: 0.7476\n",
            "Epoch 262/500\n",
            "120/120 [==============================] - 0s 4ms/step - loss: 1.0842 - mae: 0.7204 - val_loss: 1.0730 - val_mae: 0.6982\n",
            "Epoch 263/500\n",
            "120/120 [==============================] - 0s 4ms/step - loss: 1.1187 - mae: 0.7370 - val_loss: 1.1113 - val_mae: 0.7057\n",
            "Epoch 264/500\n",
            "120/120 [==============================] - 0s 4ms/step - loss: 1.1311 - mae: 0.7397 - val_loss: 1.0968 - val_mae: 0.7067\n",
            "Epoch 265/500\n",
            "120/120 [==============================] - 0s 4ms/step - loss: 1.1835 - mae: 0.7657 - val_loss: 1.1624 - val_mae: 0.7650\n",
            "Epoch 266/500\n",
            "120/120 [==============================] - 0s 3ms/step - loss: 1.1350 - mae: 0.7497 - val_loss: 1.1302 - val_mae: 0.7313\n",
            "Epoch 267/500\n",
            "120/120 [==============================] - 0s 4ms/step - loss: 1.0960 - mae: 0.7221 - val_loss: 1.1021 - val_mae: 0.7224\n",
            "Epoch 268/500\n",
            "120/120 [==============================] - 0s 3ms/step - loss: 1.0851 - mae: 0.7170 - val_loss: 1.1845 - val_mae: 0.7555\n",
            "Epoch 269/500\n",
            "120/120 [==============================] - 0s 4ms/step - loss: 1.0866 - mae: 0.7171 - val_loss: 1.1179 - val_mae: 0.7484\n",
            "Epoch 270/500\n",
            "120/120 [==============================] - 0s 3ms/step - loss: 1.0697 - mae: 0.7066 - val_loss: 1.1382 - val_mae: 0.7626\n",
            "Epoch 271/500\n",
            "120/120 [==============================] - 0s 3ms/step - loss: 1.1147 - mae: 0.7301 - val_loss: 1.3956 - val_mae: 0.8999\n",
            "Epoch 272/500\n",
            "120/120 [==============================] - 0s 3ms/step - loss: 1.0621 - mae: 0.7023 - val_loss: 1.1357 - val_mae: 0.7231\n",
            "Epoch 273/500\n",
            "120/120 [==============================] - 0s 4ms/step - loss: 1.1236 - mae: 0.7404 - val_loss: 1.0419 - val_mae: 0.6863\n",
            "Epoch 274/500\n",
            "120/120 [==============================] - 0s 4ms/step - loss: 1.0906 - mae: 0.7174 - val_loss: 1.0503 - val_mae: 0.6855\n",
            "Epoch 275/500\n",
            "120/120 [==============================] - 0s 4ms/step - loss: 1.0854 - mae: 0.7182 - val_loss: 1.1698 - val_mae: 0.7487\n",
            "Epoch 276/500\n",
            "120/120 [==============================] - 0s 3ms/step - loss: 1.1095 - mae: 0.7283 - val_loss: 1.1631 - val_mae: 0.7537\n",
            "Epoch 277/500\n",
            "120/120 [==============================] - 0s 3ms/step - loss: 1.0914 - mae: 0.7174 - val_loss: 1.0632 - val_mae: 0.6925\n",
            "Epoch 278/500\n",
            "120/120 [==============================] - 0s 3ms/step - loss: 1.1139 - mae: 0.7339 - val_loss: 1.3709 - val_mae: 0.8573\n",
            "Epoch 279/500\n",
            "120/120 [==============================] - 0s 3ms/step - loss: 1.1602 - mae: 0.7600 - val_loss: 1.0631 - val_mae: 0.7097\n",
            "Epoch 280/500\n",
            "120/120 [==============================] - 0s 3ms/step - loss: 1.1329 - mae: 0.7417 - val_loss: 1.1244 - val_mae: 0.7251\n",
            "Epoch 281/500\n",
            "120/120 [==============================] - 0s 4ms/step - loss: 1.1157 - mae: 0.7372 - val_loss: 1.1210 - val_mae: 0.7269\n",
            "Epoch 282/500\n",
            "120/120 [==============================] - 0s 3ms/step - loss: 1.1050 - mae: 0.7251 - val_loss: 1.3193 - val_mae: 0.8153\n",
            "Epoch 283/500\n",
            "120/120 [==============================] - 0s 3ms/step - loss: 1.1005 - mae: 0.7260 - val_loss: 1.1473 - val_mae: 0.7632\n",
            "Epoch 284/500\n",
            "120/120 [==============================] - 0s 4ms/step - loss: 1.1264 - mae: 0.7397 - val_loss: 1.0505 - val_mae: 0.6810\n",
            "Epoch 285/500\n",
            "120/120 [==============================] - 0s 3ms/step - loss: 1.0913 - mae: 0.7248 - val_loss: 1.1156 - val_mae: 0.7345\n",
            "Epoch 286/500\n",
            "120/120 [==============================] - 0s 3ms/step - loss: 1.0806 - mae: 0.7117 - val_loss: 1.1347 - val_mae: 0.7285\n",
            "Epoch 287/500\n",
            "120/120 [==============================] - 0s 3ms/step - loss: 1.0920 - mae: 0.7250 - val_loss: 1.2512 - val_mae: 0.7845\n",
            "Epoch 288/500\n",
            "120/120 [==============================] - 0s 3ms/step - loss: 1.1181 - mae: 0.7355 - val_loss: 1.0936 - val_mae: 0.7337\n",
            "Epoch 289/500\n",
            "120/120 [==============================] - 0s 4ms/step - loss: 1.1148 - mae: 0.7342 - val_loss: 1.1671 - val_mae: 0.7582\n",
            "Epoch 290/500\n",
            "120/120 [==============================] - 0s 4ms/step - loss: 1.1267 - mae: 0.7382 - val_loss: 1.1534 - val_mae: 0.7500\n",
            "Epoch 291/500\n",
            "120/120 [==============================] - 0s 4ms/step - loss: 1.1080 - mae: 0.7305 - val_loss: 1.2047 - val_mae: 0.7985\n",
            "Epoch 292/500\n",
            "120/120 [==============================] - 0s 3ms/step - loss: 1.1326 - mae: 0.7427 - val_loss: 1.0588 - val_mae: 0.6850\n",
            "Epoch 293/500\n",
            "120/120 [==============================] - 0s 4ms/step - loss: 1.0698 - mae: 0.7078 - val_loss: 1.0694 - val_mae: 0.6961\n",
            "Epoch 294/500\n",
            "120/120 [==============================] - 0s 3ms/step - loss: 1.0957 - mae: 0.7273 - val_loss: 1.1536 - val_mae: 0.7217\n",
            "Epoch 295/500\n",
            "120/120 [==============================] - 0s 3ms/step - loss: 1.0853 - mae: 0.7177 - val_loss: 1.2304 - val_mae: 0.7945\n",
            "Epoch 296/500\n",
            "120/120 [==============================] - 0s 4ms/step - loss: 1.1087 - mae: 0.7255 - val_loss: 1.1048 - val_mae: 0.7360\n",
            "Epoch 297/500\n",
            "120/120 [==============================] - 0s 4ms/step - loss: 1.0849 - mae: 0.7126 - val_loss: 1.2061 - val_mae: 0.7587\n",
            "Epoch 298/500\n",
            "120/120 [==============================] - 0s 4ms/step - loss: 1.1270 - mae: 0.7432 - val_loss: 1.2710 - val_mae: 0.8290\n",
            "Epoch 299/500\n",
            "120/120 [==============================] - 0s 3ms/step - loss: 1.1725 - mae: 0.7700 - val_loss: 1.0370 - val_mae: 0.6833\n",
            "Epoch 300/500\n",
            "120/120 [==============================] - 0s 4ms/step - loss: 1.0892 - mae: 0.7156 - val_loss: 1.1928 - val_mae: 0.7857\n",
            "Epoch 301/500\n",
            "120/120 [==============================] - 0s 3ms/step - loss: 1.1059 - mae: 0.7332 - val_loss: 1.1073 - val_mae: 0.7363\n",
            "Epoch 302/500\n",
            "120/120 [==============================] - 0s 3ms/step - loss: 1.1037 - mae: 0.7256 - val_loss: 1.1441 - val_mae: 0.7410\n",
            "Epoch 303/500\n",
            "120/120 [==============================] - 0s 3ms/step - loss: 1.0704 - mae: 0.7065 - val_loss: 1.0488 - val_mae: 0.6801\n",
            "Epoch 304/500\n",
            "120/120 [==============================] - 0s 3ms/step - loss: 1.0945 - mae: 0.7220 - val_loss: 1.1416 - val_mae: 0.7580\n",
            "Epoch 305/500\n",
            "120/120 [==============================] - 0s 4ms/step - loss: 1.0736 - mae: 0.7121 - val_loss: 1.1895 - val_mae: 0.7459\n",
            "Epoch 306/500\n",
            "120/120 [==============================] - 0s 3ms/step - loss: 1.1109 - mae: 0.7269 - val_loss: 1.1049 - val_mae: 0.7040\n",
            "Epoch 307/500\n",
            "120/120 [==============================] - 1s 9ms/step - loss: 1.1050 - mae: 0.7304 - val_loss: 1.1380 - val_mae: 0.7411\n",
            "Epoch 308/500\n",
            "120/120 [==============================] - 0s 4ms/step - loss: 1.0832 - mae: 0.7112 - val_loss: 1.3361 - val_mae: 0.8866\n",
            "Epoch 309/500\n",
            "120/120 [==============================] - 1s 10ms/step - loss: 1.1366 - mae: 0.7421 - val_loss: 1.1131 - val_mae: 0.7349\n",
            "Epoch 310/500\n",
            "120/120 [==============================] - 0s 3ms/step - loss: 1.0671 - mae: 0.7030 - val_loss: 1.0764 - val_mae: 0.6979\n",
            "Epoch 311/500\n",
            "120/120 [==============================] - 0s 3ms/step - loss: 1.1344 - mae: 0.7437 - val_loss: 1.0947 - val_mae: 0.7151\n",
            "Epoch 312/500\n",
            "120/120 [==============================] - 0s 3ms/step - loss: 1.1001 - mae: 0.7243 - val_loss: 1.1556 - val_mae: 0.7597\n",
            "Epoch 313/500\n",
            "120/120 [==============================] - 0s 3ms/step - loss: 1.0761 - mae: 0.7104 - val_loss: 1.0903 - val_mae: 0.7098\n",
            "Epoch 314/500\n",
            "120/120 [==============================] - 0s 3ms/step - loss: 1.1006 - mae: 0.7211 - val_loss: 1.0535 - val_mae: 0.6763\n",
            "Epoch 315/500\n",
            "120/120 [==============================] - 0s 4ms/step - loss: 1.0959 - mae: 0.7242 - val_loss: 1.1064 - val_mae: 0.7320\n",
            "Epoch 316/500\n",
            "120/120 [==============================] - 1s 4ms/step - loss: 1.0761 - mae: 0.7118 - val_loss: 1.1152 - val_mae: 0.7276\n",
            "Epoch 317/500\n",
            "120/120 [==============================] - 0s 3ms/step - loss: 1.1264 - mae: 0.7425 - val_loss: 1.2269 - val_mae: 0.7672\n",
            "Epoch 318/500\n",
            "120/120 [==============================] - 0s 3ms/step - loss: 1.0738 - mae: 0.7104 - val_loss: 1.2082 - val_mae: 0.7950\n",
            "Epoch 319/500\n",
            "120/120 [==============================] - 0s 4ms/step - loss: 1.0714 - mae: 0.7126 - val_loss: 1.0419 - val_mae: 0.6798\n",
            "Epoch 320/500\n",
            "120/120 [==============================] - 1s 4ms/step - loss: 1.0976 - mae: 0.7253 - val_loss: 1.0700 - val_mae: 0.7098\n",
            "Epoch 321/500\n",
            "120/120 [==============================] - 0s 3ms/step - loss: 1.1101 - mae: 0.7297 - val_loss: 1.1792 - val_mae: 0.7514\n",
            "Epoch 322/500\n",
            "120/120 [==============================] - 0s 4ms/step - loss: 1.0855 - mae: 0.7118 - val_loss: 1.2278 - val_mae: 0.7595\n",
            "Epoch 323/500\n",
            "120/120 [==============================] - 0s 3ms/step - loss: 1.0879 - mae: 0.7148 - val_loss: 1.0379 - val_mae: 0.6798\n",
            "Epoch 324/500\n",
            "120/120 [==============================] - 0s 3ms/step - loss: 1.0845 - mae: 0.7140 - val_loss: 1.1345 - val_mae: 0.7224\n",
            "Epoch 325/500\n",
            "120/120 [==============================] - 0s 3ms/step - loss: 1.1123 - mae: 0.7342 - val_loss: 1.0717 - val_mae: 0.6931\n",
            "Epoch 326/500\n",
            "120/120 [==============================] - 0s 4ms/step - loss: 1.1069 - mae: 0.7354 - val_loss: 1.2120 - val_mae: 0.7418\n",
            "Epoch 327/500\n",
            "120/120 [==============================] - 0s 3ms/step - loss: 1.0889 - mae: 0.7256 - val_loss: 1.1657 - val_mae: 0.7789\n",
            "Epoch 328/500\n",
            "120/120 [==============================] - 0s 3ms/step - loss: 1.0999 - mae: 0.7235 - val_loss: 1.0725 - val_mae: 0.7045\n",
            "Epoch 329/500\n",
            "120/120 [==============================] - 0s 3ms/step - loss: 1.1145 - mae: 0.7351 - val_loss: 1.3766 - val_mae: 0.8866\n",
            "Epoch 330/500\n",
            "120/120 [==============================] - 0s 3ms/step - loss: 1.1168 - mae: 0.7376 - val_loss: 1.1013 - val_mae: 0.7086\n",
            "Epoch 331/500\n",
            "120/120 [==============================] - 0s 4ms/step - loss: 1.0865 - mae: 0.7202 - val_loss: 1.0662 - val_mae: 0.6985\n",
            "Epoch 332/500\n",
            "120/120 [==============================] - 0s 3ms/step - loss: 1.0823 - mae: 0.7130 - val_loss: 1.2524 - val_mae: 0.7723\n",
            "Epoch 333/500\n",
            "120/120 [==============================] - 0s 3ms/step - loss: 1.0856 - mae: 0.7186 - val_loss: 1.1382 - val_mae: 0.7498\n",
            "Epoch 334/500\n",
            "120/120 [==============================] - 0s 3ms/step - loss: 1.0622 - mae: 0.7012 - val_loss: 1.0464 - val_mae: 0.6768\n",
            "Epoch 335/500\n",
            "120/120 [==============================] - 0s 4ms/step - loss: 1.0535 - mae: 0.6973 - val_loss: 1.1684 - val_mae: 0.7797\n",
            "Epoch 336/500\n",
            "120/120 [==============================] - 0s 3ms/step - loss: 1.1298 - mae: 0.7403 - val_loss: 1.1572 - val_mae: 0.7517\n",
            "Epoch 337/500\n",
            "120/120 [==============================] - 0s 3ms/step - loss: 1.0864 - mae: 0.7171 - val_loss: 1.0902 - val_mae: 0.7133\n",
            "Epoch 338/500\n",
            "120/120 [==============================] - 0s 4ms/step - loss: 1.0643 - mae: 0.7070 - val_loss: 1.1014 - val_mae: 0.7339\n",
            "Epoch 339/500\n",
            "120/120 [==============================] - 0s 3ms/step - loss: 1.0755 - mae: 0.7045 - val_loss: 1.0478 - val_mae: 0.6791\n",
            "Epoch 340/500\n",
            "120/120 [==============================] - 0s 4ms/step - loss: 1.0716 - mae: 0.7094 - val_loss: 1.0978 - val_mae: 0.7139\n",
            "Epoch 341/500\n",
            "120/120 [==============================] - 0s 3ms/step - loss: 1.1205 - mae: 0.7433 - val_loss: 1.0718 - val_mae: 0.6965\n",
            "Epoch 342/500\n",
            "120/120 [==============================] - 1s 4ms/step - loss: 1.0772 - mae: 0.7083 - val_loss: 1.0826 - val_mae: 0.6963\n",
            "Epoch 343/500\n",
            "120/120 [==============================] - 0s 3ms/step - loss: 1.1136 - mae: 0.7268 - val_loss: 1.1810 - val_mae: 0.7657\n",
            "Epoch 344/500\n",
            "120/120 [==============================] - 0s 3ms/step - loss: 1.0770 - mae: 0.7057 - val_loss: 1.0598 - val_mae: 0.6948\n",
            "Epoch 345/500\n",
            "120/120 [==============================] - 1s 6ms/step - loss: 1.0727 - mae: 0.7138 - val_loss: 1.1395 - val_mae: 0.7369\n",
            "Epoch 346/500\n",
            "120/120 [==============================] - 1s 5ms/step - loss: 1.0652 - mae: 0.7094 - val_loss: 1.2756 - val_mae: 0.8114\n",
            "Epoch 347/500\n",
            "120/120 [==============================] - 0s 4ms/step - loss: 1.0785 - mae: 0.7122 - val_loss: 1.0734 - val_mae: 0.7078\n",
            "Epoch 348/500\n",
            "120/120 [==============================] - 0s 4ms/step - loss: 1.1102 - mae: 0.7309 - val_loss: 1.0486 - val_mae: 0.6888\n",
            "Epoch 349/500\n",
            "120/120 [==============================] - 0s 3ms/step - loss: 1.0829 - mae: 0.7177 - val_loss: 1.0571 - val_mae: 0.6762\n",
            "Epoch 350/500\n",
            "120/120 [==============================] - 0s 3ms/step - loss: 1.0752 - mae: 0.7046 - val_loss: 1.1029 - val_mae: 0.7243\n",
            "Epoch 351/500\n",
            "120/120 [==============================] - 0s 4ms/step - loss: 1.0743 - mae: 0.7126 - val_loss: 1.0566 - val_mae: 0.6950\n",
            "Epoch 352/500\n",
            "120/120 [==============================] - 0s 3ms/step - loss: 1.1277 - mae: 0.7363 - val_loss: 1.0682 - val_mae: 0.6984\n",
            "Epoch 353/500\n",
            "120/120 [==============================] - 0s 4ms/step - loss: 1.0869 - mae: 0.7247 - val_loss: 1.0680 - val_mae: 0.6865\n",
            "Epoch 354/500\n",
            "120/120 [==============================] - 1s 4ms/step - loss: 1.0582 - mae: 0.7044 - val_loss: 1.0743 - val_mae: 0.7139\n",
            "Epoch 355/500\n",
            "120/120 [==============================] - 0s 4ms/step - loss: 1.0824 - mae: 0.7152 - val_loss: 1.1339 - val_mae: 0.7434\n",
            "Epoch 356/500\n",
            "120/120 [==============================] - 0s 3ms/step - loss: 1.0744 - mae: 0.7017 - val_loss: 1.0667 - val_mae: 0.7001\n",
            "Epoch 357/500\n",
            "120/120 [==============================] - 0s 3ms/step - loss: 1.0670 - mae: 0.7051 - val_loss: 1.0587 - val_mae: 0.6879\n",
            "Epoch 358/500\n",
            "120/120 [==============================] - 1s 4ms/step - loss: 1.0699 - mae: 0.7093 - val_loss: 1.1664 - val_mae: 0.7865\n",
            "Epoch 359/500\n",
            "120/120 [==============================] - 0s 3ms/step - loss: 1.0973 - mae: 0.7261 - val_loss: 1.1346 - val_mae: 0.7605\n",
            "Epoch 360/500\n",
            "120/120 [==============================] - 1s 4ms/step - loss: 1.0941 - mae: 0.7250 - val_loss: 1.1264 - val_mae: 0.7441\n",
            "Epoch 361/500\n",
            "120/120 [==============================] - 0s 4ms/step - loss: 1.0633 - mae: 0.7051 - val_loss: 1.0416 - val_mae: 0.6889\n",
            "Epoch 362/500\n",
            "120/120 [==============================] - 0s 3ms/step - loss: 1.0856 - mae: 0.7249 - val_loss: 1.0526 - val_mae: 0.6924\n",
            "Epoch 363/500\n",
            "120/120 [==============================] - 0s 4ms/step - loss: 1.0682 - mae: 0.7010 - val_loss: 1.0587 - val_mae: 0.6894\n",
            "Epoch 364/500\n",
            "120/120 [==============================] - 1s 4ms/step - loss: 1.0884 - mae: 0.7209 - val_loss: 1.0483 - val_mae: 0.6871\n",
            "Epoch 365/500\n",
            "120/120 [==============================] - 0s 4ms/step - loss: 1.0718 - mae: 0.7124 - val_loss: 1.0792 - val_mae: 0.7006\n",
            "Epoch 366/500\n",
            "120/120 [==============================] - 0s 4ms/step - loss: 1.1098 - mae: 0.7277 - val_loss: 1.0585 - val_mae: 0.6967\n",
            "Epoch 367/500\n",
            "120/120 [==============================] - 0s 4ms/step - loss: 1.0550 - mae: 0.7018 - val_loss: 1.0511 - val_mae: 0.6835\n",
            "Epoch 368/500\n",
            "120/120 [==============================] - 0s 4ms/step - loss: 1.0872 - mae: 0.7079 - val_loss: 1.1911 - val_mae: 0.7644\n",
            "Epoch 369/500\n",
            "120/120 [==============================] - 1s 4ms/step - loss: 1.0835 - mae: 0.7156 - val_loss: 1.1638 - val_mae: 0.7380\n",
            "Epoch 370/500\n",
            "120/120 [==============================] - 0s 4ms/step - loss: 1.0776 - mae: 0.7138 - val_loss: 1.2437 - val_mae: 0.7793\n",
            "Epoch 371/500\n",
            "120/120 [==============================] - 0s 3ms/step - loss: 1.1010 - mae: 0.7307 - val_loss: 1.2324 - val_mae: 0.7879\n",
            "Epoch 372/500\n",
            "120/120 [==============================] - 0s 4ms/step - loss: 1.0882 - mae: 0.7171 - val_loss: 1.2741 - val_mae: 0.8019\n",
            "Epoch 373/500\n",
            "120/120 [==============================] - 0s 4ms/step - loss: 1.0696 - mae: 0.7056 - val_loss: 1.0628 - val_mae: 0.6993\n",
            "Epoch 374/500\n",
            "120/120 [==============================] - 0s 3ms/step - loss: 1.0743 - mae: 0.7104 - val_loss: 1.0611 - val_mae: 0.6863\n",
            "Epoch 375/500\n",
            "120/120 [==============================] - 1s 4ms/step - loss: 1.0781 - mae: 0.7184 - val_loss: 1.0882 - val_mae: 0.7248\n",
            "Epoch 376/500\n",
            "120/120 [==============================] - 0s 3ms/step - loss: 1.1037 - mae: 0.7319 - val_loss: 1.0579 - val_mae: 0.7002\n",
            "Epoch 377/500\n",
            "120/120 [==============================] - 0s 3ms/step - loss: 1.0700 - mae: 0.7095 - val_loss: 1.1151 - val_mae: 0.7234\n",
            "Epoch 378/500\n",
            "120/120 [==============================] - 0s 4ms/step - loss: 1.0991 - mae: 0.7200 - val_loss: 1.1741 - val_mae: 0.7689\n",
            "Epoch 379/500\n",
            "120/120 [==============================] - 1s 4ms/step - loss: 1.0897 - mae: 0.7190 - val_loss: 1.1730 - val_mae: 0.7356\n",
            "Epoch 380/500\n",
            "120/120 [==============================] - 0s 3ms/step - loss: 1.0791 - mae: 0.7198 - val_loss: 1.0881 - val_mae: 0.7168\n",
            "Epoch 381/500\n",
            "120/120 [==============================] - 0s 3ms/step - loss: 1.0687 - mae: 0.7090 - val_loss: 1.0465 - val_mae: 0.6847\n",
            "Epoch 382/500\n",
            "120/120 [==============================] - 0s 3ms/step - loss: 1.0577 - mae: 0.7011 - val_loss: 1.2535 - val_mae: 0.7916\n",
            "Epoch 383/500\n",
            "120/120 [==============================] - 0s 3ms/step - loss: 1.0916 - mae: 0.7241 - val_loss: 1.0424 - val_mae: 0.6844\n",
            "Epoch 384/500\n",
            "120/120 [==============================] - 1s 4ms/step - loss: 1.1097 - mae: 0.7303 - val_loss: 1.1221 - val_mae: 0.7100\n",
            "Epoch 385/500\n",
            "120/120 [==============================] - 0s 4ms/step - loss: 1.0500 - mae: 0.6988 - val_loss: 1.0763 - val_mae: 0.7079\n",
            "Epoch 386/500\n",
            "120/120 [==============================] - 1s 4ms/step - loss: 1.0641 - mae: 0.7057 - val_loss: 1.1263 - val_mae: 0.7336\n",
            "Epoch 387/500\n",
            "120/120 [==============================] - 0s 4ms/step - loss: 1.0969 - mae: 0.7270 - val_loss: 1.0774 - val_mae: 0.7038\n",
            "Epoch 388/500\n",
            "120/120 [==============================] - 0s 4ms/step - loss: 1.0601 - mae: 0.7026 - val_loss: 1.0565 - val_mae: 0.6886\n",
            "Epoch 389/500\n",
            "120/120 [==============================] - 0s 4ms/step - loss: 1.0412 - mae: 0.6894 - val_loss: 1.1030 - val_mae: 0.7299\n",
            "Epoch 390/500\n",
            "120/120 [==============================] - 0s 3ms/step - loss: 1.0694 - mae: 0.7122 - val_loss: 1.0661 - val_mae: 0.6866\n",
            "Epoch 391/500\n",
            "120/120 [==============================] - 0s 4ms/step - loss: 1.0378 - mae: 0.6899 - val_loss: 1.1340 - val_mae: 0.7272\n",
            "Epoch 392/500\n",
            "120/120 [==============================] - 0s 4ms/step - loss: 1.0790 - mae: 0.7127 - val_loss: 1.0683 - val_mae: 0.6987\n",
            "Epoch 393/500\n",
            "120/120 [==============================] - 0s 4ms/step - loss: 1.0742 - mae: 0.7104 - val_loss: 1.0759 - val_mae: 0.6931\n",
            "Epoch 394/500\n",
            "120/120 [==============================] - 0s 3ms/step - loss: 1.0574 - mae: 0.6983 - val_loss: 1.0488 - val_mae: 0.6876\n",
            "Epoch 395/500\n",
            "120/120 [==============================] - 0s 3ms/step - loss: 1.0925 - mae: 0.7140 - val_loss: 1.2240 - val_mae: 0.7971\n",
            "Epoch 396/500\n",
            "120/120 [==============================] - 0s 3ms/step - loss: 1.0722 - mae: 0.7121 - val_loss: 1.1681 - val_mae: 0.7575\n",
            "Epoch 397/500\n",
            "120/120 [==============================] - 0s 3ms/step - loss: 1.0934 - mae: 0.7169 - val_loss: 1.0944 - val_mae: 0.7180\n",
            "Epoch 398/500\n",
            "120/120 [==============================] - 0s 3ms/step - loss: 1.0859 - mae: 0.7135 - val_loss: 1.0786 - val_mae: 0.7049\n",
            "Epoch 399/500\n",
            "120/120 [==============================] - 1s 4ms/step - loss: 1.0541 - mae: 0.7005 - val_loss: 1.0864 - val_mae: 0.7169\n",
            "Epoch 400/500\n",
            "120/120 [==============================] - 1s 4ms/step - loss: 1.0695 - mae: 0.7074 - val_loss: 1.0351 - val_mae: 0.6725\n",
            "Epoch 401/500\n",
            "120/120 [==============================] - 0s 4ms/step - loss: 1.1114 - mae: 0.7347 - val_loss: 1.0680 - val_mae: 0.7034\n",
            "Epoch 402/500\n",
            "120/120 [==============================] - 0s 4ms/step - loss: 1.0757 - mae: 0.7161 - val_loss: 1.0916 - val_mae: 0.7196\n",
            "Epoch 403/500\n",
            "120/120 [==============================] - 0s 4ms/step - loss: 1.0775 - mae: 0.7200 - val_loss: 1.1169 - val_mae: 0.7401\n",
            "Epoch 404/500\n",
            "120/120 [==============================] - 0s 3ms/step - loss: 1.1112 - mae: 0.7447 - val_loss: 1.2181 - val_mae: 0.7402\n",
            "Epoch 405/500\n",
            "120/120 [==============================] - 0s 3ms/step - loss: 1.0718 - mae: 0.7060 - val_loss: 1.0460 - val_mae: 0.6759\n",
            "Epoch 406/500\n",
            "120/120 [==============================] - 0s 3ms/step - loss: 1.0590 - mae: 0.7006 - val_loss: 1.1573 - val_mae: 0.7325\n",
            "Epoch 407/500\n",
            "120/120 [==============================] - 1s 4ms/step - loss: 1.1103 - mae: 0.7262 - val_loss: 1.2309 - val_mae: 0.7487\n",
            "Epoch 408/500\n",
            "120/120 [==============================] - 0s 3ms/step - loss: 1.0492 - mae: 0.6949 - val_loss: 1.1057 - val_mae: 0.7256\n",
            "Epoch 409/500\n",
            "120/120 [==============================] - 0s 3ms/step - loss: 1.0656 - mae: 0.7101 - val_loss: 1.0519 - val_mae: 0.6859\n",
            "Epoch 410/500\n",
            "120/120 [==============================] - 1s 4ms/step - loss: 1.0614 - mae: 0.7047 - val_loss: 1.1370 - val_mae: 0.7588\n",
            "Epoch 411/500\n",
            "120/120 [==============================] - 0s 3ms/step - loss: 1.0631 - mae: 0.7043 - val_loss: 1.0729 - val_mae: 0.7158\n",
            "Epoch 412/500\n",
            "120/120 [==============================] - 0s 3ms/step - loss: 1.0522 - mae: 0.6950 - val_loss: 1.0797 - val_mae: 0.7021\n",
            "Epoch 413/500\n",
            "120/120 [==============================] - 0s 3ms/step - loss: 1.0502 - mae: 0.6992 - val_loss: 1.0771 - val_mae: 0.7018\n",
            "Epoch 414/500\n",
            "120/120 [==============================] - 0s 4ms/step - loss: 1.0425 - mae: 0.6910 - val_loss: 1.1029 - val_mae: 0.7134\n",
            "Epoch 415/500\n",
            "120/120 [==============================] - 0s 3ms/step - loss: 1.0614 - mae: 0.7046 - val_loss: 1.0407 - val_mae: 0.6824\n",
            "Epoch 416/500\n",
            "120/120 [==============================] - 0s 4ms/step - loss: 1.0733 - mae: 0.7086 - val_loss: 1.0959 - val_mae: 0.7183\n",
            "Epoch 417/500\n",
            "120/120 [==============================] - 0s 3ms/step - loss: 1.0887 - mae: 0.7203 - val_loss: 1.1222 - val_mae: 0.7363\n",
            "Epoch 418/500\n",
            "120/120 [==============================] - 0s 4ms/step - loss: 1.0643 - mae: 0.6988 - val_loss: 1.0844 - val_mae: 0.7002\n",
            "Epoch 419/500\n",
            "120/120 [==============================] - 0s 3ms/step - loss: 1.0621 - mae: 0.7018 - val_loss: 1.0820 - val_mae: 0.7193\n",
            "Epoch 420/500\n",
            "120/120 [==============================] - 0s 3ms/step - loss: 1.0538 - mae: 0.6963 - val_loss: 1.0569 - val_mae: 0.6963\n",
            "Epoch 421/500\n",
            "120/120 [==============================] - 0s 3ms/step - loss: 1.0913 - mae: 0.7241 - val_loss: 1.0625 - val_mae: 0.7029\n",
            "Epoch 422/500\n",
            "120/120 [==============================] - 0s 4ms/step - loss: 1.0654 - mae: 0.7025 - val_loss: 1.0428 - val_mae: 0.6828\n",
            "Epoch 423/500\n",
            "120/120 [==============================] - 0s 4ms/step - loss: 1.0792 - mae: 0.7167 - val_loss: 1.1507 - val_mae: 0.7356\n",
            "Epoch 424/500\n",
            "120/120 [==============================] - 0s 3ms/step - loss: 1.0939 - mae: 0.7238 - val_loss: 1.1389 - val_mae: 0.7682\n",
            "Epoch 425/500\n",
            "120/120 [==============================] - 1s 4ms/step - loss: 1.0838 - mae: 0.7144 - val_loss: 1.1367 - val_mae: 0.7499\n",
            "Epoch 426/500\n",
            "120/120 [==============================] - 0s 3ms/step - loss: 1.0808 - mae: 0.7178 - val_loss: 1.0488 - val_mae: 0.6828\n",
            "Epoch 427/500\n",
            "120/120 [==============================] - 0s 3ms/step - loss: 1.0240 - mae: 0.6793 - val_loss: 1.0623 - val_mae: 0.6900\n",
            "Epoch 428/500\n",
            "120/120 [==============================] - 0s 3ms/step - loss: 1.0716 - mae: 0.7047 - val_loss: 1.1117 - val_mae: 0.7420\n",
            "Epoch 429/500\n",
            "120/120 [==============================] - 1s 4ms/step - loss: 1.0571 - mae: 0.7038 - val_loss: 1.1235 - val_mae: 0.7579\n",
            "Epoch 430/500\n",
            "120/120 [==============================] - 1s 4ms/step - loss: 1.0748 - mae: 0.7164 - val_loss: 1.0500 - val_mae: 0.6829\n",
            "Epoch 431/500\n",
            "120/120 [==============================] - 0s 3ms/step - loss: 1.0679 - mae: 0.7086 - val_loss: 1.2947 - val_mae: 0.7978\n",
            "Epoch 432/500\n",
            "120/120 [==============================] - 1s 4ms/step - loss: 1.0663 - mae: 0.7026 - val_loss: 1.0640 - val_mae: 0.6866\n",
            "Epoch 433/500\n",
            "120/120 [==============================] - 0s 3ms/step - loss: 1.0497 - mae: 0.6931 - val_loss: 1.0345 - val_mae: 0.6688\n",
            "Epoch 434/500\n",
            "120/120 [==============================] - 1s 4ms/step - loss: 1.1060 - mae: 0.7308 - val_loss: 1.0788 - val_mae: 0.7097\n",
            "Epoch 435/500\n",
            "120/120 [==============================] - 0s 3ms/step - loss: 1.0443 - mae: 0.6923 - val_loss: 1.2309 - val_mae: 0.7841\n",
            "Epoch 436/500\n",
            "120/120 [==============================] - 0s 4ms/step - loss: 1.0766 - mae: 0.7148 - val_loss: 1.1058 - val_mae: 0.7045\n",
            "Epoch 437/500\n",
            "120/120 [==============================] - 0s 3ms/step - loss: 1.0801 - mae: 0.7092 - val_loss: 1.1327 - val_mae: 0.7547\n",
            "Epoch 438/500\n",
            "120/120 [==============================] - 0s 4ms/step - loss: 1.0799 - mae: 0.7183 - val_loss: 1.1520 - val_mae: 0.7569\n",
            "Epoch 439/500\n",
            "120/120 [==============================] - 1s 4ms/step - loss: 1.0939 - mae: 0.7184 - val_loss: 1.0606 - val_mae: 0.6965\n",
            "Epoch 440/500\n",
            "120/120 [==============================] - 0s 4ms/step - loss: 1.0717 - mae: 0.7131 - val_loss: 1.0594 - val_mae: 0.6935\n",
            "Epoch 441/500\n",
            "120/120 [==============================] - 0s 3ms/step - loss: 1.0516 - mae: 0.6980 - val_loss: 1.1670 - val_mae: 0.7679\n",
            "Epoch 442/500\n",
            "120/120 [==============================] - 1s 4ms/step - loss: 1.0919 - mae: 0.7189 - val_loss: 1.0925 - val_mae: 0.7130\n",
            "Epoch 443/500\n",
            "120/120 [==============================] - 1s 4ms/step - loss: 1.0723 - mae: 0.7068 - val_loss: 1.0946 - val_mae: 0.7169\n",
            "Epoch 444/500\n",
            "120/120 [==============================] - 0s 3ms/step - loss: 1.0712 - mae: 0.7118 - val_loss: 1.0932 - val_mae: 0.7080\n",
            "Epoch 445/500\n",
            "120/120 [==============================] - 0s 4ms/step - loss: 1.0486 - mae: 0.6917 - val_loss: 1.4010 - val_mae: 0.8334\n",
            "Epoch 446/500\n",
            "120/120 [==============================] - 0s 4ms/step - loss: 1.0935 - mae: 0.7197 - val_loss: 1.0652 - val_mae: 0.7015\n",
            "Epoch 447/500\n",
            "120/120 [==============================] - 0s 4ms/step - loss: 1.0745 - mae: 0.7149 - val_loss: 1.0930 - val_mae: 0.7219\n",
            "Epoch 448/500\n",
            "120/120 [==============================] - 0s 4ms/step - loss: 1.0553 - mae: 0.6948 - val_loss: 1.1174 - val_mae: 0.7242\n",
            "Epoch 449/500\n",
            "120/120 [==============================] - 0s 4ms/step - loss: 1.0814 - mae: 0.7115 - val_loss: 1.1744 - val_mae: 0.7349\n",
            "Epoch 450/500\n",
            "120/120 [==============================] - 0s 4ms/step - loss: 1.0603 - mae: 0.7056 - val_loss: 1.0493 - val_mae: 0.6970\n",
            "Epoch 451/500\n",
            "120/120 [==============================] - 0s 3ms/step - loss: 1.0894 - mae: 0.7276 - val_loss: 1.0550 - val_mae: 0.6894\n",
            "Epoch 452/500\n",
            "120/120 [==============================] - 0s 4ms/step - loss: 1.0557 - mae: 0.7041 - val_loss: 1.0737 - val_mae: 0.7026\n",
            "Epoch 453/500\n",
            "120/120 [==============================] - 0s 4ms/step - loss: 1.0466 - mae: 0.6999 - val_loss: 1.2112 - val_mae: 0.8019\n",
            "Epoch 454/500\n",
            "120/120 [==============================] - 0s 4ms/step - loss: 1.0817 - mae: 0.7146 - val_loss: 1.0817 - val_mae: 0.6927\n",
            "Epoch 455/500\n",
            "120/120 [==============================] - 0s 4ms/step - loss: 1.0655 - mae: 0.7025 - val_loss: 1.2267 - val_mae: 0.7977\n",
            "Epoch 456/500\n",
            "120/120 [==============================] - 0s 3ms/step - loss: 1.0489 - mae: 0.6980 - val_loss: 1.0469 - val_mae: 0.6850\n",
            "Epoch 457/500\n",
            "120/120 [==============================] - 0s 3ms/step - loss: 1.0422 - mae: 0.6930 - val_loss: 1.0964 - val_mae: 0.7285\n",
            "Epoch 458/500\n",
            "120/120 [==============================] - 0s 3ms/step - loss: 1.0906 - mae: 0.7240 - val_loss: 1.2706 - val_mae: 0.8515\n",
            "Epoch 459/500\n",
            "120/120 [==============================] - 0s 4ms/step - loss: 1.0897 - mae: 0.7223 - val_loss: 1.1426 - val_mae: 0.7661\n",
            "Epoch 460/500\n",
            "120/120 [==============================] - 0s 3ms/step - loss: 1.0480 - mae: 0.6924 - val_loss: 1.1770 - val_mae: 0.7707\n",
            "Epoch 461/500\n",
            "120/120 [==============================] - 0s 4ms/step - loss: 1.0642 - mae: 0.7062 - val_loss: 1.0725 - val_mae: 0.6973\n",
            "Epoch 462/500\n",
            "120/120 [==============================] - 0s 3ms/step - loss: 1.0653 - mae: 0.7063 - val_loss: 1.1698 - val_mae: 0.7569\n",
            "Epoch 463/500\n",
            "120/120 [==============================] - 1s 4ms/step - loss: 1.0780 - mae: 0.7179 - val_loss: 1.0875 - val_mae: 0.7058\n",
            "Epoch 464/500\n",
            "120/120 [==============================] - 0s 4ms/step - loss: 1.0797 - mae: 0.7220 - val_loss: 1.0683 - val_mae: 0.7038\n",
            "Epoch 465/500\n",
            "120/120 [==============================] - 0s 4ms/step - loss: 1.0696 - mae: 0.7093 - val_loss: 1.0476 - val_mae: 0.6866\n",
            "Epoch 466/500\n",
            "120/120 [==============================] - 0s 3ms/step - loss: 1.0656 - mae: 0.7057 - val_loss: 1.0698 - val_mae: 0.7062\n",
            "Epoch 467/500\n",
            "120/120 [==============================] - 0s 4ms/step - loss: 1.0537 - mae: 0.7006 - val_loss: 1.1949 - val_mae: 0.7373\n",
            "Epoch 468/500\n",
            "120/120 [==============================] - 0s 4ms/step - loss: 1.0721 - mae: 0.7148 - val_loss: 1.0421 - val_mae: 0.6898\n",
            "Epoch 469/500\n",
            "120/120 [==============================] - 0s 3ms/step - loss: 1.0598 - mae: 0.7035 - val_loss: 1.0623 - val_mae: 0.6898\n",
            "Epoch 470/500\n",
            "120/120 [==============================] - 0s 4ms/step - loss: 1.0482 - mae: 0.6955 - val_loss: 1.2191 - val_mae: 0.8149\n",
            "Epoch 471/500\n",
            "120/120 [==============================] - 0s 3ms/step - loss: 1.0804 - mae: 0.7141 - val_loss: 1.1874 - val_mae: 0.7735\n",
            "Epoch 472/500\n",
            "120/120 [==============================] - 0s 4ms/step - loss: 1.0625 - mae: 0.7028 - val_loss: 1.0991 - val_mae: 0.7033\n",
            "Epoch 473/500\n",
            "120/120 [==============================] - 0s 3ms/step - loss: 1.0891 - mae: 0.7248 - val_loss: 1.2443 - val_mae: 0.8032\n",
            "Epoch 474/500\n",
            "120/120 [==============================] - 0s 3ms/step - loss: 1.0734 - mae: 0.7099 - val_loss: 1.0612 - val_mae: 0.6927\n",
            "Epoch 475/500\n",
            "120/120 [==============================] - 1s 4ms/step - loss: 1.0422 - mae: 0.6898 - val_loss: 1.0481 - val_mae: 0.6997\n",
            "Epoch 476/500\n",
            "120/120 [==============================] - 0s 3ms/step - loss: 1.0357 - mae: 0.6833 - val_loss: 1.0710 - val_mae: 0.7022\n",
            "Epoch 477/500\n",
            "120/120 [==============================] - 0s 4ms/step - loss: 1.0692 - mae: 0.7141 - val_loss: 1.1002 - val_mae: 0.7133\n",
            "Epoch 478/500\n",
            "120/120 [==============================] - 0s 3ms/step - loss: 1.0540 - mae: 0.7009 - val_loss: 1.0742 - val_mae: 0.7087\n",
            "Epoch 479/500\n",
            "120/120 [==============================] - 0s 3ms/step - loss: 1.0363 - mae: 0.6878 - val_loss: 1.0420 - val_mae: 0.6853\n",
            "Epoch 480/500\n",
            "120/120 [==============================] - 0s 4ms/step - loss: 1.0704 - mae: 0.7085 - val_loss: 1.0651 - val_mae: 0.6902\n",
            "Epoch 481/500\n",
            "120/120 [==============================] - 0s 3ms/step - loss: 1.0463 - mae: 0.6918 - val_loss: 1.0367 - val_mae: 0.6751\n",
            "Epoch 482/500\n",
            "120/120 [==============================] - 0s 4ms/step - loss: 1.0708 - mae: 0.7119 - val_loss: 1.0858 - val_mae: 0.7220\n",
            "Epoch 483/500\n",
            "120/120 [==============================] - 0s 4ms/step - loss: 1.0705 - mae: 0.7125 - val_loss: 1.0731 - val_mae: 0.7047\n",
            "Epoch 484/500\n",
            "120/120 [==============================] - 0s 4ms/step - loss: 1.0499 - mae: 0.6922 - val_loss: 1.2277 - val_mae: 0.7803\n",
            "Epoch 485/500\n",
            "120/120 [==============================] - 0s 3ms/step - loss: 1.0580 - mae: 0.7036 - val_loss: 1.0611 - val_mae: 0.6862\n",
            "Epoch 486/500\n",
            "120/120 [==============================] - 0s 3ms/step - loss: 1.0534 - mae: 0.6979 - val_loss: 1.0480 - val_mae: 0.6993\n",
            "Epoch 487/500\n",
            "120/120 [==============================] - 0s 3ms/step - loss: 1.0474 - mae: 0.6980 - val_loss: 1.0373 - val_mae: 0.6880\n",
            "Epoch 488/500\n",
            "120/120 [==============================] - 0s 4ms/step - loss: 1.0607 - mae: 0.7017 - val_loss: 1.0502 - val_mae: 0.6866\n",
            "Epoch 489/500\n",
            "120/120 [==============================] - 0s 4ms/step - loss: 1.0771 - mae: 0.7158 - val_loss: 1.1882 - val_mae: 0.7925\n",
            "Epoch 490/500\n",
            "120/120 [==============================] - 0s 3ms/step - loss: 1.0903 - mae: 0.7256 - val_loss: 1.0766 - val_mae: 0.7087\n",
            "Epoch 491/500\n",
            "120/120 [==============================] - 1s 4ms/step - loss: 1.0753 - mae: 0.7066 - val_loss: 1.1237 - val_mae: 0.7591\n",
            "Epoch 492/500\n",
            "120/120 [==============================] - 0s 3ms/step - loss: 1.0560 - mae: 0.6998 - val_loss: 1.1281 - val_mae: 0.7532\n",
            "Epoch 493/500\n",
            "120/120 [==============================] - 0s 3ms/step - loss: 1.0677 - mae: 0.7110 - val_loss: 1.0389 - val_mae: 0.6753\n",
            "Epoch 494/500\n",
            "120/120 [==============================] - 0s 3ms/step - loss: 1.0459 - mae: 0.6904 - val_loss: 1.0702 - val_mae: 0.6912\n",
            "Epoch 495/500\n",
            "120/120 [==============================] - 0s 3ms/step - loss: 1.0557 - mae: 0.6993 - val_loss: 1.0937 - val_mae: 0.7319\n",
            "Epoch 496/500\n",
            "120/120 [==============================] - 0s 3ms/step - loss: 1.0514 - mae: 0.6968 - val_loss: 1.0864 - val_mae: 0.7098\n",
            "Epoch 497/500\n",
            "120/120 [==============================] - 0s 4ms/step - loss: 1.0699 - mae: 0.7140 - val_loss: 1.0646 - val_mae: 0.7001\n",
            "Epoch 498/500\n",
            "120/120 [==============================] - 0s 4ms/step - loss: 1.0485 - mae: 0.6938 - val_loss: 1.0542 - val_mae: 0.6807\n",
            "Epoch 499/500\n",
            "120/120 [==============================] - 0s 3ms/step - loss: 1.1206 - mae: 0.7448 - val_loss: 1.1231 - val_mae: 0.7461\n",
            "Epoch 500/500\n",
            "120/120 [==============================] - 1s 4ms/step - loss: 1.0535 - mae: 0.6991 - val_loss: 1.0825 - val_mae: 0.6972\n",
            "INFO:tensorflow:Assets written to: saved_model/STM32_AI_Test/assets\n"
          ]
        }
      ]
    },
    {
      "cell_type": "markdown",
      "source": [
        "# Evaluate the training performance"
      ],
      "metadata": {
        "id": "hm2y2S51MH4s"
      }
    },
    {
      "cell_type": "code",
      "source": [
        "### Draw a graph of the loss, which is the distance between\n",
        "# the predicted and actual values during training and validation.\n",
        "train_loss = history_1.history['loss']\n",
        "val_loss = history_1.history['val_loss']\n",
        "\n",
        "epochs = range(1, len(train_loss) + 1)\n",
        "\n",
        "plt.plot(epochs, train_loss, 'g.', label='Training loss')\n",
        "plt.plot(epochs, val_loss, 'b', label='Validation loss')\n",
        "plt.title('Training and validation loss')\n",
        "plt.xlabel('Epochs')\n",
        "plt.ylabel('Loss')\n",
        "plt.legend()\n",
        "plt.show()"
      ],
      "metadata": {
        "id": "DO5sw9BxMK5E",
        "colab": {
          "base_uri": "https://localhost:8080/",
          "height": 295
        },
        "outputId": "01a18afa-771b-4102-f9d7-813f343adc7c"
      },
      "execution_count": null,
      "outputs": [
        {
          "output_type": "display_data",
          "data": {
            "text/plain": [
              "<Figure size 432x288 with 1 Axes>"
            ],
            "image/png": "[encoded data removed]"
          },
          "metadata": {
            "needs_background": "light"
          }
        }
      ]
    },
    {
      "cell_type": "code",
      "source": [
        "# evaluate the keras model\n",
        "_, accuracy = model_1.evaluate(y_validate, x_validate)\n",
        "print('Accuracy: %.2f' % (accuracy*100))"
      ],
      "metadata": {
        "colab": {
          "base_uri": "https://localhost:8080/"
        },
        "id": "kZ6rMEUZvYZ-",
        "outputId": "85b81747-38d6-4a8a-982a-80e9e896740c"
      },
      "execution_count": null,
      "outputs": [
        {
          "output_type": "stream",
          "name": "stdout",
          "text": [
            "63/63 [==============================] - 0s 2ms/step - loss: 1.0825 - mae: 0.6972\n",
            "Accuracy: 69.72\n"
          ]
        }
      ]
    },
    {
      "cell_type": "code",
      "metadata": {
        "id": "i13eVIT3B9Mj",
        "outputId": "6d142b62-7203-4ac3-a115-7c776bc4e274",
        "colab": {
          "base_uri": "https://localhost:8080/"
        }
      },
      "source": [
        "# Test a couple of waveforms\n",
        "# remember:\n",
        "#     y = waveforms\n",
        "#     x = truth parameters\n",
        "\n",
        "x_test = x_values[1]\n",
        "y_test = np.array(generateTemplate(position = x_test[0], pulse_length = x_test[1], height=x_test[2], noise=0))\n",
        "\n",
        "# waveform needs to be reshaped to be fed into ANN\n",
        "y_test = y_test.reshape(1,128)\n",
        "\n",
        "# try, whether we can reconstruct the parameters x_test from the waveform y_test\n",
        "model_1.make_predict_function()\n",
        "x_test_pred = np.array(model_1.predict(y_test)[0])\n",
        "\n",
        "print(\"sample pulse created: \", x_test)\n",
        "print(\"ANN reconstructed:    \", x_test_pred)"
      ],
      "execution_count": null,
      "outputs": [
        {
          "output_type": "stream",
          "name": "stdout",
          "text": [
            "sample pulse created:  [21 18 49]\n",
            "ANN reconstructed:     [20.678125 20.212816 49.485893]\n"
          ]
        }
      ]
    },
    {
      "cell_type": "markdown",
      "source": [
        "## Have a look at the reconstructed parameters\n",
        "\n",
        "Get some random pulses, and have a look how they are reconstructed by the network.\n"
      ],
      "metadata": {
        "id": "A0DU0ZLx59Z8"
      }
    },
    {
      "cell_type": "code",
      "source": [
        "# number of test waveforms\n",
        "TEST_SAMPLES = 1000"
      ],
      "metadata": {
        "id": "BDet8lS36gIz"
      },
      "execution_count": null,
      "outputs": []
    },
    {
      "cell_type": "code",
      "source": [
        "waveforms = []        # generated waveforms\n",
        "orig_parameters = []  # parameters, which are used for the generation\n",
        "NN_parameters = []    # parameters, reconstructed by the NN\n",
        "\n",
        "# vary the parameters to have a look a the performance outside the trained \n",
        "# parameter boundaries.\n",
        "parameter_variation = 0.1\n",
        "\n",
        "# increase the range of parameters in order to see, what is happening\n",
        "T_width    = ( P_width[0]    * (1 - parameter_variation) , P_width[1]    * (1 + parameter_variation) )\n",
        "T_position = ( P_position[0] * (1 - parameter_variation) , P_position[1] * (1 + parameter_variation) )\n",
        "T_height   = ( P_height[0]   * (1 - parameter_variation) , P_height[1]   * (1 + parameter_variation) )\n",
        "\n",
        "# generate the waveforms\n",
        "for i in range(TEST_SAMPLES):\n",
        "  # use random settings\n",
        "  width = np.random.randint( *T_width )\n",
        "  position = np.random.randint( *T_position )\n",
        "  height = np.random.randint( *T_height )\n",
        "\n",
        "  orig_parameters.append( (width, position, height) )\n",
        "  waveforms.append( np.array(generateTemplate(position = position, pulse_length = width, height=height, noise=noise) ) )"
      ],
      "metadata": {
        "id": "qvu48FbE6UTm"
      },
      "execution_count": null,
      "outputs": []
    },
    {
      "cell_type": "code",
      "source": [
        "for i in range(TEST_SAMPLES):\n",
        "  # waveform needs to be reshaped to be fed into ANN\n",
        "  waveform = waveforms[i].reshape(1,128)\n",
        "  NN_parameters.append( np.array( model_1.predict(waveform)[0]) )\n"
      ],
      "metadata": {
        "id": "IXDLAkyy6lrh"
      },
      "execution_count": null,
      "outputs": []
    },
    {
      "cell_type": "markdown",
      "source": [
        "Plot the distributions"
      ],
      "metadata": {
        "id": "GI7iIFsN7LMw"
      }
    },
    {
      "cell_type": "code",
      "source": [
        "plot_x = [k[0] for k in orig_parameters]\n",
        "plot_y = [k[0] for k in NN_parameters]\n",
        "plt.hist2d(plot_x, plot_y, bins=32, norm=LogNorm())\n",
        "plt.vlines(np.array(P_width),ymin=0, ymax=100)\n",
        "plt.plot( [np.min(plot_x), np.max(plot_x)], [np.min(plot_x), np.max(plot_x)])\n",
        "plt.title(\"width\")\n",
        "plt.ylabel(\"NN parameter\")\n",
        "plt.xlabel(\"truth parameter\")\n",
        "plt.show()"
      ],
      "metadata": {
        "colab": {
          "base_uri": "https://localhost:8080/",
          "height": 295
        },
        "id": "4abhDols7ORo",
        "outputId": "46ae8910-cdbc-495a-c4ba-034942e40838"
      },
      "execution_count": null,
      "outputs": [
        {
          "output_type": "display_data",
          "data": {
            "text/plain": [
              "<Figure size 432x288 with 1 Axes>"
            ],
            "image/png": "[encoded data removed]"
          },
          "metadata": {
            "needs_background": "light"
          }
        }
      ]
    },
    {
      "cell_type": "code",
      "source": [
        "plot_x = [k[1] for k in orig_parameters]\n",
        "plot_y = [k[1] for k in NN_parameters]\n",
        "plt.hist2d(plot_x, plot_y, bins=32, norm=LogNorm())\n",
        "plt.vlines(np.array(P_position),ymin=0, ymax=100)\n",
        "plt.plot( [np.min(plot_x), np.max(plot_x)], [np.min(plot_x), np.max(plot_x)])\n",
        "plt.title(\"postition\")\n",
        "plt.ylabel(\"NN parameter\")\n",
        "plt.xlabel(\"truth parameter\")\n",
        "plt.show()"
      ],
      "metadata": {
        "colab": {
          "base_uri": "https://localhost:8080/",
          "height": 295
        },
        "id": "ql9DsEfg72Px",
        "outputId": "2014b4d7-014f-414c-97d5-a53f59efdc8d"
      },
      "execution_count": null,
      "outputs": [
        {
          "output_type": "display_data",
          "data": {
            "text/plain": [
              "<Figure size 432x288 with 1 Axes>"
            ],
            "image/png": "[encoded data removed]"
          },
          "metadata": {
            "needs_background": "light"
          }
        }
      ]
    },
    {
      "cell_type": "code",
      "source": [
        "plot_x = [k[2] for k in orig_parameters]\n",
        "plot_y = [k[2] for k in NN_parameters]\n",
        "plt.hist2d(plot_x, plot_y, bins=32, norm=LogNorm())\n",
        "plt.vlines(np.array(P_height),ymin=0, ymax=1000)\n",
        "plt.plot( [np.min(plot_x), np.max(plot_x)], [np.min(plot_x), np.max(plot_x)])\n",
        "plt.title(\"height\")\n",
        "plt.ylabel(\"NN parameter\")\n",
        "plt.xlabel(\"truth parameter\")\n",
        "plt.show()"
      ],
      "metadata": {
        "colab": {
          "base_uri": "https://localhost:8080/",
          "height": 295
        },
        "id": "4Co7DGIk740X",
        "outputId": "8de3d5aa-c2c5-4f9b-b835-627cdb17203f"
      },
      "execution_count": null,
      "outputs": [
        {
          "output_type": "display_data",
          "data": {
            "text/plain": [
              "<Figure size 432x288 with 1 Axes>"
            ],
            "image/png": "[encoded data removed]"
          },
          "metadata": {
            "needs_background": "light"
          }
        }
      ]
    },
    {
      "cell_type": "markdown",
      "source": [
        "# What happens at zero input?\n",
        "What if the input array is all zero?"
      ],
      "metadata": {
        "id": "GQCZ_TBbD2cd"
      }
    },
    {
      "cell_type": "code",
      "source": [
        "# waveform needs to be reshaped to be fed into ANN\n",
        "waveform = np.zeros(128)\n",
        "waveform = waveform.reshape(1,128)\n",
        "print( model_1.predict(waveform)[0] )"
      ],
      "metadata": {
        "id": "bFAuP2x7EAWE",
        "colab": {
          "base_uri": "https://localhost:8080/"
        },
        "outputId": "af030b87-fe04-48cd-c07c-7b8660c40ebd"
      },
      "execution_count": null,
      "outputs": [
        {
          "output_type": "stream",
          "name": "stdout",
          "text": [
            "[23.270618  19.201511   0.5012354]\n"
          ]
        }
      ]
    },
    {
      "cell_type": "markdown",
      "source": [
        "# Export to STM32"
      ],
      "metadata": {
        "id": "rB2GEVaYSFSn"
      }
    },
    {
      "cell_type": "markdown",
      "source": [
        "following:\n",
        "This [tutorial](https://www.digikey.de/en/maker/projects/tinyml-getting-started-with-stm32-x-cube-ai/f94e1c8bfc1e4b6291d0f672d780d2c0) from DigiKey "
      ],
      "metadata": {
        "id": "NMQ5nDGrXHo_"
      }
    },
    {
      "cell_type": "code",
      "source": [
        "# settings\n",
        "tflite_model_name = 'pulse_reco'  # Will be given .tflite suffix\n",
        "c_model_name = 'pulse_reco'       # Will be given .h suffix"
      ],
      "metadata": {
        "id": "aL0G5NQ8YULj"
      },
      "execution_count": null,
      "outputs": []
    },
    {
      "cell_type": "code",
      "source": [
        "# Convert Keras model to a tflite model\n",
        "converter = tf.lite.TFLiteConverter.from_keras_model(model_1)\n",
        "converter.optimizations = [tf.lite.Optimize.DEFAULT]  # option OPTIMIZE_FOR_SIZE is deprecated\n",
        "tflite_model = converter.convert()\n",
        "\n",
        "open(tflite_model_name+'.tflite', 'wb').write(tflite_model)"
      ],
      "metadata": {
        "colab": {
          "base_uri": "https://localhost:8080/"
        },
        "id": "aRqSNF9LXy-4",
        "outputId": "9011b390-43d4-4cd1-a7a1-3ad7900e0466"
      },
      "execution_count": null,
      "outputs": [
        {
          "output_type": "stream",
          "name": "stdout",
          "text": [
            "INFO:tensorflow:Assets written to: /tmp/tmpgphk3eo3/assets\n"
          ]
        },
        {
          "output_type": "stream",
          "name": "stderr",
          "text": [
            "WARNING:absl:Buffer deduplication procedure will be skipped when flatbuffer library is not properly loaded\n"
          ]
        },
        {
          "output_type": "execute_result",
          "data": {
            "text/plain": [
              "13840"
            ]
          },
          "metadata": {},
          "execution_count": 26
        }
      ]
    },
    {
      "cell_type": "markdown",
      "source": [
        "For usage inside the [STM32Cube.AI](https://www.st.com/content/st_com/en/support/learning/stm32-education/stm32-moocs/Introduction_to_STM32CubeAI_MOOC.html) it is sufficient to just have the tensorflow light model. The special export seems not be needed."
      ],
      "metadata": {
        "id": "oF93jw-v-FMP"
      }
    },
    {
      "cell_type": "markdown",
      "source": [
        "We have to define a special function, which exports our data into a H-file, which can be later used and included into our microcontroller code.\n",
        "\n",
        "The function is from https://gist.github.com/ShawnHymel/79237fe6aee5a3653c497d879f746c0c"
      ],
      "metadata": {
        "id": "tQG-2XJIZkFU"
      }
    },
    {
      "cell_type": "markdown",
      "source": [
        "## Test the TFlite model"
      ],
      "metadata": {
        "id": "gt7YY5yMGLrD"
      }
    },
    {
      "cell_type": "code",
      "source": [
        "# Load the TFLite model and allocate tensors.\n",
        "interpreter = tf.lite.Interpreter(model_path=tflite_model_name+\".tflite\")\n",
        "interpreter.allocate_tensors()\n",
        "\n",
        "# Get input and output tensors.\n",
        "input_details = interpreter.get_input_details()\n",
        "output_details = interpreter.get_output_details()\n",
        "\n",
        "# Test the model on random input data.\n",
        "input_shape = input_details[0]['shape']\n",
        "\n",
        "input_data = np.array( y_test, dtype=np.float32)\n",
        "interpreter.set_tensor(input_details[0]['index'], input_data)\n",
        "\n",
        "interpreter.invoke()\n",
        "\n",
        "output_data = interpreter.get_tensor(output_details[0]['index'])[0]\n",
        "\n",
        "print(\"sample pulse created:    \", x_test)\n",
        "print(\"TFlite reconstructed:    \", output_data)"
      ],
      "metadata": {
        "colab": {
          "base_uri": "https://localhost:8080/"
        },
        "id": "a_k8NQt_GRop",
        "outputId": "98804009-b779-4077-fb7a-f2b96be55b87"
      },
      "execution_count": null,
      "outputs": [
        {
          "output_type": "stream",
          "name": "stdout",
          "text": [
            "sample pulse created:     [21 18 49]\n",
            "TFlite reconstructed:     [20.587124 20.185019 49.58843 ]\n"
          ]
        }
      ]
    },
    {
      "cell_type": "markdown",
      "source": [
        "# Use quantization aware training\n",
        "Translate the model into int8 and fine tune it. Then export it again for STM32"
      ],
      "metadata": {
        "id": "tFnSEZxL3doj"
      }
    },
    {
      "cell_type": "markdown",
      "source": [
        "## Install all prerequisites"
      ],
      "metadata": {
        "id": "uwU7nN8044Ps"
      }
    },
    {
      "cell_type": "code",
      "source": [
        " !pip install -q tensorflow\n",
        " !pip install -q tensorflow-model-optimization"
      ],
      "metadata": {
        "colab": {
          "base_uri": "https://localhost:8080/"
        },
        "id": "o9HT1fOE4QhG",
        "outputId": "004998ce-01ed-4cf6-c46f-1849d26814ef"
      },
      "execution_count": null,
      "outputs": [
        {
          "output_type": "stream",
          "name": "stdout",
          "text": [
            "\u001b[K     |████████████████████████████████| 462 kB 5.5 MB/s \n",
            "\u001b[K     |████████████████████████████████| 234 kB 5.3 MB/s \n",
            "\u001b[?25h"
          ]
        }
      ]
    },
    {
      "cell_type": "markdown",
      "source": [
        "## Convert the model into a quantization aware one"
      ],
      "metadata": {
        "id": "GKux72Hn48S1"
      }
    },
    {
      "cell_type": "code",
      "source": [
        "import tensorflow_model_optimization as tfmot\n",
        "\n",
        "quantize_model = tfmot.quantization.keras.quantize_model\n",
        "\n",
        "# q_aware stands for for quantization aware.\n",
        "q_aware_model = quantize_model(model_1)\n",
        "\n",
        "# `quantize_model` requires a recompile.\n",
        "#q_aware_model.compile(optimizer='adam', loss='mse', metrics=['mae'])\n",
        "\n",
        "q_aware_model.compile(optimizer='adam',\n",
        "              loss='mse',\n",
        "              metrics=['accuracy'])\n",
        "\n",
        "q_aware_model.summary()\n"
      ],
      "metadata": {
        "colab": {
          "base_uri": "https://localhost:8080/"
        },
        "id": "hTiWONeb3dQe",
        "outputId": "72973deb-2572-4368-ae06-ac6ad73d7af8"
      },
      "execution_count": null,
      "outputs": [
        {
          "output_type": "stream",
          "name": "stdout",
          "text": [
            "Model: \"model\"\n",
            "_________________________________________________________________\n",
            " Layer (type)                Output Shape              Param #   \n",
            "=================================================================\n",
            " waveform_input (InputLayer)  [(None, 128)]            0         \n",
            "                                                                 \n",
            " quantize_layer (QuantizeLay  (None, 128)              3         \n",
            " er)                                                             \n",
            "                                                                 \n",
            " quant_layer_0 (QuantizeWrap  (None, 64)               8261      \n",
            " perV2)                                                          \n",
            "                                                                 \n",
            " quant_layer_1 (QuantizeWrap  (None, 32)               2085      \n",
            " perV2)                                                          \n",
            "                                                                 \n",
            " quant_layer_2 (QuantizeWrap  (None, 32)               1061      \n",
            " perV2)                                                          \n",
            "                                                                 \n",
            " quant_classification (Quant  (None, 3)                104       \n",
            " izeWrapperV2)                                                   \n",
            "                                                                 \n",
            "=================================================================\n",
            "Total params: 11,514\n",
            "Trainable params: 11,491\n",
            "Non-trainable params: 23\n",
            "_________________________________________________________________\n"
          ]
        }
      ]
    },
    {
      "cell_type": "markdown",
      "source": [
        "## Do a short training to finetune the model"
      ],
      "metadata": {
        "id": "LBpPcGhKHnHm"
      }
    },
    {
      "cell_type": "code",
      "source": [
        "history_q = q_aware_model.fit(y_train, x_train, batch_size=50, epochs=10, validation_split=0.1)"
      ],
      "metadata": {
        "colab": {
          "base_uri": "https://localhost:8080/"
        },
        "id": "CkLWrWNs39gD",
        "outputId": "6cbc19f8-2477-41c2-c707-c5cb0fb9557b"
      },
      "execution_count": null,
      "outputs": [
        {
          "output_type": "stream",
          "name": "stdout",
          "text": [
            "Epoch 1/10\n",
            "108/108 [==============================] - 0s 3ms/step - loss: 13.0552 - accuracy: 1.0000 - val_loss: 10.3368 - val_accuracy: 1.0000\n",
            "Epoch 2/10\n",
            "108/108 [==============================] - 0s 3ms/step - loss: 8.6237 - accuracy: 1.0000 - val_loss: 5.8032 - val_accuracy: 1.0000\n",
            "Epoch 3/10\n",
            "108/108 [==============================] - 0s 4ms/step - loss: 5.7229 - accuracy: 1.0000 - val_loss: 3.9649 - val_accuracy: 1.0000\n",
            "Epoch 4/10\n",
            "108/108 [==============================] - 0s 3ms/step - loss: 4.1082 - accuracy: 1.0000 - val_loss: 3.0680 - val_accuracy: 1.0000\n",
            "Epoch 5/10\n",
            "108/108 [==============================] - 0s 3ms/step - loss: 3.3236 - accuracy: 1.0000 - val_loss: 2.3431 - val_accuracy: 1.0000\n",
            "Epoch 6/10\n",
            "108/108 [==============================] - 0s 3ms/step - loss: 2.4614 - accuracy: 1.0000 - val_loss: 1.9965 - val_accuracy: 1.0000\n",
            "Epoch 7/10\n",
            "108/108 [==============================] - 0s 3ms/step - loss: 2.0851 - accuracy: 1.0000 - val_loss: 1.8056 - val_accuracy: 1.0000\n",
            "Epoch 8/10\n",
            "108/108 [==============================] - 0s 3ms/step - loss: 1.9539 - accuracy: 1.0000 - val_loss: 1.5017 - val_accuracy: 1.0000\n",
            "Epoch 9/10\n",
            "108/108 [==============================] - 0s 3ms/step - loss: 2.1373 - accuracy: 1.0000 - val_loss: 2.2837 - val_accuracy: 1.0000\n",
            "Epoch 10/10\n",
            "108/108 [==============================] - 0s 3ms/step - loss: 1.4953 - accuracy: 1.0000 - val_loss: 1.4384 - val_accuracy: 1.0000\n"
          ]
        }
      ]
    },
    {
      "cell_type": "code",
      "source": [
        "### Draw a graph of the loss, which is the distance between\n",
        "# the predicted and actual values during training and validation.\n",
        "q_train_loss = history_q.history['loss']\n",
        "q_val_loss = history_q.history['val_loss']\n",
        "\n",
        "epochs = range(1, len(q_train_loss) + 1)\n",
        "\n",
        "plt.plot(epochs, q_train_loss, 'g.', label='Training loss')\n",
        "plt.plot(epochs, q_val_loss, 'b', label='Validation loss')\n",
        "plt.title('Training and validation loss (quantization)')\n",
        "plt.xlabel('Epochs')\n",
        "plt.ylabel('Loss')\n",
        "plt.legend()\n",
        "plt.show()"
      ],
      "metadata": {
        "colab": {
          "base_uri": "https://localhost:8080/",
          "height": 295
        },
        "id": "IsWlym2x94gX",
        "outputId": "d300a443-72c2-460d-c2d5-2b283319d4aa"
      },
      "execution_count": null,
      "outputs": [
        {
          "output_type": "display_data",
          "data": {
            "text/plain": [
              "<Figure size 432x288 with 1 Axes>"
            ],
            "image/png": "[encoded data removed]"
          },
          "metadata": {
            "needs_background": "light"
          }
        }
      ]
    },
    {
      "cell_type": "code",
      "source": [
        "# Convert Keras model to a tflite model\n",
        "converter = tf.lite.TFLiteConverter.from_keras_model(q_aware_model)\n",
        "converter.optimizations = [tf.lite.Optimize.DEFAULT]  # option OPTIMIZE_FOR_SIZE is deprecated\n",
        "tflite_model = converter.convert()\n",
        "\n",
        "open(tflite_model_name+'_qaware'+'.tflite', 'wb').write(tflite_model)"
      ],
      "metadata": {
        "colab": {
          "base_uri": "https://localhost:8080/"
        },
        "id": "u5-3BSKo54sy",
        "outputId": "c0ff3090-2ed9-46fd-f92e-bdb3e2148854"
      },
      "execution_count": null,
      "outputs": [
        {
          "output_type": "stream",
          "name": "stderr",
          "text": [
            "WARNING:absl:Found untraced functions such as layer_0_layer_call_fn, layer_0_layer_call_and_return_conditional_losses, layer_1_layer_call_fn, layer_1_layer_call_and_return_conditional_losses, layer_2_layer_call_fn while saving (showing 5 of 8). These functions will not be directly callable after loading.\n"
          ]
        },
        {
          "output_type": "stream",
          "name": "stdout",
          "text": [
            "INFO:tensorflow:Assets written to: /tmp/tmp0ov2idoc/assets\n"
          ]
        },
        {
          "output_type": "stream",
          "name": "stderr",
          "text": [
            "INFO:tensorflow:Assets written to: /tmp/tmp0ov2idoc/assets\n",
            "/usr/local/lib/python3.7/dist-packages/tensorflow/lite/python/convert.py:746: UserWarning: Statistics for quantized inputs were expected, but not specified; continuing anyway.\n",
            "  warnings.warn(\"Statistics for quantized inputs were expected, but not \"\n",
            "WARNING:absl:Buffer deduplication procedure will be skipped when flatbuffer library is not properly loaded\n"
          ]
        },
        {
          "output_type": "execute_result",
          "data": {
            "text/plain": [
              "15008"
            ]
          },
          "metadata": {},
          "execution_count": 55
        }
      ]
    },
    {
      "cell_type": "code",
      "source": [
        "interpreter = tf.lite.Interpreter(model_content=tflite_model)\n",
        "\n",
        "input_type = interpreter.get_input_details()[0]['dtype']\n",
        "print('input dtype:  ', input_type)\n",
        "output_type = interpreter.get_output_details()[0]['dtype']\n",
        "print('output dtype: ', output_type)"
      ],
      "metadata": {
        "colab": {
          "base_uri": "https://localhost:8080/"
        },
        "id": "8hmZXlESFehe",
        "outputId": "f9f53868-b6dd-476b-9641-80924169ccbc"
      },
      "execution_count": null,
      "outputs": [
        {
          "output_type": "stream",
          "name": "stdout",
          "text": [
            "input dtype:   <class 'numpy.float32'>\n",
            "output dtype:  <class 'numpy.float32'>\n"
          ]
        }
      ]
    },
    {
      "cell_type": "markdown",
      "source": [
        "## Check quantization aware model"
      ],
      "metadata": {
        "id": "Id73GTUO6WnJ"
      }
    },
    {
      "cell_type": "code",
      "source": [
        "_, baseline_model_accuracy = model_1.evaluate(\n",
        "    y_validate, x_validate, verbose=0)\n",
        "\n",
        "_, q_aware_model_accuracy = q_aware_model.evaluate(\n",
        "   y_validate, x_validate, verbose=0)\n",
        "\n",
        "print('Baseline test accuracy:', baseline_model_accuracy)\n",
        "print('Quant test accuracy:   ', q_aware_model_accuracy)"
      ],
      "metadata": {
        "colab": {
          "base_uri": "https://localhost:8080/"
        },
        "id": "_PW-1LPY6fNK",
        "outputId": "21125ee3-d2a6-46c9-b7cb-9fe2c87fab37"
      },
      "execution_count": null,
      "outputs": [
        {
          "output_type": "stream",
          "name": "stdout",
          "text": [
            "Baseline test accuracy: 0.6972407698631287\n",
            "Quant test accuracy:    1.0\n"
          ]
        }
      ]
    },
    {
      "cell_type": "code",
      "source": [
        "qx_test_pred = np.array( q_aware_model.predict(y_test)[0])\n",
        "x_test_pred  = np.array( model_1.predict(y_test)[0])\n",
        "\n",
        "print(\"sample pulse created:    \", x_test)\n",
        "print(\"ANN reconstructed:       \", x_test_pred)\n",
        "print(\"ANN quant reconstructed: \", qx_test_pred)"
      ],
      "metadata": {
        "colab": {
          "base_uri": "https://localhost:8080/"
        },
        "id": "Gn8rG0Tb61ha",
        "outputId": "a5a60068-03f3-497f-ea73-9d57c306edcc"
      },
      "execution_count": null,
      "outputs": [
        {
          "output_type": "stream",
          "name": "stdout",
          "text": [
            "sample pulse created:     [21 18 49]\n",
            "ANN reconstructed:        [20.678125 20.212816 49.485893]\n",
            "ANN quant reconstructed:  [20.646603 21.126755 49.455814]\n"
          ]
        }
      ]
    },
    {
      "cell_type": "markdown",
      "source": [
        "## Test the qaware TFlite model\n"
      ],
      "metadata": {
        "id": "JtziZiqwGBuj"
      }
    },
    {
      "cell_type": "code",
      "source": [
        "# Load the TFLite model and allocate tensors.\n",
        "interpreter = tf.lite.Interpreter(model_path=tflite_model_name+'_qaware'+\".tflite\")\n",
        "interpreter.allocate_tensors()\n",
        "\n",
        "# Get input and output tensors.\n",
        "input_details = interpreter.get_input_details()\n",
        "output_details = interpreter.get_output_details()\n",
        "\n",
        "# Test the model on random input data.\n",
        "input_shape = input_details[0]['shape']\n",
        "\n",
        "input_type = interpreter.get_input_details()[0]['dtype']\n",
        "print('input dtype:  ', input_type)\n",
        "output_type = interpreter.get_output_details()[0]['dtype']\n",
        "print('output dtype: ', output_type)\n",
        "print()\n",
        "\n",
        "input_data = np.array( y_test, dtype=np.float32)\n",
        "interpreter.set_tensor(input_details[0]['index'], input_data)\n",
        "\n",
        "interpreter.invoke()\n",
        "\n",
        "output_data = interpreter.get_tensor(output_details[0]['index'])[0]\n",
        "print(output_data)"
      ],
      "metadata": {
        "colab": {
          "base_uri": "https://localhost:8080/"
        },
        "id": "r38C3nCuA5E_",
        "outputId": "5f9998a3-5864-46bd-ef69-9e72e05371aa"
      },
      "execution_count": 66,
      "outputs": [
        {
          "output_type": "stream",
          "name": "stdout",
          "text": [
            "input dtype:   <class 'numpy.float32'>\n",
            "output dtype:  <class 'numpy.float32'>\n",
            "\n",
            "[20.166449 20.166449 48.97566 ]\n"
          ]
        }
      ]
    }
  ]
}