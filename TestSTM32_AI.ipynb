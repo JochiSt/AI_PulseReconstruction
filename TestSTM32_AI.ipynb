{
  "nbformat": 4,
  "nbformat_minor": 0,
  "metadata": {
    "colab": {
      "name": "TestSTM32_AI.ipynb",
      "provenance": [],
      "collapsed_sections": [],
      "authorship_tag": "ABX9TyNMnNstXH2EWX9qMlHIQPdl",
      "include_colab_link": true
    },
    "kernelspec": {
      "name": "python3",
      "display_name": "Python 3"
    },
    "language_info": {
      "name": "python"
    }
  },
  "cells": [
    {
      "cell_type": "markdown",
      "metadata": {
        "id": "view-in-github",
        "colab_type": "text"
      },
      "source": [
        "<a href=\"https://colab.research.google.com/github/JochiSt/AI_PulseReconstruction/blob/main/TestSTM32_AI.ipynb\" target=\"_parent\"><img src=\"https://colab.research.google.com/assets/colab-badge.svg\" alt=\"Open In Colab\"/></a>"
      ]
    },
    {
      "cell_type": "markdown",
      "source": [
        "# Pulse recognition AI\n",
        "\n",
        "first all the imports"
      ],
      "metadata": {
        "id": "brM0YAG3Vcen"
      }
    },
    {
      "cell_type": "code",
      "execution_count": 1,
      "metadata": {
        "id": "dW80rxgzVZ8z"
      },
      "outputs": [],
      "source": [
        "import numpy as np\n",
        "import matplotlib.pyplot as plt\n",
        "from matplotlib.colors import LogNorm"
      ]
    },
    {
      "cell_type": "markdown",
      "source": [
        "## Generate template"
      ],
      "metadata": {
        "id": "XUxegHb0V0qN"
      }
    },
    {
      "cell_type": "code",
      "source": [
        "TOTAL_SAMPLES = 128\n",
        "RISING_POINTS = 4\n",
        "\n",
        "def generateTemplate(position = 0, pulse_length = 32, height=1, noise=0):\n",
        "\n",
        "  assert TOTAL_SAMPLES - pulse_length - position - RISING_POINTS * 2 > 0\n",
        "\n",
        "  # zeroes at front of the pulse\n",
        "  template = np.zeros(position)\n",
        "\n",
        "  # create rising edge\n",
        "  template = np.append(template, np.linspace(0,1,RISING_POINTS, endpoint=False))\n",
        "\n",
        "  # high part of the pulse\n",
        "  template = np.append(template, np.ones(pulse_length))\n",
        "\n",
        "  # create falling edge\n",
        "  template = np.append(template, np.linspace(1,0,RISING_POINTS, endpoint=False))\n",
        "\n",
        "  # zeroes after the pulse\n",
        "  template = np.append(template, np.zeros( TOTAL_SAMPLES - pulse_length - position - 2*RISING_POINTS))\n",
        "\n",
        "  # multiply by the height to get the right amplitude\n",
        "  template *= height\n",
        "\n",
        "  # add some noise\n",
        "  template  += noise * np.random.randn(*template.shape)\n",
        "\n",
        "  # convert to integer\n",
        "  template = template.astype(int)\n",
        "\n",
        "  return template\n",
        "\n",
        "print(\"template length: \", len(generateTemplate()))"
      ],
      "metadata": {
        "colab": {
          "base_uri": "https://localhost:8080/"
        },
        "id": "RPOJ8P9jWBRa",
        "outputId": "a8ca6afa-e311-4593-c741-91bd330c316c"
      },
      "execution_count": 2,
      "outputs": [
        {
          "output_type": "stream",
          "name": "stdout",
          "text": [
            "template length:  128\n"
          ]
        }
      ]
    },
    {
      "cell_type": "markdown",
      "source": [
        "Have a look at the template visually"
      ],
      "metadata": {
        "id": "I1PFw1tzV8kx"
      }
    },
    {
      "cell_type": "code",
      "source": [
        "plt.plot(generateTemplate(position = 32, pulse_length=32, height=128), 'b.')\n",
        "plt.plot(generateTemplate(position = 16, pulse_length=64, height=128), 'r.')\n",
        "plt.show()"
      ],
      "metadata": {
        "colab": {
          "base_uri": "https://localhost:8080/",
          "height": 265
        },
        "id": "L1VUYDhUWw9t",
        "outputId": "d72911db-5e6b-4843-ee4e-668d1c707c90"
      },
      "execution_count": 3,
      "outputs": [
        {
          "output_type": "display_data",
          "data": {
            "image/png": "[encoded data removed]",
            "text/plain": [
              "<Figure size 432x288 with 1 Axes>"
            ]
          },
          "metadata": {
            "needs_background": "light"
          }
        }
      ]
    },
    {
      "cell_type": "markdown",
      "source": [
        "add some noise, and maybe shift the position\n",
        "\n",
        "\n",
        "\n"
      ],
      "metadata": {
        "id": "kYBulwl2XGvg"
      }
    },
    {
      "cell_type": "code",
      "source": [
        "# Plot our data\n",
        "plt.plot(generateTemplate(height=128, noise=1), 'b.')\n",
        "plt.show()"
      ],
      "metadata": {
        "id": "ouyegrmBXGJg",
        "colab": {
          "base_uri": "https://localhost:8080/",
          "height": 265
        },
        "outputId": "4a67ac5c-57b1-440c-e49b-2d9f0801e543"
      },
      "execution_count": 4,
      "outputs": [
        {
          "output_type": "display_data",
          "data": {
            "image/png": "[encoded data removed]",
            "text/plain": [
              "<Figure size 432x288 with 1 Axes>"
            ]
          },
          "metadata": {
            "needs_background": "light"
          }
        }
      ]
    },
    {
      "cell_type": "markdown",
      "source": [
        "## Create Templates for recognision\n",
        "\n",
        "Generate a couple of templates, which have a pulse in them, and some without any data"
      ],
      "metadata": {
        "id": "u1emwvE7ogUq"
      }
    },
    {
      "cell_type": "code",
      "source": [
        "for i in range(10):\n",
        "  width = np.random.randint(16, 64)               # width of 16 to 64\n",
        "  position = np.random.randint(0, high=96-width) # arbitrary position\n",
        "  noise = np.random.randint(1,30)/10.             # 0.1 to 3 LSB noise\n",
        "  height = np.random.randint(32,128)              # pulse height of 32 to 128\n",
        "\n",
        "  print(position, width, noise, height)\n",
        "  plt.plot(generateTemplate(position = position, pulse_length = width, height=height, noise=noise))\n",
        "\n",
        "plt.show()"
      ],
      "metadata": {
        "colab": {
          "base_uri": "https://localhost:8080/",
          "height": 449
        },
        "id": "1bzxxYb7odBS",
        "outputId": "3a4ded35-d723-4f40-e44e-3e277dcd8dd1"
      },
      "execution_count": 5,
      "outputs": [
        {
          "output_type": "stream",
          "name": "stdout",
          "text": [
            "57 34 0.1 46\n",
            "67 23 0.4 87\n",
            "28 51 2.2 40\n",
            "30 32 2.9 75\n",
            "10 49 1.9 38\n",
            "37 36 2.5 75\n",
            "60 34 0.3 94\n",
            "0 62 0.8 99\n",
            "43 45 1.9 87\n",
            "47 35 1.9 88\n"
          ]
        },
        {
          "output_type": "display_data",
          "data": {
            "image/png": "[encoded data removed]",
            "text/plain": [
              "<Figure size 432x288 with 1 Axes>"
            ]
          },
          "metadata": {
            "needs_background": "light"
          }
        }
      ]
    },
    {
      "cell_type": "markdown",
      "source": [
        "# Building the ANN\n"
      ],
      "metadata": {
        "id": "gEwEaXGCzATx"
      }
    },
    {
      "cell_type": "markdown",
      "source": [
        "### Purpose of the ANN\n",
        "We want to do Pattern Recognition, based on the waveforms shown above.\n",
        "\n",
        "The output parameters, which we want to reconstruct are:\n",
        "*   Width\n",
        "*   Position\n",
        "*   height\n"
      ],
      "metadata": {
        "id": "xAJs9gcpMi9V"
      }
    },
    {
      "cell_type": "markdown",
      "source": [
        "Starting with importing all things, which we need for creating a model"
      ],
      "metadata": {
        "id": "ffHEzdBezI__"
      }
    },
    {
      "cell_type": "code",
      "source": [
        "# TensorFlow is an open source machine learning library\n",
        "import tensorflow as tf\n",
        "# Keras is TensorFlow's high-level API for deep learning\n",
        "from tensorflow import keras"
      ],
      "metadata": {
        "id": "AVbyQZoBzNxw"
      },
      "execution_count": 6,
      "outputs": []
    },
    {
      "cell_type": "code",
      "source": [
        "# number of samples for training, testing etc.\n",
        "SAMPLES = 10000"
      ],
      "metadata": {
        "id": "_2mfaOUkzo12"
      },
      "execution_count": 7,
      "outputs": []
    },
    {
      "cell_type": "markdown",
      "source": [
        "## Generate the samples\n",
        "We want to do Pattern recognition, so we have to link the waveforms to the input parameters."
      ],
      "metadata": {
        "id": "UCMepv3tzyM9"
      }
    },
    {
      "cell_type": "code",
      "source": [
        "# parameters for template generation\n",
        "P_width = (16,32)\n",
        "P_position = (16,24)\n",
        "P_height = (32, 128)"
      ],
      "metadata": {
        "id": "-g8CSmkVHUvM"
      },
      "execution_count": 8,
      "outputs": []
    },
    {
      "cell_type": "code",
      "source": [
        "# use fixed value for noise (1st try)\n",
        "noise = 1 \n",
        "\n",
        "y_values = []\n",
        "x_values = []\n",
        "\n",
        "# generate the waveforms\n",
        "for i in range(SAMPLES):\n",
        "  # use random settings\n",
        "  width = np.random.randint( *P_width )       # width\n",
        "  position = np.random.randint( *P_position ) # limit position into a certain window\n",
        "  height = np.random.randint( *P_height )     # pulse height\n",
        "\n",
        "  x_values.append( (width, position, height) )\n",
        "  y_values.append( generateTemplate(position = position, pulse_length = width, height=height, noise=noise) )\n",
        "\n",
        "# debug printouts\n",
        "#print(x_values[:2])\n",
        "#print(y_values[:2])"
      ],
      "metadata": {
        "id": "6uUa9b2pzviJ"
      },
      "execution_count": 9,
      "outputs": []
    },
    {
      "cell_type": "markdown",
      "source": [
        "### Look at the training data\n",
        "Just make a 2D histogram of all templates."
      ],
      "metadata": {
        "id": "M54DYG8PLBYg"
      }
    },
    {
      "cell_type": "code",
      "source": [
        "if True:\n",
        "  plot_x = [ np.arange(128) for i in range(len(y_values)) ]\n",
        "  plot_x = np.array(plot_x)\n",
        "  plot_x = plot_x.flatten()\n",
        "  plot_y = np.array(y_values)\n",
        "  plot_y = plot_y.flatten()\n",
        "  plt.hist2d(plot_x, plot_y, bins=128, norm=LogNorm())\n",
        "  plt.show()"
      ],
      "metadata": {
        "colab": {
          "base_uri": "https://localhost:8080/",
          "height": 265
        },
        "id": "oc_SbOCaLKKe",
        "outputId": "8134e08d-3a8e-4505-f797-23c69ac29522"
      },
      "execution_count": 10,
      "outputs": [
        {
          "output_type": "display_data",
          "data": {
            "image/png": "[encoded data removed]",
            "text/plain": [
              "<Figure size 432x288 with 1 Axes>"
            ]
          },
          "metadata": {
            "needs_background": "light"
          }
        }
      ]
    },
    {
      "cell_type": "markdown",
      "source": [
        "## Split the waveforms into Training, Testing and Validation"
      ],
      "metadata": {
        "id": "uxBiOKO90JG_"
      }
    },
    {
      "cell_type": "code",
      "source": [
        "# We'll use 60% of our data for training and 20% for testing. The remaining 20%\n",
        "# will be used for validation. Calculate the indices of each section.\n",
        "TRAIN_SPLIT =  int(0.6 * SAMPLES)\n",
        "TEST_SPLIT = int(0.2 * SAMPLES + TRAIN_SPLIT)\n",
        "print(\"using %d points for training and %d points for testing\"%(TRAIN_SPLIT, TEST_SPLIT))\n",
        "\n",
        "# convert data into numpy arrays\n",
        "y_values = np.array(y_values) # parameters\n",
        "x_values = np.array(x_values) # waveforms\n",
        "\n",
        "# Use np.split to chop our data into three parts.\n",
        "# The second argument to np.split is an array of indices where the data will be\n",
        "# split. We provide two indices, so the data will be divided into three chunks.\n",
        "x_train, x_test, x_validate = np.split(x_values, [TRAIN_SPLIT, TEST_SPLIT])\n",
        "y_train, y_test, y_validate = np.split(y_values, [TRAIN_SPLIT, TEST_SPLIT])\n",
        "\n",
        "# Double check that our splits add up correctly\n",
        "assert (len(x_train) + len(x_validate) + len(x_test) ) ==  SAMPLES"
      ],
      "metadata": {
        "id": "_gxWfkRezVf3",
        "colab": {
          "base_uri": "https://localhost:8080/"
        },
        "outputId": "272b1719-b369-4b96-9af5-394df674c8c3"
      },
      "execution_count": 11,
      "outputs": [
        {
          "output_type": "stream",
          "name": "stdout",
          "text": [
            "using 6000 points for training and 8000 points for testing\n"
          ]
        }
      ]
    },
    {
      "cell_type": "markdown",
      "source": [
        "## Create the ANN"
      ],
      "metadata": {
        "id": "tfIC4_-l0Cc4"
      }
    },
    {
      "cell_type": "code",
      "source": [
        "inputs = keras.Input(shape=(128,), name=\"waveform_input\")\n",
        "\n",
        "layer_cnt=0\n",
        "x = keras.layers.Dense(64, name=\"layer_%d\"%(layer_cnt))(inputs)\n",
        "layer_cnt+=1\n",
        "\n",
        "x = keras.layers.Dense(32, name=\"layer_%d\"%(layer_cnt))(x)\n",
        "layer_cnt+=1\n",
        "\n",
        "# x = keras.layers.Dense(32, name=\"layer_%d\"%(layer_cnt))(x)\n",
        "# layer_cnt+=1\n",
        "\n",
        "x = keras.layers.Dense(32,  name=\"layer_%d\"%(layer_cnt))(x)\n",
        "layer_cnt+=1\n",
        "\n",
        "# final layer for classification\n",
        "outputs = keras.layers.Dense(3, name=\"classification\")(x)\n",
        "\n",
        "model_1 = keras.Model(inputs=inputs, outputs=outputs)\n",
        "model_1.summary()\n",
        "\n",
        "# Compile the model using the standard 'adam' optimizer and the mean squared error or 'mse' loss function for regression.\n",
        "model_1.compile(optimizer='adam', loss='mse', metrics=['mae'])"
      ],
      "metadata": {
        "id": "FbTg1F3s0BTe",
        "colab": {
          "base_uri": "https://localhost:8080/"
        },
        "outputId": "d50ab2c6-492b-4a5a-d164-abfe0d7346b8"
      },
      "execution_count": 12,
      "outputs": [
        {
          "output_type": "stream",
          "name": "stdout",
          "text": [
            "Model: \"model\"\n",
            "_________________________________________________________________\n",
            " Layer (type)                Output Shape              Param #   \n",
            "=================================================================\n",
            " waveform_input (InputLayer)  [(None, 128)]            0         \n",
            "                                                                 \n",
            " layer_0 (Dense)             (None, 64)                8256      \n",
            "                                                                 \n",
            " layer_1 (Dense)             (None, 32)                2080      \n",
            "                                                                 \n",
            " layer_2 (Dense)             (None, 32)                1056      \n",
            "                                                                 \n",
            " classification (Dense)      (None, 3)                 99        \n",
            "                                                                 \n",
            "=================================================================\n",
            "Total params: 11,491\n",
            "Trainable params: 11,491\n",
            "Non-trainable params: 0\n",
            "_________________________________________________________________\n"
          ]
        }
      ]
    },
    {
      "cell_type": "markdown",
      "source": [
        "## Train the model"
      ],
      "metadata": {
        "id": "hjz2ghXbL9Ok"
      }
    },
    {
      "cell_type": "code",
      "source": [
        "# Train the model on our training data while validating on our validation set\n",
        "# remember:\n",
        "#     y = waveforms\n",
        "#     x = truth parameters\n",
        "# just do some trainings to see, whether this structure works or not\n",
        "\n",
        "history_1 = model_1.fit(y_train, x_train, epochs=4, batch_size=25, validation_data=(y_validate, x_validate))"
      ],
      "metadata": {
        "colab": {
          "base_uri": "https://localhost:8080/"
        },
        "id": "Zsx72tmvxNnj",
        "outputId": "eb379b82-a192-4cc0-8d10-5147204ea3be"
      },
      "execution_count": 13,
      "outputs": [
        {
          "output_type": "stream",
          "name": "stdout",
          "text": [
            "Epoch 1/4\n",
            "240/240 [==============================] - 1s 3ms/step - loss: 120.7357 - mae: 6.8891 - val_loss: 36.8660 - val_mae: 4.7077\n",
            "Epoch 2/4\n",
            "240/240 [==============================] - 1s 2ms/step - loss: 36.9968 - mae: 4.6592 - val_loss: 32.5369 - val_mae: 4.2967\n",
            "Epoch 3/4\n",
            "240/240 [==============================] - 1s 2ms/step - loss: 31.4660 - mae: 4.2352 - val_loss: 29.1155 - val_mae: 4.1117\n",
            "Epoch 4/4\n",
            "240/240 [==============================] - 1s 2ms/step - loss: 27.7609 - mae: 3.9744 - val_loss: 23.3749 - val_mae: 3.5828\n"
          ]
        }
      ]
    },
    {
      "cell_type": "code",
      "source": [
        "# fully train the network\n",
        "history_1 = model_1.fit(y_train, x_train, epochs=500, batch_size=50, validation_data=(y_validate, x_validate))\n",
        "\n",
        "# Save the model to disk\n",
        "!mkdir -p saved_model\n",
        "model_1.save('saved_model/STM32_AI_Test')"
      ],
      "metadata": {
        "colab": {
          "base_uri": "https://localhost:8080/"
        },
        "id": "xMQfeuZ_L7QU",
        "outputId": "aa7e9157-fd92-4bb1-b713-2a7132706b6f"
      },
      "execution_count": 14,
      "outputs": [
        {
          "output_type": "stream",
          "name": "stdout",
          "text": [
            "Epoch 1/500\n",
            "120/120 [==============================] - 1s 4ms/step - loss: 22.4767 - mae: 3.5066 - val_loss: 22.2976 - val_mae: 3.5501\n",
            "Epoch 2/500\n",
            "120/120 [==============================] - 0s 4ms/step - loss: 19.9426 - mae: 3.3024 - val_loss: 17.6673 - val_mae: 3.0755\n",
            "Epoch 3/500\n",
            "120/120 [==============================] - 0s 3ms/step - loss: 19.2055 - mae: 3.2849 - val_loss: 16.3869 - val_mae: 2.9324\n",
            "Epoch 4/500\n",
            "120/120 [==============================] - 0s 3ms/step - loss: 16.6887 - mae: 3.0343 - val_loss: 13.8686 - val_mae: 2.6879\n",
            "Epoch 5/500\n",
            "120/120 [==============================] - 0s 3ms/step - loss: 12.6925 - mae: 2.6207 - val_loss: 10.3510 - val_mae: 2.3178\n",
            "Epoch 6/500\n",
            "120/120 [==============================] - 0s 3ms/step - loss: 10.8353 - mae: 2.4113 - val_loss: 8.1103 - val_mae: 2.0679\n",
            "Epoch 7/500\n",
            "120/120 [==============================] - 0s 4ms/step - loss: 7.3386 - mae: 1.9743 - val_loss: 8.7891 - val_mae: 2.3226\n",
            "Epoch 8/500\n",
            "120/120 [==============================] - 0s 3ms/step - loss: 8.3140 - mae: 2.1017 - val_loss: 6.3543 - val_mae: 1.8868\n",
            "Epoch 9/500\n",
            "120/120 [==============================] - 0s 3ms/step - loss: 6.0258 - mae: 1.7710 - val_loss: 9.2098 - val_mae: 2.4416\n",
            "Epoch 10/500\n",
            "120/120 [==============================] - 0s 4ms/step - loss: 4.1351 - mae: 1.4719 - val_loss: 4.0384 - val_mae: 1.4699\n",
            "Epoch 11/500\n",
            "120/120 [==============================] - 0s 3ms/step - loss: 3.2313 - mae: 1.2912 - val_loss: 2.1979 - val_mae: 1.0760\n",
            "Epoch 12/500\n",
            "120/120 [==============================] - 0s 3ms/step - loss: 2.4435 - mae: 1.1364 - val_loss: 1.8332 - val_mae: 0.9845\n",
            "Epoch 13/500\n",
            "120/120 [==============================] - 0s 4ms/step - loss: 2.6044 - mae: 1.1583 - val_loss: 1.5369 - val_mae: 0.9061\n",
            "Epoch 14/500\n",
            "120/120 [==============================] - 0s 4ms/step - loss: 2.3775 - mae: 1.1185 - val_loss: 1.5899 - val_mae: 0.9218\n",
            "Epoch 15/500\n",
            "120/120 [==============================] - 0s 4ms/step - loss: 3.1425 - mae: 1.2587 - val_loss: 4.0272 - val_mae: 1.4677\n",
            "Epoch 16/500\n",
            "120/120 [==============================] - 0s 3ms/step - loss: 4.4318 - mae: 1.4844 - val_loss: 1.7336 - val_mae: 0.9030\n",
            "Epoch 17/500\n",
            "120/120 [==============================] - 0s 3ms/step - loss: 2.8533 - mae: 1.2065 - val_loss: 1.4806 - val_mae: 0.8532\n",
            "Epoch 18/500\n",
            "120/120 [==============================] - 0s 3ms/step - loss: 1.9411 - mae: 0.9990 - val_loss: 1.9229 - val_mae: 0.9514\n",
            "Epoch 19/500\n",
            "120/120 [==============================] - 0s 4ms/step - loss: 2.8647 - mae: 1.2068 - val_loss: 1.5955 - val_mae: 0.8911\n",
            "Epoch 20/500\n",
            "120/120 [==============================] - 0s 3ms/step - loss: 2.2769 - mae: 1.0714 - val_loss: 2.9729 - val_mae: 1.3274\n",
            "Epoch 21/500\n",
            "120/120 [==============================] - 0s 3ms/step - loss: 1.7020 - mae: 0.9467 - val_loss: 1.5865 - val_mae: 0.9065\n",
            "Epoch 22/500\n",
            "120/120 [==============================] - 0s 3ms/step - loss: 2.9352 - mae: 1.1914 - val_loss: 2.4925 - val_mae: 1.0664\n",
            "Epoch 23/500\n",
            "120/120 [==============================] - 0s 3ms/step - loss: 1.8130 - mae: 0.9695 - val_loss: 1.2869 - val_mae: 0.8028\n",
            "Epoch 24/500\n",
            "120/120 [==============================] - 0s 3ms/step - loss: 2.4647 - mae: 1.1286 - val_loss: 1.8849 - val_mae: 1.0218\n",
            "Epoch 25/500\n",
            "120/120 [==============================] - 0s 3ms/step - loss: 2.1722 - mae: 1.0617 - val_loss: 3.3667 - val_mae: 1.3877\n",
            "Epoch 26/500\n",
            "120/120 [==============================] - 0s 3ms/step - loss: 2.8166 - mae: 1.1618 - val_loss: 2.0428 - val_mae: 1.0175\n",
            "Epoch 27/500\n",
            "120/120 [==============================] - 0s 3ms/step - loss: 1.8104 - mae: 0.9819 - val_loss: 1.4990 - val_mae: 0.9355\n",
            "Epoch 28/500\n",
            "120/120 [==============================] - 0s 3ms/step - loss: 2.1702 - mae: 1.0840 - val_loss: 1.4717 - val_mae: 0.8819\n",
            "Epoch 29/500\n",
            "120/120 [==============================] - 0s 3ms/step - loss: 2.1249 - mae: 1.0341 - val_loss: 1.6010 - val_mae: 0.9522\n",
            "Epoch 30/500\n",
            "120/120 [==============================] - 0s 3ms/step - loss: 2.1740 - mae: 1.0518 - val_loss: 1.8445 - val_mae: 0.9895\n",
            "Epoch 31/500\n",
            "120/120 [==============================] - 0s 4ms/step - loss: 2.0549 - mae: 1.0256 - val_loss: 3.2768 - val_mae: 1.3061\n",
            "Epoch 32/500\n",
            "120/120 [==============================] - 0s 3ms/step - loss: 2.7400 - mae: 1.1488 - val_loss: 1.3272 - val_mae: 0.8156\n",
            "Epoch 33/500\n",
            "120/120 [==============================] - 0s 3ms/step - loss: 2.0679 - mae: 1.0294 - val_loss: 1.2338 - val_mae: 0.7904\n",
            "Epoch 34/500\n",
            "120/120 [==============================] - 0s 3ms/step - loss: 1.6500 - mae: 0.9223 - val_loss: 2.0754 - val_mae: 1.0864\n",
            "Epoch 35/500\n",
            "120/120 [==============================] - 0s 3ms/step - loss: 1.9017 - mae: 0.9931 - val_loss: 1.2601 - val_mae: 0.8031\n",
            "Epoch 36/500\n",
            "120/120 [==============================] - 0s 3ms/step - loss: 1.9990 - mae: 1.0166 - val_loss: 1.2923 - val_mae: 0.8176\n",
            "Epoch 37/500\n",
            "120/120 [==============================] - 0s 3ms/step - loss: 1.7295 - mae: 0.9299 - val_loss: 1.8238 - val_mae: 0.9210\n",
            "Epoch 38/500\n",
            "120/120 [==============================] - 0s 3ms/step - loss: 2.1282 - mae: 1.0353 - val_loss: 1.4088 - val_mae: 0.8515\n",
            "Epoch 39/500\n",
            "120/120 [==============================] - 0s 4ms/step - loss: 1.7293 - mae: 0.9389 - val_loss: 2.4870 - val_mae: 1.1563\n",
            "Epoch 40/500\n",
            "120/120 [==============================] - 0s 4ms/step - loss: 1.8250 - mae: 0.9664 - val_loss: 1.7912 - val_mae: 0.9364\n",
            "Epoch 41/500\n",
            "120/120 [==============================] - 0s 3ms/step - loss: 1.9574 - mae: 0.9821 - val_loss: 1.6482 - val_mae: 0.9350\n",
            "Epoch 42/500\n",
            "120/120 [==============================] - 0s 3ms/step - loss: 1.7243 - mae: 0.9258 - val_loss: 2.7401 - val_mae: 1.2743\n",
            "Epoch 43/500\n",
            "120/120 [==============================] - 0s 4ms/step - loss: 2.2717 - mae: 1.0436 - val_loss: 1.2291 - val_mae: 0.7610\n",
            "Epoch 44/500\n",
            "120/120 [==============================] - 0s 4ms/step - loss: 1.3625 - mae: 0.8286 - val_loss: 1.2446 - val_mae: 0.7775\n",
            "Epoch 45/500\n",
            "120/120 [==============================] - 0s 3ms/step - loss: 1.6562 - mae: 0.9153 - val_loss: 1.4446 - val_mae: 0.8931\n",
            "Epoch 46/500\n",
            "120/120 [==============================] - 0s 3ms/step - loss: 2.0556 - mae: 1.0169 - val_loss: 1.6511 - val_mae: 0.8332\n",
            "Epoch 47/500\n",
            "120/120 [==============================] - 0s 3ms/step - loss: 1.5772 - mae: 0.8958 - val_loss: 1.3607 - val_mae: 0.8451\n",
            "Epoch 48/500\n",
            "120/120 [==============================] - 0s 4ms/step - loss: 1.7276 - mae: 0.9409 - val_loss: 1.2225 - val_mae: 0.7708\n",
            "Epoch 49/500\n",
            "120/120 [==============================] - 0s 3ms/step - loss: 1.3831 - mae: 0.8370 - val_loss: 1.7067 - val_mae: 0.9150\n",
            "Epoch 50/500\n",
            "120/120 [==============================] - 0s 3ms/step - loss: 2.4779 - mae: 1.0899 - val_loss: 1.6922 - val_mae: 0.9619\n",
            "Epoch 51/500\n",
            "120/120 [==============================] - 0s 3ms/step - loss: 2.4117 - mae: 1.1332 - val_loss: 1.2548 - val_mae: 0.7712\n",
            "Epoch 52/500\n",
            "120/120 [==============================] - 0s 3ms/step - loss: 1.5212 - mae: 0.8679 - val_loss: 2.7729 - val_mae: 1.2586\n",
            "Epoch 53/500\n",
            "120/120 [==============================] - 0s 3ms/step - loss: 1.6702 - mae: 0.9024 - val_loss: 2.9981 - val_mae: 1.2899\n",
            "Epoch 54/500\n",
            "120/120 [==============================] - 0s 3ms/step - loss: 1.7739 - mae: 0.9449 - val_loss: 1.4385 - val_mae: 0.8626\n",
            "Epoch 55/500\n",
            "120/120 [==============================] - 0s 4ms/step - loss: 1.7154 - mae: 0.9221 - val_loss: 1.3729 - val_mae: 0.8524\n",
            "Epoch 56/500\n",
            "120/120 [==============================] - 0s 3ms/step - loss: 1.6866 - mae: 0.9247 - val_loss: 1.4326 - val_mae: 0.8461\n",
            "Epoch 57/500\n",
            "120/120 [==============================] - 0s 4ms/step - loss: 1.7193 - mae: 0.9505 - val_loss: 1.4644 - val_mae: 0.8980\n",
            "Epoch 58/500\n",
            "120/120 [==============================] - 0s 3ms/step - loss: 1.6224 - mae: 0.9095 - val_loss: 4.4747 - val_mae: 1.5423\n",
            "Epoch 59/500\n",
            "120/120 [==============================] - 0s 4ms/step - loss: 1.8288 - mae: 0.9618 - val_loss: 1.5368 - val_mae: 0.9234\n",
            "Epoch 60/500\n",
            "120/120 [==============================] - 0s 3ms/step - loss: 1.5723 - mae: 0.9026 - val_loss: 1.2751 - val_mae: 0.8376\n",
            "Epoch 61/500\n",
            "120/120 [==============================] - 0s 3ms/step - loss: 1.4392 - mae: 0.8524 - val_loss: 1.1438 - val_mae: 0.7408\n",
            "Epoch 62/500\n",
            "120/120 [==============================] - 0s 4ms/step - loss: 1.3358 - mae: 0.8124 - val_loss: 1.4049 - val_mae: 0.8245\n",
            "Epoch 63/500\n",
            "120/120 [==============================] - 0s 3ms/step - loss: 1.4078 - mae: 0.8381 - val_loss: 1.2676 - val_mae: 0.7972\n",
            "Epoch 64/500\n",
            "120/120 [==============================] - 0s 4ms/step - loss: 1.5432 - mae: 0.8900 - val_loss: 1.5210 - val_mae: 0.8798\n",
            "Epoch 65/500\n",
            "120/120 [==============================] - 0s 3ms/step - loss: 1.4769 - mae: 0.8807 - val_loss: 1.5844 - val_mae: 0.9599\n",
            "Epoch 66/500\n",
            "120/120 [==============================] - 0s 3ms/step - loss: 1.7690 - mae: 0.9544 - val_loss: 1.6361 - val_mae: 0.9728\n",
            "Epoch 67/500\n",
            "120/120 [==============================] - 0s 3ms/step - loss: 1.6457 - mae: 0.9208 - val_loss: 2.4778 - val_mae: 1.1370\n",
            "Epoch 68/500\n",
            "120/120 [==============================] - 0s 3ms/step - loss: 1.9552 - mae: 0.9943 - val_loss: 1.8446 - val_mae: 0.9515\n",
            "Epoch 69/500\n",
            "120/120 [==============================] - 0s 4ms/step - loss: 1.5804 - mae: 0.8857 - val_loss: 1.4565 - val_mae: 0.8538\n",
            "Epoch 70/500\n",
            "120/120 [==============================] - 0s 3ms/step - loss: 1.5295 - mae: 0.8828 - val_loss: 1.3139 - val_mae: 0.8293\n",
            "Epoch 71/500\n",
            "120/120 [==============================] - 0s 3ms/step - loss: 1.4838 - mae: 0.8546 - val_loss: 1.2494 - val_mae: 0.7850\n",
            "Epoch 72/500\n",
            "120/120 [==============================] - 0s 3ms/step - loss: 1.6026 - mae: 0.9176 - val_loss: 1.7016 - val_mae: 1.0309\n",
            "Epoch 73/500\n",
            "120/120 [==============================] - 0s 4ms/step - loss: 1.5842 - mae: 0.9246 - val_loss: 1.5259 - val_mae: 0.9785\n",
            "Epoch 74/500\n",
            "120/120 [==============================] - 0s 4ms/step - loss: 1.3963 - mae: 0.8546 - val_loss: 1.2182 - val_mae: 0.7622\n",
            "Epoch 75/500\n",
            "120/120 [==============================] - 0s 3ms/step - loss: 1.5781 - mae: 0.9012 - val_loss: 1.2534 - val_mae: 0.7889\n",
            "Epoch 76/500\n",
            "120/120 [==============================] - 0s 3ms/step - loss: 1.4029 - mae: 0.8557 - val_loss: 1.1969 - val_mae: 0.7715\n",
            "Epoch 77/500\n",
            "120/120 [==============================] - 0s 3ms/step - loss: 1.3396 - mae: 0.8119 - val_loss: 1.2174 - val_mae: 0.7891\n",
            "Epoch 78/500\n",
            "120/120 [==============================] - 0s 3ms/step - loss: 1.3654 - mae: 0.8282 - val_loss: 1.1244 - val_mae: 0.7391\n",
            "Epoch 79/500\n",
            "120/120 [==============================] - 0s 3ms/step - loss: 1.4307 - mae: 0.8553 - val_loss: 1.3417 - val_mae: 0.7842\n",
            "Epoch 80/500\n",
            "120/120 [==============================] - 0s 4ms/step - loss: 1.4171 - mae: 0.8311 - val_loss: 1.4425 - val_mae: 0.8523\n",
            "Epoch 81/500\n",
            "120/120 [==============================] - 0s 3ms/step - loss: 1.6098 - mae: 0.9061 - val_loss: 1.1854 - val_mae: 0.7762\n",
            "Epoch 82/500\n",
            "120/120 [==============================] - 0s 3ms/step - loss: 1.5942 - mae: 0.9031 - val_loss: 1.5652 - val_mae: 0.9276\n",
            "Epoch 83/500\n",
            "120/120 [==============================] - 0s 3ms/step - loss: 1.4768 - mae: 0.8880 - val_loss: 1.3799 - val_mae: 0.8549\n",
            "Epoch 84/500\n",
            "120/120 [==============================] - 0s 3ms/step - loss: 1.4143 - mae: 0.8596 - val_loss: 1.4219 - val_mae: 0.8684\n",
            "Epoch 85/500\n",
            "120/120 [==============================] - 0s 3ms/step - loss: 1.5534 - mae: 0.9129 - val_loss: 1.6984 - val_mae: 0.9760\n",
            "Epoch 86/500\n",
            "120/120 [==============================] - 0s 3ms/step - loss: 1.6359 - mae: 0.9472 - val_loss: 1.2663 - val_mae: 0.8409\n",
            "Epoch 87/500\n",
            "120/120 [==============================] - 0s 3ms/step - loss: 1.5918 - mae: 0.9145 - val_loss: 1.2166 - val_mae: 0.7755\n",
            "Epoch 88/500\n",
            "120/120 [==============================] - 0s 3ms/step - loss: 1.2609 - mae: 0.7884 - val_loss: 1.2368 - val_mae: 0.7910\n",
            "Epoch 89/500\n",
            "120/120 [==============================] - 0s 3ms/step - loss: 1.2852 - mae: 0.7946 - val_loss: 1.1376 - val_mae: 0.7345\n",
            "Epoch 90/500\n",
            "120/120 [==============================] - 0s 3ms/step - loss: 1.2785 - mae: 0.7921 - val_loss: 1.2436 - val_mae: 0.7897\n",
            "Epoch 91/500\n",
            "120/120 [==============================] - 0s 3ms/step - loss: 1.3694 - mae: 0.8357 - val_loss: 1.3588 - val_mae: 0.8482\n",
            "Epoch 92/500\n",
            "120/120 [==============================] - 0s 3ms/step - loss: 1.6162 - mae: 0.9258 - val_loss: 1.3561 - val_mae: 0.8876\n",
            "Epoch 93/500\n",
            "120/120 [==============================] - 0s 4ms/step - loss: 1.2814 - mae: 0.8080 - val_loss: 2.4404 - val_mae: 1.2319\n",
            "Epoch 94/500\n",
            "120/120 [==============================] - 0s 4ms/step - loss: 1.5027 - mae: 0.9029 - val_loss: 1.1711 - val_mae: 0.7531\n",
            "Epoch 95/500\n",
            "120/120 [==============================] - 0s 3ms/step - loss: 1.3918 - mae: 0.8695 - val_loss: 1.4575 - val_mae: 0.8974\n",
            "Epoch 96/500\n",
            "120/120 [==============================] - 0s 3ms/step - loss: 1.2740 - mae: 0.8026 - val_loss: 1.2881 - val_mae: 0.7910\n",
            "Epoch 97/500\n",
            "120/120 [==============================] - 0s 3ms/step - loss: 1.3872 - mae: 0.8326 - val_loss: 1.1805 - val_mae: 0.7621\n",
            "Epoch 98/500\n",
            "120/120 [==============================] - 0s 3ms/step - loss: 1.3548 - mae: 0.8263 - val_loss: 1.5977 - val_mae: 0.9062\n",
            "Epoch 99/500\n",
            "120/120 [==============================] - 0s 3ms/step - loss: 1.4371 - mae: 0.8588 - val_loss: 1.4178 - val_mae: 0.9042\n",
            "Epoch 100/500\n",
            "120/120 [==============================] - 0s 3ms/step - loss: 1.2739 - mae: 0.7993 - val_loss: 1.1489 - val_mae: 0.7202\n",
            "Epoch 101/500\n",
            "120/120 [==============================] - 0s 3ms/step - loss: 1.2762 - mae: 0.7989 - val_loss: 1.0936 - val_mae: 0.7170\n",
            "Epoch 102/500\n",
            "120/120 [==============================] - 0s 3ms/step - loss: 1.2731 - mae: 0.7995 - val_loss: 1.1193 - val_mae: 0.7315\n",
            "Epoch 103/500\n",
            "120/120 [==============================] - 0s 3ms/step - loss: 1.2862 - mae: 0.8058 - val_loss: 1.1783 - val_mae: 0.7800\n",
            "Epoch 104/500\n",
            "120/120 [==============================] - 0s 4ms/step - loss: 1.3926 - mae: 0.8594 - val_loss: 1.8386 - val_mae: 1.0340\n",
            "Epoch 105/500\n",
            "120/120 [==============================] - 0s 4ms/step - loss: 1.3292 - mae: 0.8332 - val_loss: 1.2413 - val_mae: 0.8085\n",
            "Epoch 106/500\n",
            "120/120 [==============================] - 0s 3ms/step - loss: 1.1897 - mae: 0.7664 - val_loss: 1.4364 - val_mae: 0.8729\n",
            "Epoch 107/500\n",
            "120/120 [==============================] - 0s 3ms/step - loss: 1.3104 - mae: 0.8316 - val_loss: 1.0896 - val_mae: 0.7179\n",
            "Epoch 108/500\n",
            "120/120 [==============================] - 0s 3ms/step - loss: 1.2383 - mae: 0.7925 - val_loss: 1.4960 - val_mae: 0.8436\n",
            "Epoch 109/500\n",
            "120/120 [==============================] - 0s 4ms/step - loss: 1.4495 - mae: 0.8940 - val_loss: 1.4153 - val_mae: 0.8791\n",
            "Epoch 110/500\n",
            "120/120 [==============================] - 0s 3ms/step - loss: 1.3327 - mae: 0.8379 - val_loss: 1.2409 - val_mae: 0.7521\n",
            "Epoch 111/500\n",
            "120/120 [==============================] - 0s 3ms/step - loss: 1.1779 - mae: 0.7580 - val_loss: 1.1123 - val_mae: 0.7333\n",
            "Epoch 112/500\n",
            "120/120 [==============================] - 0s 3ms/step - loss: 1.2460 - mae: 0.8002 - val_loss: 1.4258 - val_mae: 0.8810\n",
            "Epoch 113/500\n",
            "120/120 [==============================] - 0s 3ms/step - loss: 1.3556 - mae: 0.8501 - val_loss: 1.7275 - val_mae: 0.9521\n",
            "Epoch 114/500\n",
            "120/120 [==============================] - 0s 4ms/step - loss: 1.3254 - mae: 0.8329 - val_loss: 1.1617 - val_mae: 0.7342\n",
            "Epoch 115/500\n",
            "120/120 [==============================] - 0s 4ms/step - loss: 1.3026 - mae: 0.8257 - val_loss: 1.0775 - val_mae: 0.7201\n",
            "Epoch 116/500\n",
            "120/120 [==============================] - 0s 3ms/step - loss: 1.2449 - mae: 0.7946 - val_loss: 1.1280 - val_mae: 0.7556\n",
            "Epoch 117/500\n",
            "120/120 [==============================] - 0s 3ms/step - loss: 1.2677 - mae: 0.8066 - val_loss: 1.1113 - val_mae: 0.7311\n",
            "Epoch 118/500\n",
            "120/120 [==============================] - 0s 3ms/step - loss: 1.2508 - mae: 0.7944 - val_loss: 1.3430 - val_mae: 0.7820\n",
            "Epoch 119/500\n",
            "120/120 [==============================] - 0s 4ms/step - loss: 1.2649 - mae: 0.8036 - val_loss: 1.1748 - val_mae: 0.7342\n",
            "Epoch 120/500\n",
            "120/120 [==============================] - 0s 4ms/step - loss: 1.2132 - mae: 0.7819 - val_loss: 1.1224 - val_mae: 0.7187\n",
            "Epoch 121/500\n",
            "120/120 [==============================] - 0s 4ms/step - loss: 1.2480 - mae: 0.7983 - val_loss: 1.5394 - val_mae: 0.9710\n",
            "Epoch 122/500\n",
            "120/120 [==============================] - 0s 4ms/step - loss: 1.3148 - mae: 0.8307 - val_loss: 1.2946 - val_mae: 0.8532\n",
            "Epoch 123/500\n",
            "120/120 [==============================] - 0s 3ms/step - loss: 1.2378 - mae: 0.7969 - val_loss: 1.3144 - val_mae: 0.8303\n",
            "Epoch 124/500\n",
            "120/120 [==============================] - 0s 3ms/step - loss: 1.3585 - mae: 0.8515 - val_loss: 1.1726 - val_mae: 0.7686\n",
            "Epoch 125/500\n",
            "120/120 [==============================] - 0s 4ms/step - loss: 1.3475 - mae: 0.8345 - val_loss: 1.3826 - val_mae: 0.8988\n",
            "Epoch 126/500\n",
            "120/120 [==============================] - 0s 3ms/step - loss: 1.2321 - mae: 0.7911 - val_loss: 1.2823 - val_mae: 0.8049\n",
            "Epoch 127/500\n",
            "120/120 [==============================] - 0s 3ms/step - loss: 1.1958 - mae: 0.7702 - val_loss: 1.1434 - val_mae: 0.7551\n",
            "Epoch 128/500\n",
            "120/120 [==============================] - 0s 4ms/step - loss: 1.2627 - mae: 0.8014 - val_loss: 1.1169 - val_mae: 0.7541\n",
            "Epoch 129/500\n",
            "120/120 [==============================] - 0s 3ms/step - loss: 1.2762 - mae: 0.8128 - val_loss: 1.2695 - val_mae: 0.7687\n",
            "Epoch 130/500\n",
            "120/120 [==============================] - 0s 3ms/step - loss: 1.2386 - mae: 0.7922 - val_loss: 1.0751 - val_mae: 0.6980\n",
            "Epoch 131/500\n",
            "120/120 [==============================] - 0s 3ms/step - loss: 1.2039 - mae: 0.7761 - val_loss: 1.2539 - val_mae: 0.8169\n",
            "Epoch 132/500\n",
            "120/120 [==============================] - 0s 3ms/step - loss: 1.2701 - mae: 0.8097 - val_loss: 1.1025 - val_mae: 0.7182\n",
            "Epoch 133/500\n",
            "120/120 [==============================] - 0s 3ms/step - loss: 1.1541 - mae: 0.7420 - val_loss: 1.2583 - val_mae: 0.7566\n",
            "Epoch 134/500\n",
            "120/120 [==============================] - 0s 3ms/step - loss: 1.1603 - mae: 0.7531 - val_loss: 1.0694 - val_mae: 0.7050\n",
            "Epoch 135/500\n",
            "120/120 [==============================] - 0s 3ms/step - loss: 1.1419 - mae: 0.7385 - val_loss: 1.1129 - val_mae: 0.7422\n",
            "Epoch 136/500\n",
            "120/120 [==============================] - 0s 3ms/step - loss: 1.2113 - mae: 0.7790 - val_loss: 1.2110 - val_mae: 0.7823\n",
            "Epoch 137/500\n",
            "120/120 [==============================] - 0s 3ms/step - loss: 1.2568 - mae: 0.7946 - val_loss: 1.1121 - val_mae: 0.7183\n",
            "Epoch 138/500\n",
            "120/120 [==============================] - 0s 3ms/step - loss: 1.2084 - mae: 0.7839 - val_loss: 1.1246 - val_mae: 0.7578\n",
            "Epoch 139/500\n",
            "120/120 [==============================] - 0s 3ms/step - loss: 1.1588 - mae: 0.7570 - val_loss: 1.0757 - val_mae: 0.7131\n",
            "Epoch 140/500\n",
            "120/120 [==============================] - 0s 3ms/step - loss: 1.2142 - mae: 0.7762 - val_loss: 1.3489 - val_mae: 0.8565\n",
            "Epoch 141/500\n",
            "120/120 [==============================] - 0s 3ms/step - loss: 1.2952 - mae: 0.8085 - val_loss: 1.1156 - val_mae: 0.7338\n",
            "Epoch 142/500\n",
            "120/120 [==============================] - 0s 3ms/step - loss: 1.1965 - mae: 0.7670 - val_loss: 1.3545 - val_mae: 0.8807\n",
            "Epoch 143/500\n",
            "120/120 [==============================] - 0s 3ms/step - loss: 1.1991 - mae: 0.7742 - val_loss: 1.3301 - val_mae: 0.8211\n",
            "Epoch 144/500\n",
            "120/120 [==============================] - 0s 3ms/step - loss: 1.1545 - mae: 0.7512 - val_loss: 1.0512 - val_mae: 0.6952\n",
            "Epoch 145/500\n",
            "120/120 [==============================] - 0s 3ms/step - loss: 1.1670 - mae: 0.7557 - val_loss: 1.2100 - val_mae: 0.7584\n",
            "Epoch 146/500\n",
            "120/120 [==============================] - 0s 4ms/step - loss: 1.2379 - mae: 0.7877 - val_loss: 1.4454 - val_mae: 0.9028\n",
            "Epoch 147/500\n",
            "120/120 [==============================] - 0s 4ms/step - loss: 1.1707 - mae: 0.7563 - val_loss: 1.1298 - val_mae: 0.7294\n",
            "Epoch 148/500\n",
            "120/120 [==============================] - 0s 3ms/step - loss: 1.1804 - mae: 0.7747 - val_loss: 1.3304 - val_mae: 0.8330\n",
            "Epoch 149/500\n",
            "120/120 [==============================] - 0s 3ms/step - loss: 1.1887 - mae: 0.7687 - val_loss: 1.0846 - val_mae: 0.7030\n",
            "Epoch 150/500\n",
            "120/120 [==============================] - 0s 4ms/step - loss: 1.1867 - mae: 0.7589 - val_loss: 1.1297 - val_mae: 0.7335\n",
            "Epoch 151/500\n",
            "120/120 [==============================] - 0s 3ms/step - loss: 1.2154 - mae: 0.7736 - val_loss: 1.0971 - val_mae: 0.7290\n",
            "Epoch 152/500\n",
            "120/120 [==============================] - 0s 3ms/step - loss: 1.1676 - mae: 0.7617 - val_loss: 1.1161 - val_mae: 0.7121\n",
            "Epoch 153/500\n",
            "120/120 [==============================] - 0s 3ms/step - loss: 1.1440 - mae: 0.7424 - val_loss: 1.1609 - val_mae: 0.7263\n",
            "Epoch 154/500\n",
            "120/120 [==============================] - 0s 3ms/step - loss: 1.1400 - mae: 0.7378 - val_loss: 1.2723 - val_mae: 0.8524\n",
            "Epoch 155/500\n",
            "120/120 [==============================] - 0s 4ms/step - loss: 1.1926 - mae: 0.7632 - val_loss: 1.0979 - val_mae: 0.6958\n",
            "Epoch 156/500\n",
            "120/120 [==============================] - 0s 4ms/step - loss: 1.1466 - mae: 0.7480 - val_loss: 1.2996 - val_mae: 0.8394\n",
            "Epoch 157/500\n",
            "120/120 [==============================] - 0s 3ms/step - loss: 1.1917 - mae: 0.7738 - val_loss: 1.0977 - val_mae: 0.7365\n",
            "Epoch 158/500\n",
            "120/120 [==============================] - 0s 3ms/step - loss: 1.2587 - mae: 0.8061 - val_loss: 1.5412 - val_mae: 0.9497\n",
            "Epoch 159/500\n",
            "120/120 [==============================] - 0s 3ms/step - loss: 1.2382 - mae: 0.7837 - val_loss: 1.1023 - val_mae: 0.7317\n",
            "Epoch 160/500\n",
            "120/120 [==============================] - 0s 3ms/step - loss: 1.1665 - mae: 0.7514 - val_loss: 1.0809 - val_mae: 0.7098\n",
            "Epoch 161/500\n",
            "120/120 [==============================] - 0s 4ms/step - loss: 1.1591 - mae: 0.7519 - val_loss: 1.0348 - val_mae: 0.6838\n",
            "Epoch 162/500\n",
            "120/120 [==============================] - 0s 3ms/step - loss: 1.2565 - mae: 0.7987 - val_loss: 1.2036 - val_mae: 0.7846\n",
            "Epoch 163/500\n",
            "120/120 [==============================] - 0s 3ms/step - loss: 1.1880 - mae: 0.7672 - val_loss: 1.1279 - val_mae: 0.7356\n",
            "Epoch 164/500\n",
            "120/120 [==============================] - 0s 3ms/step - loss: 1.1846 - mae: 0.7657 - val_loss: 1.2023 - val_mae: 0.7601\n",
            "Epoch 165/500\n",
            "120/120 [==============================] - 0s 3ms/step - loss: 1.1813 - mae: 0.7664 - val_loss: 1.4597 - val_mae: 0.9107\n",
            "Epoch 166/500\n",
            "120/120 [==============================] - 0s 3ms/step - loss: 1.1698 - mae: 0.7573 - val_loss: 1.0825 - val_mae: 0.7069\n",
            "Epoch 167/500\n",
            "120/120 [==============================] - 0s 3ms/step - loss: 1.1419 - mae: 0.7424 - val_loss: 1.0885 - val_mae: 0.7089\n",
            "Epoch 168/500\n",
            "120/120 [==============================] - 0s 3ms/step - loss: 1.2068 - mae: 0.7695 - val_loss: 1.1693 - val_mae: 0.7430\n",
            "Epoch 169/500\n",
            "120/120 [==============================] - 0s 3ms/step - loss: 1.2032 - mae: 0.7783 - val_loss: 1.1265 - val_mae: 0.7325\n",
            "Epoch 170/500\n",
            "120/120 [==============================] - 0s 3ms/step - loss: 1.1613 - mae: 0.7521 - val_loss: 1.0783 - val_mae: 0.7210\n",
            "Epoch 171/500\n",
            "120/120 [==============================] - 0s 3ms/step - loss: 1.1633 - mae: 0.7530 - val_loss: 1.3784 - val_mae: 0.8482\n",
            "Epoch 172/500\n",
            "120/120 [==============================] - 0s 3ms/step - loss: 1.2409 - mae: 0.7920 - val_loss: 1.0502 - val_mae: 0.6936\n",
            "Epoch 173/500\n",
            "120/120 [==============================] - 0s 3ms/step - loss: 1.1511 - mae: 0.7497 - val_loss: 1.0722 - val_mae: 0.6957\n",
            "Epoch 174/500\n",
            "120/120 [==============================] - 0s 3ms/step - loss: 1.1585 - mae: 0.7530 - val_loss: 1.1605 - val_mae: 0.7674\n",
            "Epoch 175/500\n",
            "120/120 [==============================] - 0s 3ms/step - loss: 1.1358 - mae: 0.7381 - val_loss: 1.0966 - val_mae: 0.7426\n",
            "Epoch 176/500\n",
            "120/120 [==============================] - 0s 3ms/step - loss: 1.2156 - mae: 0.7882 - val_loss: 1.1260 - val_mae: 0.7155\n",
            "Epoch 177/500\n",
            "120/120 [==============================] - 0s 3ms/step - loss: 1.1393 - mae: 0.7397 - val_loss: 1.0957 - val_mae: 0.7136\n",
            "Epoch 178/500\n",
            "120/120 [==============================] - 0s 4ms/step - loss: 1.2305 - mae: 0.7928 - val_loss: 1.0712 - val_mae: 0.7083\n",
            "Epoch 179/500\n",
            "120/120 [==============================] - 0s 3ms/step - loss: 1.1139 - mae: 0.7291 - val_loss: 1.1208 - val_mae: 0.7127\n",
            "Epoch 180/500\n",
            "120/120 [==============================] - 0s 3ms/step - loss: 1.1387 - mae: 0.7434 - val_loss: 1.1335 - val_mae: 0.7149\n",
            "Epoch 181/500\n",
            "120/120 [==============================] - 0s 4ms/step - loss: 1.1723 - mae: 0.7570 - val_loss: 1.1153 - val_mae: 0.7186\n",
            "Epoch 182/500\n",
            "120/120 [==============================] - 0s 3ms/step - loss: 1.1262 - mae: 0.7380 - val_loss: 1.1115 - val_mae: 0.7179\n",
            "Epoch 183/500\n",
            "120/120 [==============================] - 0s 3ms/step - loss: 1.1671 - mae: 0.7601 - val_loss: 1.1750 - val_mae: 0.7445\n",
            "Epoch 184/500\n",
            "120/120 [==============================] - 0s 4ms/step - loss: 1.1958 - mae: 0.7656 - val_loss: 1.0488 - val_mae: 0.6929\n",
            "Epoch 185/500\n",
            "120/120 [==============================] - 0s 3ms/step - loss: 1.1527 - mae: 0.7529 - val_loss: 1.4460 - val_mae: 0.8205\n",
            "Epoch 186/500\n",
            "120/120 [==============================] - 0s 3ms/step - loss: 1.2288 - mae: 0.7805 - val_loss: 1.1210 - val_mae: 0.7214\n",
            "Epoch 187/500\n",
            "120/120 [==============================] - 0s 3ms/step - loss: 1.1226 - mae: 0.7314 - val_loss: 1.0836 - val_mae: 0.7046\n",
            "Epoch 188/500\n",
            "120/120 [==============================] - 0s 3ms/step - loss: 1.1408 - mae: 0.7483 - val_loss: 1.2921 - val_mae: 0.8132\n",
            "Epoch 189/500\n",
            "120/120 [==============================] - 0s 3ms/step - loss: 1.1853 - mae: 0.7761 - val_loss: 1.1556 - val_mae: 0.7824\n",
            "Epoch 190/500\n",
            "120/120 [==============================] - 0s 3ms/step - loss: 1.1225 - mae: 0.7330 - val_loss: 1.0952 - val_mae: 0.6984\n",
            "Epoch 191/500\n",
            "120/120 [==============================] - 0s 3ms/step - loss: 1.1600 - mae: 0.7453 - val_loss: 1.1611 - val_mae: 0.7412\n",
            "Epoch 192/500\n",
            "120/120 [==============================] - 0s 3ms/step - loss: 1.1592 - mae: 0.7548 - val_loss: 1.0814 - val_mae: 0.7054\n",
            "Epoch 193/500\n",
            "120/120 [==============================] - 0s 3ms/step - loss: 1.1320 - mae: 0.7370 - val_loss: 1.3123 - val_mae: 0.8135\n",
            "Epoch 194/500\n",
            "120/120 [==============================] - 0s 3ms/step - loss: 1.1914 - mae: 0.7684 - val_loss: 1.1671 - val_mae: 0.7432\n",
            "Epoch 195/500\n",
            "120/120 [==============================] - 0s 3ms/step - loss: 1.1800 - mae: 0.7628 - val_loss: 1.0486 - val_mae: 0.6949\n",
            "Epoch 196/500\n",
            "120/120 [==============================] - 0s 3ms/step - loss: 1.1460 - mae: 0.7469 - val_loss: 1.1717 - val_mae: 0.7832\n",
            "Epoch 197/500\n",
            "120/120 [==============================] - 0s 3ms/step - loss: 1.1588 - mae: 0.7527 - val_loss: 1.0784 - val_mae: 0.7046\n",
            "Epoch 198/500\n",
            "120/120 [==============================] - 0s 3ms/step - loss: 1.1400 - mae: 0.7400 - val_loss: 1.0698 - val_mae: 0.7164\n",
            "Epoch 199/500\n",
            "120/120 [==============================] - 0s 3ms/step - loss: 1.1574 - mae: 0.7434 - val_loss: 1.1054 - val_mae: 0.7147\n",
            "Epoch 200/500\n",
            "120/120 [==============================] - 0s 4ms/step - loss: 1.1276 - mae: 0.7363 - val_loss: 1.1738 - val_mae: 0.7624\n",
            "Epoch 201/500\n",
            "120/120 [==============================] - 0s 3ms/step - loss: 1.1399 - mae: 0.7377 - val_loss: 1.0553 - val_mae: 0.7030\n",
            "Epoch 202/500\n",
            "120/120 [==============================] - 0s 4ms/step - loss: 1.1232 - mae: 0.7312 - val_loss: 1.2536 - val_mae: 0.7731\n",
            "Epoch 203/500\n",
            "120/120 [==============================] - 0s 3ms/step - loss: 1.1581 - mae: 0.7529 - val_loss: 1.3671 - val_mae: 0.8372\n",
            "Epoch 204/500\n",
            "120/120 [==============================] - 0s 4ms/step - loss: 1.1548 - mae: 0.7455 - val_loss: 1.0149 - val_mae: 0.6678\n",
            "Epoch 205/500\n",
            "120/120 [==============================] - 0s 4ms/step - loss: 1.1247 - mae: 0.7349 - val_loss: 1.6779 - val_mae: 0.9649\n",
            "Epoch 206/500\n",
            "120/120 [==============================] - 0s 3ms/step - loss: 1.1909 - mae: 0.7659 - val_loss: 1.3278 - val_mae: 0.8407\n",
            "Epoch 207/500\n",
            "120/120 [==============================] - 0s 3ms/step - loss: 1.1388 - mae: 0.7373 - val_loss: 1.1068 - val_mae: 0.7383\n",
            "Epoch 208/500\n",
            "120/120 [==============================] - 1s 5ms/step - loss: 1.1894 - mae: 0.7684 - val_loss: 1.0856 - val_mae: 0.6974\n",
            "Epoch 209/500\n",
            "120/120 [==============================] - 1s 6ms/step - loss: 1.1620 - mae: 0.7503 - val_loss: 1.0833 - val_mae: 0.7047\n",
            "Epoch 210/500\n",
            "120/120 [==============================] - 1s 5ms/step - loss: 1.1974 - mae: 0.7794 - val_loss: 1.0746 - val_mae: 0.7224\n",
            "Epoch 211/500\n",
            "120/120 [==============================] - 1s 6ms/step - loss: 1.1592 - mae: 0.7583 - val_loss: 1.3012 - val_mae: 0.7849\n",
            "Epoch 212/500\n",
            "120/120 [==============================] - 1s 7ms/step - loss: 1.1740 - mae: 0.7588 - val_loss: 1.1742 - val_mae: 0.7874\n",
            "Epoch 213/500\n",
            "120/120 [==============================] - 0s 4ms/step - loss: 1.1113 - mae: 0.7290 - val_loss: 1.0476 - val_mae: 0.6886\n",
            "Epoch 214/500\n",
            "120/120 [==============================] - 0s 3ms/step - loss: 1.1293 - mae: 0.7401 - val_loss: 1.1938 - val_mae: 0.7767\n",
            "Epoch 215/500\n",
            "120/120 [==============================] - 0s 3ms/step - loss: 1.2172 - mae: 0.7796 - val_loss: 1.1238 - val_mae: 0.7304\n",
            "Epoch 216/500\n",
            "120/120 [==============================] - 0s 3ms/step - loss: 1.1428 - mae: 0.7445 - val_loss: 1.2230 - val_mae: 0.7865\n",
            "Epoch 217/500\n",
            "120/120 [==============================] - 0s 3ms/step - loss: 1.1855 - mae: 0.7628 - val_loss: 1.0684 - val_mae: 0.7022\n",
            "Epoch 218/500\n",
            "120/120 [==============================] - 0s 4ms/step - loss: 1.1270 - mae: 0.7297 - val_loss: 1.0668 - val_mae: 0.7012\n",
            "Epoch 219/500\n",
            "120/120 [==============================] - 0s 3ms/step - loss: 1.0965 - mae: 0.7212 - val_loss: 1.0151 - val_mae: 0.6666\n",
            "Epoch 220/500\n",
            "120/120 [==============================] - 0s 3ms/step - loss: 1.1697 - mae: 0.7671 - val_loss: 1.0724 - val_mae: 0.7028\n",
            "Epoch 221/500\n",
            "120/120 [==============================] - 0s 3ms/step - loss: 1.1074 - mae: 0.7233 - val_loss: 1.0765 - val_mae: 0.7201\n",
            "Epoch 222/500\n",
            "120/120 [==============================] - 0s 3ms/step - loss: 1.2618 - mae: 0.8085 - val_loss: 1.0716 - val_mae: 0.6950\n",
            "Epoch 223/500\n",
            "120/120 [==============================] - 0s 3ms/step - loss: 1.1207 - mae: 0.7269 - val_loss: 1.0507 - val_mae: 0.6957\n",
            "Epoch 224/500\n",
            "120/120 [==============================] - 0s 3ms/step - loss: 1.1596 - mae: 0.7401 - val_loss: 1.1128 - val_mae: 0.7031\n",
            "Epoch 225/500\n",
            "120/120 [==============================] - 0s 4ms/step - loss: 1.1419 - mae: 0.7420 - val_loss: 1.1633 - val_mae: 0.7549\n",
            "Epoch 226/500\n",
            "120/120 [==============================] - 0s 4ms/step - loss: 1.1349 - mae: 0.7429 - val_loss: 1.0605 - val_mae: 0.6880\n",
            "Epoch 227/500\n",
            "120/120 [==============================] - 0s 3ms/step - loss: 1.1575 - mae: 0.7522 - val_loss: 1.1688 - val_mae: 0.7421\n",
            "Epoch 228/500\n",
            "120/120 [==============================] - 0s 3ms/step - loss: 1.1153 - mae: 0.7285 - val_loss: 1.0337 - val_mae: 0.6898\n",
            "Epoch 229/500\n",
            "120/120 [==============================] - 0s 3ms/step - loss: 1.1337 - mae: 0.7387 - val_loss: 1.0891 - val_mae: 0.7026\n",
            "Epoch 230/500\n",
            "120/120 [==============================] - 0s 4ms/step - loss: 1.1251 - mae: 0.7285 - val_loss: 1.1345 - val_mae: 0.7133\n",
            "Epoch 231/500\n",
            "120/120 [==============================] - 0s 3ms/step - loss: 1.1516 - mae: 0.7375 - val_loss: 1.0839 - val_mae: 0.7244\n",
            "Epoch 232/500\n",
            "120/120 [==============================] - 0s 3ms/step - loss: 1.1042 - mae: 0.7201 - val_loss: 1.0278 - val_mae: 0.6804\n",
            "Epoch 233/500\n",
            "120/120 [==============================] - 0s 3ms/step - loss: 1.1044 - mae: 0.7223 - val_loss: 1.1299 - val_mae: 0.7235\n",
            "Epoch 234/500\n",
            "120/120 [==============================] - 0s 3ms/step - loss: 1.1143 - mae: 0.7256 - val_loss: 1.1278 - val_mae: 0.7425\n",
            "Epoch 235/500\n",
            "120/120 [==============================] - 0s 4ms/step - loss: 1.1042 - mae: 0.7249 - val_loss: 1.1287 - val_mae: 0.7587\n",
            "Epoch 236/500\n",
            "120/120 [==============================] - 0s 3ms/step - loss: 1.1295 - mae: 0.7303 - val_loss: 1.1090 - val_mae: 0.7373\n",
            "Epoch 237/500\n",
            "120/120 [==============================] - 0s 3ms/step - loss: 1.1113 - mae: 0.7304 - val_loss: 1.2245 - val_mae: 0.7851\n",
            "Epoch 238/500\n",
            "120/120 [==============================] - 0s 3ms/step - loss: 1.1880 - mae: 0.7651 - val_loss: 1.2985 - val_mae: 0.8524\n",
            "Epoch 239/500\n",
            "120/120 [==============================] - 0s 3ms/step - loss: 1.1325 - mae: 0.7404 - val_loss: 1.0611 - val_mae: 0.6990\n",
            "Epoch 240/500\n",
            "120/120 [==============================] - 0s 3ms/step - loss: 1.1315 - mae: 0.7383 - val_loss: 1.0956 - val_mae: 0.7155\n",
            "Epoch 241/500\n",
            "120/120 [==============================] - 0s 3ms/step - loss: 1.1215 - mae: 0.7360 - val_loss: 1.0713 - val_mae: 0.7154\n",
            "Epoch 242/500\n",
            "120/120 [==============================] - 0s 3ms/step - loss: 1.1191 - mae: 0.7257 - val_loss: 1.0212 - val_mae: 0.6686\n",
            "Epoch 243/500\n",
            "120/120 [==============================] - 0s 3ms/step - loss: 1.1479 - mae: 0.7353 - val_loss: 1.2029 - val_mae: 0.7402\n",
            "Epoch 244/500\n",
            "120/120 [==============================] - 0s 4ms/step - loss: 1.1062 - mae: 0.7272 - val_loss: 1.1151 - val_mae: 0.7145\n",
            "Epoch 245/500\n",
            "120/120 [==============================] - 0s 4ms/step - loss: 1.1853 - mae: 0.7575 - val_loss: 1.1115 - val_mae: 0.7268\n",
            "Epoch 246/500\n",
            "120/120 [==============================] - 0s 3ms/step - loss: 1.1701 - mae: 0.7517 - val_loss: 1.1951 - val_mae: 0.7857\n",
            "Epoch 247/500\n",
            "120/120 [==============================] - 0s 4ms/step - loss: 1.1015 - mae: 0.7206 - val_loss: 1.0276 - val_mae: 0.6766\n",
            "Epoch 248/500\n",
            "120/120 [==============================] - 0s 3ms/step - loss: 1.1665 - mae: 0.7590 - val_loss: 1.0276 - val_mae: 0.6737\n",
            "Epoch 249/500\n",
            "120/120 [==============================] - 0s 3ms/step - loss: 1.1093 - mae: 0.7307 - val_loss: 1.1127 - val_mae: 0.7399\n",
            "Epoch 250/500\n",
            "120/120 [==============================] - 0s 3ms/step - loss: 1.0813 - mae: 0.7135 - val_loss: 1.1544 - val_mae: 0.7448\n",
            "Epoch 251/500\n",
            "120/120 [==============================] - 0s 3ms/step - loss: 1.1499 - mae: 0.7403 - val_loss: 1.0211 - val_mae: 0.6730\n",
            "Epoch 252/500\n",
            "120/120 [==============================] - 0s 3ms/step - loss: 1.0940 - mae: 0.7158 - val_loss: 1.2039 - val_mae: 0.8126\n",
            "Epoch 253/500\n",
            "120/120 [==============================] - 0s 3ms/step - loss: 1.1235 - mae: 0.7341 - val_loss: 1.0638 - val_mae: 0.6950\n",
            "Epoch 254/500\n",
            "120/120 [==============================] - 0s 3ms/step - loss: 1.1519 - mae: 0.7411 - val_loss: 1.2543 - val_mae: 0.8159\n",
            "Epoch 255/500\n",
            "120/120 [==============================] - 0s 3ms/step - loss: 1.1446 - mae: 0.7467 - val_loss: 1.1096 - val_mae: 0.7361\n",
            "Epoch 256/500\n",
            "120/120 [==============================] - 0s 3ms/step - loss: 1.1065 - mae: 0.7254 - val_loss: 1.0340 - val_mae: 0.6744\n",
            "Epoch 257/500\n",
            "120/120 [==============================] - 0s 4ms/step - loss: 1.1114 - mae: 0.7252 - val_loss: 1.0407 - val_mae: 0.7014\n",
            "Epoch 258/500\n",
            "120/120 [==============================] - 0s 3ms/step - loss: 1.1185 - mae: 0.7294 - val_loss: 1.0537 - val_mae: 0.6767\n",
            "Epoch 259/500\n",
            "120/120 [==============================] - 0s 3ms/step - loss: 1.1147 - mae: 0.7276 - val_loss: 1.1112 - val_mae: 0.7241\n",
            "Epoch 260/500\n",
            "120/120 [==============================] - 0s 3ms/step - loss: 1.1460 - mae: 0.7502 - val_loss: 1.2585 - val_mae: 0.7936\n",
            "Epoch 261/500\n",
            "120/120 [==============================] - 0s 3ms/step - loss: 1.1274 - mae: 0.7339 - val_loss: 1.1029 - val_mae: 0.7287\n",
            "Epoch 262/500\n",
            "120/120 [==============================] - 0s 3ms/step - loss: 1.1165 - mae: 0.7389 - val_loss: 1.0281 - val_mae: 0.6737\n",
            "Epoch 263/500\n",
            "120/120 [==============================] - 0s 3ms/step - loss: 1.0580 - mae: 0.6967 - val_loss: 1.1094 - val_mae: 0.7410\n",
            "Epoch 264/500\n",
            "120/120 [==============================] - 0s 4ms/step - loss: 1.1090 - mae: 0.7285 - val_loss: 1.1658 - val_mae: 0.7833\n",
            "Epoch 265/500\n",
            "120/120 [==============================] - 0s 4ms/step - loss: 1.1231 - mae: 0.7328 - val_loss: 1.0256 - val_mae: 0.6725\n",
            "Epoch 266/500\n",
            "120/120 [==============================] - 0s 3ms/step - loss: 1.1245 - mae: 0.7350 - val_loss: 1.1622 - val_mae: 0.7811\n",
            "Epoch 267/500\n",
            "120/120 [==============================] - 0s 4ms/step - loss: 1.1057 - mae: 0.7277 - val_loss: 1.1023 - val_mae: 0.7139\n",
            "Epoch 268/500\n",
            "120/120 [==============================] - 0s 3ms/step - loss: 1.1219 - mae: 0.7326 - val_loss: 1.1235 - val_mae: 0.7374\n",
            "Epoch 269/500\n",
            "120/120 [==============================] - 0s 3ms/step - loss: 1.1111 - mae: 0.7291 - val_loss: 1.0434 - val_mae: 0.6834\n",
            "Epoch 270/500\n",
            "120/120 [==============================] - 0s 4ms/step - loss: 1.0846 - mae: 0.7093 - val_loss: 1.1960 - val_mae: 0.7602\n",
            "Epoch 271/500\n",
            "120/120 [==============================] - 0s 3ms/step - loss: 1.1686 - mae: 0.7536 - val_loss: 1.0233 - val_mae: 0.6699\n",
            "Epoch 272/500\n",
            "120/120 [==============================] - 0s 3ms/step - loss: 1.1082 - mae: 0.7299 - val_loss: 1.0674 - val_mae: 0.7073\n",
            "Epoch 273/500\n",
            "120/120 [==============================] - 0s 3ms/step - loss: 1.0865 - mae: 0.7144 - val_loss: 1.1327 - val_mae: 0.7533\n",
            "Epoch 274/500\n",
            "120/120 [==============================] - 0s 3ms/step - loss: 1.1731 - mae: 0.7649 - val_loss: 1.0572 - val_mae: 0.6901\n",
            "Epoch 275/500\n",
            "120/120 [==============================] - 0s 3ms/step - loss: 1.0915 - mae: 0.7104 - val_loss: 1.0447 - val_mae: 0.6764\n",
            "Epoch 276/500\n",
            "120/120 [==============================] - 0s 3ms/step - loss: 1.1166 - mae: 0.7336 - val_loss: 1.0674 - val_mae: 0.7023\n",
            "Epoch 277/500\n",
            "120/120 [==============================] - 0s 3ms/step - loss: 1.1346 - mae: 0.7447 - val_loss: 1.1472 - val_mae: 0.7549\n",
            "Epoch 278/500\n",
            "120/120 [==============================] - 0s 3ms/step - loss: 1.1153 - mae: 0.7333 - val_loss: 1.1511 - val_mae: 0.7651\n",
            "Epoch 279/500\n",
            "120/120 [==============================] - 0s 3ms/step - loss: 1.1070 - mae: 0.7259 - val_loss: 1.0533 - val_mae: 0.6921\n",
            "Epoch 280/500\n",
            "120/120 [==============================] - 0s 3ms/step - loss: 1.1103 - mae: 0.7235 - val_loss: 1.0794 - val_mae: 0.7041\n",
            "Epoch 281/500\n",
            "120/120 [==============================] - 0s 3ms/step - loss: 1.1136 - mae: 0.7246 - val_loss: 1.0428 - val_mae: 0.6886\n",
            "Epoch 282/500\n",
            "120/120 [==============================] - 0s 3ms/step - loss: 1.0725 - mae: 0.7046 - val_loss: 1.0371 - val_mae: 0.6842\n",
            "Epoch 283/500\n",
            "120/120 [==============================] - 0s 4ms/step - loss: 1.1008 - mae: 0.7197 - val_loss: 1.1554 - val_mae: 0.7412\n",
            "Epoch 284/500\n",
            "120/120 [==============================] - 0s 3ms/step - loss: 1.1124 - mae: 0.7300 - val_loss: 1.1983 - val_mae: 0.7550\n",
            "Epoch 285/500\n",
            "120/120 [==============================] - 0s 3ms/step - loss: 1.1048 - mae: 0.7228 - val_loss: 1.1211 - val_mae: 0.7519\n",
            "Epoch 286/500\n",
            "120/120 [==============================] - 0s 3ms/step - loss: 1.1011 - mae: 0.7222 - val_loss: 1.1458 - val_mae: 0.7433\n",
            "Epoch 287/500\n",
            "120/120 [==============================] - 0s 4ms/step - loss: 1.1451 - mae: 0.7396 - val_loss: 1.5155 - val_mae: 0.8805\n",
            "Epoch 288/500\n",
            "120/120 [==============================] - 0s 3ms/step - loss: 1.1401 - mae: 0.7449 - val_loss: 1.0997 - val_mae: 0.7136\n",
            "Epoch 289/500\n",
            "120/120 [==============================] - 0s 3ms/step - loss: 1.1011 - mae: 0.7223 - val_loss: 1.0085 - val_mae: 0.6677\n",
            "Epoch 290/500\n",
            "120/120 [==============================] - 0s 3ms/step - loss: 1.0874 - mae: 0.7114 - val_loss: 1.0751 - val_mae: 0.7062\n",
            "Epoch 291/500\n",
            "120/120 [==============================] - 0s 4ms/step - loss: 1.1267 - mae: 0.7372 - val_loss: 1.0946 - val_mae: 0.7220\n",
            "Epoch 292/500\n",
            "120/120 [==============================] - 0s 3ms/step - loss: 1.1124 - mae: 0.7286 - val_loss: 1.1061 - val_mae: 0.7355\n",
            "Epoch 293/500\n",
            "120/120 [==============================] - 0s 3ms/step - loss: 1.0962 - mae: 0.7226 - val_loss: 1.0522 - val_mae: 0.6944\n",
            "Epoch 294/500\n",
            "120/120 [==============================] - 0s 3ms/step - loss: 1.0885 - mae: 0.7219 - val_loss: 1.0270 - val_mae: 0.6742\n",
            "Epoch 295/500\n",
            "120/120 [==============================] - 0s 4ms/step - loss: 1.1230 - mae: 0.7435 - val_loss: 1.1852 - val_mae: 0.7631\n",
            "Epoch 296/500\n",
            "120/120 [==============================] - 0s 4ms/step - loss: 1.1126 - mae: 0.7328 - val_loss: 1.1182 - val_mae: 0.7458\n",
            "Epoch 297/500\n",
            "120/120 [==============================] - 0s 4ms/step - loss: 1.1165 - mae: 0.7222 - val_loss: 1.0592 - val_mae: 0.6957\n",
            "Epoch 298/500\n",
            "120/120 [==============================] - 0s 3ms/step - loss: 1.1123 - mae: 0.7309 - val_loss: 1.2706 - val_mae: 0.7768\n",
            "Epoch 299/500\n",
            "120/120 [==============================] - 0s 3ms/step - loss: 1.0674 - mae: 0.6982 - val_loss: 1.1918 - val_mae: 0.7800\n",
            "Epoch 300/500\n",
            "120/120 [==============================] - 0s 4ms/step - loss: 1.0881 - mae: 0.7134 - val_loss: 1.1223 - val_mae: 0.7511\n",
            "Epoch 301/500\n",
            "120/120 [==============================] - 0s 3ms/step - loss: 1.1047 - mae: 0.7219 - val_loss: 1.1451 - val_mae: 0.7237\n",
            "Epoch 302/500\n",
            "120/120 [==============================] - 0s 4ms/step - loss: 1.1012 - mae: 0.7154 - val_loss: 1.0261 - val_mae: 0.6690\n",
            "Epoch 303/500\n",
            "120/120 [==============================] - 0s 4ms/step - loss: 1.1211 - mae: 0.7333 - val_loss: 1.1909 - val_mae: 0.7875\n",
            "Epoch 304/500\n",
            "120/120 [==============================] - 0s 4ms/step - loss: 1.1041 - mae: 0.7246 - val_loss: 1.0742 - val_mae: 0.7200\n",
            "Epoch 305/500\n",
            "120/120 [==============================] - 0s 3ms/step - loss: 1.0737 - mae: 0.7087 - val_loss: 1.0821 - val_mae: 0.7081\n",
            "Epoch 306/500\n",
            "120/120 [==============================] - 0s 3ms/step - loss: 1.1342 - mae: 0.7339 - val_loss: 1.1730 - val_mae: 0.7550\n",
            "Epoch 307/500\n",
            "120/120 [==============================] - 0s 3ms/step - loss: 1.1278 - mae: 0.7384 - val_loss: 1.0440 - val_mae: 0.6954\n",
            "Epoch 308/500\n",
            "120/120 [==============================] - 0s 3ms/step - loss: 1.0967 - mae: 0.7197 - val_loss: 1.2943 - val_mae: 0.8319\n",
            "Epoch 309/500\n",
            "120/120 [==============================] - 1s 4ms/step - loss: 1.1240 - mae: 0.7346 - val_loss: 1.0494 - val_mae: 0.6921\n",
            "Epoch 310/500\n",
            "120/120 [==============================] - 0s 3ms/step - loss: 1.0881 - mae: 0.7204 - val_loss: 1.1475 - val_mae: 0.7497\n",
            "Epoch 311/500\n",
            "120/120 [==============================] - 0s 3ms/step - loss: 1.0960 - mae: 0.7170 - val_loss: 1.1099 - val_mae: 0.7284\n",
            "Epoch 312/500\n",
            "120/120 [==============================] - 0s 3ms/step - loss: 1.0991 - mae: 0.7180 - val_loss: 1.3309 - val_mae: 0.8705\n",
            "Epoch 313/500\n",
            "120/120 [==============================] - 0s 3ms/step - loss: 1.1225 - mae: 0.7350 - val_loss: 1.3681 - val_mae: 0.8575\n",
            "Epoch 314/500\n",
            "120/120 [==============================] - 0s 3ms/step - loss: 1.1192 - mae: 0.7349 - val_loss: 1.0385 - val_mae: 0.6871\n",
            "Epoch 315/500\n",
            "120/120 [==============================] - 0s 3ms/step - loss: 1.0743 - mae: 0.7065 - val_loss: 1.1356 - val_mae: 0.7351\n",
            "Epoch 316/500\n",
            "120/120 [==============================] - 0s 3ms/step - loss: 1.1093 - mae: 0.7308 - val_loss: 1.5421 - val_mae: 0.9675\n",
            "Epoch 317/500\n",
            "120/120 [==============================] - 0s 3ms/step - loss: 1.1349 - mae: 0.7351 - val_loss: 1.0550 - val_mae: 0.6953\n",
            "Epoch 318/500\n",
            "120/120 [==============================] - 0s 3ms/step - loss: 1.1255 - mae: 0.7304 - val_loss: 1.0323 - val_mae: 0.6757\n",
            "Epoch 319/500\n",
            "120/120 [==============================] - 0s 3ms/step - loss: 1.0914 - mae: 0.7167 - val_loss: 1.0391 - val_mae: 0.6800\n",
            "Epoch 320/500\n",
            "120/120 [==============================] - 0s 3ms/step - loss: 1.0746 - mae: 0.7061 - val_loss: 1.0132 - val_mae: 0.6701\n",
            "Epoch 321/500\n",
            "120/120 [==============================] - 0s 3ms/step - loss: 1.0951 - mae: 0.7152 - val_loss: 1.0796 - val_mae: 0.7030\n",
            "Epoch 322/500\n",
            "120/120 [==============================] - 0s 3ms/step - loss: 1.1137 - mae: 0.7253 - val_loss: 1.0339 - val_mae: 0.6820\n",
            "Epoch 323/500\n",
            "120/120 [==============================] - 0s 3ms/step - loss: 1.0671 - mae: 0.7025 - val_loss: 1.0136 - val_mae: 0.6701\n",
            "Epoch 324/500\n",
            "120/120 [==============================] - 0s 3ms/step - loss: 1.1033 - mae: 0.7254 - val_loss: 1.0825 - val_mae: 0.7032\n",
            "Epoch 325/500\n",
            "120/120 [==============================] - 0s 3ms/step - loss: 1.1000 - mae: 0.7167 - val_loss: 1.0843 - val_mae: 0.7028\n",
            "Epoch 326/500\n",
            "120/120 [==============================] - 0s 3ms/step - loss: 1.1032 - mae: 0.7225 - val_loss: 1.0613 - val_mae: 0.6917\n",
            "Epoch 327/500\n",
            "120/120 [==============================] - 0s 3ms/step - loss: 1.1018 - mae: 0.7191 - val_loss: 1.1969 - val_mae: 0.7611\n",
            "Epoch 328/500\n",
            "120/120 [==============================] - 0s 3ms/step - loss: 1.1033 - mae: 0.7216 - val_loss: 1.0345 - val_mae: 0.6772\n",
            "Epoch 329/500\n",
            "120/120 [==============================] - 0s 3ms/step - loss: 1.0928 - mae: 0.7216 - val_loss: 1.2305 - val_mae: 0.8074\n",
            "Epoch 330/500\n",
            "120/120 [==============================] - 0s 3ms/step - loss: 1.1165 - mae: 0.7337 - val_loss: 1.0215 - val_mae: 0.6724\n",
            "Epoch 331/500\n",
            "120/120 [==============================] - 0s 3ms/step - loss: 1.0915 - mae: 0.7146 - val_loss: 1.0143 - val_mae: 0.6678\n",
            "Epoch 332/500\n",
            "120/120 [==============================] - 0s 4ms/step - loss: 1.0613 - mae: 0.6948 - val_loss: 1.0509 - val_mae: 0.6900\n",
            "Epoch 333/500\n",
            "120/120 [==============================] - 0s 3ms/step - loss: 1.1019 - mae: 0.7252 - val_loss: 1.1281 - val_mae: 0.7365\n",
            "Epoch 334/500\n",
            "120/120 [==============================] - 0s 4ms/step - loss: 1.1234 - mae: 0.7428 - val_loss: 1.1047 - val_mae: 0.7177\n",
            "Epoch 335/500\n",
            "120/120 [==============================] - 0s 3ms/step - loss: 1.0772 - mae: 0.7085 - val_loss: 1.2396 - val_mae: 0.7924\n",
            "Epoch 336/500\n",
            "120/120 [==============================] - 0s 3ms/step - loss: 1.0994 - mae: 0.7196 - val_loss: 1.0408 - val_mae: 0.6867\n",
            "Epoch 337/500\n",
            "120/120 [==============================] - 0s 3ms/step - loss: 1.0733 - mae: 0.7044 - val_loss: 1.0828 - val_mae: 0.7050\n",
            "Epoch 338/500\n",
            "120/120 [==============================] - 0s 4ms/step - loss: 1.1305 - mae: 0.7381 - val_loss: 1.1079 - val_mae: 0.7507\n",
            "Epoch 339/500\n",
            "120/120 [==============================] - 0s 3ms/step - loss: 1.0569 - mae: 0.7012 - val_loss: 1.0429 - val_mae: 0.6755\n",
            "Epoch 340/500\n",
            "120/120 [==============================] - 0s 3ms/step - loss: 1.0718 - mae: 0.7008 - val_loss: 1.0908 - val_mae: 0.7031\n",
            "Epoch 341/500\n",
            "120/120 [==============================] - 0s 3ms/step - loss: 1.1128 - mae: 0.7254 - val_loss: 1.1204 - val_mae: 0.7625\n",
            "Epoch 342/500\n",
            "120/120 [==============================] - 0s 3ms/step - loss: 1.1164 - mae: 0.7302 - val_loss: 1.0670 - val_mae: 0.7050\n",
            "Epoch 343/500\n",
            "120/120 [==============================] - 0s 3ms/step - loss: 1.1158 - mae: 0.7295 - val_loss: 1.0389 - val_mae: 0.6897\n",
            "Epoch 344/500\n",
            "120/120 [==============================] - 0s 3ms/step - loss: 1.0854 - mae: 0.7156 - val_loss: 1.0265 - val_mae: 0.6747\n",
            "Epoch 345/500\n",
            "120/120 [==============================] - 0s 3ms/step - loss: 1.0978 - mae: 0.7245 - val_loss: 1.1282 - val_mae: 0.7307\n",
            "Epoch 346/500\n",
            "120/120 [==============================] - 0s 3ms/step - loss: 1.0748 - mae: 0.7061 - val_loss: 1.1697 - val_mae: 0.7611\n",
            "Epoch 347/500\n",
            "120/120 [==============================] - 0s 3ms/step - loss: 1.0826 - mae: 0.7112 - val_loss: 1.0375 - val_mae: 0.6808\n",
            "Epoch 348/500\n",
            "120/120 [==============================] - 0s 3ms/step - loss: 1.1037 - mae: 0.7199 - val_loss: 1.0978 - val_mae: 0.7192\n",
            "Epoch 349/500\n",
            "120/120 [==============================] - 0s 3ms/step - loss: 1.0825 - mae: 0.7162 - val_loss: 1.1024 - val_mae: 0.7158\n",
            "Epoch 350/500\n",
            "120/120 [==============================] - 0s 3ms/step - loss: 1.1276 - mae: 0.7382 - val_loss: 1.1929 - val_mae: 0.7537\n",
            "Epoch 351/500\n",
            "120/120 [==============================] - 0s 3ms/step - loss: 1.0689 - mae: 0.7035 - val_loss: 1.0270 - val_mae: 0.6801\n",
            "Epoch 352/500\n",
            "120/120 [==============================] - 0s 3ms/step - loss: 1.1684 - mae: 0.7620 - val_loss: 1.2985 - val_mae: 0.8050\n",
            "Epoch 353/500\n",
            "120/120 [==============================] - 0s 3ms/step - loss: 1.0722 - mae: 0.7051 - val_loss: 1.0379 - val_mae: 0.6903\n",
            "Epoch 354/500\n",
            "120/120 [==============================] - 0s 3ms/step - loss: 1.0642 - mae: 0.7014 - val_loss: 1.0264 - val_mae: 0.6723\n",
            "Epoch 355/500\n",
            "120/120 [==============================] - 0s 3ms/step - loss: 1.0561 - mae: 0.6952 - val_loss: 1.1337 - val_mae: 0.7304\n",
            "Epoch 356/500\n",
            "120/120 [==============================] - 0s 3ms/step - loss: 1.0778 - mae: 0.7077 - val_loss: 1.1036 - val_mae: 0.7388\n",
            "Epoch 357/500\n",
            "120/120 [==============================] - 0s 3ms/step - loss: 1.0867 - mae: 0.7161 - val_loss: 1.0909 - val_mae: 0.7019\n",
            "Epoch 358/500\n",
            "120/120 [==============================] - 0s 3ms/step - loss: 1.0710 - mae: 0.7079 - val_loss: 1.0740 - val_mae: 0.7084\n",
            "Epoch 359/500\n",
            "120/120 [==============================] - 0s 4ms/step - loss: 1.0844 - mae: 0.7155 - val_loss: 1.1241 - val_mae: 0.7285\n",
            "Epoch 360/500\n",
            "120/120 [==============================] - 0s 3ms/step - loss: 1.0942 - mae: 0.7146 - val_loss: 1.1714 - val_mae: 0.7563\n",
            "Epoch 361/500\n",
            "120/120 [==============================] - 0s 3ms/step - loss: 1.0803 - mae: 0.7106 - val_loss: 1.0336 - val_mae: 0.6891\n",
            "Epoch 362/500\n",
            "120/120 [==============================] - 0s 4ms/step - loss: 1.1030 - mae: 0.7222 - val_loss: 1.0483 - val_mae: 0.6901\n",
            "Epoch 363/500\n",
            "120/120 [==============================] - 0s 3ms/step - loss: 1.0666 - mae: 0.7087 - val_loss: 1.0656 - val_mae: 0.6968\n",
            "Epoch 364/500\n",
            "120/120 [==============================] - 0s 4ms/step - loss: 1.1085 - mae: 0.7214 - val_loss: 1.1195 - val_mae: 0.7274\n",
            "Epoch 365/500\n",
            "120/120 [==============================] - 0s 3ms/step - loss: 1.0886 - mae: 0.7129 - val_loss: 1.1531 - val_mae: 0.7470\n",
            "Epoch 366/500\n",
            "120/120 [==============================] - 0s 3ms/step - loss: 1.0963 - mae: 0.7261 - val_loss: 1.2058 - val_mae: 0.7427\n",
            "Epoch 367/500\n",
            "120/120 [==============================] - 0s 3ms/step - loss: 1.0775 - mae: 0.7113 - val_loss: 1.0218 - val_mae: 0.6730\n",
            "Epoch 368/500\n",
            "120/120 [==============================] - 0s 3ms/step - loss: 1.0762 - mae: 0.7068 - val_loss: 1.1250 - val_mae: 0.7164\n",
            "Epoch 369/500\n",
            "120/120 [==============================] - 0s 3ms/step - loss: 1.0952 - mae: 0.7181 - val_loss: 1.1139 - val_mae: 0.7492\n",
            "Epoch 370/500\n",
            "120/120 [==============================] - 0s 4ms/step - loss: 1.1045 - mae: 0.7284 - val_loss: 1.0961 - val_mae: 0.7134\n",
            "Epoch 371/500\n",
            "120/120 [==============================] - 1s 4ms/step - loss: 1.0740 - mae: 0.7104 - val_loss: 1.0850 - val_mae: 0.7104\n",
            "Epoch 372/500\n",
            "120/120 [==============================] - 0s 4ms/step - loss: 1.0875 - mae: 0.7160 - val_loss: 1.0112 - val_mae: 0.6674\n",
            "Epoch 373/500\n",
            "120/120 [==============================] - 0s 3ms/step - loss: 1.1005 - mae: 0.7246 - val_loss: 1.0672 - val_mae: 0.6962\n",
            "Epoch 374/500\n",
            "120/120 [==============================] - 0s 3ms/step - loss: 1.0890 - mae: 0.7123 - val_loss: 1.1438 - val_mae: 0.7313\n",
            "Epoch 375/500\n",
            "120/120 [==============================] - 0s 4ms/step - loss: 1.1161 - mae: 0.7255 - val_loss: 1.0166 - val_mae: 0.6684\n",
            "Epoch 376/500\n",
            "120/120 [==============================] - 0s 4ms/step - loss: 1.0680 - mae: 0.6995 - val_loss: 1.0515 - val_mae: 0.6973\n",
            "Epoch 377/500\n",
            "120/120 [==============================] - 0s 4ms/step - loss: 1.0616 - mae: 0.6984 - val_loss: 1.0098 - val_mae: 0.6628\n",
            "Epoch 378/500\n",
            "120/120 [==============================] - 0s 3ms/step - loss: 1.0957 - mae: 0.7160 - val_loss: 1.1311 - val_mae: 0.7542\n",
            "Epoch 379/500\n",
            "120/120 [==============================] - 0s 4ms/step - loss: 1.0796 - mae: 0.7157 - val_loss: 1.0650 - val_mae: 0.6965\n",
            "Epoch 380/500\n",
            "120/120 [==============================] - 0s 4ms/step - loss: 1.1026 - mae: 0.7192 - val_loss: 1.2257 - val_mae: 0.8160\n",
            "Epoch 381/500\n",
            "120/120 [==============================] - 0s 3ms/step - loss: 1.0722 - mae: 0.7071 - val_loss: 1.1105 - val_mae: 0.7053\n",
            "Epoch 382/500\n",
            "120/120 [==============================] - 0s 3ms/step - loss: 1.0891 - mae: 0.7181 - val_loss: 1.0222 - val_mae: 0.6682\n",
            "Epoch 383/500\n",
            "120/120 [==============================] - 0s 3ms/step - loss: 1.0943 - mae: 0.7247 - val_loss: 1.2049 - val_mae: 0.8089\n",
            "Epoch 384/500\n",
            "120/120 [==============================] - 0s 3ms/step - loss: 1.0713 - mae: 0.7063 - val_loss: 1.0266 - val_mae: 0.6711\n",
            "Epoch 385/500\n",
            "120/120 [==============================] - 0s 4ms/step - loss: 1.0638 - mae: 0.7005 - val_loss: 1.0328 - val_mae: 0.6764\n",
            "Epoch 386/500\n",
            "120/120 [==============================] - 0s 3ms/step - loss: 1.0684 - mae: 0.7059 - val_loss: 1.0364 - val_mae: 0.6793\n",
            "Epoch 387/500\n",
            "120/120 [==============================] - 0s 3ms/step - loss: 1.0867 - mae: 0.7134 - val_loss: 1.0230 - val_mae: 0.6727\n",
            "Epoch 388/500\n",
            "120/120 [==============================] - 0s 4ms/step - loss: 1.0796 - mae: 0.7107 - val_loss: 1.0489 - val_mae: 0.6998\n",
            "Epoch 389/500\n",
            "120/120 [==============================] - 0s 3ms/step - loss: 1.0778 - mae: 0.7117 - val_loss: 1.1670 - val_mae: 0.7891\n",
            "Epoch 390/500\n",
            "120/120 [==============================] - 0s 3ms/step - loss: 1.0943 - mae: 0.7206 - val_loss: 1.1575 - val_mae: 0.7797\n",
            "Epoch 391/500\n",
            "120/120 [==============================] - 0s 3ms/step - loss: 1.1172 - mae: 0.7255 - val_loss: 1.0311 - val_mae: 0.6773\n",
            "Epoch 392/500\n",
            "120/120 [==============================] - 0s 3ms/step - loss: 1.0721 - mae: 0.7064 - val_loss: 1.1159 - val_mae: 0.7424\n",
            "Epoch 393/500\n",
            "120/120 [==============================] - 0s 4ms/step - loss: 1.0779 - mae: 0.7162 - val_loss: 1.0623 - val_mae: 0.7082\n",
            "Epoch 394/500\n",
            "120/120 [==============================] - 0s 3ms/step - loss: 1.0979 - mae: 0.7208 - val_loss: 1.0872 - val_mae: 0.7354\n",
            "Epoch 395/500\n",
            "120/120 [==============================] - 0s 4ms/step - loss: 1.0668 - mae: 0.7072 - val_loss: 1.0337 - val_mae: 0.6759\n",
            "Epoch 396/500\n",
            "120/120 [==============================] - 0s 3ms/step - loss: 1.0421 - mae: 0.6898 - val_loss: 1.0539 - val_mae: 0.6934\n",
            "Epoch 397/500\n",
            "120/120 [==============================] - 0s 3ms/step - loss: 1.0552 - mae: 0.6980 - val_loss: 1.0657 - val_mae: 0.7111\n",
            "Epoch 398/500\n",
            "120/120 [==============================] - 0s 3ms/step - loss: 1.0694 - mae: 0.7032 - val_loss: 1.0645 - val_mae: 0.7048\n",
            "Epoch 399/500\n",
            "120/120 [==============================] - 0s 3ms/step - loss: 1.0730 - mae: 0.7098 - val_loss: 1.0992 - val_mae: 0.7105\n",
            "Epoch 400/500\n",
            "120/120 [==============================] - 0s 3ms/step - loss: 1.0802 - mae: 0.7087 - val_loss: 1.0197 - val_mae: 0.6718\n",
            "Epoch 401/500\n",
            "120/120 [==============================] - 0s 3ms/step - loss: 1.0793 - mae: 0.7117 - val_loss: 1.0702 - val_mae: 0.7168\n",
            "Epoch 402/500\n",
            "120/120 [==============================] - 0s 3ms/step - loss: 1.0677 - mae: 0.7043 - val_loss: 1.0481 - val_mae: 0.6801\n",
            "Epoch 403/500\n",
            "120/120 [==============================] - 0s 3ms/step - loss: 1.0931 - mae: 0.7146 - val_loss: 1.0237 - val_mae: 0.6783\n",
            "Epoch 404/500\n",
            "120/120 [==============================] - 0s 4ms/step - loss: 1.1057 - mae: 0.7203 - val_loss: 1.0974 - val_mae: 0.7303\n",
            "Epoch 405/500\n",
            "120/120 [==============================] - 0s 3ms/step - loss: 1.0726 - mae: 0.7043 - val_loss: 1.0186 - val_mae: 0.6743\n",
            "Epoch 406/500\n",
            "120/120 [==============================] - 0s 3ms/step - loss: 1.0531 - mae: 0.6976 - val_loss: 1.0719 - val_mae: 0.7069\n",
            "Epoch 407/500\n",
            "120/120 [==============================] - 0s 3ms/step - loss: 1.0626 - mae: 0.7026 - val_loss: 1.0438 - val_mae: 0.6975\n",
            "Epoch 408/500\n",
            "120/120 [==============================] - 0s 3ms/step - loss: 1.0863 - mae: 0.7175 - val_loss: 1.0558 - val_mae: 0.6850\n",
            "Epoch 409/500\n",
            "120/120 [==============================] - 0s 3ms/step - loss: 1.1050 - mae: 0.7201 - val_loss: 1.1104 - val_mae: 0.7069\n",
            "Epoch 410/500\n",
            "120/120 [==============================] - 0s 3ms/step - loss: 1.0897 - mae: 0.7128 - val_loss: 1.1806 - val_mae: 0.7813\n",
            "Epoch 411/500\n",
            "120/120 [==============================] - 0s 3ms/step - loss: 1.1039 - mae: 0.7234 - val_loss: 1.2481 - val_mae: 0.7932\n",
            "Epoch 412/500\n",
            "120/120 [==============================] - 0s 3ms/step - loss: 1.0842 - mae: 0.7141 - val_loss: 1.0331 - val_mae: 0.6831\n",
            "Epoch 413/500\n",
            "120/120 [==============================] - 0s 3ms/step - loss: 1.1303 - mae: 0.7379 - val_loss: 1.0486 - val_mae: 0.6907\n",
            "Epoch 414/500\n",
            "120/120 [==============================] - 0s 3ms/step - loss: 1.0668 - mae: 0.7058 - val_loss: 1.0257 - val_mae: 0.6766\n",
            "Epoch 415/500\n",
            "120/120 [==============================] - 0s 3ms/step - loss: 1.0954 - mae: 0.7268 - val_loss: 1.0297 - val_mae: 0.6812\n",
            "Epoch 416/500\n",
            "120/120 [==============================] - 0s 3ms/step - loss: 1.0725 - mae: 0.7101 - val_loss: 1.0785 - val_mae: 0.7190\n",
            "Epoch 417/500\n",
            "120/120 [==============================] - 0s 3ms/step - loss: 1.0767 - mae: 0.7076 - val_loss: 1.0563 - val_mae: 0.7021\n",
            "Epoch 418/500\n",
            "120/120 [==============================] - 0s 3ms/step - loss: 1.0810 - mae: 0.7134 - val_loss: 1.0706 - val_mae: 0.7172\n",
            "Epoch 419/500\n",
            "120/120 [==============================] - 0s 3ms/step - loss: 1.0770 - mae: 0.7111 - val_loss: 1.1306 - val_mae: 0.7456\n",
            "Epoch 420/500\n",
            "120/120 [==============================] - 0s 4ms/step - loss: 1.0847 - mae: 0.7157 - val_loss: 1.0309 - val_mae: 0.6723\n",
            "Epoch 421/500\n",
            "120/120 [==============================] - 0s 3ms/step - loss: 1.0804 - mae: 0.7159 - val_loss: 1.1213 - val_mae: 0.7276\n",
            "Epoch 422/500\n",
            "120/120 [==============================] - 0s 3ms/step - loss: 1.0540 - mae: 0.6921 - val_loss: 1.0301 - val_mae: 0.6813\n",
            "Epoch 423/500\n",
            "120/120 [==============================] - 0s 3ms/step - loss: 1.0705 - mae: 0.7040 - val_loss: 1.0019 - val_mae: 0.6555\n",
            "Epoch 424/500\n",
            "120/120 [==============================] - 0s 4ms/step - loss: 1.0636 - mae: 0.6994 - val_loss: 1.0602 - val_mae: 0.7063\n",
            "Epoch 425/500\n",
            "120/120 [==============================] - 0s 3ms/step - loss: 1.0734 - mae: 0.7071 - val_loss: 1.1279 - val_mae: 0.7238\n",
            "Epoch 426/500\n",
            "120/120 [==============================] - 0s 3ms/step - loss: 1.0650 - mae: 0.6975 - val_loss: 1.0124 - val_mae: 0.6670\n",
            "Epoch 427/500\n",
            "120/120 [==============================] - 0s 3ms/step - loss: 1.1137 - mae: 0.7307 - val_loss: 1.2882 - val_mae: 0.8279\n",
            "Epoch 428/500\n",
            "120/120 [==============================] - 0s 4ms/step - loss: 1.0742 - mae: 0.7096 - val_loss: 1.1444 - val_mae: 0.7790\n",
            "Epoch 429/500\n",
            "120/120 [==============================] - 0s 3ms/step - loss: 1.0802 - mae: 0.7063 - val_loss: 1.0257 - val_mae: 0.6796\n",
            "Epoch 430/500\n",
            "120/120 [==============================] - 0s 3ms/step - loss: 1.0722 - mae: 0.7078 - val_loss: 1.0700 - val_mae: 0.7022\n",
            "Epoch 431/500\n",
            "120/120 [==============================] - 0s 3ms/step - loss: 1.0588 - mae: 0.6969 - val_loss: 1.0519 - val_mae: 0.6973\n",
            "Epoch 432/500\n",
            "120/120 [==============================] - 0s 3ms/step - loss: 1.0748 - mae: 0.7085 - val_loss: 1.0860 - val_mae: 0.7066\n",
            "Epoch 433/500\n",
            "120/120 [==============================] - 0s 4ms/step - loss: 1.0884 - mae: 0.7111 - val_loss: 1.0271 - val_mae: 0.6839\n",
            "Epoch 434/500\n",
            "120/120 [==============================] - 0s 3ms/step - loss: 1.0968 - mae: 0.7222 - val_loss: 1.0649 - val_mae: 0.7070\n",
            "Epoch 435/500\n",
            "120/120 [==============================] - 0s 3ms/step - loss: 1.0521 - mae: 0.6939 - val_loss: 1.1047 - val_mae: 0.7199\n",
            "Epoch 436/500\n",
            "120/120 [==============================] - 0s 3ms/step - loss: 1.0672 - mae: 0.7024 - val_loss: 1.0007 - val_mae: 0.6581\n",
            "Epoch 437/500\n",
            "120/120 [==============================] - 0s 3ms/step - loss: 1.0564 - mae: 0.6949 - val_loss: 1.0368 - val_mae: 0.6709\n",
            "Epoch 438/500\n",
            "120/120 [==============================] - 0s 3ms/step - loss: 1.0761 - mae: 0.7137 - val_loss: 1.0154 - val_mae: 0.6692\n",
            "Epoch 439/500\n",
            "120/120 [==============================] - 0s 3ms/step - loss: 1.0877 - mae: 0.7173 - val_loss: 1.0251 - val_mae: 0.6772\n",
            "Epoch 440/500\n",
            "120/120 [==============================] - 0s 3ms/step - loss: 1.1039 - mae: 0.7322 - val_loss: 1.0880 - val_mae: 0.7242\n",
            "Epoch 441/500\n",
            "120/120 [==============================] - 0s 4ms/step - loss: 1.0569 - mae: 0.6949 - val_loss: 1.0568 - val_mae: 0.6981\n",
            "Epoch 442/500\n",
            "120/120 [==============================] - 0s 3ms/step - loss: 1.0579 - mae: 0.6973 - val_loss: 1.0187 - val_mae: 0.6682\n",
            "Epoch 443/500\n",
            "120/120 [==============================] - 0s 3ms/step - loss: 1.0561 - mae: 0.6969 - val_loss: 1.0861 - val_mae: 0.7163\n",
            "Epoch 444/500\n",
            "120/120 [==============================] - 0s 4ms/step - loss: 1.1097 - mae: 0.7250 - val_loss: 1.0318 - val_mae: 0.6734\n",
            "Epoch 445/500\n",
            "120/120 [==============================] - 0s 3ms/step - loss: 1.0918 - mae: 0.7185 - val_loss: 1.0372 - val_mae: 0.6791\n",
            "Epoch 446/500\n",
            "120/120 [==============================] - 0s 4ms/step - loss: 1.0564 - mae: 0.6924 - val_loss: 1.0353 - val_mae: 0.6808\n",
            "Epoch 447/500\n",
            "120/120 [==============================] - 0s 3ms/step - loss: 1.0619 - mae: 0.6975 - val_loss: 1.2015 - val_mae: 0.7384\n",
            "Epoch 448/500\n",
            "120/120 [==============================] - 0s 3ms/step - loss: 1.0524 - mae: 0.6952 - val_loss: 1.0459 - val_mae: 0.6800\n",
            "Epoch 449/500\n",
            "120/120 [==============================] - 0s 3ms/step - loss: 1.0775 - mae: 0.7070 - val_loss: 1.1583 - val_mae: 0.7722\n",
            "Epoch 450/500\n",
            "120/120 [==============================] - 0s 4ms/step - loss: 1.0790 - mae: 0.7124 - val_loss: 1.0852 - val_mae: 0.7128\n",
            "Epoch 451/500\n",
            "120/120 [==============================] - 0s 3ms/step - loss: 1.0666 - mae: 0.7069 - val_loss: 1.0303 - val_mae: 0.6799\n",
            "Epoch 452/500\n",
            "120/120 [==============================] - 0s 4ms/step - loss: 1.0763 - mae: 0.7099 - val_loss: 1.0651 - val_mae: 0.7033\n",
            "Epoch 453/500\n",
            "120/120 [==============================] - 0s 3ms/step - loss: 1.0700 - mae: 0.7055 - val_loss: 1.0970 - val_mae: 0.7385\n",
            "Epoch 454/500\n",
            "120/120 [==============================] - 0s 3ms/step - loss: 1.0677 - mae: 0.7048 - val_loss: 1.1293 - val_mae: 0.7258\n",
            "Epoch 455/500\n",
            "120/120 [==============================] - 0s 3ms/step - loss: 1.0590 - mae: 0.6967 - val_loss: 1.0606 - val_mae: 0.7034\n",
            "Epoch 456/500\n",
            "120/120 [==============================] - 0s 3ms/step - loss: 1.0659 - mae: 0.7062 - val_loss: 1.0689 - val_mae: 0.6996\n",
            "Epoch 457/500\n",
            "120/120 [==============================] - 0s 3ms/step - loss: 1.0524 - mae: 0.6945 - val_loss: 1.0189 - val_mae: 0.6758\n",
            "Epoch 458/500\n",
            "120/120 [==============================] - 0s 4ms/step - loss: 1.0508 - mae: 0.6962 - val_loss: 1.0680 - val_mae: 0.7020\n",
            "Epoch 459/500\n",
            "120/120 [==============================] - 0s 4ms/step - loss: 1.0646 - mae: 0.7012 - val_loss: 1.0628 - val_mae: 0.7088\n",
            "Epoch 460/500\n",
            "120/120 [==============================] - 0s 3ms/step - loss: 1.0735 - mae: 0.7091 - val_loss: 1.2147 - val_mae: 0.7809\n",
            "Epoch 461/500\n",
            "120/120 [==============================] - 0s 3ms/step - loss: 1.0779 - mae: 0.7102 - val_loss: 1.0513 - val_mae: 0.6883\n",
            "Epoch 462/500\n",
            "120/120 [==============================] - 0s 3ms/step - loss: 1.0611 - mae: 0.6987 - val_loss: 1.0133 - val_mae: 0.6665\n",
            "Epoch 463/500\n",
            "120/120 [==============================] - 0s 3ms/step - loss: 1.0511 - mae: 0.6938 - val_loss: 1.0384 - val_mae: 0.6779\n",
            "Epoch 464/500\n",
            "120/120 [==============================] - 0s 3ms/step - loss: 1.0770 - mae: 0.7061 - val_loss: 1.2025 - val_mae: 0.7784\n",
            "Epoch 465/500\n",
            "120/120 [==============================] - 0s 3ms/step - loss: 1.0862 - mae: 0.7115 - val_loss: 1.0574 - val_mae: 0.7038\n",
            "Epoch 466/500\n",
            "120/120 [==============================] - 0s 3ms/step - loss: 1.0558 - mae: 0.6962 - val_loss: 1.0922 - val_mae: 0.7295\n",
            "Epoch 467/500\n",
            "120/120 [==============================] - 0s 3ms/step - loss: 1.0684 - mae: 0.7066 - val_loss: 1.0194 - val_mae: 0.6724\n",
            "Epoch 468/500\n",
            "120/120 [==============================] - 0s 3ms/step - loss: 1.0589 - mae: 0.6978 - val_loss: 1.0563 - val_mae: 0.6994\n",
            "Epoch 469/500\n",
            "120/120 [==============================] - 0s 3ms/step - loss: 1.0460 - mae: 0.6930 - val_loss: 1.0358 - val_mae: 0.6889\n",
            "Epoch 470/500\n",
            "120/120 [==============================] - 0s 3ms/step - loss: 1.0495 - mae: 0.6924 - val_loss: 1.0468 - val_mae: 0.6854\n",
            "Epoch 471/500\n",
            "120/120 [==============================] - 0s 3ms/step - loss: 1.0707 - mae: 0.7099 - val_loss: 1.0548 - val_mae: 0.7025\n",
            "Epoch 472/500\n",
            "120/120 [==============================] - 0s 3ms/step - loss: 1.0606 - mae: 0.6957 - val_loss: 1.0982 - val_mae: 0.7088\n",
            "Epoch 473/500\n",
            "120/120 [==============================] - 0s 3ms/step - loss: 1.1278 - mae: 0.7448 - val_loss: 1.0672 - val_mae: 0.6912\n",
            "Epoch 474/500\n",
            "120/120 [==============================] - 0s 4ms/step - loss: 1.0420 - mae: 0.6859 - val_loss: 1.0322 - val_mae: 0.6759\n",
            "Epoch 475/500\n",
            "120/120 [==============================] - 0s 3ms/step - loss: 1.0390 - mae: 0.6860 - val_loss: 1.0230 - val_mae: 0.6814\n",
            "Epoch 476/500\n",
            "120/120 [==============================] - 0s 3ms/step - loss: 1.0561 - mae: 0.6975 - val_loss: 1.0519 - val_mae: 0.6944\n",
            "Epoch 477/500\n",
            "120/120 [==============================] - 0s 3ms/step - loss: 1.0798 - mae: 0.7153 - val_loss: 1.0119 - val_mae: 0.6633\n",
            "Epoch 478/500\n",
            "120/120 [==============================] - 0s 3ms/step - loss: 1.0497 - mae: 0.6907 - val_loss: 1.0960 - val_mae: 0.7170\n",
            "Epoch 479/500\n",
            "120/120 [==============================] - 0s 3ms/step - loss: 1.0865 - mae: 0.7241 - val_loss: 1.1018 - val_mae: 0.7340\n",
            "Epoch 480/500\n",
            "120/120 [==============================] - 0s 4ms/step - loss: 1.0449 - mae: 0.6921 - val_loss: 1.0740 - val_mae: 0.7042\n",
            "Epoch 481/500\n",
            "120/120 [==============================] - 0s 3ms/step - loss: 1.0645 - mae: 0.6996 - val_loss: 1.1676 - val_mae: 0.7524\n",
            "Epoch 482/500\n",
            "120/120 [==============================] - 0s 3ms/step - loss: 1.0652 - mae: 0.7021 - val_loss: 1.0604 - val_mae: 0.7142\n",
            "Epoch 483/500\n",
            "120/120 [==============================] - 0s 3ms/step - loss: 1.1007 - mae: 0.7276 - val_loss: 1.0792 - val_mae: 0.7269\n",
            "Epoch 484/500\n",
            "120/120 [==============================] - 0s 4ms/step - loss: 1.0536 - mae: 0.6960 - val_loss: 1.1309 - val_mae: 0.7308\n",
            "Epoch 485/500\n",
            "120/120 [==============================] - 0s 4ms/step - loss: 1.0495 - mae: 0.6914 - val_loss: 1.1598 - val_mae: 0.7506\n",
            "Epoch 486/500\n",
            "120/120 [==============================] - 0s 3ms/step - loss: 1.0855 - mae: 0.7141 - val_loss: 1.0713 - val_mae: 0.7106\n",
            "Epoch 487/500\n",
            "120/120 [==============================] - 0s 3ms/step - loss: 1.0498 - mae: 0.6921 - val_loss: 1.1446 - val_mae: 0.7524\n",
            "Epoch 488/500\n",
            "120/120 [==============================] - 0s 3ms/step - loss: 1.0706 - mae: 0.7066 - val_loss: 1.0101 - val_mae: 0.6672\n",
            "Epoch 489/500\n",
            "120/120 [==============================] - 0s 3ms/step - loss: 1.0852 - mae: 0.7127 - val_loss: 1.0452 - val_mae: 0.6934\n",
            "Epoch 490/500\n",
            "120/120 [==============================] - 0s 3ms/step - loss: 1.0566 - mae: 0.6967 - val_loss: 1.1368 - val_mae: 0.7567\n",
            "Epoch 491/500\n",
            "120/120 [==============================] - 0s 3ms/step - loss: 1.0830 - mae: 0.7091 - val_loss: 1.0647 - val_mae: 0.7118\n",
            "Epoch 492/500\n",
            "120/120 [==============================] - 0s 3ms/step - loss: 1.0867 - mae: 0.7227 - val_loss: 1.0210 - val_mae: 0.6704\n",
            "Epoch 493/500\n",
            "120/120 [==============================] - 0s 4ms/step - loss: 1.0446 - mae: 0.6930 - val_loss: 1.0064 - val_mae: 0.6613\n",
            "Epoch 494/500\n",
            "120/120 [==============================] - 0s 3ms/step - loss: 1.0682 - mae: 0.7044 - val_loss: 1.0257 - val_mae: 0.6777\n",
            "Epoch 495/500\n",
            "120/120 [==============================] - 0s 4ms/step - loss: 1.0405 - mae: 0.6898 - val_loss: 1.1548 - val_mae: 0.7173\n",
            "Epoch 496/500\n",
            "120/120 [==============================] - 0s 3ms/step - loss: 1.0725 - mae: 0.7073 - val_loss: 1.1031 - val_mae: 0.7245\n",
            "Epoch 497/500\n",
            "120/120 [==============================] - 0s 3ms/step - loss: 1.0852 - mae: 0.7234 - val_loss: 1.0327 - val_mae: 0.6724\n",
            "Epoch 498/500\n",
            "120/120 [==============================] - 0s 3ms/step - loss: 1.0395 - mae: 0.6889 - val_loss: 1.0679 - val_mae: 0.6964\n",
            "Epoch 499/500\n",
            "120/120 [==============================] - 0s 3ms/step - loss: 1.0604 - mae: 0.7010 - val_loss: 1.0544 - val_mae: 0.6980\n",
            "Epoch 500/500\n",
            "120/120 [==============================] - 0s 4ms/step - loss: 1.0748 - mae: 0.7005 - val_loss: 1.0988 - val_mae: 0.7025\n",
            "INFO:tensorflow:Assets written to: saved_model/STM32_AI_Test/assets\n"
          ]
        }
      ]
    },
    {
      "cell_type": "markdown",
      "source": [
        "# Evaluate the training performance"
      ],
      "metadata": {
        "id": "hm2y2S51MH4s"
      }
    },
    {
      "cell_type": "code",
      "source": [
        "### Draw a graph of the loss, which is the distance between\n",
        "# the predicted and actual values during training and validation.\n",
        "train_loss = history_1.history['loss']\n",
        "val_loss = history_1.history['val_loss']\n",
        "\n",
        "epochs = range(1, len(train_loss) + 1)\n",
        "\n",
        "plt.plot(epochs, train_loss, 'g.', label='Training loss')\n",
        "plt.plot(epochs, val_loss, 'b', label='Validation loss')\n",
        "plt.title('Training and validation loss')\n",
        "plt.xlabel('Epochs')\n",
        "plt.ylabel('Loss')\n",
        "plt.legend()\n",
        "plt.show()"
      ],
      "metadata": {
        "id": "DO5sw9BxMK5E",
        "colab": {
          "base_uri": "https://localhost:8080/",
          "height": 295
        },
        "outputId": "b5f68071-5492-4815-979d-2b85e03f16d8"
      },
      "execution_count": 15,
      "outputs": [
        {
          "output_type": "display_data",
          "data": {
            "image/png": "[encoded data removed]",
            "text/plain": [
              "<Figure size 432x288 with 1 Axes>"
            ]
          },
          "metadata": {
            "needs_background": "light"
          }
        }
      ]
    },
    {
      "cell_type": "code",
      "source": [
        "# evaluate the keras model\n",
        "_, accuracy = model_1.evaluate(y_validate, x_validate)\n",
        "print('Accuracy: %.2f' % (accuracy*100))"
      ],
      "metadata": {
        "colab": {
          "base_uri": "https://localhost:8080/"
        },
        "id": "kZ6rMEUZvYZ-",
        "outputId": "7eaab0c3-57e4-4a3f-c295-ab0966d98e2a"
      },
      "execution_count": 16,
      "outputs": [
        {
          "output_type": "stream",
          "name": "stdout",
          "text": [
            "63/63 [==============================] - 0s 2ms/step - loss: 1.0988 - mae: 0.7025\n",
            "Accuracy: 70.25\n"
          ]
        }
      ]
    },
    {
      "cell_type": "code",
      "metadata": {
        "id": "i13eVIT3B9Mj",
        "outputId": "98dabd3d-52f6-4ee2-aa45-c5d180f49900",
        "colab": {
          "base_uri": "https://localhost:8080/"
        }
      },
      "source": [
        "# Test a couple of waveforms\n",
        "# remember:\n",
        "#     y = waveforms\n",
        "#     x = truth parameters\n",
        "\n",
        "x_test = x_values[1]\n",
        "y_test = np.array(generateTemplate(position = x_test[0], pulse_length = x_test[1], height=x_test[2], noise=0))\n",
        "\n",
        "# waveform needs to be reshaped to be fed into ANN\n",
        "y_test = y_test.reshape(1,128)\n",
        "\n",
        "# try, whether we can reconstruct the parameters x_test from the waveform y_test\n",
        "model_1.make_predict_function()\n",
        "x_test_pred = np.array(model_1.predict(y_test)[0])\n",
        "\n",
        "print(\"sample pulse created: \", x_test)\n",
        "print(\"ANN reconstructed:    \", x_test_pred)"
      ],
      "execution_count": 30,
      "outputs": [
        {
          "output_type": "stream",
          "name": "stdout",
          "text": [
            "sample pulse created:  [25 16 91]\n",
            "ANN reconstructed:     [19.472816 24.058773 84.35827 ]\n"
          ]
        }
      ]
    },
    {
      "cell_type": "markdown",
      "source": [
        "## Have a look at the reconstructed parameters\n",
        "\n",
        "Get some random pulses, and have a look how they are reconstructed by the network.\n"
      ],
      "metadata": {
        "id": "A0DU0ZLx59Z8"
      }
    },
    {
      "cell_type": "code",
      "source": [
        "# number of test waveforms\n",
        "TEST_SAMPLES = 1000"
      ],
      "metadata": {
        "id": "BDet8lS36gIz"
      },
      "execution_count": 18,
      "outputs": []
    },
    {
      "cell_type": "code",
      "source": [
        "waveforms = []        # generated waveforms\n",
        "orig_parameters = []  # parameters, which are used for the generation\n",
        "NN_parameters = []    # parameters, reconstructed by the NN\n",
        "\n",
        "# vary the parameters to have a look a the performance outside the trained \n",
        "# parameter boundaries.\n",
        "parameter_variation = 0.1\n",
        "\n",
        "# increase the range of parameters in order to see, what is happening\n",
        "T_width    = ( P_width[0]    * (1 - parameter_variation) , P_width[1]    * (1 + parameter_variation) )\n",
        "T_position = ( P_position[0] * (1 - parameter_variation) , P_position[1] * (1 + parameter_variation) )\n",
        "T_height   = ( P_height[0]   * (1 - parameter_variation) , P_height[1]   * (1 + parameter_variation) )\n",
        "\n",
        "# generate the waveforms\n",
        "for i in range(TEST_SAMPLES):\n",
        "  # use random settings\n",
        "  width = np.random.randint( *T_width )\n",
        "  position = np.random.randint( *T_position )\n",
        "  height = np.random.randint( *T_height )\n",
        "\n",
        "  orig_parameters.append( (width, position, height) )\n",
        "  waveforms.append( np.array(generateTemplate(position = position, pulse_length = width, height=height, noise=noise) ) )"
      ],
      "metadata": {
        "id": "qvu48FbE6UTm"
      },
      "execution_count": 42,
      "outputs": []
    },
    {
      "cell_type": "code",
      "source": [
        "for i in range(TEST_SAMPLES):\n",
        "  # waveform needs to be reshaped to be fed into ANN\n",
        "  waveform = waveforms[i].reshape(1,128)\n",
        "  NN_parameters.append( np.array( model_1.predict(waveform)[0]) )\n"
      ],
      "metadata": {
        "id": "IXDLAkyy6lrh"
      },
      "execution_count": 43,
      "outputs": []
    },
    {
      "cell_type": "markdown",
      "source": [
        "Plot the distributions"
      ],
      "metadata": {
        "id": "GI7iIFsN7LMw"
      }
    },
    {
      "cell_type": "code",
      "source": [
        "plot_x = [k[0] for k in orig_parameters]\n",
        "plot_y = [k[0] for k in NN_parameters]\n",
        "plt.hist2d(plot_x, plot_y, bins=32, norm=LogNorm())\n",
        "plt.vlines(np.array(P_width),ymin=0, ymax=100)\n",
        "plt.plot( [np.min(plot_x), np.max(plot_x)], [np.min(plot_x), np.max(plot_x)])\n",
        "plt.title(\"width\")\n",
        "plt.ylabel(\"NN parameter\")\n",
        "plt.xlabel(\"truth parameter\")\n",
        "plt.show()"
      ],
      "metadata": {
        "colab": {
          "base_uri": "https://localhost:8080/",
          "height": 295
        },
        "id": "4abhDols7ORo",
        "outputId": "c5d03665-70e1-445f-b076-c417c6cf6a0a"
      },
      "execution_count": 44,
      "outputs": [
        {
          "output_type": "display_data",
          "data": {
            "image/png": "[encoded data removed]",
            "text/plain": [
              "<Figure size 432x288 with 1 Axes>"
            ]
          },
          "metadata": {
            "needs_background": "light"
          }
        }
      ]
    },
    {
      "cell_type": "code",
      "source": [
        "plot_x = [k[1] for k in orig_parameters]\n",
        "plot_y = [k[1] for k in NN_parameters]\n",
        "plt.hist2d(plot_x, plot_y, bins=32, norm=LogNorm())\n",
        "plt.vlines(np.array(P_position),ymin=0, ymax=100)\n",
        "plt.plot( [np.min(plot_x), np.max(plot_x)], [np.min(plot_x), np.max(plot_x)])\n",
        "plt.title(\"postition\")\n",
        "plt.ylabel(\"NN parameter\")\n",
        "plt.xlabel(\"truth parameter\")\n",
        "plt.show()"
      ],
      "metadata": {
        "colab": {
          "base_uri": "https://localhost:8080/",
          "height": 295
        },
        "id": "ql9DsEfg72Px",
        "outputId": "4037da99-97f4-420b-8b02-a2425b379b55"
      },
      "execution_count": 45,
      "outputs": [
        {
          "output_type": "display_data",
          "data": {
            "image/png": "[encoded data removed]",
            "text/plain": [
              "<Figure size 432x288 with 1 Axes>"
            ]
          },
          "metadata": {
            "needs_background": "light"
          }
        }
      ]
    },
    {
      "cell_type": "code",
      "source": [
        "plot_x = [k[2] for k in orig_parameters]\n",
        "plot_y = [k[2] for k in NN_parameters]\n",
        "plt.hist2d(plot_x, plot_y, bins=32, norm=LogNorm())\n",
        "plt.vlines(np.array(P_height),ymin=0, ymax=1000)\n",
        "plt.plot( [np.min(plot_x), np.max(plot_x)], [np.min(plot_x), np.max(plot_x)])\n",
        "plt.title(\"height\")\n",
        "plt.ylabel(\"NN parameter\")\n",
        "plt.xlabel(\"truth parameter\")\n",
        "plt.show()"
      ],
      "metadata": {
        "colab": {
          "base_uri": "https://localhost:8080/",
          "height": 295
        },
        "id": "4Co7DGIk740X",
        "outputId": "5ed09e6f-f9e3-4314-eae6-63f4543cdd4d"
      },
      "execution_count": 46,
      "outputs": [
        {
          "output_type": "display_data",
          "data": {
            "image/png": "[encoded data removed]",
            "text/plain": [
              "<Figure size 432x288 with 1 Axes>"
            ]
          },
          "metadata": {
            "needs_background": "light"
          }
        }
      ]
    },
    {
      "cell_type": "markdown",
      "source": [
        "# Export to STM32"
      ],
      "metadata": {
        "id": "rB2GEVaYSFSn"
      }
    },
    {
      "cell_type": "markdown",
      "source": [
        "following:\n",
        "This [tutorial](https://www.digikey.de/en/maker/projects/tinyml-getting-started-with-stm32-x-cube-ai/f94e1c8bfc1e4b6291d0f672d780d2c0) from DigiKey "
      ],
      "metadata": {
        "id": "NMQ5nDGrXHo_"
      }
    },
    {
      "cell_type": "code",
      "source": [
        "# settings\n",
        "tflite_model_name = 'pulse_reco'  # Will be given .tflite suffix\n",
        "c_model_name = 'pulse_reco'       # Will be given .h suffix"
      ],
      "metadata": {
        "id": "aL0G5NQ8YULj"
      },
      "execution_count": 34,
      "outputs": []
    },
    {
      "cell_type": "code",
      "source": [
        "# Convert Keras model to a tflite model\n",
        "converter = tf.lite.TFLiteConverter.from_keras_model(model_1)\n",
        "converter.optimizations = [tf.lite.Optimize.DEFAULT]  # option OPTIMIZE_FOR_SIZE is deprecated\n",
        "tflite_model = converter.convert()\n",
        "\n",
        "open(tflite_model_name+'.tflite', 'wb').write(tflite_model)"
      ],
      "metadata": {
        "colab": {
          "base_uri": "https://localhost:8080/"
        },
        "id": "aRqSNF9LXy-4",
        "outputId": "ff8187ac-400d-478a-efd1-0e7fc3f87753"
      },
      "execution_count": 35,
      "outputs": [
        {
          "output_type": "stream",
          "name": "stdout",
          "text": [
            "INFO:tensorflow:Assets written to: /tmp/tmprjunqnhv/assets\n"
          ]
        },
        {
          "output_type": "stream",
          "name": "stderr",
          "text": [
            "INFO:tensorflow:Assets written to: /tmp/tmprjunqnhv/assets\n",
            "WARNING:absl:Buffer deduplication procedure will be skipped when flatbuffer library is not properly loaded\n"
          ]
        },
        {
          "output_type": "execute_result",
          "data": {
            "text/plain": [
              "13840"
            ]
          },
          "metadata": {},
          "execution_count": 35
        }
      ]
    },
    {
      "cell_type": "markdown",
      "source": [
        "For usage inside the [STM32Cube.AI](https://www.st.com/content/st_com/en/support/learning/stm32-education/stm32-moocs/Introduction_to_STM32CubeAI_MOOC.html) it is sufficient to just have the tensorflow light model. The special export seems not be needed."
      ],
      "metadata": {
        "id": "oF93jw-v-FMP"
      }
    },
    {
      "cell_type": "markdown",
      "source": [
        "We have to define a special function, which exports our data into a H-file, which can be later used and included into our microcontroller code.\n",
        "\n",
        "The function is from https://gist.github.com/ShawnHymel/79237fe6aee5a3653c497d879f746c0c"
      ],
      "metadata": {
        "id": "tQG-2XJIZkFU"
      }
    }
  ]
}